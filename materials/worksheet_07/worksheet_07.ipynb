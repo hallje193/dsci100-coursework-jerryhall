{
 "cells": [
  {
   "cell_type": "markdown",
   "metadata": {
    "deletable": false,
    "editable": false,
    "nbgrader": {
     "cell_type": "markdown",
     "checksum": "174dab5048003daaa8552123bbacf373",
     "grade": false,
     "grade_id": "cell-83e402ae256bacca",
     "locked": true,
     "schema_version": 3,
     "solution": false
    }
   },
   "source": [
    "# Worksheet 7 - Classification (Part II)\n",
    "\n",
    "### Lecture and Tutorial Learning Goals:\n",
    "\n",
    "After completing this week's lecture and tutorial work, you will be able to:\n",
    "\n",
    "* Describe what a test data set is and how it is used in classification.\n",
    "* Using R, evaluate classification accuracy using a test data set and appropriate metrics.\n",
    "* Using R, execute cross validation in R to choose the number of neighbours.\n",
    "* Identify when it is necessary to scale variables before classification and do this using R\n",
    "* In a dataset with > 2 attributes, perform k-nearest neighbour classification in R using the `caret` package to predict the class of a test dataset.\n",
    "* Describe advantages and disadvantages of the k-nearest neighbour classification algorithm.\n",
    "\n",
    "This worksheet covers parts of [Chapter 7](https://ubc-dsci.github.io/introduction-to-datascience/classification-continued.html) of the online textbook. You should read this chapter before attempting the worksheet."
   ]
  },
  {
   "cell_type": "code",
   "execution_count": 1,
   "metadata": {
    "deletable": false,
    "editable": false,
    "nbgrader": {
     "cell_type": "code",
     "checksum": "e3d022c55af07cd9157f29a99728bdb0",
     "grade": false,
     "grade_id": "cell-e3518ed3d64fb67c",
     "locked": true,
     "schema_version": 3,
     "solution": false
    }
   },
   "outputs": [
    {
     "name": "stderr",
     "output_type": "stream",
     "text": [
      "── \u001b[1mAttaching packages\u001b[22m ─────────────────────────────────────── tidyverse 1.2.1 ──\n",
      "\u001b[32m✔\u001b[39m \u001b[34mggplot2\u001b[39m 3.2.0     \u001b[32m✔\u001b[39m \u001b[34mpurrr  \u001b[39m 0.3.2\n",
      "\u001b[32m✔\u001b[39m \u001b[34mtibble \u001b[39m 2.1.3     \u001b[32m✔\u001b[39m \u001b[34mdplyr  \u001b[39m 0.8.3\n",
      "\u001b[32m✔\u001b[39m \u001b[34mtidyr  \u001b[39m 0.8.3     \u001b[32m✔\u001b[39m \u001b[34mstringr\u001b[39m 1.4.0\n",
      "\u001b[32m✔\u001b[39m \u001b[34mreadr  \u001b[39m 1.3.1     \u001b[32m✔\u001b[39m \u001b[34mforcats\u001b[39m 0.4.0\n",
      "── \u001b[1mConflicts\u001b[22m ────────────────────────────────────────── tidyverse_conflicts() ──\n",
      "\u001b[31m✖\u001b[39m \u001b[34mdplyr\u001b[39m::\u001b[32mfilter()\u001b[39m masks \u001b[34mstats\u001b[39m::filter()\n",
      "\u001b[31m✖\u001b[39m \u001b[34mdplyr\u001b[39m::\u001b[32mlag()\u001b[39m    masks \u001b[34mstats\u001b[39m::lag()\n",
      "Loading required package: lattice\n",
      "\n",
      "Attaching package: ‘caret’\n",
      "\n",
      "The following object is masked from ‘package:purrr’:\n",
      "\n",
      "    lift\n",
      "\n",
      "\n",
      "Attaching package: ‘testthat’\n",
      "\n",
      "The following object is masked from ‘package:dplyr’:\n",
      "\n",
      "    matches\n",
      "\n",
      "The following object is masked from ‘package:purrr’:\n",
      "\n",
      "    is_null\n",
      "\n"
     ]
    }
   ],
   "source": [
    "### Run this cell before continuing.\n",
    "library(tidyverse)\n",
    "library(repr)\n",
    "library(caret)\n",
    "source('tests_worksheet_07.R')\n",
    "source('cleanup_worksheet_07.R')"
   ]
  },
  {
   "cell_type": "markdown",
   "metadata": {
    "deletable": false,
    "editable": false,
    "nbgrader": {
     "cell_type": "markdown",
     "checksum": "fdc78b8e57c9b0984f751786582c2e43",
     "grade": false,
     "grade_id": "cell-0fb0bdb9af0312bf",
     "locked": true,
     "schema_version": 3,
     "solution": false
    }
   },
   "source": [
    "**Question 0.1** Multiple Choice: \n",
    "<br> {points: 1}\n",
    "\n",
    "Before applying k-nearest neighbour to a classification task, we need to scale the data. What is the purpose of this step?\n",
    "\n",
    "A. To help speed up the knn algorithm. \n",
    "\n",
    "B. To convert all data observations to numeric values. \n",
    "\n",
    "C. To ensure all data observations will be on a comparable scale and contribute equal shares to the calculation of the distance between points.\n",
    "\n",
    "D. None of the above. \n",
    "\n",
    "*Assign your answer to an object called `answer1`.*\n",
    "\n",
    "*Note: we typically **standardize** (i.e., scale **and** center) the data before doing classification. For the K-nearest neighbour algorithm specifically, centering has no effect. But it doesn't hurt, and can help with other predictive data analyses, so we will do it below.*"
   ]
  },
  {
   "cell_type": "code",
   "execution_count": 2,
   "metadata": {
    "deletable": false,
    "nbgrader": {
     "cell_type": "code",
     "checksum": "e88ff57313d1f22413f0bb60a6a466f3",
     "grade": false,
     "grade_id": "cell-a501b73cef660bd5",
     "locked": false,
     "schema_version": 3,
     "solution": true
    }
   },
   "outputs": [],
   "source": [
    "# Make sure the correct answer is an uppercase letter. \n",
    "# Surround your answer with quotation marks.\n",
    "# Replace the fail() with your answer. \n",
    "\n",
    "# your code here\n",
    "answer1 = 'C'"
   ]
  },
  {
   "cell_type": "code",
   "execution_count": 3,
   "metadata": {
    "deletable": false,
    "editable": false,
    "nbgrader": {
     "cell_type": "code",
     "checksum": "8c63046c5b4e0d327aaa74ee2ac094a6",
     "grade": true,
     "grade_id": "cell-2c64255ed0923c6b",
     "locked": true,
     "points": 1,
     "schema_version": 3,
     "solution": false
    }
   },
   "outputs": [
    {
     "name": "stdout",
     "output_type": "stream",
     "text": [
      "[1] \"Success!\"\n"
     ]
    }
   ],
   "source": [
    "test_0.1()"
   ]
  },
  {
   "cell_type": "markdown",
   "metadata": {
    "deletable": false,
    "editable": false,
    "nbgrader": {
     "cell_type": "markdown",
     "checksum": "3ca3268af29f3dccea6fe4adc987d76e",
     "grade": false,
     "grade_id": "cell-fc56755477cbb261",
     "locked": true,
     "schema_version": 3,
     "solution": false
    }
   },
   "source": [
    "## 1. Fruit Data Example - (Part II)\n",
    "**Question 1.0** Multiple Choice: \n",
    "<br> {points: 1}\n",
    "\n",
    "Load the file, `fruit_data.csv`, into your notebook. \n",
    "\n",
    "`mutate()` the `fruit_name` column such that it is a *factor*.\n",
    "\n",
    "*Assign your data to an object called `fruit_data`.*"
   ]
  },
  {
   "cell_type": "code",
   "execution_count": 4,
   "metadata": {
    "deletable": false,
    "nbgrader": {
     "cell_type": "code",
     "checksum": "291a5acd86a975f08960c0b41a55dbb1",
     "grade": false,
     "grade_id": "cell-257bbc9d90d8b32a",
     "locked": false,
     "schema_version": 3,
     "solution": true
    }
   },
   "outputs": [
    {
     "name": "stderr",
     "output_type": "stream",
     "text": [
      "Parsed with column specification:\n",
      "cols(\n",
      "  fruit_label = \u001b[32mcol_double()\u001b[39m,\n",
      "  fruit_name = \u001b[31mcol_character()\u001b[39m,\n",
      "  fruit_subtype = \u001b[31mcol_character()\u001b[39m,\n",
      "  mass = \u001b[32mcol_double()\u001b[39m,\n",
      "  width = \u001b[32mcol_double()\u001b[39m,\n",
      "  height = \u001b[32mcol_double()\u001b[39m,\n",
      "  color_score = \u001b[32mcol_double()\u001b[39m\n",
      ")\n"
     ]
    }
   ],
   "source": [
    "# your code here\n",
    "fruit_data=read_csv('data/fruit_data.csv') %>%\n",
    "mutate(fruit_name=as.factor(fruit_name))"
   ]
  },
  {
   "cell_type": "code",
   "execution_count": 5,
   "metadata": {
    "deletable": false,
    "editable": false,
    "nbgrader": {
     "cell_type": "code",
     "checksum": "ca55d5b0f031911d29c6089fd670673b",
     "grade": true,
     "grade_id": "cell-71318577d0ae22b9",
     "locked": true,
     "points": 1,
     "schema_version": 3,
     "solution": false
    }
   },
   "outputs": [
    {
     "name": "stdout",
     "output_type": "stream",
     "text": [
      "[1] \"Success!\"\n"
     ]
    }
   ],
   "source": [
    "test_1.0()"
   ]
  },
  {
   "cell_type": "markdown",
   "metadata": {
    "deletable": false,
    "editable": false,
    "nbgrader": {
     "cell_type": "markdown",
     "checksum": "31e8df1e0f887a8ee34964e93c45e818",
     "grade": false,
     "grade_id": "cell-5c01c2cd0cc285f8",
     "locked": true,
     "schema_version": 3,
     "solution": false
    }
   },
   "source": [
    "Let's take a look at the first six observations in the fruit dataset. Run the cell below."
   ]
  },
  {
   "cell_type": "code",
   "execution_count": 6,
   "metadata": {
    "deletable": false,
    "editable": false,
    "nbgrader": {
     "cell_type": "code",
     "checksum": "5cf4958b9048ed412e249f66db6ffded",
     "grade": false,
     "grade_id": "cell-b6cb1a6b0890e9e9",
     "locked": true,
     "schema_version": 3,
     "solution": false
    }
   },
   "outputs": [
    {
     "data": {
      "text/html": [
       "<table>\n",
       "<caption>A tibble: 6 × 7</caption>\n",
       "<thead>\n",
       "\t<tr><th scope=col>fruit_label</th><th scope=col>fruit_name</th><th scope=col>fruit_subtype</th><th scope=col>mass</th><th scope=col>width</th><th scope=col>height</th><th scope=col>color_score</th></tr>\n",
       "\t<tr><th scope=col>&lt;dbl&gt;</th><th scope=col>&lt;fct&gt;</th><th scope=col>&lt;chr&gt;</th><th scope=col>&lt;dbl&gt;</th><th scope=col>&lt;dbl&gt;</th><th scope=col>&lt;dbl&gt;</th><th scope=col>&lt;dbl&gt;</th></tr>\n",
       "</thead>\n",
       "<tbody>\n",
       "\t<tr><td>1</td><td>apple   </td><td>granny_smith</td><td>192</td><td>8.4</td><td>7.3</td><td>0.55</td></tr>\n",
       "\t<tr><td>1</td><td>apple   </td><td>granny_smith</td><td>180</td><td>8.0</td><td>6.8</td><td>0.59</td></tr>\n",
       "\t<tr><td>1</td><td>apple   </td><td>granny_smith</td><td>176</td><td>7.4</td><td>7.2</td><td>0.60</td></tr>\n",
       "\t<tr><td>2</td><td>mandarin</td><td>mandarin    </td><td> 86</td><td>6.2</td><td>4.7</td><td>0.80</td></tr>\n",
       "\t<tr><td>2</td><td>mandarin</td><td>mandarin    </td><td> 84</td><td>6.0</td><td>4.6</td><td>0.79</td></tr>\n",
       "\t<tr><td>2</td><td>mandarin</td><td>mandarin    </td><td> 80</td><td>5.8</td><td>4.3</td><td>0.77</td></tr>\n",
       "</tbody>\n",
       "</table>\n"
      ],
      "text/latex": [
       "A tibble: 6 × 7\n",
       "\\begin{tabular}{r|lllllll}\n",
       " fruit\\_label & fruit\\_name & fruit\\_subtype & mass & width & height & color\\_score\\\\\n",
       " <dbl> & <fct> & <chr> & <dbl> & <dbl> & <dbl> & <dbl>\\\\\n",
       "\\hline\n",
       "\t 1 & apple    & granny\\_smith & 192 & 8.4 & 7.3 & 0.55\\\\\n",
       "\t 1 & apple    & granny\\_smith & 180 & 8.0 & 6.8 & 0.59\\\\\n",
       "\t 1 & apple    & granny\\_smith & 176 & 7.4 & 7.2 & 0.60\\\\\n",
       "\t 2 & mandarin & mandarin     &  86 & 6.2 & 4.7 & 0.80\\\\\n",
       "\t 2 & mandarin & mandarin     &  84 & 6.0 & 4.6 & 0.79\\\\\n",
       "\t 2 & mandarin & mandarin     &  80 & 5.8 & 4.3 & 0.77\\\\\n",
       "\\end{tabular}\n"
      ],
      "text/markdown": [
       "\n",
       "A tibble: 6 × 7\n",
       "\n",
       "| fruit_label &lt;dbl&gt; | fruit_name &lt;fct&gt; | fruit_subtype &lt;chr&gt; | mass &lt;dbl&gt; | width &lt;dbl&gt; | height &lt;dbl&gt; | color_score &lt;dbl&gt; |\n",
       "|---|---|---|---|---|---|---|\n",
       "| 1 | apple    | granny_smith | 192 | 8.4 | 7.3 | 0.55 |\n",
       "| 1 | apple    | granny_smith | 180 | 8.0 | 6.8 | 0.59 |\n",
       "| 1 | apple    | granny_smith | 176 | 7.4 | 7.2 | 0.60 |\n",
       "| 2 | mandarin | mandarin     |  86 | 6.2 | 4.7 | 0.80 |\n",
       "| 2 | mandarin | mandarin     |  84 | 6.0 | 4.6 | 0.79 |\n",
       "| 2 | mandarin | mandarin     |  80 | 5.8 | 4.3 | 0.77 |\n",
       "\n"
      ],
      "text/plain": [
       "  fruit_label fruit_name fruit_subtype mass width height color_score\n",
       "1 1           apple      granny_smith  192  8.4   7.3    0.55       \n",
       "2 1           apple      granny_smith  180  8.0   6.8    0.59       \n",
       "3 1           apple      granny_smith  176  7.4   7.2    0.60       \n",
       "4 2           mandarin   mandarin       86  6.2   4.7    0.80       \n",
       "5 2           mandarin   mandarin       84  6.0   4.6    0.79       \n",
       "6 2           mandarin   mandarin       80  5.8   4.3    0.77       "
      ]
     },
     "metadata": {},
     "output_type": "display_data"
    }
   ],
   "source": [
    "# Run this cell. \n",
    "head(fruit_data)"
   ]
  },
  {
   "cell_type": "markdown",
   "metadata": {
    "deletable": false,
    "editable": false,
    "nbgrader": {
     "cell_type": "markdown",
     "checksum": "2c4017ec3409dc1ca0c6970cca47c5a1",
     "grade": false,
     "grade_id": "cell-e5f28e3e335b44a8",
     "locked": true,
     "schema_version": 3,
     "solution": false
    }
   },
   "source": [
    "Run the cell below, and find the nearest neighbour based on mass and width to the first observation just by looking at the scatterplot (the first observation has been circled for you)."
   ]
  },
  {
   "cell_type": "code",
   "execution_count": 7,
   "metadata": {
    "deletable": false,
    "editable": false,
    "nbgrader": {
     "cell_type": "code",
     "checksum": "0bbd7e7052d5f2c874ec73297bcd5f06",
     "grade": false,
     "grade_id": "cell-6ec139e3cbbfbda5",
     "locked": true,
     "schema_version": 3,
     "solution": false
    }
   },
   "outputs": [
    {
     "data": {
      "image/png": "[encoded data removed]",
      "text/plain": [
       "plot without title"
      ]
     },
     "metadata": {},
     "output_type": "display_data"
    }
   ],
   "source": [
    "# Run this cell. \n",
    "options(repr.plot.width=6, repr.plot.height=4)\n",
    "point1 <- c(192, 8.4)\n",
    "point2 <- c(180, 8)\n",
    "point44 <- c(194, 7.2)\n",
    "\n",
    "fruit_data %>%  \n",
    "    ggplot(aes(x=mass, \n",
    "               y= width, \n",
    "               colour = fruit_name)) +\n",
    "        labs(x = \"Mass (grams)\",\n",
    "             y = \"Width (cm)\",\n",
    "            colour = 'Name of the Fruit') +\n",
    "        geom_point() +\n",
    "        annotate(\"path\", \n",
    "                 x=point1[1] + 5*cos(seq(0,2*pi,length.out=100)),\n",
    "                 y=point1[2] + 0.1*sin(seq(0,2*pi,length.out=100))) +\n",
    "        annotate(\"text\", x = 183, y =  8.5, label = \"1\") "
   ]
  },
  {
   "cell_type": "markdown",
   "metadata": {
    "deletable": false,
    "editable": false,
    "nbgrader": {
     "cell_type": "markdown",
     "checksum": "bcc52b66062df1320768db3277d3cf06",
     "grade": false,
     "grade_id": "cell-f547ed9293fd1e24",
     "locked": true,
     "schema_version": 3,
     "solution": false
    }
   },
   "source": [
    "**Question 1.1** Multiple Choice: \n",
    "<br> {points: 1}\n",
    "\n",
    "Based on the graph generated, what is `fruit_name` of the closest data point to the one circled?\n",
    "\n",
    "A. apple\n",
    "\n",
    "B. lemon\n",
    "\n",
    "C. mandarin \n",
    "\n",
    "D. orange\n",
    "\n",
    "*Assign your answer to an object called `answer1.1`.*"
   ]
  },
  {
   "cell_type": "code",
   "execution_count": 8,
   "metadata": {
    "deletable": false,
    "nbgrader": {
     "cell_type": "code",
     "checksum": "c59cbab25db66fe13034e80f4f850e7c",
     "grade": false,
     "grade_id": "cell-d400d1783f3c27d1",
     "locked": false,
     "schema_version": 3,
     "solution": true
    }
   },
   "outputs": [],
   "source": [
    "# Make sure the correct answer is an uppercase letter. \n",
    "# Surround your answer with quotation marks.\n",
    "# Replace the fail() with your answer. \n",
    "\n",
    "# your code here\n",
    "answer1.1='A'"
   ]
  },
  {
   "cell_type": "code",
   "execution_count": 9,
   "metadata": {
    "deletable": false,
    "editable": false,
    "nbgrader": {
     "cell_type": "code",
     "checksum": "0596dfa1ced4487b2206ee4cc9540206",
     "grade": true,
     "grade_id": "cell-77e2fb5f0d68eadd",
     "locked": true,
     "points": 1,
     "schema_version": 3,
     "solution": false
    }
   },
   "outputs": [
    {
     "name": "stdout",
     "output_type": "stream",
     "text": [
      "[1] \"Success!\"\n"
     ]
    }
   ],
   "source": [
    "test_1.1()"
   ]
  },
  {
   "cell_type": "markdown",
   "metadata": {
    "deletable": false,
    "editable": false,
    "nbgrader": {
     "cell_type": "markdown",
     "checksum": "3b1f1485096a8ed39b1206366a94cf78",
     "grade": false,
     "grade_id": "cell-b75477de51f54fd0",
     "locked": true,
     "schema_version": 3,
     "solution": false
    }
   },
   "source": [
    "**Question 1.2**\n",
    "<br> {points: 1}\n",
    "\n",
    "Using mass and width, calculate the distance between the first observation and the second observation. \n",
    "\n",
    "We provide a scaffolding to get you started. \n",
    "\n",
    "*Assign your answer to an object called `fruit_dist_2`.*"
   ]
  },
  {
   "cell_type": "code",
   "execution_count": 10,
   "metadata": {
    "deletable": false,
    "nbgrader": {
     "cell_type": "code",
     "checksum": "50b4e4fa19d5302eec9656faae46ef1f",
     "grade": false,
     "grade_id": "cell-9f9074c18131c083",
     "locked": false,
     "schema_version": 3,
     "solution": true
    }
   },
   "outputs": [
    {
     "data": {
      "text/plain": [
       "         1\n",
       "2 12.00666"
      ]
     },
     "metadata": {},
     "output_type": "display_data"
    }
   ],
   "source": [
    "fruit_dist_2 <- fruit_data %>%\n",
    "   slice(1, 2) %>% # We use slice to get the first two rows of the fruit dataset\n",
    "   select(mass, width) %>%\n",
    "   dist()\n",
    "fruit_dist_2\n",
    "\n",
    "# your code here\n",
    "# fail() # No Answer - remove if you provide an answer"
   ]
  },
  {
   "cell_type": "code",
   "execution_count": 11,
   "metadata": {
    "deletable": false,
    "editable": false,
    "nbgrader": {
     "cell_type": "code",
     "checksum": "5c9b9fd4dad4fd9c225708a572aedee0",
     "grade": true,
     "grade_id": "cell-482c6171cb7cc18e",
     "locked": true,
     "points": 1,
     "schema_version": 3,
     "solution": false
    }
   },
   "outputs": [
    {
     "name": "stdout",
     "output_type": "stream",
     "text": [
      "[1] \"Success!\"\n"
     ]
    }
   ],
   "source": [
    "test_1.2()"
   ]
  },
  {
   "cell_type": "markdown",
   "metadata": {
    "deletable": false,
    "editable": false,
    "nbgrader": {
     "cell_type": "markdown",
     "checksum": "52ef5138c0c3b79bdc9053f826d13f3d",
     "grade": false,
     "grade_id": "cell-9545195608452133",
     "locked": true,
     "schema_version": 3,
     "solution": false
    }
   },
   "source": [
    "**Question 1.3**\n",
    "<br> {points: 1}\n",
    "\n",
    "Calculate the distance between the first and the the 44th observation in the fruit dataset using the mass and width variables. \n",
    "\n",
    "You can see from the data frame output from the cell below that, observation 44 has mass = 194 g and width = 7.2 cm.\n",
    "\n",
    "*Assign your answer to an object called `fruit_dist_44`.*"
   ]
  },
  {
   "cell_type": "code",
   "execution_count": 12,
   "metadata": {
    "deletable": false,
    "editable": false,
    "nbgrader": {
     "cell_type": "code",
     "checksum": "8d396bccdd2f25f3f0740558115b8c2b",
     "grade": false,
     "grade_id": "cell-f11023e6386b3027",
     "locked": true,
     "schema_version": 3,
     "solution": false
    }
   },
   "outputs": [
    {
     "data": {
      "text/html": [
       "<table>\n",
       "<caption>A spec_tbl_df: 1 × 7</caption>\n",
       "<thead>\n",
       "\t<tr><th scope=col>fruit_label</th><th scope=col>fruit_name</th><th scope=col>fruit_subtype</th><th scope=col>mass</th><th scope=col>width</th><th scope=col>height</th><th scope=col>color_score</th></tr>\n",
       "\t<tr><th scope=col>&lt;dbl&gt;</th><th scope=col>&lt;fct&gt;</th><th scope=col>&lt;chr&gt;</th><th scope=col>&lt;dbl&gt;</th><th scope=col>&lt;dbl&gt;</th><th scope=col>&lt;dbl&gt;</th><th scope=col>&lt;dbl&gt;</th></tr>\n",
       "</thead>\n",
       "<tbody>\n",
       "\t<tr><td>4</td><td>lemon</td><td>spanish_belsan</td><td>194</td><td>7.2</td><td>10.3</td><td>0.7</td></tr>\n",
       "</tbody>\n",
       "</table>\n"
      ],
      "text/latex": [
       "A spec_tbl_df: 1 × 7\n",
       "\\begin{tabular}{r|lllllll}\n",
       " fruit\\_label & fruit\\_name & fruit\\_subtype & mass & width & height & color\\_score\\\\\n",
       " <dbl> & <fct> & <chr> & <dbl> & <dbl> & <dbl> & <dbl>\\\\\n",
       "\\hline\n",
       "\t 4 & lemon & spanish\\_belsan & 194 & 7.2 & 10.3 & 0.7\\\\\n",
       "\\end{tabular}\n"
      ],
      "text/markdown": [
       "\n",
       "A spec_tbl_df: 1 × 7\n",
       "\n",
       "| fruit_label &lt;dbl&gt; | fruit_name &lt;fct&gt; | fruit_subtype &lt;chr&gt; | mass &lt;dbl&gt; | width &lt;dbl&gt; | height &lt;dbl&gt; | color_score &lt;dbl&gt; |\n",
       "|---|---|---|---|---|---|---|\n",
       "| 4 | lemon | spanish_belsan | 194 | 7.2 | 10.3 | 0.7 |\n",
       "\n"
      ],
      "text/plain": [
       "  fruit_label fruit_name fruit_subtype  mass width height color_score\n",
       "1 4           lemon      spanish_belsan 194  7.2   10.3   0.7        "
      ]
     },
     "metadata": {},
     "output_type": "display_data"
    },
    {
     "data": {
      "image/png": "[encoded data removed]",
      "text/plain": [
       "plot without title"
      ]
     },
     "metadata": {},
     "output_type": "display_data"
    }
   ],
   "source": [
    "# Run this cell. \n",
    "\n",
    "filter(fruit_data, row_number() == 44)\n",
    "\n",
    "point1 <- c(192, 8.4)\n",
    "point2 <- c(180, 8)\n",
    "point44 <- c(194, 7.2)\n",
    "\n",
    "fruit_data %>%\n",
    "    ggplot(aes(x = mass, \n",
    "               y = width, \n",
    "               colour = fruit_name)) +\n",
    "        labs(x = \"Mass (grams)\",\n",
    "             y = \"Width (cm)\",\n",
    "            colour = 'Name of the Fruit') +\n",
    "        geom_point() +\n",
    "        annotate(\"path\", \n",
    "                 x=point1[1] + 5*cos(seq(0,2*pi,length.out=100)),\n",
    "                 y=point1[2] + 0.1*sin(seq(0,2*pi,length.out=100))) +\n",
    "        annotate(\"text\", x = 183, y =  8.5, label = \"1\") +\n",
    "        annotate(\"path\",\n",
    "                 x=point2[1] + 5*cos(seq(0,2*pi,length.out=100)),\n",
    "                 y=point2[2] + 0.1*sin(seq(0,2*pi,length.out=100))) +\n",
    "        annotate(\"text\", x = 169, y =  8.1, label = \"2\") +\n",
    "        annotate(\"path\",\n",
    "                 x=point44[1] + 5*cos(seq(0,2*pi,length.out=100)),\n",
    "                 y=point44[2]+0.1*sin(seq(0,2*pi,length.out=100))) +\n",
    "        annotate(\"text\", x = 204, y =  7.1, label = \"44\") "
   ]
  },
  {
   "cell_type": "code",
   "execution_count": 13,
   "metadata": {
    "deletable": false,
    "nbgrader": {
     "cell_type": "code",
     "checksum": "9bdc6f9caba04278b610786858ffc8f7",
     "grade": false,
     "grade_id": "cell-033f74d28e3cc01f",
     "locked": false,
     "schema_version": 3,
     "solution": true
    }
   },
   "outputs": [
    {
     "data": {
      "text/plain": [
       "         1\n",
       "2 2.332381"
      ]
     },
     "metadata": {},
     "output_type": "display_data"
    }
   ],
   "source": [
    "# your code here\n",
    "fruit_dist_44=fruit_data %>%\n",
    "    slice(1,44) %>%\n",
    "    select(mass, width) %>%\n",
    "    dist()\n",
    "fruit_dist_44"
   ]
  },
  {
   "cell_type": "code",
   "execution_count": 14,
   "metadata": {
    "deletable": false,
    "editable": false,
    "nbgrader": {
     "cell_type": "code",
     "checksum": "f8004434dd81c3d7111e95e7d0214e9d",
     "grade": true,
     "grade_id": "cell-3c7393c1ea156920",
     "locked": true,
     "points": 1,
     "schema_version": 3,
     "solution": false
    }
   },
   "outputs": [
    {
     "name": "stdout",
     "output_type": "stream",
     "text": [
      "[1] \"Success!\"\n"
     ]
    }
   ],
   "source": [
    "test_1.3()"
   ]
  },
  {
   "cell_type": "markdown",
   "metadata": {
    "deletable": false,
    "editable": false,
    "nbgrader": {
     "cell_type": "markdown",
     "checksum": "344a34e903ff5696d25b5e7b93373a98",
     "grade": false,
     "grade_id": "cell-e6f7e928ee6f578a",
     "locked": true,
     "schema_version": 3,
     "solution": false,
     "task": false
    }
   },
   "source": [
    "What do you notice about your answers from **Question 1.2 & 1.3** that you just calculated? Is it what you would expect given the scatter plot above? Why or why not? Discuss with your neighbour. \n",
    "\n",
    "*Hint: Look at where the observations are on the scatterplot in the cell above this question, and what might happen if we changed grams into kilograms to measure the mass?*\n"
   ]
  },
  {
   "cell_type": "markdown",
   "metadata": {
    "deletable": false,
    "editable": false,
    "nbgrader": {
     "cell_type": "markdown",
     "checksum": "125a886b3a4a591ff3b2955cc55ed96b",
     "grade": false,
     "grade_id": "cell-8a6b2cef00422867",
     "locked": true,
     "schema_version": 3,
     "solution": false,
     "task": false
    }
   },
   "source": [
    "**Question 1.4** \n",
    "<br> {points: 1}\n",
    "\n",
    "The distance between the first and second observation is 12.01 and the distance between the first and 44th observation is 2.33. By the formula, observation 1 and 44 are closer, however, if we look at the scatterplot the distance of the first observation to the second observation appears closer than to the 44th observation. \n",
    "\n",
    "Which of the following statements is correct?\n",
    "\n",
    "A. A difference of 12 g in mass between observation 1 and 2 is large compared to a difference of 1.2 cm in width between observation 1 and 44. Consequently, mass will drive the classification results, and width will have less of an effect. Hence, our distance calculation reflects that.\n",
    "\n",
    "B. If we measured mass in kilograms, then we’d get different classification results. \n",
    "\n",
    "C. We should standardize the data so that all variables will be on a comparable scale. \n",
    "\n",
    "D. All of the above. \n",
    "\n",
    "*Assign your answer to an object called `answer1.4`.*"
   ]
  },
  {
   "cell_type": "code",
   "execution_count": 15,
   "metadata": {
    "deletable": false,
    "nbgrader": {
     "cell_type": "code",
     "checksum": "b8b69b8cf3cd1169afa42fbb42b38cdf",
     "grade": false,
     "grade_id": "cell-f3e2ef9e64e39b31",
     "locked": false,
     "schema_version": 3,
     "solution": true,
     "task": false
    }
   },
   "outputs": [],
   "source": [
    "# Make sure the correct answer is an uppercase letter. \n",
    "# Surround your answer with quotation marks.\n",
    "# Replace the fail() with your answer. \n",
    "\n",
    "# your code here\n",
    "answer1.4='D'"
   ]
  },
  {
   "cell_type": "code",
   "execution_count": 16,
   "metadata": {
    "deletable": false,
    "editable": false,
    "nbgrader": {
     "cell_type": "code",
     "checksum": "bb7525296c667a4bb96b4212e64b16a0",
     "grade": true,
     "grade_id": "cell-3fc3cbcfc9af77d2",
     "locked": true,
     "points": 1,
     "schema_version": 3,
     "solution": false,
     "task": false
    }
   },
   "outputs": [
    {
     "name": "stdout",
     "output_type": "stream",
     "text": [
      "[1] \"Success!\"\n"
     ]
    }
   ],
   "source": [
    "test_1.4()"
   ]
  },
  {
   "cell_type": "markdown",
   "metadata": {
    "deletable": false,
    "editable": false,
    "nbgrader": {
     "cell_type": "markdown",
     "checksum": "80e95867a3fb1248d90b6ee676ec7abe",
     "grade": false,
     "grade_id": "cell-28a929022410e3d9",
     "locked": true,
     "schema_version": 3,
     "solution": false
    }
   },
   "source": [
    "**Question 1.5**\n",
    "<br> {points: 1}\n",
    "\n",
    "Scale all the variables of the fruit dataset and save them as columns in your data table. \n",
    "\n",
    "Save the dataset object and call it `fruit_data_scaled`. Make sure to name the new columns `scaled_*` where `*` is the old column name (e.g. `scaled_mass`)"
   ]
  },
  {
   "cell_type": "code",
   "execution_count": 17,
   "metadata": {
    "deletable": false,
    "nbgrader": {
     "cell_type": "code",
     "checksum": "d1d1083c4a543064c72c614c6dc315e9",
     "grade": false,
     "grade_id": "cell-f5b23199250ffc04",
     "locked": false,
     "schema_version": 3,
     "solution": true
    }
   },
   "outputs": [
    {
     "data": {
      "text/html": [
       "<table>\n",
       "<caption>A tibble: 6 × 11</caption>\n",
       "<thead>\n",
       "\t<tr><th scope=col>fruit_label</th><th scope=col>fruit_name</th><th scope=col>fruit_subtype</th><th scope=col>mass</th><th scope=col>width</th><th scope=col>height</th><th scope=col>color_score</th><th scope=col>scaled_height</th><th scope=col>scaled_color_score</th><th scope=col>scaled_width</th><th scope=col>scaled_mass</th></tr>\n",
       "\t<tr><th scope=col>&lt;dbl&gt;</th><th scope=col>&lt;fct&gt;</th><th scope=col>&lt;chr&gt;</th><th scope=col>&lt;dbl&gt;</th><th scope=col>&lt;dbl&gt;</th><th scope=col>&lt;dbl&gt;</th><th scope=col>&lt;dbl&gt;</th><th scope=col>&lt;dbl[,1]&gt;</th><th scope=col>&lt;dbl[,1]&gt;</th><th scope=col>&lt;dbl[,1]&gt;</th><th scope=col>&lt;dbl[,1]&gt;</th></tr>\n",
       "</thead>\n",
       "<tbody>\n",
       "\t<tr><td>1</td><td>apple   </td><td>granny_smith</td><td>192</td><td>8.4</td><td>7.3</td><td>0.55</td><td>-0.2889166</td><td>-2.76981970</td><td> 1.5850841</td><td> 0.5249358</td></tr>\n",
       "\t<tr><td>1</td><td>apple   </td><td>granny_smith</td><td>180</td><td>8.0</td><td>6.8</td><td>0.59</td><td>-0.6562889</td><td>-2.24937587</td><td> 1.0954508</td><td> 0.3068287</td></tr>\n",
       "\t<tr><td>1</td><td>apple   </td><td>granny_smith</td><td>176</td><td>7.4</td><td>7.2</td><td>0.60</td><td>-0.3623910</td><td>-2.11926491</td><td> 0.3610008</td><td> 0.2341263</td></tr>\n",
       "\t<tr><td>2</td><td>mandarin</td><td>mandarin    </td><td> 86</td><td>6.2</td><td>4.7</td><td>0.80</td><td>-2.1992529</td><td> 0.48295423</td><td>-1.1078991</td><td>-1.4016772</td></tr>\n",
       "\t<tr><td>2</td><td>mandarin</td><td>mandarin    </td><td> 84</td><td>6.0</td><td>4.6</td><td>0.79</td><td>-2.2727273</td><td> 0.35284327</td><td>-1.3527158</td><td>-1.4380284</td></tr>\n",
       "\t<tr><td>2</td><td>mandarin</td><td>mandarin    </td><td> 80</td><td>5.8</td><td>4.3</td><td>0.77</td><td>-2.4931508</td><td> 0.09262136</td><td>-1.5975324</td><td>-1.5107308</td></tr>\n",
       "</tbody>\n",
       "</table>\n"
      ],
      "text/latex": [
       "A tibble: 6 × 11\n",
       "\\begin{tabular}{r|lllllllllll}\n",
       " fruit\\_label & fruit\\_name & fruit\\_subtype & mass & width & height & color\\_score & scaled\\_height & scaled\\_color\\_score & scaled\\_width & scaled\\_mass\\\\\n",
       " <dbl> & <fct> & <chr> & <dbl> & <dbl> & <dbl> & <dbl> & <dbl{[},1{]}> & <dbl{[},1{]}> & <dbl{[},1{]}> & <dbl{[},1{]}>\\\\\n",
       "\\hline\n",
       "\t 1 & apple    & granny\\_smith & 192 & 8.4 & 7.3 & 0.55 & -0.2889166 & -2.76981970 &  1.5850841 &  0.5249358\\\\\n",
       "\t 1 & apple    & granny\\_smith & 180 & 8.0 & 6.8 & 0.59 & -0.6562889 & -2.24937587 &  1.0954508 &  0.3068287\\\\\n",
       "\t 1 & apple    & granny\\_smith & 176 & 7.4 & 7.2 & 0.60 & -0.3623910 & -2.11926491 &  0.3610008 &  0.2341263\\\\\n",
       "\t 2 & mandarin & mandarin     &  86 & 6.2 & 4.7 & 0.80 & -2.1992529 &  0.48295423 & -1.1078991 & -1.4016772\\\\\n",
       "\t 2 & mandarin & mandarin     &  84 & 6.0 & 4.6 & 0.79 & -2.2727273 &  0.35284327 & -1.3527158 & -1.4380284\\\\\n",
       "\t 2 & mandarin & mandarin     &  80 & 5.8 & 4.3 & 0.77 & -2.4931508 &  0.09262136 & -1.5975324 & -1.5107308\\\\\n",
       "\\end{tabular}\n"
      ],
      "text/markdown": [
       "\n",
       "A tibble: 6 × 11\n",
       "\n",
       "| fruit_label &lt;dbl&gt; | fruit_name &lt;fct&gt; | fruit_subtype &lt;chr&gt; | mass &lt;dbl&gt; | width &lt;dbl&gt; | height &lt;dbl&gt; | color_score &lt;dbl&gt; | scaled_height &lt;dbl[,1]&gt; | scaled_color_score &lt;dbl[,1]&gt; | scaled_width &lt;dbl[,1]&gt; | scaled_mass &lt;dbl[,1]&gt; |\n",
       "|---|---|---|---|---|---|---|---|---|---|---|\n",
       "| 1 | apple    | granny_smith | 192 | 8.4 | 7.3 | 0.55 | -0.2889166 | -2.76981970 |  1.5850841 |  0.5249358 |\n",
       "| 1 | apple    | granny_smith | 180 | 8.0 | 6.8 | 0.59 | -0.6562889 | -2.24937587 |  1.0954508 |  0.3068287 |\n",
       "| 1 | apple    | granny_smith | 176 | 7.4 | 7.2 | 0.60 | -0.3623910 | -2.11926491 |  0.3610008 |  0.2341263 |\n",
       "| 2 | mandarin | mandarin     |  86 | 6.2 | 4.7 | 0.80 | -2.1992529 |  0.48295423 | -1.1078991 | -1.4016772 |\n",
       "| 2 | mandarin | mandarin     |  84 | 6.0 | 4.6 | 0.79 | -2.2727273 |  0.35284327 | -1.3527158 | -1.4380284 |\n",
       "| 2 | mandarin | mandarin     |  80 | 5.8 | 4.3 | 0.77 | -2.4931508 |  0.09262136 | -1.5975324 | -1.5107308 |\n",
       "\n"
      ],
      "text/plain": [
       "  fruit_label fruit_name fruit_subtype mass width height color_score\n",
       "1 1           apple      granny_smith  192  8.4   7.3    0.55       \n",
       "2 1           apple      granny_smith  180  8.0   6.8    0.59       \n",
       "3 1           apple      granny_smith  176  7.4   7.2    0.60       \n",
       "4 2           mandarin   mandarin       86  6.2   4.7    0.80       \n",
       "5 2           mandarin   mandarin       84  6.0   4.6    0.79       \n",
       "6 2           mandarin   mandarin       80  5.8   4.3    0.77       \n",
       "  scaled_height scaled_color_score scaled_width scaled_mass\n",
       "1 -0.2889166    -2.76981970         1.5850841    0.5249358 \n",
       "2 -0.6562889    -2.24937587         1.0954508    0.3068287 \n",
       "3 -0.3623910    -2.11926491         0.3610008    0.2341263 \n",
       "4 -2.1992529     0.48295423        -1.1078991   -1.4016772 \n",
       "5 -2.2727273     0.35284327        -1.3527158   -1.4380284 \n",
       "6 -2.4931508     0.09262136        -1.5975324   -1.5107308 "
      ]
     },
     "metadata": {},
     "output_type": "display_data"
    }
   ],
   "source": [
    "# Example scaffolding: \n",
    "# mutate(scaled_height = scale(height, center = TRUE))\n",
    "\n",
    "# your code here\n",
    "fruit_data_scaled = mutate(fruit_data, scaled_height = scale(height, center = TRUE),\n",
    "                          scaled_color_score = scale(color_score, center = TRUE),\n",
    "                          scaled_width = scale(width, center = TRUE),\n",
    "                          scaled_mass = scale(mass, center = TRUE))\n",
    "head(fruit_data_scaled)"
   ]
  },
  {
   "cell_type": "code",
   "execution_count": 18,
   "metadata": {
    "deletable": false,
    "editable": false,
    "nbgrader": {
     "cell_type": "code",
     "checksum": "5fbc3598af64c23b8e42071cdb236cf7",
     "grade": true,
     "grade_id": "cell-d47d0853560ef00b",
     "locked": true,
     "points": 1,
     "schema_version": 3,
     "solution": false
    }
   },
   "outputs": [
    {
     "name": "stdout",
     "output_type": "stream",
     "text": [
      "[1] \"Success!\"\n"
     ]
    }
   ],
   "source": [
    "test_1.5()"
   ]
  },
  {
   "cell_type": "markdown",
   "metadata": {
    "deletable": false,
    "editable": false,
    "nbgrader": {
     "cell_type": "markdown",
     "checksum": "9281822ddb9e6e2704a4a987286932f1",
     "grade": false,
     "grade_id": "cell-dceb095c855aeff4",
     "locked": true,
     "schema_version": 3,
     "solution": false
    }
   },
   "source": [
    "**Question 1.6**\n",
    "<br> {points: 1}\n",
    "\n",
    "Let's repeat **Question 1.2 and 1.3** with the scaled variables:\n",
    "\n",
    "- calculate the distance with the scaled mass and width variables between observations 1 and 2\n",
    "- calculate the distances with the scaled mass and width variables between observations 1 and 44 \n",
    "\n",
    "After you do this, think about how these distances compared to the distances you computed in **Question 1.2 and 1.3** for the same points.\n",
    "\n",
    "*Assign your answers to objects called `distance_2` and `distance_44` respectively.*"
   ]
  },
  {
   "cell_type": "code",
   "execution_count": 19,
   "metadata": {
    "deletable": false,
    "nbgrader": {
     "cell_type": "code",
     "checksum": "d6c927d524dc3ab13dd4abeb5bf8c49a",
     "grade": false,
     "grade_id": "cell-e70ccce2b005a539",
     "locked": false,
     "schema_version": 3,
     "solution": true
    }
   },
   "outputs": [
    {
     "data": {
      "text/plain": [
       "          1\n",
       "2 0.5360145"
      ]
     },
     "metadata": {},
     "output_type": "display_data"
    },
    {
     "data": {
      "text/plain": [
       "        1\n",
       "2 1.46935"
      ]
     },
     "metadata": {},
     "output_type": "display_data"
    }
   ],
   "source": [
    "# your code here\n",
    "distance_2=fruit_data_scaled %>%\n",
    "   slice(1, 2) %>% # We use slice to get the first two rows of the fruit dataset\n",
    "   select(scaled_mass, scaled_width) %>%\n",
    "   dist()\n",
    "distance_44=fruit_data_scaled %>%\n",
    "   slice(1, 44) %>% # We use slice to get the first two rows of the fruit dataset\n",
    "   select(scaled_mass, scaled_width) %>%\n",
    "   dist()\n",
    "distance_2\n",
    "distance_44"
   ]
  },
  {
   "cell_type": "code",
   "execution_count": 20,
   "metadata": {
    "deletable": false,
    "editable": false,
    "nbgrader": {
     "cell_type": "code",
     "checksum": "c0bdbd80ed5dfaf3269f901878b5e155",
     "grade": true,
     "grade_id": "cell-7c33c6c2fb375ea4",
     "locked": true,
     "points": 1,
     "schema_version": 3,
     "solution": false
    }
   },
   "outputs": [
    {
     "name": "stdout",
     "output_type": "stream",
     "text": [
      "[1] \"Success!\"\n"
     ]
    }
   ],
   "source": [
    "test_1.6()"
   ]
  },
  {
   "cell_type": "markdown",
   "metadata": {
    "deletable": false,
    "editable": false,
    "nbgrader": {
     "cell_type": "markdown",
     "checksum": "7e2927420bc283792fac4da9b3bf7636",
     "grade": false,
     "grade_id": "cell-6e0a8546a65b79e8",
     "locked": true,
     "schema_version": 3,
     "solution": false,
     "task": false
    }
   },
   "source": [
    "## Randomness and Setting Seeds\n",
    "\n",
    "The remaining material in the worksheet uses functions from the `caret` library, many of which make the use of randomness (for many purposes: resolving ties in the nearest neighbour vote, splitting the data, balancing, etc). In order to ensure that the steps in the worksheet are reproducible, we need to set a *seed*, i.e., a numerical \"starting value,\" which determines the sequence of random numbers R will generate.\n",
    "\n",
    "Below in many cells we have included a call to `set.seed`. **Do not remove these lines of code**; they are necessary to make sure the autotesting code functions properly.\n",
    "\n",
    "> *Optional extra info for those who are curious:* the reason we have `set.seed` in so many places is that Jupyter notebooks are organized into cells that can be run out of order. Since things can be run out of order, the exact sequence of random values that is used in each cell is hard to determine, which makes autotesting really difficult.  We had two options: either enforce that you only ever run the code by hitting \"Restart & Run All\" to ensure that we get the same values of randomness each time, or put `set.seed` in a lot of places (we chose the latter). One drawback of calling `set.seed` everywhere is that the numbers that will be generated won't really be random. For the purposes of teaching and learning, that is fine here. But in a typical data analysis, you should really **only call `set.seed` once at the beginning of the analysis, so that your random numbers are actually reasonably random.**"
   ]
  },
  {
   "cell_type": "markdown",
   "metadata": {
    "deletable": false,
    "editable": false,
    "nbgrader": {
     "cell_type": "markdown",
     "checksum": "dbb08c9d2c312881b78872147d955d20",
     "grade": false,
     "grade_id": "cell-0e8089ce4f710660",
     "locked": true,
     "schema_version": 3,
     "solution": false
    }
   },
   "source": [
    "## 2. Splitting the data into a training and test set\n",
    "\n",
    "Next, we will be partitioning the data into a training (75%) and testing (25%) set using the `caret` package. We will put this test set away in a lock box and not touch it again until we have found the best k-nn classifier we can make using the training set. We will use the variable `fruit_name` as our class label. \n",
    "\n",
    "\n",
    "**Question 2.0**\n",
    "<br> {points: 1}\n",
    "\n",
    "To do this we first use the `createDataPartition` function to get the row numbers of the data we should include in our training set. Name the object you create `training_rows`."
   ]
  },
  {
   "cell_type": "code",
   "execution_count": 21,
   "metadata": {
    "deletable": false,
    "nbgrader": {
     "cell_type": "code",
     "checksum": "e97275862b30e0c1f1015f54cba7e135",
     "grade": false,
     "grade_id": "cell-c262636f2b9777e3",
     "locked": false,
     "schema_version": 3,
     "solution": true
    }
   },
   "outputs": [
    {
     "data": {
      "text/html": [
       "<table>\n",
       "<caption>A matrix: 6 × 1 of type int</caption>\n",
       "<thead>\n",
       "\t<tr><th scope=col>Resample1</th></tr>\n",
       "</thead>\n",
       "<tbody>\n",
       "\t<tr><td>1</td></tr>\n",
       "\t<tr><td>3</td></tr>\n",
       "\t<tr><td>4</td></tr>\n",
       "\t<tr><td>6</td></tr>\n",
       "\t<tr><td>7</td></tr>\n",
       "\t<tr><td>8</td></tr>\n",
       "</tbody>\n",
       "</table>\n"
      ],
      "text/latex": [
       "A matrix: 6 × 1 of type int\n",
       "\\begin{tabular}{l}\n",
       " Resample1\\\\\n",
       "\\hline\n",
       "\t 1\\\\\n",
       "\t 3\\\\\n",
       "\t 4\\\\\n",
       "\t 6\\\\\n",
       "\t 7\\\\\n",
       "\t 8\\\\\n",
       "\\end{tabular}\n"
      ],
      "text/markdown": [
       "\n",
       "A matrix: 6 × 1 of type int\n",
       "\n",
       "| Resample1 |\n",
       "|---|\n",
       "| 1 |\n",
       "| 3 |\n",
       "| 4 |\n",
       "| 6 |\n",
       "| 7 |\n",
       "| 8 |\n",
       "\n"
      ],
      "text/plain": [
       "     Resample1\n",
       "[1,] 1        \n",
       "[2,] 3        \n",
       "[3,] 4        \n",
       "[4,] 6        \n",
       "[5,] 7        \n",
       "[6,] 8        "
      ]
     },
     "metadata": {},
     "output_type": "display_data"
    }
   ],
   "source": [
    "# Set the seed. Don't remove this!\n",
    "set.seed(3456) \n",
    "\n",
    "# Randomly take 75% of the data in the training set. \n",
    "# This will be proportional to the different number of fruit names in the dataset.\n",
    "\n",
    "# your code here\n",
    "# ?createDataPartition\n",
    "training_rows = fruit_data %>% \n",
    "    select(fruit_name) %>%\n",
    "    unlist() %>%\n",
    "    createDataPartition(p = 0.75, list = FALSE)\n",
    "head(training_rows)"
   ]
  },
  {
   "cell_type": "code",
   "execution_count": 22,
   "metadata": {
    "deletable": false,
    "editable": false,
    "nbgrader": {
     "cell_type": "code",
     "checksum": "b26c071c7713ad3fe803ab4bd016e677",
     "grade": true,
     "grade_id": "cell-7432078031e563b8",
     "locked": true,
     "points": 1,
     "schema_version": 3,
     "solution": false
    }
   },
   "outputs": [
    {
     "name": "stdout",
     "output_type": "stream",
     "text": [
      "[1] \"Success!\"\n"
     ]
    }
   ],
   "source": [
    "test_2.0()"
   ]
  },
  {
   "cell_type": "markdown",
   "metadata": {
    "deletable": false,
    "editable": false,
    "nbgrader": {
     "cell_type": "markdown",
     "checksum": "f5971515dae8036d338eebd4d29fc98b",
     "grade": false,
     "grade_id": "cell-2305ba4c6c6c5c84",
     "locked": true,
     "schema_version": 3,
     "solution": false
    }
   },
   "source": [
    "**Question 2.1.0** \n",
    "<br> {points: 1}\n",
    "\n",
    "Next we use the `slice` function to get the rows from the original data frame that match the ones we have in `training_rows`.  The goal is to create one object for the training data (`training_set`) and one for the testing data (`testing_set`) using the rows that we have designated via `createDataPartition`.\n",
    "\n",
    "Use the scaffolding provided. Name the two subsets of data `training_set` and `testing_set`."
   ]
  },
  {
   "cell_type": "code",
   "execution_count": 23,
   "metadata": {
    "deletable": false,
    "nbgrader": {
     "cell_type": "code",
     "checksum": "9154c095e9a1b34b00b2b9b910d69fb0",
     "grade": false,
     "grade_id": "cell-3987d5f3db445447",
     "locked": false,
     "schema_version": 3,
     "solution": true
    }
   },
   "outputs": [],
   "source": [
    "#... <- fruit_data %>% slice(training_rows)\n",
    "#... <- ... %>% ...(-training_rows)\n",
    "\n",
    "# your code here\n",
    "training_set <- fruit_data %>% slice(training_rows)\n",
    "testing_set <- fruit_data %>% slice(-training_rows)"
   ]
  },
  {
   "cell_type": "code",
   "execution_count": 24,
   "metadata": {
    "deletable": false,
    "editable": false,
    "nbgrader": {
     "cell_type": "code",
     "checksum": "167222bb2ed8dd44282a833787a9b7b2",
     "grade": true,
     "grade_id": "cell-958fc3b2943ac994",
     "locked": true,
     "points": 1,
     "schema_version": 3,
     "solution": false
    }
   },
   "outputs": [
    {
     "name": "stdout",
     "output_type": "stream",
     "text": [
      "[1] \"Success!\"\n"
     ]
    }
   ],
   "source": [
    "test_2.1.0()"
   ]
  },
  {
   "cell_type": "markdown",
   "metadata": {
    "deletable": false,
    "editable": false,
    "nbgrader": {
     "cell_type": "markdown",
     "checksum": "0918715039b8ca0f7ac417aafa439950",
     "grade": false,
     "grade_id": "cell-9f6c24da5042200c",
     "locked": true,
     "schema_version": 3,
     "solution": false,
     "task": false
    }
   },
   "source": [
    "**Question 2.1.1** \n",
    "<br> {points: 1}\n",
    "\n",
    "We should perform a data transformation to scale and centre our predictors. We should create the scaling transformer using only the training data. This ensures that our test data does not influence any aspect of our model training. Once we have created the scaling transformer, we can then apply it separately to both the training and test data sets.\n",
    "\n",
    "Use the scaffolding provided. Name the two datasets `training_set` and `testing_set`."
   ]
  },
  {
   "cell_type": "code",
   "execution_count": 25,
   "metadata": {
    "deletable": false,
    "nbgrader": {
     "cell_type": "code",
     "checksum": "77d9d213ab61d9b19cf0075a79da1006",
     "grade": false,
     "grade_id": "cell-aca4cc578b245211",
     "locked": false,
     "schema_version": 3,
     "solution": true,
     "task": false
    }
   },
   "outputs": [],
   "source": [
    "# scale_transformer <- preProcess(..., method = c(\"center\", \"scale\")) \n",
    "# ... <- predict(..., training_set)\n",
    "# ... <- predict(..., testing_set)\n",
    "\n",
    "# your code here\n",
    "scale_transformer <- preProcess(training_set, method = c(\"center\", \"scale\")) \n",
    "training_set <- predict(scale_transformer, training_set)\n",
    "testing_set <- predict(scale_transformer, testing_set)"
   ]
  },
  {
   "cell_type": "code",
   "execution_count": 26,
   "metadata": {
    "deletable": false,
    "editable": false,
    "nbgrader": {
     "cell_type": "code",
     "checksum": "098190ddfa16ba70577d0d1918b7b652",
     "grade": true,
     "grade_id": "cell-2453aaa31ba794b6",
     "locked": true,
     "points": 1,
     "schema_version": 3,
     "solution": false,
     "task": false
    }
   },
   "outputs": [
    {
     "name": "stdout",
     "output_type": "stream",
     "text": [
      "[1] \"Success!\"\n"
     ]
    }
   ],
   "source": [
    "test_2.1.1()"
   ]
  },
  {
   "cell_type": "markdown",
   "metadata": {
    "deletable": false,
    "editable": false,
    "nbgrader": {
     "cell_type": "markdown",
     "checksum": "5ba453368ac60377b90e7b750be60a4e",
     "grade": false,
     "grade_id": "cell-6693330a0f077083",
     "locked": true,
     "schema_version": 3,
     "solution": false
    }
   },
   "source": [
    "### Using cross-validation to choose k\n",
    "\n",
    "Let's start with a simple classifier, one that uses only `color_score` and `mass` as predictors. `fruit_name` should be the class label. As we build this simple classifier from the training set, let's use cross-validation to choose the best $k$.\n",
    "\n",
    "**Question 2.2**\n",
    "<br> {points: 1}\n",
    "\n",
    "We now need to take our training data and specify what columns are going to be the predictors and which are going to the class labels. Name the predictors `X_simple` and the class labels `Y_fruit`.\n",
    "\n",
    "> Note: We will be using the `train()` function from the `caret` package, which requires that the `x` argument a data frame object and the `y` argument a numeric or factor vector. In other words, `X_simple` should be a data frame and `Y_fruit` should be a vector."
   ]
  },
  {
   "cell_type": "code",
   "execution_count": 27,
   "metadata": {
    "deletable": false,
    "nbgrader": {
     "cell_type": "code",
     "checksum": "bb2531ee758dd9a0ff405d9d83bd9245",
     "grade": false,
     "grade_id": "cell-00b2a6b0ba7df6c4",
     "locked": false,
     "schema_version": 3,
     "solution": true
    }
   },
   "outputs": [
    {
     "data": {
      "text/html": [
       "<table>\n",
       "<caption>A data.frame: 6 × 2</caption>\n",
       "<thead>\n",
       "\t<tr><th scope=col>mass</th><th scope=col>color_score</th></tr>\n",
       "\t<tr><th scope=col>&lt;dbl&gt;</th><th scope=col>&lt;dbl&gt;</th></tr>\n",
       "</thead>\n",
       "<tbody>\n",
       "\t<tr><td> 0.4015976</td><td>-2.8120525</td></tr>\n",
       "\t<tr><td> 0.1333800</td><td>-2.1493762</td></tr>\n",
       "\t<tr><td>-1.3753441</td><td> 0.5013290</td></tr>\n",
       "\t<tr><td>-1.4759257</td><td> 0.1037232</td></tr>\n",
       "\t<tr><td>-1.4759257</td><td> 0.6338643</td></tr>\n",
       "\t<tr><td>-1.5429801</td><td> 0.6338643</td></tr>\n",
       "</tbody>\n",
       "</table>\n"
      ],
      "text/latex": [
       "A data.frame: 6 × 2\n",
       "\\begin{tabular}{r|ll}\n",
       " mass & color\\_score\\\\\n",
       " <dbl> & <dbl>\\\\\n",
       "\\hline\n",
       "\t  0.4015976 & -2.8120525\\\\\n",
       "\t  0.1333800 & -2.1493762\\\\\n",
       "\t -1.3753441 &  0.5013290\\\\\n",
       "\t -1.4759257 &  0.1037232\\\\\n",
       "\t -1.4759257 &  0.6338643\\\\\n",
       "\t -1.5429801 &  0.6338643\\\\\n",
       "\\end{tabular}\n"
      ],
      "text/markdown": [
       "\n",
       "A data.frame: 6 × 2\n",
       "\n",
       "| mass &lt;dbl&gt; | color_score &lt;dbl&gt; |\n",
       "|---|---|\n",
       "|  0.4015976 | -2.8120525 |\n",
       "|  0.1333800 | -2.1493762 |\n",
       "| -1.3753441 |  0.5013290 |\n",
       "| -1.4759257 |  0.1037232 |\n",
       "| -1.4759257 |  0.6338643 |\n",
       "| -1.5429801 |  0.6338643 |\n",
       "\n"
      ],
      "text/plain": [
       "  mass       color_score\n",
       "1  0.4015976 -2.8120525 \n",
       "2  0.1333800 -2.1493762 \n",
       "3 -1.3753441  0.5013290 \n",
       "4 -1.4759257  0.1037232 \n",
       "5 -1.4759257  0.6338643 \n",
       "6 -1.5429801  0.6338643 "
      ]
     },
     "metadata": {},
     "output_type": "display_data"
    },
    {
     "data": {
      "text/html": [
       "<dl class=dl-horizontal>\n",
       "\t<dt>fruit_name1</dt>\n",
       "\t\t<dd>apple</dd>\n",
       "\t<dt>fruit_name2</dt>\n",
       "\t\t<dd>apple</dd>\n",
       "\t<dt>fruit_name3</dt>\n",
       "\t\t<dd>mandarin</dd>\n",
       "\t<dt>fruit_name4</dt>\n",
       "\t\t<dd>mandarin</dd>\n",
       "\t<dt>fruit_name5</dt>\n",
       "\t\t<dd>mandarin</dd>\n",
       "\t<dt>fruit_name6</dt>\n",
       "\t\t<dd>mandarin</dd>\n",
       "</dl>\n",
       "\n",
       "<details>\n",
       "\t<summary style=display:list-item;cursor:pointer>\n",
       "\t\t<strong>Levels</strong>:\n",
       "\t</summary>\n",
       "\t<ol class=list-inline>\n",
       "\t\t<li>'apple'</li>\n",
       "\t\t<li>'lemon'</li>\n",
       "\t\t<li>'mandarin'</li>\n",
       "\t\t<li>'orange'</li>\n",
       "\t</ol>\n",
       "</details>"
      ],
      "text/latex": [
       "\\begin{description*}\n",
       "\\item[fruit\\textbackslash{}\\_name1] apple\n",
       "\\item[fruit\\textbackslash{}\\_name2] apple\n",
       "\\item[fruit\\textbackslash{}\\_name3] mandarin\n",
       "\\item[fruit\\textbackslash{}\\_name4] mandarin\n",
       "\\item[fruit\\textbackslash{}\\_name5] mandarin\n",
       "\\item[fruit\\textbackslash{}\\_name6] mandarin\n",
       "\\end{description*}\n",
       "\n",
       "\\emph{Levels}: \\begin{enumerate*}\n",
       "\\item 'apple'\n",
       "\\item 'lemon'\n",
       "\\item 'mandarin'\n",
       "\\item 'orange'\n",
       "\\end{enumerate*}\n"
      ],
      "text/markdown": [
       "fruit_name1\n",
       ":   applefruit_name2\n",
       ":   applefruit_name3\n",
       ":   mandarinfruit_name4\n",
       ":   mandarinfruit_name5\n",
       ":   mandarinfruit_name6\n",
       ":   mandarin\n",
       "\n",
       "\n",
       "**Levels**: 1. 'apple'\n",
       "2. 'lemon'\n",
       "3. 'mandarin'\n",
       "4. 'orange'\n",
       "\n",
       "\n"
      ],
      "text/plain": [
       "fruit_name1 fruit_name2 fruit_name3 fruit_name4 fruit_name5 fruit_name6 \n",
       "      apple       apple    mandarin    mandarin    mandarin    mandarin \n",
       "Levels: apple lemon mandarin orange"
      ]
     },
     "metadata": {},
     "output_type": "display_data"
    }
   ],
   "source": [
    "# your code here\n",
    "X_simple = training_set %>% \n",
    "  select(mass, color_score) %>% \n",
    "  data.frame()\n",
    "Y_fruit = training_set %>% \n",
    "  select(fruit_name) %>% \n",
    "  unlist()\n",
    "head(X_simple)\n",
    "head(Y_fruit)"
   ]
  },
  {
   "cell_type": "code",
   "execution_count": 28,
   "metadata": {
    "deletable": false,
    "editable": false,
    "nbgrader": {
     "cell_type": "code",
     "checksum": "e7f635299ba4528a5cf607a17c0560af",
     "grade": true,
     "grade_id": "cell-b8ce3699299555d5",
     "locked": true,
     "points": 1,
     "schema_version": 3,
     "solution": false
    }
   },
   "outputs": [
    {
     "name": "stdout",
     "output_type": "stream",
     "text": [
      "[1] \"Success!\"\n"
     ]
    }
   ],
   "source": [
    "test_2.2()"
   ]
  },
  {
   "cell_type": "markdown",
   "metadata": {
    "deletable": false,
    "editable": false,
    "nbgrader": {
     "cell_type": "markdown",
     "checksum": "8654b031d047f9099d61de0a8bb82282",
     "grade": false,
     "grade_id": "cell-512f0c24a1511248",
     "locked": true,
     "schema_version": 3,
     "solution": false,
     "task": false
    }
   },
   "source": [
    "**Question 2.3**\n",
    "<br> {points: 1}\n",
    "\n",
    "Next, we need to create a data frame, named `ks`, that contains a single column, named `k`, that holds the k-values we'd like to try out. Let's try the values 1, 3, 5, 7, 9 and 11. \n",
    "\n",
    "*Hint - the `c` function is useful for creating vectors, which are what data frame columns are.*"
   ]
  },
  {
   "cell_type": "code",
   "execution_count": 29,
   "metadata": {
    "deletable": false,
    "nbgrader": {
     "cell_type": "code",
     "checksum": "0f6dd49c906ae00681615200d56fb66c",
     "grade": false,
     "grade_id": "cell-29a65e0d69fd64d3",
     "locked": false,
     "schema_version": 3,
     "solution": true
    }
   },
   "outputs": [
    {
     "data": {
      "text/html": [
       "<table>\n",
       "<caption>A data.frame: 6 × 1</caption>\n",
       "<thead>\n",
       "\t<tr><th scope=col>k</th></tr>\n",
       "\t<tr><th scope=col>&lt;dbl&gt;</th></tr>\n",
       "</thead>\n",
       "<tbody>\n",
       "\t<tr><td> 1</td></tr>\n",
       "\t<tr><td> 3</td></tr>\n",
       "\t<tr><td> 5</td></tr>\n",
       "\t<tr><td> 7</td></tr>\n",
       "\t<tr><td> 9</td></tr>\n",
       "\t<tr><td>11</td></tr>\n",
       "</tbody>\n",
       "</table>\n"
      ],
      "text/latex": [
       "A data.frame: 6 × 1\n",
       "\\begin{tabular}{r|l}\n",
       " k\\\\\n",
       " <dbl>\\\\\n",
       "\\hline\n",
       "\t  1\\\\\n",
       "\t  3\\\\\n",
       "\t  5\\\\\n",
       "\t  7\\\\\n",
       "\t  9\\\\\n",
       "\t 11\\\\\n",
       "\\end{tabular}\n"
      ],
      "text/markdown": [
       "\n",
       "A data.frame: 6 × 1\n",
       "\n",
       "| k &lt;dbl&gt; |\n",
       "|---|\n",
       "|  1 |\n",
       "|  3 |\n",
       "|  5 |\n",
       "|  7 |\n",
       "|  9 |\n",
       "| 11 |\n",
       "\n"
      ],
      "text/plain": [
       "  k \n",
       "1  1\n",
       "2  3\n",
       "3  5\n",
       "4  7\n",
       "5  9\n",
       "6 11"
      ]
     },
     "metadata": {},
     "output_type": "display_data"
    }
   ],
   "source": [
    "# your code here\n",
    "k = c(1,3,5,7,9,11)\n",
    "ks = data.frame(k)\n",
    "ks"
   ]
  },
  {
   "cell_type": "code",
   "execution_count": 30,
   "metadata": {
    "deletable": false,
    "editable": false,
    "nbgrader": {
     "cell_type": "code",
     "checksum": "f76e36541eb840d9aa116186c3d19d12",
     "grade": true,
     "grade_id": "cell-144f33352d2b6add",
     "locked": true,
     "points": 1,
     "schema_version": 3,
     "solution": false
    }
   },
   "outputs": [
    {
     "name": "stdout",
     "output_type": "stream",
     "text": [
      "[1] \"Success!\"\n"
     ]
    }
   ],
   "source": [
    "test_2.3()"
   ]
  },
  {
   "cell_type": "markdown",
   "metadata": {
    "deletable": false,
    "editable": false,
    "nbgrader": {
     "cell_type": "markdown",
     "checksum": "45a476aed1b8e56541ab47640b4bd677",
     "grade": false,
     "grade_id": "cell-baa81bf7577a344f",
     "locked": true,
     "schema_version": 3,
     "solution": false
    }
   },
   "source": [
    "**Question 2.4**\n",
    "<br> {points: 1}\n",
    "\n",
    "Next, we use the `trainControl` function. This function passes additional information to the `train` function we use to create our classifier. Here we would like to set the arguments to `method = \"cv\"` (for cross-validation) and `number = 10` (for 10-fold cross-validation). Name this object `train_control`."
   ]
  },
  {
   "cell_type": "code",
   "execution_count": 31,
   "metadata": {
    "deletable": false,
    "nbgrader": {
     "cell_type": "code",
     "checksum": "4dff3aa02ae05f8af88e22c4a24e8a33",
     "grade": false,
     "grade_id": "cell-4ac19dfcaec7e27c",
     "locked": false,
     "schema_version": 3,
     "solution": true
    }
   },
   "outputs": [],
   "source": [
    "#... <- trainControl(method = ..., ... = 10)\n",
    "\n",
    "# your code here\n",
    "train_control <- trainControl(method = \"cv\", number = 10)"
   ]
  },
  {
   "cell_type": "code",
   "execution_count": 32,
   "metadata": {
    "deletable": false,
    "editable": false,
    "nbgrader": {
     "cell_type": "code",
     "checksum": "6518c3556f30d94035a357daab620cb6",
     "grade": true,
     "grade_id": "cell-a268da3370127d6c",
     "locked": true,
     "points": 1,
     "schema_version": 3,
     "solution": false
    }
   },
   "outputs": [
    {
     "name": "stdout",
     "output_type": "stream",
     "text": [
      "[1] \"Success!\"\n"
     ]
    }
   ],
   "source": [
    "test_2.4()"
   ]
  },
  {
   "cell_type": "markdown",
   "metadata": {
    "deletable": false,
    "editable": false,
    "nbgrader": {
     "cell_type": "markdown",
     "checksum": "e8b0f60a525eb68c26b68e222693b8a5",
     "grade": false,
     "grade_id": "cell-67a957c51db2a297",
     "locked": true,
     "schema_version": 3,
     "solution": false
    }
   },
   "source": [
    "**Question 2.5**\n",
    "<br> {points: 1}\n",
    "\n",
    "Now we create our classifier as we did last week, but to do cross-validation as well (so we can assess classifier accuracy based on each $k$) we supply an additional argument to the `train` function, `trControl`. For that argument, we pass the name of the object we created using the `trainControl` function. Name the classifier `choose_k`."
   ]
  },
  {
   "cell_type": "code",
   "execution_count": 33,
   "metadata": {
    "deletable": false,
    "nbgrader": {
     "cell_type": "code",
     "checksum": "c49cb156ddf8dcf291ab3d3c862ca3e4",
     "grade": false,
     "grade_id": "cell-f0716222fa3e3c93",
     "locked": false,
     "schema_version": 3,
     "solution": true
    }
   },
   "outputs": [
    {
     "data": {
      "text/plain": [
       "k-Nearest Neighbors \n",
       "\n",
       "46 samples\n",
       " 2 predictor\n",
       " 4 classes: 'apple', 'lemon', 'mandarin', 'orange' \n",
       "\n",
       "No pre-processing\n",
       "Resampling: Cross-Validated (10 fold) \n",
       "Summary of sample sizes: 41, 43, 40, 40, 41, 42, ... \n",
       "Resampling results across tuning parameters:\n",
       "\n",
       "  k   Accuracy   Kappa    \n",
       "   1  0.9016667  0.8524342\n",
       "   3  0.9216667  0.8787500\n",
       "   5  0.9016667  0.8448938\n",
       "   7  0.8316667  0.7448938\n",
       "   9  0.7050000  0.5769821\n",
       "  11  0.6650000  0.5146864\n",
       "\n",
       "Accuracy was used to select the optimal model using the largest value.\n",
       "The final value used for the model was k = 3."
      ]
     },
     "metadata": {},
     "output_type": "display_data"
    }
   ],
   "source": [
    "# Set the seed. Don't remove this!\n",
    "set.seed(1234) \n",
    "\n",
    "# your code here\n",
    "choose_k = train(X_simple, Y_fruit, method = \"knn\", tuneGrid=ks, trControl = train_control)\n",
    "choose_k"
   ]
  },
  {
   "cell_type": "code",
   "execution_count": 34,
   "metadata": {
    "deletable": false,
    "editable": false,
    "nbgrader": {
     "cell_type": "code",
     "checksum": "50ba35a8c51cc1a58b6bdbbb2dcfbda0",
     "grade": true,
     "grade_id": "cell-d3d5c46250e8450a",
     "locked": true,
     "points": 1,
     "schema_version": 3,
     "solution": false
    }
   },
   "outputs": [
    {
     "name": "stdout",
     "output_type": "stream",
     "text": [
      "[1] \"Success!\"\n"
     ]
    }
   ],
   "source": [
    "test_2.5()"
   ]
  },
  {
   "cell_type": "markdown",
   "metadata": {
    "deletable": false,
    "editable": false,
    "nbgrader": {
     "cell_type": "markdown",
     "checksum": "9df794c2aa43235f6aaa13c827d4b351",
     "grade": false,
     "grade_id": "cell-76907faaa508f23b",
     "locked": true,
     "schema_version": 3,
     "solution": false,
     "task": false
    }
   },
   "source": [
    "Then to help us choose $k$ it is very useful to visualize the accuracies as we increase $k$. This will help us choose the smallest $k$ with the largest accuracy. To do this, create a line and point plot of accuracy (y-axis) versus $k$ (x-axis). We can get these values from the `results` attribute of the classifier object using the `$` operator. We demonstrate this in the cell below:"
   ]
  },
  {
   "cell_type": "code",
   "execution_count": 35,
   "metadata": {
    "deletable": false,
    "editable": false,
    "nbgrader": {
     "cell_type": "code",
     "checksum": "d4524198876abc28637e32a0eca9db34",
     "grade": false,
     "grade_id": "cell-898d915c32ff9216",
     "locked": true,
     "schema_version": 3,
     "solution": false,
     "task": false
    }
   },
   "outputs": [
    {
     "data": {
      "text/html": [
       "<table>\n",
       "<caption>A data.frame: 6 × 2</caption>\n",
       "<thead>\n",
       "\t<tr><th scope=col>k</th><th scope=col>Accuracy</th></tr>\n",
       "\t<tr><th scope=col>&lt;dbl&gt;</th><th scope=col>&lt;dbl&gt;</th></tr>\n",
       "</thead>\n",
       "<tbody>\n",
       "\t<tr><td> 1</td><td>0.9016667</td></tr>\n",
       "\t<tr><td> 3</td><td>0.9216667</td></tr>\n",
       "\t<tr><td> 5</td><td>0.9016667</td></tr>\n",
       "\t<tr><td> 7</td><td>0.8316667</td></tr>\n",
       "\t<tr><td> 9</td><td>0.7050000</td></tr>\n",
       "\t<tr><td>11</td><td>0.6650000</td></tr>\n",
       "</tbody>\n",
       "</table>\n"
      ],
      "text/latex": [
       "A data.frame: 6 × 2\n",
       "\\begin{tabular}{r|ll}\n",
       " k & Accuracy\\\\\n",
       " <dbl> & <dbl>\\\\\n",
       "\\hline\n",
       "\t  1 & 0.9016667\\\\\n",
       "\t  3 & 0.9216667\\\\\n",
       "\t  5 & 0.9016667\\\\\n",
       "\t  7 & 0.8316667\\\\\n",
       "\t  9 & 0.7050000\\\\\n",
       "\t 11 & 0.6650000\\\\\n",
       "\\end{tabular}\n"
      ],
      "text/markdown": [
       "\n",
       "A data.frame: 6 × 2\n",
       "\n",
       "| k &lt;dbl&gt; | Accuracy &lt;dbl&gt; |\n",
       "|---|---|\n",
       "|  1 | 0.9016667 |\n",
       "|  3 | 0.9216667 |\n",
       "|  5 | 0.9016667 |\n",
       "|  7 | 0.8316667 |\n",
       "|  9 | 0.7050000 |\n",
       "| 11 | 0.6650000 |\n",
       "\n"
      ],
      "text/plain": [
       "  k  Accuracy \n",
       "1  1 0.9016667\n",
       "2  3 0.9216667\n",
       "3  5 0.9016667\n",
       "4  7 0.8316667\n",
       "5  9 0.7050000\n",
       "6 11 0.6650000"
      ]
     },
     "metadata": {},
     "output_type": "display_data"
    }
   ],
   "source": [
    "# run this cell\n",
    "k_accuracies <- choose_k$results %>%\n",
    "                    select(k, Accuracy)\n",
    "k_accuracies "
   ]
  },
  {
   "cell_type": "markdown",
   "metadata": {
    "deletable": false,
    "editable": false,
    "nbgrader": {
     "cell_type": "markdown",
     "checksum": "2a995183acc5a4539dc5b811d8d76568",
     "grade": false,
     "grade_id": "cell-0063191266f982c7",
     "locked": true,
     "schema_version": 3,
     "solution": false
    }
   },
   "source": [
    "**Question 2.6**\n",
    "<br> {points: 1}\n",
    "\n",
    "Now that we have the accuracy and $k$ values in a data frame, create a **line and point plot** of accuracy (y-axis) versus $k$ (x-axis). Remember to do all the things for making your visualization effective. Name your plot object `choose_k_plot`."
   ]
  },
  {
   "cell_type": "code",
   "execution_count": 49,
   "metadata": {
    "deletable": false,
    "nbgrader": {
     "cell_type": "code",
     "checksum": "ba3f9bfbc0366811280c7a94a2713d1c",
     "grade": false,
     "grade_id": "cell-40206dc81c114f74",
     "locked": false,
     "schema_version": 3,
     "solution": true
    }
   },
   "outputs": [
    {
     "data": {
      "image/png": "[encoded data removed]",
      "text/plain": [
       "plot without title"
      ]
     },
     "metadata": {},
     "output_type": "display_data"
    }
   ],
   "source": [
    "# your code here\n",
    "choose_k_plot = ggplot(k_accuracies, aes(x=k, y=Accuracy)) +\n",
    "    geom_line() +\n",
    "    labs(x=\"K values\", y=\"Accuracy\")\n",
    "choose_k_plot"
   ]
  },
  {
   "cell_type": "code",
   "execution_count": 51,
   "metadata": {
    "deletable": false,
    "editable": false,
    "nbgrader": {
     "cell_type": "code",
     "checksum": "2773b8000f2a6e9b0ff879e807be1e1c",
     "grade": true,
     "grade_id": "cell-4f7b62f0f7b0a200",
     "locked": true,
     "points": 1,
     "schema_version": 3,
     "solution": false
    }
   },
   "outputs": [
    {
     "ename": "ERROR",
     "evalue": "Error in choose_k_plot$layers[[2]]: subscript out of bounds\n",
     "output_type": "error",
     "traceback": [
      "Error in choose_k_plot$layers[[2]]: subscript out of bounds\nTraceback:\n",
      "1. test_2.6()"
     ]
    }
   ],
   "source": [
    "test_2.6()"
   ]
  },
  {
   "cell_type": "markdown",
   "metadata": {
    "deletable": false,
    "editable": false,
    "nbgrader": {
     "cell_type": "markdown",
     "checksum": "121bcf81c9678b9d0922482cb8702740",
     "grade": false,
     "grade_id": "cell-068da1c1156e503a",
     "locked": true,
     "schema_version": 3,
     "solution": false
    }
   },
   "source": [
    "**Question 2.7**\n",
    "<br> {points: 1}\n",
    "\n",
    "If we were judging based on the plot of accuracy versus $k$ you created above, which $k$ should we choose? \n",
    "\n",
    "Assign the value of $k$ we should choose to a variable named `answer2.7` \n",
    "\n",
    "*Note: there may be multiple reasonable answers. Just pick one of these, any one will suffice.*"
   ]
  },
  {
   "cell_type": "code",
   "execution_count": 52,
   "metadata": {
    "deletable": false,
    "nbgrader": {
     "cell_type": "code",
     "checksum": "6b1b799bccf9e15fb285eee96fe0b4ed",
     "grade": false,
     "grade_id": "cell-0474eb947592495c",
     "locked": false,
     "schema_version": 3,
     "solution": true
    }
   },
   "outputs": [],
   "source": [
    "# your code here\n",
    "# fail() # No Answer - remove if you provide an answer\n",
    "answer2.7 = '3'"
   ]
  },
  {
   "cell_type": "code",
   "execution_count": 53,
   "metadata": {
    "deletable": false,
    "editable": false,
    "nbgrader": {
     "cell_type": "code",
     "checksum": "34174226849ccc109859ee6a84df1625",
     "grade": true,
     "grade_id": "cell-099fb002dba6ced0",
     "locked": true,
     "points": 1,
     "schema_version": 3,
     "solution": false
    }
   },
   "outputs": [
    {
     "name": "stdout",
     "output_type": "stream",
     "text": [
      "[1] \"Success!\"\n"
     ]
    }
   ],
   "source": [
    "test_2.7()"
   ]
  },
  {
   "cell_type": "markdown",
   "metadata": {
    "deletable": false,
    "editable": false,
    "nbgrader": {
     "cell_type": "markdown",
     "checksum": "378cc5832a5402302e6074f4efe0ab24",
     "grade": false,
     "grade_id": "cell-2f00c5f7db3c9aa9",
     "locked": true,
     "schema_version": 3,
     "solution": false
    }
   },
   "source": [
    "**Question 2.8**\n",
    "<br> {points: 1}\n",
    "\n",
    "What is the cross-validation accuracy for the optimal $k$? \n",
    "\n",
    "Assign the value of the cross-validation accuracy for the optimal $k$ to a variable named `answer2.8`"
   ]
  },
  {
   "cell_type": "code",
   "execution_count": 54,
   "metadata": {
    "deletable": false,
    "nbgrader": {
     "cell_type": "code",
     "checksum": "2d93e3058ed45559d114660a69d0c25a",
     "grade": false,
     "grade_id": "cell-0b7b2c5bb4cc3347",
     "locked": false,
     "schema_version": 3,
     "solution": true
    }
   },
   "outputs": [],
   "source": [
    "# your code here\n",
    "# fail() # No Answer - remove if you provide an answer\n",
    "answer2.8 = 0.9216667"
   ]
  },
  {
   "cell_type": "code",
   "execution_count": 55,
   "metadata": {
    "deletable": false,
    "editable": false,
    "nbgrader": {
     "cell_type": "code",
     "checksum": "551efb9fc72289cccc3129409ffb3013",
     "grade": true,
     "grade_id": "cell-079d5a561f9acbe2",
     "locked": true,
     "points": 1,
     "schema_version": 3,
     "solution": false
    }
   },
   "outputs": [
    {
     "name": "stdout",
     "output_type": "stream",
     "text": [
      "[1] \"Success!\"\n"
     ]
    }
   ],
   "source": [
    "test_2.8()"
   ]
  },
  {
   "cell_type": "markdown",
   "metadata": {
    "deletable": false,
    "editable": false,
    "nbgrader": {
     "cell_type": "markdown",
     "checksum": "97aa7a9e1a3558c19aae908f9c1480df",
     "grade": false,
     "grade_id": "cell-b65f60bbbc0a4884",
     "locked": true,
     "schema_version": 3,
     "solution": false
    }
   },
   "source": [
    "## 3. Training error as a diagnostic tool\n",
    "\n",
    "Is this the best we can do with our classifier? Maybe, or maybe not. To get a hint we can use the training error as a diagnostic to tell us if we are underfitting and could afford to make our model more complex, say by including additional predictors.\n",
    "\n",
    "**Question 3.0**\n",
    "<br> {points: 1}\n",
    "\n",
    "Create another simple classifier object (same columns as the classifier above) using the `train` function that does not use cross-validation, and only a single $k$ value of 3. Name it `simple`."
   ]
  },
  {
   "cell_type": "code",
   "execution_count": 61,
   "metadata": {
    "deletable": false,
    "nbgrader": {
     "cell_type": "code",
     "checksum": "e5ddf1c2f5546fb67af1cb1bfbf12425",
     "grade": false,
     "grade_id": "cell-2d0448675438bdec",
     "locked": false,
     "schema_version": 3,
     "solution": true
    }
   },
   "outputs": [
    {
     "data": {
      "text/plain": [
       "k-Nearest Neighbors \n",
       "\n",
       "46 samples\n",
       " 2 predictor\n",
       " 4 classes: 'apple', 'lemon', 'mandarin', 'orange' \n",
       "\n",
       "No pre-processing\n",
       "Resampling: Bootstrapped (25 reps) \n",
       "Summary of sample sizes: 46, 46, 46, 46, 46, 46, ... \n",
       "Resampling results:\n",
       "\n",
       "  Accuracy   Kappa    \n",
       "  0.7874672  0.6933023\n",
       "\n",
       "Tuning parameter 'k' was held constant at a value of 3"
      ]
     },
     "metadata": {},
     "output_type": "display_data"
    }
   ],
   "source": [
    "# Set the seed. Don't remove this!\n",
    "set.seed(3456)\n",
    "\n",
    "# your code here\n",
    "k = c(3)\n",
    "simple = train(X_simple, Y_fruit, method = \"knn\", tuneGrid=data.frame(k))\n",
    "simple"
   ]
  },
  {
   "cell_type": "code",
   "execution_count": 62,
   "metadata": {
    "deletable": false,
    "editable": false,
    "nbgrader": {
     "cell_type": "code",
     "checksum": "8b7f12dc1102425e58c7b55ccdb7a9df",
     "grade": true,
     "grade_id": "cell-381d21c4c1474e80",
     "locked": true,
     "points": 1,
     "schema_version": 3,
     "solution": false
    }
   },
   "outputs": [
    {
     "name": "stdout",
     "output_type": "stream",
     "text": [
      "[1] \"Success!\"\n"
     ]
    }
   ],
   "source": [
    "test_3.0()"
   ]
  },
  {
   "cell_type": "markdown",
   "metadata": {
    "deletable": false,
    "editable": false,
    "nbgrader": {
     "cell_type": "markdown",
     "checksum": "df503efa2354bb70aea95a18934bebc2",
     "grade": false,
     "grade_id": "cell-e0d75b2e71eacb23",
     "locked": true,
     "schema_version": 3,
     "solution": false,
     "task": false
    }
   },
   "source": [
    "**Question 3.1**\n",
    "<br> {points: 1}\n",
    "\n",
    "Use the `simple` classifier to predict labels for all the observations in the training set (`X_simple`). Name the predictions `training_pred`."
   ]
  },
  {
   "cell_type": "code",
   "execution_count": 64,
   "metadata": {
    "deletable": false,
    "nbgrader": {
     "cell_type": "code",
     "checksum": "31e8367a9b4b771edaf9113c5aa37870",
     "grade": false,
     "grade_id": "cell-acd9fd307b13e949",
     "locked": false,
     "schema_version": 3,
     "solution": true
    }
   },
   "outputs": [
    {
     "data": {
      "text/html": [
       "<ol class=list-inline>\n",
       "\t<li>apple</li>\n",
       "\t<li>apple</li>\n",
       "\t<li>mandarin</li>\n",
       "\t<li>mandarin</li>\n",
       "\t<li>mandarin</li>\n",
       "\t<li>mandarin</li>\n",
       "</ol>\n",
       "\n",
       "<details>\n",
       "\t<summary style=display:list-item;cursor:pointer>\n",
       "\t\t<strong>Levels</strong>:\n",
       "\t</summary>\n",
       "\t<ol class=list-inline>\n",
       "\t\t<li>'apple'</li>\n",
       "\t\t<li>'lemon'</li>\n",
       "\t\t<li>'mandarin'</li>\n",
       "\t\t<li>'orange'</li>\n",
       "\t</ol>\n",
       "</details>"
      ],
      "text/latex": [
       "\\begin{enumerate*}\n",
       "\\item apple\n",
       "\\item apple\n",
       "\\item mandarin\n",
       "\\item mandarin\n",
       "\\item mandarin\n",
       "\\item mandarin\n",
       "\\end{enumerate*}\n",
       "\n",
       "\\emph{Levels}: \\begin{enumerate*}\n",
       "\\item 'apple'\n",
       "\\item 'lemon'\n",
       "\\item 'mandarin'\n",
       "\\item 'orange'\n",
       "\\end{enumerate*}\n"
      ],
      "text/markdown": [
       "1. apple\n",
       "2. apple\n",
       "3. mandarin\n",
       "4. mandarin\n",
       "5. mandarin\n",
       "6. mandarin\n",
       "\n",
       "\n",
       "\n",
       "**Levels**: 1. 'apple'\n",
       "2. 'lemon'\n",
       "3. 'mandarin'\n",
       "4. 'orange'\n",
       "\n",
       "\n"
      ],
      "text/plain": [
       "[1] apple    apple    mandarin mandarin mandarin mandarin\n",
       "Levels: apple lemon mandarin orange"
      ]
     },
     "metadata": {},
     "output_type": "display_data"
    }
   ],
   "source": [
    "# Set the seed. Don't remove this!\n",
    "set.seed(3456)\n",
    "\n",
    "# ... <- predict(..., ...)\n",
    "\n",
    "# your code here\n",
    "training_pred <- predict(simple, X_simple)\n",
    "head(training_pred)"
   ]
  },
  {
   "cell_type": "code",
   "execution_count": 65,
   "metadata": {
    "deletable": false,
    "editable": false,
    "nbgrader": {
     "cell_type": "code",
     "checksum": "1be18233c1afc472142607bf67101bc4",
     "grade": true,
     "grade_id": "cell-1fac8a8feb7592a1",
     "locked": true,
     "points": 1,
     "schema_version": 3,
     "solution": false
    }
   },
   "outputs": [
    {
     "name": "stdout",
     "output_type": "stream",
     "text": [
      "[1] \"Success!\"\n"
     ]
    }
   ],
   "source": [
    "test_3.1()"
   ]
  },
  {
   "cell_type": "markdown",
   "metadata": {
    "deletable": false,
    "editable": false,
    "nbgrader": {
     "cell_type": "markdown",
     "checksum": "995d8cb0767a11ac2cbb4c9666da3ec1",
     "grade": false,
     "grade_id": "cell-b923efe6ca6d20b2",
     "locked": true,
     "schema_version": 3,
     "solution": false,
     "task": false
    }
   },
   "source": [
    "**Question 3.2**\n",
    "<br> {points: 1}\n",
    "\n",
    "Use the `confusionMatrix` function to obtain the training accuracy. The `confusionMatrix` function takes two arguments, the predictions and the true class labels.\n",
    "\n",
    "Name the object output `training_results`."
   ]
  },
  {
   "cell_type": "code",
   "execution_count": 69,
   "metadata": {
    "deletable": false,
    "nbgrader": {
     "cell_type": "code",
     "checksum": "00ee6f7d1ca60789eaa8162dc1965eab",
     "grade": false,
     "grade_id": "cell-68a4b55aaf3f2568",
     "locked": false,
     "schema_version": 3,
     "solution": true
    }
   },
   "outputs": [
    {
     "data": {
      "text/plain": [
       "Confusion Matrix and Statistics\n",
       "\n",
       "          Reference\n",
       "Prediction apple lemon mandarin orange\n",
       "  apple       14     1        0      0\n",
       "  lemon        1    11        0      1\n",
       "  mandarin     0     0        4      0\n",
       "  orange       0     0        0     14\n",
       "\n",
       "Overall Statistics\n",
       "                                         \n",
       "               Accuracy : 0.9348         \n",
       "                 95% CI : (0.821, 0.9863)\n",
       "    No Information Rate : 0.3261         \n",
       "    P-Value [Acc > NIR] : < 2.2e-16      \n",
       "                                         \n",
       "                  Kappa : 0.9085         \n",
       "                                         \n",
       " Mcnemar's Test P-Value : NA             \n",
       "\n",
       "Statistics by Class:\n",
       "\n",
       "                     Class: apple Class: lemon Class: mandarin Class: orange\n",
       "Sensitivity                0.9333       0.9167         1.00000        0.9333\n",
       "Specificity                0.9677       0.9412         1.00000        1.0000\n",
       "Pos Pred Value             0.9333       0.8462         1.00000        1.0000\n",
       "Neg Pred Value             0.9677       0.9697         1.00000        0.9688\n",
       "Prevalence                 0.3261       0.2609         0.08696        0.3261\n",
       "Detection Rate             0.3043       0.2391         0.08696        0.3043\n",
       "Detection Prevalence       0.3261       0.2826         0.08696        0.3043\n",
       "Balanced Accuracy          0.9505       0.9289         1.00000        0.9667"
      ]
     },
     "metadata": {},
     "output_type": "display_data"
    }
   ],
   "source": [
    "#... <- confusionMatrix(..., Y_fruit)\n",
    "# your code here\n",
    "training_results = confusionMatrix(data = training_pred, reference = Y_fruit)\n",
    "training_results"
   ]
  },
  {
   "cell_type": "code",
   "execution_count": 70,
   "metadata": {
    "deletable": false,
    "editable": false,
    "nbgrader": {
     "cell_type": "code",
     "checksum": "622fbf6a6622652774bc154aff4668fa",
     "grade": true,
     "grade_id": "cell-f93bb805b3db7adf",
     "locked": true,
     "points": 1,
     "schema_version": 3,
     "solution": false
    }
   },
   "outputs": [
    {
     "name": "stdout",
     "output_type": "stream",
     "text": [
      "[1] \"Success!\"\n"
     ]
    }
   ],
   "source": [
    "test_3.2()"
   ]
  },
  {
   "cell_type": "markdown",
   "metadata": {
    "deletable": false,
    "editable": false,
    "nbgrader": {
     "cell_type": "markdown",
     "checksum": "c1c82b4df56522985ef146c807854f92",
     "grade": false,
     "grade_id": "cell-6de85d43b20830bc",
     "locked": true,
     "schema_version": 3,
     "solution": false
    }
   },
   "source": [
    "**Question 3.3**\n",
    "<br> {points: 1}\n",
    "\n",
    "From the output of the `confusionMatrix` function what is the training accuracy? Give the answer to at least 3 decimal places.\n",
    "\n",
    "Assign the value of the training accuracy to a variable named answer3.3"
   ]
  },
  {
   "cell_type": "code",
   "execution_count": 71,
   "metadata": {
    "deletable": false,
    "nbgrader": {
     "cell_type": "code",
     "checksum": "a981233f329951a7c0a72b1d587ebb8e",
     "grade": false,
     "grade_id": "cell-ca0ee9f74fbef099",
     "locked": false,
     "schema_version": 3,
     "solution": true
    }
   },
   "outputs": [],
   "source": [
    "# your code here\n",
    "\n",
    "answer3.3 = 0.9348"
   ]
  },
  {
   "cell_type": "code",
   "execution_count": 72,
   "metadata": {
    "deletable": false,
    "editable": false,
    "nbgrader": {
     "cell_type": "code",
     "checksum": "e8152df50852c46ba8095a44758a795f",
     "grade": true,
     "grade_id": "cell-8741c026e8bb6a0b",
     "locked": true,
     "points": 1,
     "schema_version": 3,
     "solution": false
    }
   },
   "outputs": [
    {
     "name": "stdout",
     "output_type": "stream",
     "text": [
      "[1] \"Success!\"\n"
     ]
    }
   ],
   "source": [
    "test_3.3()"
   ]
  },
  {
   "cell_type": "markdown",
   "metadata": {
    "deletable": false,
    "editable": false,
    "nbgrader": {
     "cell_type": "markdown",
     "checksum": "ff871c9741513d0d9745d9f9e156ebcc",
     "grade": false,
     "grade_id": "cell-b997a6c861014fac",
     "locked": true,
     "schema_version": 3,
     "solution": false
    }
   },
   "source": [
    "## 4. Improving the classifier beyond changing k\n",
    "\n",
    "As long as the training accuracy is not 1 (or very close to it) we may be able to further improve the classifier by adding predictors. This is not a guarantee, but something worth trying. When we do this, we also need to re-choose $k$ again, as the optimal $k$ may change with a different number of predictors.\n",
    "\n",
    "**Question 4.0**\n",
    "<br> {points: 1}\n",
    "\n",
    "Create a new classifer called `complex` that uses `mass`, `width`, `height` and `color_score` as predictors. Again, try the values 1, 3, 5, 7, 9 and 11 for $k$ and use 10-fold cross validation."
   ]
  },
  {
   "cell_type": "code",
   "execution_count": null,
   "metadata": {
    "deletable": false,
    "nbgrader": {
     "cell_type": "code",
     "checksum": "57ff9fc8627b6dfa31e034b5f199f356",
     "grade": false,
     "grade_id": "cell-c43fb6f0b753c648",
     "locked": false,
     "schema_version": 3,
     "solution": true
    }
   },
   "outputs": [],
   "source": [
    "# Set the seed. Don't remove this!\n",
    "set.seed(4567)\n",
    "\n",
    "# your code here\n",
    "\n",
    "# complex = \n",
    "# complex"
   ]
  },
  {
   "cell_type": "code",
   "execution_count": null,
   "metadata": {
    "deletable": false,
    "editable": false,
    "nbgrader": {
     "cell_type": "code",
     "checksum": "be1f4a7a03916db3b08f6bf1005b488f",
     "grade": true,
     "grade_id": "cell-d0eacb351837a618",
     "locked": true,
     "points": 1,
     "schema_version": 3,
     "solution": false
    }
   },
   "outputs": [],
   "source": [
    "test_4.0()"
   ]
  },
  {
   "cell_type": "markdown",
   "metadata": {
    "deletable": false,
    "editable": false,
    "nbgrader": {
     "cell_type": "markdown",
     "checksum": "dfbba8955e866ed1fce95e6601480eff",
     "grade": false,
     "grade_id": "cell-417f037bd20b76b8",
     "locked": true,
     "schema_version": 3,
     "solution": false
    }
   },
   "source": [
    "**Question 4.1**\n",
    "<br> {points: 1}\n",
    "\n",
    "- Get the accuracy and  $k$  values from the classifier, and name it `k_accuracies_again`. Use the scaffolding provided below. \n",
    "- Create a line and point plot of `Accuracy` (vertical axis) versus `k`  (horizontal axis). Remember to do all the things for making your visualization effective. Name your plot object `choose_k_again_plot`."
   ]
  },
  {
   "cell_type": "code",
   "execution_count": null,
   "metadata": {
    "deletable": false,
    "nbgrader": {
     "cell_type": "code",
     "checksum": "59fce790ade873abd6e981890bdb9484",
     "grade": false,
     "grade_id": "cell-5d018308620e04d3",
     "locked": false,
     "schema_version": 3,
     "solution": true
    }
   },
   "outputs": [],
   "source": [
    "#... <- complex$... %>% select(..., Accuracy)\n",
    "#choose_k_again_plot <- ggplot(..., aes(..., ...)) +\n",
    "#                          geom_line() +\n",
    "#                          ...()\n",
    "\n",
    "\n",
    "# your code here\n",
    "fail() # No Answer - remove if you provide an answer\n",
    "choose_k_again_plot"
   ]
  },
  {
   "cell_type": "code",
   "execution_count": null,
   "metadata": {
    "deletable": false,
    "editable": false,
    "nbgrader": {
     "cell_type": "code",
     "checksum": "e4cc4b96aa046350babf524004fb8426",
     "grade": true,
     "grade_id": "cell-1149640f30ad14e2",
     "locked": true,
     "points": 1,
     "schema_version": 3,
     "solution": false
    }
   },
   "outputs": [],
   "source": [
    "test_4.1()"
   ]
  },
  {
   "cell_type": "markdown",
   "metadata": {
    "deletable": false,
    "editable": false,
    "nbgrader": {
     "cell_type": "markdown",
     "checksum": "e4847321786eda3dad8985b97e131a4d",
     "grade": false,
     "grade_id": "cell-39c5f6b9189d921c",
     "locked": true,
     "schema_version": 3,
     "solution": false
    }
   },
   "source": [
    "**Question 4.2**\n",
    "<br> {points: 1}\n",
    "\n",
    "From the plot of accuracy versus $k$ you created above, which $k$ should we choose for this more complex classifier?\n",
    "\n",
    "Assign the value of  k  we should choose to a variable named `answer4.2`"
   ]
  },
  {
   "cell_type": "code",
   "execution_count": null,
   "metadata": {
    "deletable": false,
    "nbgrader": {
     "cell_type": "code",
     "checksum": "aa0d100c25bc9d8f122c6e3e267db02d",
     "grade": false,
     "grade_id": "cell-ca352e1cd96c3bce",
     "locked": false,
     "schema_version": 3,
     "solution": true
    }
   },
   "outputs": [],
   "source": [
    "# your code here\n",
    "fail() # No Answer - remove if you provide an answer\n",
    "answer4.2"
   ]
  },
  {
   "cell_type": "code",
   "execution_count": null,
   "metadata": {
    "deletable": false,
    "editable": false,
    "nbgrader": {
     "cell_type": "code",
     "checksum": "8acf7ed343a1d78748f50174acd48508",
     "grade": true,
     "grade_id": "cell-c7e86bd9e4525b85",
     "locked": true,
     "points": 1,
     "schema_version": 3,
     "solution": false
    }
   },
   "outputs": [],
   "source": [
    "test_4.2()"
   ]
  },
  {
   "cell_type": "markdown",
   "metadata": {
    "deletable": false,
    "editable": false,
    "nbgrader": {
     "cell_type": "markdown",
     "checksum": "4b9f791e50335275d047cdeb6e0d4f9c",
     "grade": false,
     "grade_id": "cell-dee17405b81e6fb1",
     "locked": true,
     "schema_version": 3,
     "solution": false
    }
   },
   "source": [
    "**Question 4.3**\n",
    "<br> {points: 1}\n",
    "\n",
    "What is the cross-validation accuracy for the optimal $k$ for this more complex classifier?\n",
    "\n",
    "Assign the value of the cross-validation accuracy for the optimal $k$ to a variable named `answer4.3`"
   ]
  },
  {
   "cell_type": "code",
   "execution_count": null,
   "metadata": {
    "deletable": false,
    "nbgrader": {
     "cell_type": "code",
     "checksum": "6dbb6e1c0d3d6e4f427d4affbc7a6d60",
     "grade": false,
     "grade_id": "cell-077a26c1dcd2d905",
     "locked": false,
     "schema_version": 3,
     "solution": true
    }
   },
   "outputs": [],
   "source": [
    "# your code here\n",
    "fail() # No Answer - remove if you provide an answer\n",
    "answer4.3"
   ]
  },
  {
   "cell_type": "code",
   "execution_count": null,
   "metadata": {
    "deletable": false,
    "editable": false,
    "nbgrader": {
     "cell_type": "code",
     "checksum": "969a106669c54467eb63120ceb19de85",
     "grade": true,
     "grade_id": "cell-296b422e5a5e353e",
     "locked": true,
     "points": 1,
     "schema_version": 3,
     "solution": false
    }
   },
   "outputs": [],
   "source": [
    "test_4.3()"
   ]
  },
  {
   "cell_type": "markdown",
   "metadata": {
    "deletable": false,
    "editable": false,
    "nbgrader": {
     "cell_type": "markdown",
     "checksum": "23aee43702aba723a9dc3d161ea3800d",
     "grade": false,
     "grade_id": "cell-ed7b3c86e8a293c8",
     "locked": true,
     "schema_version": 3,
     "solution": false
    }
   },
   "source": [
    "**Question 4.4**\n",
    "<br> {points: 1}\n",
    "\n",
    "Did increasing the classifier complexity improve the cross-validation accuracy? \n",
    "\n",
    "Answer by assigning the value of `\"True\"` or `\"False\"` to a variable named `answer4.4`"
   ]
  },
  {
   "cell_type": "code",
   "execution_count": null,
   "metadata": {
    "deletable": false,
    "nbgrader": {
     "cell_type": "code",
     "checksum": "4cc6f8314a5012d6bb85cab9be675688",
     "grade": false,
     "grade_id": "cell-b6810cf6f730988b",
     "locked": false,
     "schema_version": 3,
     "solution": true
    }
   },
   "outputs": [],
   "source": [
    "# your code here\n",
    "fail() # No Answer - remove if you provide an answer\n",
    "answer4.4"
   ]
  },
  {
   "cell_type": "code",
   "execution_count": null,
   "metadata": {
    "deletable": false,
    "editable": false,
    "nbgrader": {
     "cell_type": "code",
     "checksum": "ef843c7725c15cb07f6115ac8e125ac3",
     "grade": true,
     "grade_id": "cell-1b41405dce422b56",
     "locked": true,
     "points": 1,
     "schema_version": 3,
     "solution": false
    }
   },
   "outputs": [],
   "source": [
    "test_4.4()"
   ]
  },
  {
   "cell_type": "markdown",
   "metadata": {
    "deletable": false,
    "editable": false,
    "nbgrader": {
     "cell_type": "markdown",
     "checksum": "e3a135e042aa542db8d926385e382fc4",
     "grade": false,
     "grade_id": "cell-0a060082f8999952",
     "locked": true,
     "schema_version": 3,
     "solution": false
    }
   },
   "source": [
    "## 5. Assessing test accuracy\n",
    "\n",
    "How good is our model? Assessing the accuracy score on a test data set that was never used to choose our classifier is the only way to know. Let's do that!\n",
    "\n",
    "**Question 5.0**\n",
    "<br> {points: 1}\n",
    "\n",
    "Now that we have chosen the optimal model, re-train your classifier on the entire training data set (i.e., do not use cross-validation) with the \"settings\" that made it an optimal model (here $k$ and the number of predictors). Name your classifier object `final_classifier`."
   ]
  },
  {
   "cell_type": "code",
   "execution_count": null,
   "metadata": {
    "deletable": false,
    "nbgrader": {
     "cell_type": "code",
     "checksum": "3e06a93a7178d761d6199052fc048b5a",
     "grade": false,
     "grade_id": "cell-c4d93967e0080ceb",
     "locked": false,
     "schema_version": 3,
     "solution": true
    }
   },
   "outputs": [],
   "source": [
    "# Set the seed. Don't remove this!\n",
    "set.seed(4567)\n",
    "\n",
    "#final_k = data.frame(k = ...)\n",
    "#... <- train(x = ..., y = Y_fruit, method = \"knn\", tuneGrid = final_k)\n",
    "\n",
    "# your code here\n",
    "fail() # No Answer - remove if you provide an answer\n",
    "final_classifier"
   ]
  },
  {
   "cell_type": "code",
   "execution_count": null,
   "metadata": {
    "deletable": false,
    "editable": false,
    "nbgrader": {
     "cell_type": "code",
     "checksum": "c27c2627133663cdb74f873b5ae7e95c",
     "grade": true,
     "grade_id": "cell-f3644d49eba782e4",
     "locked": true,
     "points": 1,
     "schema_version": 3,
     "solution": false
    }
   },
   "outputs": [],
   "source": [
    "test_5.0()"
   ]
  },
  {
   "cell_type": "markdown",
   "metadata": {
    "deletable": false,
    "editable": false,
    "nbgrader": {
     "cell_type": "markdown",
     "checksum": "8709281bc6d90f6bfba09152806756c7",
     "grade": false,
     "grade_id": "cell-c97b54e5a9f9b149",
     "locked": true,
     "schema_version": 3,
     "solution": false
    }
   },
   "source": [
    "**Question 5.1**\n",
    "<br> {points: 1}\n",
    "\n",
    "Now use the `final_classifier` to predict the labels for the test set, and then calculate the test accuracy. Name the output from the `confusionMatrix` function `test_results`."
   ]
  },
  {
   "cell_type": "code",
   "execution_count": null,
   "metadata": {
    "deletable": false,
    "nbgrader": {
     "cell_type": "code",
     "checksum": "f2b0e1d2f4dfb87ed00f7044927dc51d",
     "grade": false,
     "grade_id": "cell-57bb39bc339a53d8",
     "locked": false,
     "schema_version": 3,
     "solution": true
    }
   },
   "outputs": [],
   "source": [
    "# Set the seed. Don't remove this!\n",
    "set.seed(4567)\n",
    "\n",
    "#X_test <- testing_set %>% \n",
    "#    select(...) %>% \n",
    "#    data.frame()\n",
    "#Y_test <- testing_set %>% \n",
    "#    select(...) %>% \n",
    "#    unlist()\n",
    "#test_pred <- ...(final_classifier, X_test)\n",
    "#... <- confusionMatrix(test_pred, ...)\n",
    "\n",
    "\n",
    "# your code here\n",
    "fail() # No Answer - remove if you provide an answer\n",
    "test_results"
   ]
  },
  {
   "cell_type": "code",
   "execution_count": null,
   "metadata": {
    "deletable": false,
    "editable": false,
    "nbgrader": {
     "cell_type": "code",
     "checksum": "75ae3b3b65a0246eaeb094586105357e",
     "grade": true,
     "grade_id": "cell-3e957e8c667b80dc",
     "locked": true,
     "points": 1,
     "schema_version": 3,
     "solution": false
    }
   },
   "outputs": [],
   "source": [
    "test_5.1()"
   ]
  },
  {
   "cell_type": "markdown",
   "metadata": {
    "deletable": false,
    "editable": false,
    "nbgrader": {
     "cell_type": "markdown",
     "checksum": "2f072cea44f3af4a66314bcc31141d0d",
     "grade": false,
     "grade_id": "cell-6edbd3f8cd299dac",
     "locked": true,
     "schema_version": 3,
     "solution": false
    }
   },
   "source": [
    "**Question 5.2**\n",
    "<br> {points: 1}\n",
    "\n",
    "What is the test accuracy for the final classifier?\n",
    "\n",
    "Assign the value of the test accuracy for the final classifier to a variable named `answer5.2`"
   ]
  },
  {
   "cell_type": "code",
   "execution_count": null,
   "metadata": {
    "deletable": false,
    "nbgrader": {
     "cell_type": "code",
     "checksum": "aace08d82cdc6a9e25e7230471396c6b",
     "grade": false,
     "grade_id": "cell-8dd2c19c5bf398d7",
     "locked": false,
     "schema_version": 3,
     "solution": true
    }
   },
   "outputs": [],
   "source": [
    "# your code here\n",
    "fail() # No Answer - remove if you provide an answer\n",
    "answer5.2"
   ]
  },
  {
   "cell_type": "code",
   "execution_count": null,
   "metadata": {
    "deletable": false,
    "editable": false,
    "nbgrader": {
     "cell_type": "code",
     "checksum": "0b2848daf7736fd2660027b8f6a957be",
     "grade": true,
     "grade_id": "cell-a4ccf5d058ce362a",
     "locked": true,
     "points": 1,
     "schema_version": 3,
     "solution": false
    }
   },
   "outputs": [],
   "source": [
    "test_5.2()"
   ]
  }
 ],
 "metadata": {
  "kernelspec": {
   "display_name": "R",
   "language": "R",
   "name": "ir"
  },
  "language_info": {
   "codemirror_mode": "r",
   "file_extension": ".r",
   "mimetype": "text/x-r-source",
   "name": "R",
   "pygments_lexer": "r",
   "version": "3.6.1"
  }
 },
 "nbformat": 4,
 "nbformat_minor": 2
}
