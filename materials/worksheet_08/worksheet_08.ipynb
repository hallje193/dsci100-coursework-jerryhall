{
 "cells": [
  {
   "cell_type": "markdown",
   "metadata": {
    "deletable": false,
    "editable": false,
    "nbgrader": {
     "cell_type": "markdown",
     "checksum": "ebd652bba4c5d99164efedfa715d95dd",
     "grade": false,
     "grade_id": "cell-6093d584be2ad9ed",
     "locked": true,
     "schema_version": 3,
     "solution": false
    }
   },
   "source": [
    "# Worksheet 8 - Regression\n",
    "\n",
    "### Lecture and Tutorial Learning Goals:\n",
    "\n",
    "After completing this week's lecture and tutorial work, you will be able to:\n",
    "- Recognize situations where a simple regression analysis would be appropriate for making predictions.\n",
    "- Explain the k-nearest neighbour (k-nn) regression algorithm and describe how it differs from k-nn classification.\n",
    "- Interpret the output of a k-nn regression.\n",
    "- In a dataset with two variables, perform k-nearest neighbour regression in R using `caret::knnregTrain()` to predict the values for a test dataset.\n",
    "- Using R, execute cross-validation in R to choose the number of neighbours.\n",
    "- Using R, evaluate k-nn regression prediction accuracy using a test data set and an appropriate metric (e.g., root mean square prediction error, RMSPE).\n",
    "- In the context of k-nn regression, compare and contrast goodness of fit and prediction properties (namely RMSE vs RMSPE).\n",
    "- Describe advantages and disadvantages of the k-nearest neighbour regression approach."
   ]
  },
  {
   "cell_type": "code",
   "execution_count": null,
   "metadata": {
    "deletable": false,
    "editable": false,
    "nbgrader": {
     "cell_type": "code",
     "checksum": "f4394ec74d6504ac8f81ed8caea8255c",
     "grade": false,
     "grade_id": "cell-53085d5554f9dcc8",
     "locked": true,
     "schema_version": 3,
     "solution": false,
     "task": false
    }
   },
   "outputs": [],
   "source": [
    "### Run this cell before continuing.\n",
    "library(tidyverse)\n",
    "library(testthat)\n",
    "library(digest)\n",
    "library(repr)\n",
    "library(caret)\n",
    "source(\"tests_worksheet_08.R\")\n",
    "source('cleanup_worksheet_08.R')"
   ]
  },
  {
   "cell_type": "markdown",
   "metadata": {
    "deletable": false,
    "editable": false,
    "nbgrader": {
     "cell_type": "markdown",
     "checksum": "164b1f3df9a7b1b2965c2464d0751577",
     "grade": false,
     "grade_id": "cell-8e40e06455324a19",
     "locked": true,
     "schema_version": 3,
     "solution": false
    }
   },
   "source": [
    "**Question 0.0** Multiple Choice: \n",
    "<br> {points: 1}\n",
    "\n",
    "To predict a value for $Y$ for a new observation using k-nn regression, we identify the $k$-nearest neighbours and then:\n",
    "\n",
    "A. Assign it the median of the of the $k$-nearest neighbours as the predicted value\n",
    "\n",
    "B. Assign it the mean of the of the $k$-nearest neighbours as the predicted value\n",
    "\n",
    "C. Assign it the mode of the of the $k$-nearest neighbours as the predicted value\n",
    "\n",
    "D. Assign it the majority vote of the of the $k$-nearest neighbours as the predicted value\n",
    "\n",
    "Save the letter of the answer you think is correct to a variable named `answer0.0`. Make sure you put quotations around the letter and pay attention to case."
   ]
  },
  {
   "cell_type": "code",
   "execution_count": null,
   "metadata": {
    "deletable": false,
    "nbgrader": {
     "cell_type": "code",
     "checksum": "a7937f6224d0b9ff766bcbbc77415832",
     "grade": false,
     "grade_id": "cell-108236d99368cc44",
     "locked": false,
     "schema_version": 3,
     "solution": true
    }
   },
   "outputs": [],
   "source": [
    "# your code here\n",
    "fail() # No Answer - remove if you provide an answer"
   ]
  },
  {
   "cell_type": "code",
   "execution_count": null,
   "metadata": {
    "deletable": false,
    "editable": false,
    "nbgrader": {
     "cell_type": "code",
     "checksum": "e245528180447ef32eb2e47de0ac531e",
     "grade": true,
     "grade_id": "cell-7d5938e33a38edeb",
     "locked": true,
     "points": 1,
     "schema_version": 3,
     "solution": false
    }
   },
   "outputs": [],
   "source": [
    "test_0.0()"
   ]
  },
  {
   "cell_type": "markdown",
   "metadata": {
    "deletable": false,
    "editable": false,
    "nbgrader": {
     "cell_type": "markdown",
     "checksum": "0f3fa5fd4417f63b39571cb3a94105f8",
     "grade": false,
     "grade_id": "cell-b0f4fa2237ef0429",
     "locked": true,
     "schema_version": 3,
     "solution": false,
     "task": false
    }
   },
   "source": [
    "**Question 0.1** Multiple Choice: \n",
    "<br> {points: 1}\n",
    "\n",
    "Of those shown below, which is the correct formula for RMSPE?\n",
    "\n",
    "\n",
    "A. $RMSPE = \\sqrt{\\frac{\\frac{1}{n}\\sum\\limits_{i=1}^{n}(y_i - \\hat{y_i})^2}{1 - n}}$\n",
    "\n",
    "B. $RMSPE = \\sqrt{\\frac{1}{n - 1}\\sum\\limits_{i=1}^{n}(y_i - \\hat{y_i})^2}$\n",
    "\n",
    "C. $RMSPE = \\sqrt{\\frac{1}{n}\\sum\\limits_{i=1}^{n}(y_i - \\hat{y_i})^2}$\n",
    "\n",
    "D. $RMSPE = \\sqrt{\\frac{1}{n}\\sum\\limits_{i=1}^{n}(y_i - \\hat{y_i})}$ \n",
    "\n",
    "Save the letter of the answer you think is correct to a variable named `answer0.1`. Make sure you put quotations around the letter and pay attention to case."
   ]
  },
  {
   "cell_type": "code",
   "execution_count": null,
   "metadata": {
    "deletable": false,
    "nbgrader": {
     "cell_type": "code",
     "checksum": "eaefa38f72ff0f16e1388ae4f443a528",
     "grade": false,
     "grade_id": "cell-93c565d6974de38f",
     "locked": false,
     "schema_version": 3,
     "solution": true,
     "task": false
    }
   },
   "outputs": [],
   "source": [
    "# your code here\n",
    "fail() # No Answer - remove if you provide an answer"
   ]
  },
  {
   "cell_type": "code",
   "execution_count": null,
   "metadata": {
    "deletable": false,
    "editable": false,
    "nbgrader": {
     "cell_type": "code",
     "checksum": "f7b0eb36bc88d416ff71c8abeaa9227e",
     "grade": true,
     "grade_id": "cell-b1e66491132c1e30",
     "locked": true,
     "points": 1,
     "schema_version": 3,
     "solution": false,
     "task": false
    }
   },
   "outputs": [],
   "source": [
    "test_0.1()"
   ]
  },
  {
   "cell_type": "markdown",
   "metadata": {
    "deletable": false,
    "editable": false,
    "nbgrader": {
     "cell_type": "markdown",
     "checksum": "4b0fa4a7f66d7414f9b5c64b928721fb",
     "grade": false,
     "grade_id": "cell-ded5f8fa4e621b81",
     "locked": true,
     "schema_version": 3,
     "solution": false
    }
   },
   "source": [
    "**Question 0.2**\n",
    "<br> {points: 1}\n",
    "\n",
    "The plot below is a very simple k-nn regression example, where the black dots are the data observations and the blue line is the predictions from a k-nn regression model created from this data where $k=2$.\n",
    "\n",
    "Using the formula for RMSE/RMSPE (given in the reading), and the graph below, by hand (pen and paper or use R as a calculator) calculate RMSE for this model. Use one decimal place of precision when inputting the heights of the black dots and blue line. Save your answer to a variable named `answer0.2`\n",
    "\n",
    "<img align=\"left\" src=\"img/k-nn_RMSE.jpeg\" />"
   ]
  },
  {
   "cell_type": "code",
   "execution_count": null,
   "metadata": {
    "deletable": false,
    "nbgrader": {
     "cell_type": "code",
     "checksum": "67e086cc04ad4264b642781e233c7cd7",
     "grade": false,
     "grade_id": "cell-8dc7cc6f35de80cb",
     "locked": false,
     "schema_version": 3,
     "solution": true
    }
   },
   "outputs": [],
   "source": [
    "# your code here\n",
    "fail() # No Answer - remove if you provide an answer\n",
    "answer0.2"
   ]
  },
  {
   "cell_type": "code",
   "execution_count": null,
   "metadata": {
    "deletable": false,
    "editable": false,
    "nbgrader": {
     "cell_type": "code",
     "checksum": "cd327e469d66107c2a4ca6fc92b97eba",
     "grade": true,
     "grade_id": "cell-d90b3e7b890ce86b",
     "locked": true,
     "points": 1,
     "schema_version": 3,
     "solution": false
    }
   },
   "outputs": [],
   "source": [
    "test_0.2()"
   ]
  },
  {
   "cell_type": "markdown",
   "metadata": {
    "deletable": false,
    "editable": false,
    "nbgrader": {
     "cell_type": "markdown",
     "checksum": "094a93fc13a19c4240690fd84cf26e30",
     "grade": false,
     "grade_id": "cell-73d7913554df0781",
     "locked": true,
     "schema_version": 3,
     "solution": false,
     "task": false
    }
   },
   "source": [
    "### RMSPE Definition\n",
    "\n",
    "**Question 0.3** Multiple Choice: \n",
    "<br> {points: 1}\n",
    "\n",
    "What does RMSPE stand for?\n",
    "\n",
    "\n",
    "A. root mean squared prediction error\n",
    "\n",
    "B. root mean squared percentage error \n",
    "\n",
    "C. root mean squared performance error \n",
    "\n",
    "D. root mean squared preference error \n",
    "\n",
    "Save the letter of the answer you think is correct to a variable named `answer0.3`. Make sure you put quotations around the letter and pay attention to case."
   ]
  },
  {
   "cell_type": "code",
   "execution_count": null,
   "metadata": {
    "deletable": false,
    "nbgrader": {
     "cell_type": "code",
     "checksum": "d59380867e00a4d1c9f91986562ad515",
     "grade": false,
     "grade_id": "cell-81be027da315cb3f",
     "locked": false,
     "schema_version": 3,
     "solution": true,
     "task": false
    }
   },
   "outputs": [],
   "source": [
    "# your code here\n",
    "fail() # No Answer - remove if you provide an answer"
   ]
  },
  {
   "cell_type": "code",
   "execution_count": null,
   "metadata": {
    "deletable": false,
    "editable": false,
    "nbgrader": {
     "cell_type": "code",
     "checksum": "3ff0cac1a6dea5c2b79a238504979c0e",
     "grade": true,
     "grade_id": "cell-db93265fd197f97f",
     "locked": true,
     "points": 1,
     "schema_version": 3,
     "solution": false,
     "task": false
    }
   },
   "outputs": [],
   "source": [
    "test_0.3()"
   ]
  },
  {
   "cell_type": "markdown",
   "metadata": {
    "deletable": false,
    "editable": false,
    "nbgrader": {
     "cell_type": "markdown",
     "checksum": "919c98270f12834833fb89a2512a5499",
     "grade": false,
     "grade_id": "cell-e612110169987c7b",
     "locked": true,
     "schema_version": 3,
     "solution": false,
     "task": false
    }
   },
   "source": [
    "## Marathon Training\n",
    "\n",
    "<img src='https://media.giphy.com/media/nUN6InE2CodRm/giphy.gif' width='400'>\n",
    "\n",
    "Source: https://media.giphy.com/media/nUN6InE2CodRm/giphy.gif\n",
    "\n",
    "What predicts which athletes will perform better than others? Specifically, we are interested in marathon runners, and looking at how the maximum distance ran per week during training predicts the time it takes a runner to end the race? For this, we will be looking at the `marathon.csv` file in the `data/` folder."
   ]
  },
  {
   "cell_type": "markdown",
   "metadata": {
    "deletable": false,
    "editable": false,
    "nbgrader": {
     "cell_type": "markdown",
     "checksum": "9ea30c1434a67e3876226cd543d43d4c",
     "grade": false,
     "grade_id": "cell-16d7d432c49c9e53",
     "locked": true,
     "schema_version": 3,
     "solution": false
    }
   },
   "source": [
    "**Question 1.0** \n",
    "<br> {points: 1}\n",
    "\n",
    "Load the data and assign it to an object called `marathon`. "
   ]
  },
  {
   "cell_type": "code",
   "execution_count": null,
   "metadata": {
    "deletable": false,
    "nbgrader": {
     "cell_type": "code",
     "checksum": "464f7ba8588a4184b748942b1bb73888",
     "grade": false,
     "grade_id": "cell-5376dc2c39983258",
     "locked": false,
     "schema_version": 3,
     "solution": true
    }
   },
   "outputs": [],
   "source": [
    "# your code here\n",
    "fail() # No Answer - remove if you provide an answer\n",
    "head(marathon)"
   ]
  },
  {
   "cell_type": "code",
   "execution_count": null,
   "metadata": {
    "deletable": false,
    "editable": false,
    "nbgrader": {
     "cell_type": "code",
     "checksum": "458c6058a4988dffc4082aca21145987",
     "grade": true,
     "grade_id": "cell-60554f6f6a56a16c",
     "locked": true,
     "points": 1,
     "schema_version": 3,
     "solution": false
    }
   },
   "outputs": [],
   "source": [
    "test_1.0()"
   ]
  },
  {
   "cell_type": "markdown",
   "metadata": {
    "deletable": false,
    "editable": false,
    "nbgrader": {
     "cell_type": "markdown",
     "checksum": "20f0982508c77519233abcdb53715e23",
     "grade": false,
     "grade_id": "cell-26802c14f46a4d8e",
     "locked": true,
     "schema_version": 3,
     "solution": false
    }
   },
   "source": [
    "**Question 2.0**\n",
    "<br> {points: 1}\n",
    "\n",
    "We want to predict race time (`time_hrs`) given a particular value of maximum distance ran per week during training (`max`). Let's take a subset of size 50 of our marathon data and assign it to an object called `marathon_50`. With this subset, plot a scatterplot to assess the relationship between these two variables. Put `time_hrs` on the y-axis and `max` on the x-axis. **Assign this plot to an object called `answer2`.** Discuss with your neighbour the relationship between race time and maximum distance ran per week during training based on the scatterplot you create below. \n",
    "\n",
    "*Hint: To take a subset of your data you can use the `sample_n()` function*"
   ]
  },
  {
   "cell_type": "code",
   "execution_count": null,
   "metadata": {
    "deletable": false,
    "nbgrader": {
     "cell_type": "code",
     "checksum": "ac7710e4c40128a6222e4a0ebe61fd6c",
     "grade": false,
     "grade_id": "cell-6fcfc6ca32883f4d",
     "locked": false,
     "schema_version": 3,
     "solution": true
    }
   },
   "outputs": [],
   "source": [
    "set.seed(2000) ### DO NOT CHANGE\n",
    "\n",
    "#marathon_50 <- ... %>%\n",
    "#    sample_n(...)\n",
    "\n",
    "# your code here\n",
    "fail() # No Answer - remove if you provide an answer\n",
    "answer2"
   ]
  },
  {
   "cell_type": "code",
   "execution_count": null,
   "metadata": {
    "deletable": false,
    "editable": false,
    "nbgrader": {
     "cell_type": "code",
     "checksum": "b77a51825a4682065b05a3e849538c39",
     "grade": true,
     "grade_id": "cell-78ac50fb41cd9a86",
     "locked": true,
     "points": 1,
     "schema_version": 3,
     "solution": false
    }
   },
   "outputs": [],
   "source": [
    "test_2.0()"
   ]
  },
  {
   "cell_type": "markdown",
   "metadata": {
    "deletable": false,
    "editable": false,
    "nbgrader": {
     "cell_type": "markdown",
     "checksum": "66257119916d391c11c887890a54b750",
     "grade": false,
     "grade_id": "cell-cbe9f9a5c4b7c264",
     "locked": true,
     "schema_version": 3,
     "solution": false
    }
   },
   "source": [
    "**Question 3.0**\n",
    "<br> {points: 1}\n",
    "\n",
    "Suppose we want to predict the race time for someone who ran a maximum distance of 100 miles per week during training. In the plot below we can see that no one has ran a maximum distance of 100 miles per week. But, if we are interested in prediction, how can we predict with this data? We can use k-nn regression! To do this we get the $Y$ values (target/response variable) of the nearest $k$ values and then take their average and use that as the prediction. \n",
    "\n",
    "For this question we want to predict race time based on the 4 closest neighbors to the 100 miles per week during training.\n",
    "\n",
    "Fill in the scaffolding below and assign your answer to an object named `answer3`."
   ]
  },
  {
   "cell_type": "code",
   "execution_count": null,
   "metadata": {
    "deletable": false,
    "editable": false,
    "nbgrader": {
     "cell_type": "code",
     "checksum": "73546d538ca184851c052f79b9caadaa",
     "grade": false,
     "grade_id": "cell-51d4b16bee915d31",
     "locked": true,
     "schema_version": 3,
     "solution": false,
     "task": false
    }
   },
   "outputs": [],
   "source": [
    "options(repr.plot.height = 3, repr.plot.width = 3)\n",
    "marathon_50 %>%\n",
    "    ggplot(aes(x = max, y = time_hrs)) + \n",
    "        geom_point(color = 'dodgerblue', alpha = 0.4) +\n",
    "        geom_vline(xintercept = 100, linetype = \"dotted\") +\n",
    "        xlab(\"Maximum Distance Ran per \\n Week During Training (mi)\") +\n",
    "        ylab(\"Race Time (hours)\") + \n",
    "        geom_segment(aes(x = 100, y = 2.56, xend = 107, yend = 2.56), col = \"orange\") +\n",
    "        geom_segment(aes(x = 100, y = 2.65, xend = 90, yend = 2.65), col = \"orange\") +\n",
    "        geom_segment(aes(x = 100, y = 2.99, xend = 86, yend = 2.99), col = \"orange\") +\n",
    "        geom_segment(aes(x = 100, y = 3.05, xend = 82, yend = 3.05), col = \"orange\")"
   ]
  },
  {
   "cell_type": "code",
   "execution_count": null,
   "metadata": {
    "deletable": false,
    "nbgrader": {
     "cell_type": "code",
     "checksum": "764f8609c283d226f2387fdfde0e96da",
     "grade": false,
     "grade_id": "cell-a8d1b15c312d9c3d",
     "locked": false,
     "schema_version": 3,
     "solution": true
    }
   },
   "outputs": [],
   "source": [
    "#answer3 <- ... %>% \n",
    "#  mutate(diff = abs(100 - ...)) %>% \n",
    "#  ...(diff) %>% \n",
    "#  head(...) %>%  #Controls the K\n",
    "#  summarise(predicted = ...(...)) %>%\n",
    "#  unlist()\n",
    "\n",
    "# your code here\n",
    "fail() # No Answer - remove if you provide an answer\n",
    "answer3"
   ]
  },
  {
   "cell_type": "code",
   "execution_count": null,
   "metadata": {
    "deletable": false,
    "editable": false,
    "nbgrader": {
     "cell_type": "code",
     "checksum": "5009d7846f565e8a8bc680274fa8800b",
     "grade": true,
     "grade_id": "cell-af7afd4794001c7b",
     "locked": true,
     "points": 1,
     "schema_version": 3,
     "solution": false
    }
   },
   "outputs": [],
   "source": [
    "test_3.0()"
   ]
  },
  {
   "cell_type": "markdown",
   "metadata": {
    "deletable": false,
    "editable": false,
    "nbgrader": {
     "cell_type": "markdown",
     "checksum": "977b292f8cb245120ee8eb86a1bbee77",
     "grade": false,
     "grade_id": "cell-0c2107e7f52efb3d",
     "locked": true,
     "schema_version": 3,
     "solution": false,
     "task": false
    }
   },
   "source": [
    "**Question 4.0**\n",
    "<br> {points: 1}\n",
    "\n",
    "For this question, let's instead predict the race time based on the 2 closest neighbors to the 100 miles per week during training.\n",
    "\n",
    "Assign your answer to an object named `answer4`."
   ]
  },
  {
   "cell_type": "code",
   "execution_count": null,
   "metadata": {
    "deletable": false,
    "nbgrader": {
     "cell_type": "code",
     "checksum": "3371f7bb2081a1f1eb48c702eebd05b6",
     "grade": false,
     "grade_id": "cell-44994bbd299ff0d0",
     "locked": false,
     "schema_version": 3,
     "solution": true
    }
   },
   "outputs": [],
   "source": [
    "# your code here\n",
    "fail() # No Answer - remove if you provide an answer\n",
    "answer4"
   ]
  },
  {
   "cell_type": "code",
   "execution_count": null,
   "metadata": {
    "deletable": false,
    "editable": false,
    "nbgrader": {
     "cell_type": "code",
     "checksum": "583a4300b1df6b60f37f8ac9470137e8",
     "grade": true,
     "grade_id": "cell-690e322810064165",
     "locked": true,
     "points": 1,
     "schema_version": 3,
     "solution": false
    }
   },
   "outputs": [],
   "source": [
    "test_4.0()"
   ]
  },
  {
   "cell_type": "markdown",
   "metadata": {
    "deletable": false,
    "editable": false,
    "nbgrader": {
     "cell_type": "markdown",
     "checksum": "a81338d8a3ca8abf7451e7475ad65254",
     "grade": false,
     "grade_id": "cell-3311ba44befa3767",
     "locked": true,
     "schema_version": 3,
     "solution": false
    }
   },
   "source": [
    "**Question 5.0** Multiple Choice:\n",
    "<br> {points: 1}\n",
    "\n",
    "Now that you have done k Nearest Neighbors predictions manually, which method would you use to choose the $k$?\n",
    "\n",
    "- A) Choose the $k$ that excludes most outliers\n",
    "- B) Choose the $k$ with the lowest training error\n",
    "- C) Choose the $k$ with the lowest cross-validation error\n",
    "- D) Choose the $k$ that includes the most data points\n",
    "- E) Choose the $k$ with the lowest testing error\n",
    "\n",
    "*Assing your answer to an object called `answer5`*"
   ]
  },
  {
   "cell_type": "code",
   "execution_count": null,
   "metadata": {
    "deletable": false,
    "nbgrader": {
     "cell_type": "code",
     "checksum": "c83dc077526feec5a878b16162803074",
     "grade": false,
     "grade_id": "cell-01b498d6b1415bf5",
     "locked": false,
     "schema_version": 3,
     "solution": true
    }
   },
   "outputs": [],
   "source": [
    "# Assign your answer to an object called: answer5\n",
    "# Make sure the correct answer is an uppercase letter. \n",
    "# Surround your answer with quotation marks.\n",
    "# Replace the fail() with your answer. \n",
    "\n",
    "# your code here\n",
    "fail() # No Answer - remove if you provide an answer"
   ]
  },
  {
   "cell_type": "code",
   "execution_count": null,
   "metadata": {
    "deletable": false,
    "editable": false,
    "nbgrader": {
     "cell_type": "code",
     "checksum": "a6e6dbf472457ba6aaecfaaff0437f27",
     "grade": true,
     "grade_id": "cell-7cbe965dbdb7228d",
     "locked": true,
     "points": 1,
     "schema_version": 3,
     "solution": false
    }
   },
   "outputs": [],
   "source": [
    "test_5.0()"
   ]
  },
  {
   "cell_type": "markdown",
   "metadata": {
    "deletable": false,
    "editable": false,
    "nbgrader": {
     "cell_type": "markdown",
     "checksum": "52294282958dead00a2a3a40c3212b68",
     "grade": false,
     "grade_id": "cell-b3b34499fe540e49",
     "locked": true,
     "schema_version": 3,
     "solution": false
    }
   },
   "source": [
    "**Question 6.0**\n",
    "<br> {points: 1}\n",
    "\n",
    "We have seen how to do k-nn regression manually, now we will apply it to the whole dataset using the `caret` package. For this we first need to create a training and testing sets. Remember we won't touch the test dataset until the end. \n",
    "\n",
    "For this question create an object called `training_rows` that includes the indexes of the rows we will use. \n",
    "\n",
    "*Use 75% of the data as training data*"
   ]
  },
  {
   "cell_type": "code",
   "execution_count": null,
   "metadata": {
    "deletable": false,
    "nbgrader": {
     "cell_type": "code",
     "checksum": "59cc22e747b56b7d4c748d7e4723219f",
     "grade": false,
     "grade_id": "cell-8257a9338314019e",
     "locked": false,
     "schema_version": 3,
     "solution": true
    }
   },
   "outputs": [],
   "source": [
    "set.seed(2000) ### DO NOT CHANGE\n",
    "\n",
    "#... <- marathon %>% \n",
    "#  select(max) %>% \n",
    "#  unlist() %>%\n",
    "#  createDataPartition(p = ..., list = FALSE)\n",
    "\n",
    "# your code here\n",
    "fail() # No Answer - remove if you provide an answer\n",
    "head(training_rows)"
   ]
  },
  {
   "cell_type": "code",
   "execution_count": null,
   "metadata": {
    "deletable": false,
    "editable": false,
    "nbgrader": {
     "cell_type": "code",
     "checksum": "25046704f1a619c093f639895b03bc5b",
     "grade": true,
     "grade_id": "cell-381c8aeacf15fd35",
     "locked": true,
     "points": 1,
     "schema_version": 3,
     "solution": false
    }
   },
   "outputs": [],
   "source": [
    "test_6.0()"
   ]
  },
  {
   "cell_type": "markdown",
   "metadata": {
    "deletable": false,
    "editable": false,
    "nbgrader": {
     "cell_type": "markdown",
     "checksum": "bdb427dcdf52fa207f740329d3ebebdd",
     "grade": false,
     "grade_id": "cell-0c01c0b6cf4d8e91",
     "locked": true,
     "schema_version": 3,
     "solution": false,
     "task": false
    }
   },
   "source": [
    "**Question 7.0**\n",
    "<br> {points: 1}\n",
    "\n",
    "Create the training and testing datasets by filling the scaffoldings below. The scaffolding for the training dataset is given below. \n",
    "\n",
    "Assing your answer to objects called `X_train`, `Y_train`, `X_test`, `Y_test` respectively.\n",
    "\n",
    "*Hint: For the test dataset you can use the `-` sign inside the `slice()` function.*"
   ]
  },
  {
   "cell_type": "code",
   "execution_count": null,
   "metadata": {
    "deletable": false,
    "nbgrader": {
     "cell_type": "code",
     "checksum": "e7fba5b85f13db83f727469a0a4d95bf",
     "grade": false,
     "grade_id": "cell-766f1e094dd32efc",
     "locked": false,
     "schema_version": 3,
     "solution": true
    }
   },
   "outputs": [],
   "source": [
    "#X_train <- marathon %>% \n",
    "#  select(...) %>% \n",
    "#  slice(training_rows) %>% \n",
    "#  data.frame()\n",
    "\n",
    "#Y_train <- marathon %>% \n",
    "#  select(...) %>% \n",
    "#  slice(training_rows) %>% \n",
    "#  unlist()\n",
    "\n",
    "# your code here\n",
    "fail() # No Answer - remove if you provide an answer"
   ]
  },
  {
   "cell_type": "code",
   "execution_count": null,
   "metadata": {
    "deletable": false,
    "editable": false,
    "nbgrader": {
     "cell_type": "code",
     "checksum": "81e32ccc9a1601d188f1378e8aecfc6d",
     "grade": true,
     "grade_id": "cell-289bc7a299c4f482",
     "locked": true,
     "points": 1,
     "schema_version": 3,
     "solution": false
    }
   },
   "outputs": [],
   "source": [
    "test_7.0()"
   ]
  },
  {
   "cell_type": "markdown",
   "metadata": {
    "deletable": false,
    "editable": false,
    "nbgrader": {
     "cell_type": "markdown",
     "checksum": "077d7ecc26ffe53eda31b72b9137a93e",
     "grade": false,
     "grade_id": "cell-7cd5193eecc27c30",
     "locked": true,
     "schema_version": 3,
     "solution": false
    }
   },
   "source": [
    "**Question 8.0**\n",
    "<br> {points: 1}\n",
    "\n",
    "Now that we have separated the data into training and testing sets, let's choose the $k$ for our $k$-nearest neighbours algorithm. We can do this using cross-validation as we've seen before for k-nn classification. In this exercise we will do **3-fold** cross validation searching for a K **from 1 to 150 in steps of size 10**. For this question name your model object (output from `train`) `knn_cv`. "
   ]
  },
  {
   "cell_type": "code",
   "execution_count": null,
   "metadata": {
    "deletable": false,
    "nbgrader": {
     "cell_type": "code",
     "checksum": "c443c4a277987edb0257043f3fa5e8e6",
     "grade": false,
     "grade_id": "cell-8c7e7ded673d28ec",
     "locked": false,
     "schema_version": 3,
     "solution": true
    }
   },
   "outputs": [],
   "source": [
    "set.seed(2019) # DO NOT CHANGE\n",
    "# your code here\n",
    "fail() # No Answer - remove if you provide an answer\n",
    "knn_cv"
   ]
  },
  {
   "cell_type": "code",
   "execution_count": null,
   "metadata": {
    "deletable": false,
    "editable": false,
    "nbgrader": {
     "cell_type": "code",
     "checksum": "7c81641a87fa6819b68973bf5315d3c1",
     "grade": true,
     "grade_id": "cell-29d608ebfdd11366",
     "locked": true,
     "points": 1,
     "schema_version": 3,
     "solution": false
    }
   },
   "outputs": [],
   "source": [
    "test_8.0()"
   ]
  },
  {
   "cell_type": "markdown",
   "metadata": {
    "deletable": false,
    "editable": false,
    "nbgrader": {
     "cell_type": "markdown",
     "checksum": "37b1c81ac4c15ff2e0d699af26de0422",
     "grade": false,
     "grade_id": "cell-35eaea9c384c5f6c",
     "locked": true,
     "schema_version": 3,
     "solution": false
    }
   },
   "source": [
    "**Question 8.1**\n",
    "<br> {points: 1}\n",
    "\n",
    "Plot the results from cross-validation as a line and point plot with cross-validation error (as $RMSPE$) on the y-axis and $k$ on the x-axis. Name your plot object `choosing_k`."
   ]
  },
  {
   "cell_type": "code",
   "execution_count": null,
   "metadata": {
    "deletable": false,
    "nbgrader": {
     "cell_type": "code",
     "checksum": "fa4a978b45d70cf06c490f5936af18d8",
     "grade": false,
     "grade_id": "cell-f9738d45da9e8a77",
     "locked": false,
     "schema_version": 3,
     "solution": true
    }
   },
   "outputs": [],
   "source": [
    "# your code here\n",
    "fail() # No Answer - remove if you provide an answer\n",
    "choosing_k"
   ]
  },
  {
   "cell_type": "code",
   "execution_count": null,
   "metadata": {
    "deletable": false,
    "editable": false,
    "nbgrader": {
     "cell_type": "code",
     "checksum": "f6e36629a5557baacb615205df90e6f7",
     "grade": true,
     "grade_id": "cell-a1e34e1fb62d79f5",
     "locked": true,
     "points": 1,
     "schema_version": 3,
     "solution": false
    }
   },
   "outputs": [],
   "source": [
    "test_8.1()"
   ]
  },
  {
   "cell_type": "markdown",
   "metadata": {
    "deletable": false,
    "editable": false,
    "nbgrader": {
     "cell_type": "markdown",
     "checksum": "3b19155ab1d2124f5b0e2761261ed0a9",
     "grade": false,
     "grade_id": "cell-28a414eb59f5ae20",
     "locked": true,
     "schema_version": 3,
     "solution": false
    }
   },
   "source": [
    "**Question 8.2**\n",
    "<br> {points: 1}\n",
    "\n",
    "Report the best $k$ for k-nn regression for this data set. Save your answer as an object named `best_k`. We provide scaffolding to help you choose the $k$ from the long list that you came up with:"
   ]
  },
  {
   "cell_type": "code",
   "execution_count": null,
   "metadata": {
    "deletable": false,
    "nbgrader": {
     "cell_type": "code",
     "checksum": "17665d7cb6591060d4069ff86bfd46ac",
     "grade": false,
     "grade_id": "cell-a4de6046a0bd5f96",
     "locked": false,
     "schema_version": 3,
     "solution": true
    }
   },
   "outputs": [],
   "source": [
    "#best_k <- knn_cv$results %>%\n",
    "#    filter(... == min(...)) %>%\n",
    "#    select(..) %>%\n",
    "#    unlist()\n",
    "\n",
    "# your code here\n",
    "fail() # No Answer - remove if you provide an answer\n",
    "best_k"
   ]
  },
  {
   "cell_type": "code",
   "execution_count": null,
   "metadata": {
    "deletable": false,
    "editable": false,
    "nbgrader": {
     "cell_type": "code",
     "checksum": "bf6b13b252a8b4c0bb2fb63a8e8623e3",
     "grade": true,
     "grade_id": "cell-94fab75dca459b65",
     "locked": true,
     "points": 1,
     "schema_version": 3,
     "solution": false
    }
   },
   "outputs": [],
   "source": [
    "test_8.2()"
   ]
  },
  {
   "cell_type": "markdown",
   "metadata": {
    "deletable": false,
    "editable": false,
    "nbgrader": {
     "cell_type": "markdown",
     "checksum": "db8f2acd6fc67f4477b937f8522f7f26",
     "grade": false,
     "grade_id": "cell-f527fba0cc1ca89d",
     "locked": true,
     "schema_version": 3,
     "solution": false
    }
   },
   "source": [
    "**Question 9.0**\n",
    "<br> {points: 1}\n",
    "\n",
    "Re-train your k-nn regression model with the best $k$ that you found in **Question 8** using the entire training data set. Assign the model to an object called `knn_model`."
   ]
  },
  {
   "cell_type": "code",
   "execution_count": null,
   "metadata": {
    "deletable": false,
    "nbgrader": {
     "cell_type": "code",
     "checksum": "b542f322d8f0c91a78c934012c4cd93e",
     "grade": false,
     "grade_id": "cell-e623a65f902a7e98",
     "locked": false,
     "schema_version": 3,
     "solution": true
    }
   },
   "outputs": [],
   "source": [
    "set.seed(2019) # DO NOT CHANGE\n",
    "\n",
    "# your code here\n",
    "fail() # No Answer - remove if you provide an answer\n",
    "knn_model"
   ]
  },
  {
   "cell_type": "code",
   "execution_count": null,
   "metadata": {
    "deletable": false,
    "editable": false,
    "nbgrader": {
     "cell_type": "code",
     "checksum": "4a77a1e19f18c0f4a00480edc90d717c",
     "grade": true,
     "grade_id": "cell-5eff9c974a058bdf",
     "locked": true,
     "points": 1,
     "schema_version": 3,
     "solution": false
    }
   },
   "outputs": [],
   "source": [
    "test_9.0()"
   ]
  },
  {
   "cell_type": "markdown",
   "metadata": {
    "deletable": false,
    "editable": false,
    "nbgrader": {
     "cell_type": "markdown",
     "checksum": "9de014824b7aa10196c397f8c1c01e20",
     "grade": false,
     "grade_id": "cell-73aeadee1a8dbc15",
     "locked": true,
     "schema_version": 3,
     "solution": false
    }
   },
   "source": [
    "**Question 10.0**\n",
    "<br> {points: 1}\n",
    "\n",
    "Using the `knn_model`, predict the test data and save it to an object called `predictions`. "
   ]
  },
  {
   "cell_type": "code",
   "execution_count": null,
   "metadata": {
    "deletable": false,
    "nbgrader": {
     "cell_type": "code",
     "checksum": "f413ad3d34694a1cfdaf2278ed805931",
     "grade": false,
     "grade_id": "cell-3669c3b0c6c51b1f",
     "locked": false,
     "schema_version": 3,
     "solution": true
    }
   },
   "outputs": [],
   "source": [
    "set.seed(2019) # DO NOT CHANGE\n",
    "\n",
    "# your code here\n",
    "fail() # No Answer - remove if you provide an answer\n",
    "head(predictions)"
   ]
  },
  {
   "cell_type": "code",
   "execution_count": null,
   "metadata": {
    "deletable": false,
    "editable": false,
    "nbgrader": {
     "cell_type": "code",
     "checksum": "a46d6c63f518897e537af368783ee3e0",
     "grade": true,
     "grade_id": "cell-3cec20c48240f513",
     "locked": true,
     "points": 1,
     "schema_version": 3,
     "solution": false
    }
   },
   "outputs": [],
   "source": [
    "test_10.0()"
   ]
  },
  {
   "cell_type": "markdown",
   "metadata": {
    "deletable": false,
    "editable": false,
    "nbgrader": {
     "cell_type": "markdown",
     "checksum": "9d745410f6fb9ffcc93cb4e879c96164",
     "grade": false,
     "grade_id": "cell-94b40e5060598d9f",
     "locked": true,
     "schema_version": 3,
     "solution": false
    }
   },
   "source": [
    "**Question 11.0**\n",
    "<br> {points: 1}\n",
    "\n",
    "Now with these predictions calculate the test error as $RMSPE$ (how well the predictions on the test data match the true values of the test data set). Use the `defaultSummary` function to obtain the test error as $RMSPE$, and name the object returned from it `test_error`."
   ]
  },
  {
   "cell_type": "code",
   "execution_count": null,
   "metadata": {
    "deletable": false,
    "nbgrader": {
     "cell_type": "code",
     "checksum": "815674e884829e0310a7f11e1e9ef712",
     "grade": false,
     "grade_id": "cell-a26e6074f574a39d",
     "locked": false,
     "schema_version": 3,
     "solution": true
    }
   },
   "outputs": [],
   "source": [
    "set.seed(2019) # DO NOT CHANGE\n",
    "# your code here\n",
    "fail() # No Answer - remove if you provide an answer\n",
    "test_error"
   ]
  },
  {
   "cell_type": "code",
   "execution_count": null,
   "metadata": {
    "deletable": false,
    "editable": false,
    "nbgrader": {
     "cell_type": "code",
     "checksum": "121e8458b2e71f7da196e8f42e91878d",
     "grade": true,
     "grade_id": "cell-357e2a495c876d95",
     "locked": true,
     "points": 1,
     "schema_version": 3,
     "solution": false
    }
   },
   "outputs": [],
   "source": [
    "test_11.0()"
   ]
  },
  {
   "cell_type": "markdown",
   "metadata": {
    "deletable": false,
    "editable": false,
    "nbgrader": {
     "cell_type": "markdown",
     "checksum": "f96938781f0df80081cccee414341701",
     "grade": false,
     "grade_id": "cell-5c7a0a2e29cca209",
     "locked": true,
     "schema_version": 3,
     "solution": false
    }
   },
   "source": [
    "**Question 11.1**\n",
    "\n",
    "The test error is larger than the cross-validation error for the best $k$, true or false? Save your answer as `\"true\"` or `\"false\"` and name it `answer11.1`"
   ]
  },
  {
   "cell_type": "code",
   "execution_count": null,
   "metadata": {
    "deletable": false,
    "nbgrader": {
     "cell_type": "code",
     "checksum": "4f7582de3f92b2947c7d4ad9a4bf0caa",
     "grade": false,
     "grade_id": "cell-449bf0dd8379f200",
     "locked": false,
     "schema_version": 3,
     "solution": true
    }
   },
   "outputs": [],
   "source": [
    "# your code here\n",
    "fail() # No Answer - remove if you provide an answer"
   ]
  },
  {
   "cell_type": "code",
   "execution_count": null,
   "metadata": {
    "deletable": false,
    "editable": false,
    "nbgrader": {
     "cell_type": "code",
     "checksum": "9398770d9b7e0402ce2e79faa453779e",
     "grade": true,
     "grade_id": "cell-17d15559fbd9d8d1",
     "locked": true,
     "points": 1,
     "schema_version": 3,
     "solution": false
    }
   },
   "outputs": [],
   "source": [
    "test_11.1()"
   ]
  },
  {
   "cell_type": "markdown",
   "metadata": {
    "deletable": false,
    "editable": false,
    "nbgrader": {
     "cell_type": "markdown",
     "checksum": "895c931e4f9a46aad65bb565f16fdc91",
     "grade": false,
     "grade_id": "cell-11409b2331fd1249",
     "locked": true,
     "schema_version": 3,
     "solution": false
    }
   },
   "source": [
    "**Question 11.2**\n",
    "<br> {points: 1}\n",
    "\n",
    "Given that $RMSPE$ is in the units of the target/response variable, the test error $RMSPE$ seems **very** large (and thus indicates that our predictions are likely not very good). True or false? Save your answer as `\"true\"` or `\"false\"` and name it `answer11.2`"
   ]
  },
  {
   "cell_type": "code",
   "execution_count": null,
   "metadata": {
    "deletable": false,
    "nbgrader": {
     "cell_type": "code",
     "checksum": "75583ec43bd96dbf3774e093b3f64e79",
     "grade": false,
     "grade_id": "cell-3ec34bef482a21d5",
     "locked": false,
     "schema_version": 3,
     "solution": true
    }
   },
   "outputs": [],
   "source": [
    "# your code here\n",
    "fail() # No Answer - remove if you provide an answer"
   ]
  },
  {
   "cell_type": "code",
   "execution_count": null,
   "metadata": {
    "deletable": false,
    "editable": false,
    "nbgrader": {
     "cell_type": "code",
     "checksum": "ba24f443c545054301f3d099ecfe3724",
     "grade": true,
     "grade_id": "cell-d1cc0ba8c60035ed",
     "locked": true,
     "points": 1,
     "schema_version": 3,
     "solution": false
    }
   },
   "outputs": [],
   "source": [
    "test_11.2()"
   ]
  },
  {
   "cell_type": "markdown",
   "metadata": {
    "deletable": false,
    "editable": false,
    "nbgrader": {
     "cell_type": "markdown",
     "checksum": "4180769ff65f448770618e34f5870a38",
     "grade": false,
     "grade_id": "cell-51a6b3078ae504bc",
     "locked": true,
     "schema_version": 3,
     "solution": false
    }
   },
   "source": [
    "**Question 12.0**\n",
    "<br> {points: 1}\n",
    "\n",
    "Using the `knn_model` trained on the entire training set (from Question 9.0), predict across the range of values observed in the training data set. Store the predictions as a column named `time_hrs` in a data frame named `full_predictions`. That data frame should also have a column named `max` that contains the values you predicted across.\n",
    "\n",
    "- Use the `min` and `max` functions to find the upper and lower limits of predictor/explanatory variable values in the training data set.\n",
    "- Use the `seq` function to create the column called `max` that contains the values you would like to predict across."
   ]
  },
  {
   "cell_type": "code",
   "execution_count": null,
   "metadata": {
    "deletable": false,
    "nbgrader": {
     "cell_type": "code",
     "checksum": "5af3ec42cabb0ac864a1d55e53bef8e1",
     "grade": false,
     "grade_id": "cell-21355ea6734bb1ac",
     "locked": false,
     "schema_version": 3,
     "solution": true
    }
   },
   "outputs": [],
   "source": [
    "set.seed(2019) # DO NOT CHANGE\n",
    "#upper <- X_train %>% \n",
    "#    select(max) %>% \n",
    "#    max() \n",
    "#lower <- ... %>% \n",
    "#    ... %>% \n",
    "#    ...\n",
    "#... <- data.frame(max = seq(from = ..., to = ..., by = 1))\n",
    "#full_predictions <- ... %>% \n",
    "#    mutate(... = predict(..., ...))\n",
    "\n",
    "# your code here\n",
    "fail() # No Answer - remove if you provide an answer\n",
    "head(full_predictions)\n",
    "round(sum(full_predictions$time_hrs))"
   ]
  },
  {
   "cell_type": "code",
   "execution_count": null,
   "metadata": {
    "deletable": false,
    "editable": false,
    "nbgrader": {
     "cell_type": "code",
     "checksum": "4c46893684786fd05b4ed909c261054f",
     "grade": true,
     "grade_id": "cell-b077f59c6228c632",
     "locked": true,
     "points": 1,
     "schema_version": 3,
     "solution": false
    }
   },
   "outputs": [],
   "source": [
    "test_12.0()"
   ]
  },
  {
   "cell_type": "markdown",
   "metadata": {
    "deletable": false,
    "editable": false,
    "nbgrader": {
     "cell_type": "markdown",
     "checksum": "70a507ef94a812077232bd3edb8df18c",
     "grade": false,
     "grade_id": "cell-13cd12a23e44d639",
     "locked": true,
     "schema_version": 3,
     "solution": false
    }
   },
   "source": [
    "**Question 13.0**\n",
    "<br> {points: 1}\n",
    "\n",
    "Plot these predictions as a blue line over the data points from the training set. You will have to create a single data frame containing the training data set to do this. One way you can do this is by combining `X_train` and `Y_train` using the `bind_cols` function. Name your plot `predict_plot`."
   ]
  },
  {
   "cell_type": "code",
   "execution_count": null,
   "metadata": {
    "deletable": false,
    "nbgrader": {
     "cell_type": "code",
     "checksum": "dbb892585ed1256451ca9ab9763a845a",
     "grade": false,
     "grade_id": "cell-86df795ac996f39f",
     "locked": false,
     "schema_version": 3,
     "solution": true
    }
   },
   "outputs": [],
   "source": [
    "# your code here\n",
    "fail() # No Answer - remove if you provide an answer\n",
    "predict_plot"
   ]
  },
  {
   "cell_type": "code",
   "execution_count": null,
   "metadata": {
    "deletable": false,
    "editable": false,
    "nbgrader": {
     "cell_type": "code",
     "checksum": "857183db3da3e953d063197dc0688897",
     "grade": true,
     "grade_id": "cell-cb23eb77e3b018aa",
     "locked": true,
     "points": 1,
     "schema_version": 3,
     "solution": false
    }
   },
   "outputs": [],
   "source": [
    "test_13.0()"
   ]
  }
 ],
 "metadata": {
  "kernelspec": {
   "display_name": "R",
   "language": "R",
   "name": "ir"
  },
  "language_info": {
   "codemirror_mode": "r",
   "file_extension": ".r",
   "mimetype": "text/x-r-source",
   "name": "R",
   "pygments_lexer": "r",
   "version": "3.6.1"
  }
 },
 "nbformat": 4,
 "nbformat_minor": 2
}
