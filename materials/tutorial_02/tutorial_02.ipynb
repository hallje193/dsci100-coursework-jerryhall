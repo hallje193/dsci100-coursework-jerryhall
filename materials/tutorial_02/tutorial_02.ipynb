{
 "cells": [
  {
   "cell_type": "markdown",
   "metadata": {
    "deletable": false,
    "editable": false,
    "nbgrader": {
     "cell_type": "markdown",
     "checksum": "2609ff2648ad5b371c9df81b12c29296",
     "grade": false,
     "grade_id": "cell-48e0878ab9822be7",
     "locked": true,
     "schema_version": 3,
     "solution": false,
     "task": false
    }
   },
   "source": [
    "# Tutorial 2: Introduction to Reading Data\n",
    "\n",
    "Any place you see `...`, you must fill in the function, variable, or data to complete the code. Replace `fail()` with your completed code and run the cell!"
   ]
  },
  {
   "cell_type": "code",
   "execution_count": 1,
   "metadata": {
    "deletable": false,
    "editable": false,
    "nbgrader": {
     "cell_type": "code",
     "checksum": "080b85be95d555b7babeed7de8bd889b",
     "grade": false,
     "grade_id": "cell-b44a86895fe6acc9",
     "locked": true,
     "schema_version": 3,
     "solution": false,
     "task": false
    }
   },
   "outputs": [
    {
     "name": "stderr",
     "output_type": "stream",
     "text": [
      "── \u001b[1mAttaching packages\u001b[22m ─────────────────────────────────────── tidyverse 1.2.1 ──\n",
      "\u001b[32m✔\u001b[39m \u001b[34mggplot2\u001b[39m 3.2.0     \u001b[32m✔\u001b[39m \u001b[34mpurrr  \u001b[39m 0.3.2\n",
      "\u001b[32m✔\u001b[39m \u001b[34mtibble \u001b[39m 2.1.3     \u001b[32m✔\u001b[39m \u001b[34mdplyr  \u001b[39m 0.8.3\n",
      "\u001b[32m✔\u001b[39m \u001b[34mtidyr  \u001b[39m 0.8.3     \u001b[32m✔\u001b[39m \u001b[34mstringr\u001b[39m 1.4.0\n",
      "\u001b[32m✔\u001b[39m \u001b[34mreadr  \u001b[39m 1.3.1     \u001b[32m✔\u001b[39m \u001b[34mforcats\u001b[39m 0.4.0\n",
      "── \u001b[1mConflicts\u001b[22m ────────────────────────────────────────── tidyverse_conflicts() ──\n",
      "\u001b[31m✖\u001b[39m \u001b[34mdplyr\u001b[39m::\u001b[32mfilter()\u001b[39m masks \u001b[34mstats\u001b[39m::filter()\n",
      "\u001b[31m✖\u001b[39m \u001b[34mdplyr\u001b[39m::\u001b[32mlag()\u001b[39m    masks \u001b[34mstats\u001b[39m::lag()\n",
      "Loading required package: xml2\n",
      "\n",
      "Attaching package: ‘rvest’\n",
      "\n",
      "The following object is masked from ‘package:purrr’:\n",
      "\n",
      "    pluck\n",
      "\n",
      "The following object is masked from ‘package:readr’:\n",
      "\n",
      "    guess_encoding\n",
      "\n",
      "\n",
      "Attaching package: ‘testthat’\n",
      "\n",
      "The following object is masked from ‘package:dplyr’:\n",
      "\n",
      "    matches\n",
      "\n",
      "The following object is masked from ‘package:purrr’:\n",
      "\n",
      "    is_null\n",
      "\n"
     ]
    }
   ],
   "source": [
    "### Run this cell before continuing. \n",
    "library(tidyverse)\n",
    "library(repr)\n",
    "library(rvest)\n",
    "library(stringr)\n",
    "source(\"tests_tutorial_02.R\")"
   ]
  },
  {
   "cell_type": "markdown",
   "metadata": {
    "deletable": false,
    "editable": false,
    "nbgrader": {
     "cell_type": "markdown",
     "checksum": "18908f746808d6d293fccd8f2ed76b96",
     "grade": false,
     "grade_id": "cell-eb886aee74edfc54",
     "locked": true,
     "schema_version": 3,
     "solution": false,
     "task": false
    }
   },
   "source": [
    "## 1. Happiness Report\n",
    "As you might remember from worksheet_02, we practiced loading data from the *Sustainable Development Solutions Network*'s [World Happiness Report](http://worldhappiness.report/). That data was the output of their analysis that calculated each country's happiness score and how much each variable contributed to it. In the tutorial, we are going to look at the data at an earlier stage of the study - the aggregated/averaged values (per country and per year) for many different social and health aspects that the researchers anticipated might contribute to happiness (Table2.1 from [this Excel spreadsheet](https://s3.amazonaws.com/happiness-report/2018/WHR2018Chapter2OnlineData.xls)).\n",
    "\n",
    "The goal for today is to produce a plot of 2017 positive affect against healthy life expectancy at birth, where we plot healthy life expectancy at birth on the x-axis and positive affect on the y-axis. For this study, positive affect was defined as the average of three positive affect measures, specifically happiness, laugh and enjoyment. We would also like to convert the positive affect score from a scale of 0 - 1 to a scale from 0 - 10.\n",
    "\n",
    "1. use `filter` to subset the rows where the year is equal to 2017\n",
    "2. use `select` to subset the \"Healthy life expectancy at birth\" and \"Positive affect\" columns \n",
    "3. use `mutate` to convert the \"Positive affect\" score from a scale of 0 - 1 to a scale from 0 - 10\n",
    "4. use `ggplot` to create our plot of \"Healthy life expectancy at birth\" (x - axis) and \"Positive affect\" (y - axis)\n",
    "\n",
    "**Hints for success:** Try going through all the steps on your own, but don't forget to talk to others (classmates, TAs, Instructor) if you need help getting unstuck. Work with different functions and if something doesn't work out, read the *error message* or use the `help()` function. Since there are a lot of steps to working and modifying data, feel free to look back at `worksheet_02`. "
   ]
  },
  {
   "cell_type": "markdown",
   "metadata": {
    "deletable": false,
    "editable": false,
    "nbgrader": {
     "cell_type": "markdown",
     "checksum": "da5af0b9ae51c597f127046a1caa4b7a",
     "grade": false,
     "grade_id": "cell-eaa4671c9bc261f5",
     "locked": true,
     "schema_version": 3,
     "solution": false
    }
   },
   "source": [
    "**Question 1.1** Multiple Choice: \n",
    "<br> {points: 1}\n",
    "\n",
    "What is the maximum value for the Positive affect score (in the original data file that you read into R)?\n",
    "\n",
    "A. 100\n",
    "\n",
    "B. 10 \n",
    "\n",
    "C. 1\n",
    "\n",
    "D. 0.1\n",
    "\n",
    "E. 5\n",
    "\n",
    "*Assign your answer to an object called `answer1`.*"
   ]
  },
  {
   "cell_type": "code",
   "execution_count": 2,
   "metadata": {
    "deletable": false,
    "nbgrader": {
     "cell_type": "code",
     "checksum": "5e5042c61177288048a7f9d6d698f998",
     "grade": false,
     "grade_id": "cell-e18dc09310ee7801",
     "locked": false,
     "schema_version": 3,
     "solution": true
    }
   },
   "outputs": [],
   "source": [
    "# Make sure the correct answer is an uppercase letter. \n",
    "# Surround your answer with quotation marks.\n",
    "# Replace the fail() with your answer. \n",
    "\n",
    "# your code here\n",
    "answer1 <- 'C'"
   ]
  },
  {
   "cell_type": "code",
   "execution_count": 3,
   "metadata": {
    "deletable": false,
    "editable": false,
    "nbgrader": {
     "cell_type": "code",
     "checksum": "4d894fb26d20bb6cab2729664ecf4364",
     "grade": true,
     "grade_id": "cell-f1313c7d1348ac8c",
     "locked": true,
     "points": 1,
     "schema_version": 3,
     "solution": false
    }
   },
   "outputs": [
    {
     "name": "stdout",
     "output_type": "stream",
     "text": [
      "[1] \"Success!\"\n"
     ]
    }
   ],
   "source": [
    "test_1.1()"
   ]
  },
  {
   "cell_type": "markdown",
   "metadata": {
    "deletable": false,
    "editable": false,
    "nbgrader": {
     "cell_type": "markdown",
     "checksum": "2e59fec0d512ac05e5ea196f9de09179",
     "grade": false,
     "grade_id": "cell-27175166f20aece1",
     "locked": true,
     "schema_version": 3,
     "solution": false
    }
   },
   "source": [
    "**Question 1.2** Multiple Choice: \n",
    "<br> {points: 1}\n",
    "\n",
    "Which column's values will be used to filter the data?\n",
    "\n",
    "A. `countries`\n",
    "\n",
    "B. `generosity`\n",
    "\n",
    "C. `positive affect`\n",
    "\n",
    "D. `year`\n",
    "\n",
    "*Assign your answer to an object called `answer2`.*"
   ]
  },
  {
   "cell_type": "code",
   "execution_count": 4,
   "metadata": {
    "deletable": false,
    "nbgrader": {
     "cell_type": "code",
     "checksum": "e1bda6f685eb7efe4047f15fa1fcab72",
     "grade": false,
     "grade_id": "cell-16da567171536519",
     "locked": false,
     "schema_version": 3,
     "solution": true
    }
   },
   "outputs": [],
   "source": [
    "# Make sure the correct answer is an uppercase letter. \n",
    "# Surround your answer with quotation marks.\n",
    "# Replace the fail() with your answer. \n",
    "\n",
    "# your code here\n",
    "answer2 <- 'D'"
   ]
  },
  {
   "cell_type": "code",
   "execution_count": 5,
   "metadata": {
    "deletable": false,
    "editable": false,
    "nbgrader": {
     "cell_type": "code",
     "checksum": "cf3e841faeaed27e4ff1ecbdcf588ef5",
     "grade": true,
     "grade_id": "cell-8bd586d238ebce67",
     "locked": true,
     "points": 1,
     "schema_version": 3,
     "solution": false
    }
   },
   "outputs": [
    {
     "name": "stdout",
     "output_type": "stream",
     "text": [
      "[1] \"Success!\"\n"
     ]
    }
   ],
   "source": [
    "test_1.2()"
   ]
  },
  {
   "cell_type": "markdown",
   "metadata": {
    "deletable": false,
    "editable": false,
    "nbgrader": {
     "cell_type": "markdown",
     "checksum": "a9c9d8926a7fe870df85b87bf0361f3f",
     "grade": false,
     "grade_id": "cell-c9e29373e8731516",
     "locked": true,
     "schema_version": 3,
     "solution": false
    }
   },
   "source": [
    "**Question 1.3.0**\n",
    "<br> {points: 1}\n",
    "\n",
    "Use the appropriate `read_*` function to read in the `WHR2018Chapter2OnlineData` (look in the `tutorial_02` directory to ensure you use the correct relative path to read it in) and name it `happy_df_csv`."
   ]
  },
  {
   "cell_type": "code",
   "execution_count": 6,
   "metadata": {
    "deletable": false,
    "nbgrader": {
     "cell_type": "code",
     "checksum": "239e946929a360145f0eda9ef4915fff",
     "grade": false,
     "grade_id": "cell-be35369b600c489e",
     "locked": false,
     "schema_version": 3,
     "solution": true
    }
   },
   "outputs": [
    {
     "name": "stderr",
     "output_type": "stream",
     "text": [
      "Parsed with column specification:\n",
      "cols(\n",
      "  country = \u001b[31mcol_character()\u001b[39m,\n",
      "  year = \u001b[32mcol_double()\u001b[39m,\n",
      "  `Life Ladder` = \u001b[32mcol_double()\u001b[39m,\n",
      "  `Log GDP per capita` = \u001b[32mcol_double()\u001b[39m,\n",
      "  `Social support` = \u001b[32mcol_double()\u001b[39m,\n",
      "  `Healthy life expectancy at birth` = \u001b[32mcol_double()\u001b[39m,\n",
      "  `Freedom to make life choices` = \u001b[32mcol_double()\u001b[39m,\n",
      "  Generosity = \u001b[32mcol_double()\u001b[39m,\n",
      "  `Perceptions of corruption` = \u001b[32mcol_double()\u001b[39m,\n",
      "  `Positive affect` = \u001b[32mcol_double()\u001b[39m,\n",
      "  `Negative affect` = \u001b[32mcol_double()\u001b[39m,\n",
      "  `Confidence in national government` = \u001b[32mcol_double()\u001b[39m,\n",
      "  `Democratic Quality` = \u001b[32mcol_double()\u001b[39m,\n",
      "  `Delivery Quality` = \u001b[32mcol_double()\u001b[39m,\n",
      "  `Standard deviation of ladder by country-year` = \u001b[32mcol_double()\u001b[39m,\n",
      "  `Standard deviation/Mean of ladder by country-year` = \u001b[32mcol_double()\u001b[39m,\n",
      "  `GINI index (World Bank estimate)` = \u001b[32mcol_double()\u001b[39m,\n",
      "  `GINI index (World Bank estimate), average 2000-15` = \u001b[32mcol_double()\u001b[39m,\n",
      "  `gini of household income reported in Gallup, by wp5-year` = \u001b[32mcol_double()\u001b[39m\n",
      ")\n"
     ]
    },
    {
     "data": {
      "text/html": [
       "<table>\n",
       "<caption>A tibble: 6 × 19</caption>\n",
       "<thead>\n",
       "\t<tr><th scope=col>country</th><th scope=col>year</th><th scope=col>Life Ladder</th><th scope=col>Log GDP per capita</th><th scope=col>Social support</th><th scope=col>Healthy life expectancy at birth</th><th scope=col>Freedom to make life choices</th><th scope=col>Generosity</th><th scope=col>Perceptions of corruption</th><th scope=col>Positive affect</th><th scope=col>Negative affect</th><th scope=col>Confidence in national government</th><th scope=col>Democratic Quality</th><th scope=col>Delivery Quality</th><th scope=col>Standard deviation of ladder by country-year</th><th scope=col>Standard deviation/Mean of ladder by country-year</th><th scope=col>GINI index (World Bank estimate)</th><th scope=col>GINI index (World Bank estimate), average 2000-15</th><th scope=col>gini of household income reported in Gallup, by wp5-year</th></tr>\n",
       "\t<tr><th scope=col>&lt;chr&gt;</th><th scope=col>&lt;dbl&gt;</th><th scope=col>&lt;dbl&gt;</th><th scope=col>&lt;dbl&gt;</th><th scope=col>&lt;dbl&gt;</th><th scope=col>&lt;dbl&gt;</th><th scope=col>&lt;dbl&gt;</th><th scope=col>&lt;dbl&gt;</th><th scope=col>&lt;dbl&gt;</th><th scope=col>&lt;dbl&gt;</th><th scope=col>&lt;dbl&gt;</th><th scope=col>&lt;dbl&gt;</th><th scope=col>&lt;dbl&gt;</th><th scope=col>&lt;dbl&gt;</th><th scope=col>&lt;dbl&gt;</th><th scope=col>&lt;dbl&gt;</th><th scope=col>&lt;dbl&gt;</th><th scope=col>&lt;dbl&gt;</th><th scope=col>&lt;dbl&gt;</th></tr>\n",
       "</thead>\n",
       "<tbody>\n",
       "\t<tr><td>Afghanistan</td><td>2008</td><td>3.723590</td><td>7.168690</td><td>0.4506623</td><td>49.20966</td><td>0.7181143</td><td>0.18181947</td><td>0.8816863</td><td>0.5176372</td><td>0.2581955</td><td>0.6120721</td><td>-1.929690</td><td>-1.655084</td><td>1.774662</td><td>0.4765997</td><td>NA</td><td>NA</td><td>       NA</td></tr>\n",
       "\t<tr><td>Afghanistan</td><td>2009</td><td>4.401778</td><td>7.333790</td><td>0.5523084</td><td>49.62443</td><td>0.6788964</td><td>0.20361446</td><td>0.8500354</td><td>0.5839256</td><td>0.2370924</td><td>0.6115452</td><td>-2.044093</td><td>-1.635025</td><td>1.722688</td><td>0.3913617</td><td>NA</td><td>NA</td><td>0.4419058</td></tr>\n",
       "\t<tr><td>Afghanistan</td><td>2010</td><td>4.758381</td><td>7.386629</td><td>0.5390752</td><td>50.00896</td><td>0.6001272</td><td>0.13763019</td><td>0.7067661</td><td>0.6182654</td><td>0.2753238</td><td>0.2993574</td><td>-1.991810</td><td>-1.617176</td><td>1.878622</td><td>0.3948027</td><td>NA</td><td>NA</td><td>0.3273182</td></tr>\n",
       "\t<tr><td>Afghanistan</td><td>2011</td><td>3.831719</td><td>7.415019</td><td>0.5211036</td><td>50.36730</td><td>0.4959014</td><td>0.17532922</td><td>0.7311085</td><td>0.6113873</td><td>0.2671747</td><td>0.3073857</td><td>-1.919018</td><td>-1.616221</td><td>1.785360</td><td>0.4659422</td><td>NA</td><td>NA</td><td>0.3367642</td></tr>\n",
       "\t<tr><td>Afghanistan</td><td>2012</td><td>3.782938</td><td>7.517126</td><td>0.5206367</td><td>50.70926</td><td>0.5309350</td><td>0.24715924</td><td>0.7756198</td><td>0.7103847</td><td>0.2679191</td><td>0.4354402</td><td>-1.842996</td><td>-1.404078</td><td>1.798283</td><td>0.4753669</td><td>NA</td><td>NA</td><td>0.3445396</td></tr>\n",
       "\t<tr><td>Afghanistan</td><td>2013</td><td>3.572100</td><td>7.503376</td><td>0.4835519</td><td>51.04298</td><td>0.5779554</td><td>0.07473493</td><td>0.8232041</td><td>0.6205848</td><td>0.2733281</td><td>0.4828473</td><td>-1.879709</td><td>-1.403036</td><td>1.223690</td><td>0.3425687</td><td>NA</td><td>NA</td><td>0.3043685</td></tr>\n",
       "</tbody>\n",
       "</table>\n"
      ],
      "text/latex": [
       "A tibble: 6 × 19\n",
       "\\begin{tabular}{r|lllllllllllllllllll}\n",
       " country & year & Life Ladder & Log GDP per capita & Social support & Healthy life expectancy at birth & Freedom to make life choices & Generosity & Perceptions of corruption & Positive affect & Negative affect & Confidence in national government & Democratic Quality & Delivery Quality & Standard deviation of ladder by country-year & Standard deviation/Mean of ladder by country-year & GINI index (World Bank estimate) & GINI index (World Bank estimate), average 2000-15 & gini of household income reported in Gallup, by wp5-year\\\\\n",
       " <chr> & <dbl> & <dbl> & <dbl> & <dbl> & <dbl> & <dbl> & <dbl> & <dbl> & <dbl> & <dbl> & <dbl> & <dbl> & <dbl> & <dbl> & <dbl> & <dbl> & <dbl> & <dbl>\\\\\n",
       "\\hline\n",
       "\t Afghanistan & 2008 & 3.723590 & 7.168690 & 0.4506623 & 49.20966 & 0.7181143 & 0.18181947 & 0.8816863 & 0.5176372 & 0.2581955 & 0.6120721 & -1.929690 & -1.655084 & 1.774662 & 0.4765997 & NA & NA &        NA\\\\\n",
       "\t Afghanistan & 2009 & 4.401778 & 7.333790 & 0.5523084 & 49.62443 & 0.6788964 & 0.20361446 & 0.8500354 & 0.5839256 & 0.2370924 & 0.6115452 & -2.044093 & -1.635025 & 1.722688 & 0.3913617 & NA & NA & 0.4419058\\\\\n",
       "\t Afghanistan & 2010 & 4.758381 & 7.386629 & 0.5390752 & 50.00896 & 0.6001272 & 0.13763019 & 0.7067661 & 0.6182654 & 0.2753238 & 0.2993574 & -1.991810 & -1.617176 & 1.878622 & 0.3948027 & NA & NA & 0.3273182\\\\\n",
       "\t Afghanistan & 2011 & 3.831719 & 7.415019 & 0.5211036 & 50.36730 & 0.4959014 & 0.17532922 & 0.7311085 & 0.6113873 & 0.2671747 & 0.3073857 & -1.919018 & -1.616221 & 1.785360 & 0.4659422 & NA & NA & 0.3367642\\\\\n",
       "\t Afghanistan & 2012 & 3.782938 & 7.517126 & 0.5206367 & 50.70926 & 0.5309350 & 0.24715924 & 0.7756198 & 0.7103847 & 0.2679191 & 0.4354402 & -1.842996 & -1.404078 & 1.798283 & 0.4753669 & NA & NA & 0.3445396\\\\\n",
       "\t Afghanistan & 2013 & 3.572100 & 7.503376 & 0.4835519 & 51.04298 & 0.5779554 & 0.07473493 & 0.8232041 & 0.6205848 & 0.2733281 & 0.4828473 & -1.879709 & -1.403036 & 1.223690 & 0.3425687 & NA & NA & 0.3043685\\\\\n",
       "\\end{tabular}\n"
      ],
      "text/markdown": [
       "\n",
       "A tibble: 6 × 19\n",
       "\n",
       "| country &lt;chr&gt; | year &lt;dbl&gt; | Life Ladder &lt;dbl&gt; | Log GDP per capita &lt;dbl&gt; | Social support &lt;dbl&gt; | Healthy life expectancy at birth &lt;dbl&gt; | Freedom to make life choices &lt;dbl&gt; | Generosity &lt;dbl&gt; | Perceptions of corruption &lt;dbl&gt; | Positive affect &lt;dbl&gt; | Negative affect &lt;dbl&gt; | Confidence in national government &lt;dbl&gt; | Democratic Quality &lt;dbl&gt; | Delivery Quality &lt;dbl&gt; | Standard deviation of ladder by country-year &lt;dbl&gt; | Standard deviation/Mean of ladder by country-year &lt;dbl&gt; | GINI index (World Bank estimate) &lt;dbl&gt; | GINI index (World Bank estimate), average 2000-15 &lt;dbl&gt; | gini of household income reported in Gallup, by wp5-year &lt;dbl&gt; |\n",
       "|---|---|---|---|---|---|---|---|---|---|---|---|---|---|---|---|---|---|---|\n",
       "| Afghanistan | 2008 | 3.723590 | 7.168690 | 0.4506623 | 49.20966 | 0.7181143 | 0.18181947 | 0.8816863 | 0.5176372 | 0.2581955 | 0.6120721 | -1.929690 | -1.655084 | 1.774662 | 0.4765997 | NA | NA |        NA |\n",
       "| Afghanistan | 2009 | 4.401778 | 7.333790 | 0.5523084 | 49.62443 | 0.6788964 | 0.20361446 | 0.8500354 | 0.5839256 | 0.2370924 | 0.6115452 | -2.044093 | -1.635025 | 1.722688 | 0.3913617 | NA | NA | 0.4419058 |\n",
       "| Afghanistan | 2010 | 4.758381 | 7.386629 | 0.5390752 | 50.00896 | 0.6001272 | 0.13763019 | 0.7067661 | 0.6182654 | 0.2753238 | 0.2993574 | -1.991810 | -1.617176 | 1.878622 | 0.3948027 | NA | NA | 0.3273182 |\n",
       "| Afghanistan | 2011 | 3.831719 | 7.415019 | 0.5211036 | 50.36730 | 0.4959014 | 0.17532922 | 0.7311085 | 0.6113873 | 0.2671747 | 0.3073857 | -1.919018 | -1.616221 | 1.785360 | 0.4659422 | NA | NA | 0.3367642 |\n",
       "| Afghanistan | 2012 | 3.782938 | 7.517126 | 0.5206367 | 50.70926 | 0.5309350 | 0.24715924 | 0.7756198 | 0.7103847 | 0.2679191 | 0.4354402 | -1.842996 | -1.404078 | 1.798283 | 0.4753669 | NA | NA | 0.3445396 |\n",
       "| Afghanistan | 2013 | 3.572100 | 7.503376 | 0.4835519 | 51.04298 | 0.5779554 | 0.07473493 | 0.8232041 | 0.6205848 | 0.2733281 | 0.4828473 | -1.879709 | -1.403036 | 1.223690 | 0.3425687 | NA | NA | 0.3043685 |\n",
       "\n"
      ],
      "text/plain": [
       "  country     year Life Ladder Log GDP per capita Social support\n",
       "1 Afghanistan 2008 3.723590    7.168690           0.4506623     \n",
       "2 Afghanistan 2009 4.401778    7.333790           0.5523084     \n",
       "3 Afghanistan 2010 4.758381    7.386629           0.5390752     \n",
       "4 Afghanistan 2011 3.831719    7.415019           0.5211036     \n",
       "5 Afghanistan 2012 3.782938    7.517126           0.5206367     \n",
       "6 Afghanistan 2013 3.572100    7.503376           0.4835519     \n",
       "  Healthy life expectancy at birth Freedom to make life choices Generosity\n",
       "1 49.20966                         0.7181143                    0.18181947\n",
       "2 49.62443                         0.6788964                    0.20361446\n",
       "3 50.00896                         0.6001272                    0.13763019\n",
       "4 50.36730                         0.4959014                    0.17532922\n",
       "5 50.70926                         0.5309350                    0.24715924\n",
       "6 51.04298                         0.5779554                    0.07473493\n",
       "  Perceptions of corruption Positive affect Negative affect\n",
       "1 0.8816863                 0.5176372       0.2581955      \n",
       "2 0.8500354                 0.5839256       0.2370924      \n",
       "3 0.7067661                 0.6182654       0.2753238      \n",
       "4 0.7311085                 0.6113873       0.2671747      \n",
       "5 0.7756198                 0.7103847       0.2679191      \n",
       "6 0.8232041                 0.6205848       0.2733281      \n",
       "  Confidence in national government Democratic Quality Delivery Quality\n",
       "1 0.6120721                         -1.929690          -1.655084       \n",
       "2 0.6115452                         -2.044093          -1.635025       \n",
       "3 0.2993574                         -1.991810          -1.617176       \n",
       "4 0.3073857                         -1.919018          -1.616221       \n",
       "5 0.4354402                         -1.842996          -1.404078       \n",
       "6 0.4828473                         -1.879709          -1.403036       \n",
       "  Standard deviation of ladder by country-year\n",
       "1 1.774662                                    \n",
       "2 1.722688                                    \n",
       "3 1.878622                                    \n",
       "4 1.785360                                    \n",
       "5 1.798283                                    \n",
       "6 1.223690                                    \n",
       "  Standard deviation/Mean of ladder by country-year\n",
       "1 0.4765997                                        \n",
       "2 0.3913617                                        \n",
       "3 0.3948027                                        \n",
       "4 0.4659422                                        \n",
       "5 0.4753669                                        \n",
       "6 0.3425687                                        \n",
       "  GINI index (World Bank estimate)\n",
       "1 NA                              \n",
       "2 NA                              \n",
       "3 NA                              \n",
       "4 NA                              \n",
       "5 NA                              \n",
       "6 NA                              \n",
       "  GINI index (World Bank estimate), average 2000-15\n",
       "1 NA                                               \n",
       "2 NA                                               \n",
       "3 NA                                               \n",
       "4 NA                                               \n",
       "5 NA                                               \n",
       "6 NA                                               \n",
       "  gini of household income reported in Gallup, by wp5-year\n",
       "1        NA                                               \n",
       "2 0.4419058                                               \n",
       "3 0.3273182                                               \n",
       "4 0.3367642                                               \n",
       "5 0.3445396                                               \n",
       "6 0.3043685                                               "
      ]
     },
     "metadata": {},
     "output_type": "display_data"
    }
   ],
   "source": [
    "# your code here\n",
    "happy_df_csv <- read_csv('data/WHR2018Chapter2OnlineData.csv')\n",
    "head(happy_df_csv)"
   ]
  },
  {
   "cell_type": "code",
   "execution_count": 7,
   "metadata": {
    "deletable": false,
    "editable": false,
    "nbgrader": {
     "cell_type": "code",
     "checksum": "f2527c17032e3e7cafbd75a8276ec32e",
     "grade": true,
     "grade_id": "cell-41eb2114195d336c",
     "locked": true,
     "points": 1,
     "schema_version": 3,
     "solution": false
    }
   },
   "outputs": [
    {
     "name": "stdout",
     "output_type": "stream",
     "text": [
      "[1] \"Success!\"\n"
     ]
    }
   ],
   "source": [
    "test_1.3.0()"
   ]
  },
  {
   "cell_type": "markdown",
   "metadata": {
    "deletable": false,
    "editable": false,
    "nbgrader": {
     "cell_type": "markdown",
     "checksum": "64bf9b1c5d0c0749e39837be86a913ff",
     "grade": false,
     "grade_id": "cell-ca7dbd5d07447573",
     "locked": true,
     "schema_version": 3,
     "solution": false
    }
   },
   "source": [
    "**Question 1.3.1**\n",
    "<br> {points: 1}\n",
    "\n",
    "Above, you loaded the data from a file we already downloaded and converted to a `.csv` for you. But you can also use the `readxl` R package to directly load in Excel files into R. Given that the data we loaded above (`WHR2018Chapter2OnlineData.csv`) was originally sourced from an Excel file on the web, let's now directly read that Excel file into R using the `read_excel` function from that package. This Excel file has multiple sheets, the data we want is on the first one.\n",
    "\n",
    "> #### Note:\n",
    "> `read_excel` does not support putting a URL as the file path argument. So we need to first download the file and write it to disk using R's `download.file` function, and then we can read that saved Excel file into R using `read_excel`.\n",
    "\n",
    "To answer the question, fill in the blanks in the code below. If you are unsure, try reading the documentation for the new functions and ask others for help!"
   ]
  },
  {
   "cell_type": "code",
   "execution_count": 8,
   "metadata": {
    "deletable": false,
    "nbgrader": {
     "cell_type": "code",
     "checksum": "d7cfb6e4088bdef3c293cc5e91487001",
     "grade": false,
     "grade_id": "cell-a8a3d64de1b87550",
     "locked": false,
     "schema_version": 3,
     "solution": true
    }
   },
   "outputs": [
    {
     "data": {
      "text/html": [
       "<table>\n",
       "<caption>A tibble: 6 × 19</caption>\n",
       "<thead>\n",
       "\t<tr><th scope=col>country</th><th scope=col>year</th><th scope=col>Life Ladder</th><th scope=col>Log GDP per capita</th><th scope=col>Social support</th><th scope=col>Healthy life expectancy at birth</th><th scope=col>Freedom to make life choices</th><th scope=col>Generosity</th><th scope=col>Perceptions of corruption</th><th scope=col>Positive affect</th><th scope=col>Negative affect</th><th scope=col>Confidence in national government</th><th scope=col>Democratic Quality</th><th scope=col>Delivery Quality</th><th scope=col>Standard deviation of ladder by country-year</th><th scope=col>Standard deviation/Mean of ladder by country-year</th><th scope=col>GINI index (World Bank estimate)</th><th scope=col>GINI index (World Bank estimate), average 2000-15</th><th scope=col>gini of household income reported in Gallup, by wp5-year</th></tr>\n",
       "\t<tr><th scope=col>&lt;chr&gt;</th><th scope=col>&lt;dbl&gt;</th><th scope=col>&lt;dbl&gt;</th><th scope=col>&lt;dbl&gt;</th><th scope=col>&lt;dbl&gt;</th><th scope=col>&lt;dbl&gt;</th><th scope=col>&lt;dbl&gt;</th><th scope=col>&lt;dbl&gt;</th><th scope=col>&lt;dbl&gt;</th><th scope=col>&lt;dbl&gt;</th><th scope=col>&lt;dbl&gt;</th><th scope=col>&lt;dbl&gt;</th><th scope=col>&lt;dbl&gt;</th><th scope=col>&lt;dbl&gt;</th><th scope=col>&lt;dbl&gt;</th><th scope=col>&lt;dbl&gt;</th><th scope=col>&lt;dbl&gt;</th><th scope=col>&lt;dbl&gt;</th><th scope=col>&lt;dbl&gt;</th></tr>\n",
       "</thead>\n",
       "<tbody>\n",
       "\t<tr><td>Afghanistan</td><td>2008</td><td>3.723590</td><td>7.168690</td><td>0.4506623</td><td>49.20966</td><td>0.7181143</td><td>0.18181947</td><td>0.8816863</td><td>0.5176372</td><td>0.2581955</td><td>0.6120721</td><td>-1.929690</td><td>-1.655084</td><td>1.774662</td><td>0.4765997</td><td>NA</td><td>NA</td><td>       NA</td></tr>\n",
       "\t<tr><td>Afghanistan</td><td>2009</td><td>4.401778</td><td>7.333790</td><td>0.5523084</td><td>49.62443</td><td>0.6788964</td><td>0.20361446</td><td>0.8500354</td><td>0.5839256</td><td>0.2370924</td><td>0.6115452</td><td>-2.044093</td><td>-1.635025</td><td>1.722688</td><td>0.3913617</td><td>NA</td><td>NA</td><td>0.4419058</td></tr>\n",
       "\t<tr><td>Afghanistan</td><td>2010</td><td>4.758381</td><td>7.386629</td><td>0.5390752</td><td>50.00896</td><td>0.6001272</td><td>0.13763019</td><td>0.7067661</td><td>0.6182655</td><td>0.2753238</td><td>0.2993574</td><td>-1.991810</td><td>-1.617176</td><td>1.878622</td><td>0.3948027</td><td>NA</td><td>NA</td><td>0.3273182</td></tr>\n",
       "\t<tr><td>Afghanistan</td><td>2011</td><td>3.831719</td><td>7.415019</td><td>0.5211036</td><td>50.36730</td><td>0.4959014</td><td>0.17532922</td><td>0.7311085</td><td>0.6113873</td><td>0.2671747</td><td>0.3073857</td><td>-1.919018</td><td>-1.616221</td><td>1.785360</td><td>0.4659422</td><td>NA</td><td>NA</td><td>0.3367642</td></tr>\n",
       "\t<tr><td>Afghanistan</td><td>2012</td><td>3.782938</td><td>7.517126</td><td>0.5206367</td><td>50.70926</td><td>0.5309350</td><td>0.24715924</td><td>0.7756198</td><td>0.7103847</td><td>0.2679191</td><td>0.4354402</td><td>-1.842996</td><td>-1.404078</td><td>1.798283</td><td>0.4753669</td><td>NA</td><td>NA</td><td>0.3445396</td></tr>\n",
       "\t<tr><td>Afghanistan</td><td>2013</td><td>3.572100</td><td>7.503376</td><td>0.4835519</td><td>51.04298</td><td>0.5779554</td><td>0.07473493</td><td>0.8232041</td><td>0.6205848</td><td>0.2733281</td><td>0.4828473</td><td>-1.879709</td><td>-1.403036</td><td>1.223690</td><td>0.3425687</td><td>NA</td><td>NA</td><td>0.3043685</td></tr>\n",
       "</tbody>\n",
       "</table>\n"
      ],
      "text/latex": [
       "A tibble: 6 × 19\n",
       "\\begin{tabular}{r|lllllllllllllllllll}\n",
       " country & year & Life Ladder & Log GDP per capita & Social support & Healthy life expectancy at birth & Freedom to make life choices & Generosity & Perceptions of corruption & Positive affect & Negative affect & Confidence in national government & Democratic Quality & Delivery Quality & Standard deviation of ladder by country-year & Standard deviation/Mean of ladder by country-year & GINI index (World Bank estimate) & GINI index (World Bank estimate), average 2000-15 & gini of household income reported in Gallup, by wp5-year\\\\\n",
       " <chr> & <dbl> & <dbl> & <dbl> & <dbl> & <dbl> & <dbl> & <dbl> & <dbl> & <dbl> & <dbl> & <dbl> & <dbl> & <dbl> & <dbl> & <dbl> & <dbl> & <dbl> & <dbl>\\\\\n",
       "\\hline\n",
       "\t Afghanistan & 2008 & 3.723590 & 7.168690 & 0.4506623 & 49.20966 & 0.7181143 & 0.18181947 & 0.8816863 & 0.5176372 & 0.2581955 & 0.6120721 & -1.929690 & -1.655084 & 1.774662 & 0.4765997 & NA & NA &        NA\\\\\n",
       "\t Afghanistan & 2009 & 4.401778 & 7.333790 & 0.5523084 & 49.62443 & 0.6788964 & 0.20361446 & 0.8500354 & 0.5839256 & 0.2370924 & 0.6115452 & -2.044093 & -1.635025 & 1.722688 & 0.3913617 & NA & NA & 0.4419058\\\\\n",
       "\t Afghanistan & 2010 & 4.758381 & 7.386629 & 0.5390752 & 50.00896 & 0.6001272 & 0.13763019 & 0.7067661 & 0.6182655 & 0.2753238 & 0.2993574 & -1.991810 & -1.617176 & 1.878622 & 0.3948027 & NA & NA & 0.3273182\\\\\n",
       "\t Afghanistan & 2011 & 3.831719 & 7.415019 & 0.5211036 & 50.36730 & 0.4959014 & 0.17532922 & 0.7311085 & 0.6113873 & 0.2671747 & 0.3073857 & -1.919018 & -1.616221 & 1.785360 & 0.4659422 & NA & NA & 0.3367642\\\\\n",
       "\t Afghanistan & 2012 & 3.782938 & 7.517126 & 0.5206367 & 50.70926 & 0.5309350 & 0.24715924 & 0.7756198 & 0.7103847 & 0.2679191 & 0.4354402 & -1.842996 & -1.404078 & 1.798283 & 0.4753669 & NA & NA & 0.3445396\\\\\n",
       "\t Afghanistan & 2013 & 3.572100 & 7.503376 & 0.4835519 & 51.04298 & 0.5779554 & 0.07473493 & 0.8232041 & 0.6205848 & 0.2733281 & 0.4828473 & -1.879709 & -1.403036 & 1.223690 & 0.3425687 & NA & NA & 0.3043685\\\\\n",
       "\\end{tabular}\n"
      ],
      "text/markdown": [
       "\n",
       "A tibble: 6 × 19\n",
       "\n",
       "| country &lt;chr&gt; | year &lt;dbl&gt; | Life Ladder &lt;dbl&gt; | Log GDP per capita &lt;dbl&gt; | Social support &lt;dbl&gt; | Healthy life expectancy at birth &lt;dbl&gt; | Freedom to make life choices &lt;dbl&gt; | Generosity &lt;dbl&gt; | Perceptions of corruption &lt;dbl&gt; | Positive affect &lt;dbl&gt; | Negative affect &lt;dbl&gt; | Confidence in national government &lt;dbl&gt; | Democratic Quality &lt;dbl&gt; | Delivery Quality &lt;dbl&gt; | Standard deviation of ladder by country-year &lt;dbl&gt; | Standard deviation/Mean of ladder by country-year &lt;dbl&gt; | GINI index (World Bank estimate) &lt;dbl&gt; | GINI index (World Bank estimate), average 2000-15 &lt;dbl&gt; | gini of household income reported in Gallup, by wp5-year &lt;dbl&gt; |\n",
       "|---|---|---|---|---|---|---|---|---|---|---|---|---|---|---|---|---|---|---|\n",
       "| Afghanistan | 2008 | 3.723590 | 7.168690 | 0.4506623 | 49.20966 | 0.7181143 | 0.18181947 | 0.8816863 | 0.5176372 | 0.2581955 | 0.6120721 | -1.929690 | -1.655084 | 1.774662 | 0.4765997 | NA | NA |        NA |\n",
       "| Afghanistan | 2009 | 4.401778 | 7.333790 | 0.5523084 | 49.62443 | 0.6788964 | 0.20361446 | 0.8500354 | 0.5839256 | 0.2370924 | 0.6115452 | -2.044093 | -1.635025 | 1.722688 | 0.3913617 | NA | NA | 0.4419058 |\n",
       "| Afghanistan | 2010 | 4.758381 | 7.386629 | 0.5390752 | 50.00896 | 0.6001272 | 0.13763019 | 0.7067661 | 0.6182655 | 0.2753238 | 0.2993574 | -1.991810 | -1.617176 | 1.878622 | 0.3948027 | NA | NA | 0.3273182 |\n",
       "| Afghanistan | 2011 | 3.831719 | 7.415019 | 0.5211036 | 50.36730 | 0.4959014 | 0.17532922 | 0.7311085 | 0.6113873 | 0.2671747 | 0.3073857 | -1.919018 | -1.616221 | 1.785360 | 0.4659422 | NA | NA | 0.3367642 |\n",
       "| Afghanistan | 2012 | 3.782938 | 7.517126 | 0.5206367 | 50.70926 | 0.5309350 | 0.24715924 | 0.7756198 | 0.7103847 | 0.2679191 | 0.4354402 | -1.842996 | -1.404078 | 1.798283 | 0.4753669 | NA | NA | 0.3445396 |\n",
       "| Afghanistan | 2013 | 3.572100 | 7.503376 | 0.4835519 | 51.04298 | 0.5779554 | 0.07473493 | 0.8232041 | 0.6205848 | 0.2733281 | 0.4828473 | -1.879709 | -1.403036 | 1.223690 | 0.3425687 | NA | NA | 0.3043685 |\n",
       "\n"
      ],
      "text/plain": [
       "  country     year Life Ladder Log GDP per capita Social support\n",
       "1 Afghanistan 2008 3.723590    7.168690           0.4506623     \n",
       "2 Afghanistan 2009 4.401778    7.333790           0.5523084     \n",
       "3 Afghanistan 2010 4.758381    7.386629           0.5390752     \n",
       "4 Afghanistan 2011 3.831719    7.415019           0.5211036     \n",
       "5 Afghanistan 2012 3.782938    7.517126           0.5206367     \n",
       "6 Afghanistan 2013 3.572100    7.503376           0.4835519     \n",
       "  Healthy life expectancy at birth Freedom to make life choices Generosity\n",
       "1 49.20966                         0.7181143                    0.18181947\n",
       "2 49.62443                         0.6788964                    0.20361446\n",
       "3 50.00896                         0.6001272                    0.13763019\n",
       "4 50.36730                         0.4959014                    0.17532922\n",
       "5 50.70926                         0.5309350                    0.24715924\n",
       "6 51.04298                         0.5779554                    0.07473493\n",
       "  Perceptions of corruption Positive affect Negative affect\n",
       "1 0.8816863                 0.5176372       0.2581955      \n",
       "2 0.8500354                 0.5839256       0.2370924      \n",
       "3 0.7067661                 0.6182655       0.2753238      \n",
       "4 0.7311085                 0.6113873       0.2671747      \n",
       "5 0.7756198                 0.7103847       0.2679191      \n",
       "6 0.8232041                 0.6205848       0.2733281      \n",
       "  Confidence in national government Democratic Quality Delivery Quality\n",
       "1 0.6120721                         -1.929690          -1.655084       \n",
       "2 0.6115452                         -2.044093          -1.635025       \n",
       "3 0.2993574                         -1.991810          -1.617176       \n",
       "4 0.3073857                         -1.919018          -1.616221       \n",
       "5 0.4354402                         -1.842996          -1.404078       \n",
       "6 0.4828473                         -1.879709          -1.403036       \n",
       "  Standard deviation of ladder by country-year\n",
       "1 1.774662                                    \n",
       "2 1.722688                                    \n",
       "3 1.878622                                    \n",
       "4 1.785360                                    \n",
       "5 1.798283                                    \n",
       "6 1.223690                                    \n",
       "  Standard deviation/Mean of ladder by country-year\n",
       "1 0.4765997                                        \n",
       "2 0.3913617                                        \n",
       "3 0.3948027                                        \n",
       "4 0.4659422                                        \n",
       "5 0.4753669                                        \n",
       "6 0.3425687                                        \n",
       "  GINI index (World Bank estimate)\n",
       "1 NA                              \n",
       "2 NA                              \n",
       "3 NA                              \n",
       "4 NA                              \n",
       "5 NA                              \n",
       "6 NA                              \n",
       "  GINI index (World Bank estimate), average 2000-15\n",
       "1 NA                                               \n",
       "2 NA                                               \n",
       "3 NA                                               \n",
       "4 NA                                               \n",
       "5 NA                                               \n",
       "6 NA                                               \n",
       "  gini of household income reported in Gallup, by wp5-year\n",
       "1        NA                                               \n",
       "2 0.4419058                                               \n",
       "3 0.3273182                                               \n",
       "4 0.3367642                                               \n",
       "5 0.3445396                                               \n",
       "6 0.3043685                                               "
      ]
     },
     "metadata": {},
     "output_type": "display_data"
    }
   ],
   "source": [
    "library(readxl)\n",
    "url = \"https://s3.amazonaws.com/happiness-report/2018/WHR2018Chapter2OnlineData.xls\"\n",
    "\n",
    "download.file(url, destfile = \"data/WHR2018Chapter2OnlineData.xls\")\n",
    "happy_df <- read_excel(path = \"data/WHR2018Chapter2OnlineData.xls\", sheet = 1)\n",
    "\n",
    "# your code here\n",
    "# ?read_excel\n",
    "head(happy_df)"
   ]
  },
  {
   "cell_type": "code",
   "execution_count": 9,
   "metadata": {
    "deletable": false,
    "editable": false,
    "nbgrader": {
     "cell_type": "code",
     "checksum": "da51e83d827b4581bb4ba8af7c79a131",
     "grade": true,
     "grade_id": "cell-476734f8979f1d94",
     "locked": true,
     "points": 1,
     "schema_version": 3,
     "solution": false
    }
   },
   "outputs": [
    {
     "name": "stdout",
     "output_type": "stream",
     "text": [
      "[1] \"Success!\"\n"
     ]
    }
   ],
   "source": [
    "test_1.3.1()"
   ]
  },
  {
   "cell_type": "markdown",
   "metadata": {
    "deletable": false,
    "editable": false,
    "nbgrader": {
     "cell_type": "markdown",
     "checksum": "44796b5187d55eb73ed037c4c0a30f1f",
     "grade": false,
     "grade_id": "cell-dd53d9426f770204",
     "locked": true,
     "schema_version": 3,
     "solution": false,
     "task": false
    }
   },
   "source": [
    "Look at the column names - they contain spaces!!! This is not a best practice and will make it difficult to use our tidyverse functions... Run the cell below to use the `make.names` function that will replace all the spaces with a `.` so we don't have this problem. The `colnames` function is also needed to access the data frame's column names."
   ]
  },
  {
   "cell_type": "code",
   "execution_count": 10,
   "metadata": {},
   "outputs": [
    {
     "data": {
      "text/html": [
       "<table>\n",
       "<caption>A tibble: 6 × 19</caption>\n",
       "<thead>\n",
       "\t<tr><th scope=col>country</th><th scope=col>year</th><th scope=col>Life.Ladder</th><th scope=col>Log.GDP.per.capita</th><th scope=col>Social.support</th><th scope=col>Healthy.life.expectancy.at.birth</th><th scope=col>Freedom.to.make.life.choices</th><th scope=col>Generosity</th><th scope=col>Perceptions.of.corruption</th><th scope=col>Positive.affect</th><th scope=col>Negative.affect</th><th scope=col>Confidence.in.national.government</th><th scope=col>Democratic.Quality</th><th scope=col>Delivery.Quality</th><th scope=col>Standard.deviation.of.ladder.by.country.year</th><th scope=col>Standard.deviation.Mean.of.ladder.by.country.year</th><th scope=col>GINI.index..World.Bank.estimate.</th><th scope=col>GINI.index..World.Bank.estimate...average.2000.15</th><th scope=col>gini.of.household.income.reported.in.Gallup..by.wp5.year</th></tr>\n",
       "\t<tr><th scope=col>&lt;chr&gt;</th><th scope=col>&lt;dbl&gt;</th><th scope=col>&lt;dbl&gt;</th><th scope=col>&lt;dbl&gt;</th><th scope=col>&lt;dbl&gt;</th><th scope=col>&lt;dbl&gt;</th><th scope=col>&lt;dbl&gt;</th><th scope=col>&lt;dbl&gt;</th><th scope=col>&lt;dbl&gt;</th><th scope=col>&lt;dbl&gt;</th><th scope=col>&lt;dbl&gt;</th><th scope=col>&lt;dbl&gt;</th><th scope=col>&lt;dbl&gt;</th><th scope=col>&lt;dbl&gt;</th><th scope=col>&lt;dbl&gt;</th><th scope=col>&lt;dbl&gt;</th><th scope=col>&lt;dbl&gt;</th><th scope=col>&lt;dbl&gt;</th><th scope=col>&lt;dbl&gt;</th></tr>\n",
       "</thead>\n",
       "<tbody>\n",
       "\t<tr><td>Afghanistan</td><td>2008</td><td>3.723590</td><td>7.168690</td><td>0.4506623</td><td>49.20966</td><td>0.7181143</td><td>0.18181947</td><td>0.8816863</td><td>0.5176372</td><td>0.2581955</td><td>0.6120721</td><td>-1.929690</td><td>-1.655084</td><td>1.774662</td><td>0.4765997</td><td>NA</td><td>NA</td><td>       NA</td></tr>\n",
       "\t<tr><td>Afghanistan</td><td>2009</td><td>4.401778</td><td>7.333790</td><td>0.5523084</td><td>49.62443</td><td>0.6788964</td><td>0.20361446</td><td>0.8500354</td><td>0.5839256</td><td>0.2370924</td><td>0.6115452</td><td>-2.044093</td><td>-1.635025</td><td>1.722688</td><td>0.3913617</td><td>NA</td><td>NA</td><td>0.4419058</td></tr>\n",
       "\t<tr><td>Afghanistan</td><td>2010</td><td>4.758381</td><td>7.386629</td><td>0.5390752</td><td>50.00896</td><td>0.6001272</td><td>0.13763019</td><td>0.7067661</td><td>0.6182655</td><td>0.2753238</td><td>0.2993574</td><td>-1.991810</td><td>-1.617176</td><td>1.878622</td><td>0.3948027</td><td>NA</td><td>NA</td><td>0.3273182</td></tr>\n",
       "\t<tr><td>Afghanistan</td><td>2011</td><td>3.831719</td><td>7.415019</td><td>0.5211036</td><td>50.36730</td><td>0.4959014</td><td>0.17532922</td><td>0.7311085</td><td>0.6113873</td><td>0.2671747</td><td>0.3073857</td><td>-1.919018</td><td>-1.616221</td><td>1.785360</td><td>0.4659422</td><td>NA</td><td>NA</td><td>0.3367642</td></tr>\n",
       "\t<tr><td>Afghanistan</td><td>2012</td><td>3.782938</td><td>7.517126</td><td>0.5206367</td><td>50.70926</td><td>0.5309350</td><td>0.24715924</td><td>0.7756198</td><td>0.7103847</td><td>0.2679191</td><td>0.4354402</td><td>-1.842996</td><td>-1.404078</td><td>1.798283</td><td>0.4753669</td><td>NA</td><td>NA</td><td>0.3445396</td></tr>\n",
       "\t<tr><td>Afghanistan</td><td>2013</td><td>3.572100</td><td>7.503376</td><td>0.4835519</td><td>51.04298</td><td>0.5779554</td><td>0.07473493</td><td>0.8232041</td><td>0.6205848</td><td>0.2733281</td><td>0.4828473</td><td>-1.879709</td><td>-1.403036</td><td>1.223690</td><td>0.3425687</td><td>NA</td><td>NA</td><td>0.3043685</td></tr>\n",
       "</tbody>\n",
       "</table>\n"
      ],
      "text/latex": [
       "A tibble: 6 × 19\n",
       "\\begin{tabular}{r|lllllllllllllllllll}\n",
       " country & year & Life.Ladder & Log.GDP.per.capita & Social.support & Healthy.life.expectancy.at.birth & Freedom.to.make.life.choices & Generosity & Perceptions.of.corruption & Positive.affect & Negative.affect & Confidence.in.national.government & Democratic.Quality & Delivery.Quality & Standard.deviation.of.ladder.by.country.year & Standard.deviation.Mean.of.ladder.by.country.year & GINI.index..World.Bank.estimate. & GINI.index..World.Bank.estimate...average.2000.15 & gini.of.household.income.reported.in.Gallup..by.wp5.year\\\\\n",
       " <chr> & <dbl> & <dbl> & <dbl> & <dbl> & <dbl> & <dbl> & <dbl> & <dbl> & <dbl> & <dbl> & <dbl> & <dbl> & <dbl> & <dbl> & <dbl> & <dbl> & <dbl> & <dbl>\\\\\n",
       "\\hline\n",
       "\t Afghanistan & 2008 & 3.723590 & 7.168690 & 0.4506623 & 49.20966 & 0.7181143 & 0.18181947 & 0.8816863 & 0.5176372 & 0.2581955 & 0.6120721 & -1.929690 & -1.655084 & 1.774662 & 0.4765997 & NA & NA &        NA\\\\\n",
       "\t Afghanistan & 2009 & 4.401778 & 7.333790 & 0.5523084 & 49.62443 & 0.6788964 & 0.20361446 & 0.8500354 & 0.5839256 & 0.2370924 & 0.6115452 & -2.044093 & -1.635025 & 1.722688 & 0.3913617 & NA & NA & 0.4419058\\\\\n",
       "\t Afghanistan & 2010 & 4.758381 & 7.386629 & 0.5390752 & 50.00896 & 0.6001272 & 0.13763019 & 0.7067661 & 0.6182655 & 0.2753238 & 0.2993574 & -1.991810 & -1.617176 & 1.878622 & 0.3948027 & NA & NA & 0.3273182\\\\\n",
       "\t Afghanistan & 2011 & 3.831719 & 7.415019 & 0.5211036 & 50.36730 & 0.4959014 & 0.17532922 & 0.7311085 & 0.6113873 & 0.2671747 & 0.3073857 & -1.919018 & -1.616221 & 1.785360 & 0.4659422 & NA & NA & 0.3367642\\\\\n",
       "\t Afghanistan & 2012 & 3.782938 & 7.517126 & 0.5206367 & 50.70926 & 0.5309350 & 0.24715924 & 0.7756198 & 0.7103847 & 0.2679191 & 0.4354402 & -1.842996 & -1.404078 & 1.798283 & 0.4753669 & NA & NA & 0.3445396\\\\\n",
       "\t Afghanistan & 2013 & 3.572100 & 7.503376 & 0.4835519 & 51.04298 & 0.5779554 & 0.07473493 & 0.8232041 & 0.6205848 & 0.2733281 & 0.4828473 & -1.879709 & -1.403036 & 1.223690 & 0.3425687 & NA & NA & 0.3043685\\\\\n",
       "\\end{tabular}\n"
      ],
      "text/markdown": [
       "\n",
       "A tibble: 6 × 19\n",
       "\n",
       "| country &lt;chr&gt; | year &lt;dbl&gt; | Life.Ladder &lt;dbl&gt; | Log.GDP.per.capita &lt;dbl&gt; | Social.support &lt;dbl&gt; | Healthy.life.expectancy.at.birth &lt;dbl&gt; | Freedom.to.make.life.choices &lt;dbl&gt; | Generosity &lt;dbl&gt; | Perceptions.of.corruption &lt;dbl&gt; | Positive.affect &lt;dbl&gt; | Negative.affect &lt;dbl&gt; | Confidence.in.national.government &lt;dbl&gt; | Democratic.Quality &lt;dbl&gt; | Delivery.Quality &lt;dbl&gt; | Standard.deviation.of.ladder.by.country.year &lt;dbl&gt; | Standard.deviation.Mean.of.ladder.by.country.year &lt;dbl&gt; | GINI.index..World.Bank.estimate. &lt;dbl&gt; | GINI.index..World.Bank.estimate...average.2000.15 &lt;dbl&gt; | gini.of.household.income.reported.in.Gallup..by.wp5.year &lt;dbl&gt; |\n",
       "|---|---|---|---|---|---|---|---|---|---|---|---|---|---|---|---|---|---|---|\n",
       "| Afghanistan | 2008 | 3.723590 | 7.168690 | 0.4506623 | 49.20966 | 0.7181143 | 0.18181947 | 0.8816863 | 0.5176372 | 0.2581955 | 0.6120721 | -1.929690 | -1.655084 | 1.774662 | 0.4765997 | NA | NA |        NA |\n",
       "| Afghanistan | 2009 | 4.401778 | 7.333790 | 0.5523084 | 49.62443 | 0.6788964 | 0.20361446 | 0.8500354 | 0.5839256 | 0.2370924 | 0.6115452 | -2.044093 | -1.635025 | 1.722688 | 0.3913617 | NA | NA | 0.4419058 |\n",
       "| Afghanistan | 2010 | 4.758381 | 7.386629 | 0.5390752 | 50.00896 | 0.6001272 | 0.13763019 | 0.7067661 | 0.6182655 | 0.2753238 | 0.2993574 | -1.991810 | -1.617176 | 1.878622 | 0.3948027 | NA | NA | 0.3273182 |\n",
       "| Afghanistan | 2011 | 3.831719 | 7.415019 | 0.5211036 | 50.36730 | 0.4959014 | 0.17532922 | 0.7311085 | 0.6113873 | 0.2671747 | 0.3073857 | -1.919018 | -1.616221 | 1.785360 | 0.4659422 | NA | NA | 0.3367642 |\n",
       "| Afghanistan | 2012 | 3.782938 | 7.517126 | 0.5206367 | 50.70926 | 0.5309350 | 0.24715924 | 0.7756198 | 0.7103847 | 0.2679191 | 0.4354402 | -1.842996 | -1.404078 | 1.798283 | 0.4753669 | NA | NA | 0.3445396 |\n",
       "| Afghanistan | 2013 | 3.572100 | 7.503376 | 0.4835519 | 51.04298 | 0.5779554 | 0.07473493 | 0.8232041 | 0.6205848 | 0.2733281 | 0.4828473 | -1.879709 | -1.403036 | 1.223690 | 0.3425687 | NA | NA | 0.3043685 |\n",
       "\n"
      ],
      "text/plain": [
       "  country     year Life.Ladder Log.GDP.per.capita Social.support\n",
       "1 Afghanistan 2008 3.723590    7.168690           0.4506623     \n",
       "2 Afghanistan 2009 4.401778    7.333790           0.5523084     \n",
       "3 Afghanistan 2010 4.758381    7.386629           0.5390752     \n",
       "4 Afghanistan 2011 3.831719    7.415019           0.5211036     \n",
       "5 Afghanistan 2012 3.782938    7.517126           0.5206367     \n",
       "6 Afghanistan 2013 3.572100    7.503376           0.4835519     \n",
       "  Healthy.life.expectancy.at.birth Freedom.to.make.life.choices Generosity\n",
       "1 49.20966                         0.7181143                    0.18181947\n",
       "2 49.62443                         0.6788964                    0.20361446\n",
       "3 50.00896                         0.6001272                    0.13763019\n",
       "4 50.36730                         0.4959014                    0.17532922\n",
       "5 50.70926                         0.5309350                    0.24715924\n",
       "6 51.04298                         0.5779554                    0.07473493\n",
       "  Perceptions.of.corruption Positive.affect Negative.affect\n",
       "1 0.8816863                 0.5176372       0.2581955      \n",
       "2 0.8500354                 0.5839256       0.2370924      \n",
       "3 0.7067661                 0.6182655       0.2753238      \n",
       "4 0.7311085                 0.6113873       0.2671747      \n",
       "5 0.7756198                 0.7103847       0.2679191      \n",
       "6 0.8232041                 0.6205848       0.2733281      \n",
       "  Confidence.in.national.government Democratic.Quality Delivery.Quality\n",
       "1 0.6120721                         -1.929690          -1.655084       \n",
       "2 0.6115452                         -2.044093          -1.635025       \n",
       "3 0.2993574                         -1.991810          -1.617176       \n",
       "4 0.3073857                         -1.919018          -1.616221       \n",
       "5 0.4354402                         -1.842996          -1.404078       \n",
       "6 0.4828473                         -1.879709          -1.403036       \n",
       "  Standard.deviation.of.ladder.by.country.year\n",
       "1 1.774662                                    \n",
       "2 1.722688                                    \n",
       "3 1.878622                                    \n",
       "4 1.785360                                    \n",
       "5 1.798283                                    \n",
       "6 1.223690                                    \n",
       "  Standard.deviation.Mean.of.ladder.by.country.year\n",
       "1 0.4765997                                        \n",
       "2 0.3913617                                        \n",
       "3 0.3948027                                        \n",
       "4 0.4659422                                        \n",
       "5 0.4753669                                        \n",
       "6 0.3425687                                        \n",
       "  GINI.index..World.Bank.estimate.\n",
       "1 NA                              \n",
       "2 NA                              \n",
       "3 NA                              \n",
       "4 NA                              \n",
       "5 NA                              \n",
       "6 NA                              \n",
       "  GINI.index..World.Bank.estimate...average.2000.15\n",
       "1 NA                                               \n",
       "2 NA                                               \n",
       "3 NA                                               \n",
       "4 NA                                               \n",
       "5 NA                                               \n",
       "6 NA                                               \n",
       "  gini.of.household.income.reported.in.Gallup..by.wp5.year\n",
       "1        NA                                               \n",
       "2 0.4419058                                               \n",
       "3 0.3273182                                               \n",
       "4 0.3367642                                               \n",
       "5 0.3445396                                               \n",
       "6 0.3043685                                               "
      ]
     },
     "metadata": {},
     "output_type": "display_data"
    }
   ],
   "source": [
    "# run this cell\n",
    "colnames(happy_df) <- make.names(colnames(happy_df))\n",
    "head(happy_df)\n"
   ]
  },
  {
   "cell_type": "markdown",
   "metadata": {
    "deletable": false,
    "editable": false,
    "nbgrader": {
     "cell_type": "markdown",
     "checksum": "4b5c8c214f6a1822b9841d116471cf0a",
     "grade": false,
     "grade_id": "cell-49c7adc814e9dd9e",
     "locked": true,
     "schema_version": 3,
     "solution": false
    }
   },
   "source": [
    "**Question 1.3.2**\n",
    "<br> {points: 1}\n",
    "\n",
    "Using the scaffolding given in the cell below, filter, select, and mutate the `happy_df` data frame as needed to get it ready to create our desired scatterplot. Use `select` to subset the \"Healthy life expectancy at birth\" and \"Positive affect\" columns. Name this new data frame `reduced_happy_df`\n",
    "\n",
    "Replace the `...` to complete your answer. "
   ]
  },
  {
   "cell_type": "code",
   "execution_count": 11,
   "metadata": {
    "deletable": false,
    "nbgrader": {
     "cell_type": "code",
     "checksum": "bf4d76baf9e7db15a1709f3f21f79948",
     "grade": false,
     "grade_id": "cell-726859a91d715048",
     "locked": false,
     "schema_version": 3,
     "solution": true
    }
   },
   "outputs": [
    {
     "data": {
      "text/html": [
       "<table>\n",
       "<caption>A tibble: 6 × 2</caption>\n",
       "<thead>\n",
       "\t<tr><th scope=col>Healthy.life.expectancy.at.birth</th><th scope=col>Positive.affect</th></tr>\n",
       "\t<tr><th scope=col>&lt;dbl&gt;</th><th scope=col>&lt;dbl&gt;</th></tr>\n",
       "</thead>\n",
       "<tbody>\n",
       "\t<tr><td>52.33953</td><td>4.963486</td></tr>\n",
       "\t<tr><td>69.05166</td><td>6.692409</td></tr>\n",
       "\t<tr><td>65.69919</td><td>6.419796</td></tr>\n",
       "\t<tr><td>67.53870</td><td>8.094226</td></tr>\n",
       "\t<tr><td>65.12569</td><td>6.250138</td></tr>\n",
       "\t<tr><td>72.78334</td><td>7.800789</td></tr>\n",
       "</tbody>\n",
       "</table>\n"
      ],
      "text/latex": [
       "A tibble: 6 × 2\n",
       "\\begin{tabular}{r|ll}\n",
       " Healthy.life.expectancy.at.birth & Positive.affect\\\\\n",
       " <dbl> & <dbl>\\\\\n",
       "\\hline\n",
       "\t 52.33953 & 4.963486\\\\\n",
       "\t 69.05166 & 6.692409\\\\\n",
       "\t 65.69919 & 6.419796\\\\\n",
       "\t 67.53870 & 8.094226\\\\\n",
       "\t 65.12569 & 6.250138\\\\\n",
       "\t 72.78334 & 7.800789\\\\\n",
       "\\end{tabular}\n"
      ],
      "text/markdown": [
       "\n",
       "A tibble: 6 × 2\n",
       "\n",
       "| Healthy.life.expectancy.at.birth &lt;dbl&gt; | Positive.affect &lt;dbl&gt; |\n",
       "|---|---|\n",
       "| 52.33953 | 4.963486 |\n",
       "| 69.05166 | 6.692409 |\n",
       "| 65.69919 | 6.419796 |\n",
       "| 67.53870 | 8.094226 |\n",
       "| 65.12569 | 6.250138 |\n",
       "| 72.78334 | 7.800789 |\n",
       "\n"
      ],
      "text/plain": [
       "  Healthy.life.expectancy.at.birth Positive.affect\n",
       "1 52.33953                         4.963486       \n",
       "2 69.05166                         6.692409       \n",
       "3 65.69919                         6.419796       \n",
       "4 67.53870                         8.094226       \n",
       "5 65.12569                         6.250138       \n",
       "6 72.78334                         7.800789       "
      ]
     },
     "metadata": {},
     "output_type": "display_data"
    }
   ],
   "source": [
    "happy_step1 <- filter(happy_df, year == 2017)\n",
    "happy_step2 <- select(happy_step1, Healthy.life.expectancy.at.birth, Positive.affect)\n",
    "reduced_happy_df <- mutate(happy_step2, Positive.affect = Positive.affect * 10)\n",
    "\n",
    "# your code here\n",
    "head(reduced_happy_df)"
   ]
  },
  {
   "cell_type": "code",
   "execution_count": 12,
   "metadata": {
    "deletable": false,
    "editable": false,
    "nbgrader": {
     "cell_type": "code",
     "checksum": "04f40aade85d3627f27057d86431cef3",
     "grade": true,
     "grade_id": "cell-dec4163f6664b7f2",
     "locked": true,
     "points": 1,
     "schema_version": 3,
     "solution": false
    }
   },
   "outputs": [
    {
     "name": "stdout",
     "output_type": "stream",
     "text": [
      "[1] \"Success!\"\n"
     ]
    }
   ],
   "source": [
    "test_1.3.2()"
   ]
  },
  {
   "cell_type": "markdown",
   "metadata": {
    "deletable": false,
    "editable": false,
    "nbgrader": {
     "cell_type": "markdown",
     "checksum": "c547cdc50aec7c0f27bd4bf4b6e168d7",
     "grade": false,
     "grade_id": "cell-b10df2cccd63b024",
     "locked": true,
     "schema_version": 3,
     "solution": false
    }
   },
   "source": [
    "**Question 1.4** \n",
    "<br> {points: 3}\n",
    "\n",
    "Using the modified data set, `reduced_happy_df`, generate the scatterplot described above and make sure to label the axes in proper written English.\n",
    "\n",
    "Assign your answer to an object called `happy_plot`. "
   ]
  },
  {
   "cell_type": "code",
   "execution_count": 13,
   "metadata": {
    "deletable": false,
    "nbgrader": {
     "cell_type": "code",
     "checksum": "450d965f2af5e5441b4f06b27c0e2e7b",
     "grade": false,
     "grade_id": "cell-09cd90fd47b394d3",
     "locked": false,
     "schema_version": 3,
     "solution": true
    }
   },
   "outputs": [
    {
     "name": "stderr",
     "output_type": "stream",
     "text": [
      "Warning message:\n",
      "“Removed 1 rows containing missing values (geom_point).”"
     ]
    },
    {
     "data": {
      "image/png": "[encoded data removed]",
      "text/plain": [
       "plot without title"
      ]
     },
     "metadata": {},
     "output_type": "display_data"
    }
   ],
   "source": [
    "options(repr.plot.width = 4, repr.plot.height = 3)\n",
    "\n",
    "happy_plot <- ggplot(reduced_happy_df, aes(x = Healthy.life.expectancy.at.birth, y = Positive.affect)) + \n",
    "    geom_point() + \n",
    "    xlab(\"Healthy Life Expectancy at Birth\") + \n",
    "    ylab(\"Positive affect score (out of 10)\")\n",
    "\n",
    "# your code here\n",
    "\n",
    "happy_plot\n"
   ]
  },
  {
   "cell_type": "code",
   "execution_count": 14,
   "metadata": {
    "deletable": false,
    "editable": false,
    "nbgrader": {
     "cell_type": "code",
     "checksum": "81ddd81404fcd6a18e4a2424bfc4fb71",
     "grade": true,
     "grade_id": "cell-cc81148d52ca3d36",
     "locked": true,
     "points": 3,
     "schema_version": 3,
     "solution": false
    }
   },
   "outputs": [
    {
     "name": "stdout",
     "output_type": "stream",
     "text": [
      "[1] \"Success!\"\n"
     ]
    }
   ],
   "source": [
    "test_1.4()"
   ]
  },
  {
   "cell_type": "markdown",
   "metadata": {
    "deletable": false,
    "editable": false,
    "nbgrader": {
     "cell_type": "markdown",
     "checksum": "49a6ef8ae511e2506a786ec142f81b8a",
     "grade": false,
     "grade_id": "cell-74a8b29302c03111",
     "locked": true,
     "schema_version": 3,
     "solution": false
    }
   },
   "source": [
    "**Question 1.5** \n",
    "<br> {points: 2}\n",
    "\n",
    "In one sentence or two, describe what you see in the scatterplot above? Does there appear to be a correlation between life expectancy at birth and postive affect?"
   ]
  },
  {
   "cell_type": "markdown",
   "metadata": {
    "deletable": false,
    "nbgrader": {
     "cell_type": "markdown",
     "checksum": "438239cc2df426753d20943420879d2c",
     "grade": true,
     "grade_id": "cell-454d6ac241520540",
     "locked": false,
     "points": 2,
     "schema_version": 3,
     "solution": true
    }
   },
   "source": [
    "There appears to be no relationship between life expectancy at birth and positive affect."
   ]
  },
  {
   "cell_type": "markdown",
   "metadata": {
    "deletable": false,
    "editable": false,
    "nbgrader": {
     "cell_type": "markdown",
     "checksum": "5d310de8e129b2e0ab4e6a372e81a0fd",
     "grade": false,
     "grade_id": "cell-f2bcf671c8edd2bf",
     "locked": true,
     "schema_version": 3,
     "solution": false
    }
   },
   "source": [
    "**Question 1.6** \n",
    "<br> {points: 3}\n",
    "\n",
    "Choose any other column in the data set to plot against healthy life expectancy at birth. Create the scatter plot in the cell below (and remember to create proper English axis labels) with healthy life expectancy at birth on the x-axis. Name the plot `happy_plot_2`."
   ]
  },
  {
   "cell_type": "code",
   "execution_count": 15,
   "metadata": {
    "deletable": false,
    "nbgrader": {
     "cell_type": "code",
     "checksum": "a625f7633a74b32e366447f899adc5ef",
     "grade": false,
     "grade_id": "cell-1a67703036cd347d",
     "locked": false,
     "schema_version": 3,
     "solution": true,
     "task": false
    }
   },
   "outputs": [
    {
     "name": "stderr",
     "output_type": "stream",
     "text": [
      "Warning message:\n",
      "“Removed 7 rows containing missing values (geom_point).”"
     ]
    },
    {
     "data": {
      "image/png": "[encoded data removed]",
      "text/plain": [
       "plot without title"
      ]
     },
     "metadata": {},
     "output_type": "display_data"
    }
   ],
   "source": [
    "# Any other column in acceptable. \n",
    "\n",
    "# your code here\n",
    "happy_step1_plot_2 <- filter(happy_df, year == 2017)\n",
    "reduced_happy_df_plot_2  <- select(happy_step1, Healthy.life.expectancy.at.birth, Log.GDP.per.capita)\n",
    "\n",
    "options(repr.plot.width = 4, repr.plot.height = 3)\n",
    "\n",
    "happy_plot_2 <- ggplot(reduced_happy_df_plot_2, aes(x = Healthy.life.expectancy.at.birth, y = Log.GDP.per.capita)) + \n",
    "    geom_point() + \n",
    "    xlab(\"Healthy Life Expectancy at Birth\") + \n",
    "    ylab(\"GDP per Capita\")\n",
    "\n",
    "happy_plot_2"
   ]
  },
  {
   "cell_type": "code",
   "execution_count": 16,
   "metadata": {
    "deletable": false,
    "editable": false,
    "nbgrader": {
     "cell_type": "code",
     "checksum": "55c06541f368c18c866520156b567088",
     "grade": true,
     "grade_id": "cell-3fd42dbb922e5fd8",
     "locked": true,
     "points": 3,
     "schema_version": 3,
     "solution": false,
     "task": false
    }
   },
   "outputs": [],
   "source": [
    "# The tests were intentionally hidden so that you can practice deciding \n",
    "# when you have the correct answer."
   ]
  },
  {
   "cell_type": "markdown",
   "metadata": {
    "deletable": false,
    "editable": false,
    "nbgrader": {
     "cell_type": "markdown",
     "checksum": "3a01ba7eeaf0d17ae2c48f6ebe2beb94",
     "grade": false,
     "grade_id": "cell-a9da33d0a45bb495",
     "locked": true,
     "schema_version": 3,
     "solution": false
    }
   },
   "source": [
    "**Question 1.7**\n",
    "<br> {points: 3}\n",
    "\n",
    "In a sentence or two, describe what you see in the scatterplot above? Does there appear to be a correlation between healthy life expectancy at birth and the other variable you plotted?"
   ]
  },
  {
   "cell_type": "markdown",
   "metadata": {
    "deletable": false,
    "nbgrader": {
     "cell_type": "markdown",
     "checksum": "e94843b2cfe557d32464460fe171f40e",
     "grade": true,
     "grade_id": "cell-f324f67cb0ef5682",
     "locked": false,
     "points": 3,
     "schema_version": 3,
     "solution": true
    }
   },
   "source": [
    "Yes, there appears to be a strong positive correlation between healthy life expectancy at birth and GDP per Capita, the other variable that I plotted."
   ]
  },
  {
   "cell_type": "markdown",
   "metadata": {
    "deletable": false,
    "editable": false,
    "nbgrader": {
     "cell_type": "markdown",
     "checksum": "52713ccc9550ea6b14d097a4b99a88fa",
     "grade": false,
     "grade_id": "cell-c5375f89b178b96d",
     "locked": true,
     "schema_version": 3,
     "solution": false,
     "task": false
    }
   },
   "source": [
    "## 2. Whistler Snow\n",
    "\n",
    "Skiing and snowboarding are huge in British Columbia. Some of the most perfect slopes are found close to home. In fact, just two hours north of Vancouver, we reach the mountain-bearing city of Whistler. With cold weather and plenty of snowfall, Whistler is the ideal destination for winter sports fanatics. \n",
    "\n",
    "One thing skiiers and snowboarders want is fresh snow! When are they most likely to find this? In the `data` directory we have two year long data sets from [Environment Canada from the Whistler Roundhouse Station](http://climate.weather.gc.ca/historical_data/search_historic_data_stations_e.html?StationID=348&Year=2007&Month=3&Day=1&timeframe=2&type=bar&MeasTypeID=snow&searchType=stnProx&txtRadius=25&optProxType=navLink&txtLatDecDeg=50.128889166667&txtLongDecDeg=122.95483333333&optLimit=specDate&selRowPerPage=25&station=WHISTLER) (on Whistler mountain). This weather station is located 1,835 m above sea level. \n",
    "\n",
    "To answer the question when are skiiers and snowboarders most likely to find fresh snow (and when you should plan your next ski trip to Whistler) you will create a line plot where the date is on the x-axis and the total snow per day in centimetres (the column named `Total Snow cm` in the data file) is on the y-axis. Given that we have data for 2 years (2017 & 2018), we will create two plots, one for each year and see if there is any consistent trend we can observe across the two years."
   ]
  },
  {
   "cell_type": "markdown",
   "metadata": {
    "deletable": false,
    "editable": false,
    "nbgrader": {
     "cell_type": "markdown",
     "checksum": "a3bfe4b471dd18b1ad57a47c7b703aab",
     "grade": false,
     "grade_id": "cell-e8f091bb368e39f1",
     "locked": true,
     "schema_version": 3,
     "solution": false
    }
   },
   "source": [
    "**Question 2.1** Multiple Choice: \n",
    "<br> {points: 1}\n",
    "\n",
    "What are we going to plot on the y-axis?\n",
    "\n",
    "A. total precipitation per day in centimetres\n",
    "\n",
    "B. total snow on the ground in centimetres\n",
    "\n",
    "C. total snow per day in centimetres\n",
    "\n",
    "D. total rain per day in centimetres\n",
    "\n",
    "*Assign your answer to an object called `answer2.1`.*"
   ]
  },
  {
   "cell_type": "code",
   "execution_count": 17,
   "metadata": {
    "deletable": false,
    "nbgrader": {
     "cell_type": "code",
     "checksum": "ef479a95b2088ebe09381263d08b38ae",
     "grade": false,
     "grade_id": "cell-7c77b685f9f33b13",
     "locked": false,
     "schema_version": 3,
     "solution": true
    }
   },
   "outputs": [],
   "source": [
    "# Make sure the correct answer is an uppercase letter. \n",
    "# Surround your answer with quotation marks.\n",
    "# Replace the fail() with your answer. \n",
    "\n",
    "# your code here\n",
    "answer2.1 <- 'C'"
   ]
  },
  {
   "cell_type": "code",
   "execution_count": 18,
   "metadata": {
    "deletable": false,
    "editable": false,
    "nbgrader": {
     "cell_type": "code",
     "checksum": "7a620c56cdb695d0bf330f76849be1be",
     "grade": true,
     "grade_id": "cell-09cb9f902ccc6326",
     "locked": true,
     "points": 1,
     "schema_version": 3,
     "solution": false
    }
   },
   "outputs": [
    {
     "name": "stdout",
     "output_type": "stream",
     "text": [
      "[1] \"Success!\"\n"
     ]
    }
   ],
   "source": [
    "test_2.1()"
   ]
  },
  {
   "cell_type": "markdown",
   "metadata": {
    "deletable": false,
    "editable": false,
    "nbgrader": {
     "cell_type": "markdown",
     "checksum": "cef93d503d7261a9fbb858628e9af817",
     "grade": false,
     "grade_id": "cell-4f445b649edd0b2b",
     "locked": true,
     "schema_version": 3,
     "solution": false
    }
   },
   "source": [
    "**Question 2.2.0** \n",
    "<br> {points: 1}\n",
    "\n",
    "Read in the file named `eng-daily-01012018-12312018.csv` from the data directory. Preview the file to choose the correct `read_*` function and argument values to get the data into R. Name it `whistler_2018`.\n",
    "\n",
    "*Note: You'll see a lot of entries of the form `NA`. This is the symbol R uses to denote missing data. Interestingly, you can do math and make comparisons with `NA`: for example,* `NA + 1 = NA`, `NA * 3 = NA`, `NA > 3 = NA`. *Most operations on `NA` return `NA`. This may seem a bit weird, but it makes things much simpler in R since it removes the need to write any special code to handle missing data!*"
   ]
  },
  {
   "cell_type": "code",
   "execution_count": 19,
   "metadata": {
    "deletable": false,
    "nbgrader": {
     "cell_type": "code",
     "checksum": "706b46bd1a45f80f4a7d3da390b75664",
     "grade": false,
     "grade_id": "cell-5eee09e838226892",
     "locked": false,
     "schema_version": 3,
     "solution": true
    }
   },
   "outputs": [
    {
     "name": "stderr",
     "output_type": "stream",
     "text": [
      "Parsed with column specification:\n",
      "cols(\n",
      "  .default = col_logical(),\n",
      "  `Date/Time` = \u001b[34mcol_date(format = \"\")\u001b[39m,\n",
      "  Year = \u001b[32mcol_double()\u001b[39m,\n",
      "  Month = \u001b[31mcol_character()\u001b[39m,\n",
      "  Day = \u001b[31mcol_character()\u001b[39m,\n",
      "  `Data Quality` = \u001b[31mcol_character()\u001b[39m,\n",
      "  `Max Temp (°C)` = \u001b[32mcol_double()\u001b[39m,\n",
      "  `Min Temp (°C)` = \u001b[32mcol_double()\u001b[39m,\n",
      "  `Mean Temp (°C)` = \u001b[32mcol_double()\u001b[39m,\n",
      "  `Heat Deg Days (°C)` = \u001b[32mcol_double()\u001b[39m,\n",
      "  `Cool Deg Days (°C)` = \u001b[32mcol_double()\u001b[39m,\n",
      "  `Total Rain (mm)` = \u001b[32mcol_double()\u001b[39m,\n",
      "  `Total Snow (cm)` = \u001b[32mcol_double()\u001b[39m,\n",
      "  `Total Precip (mm)` = \u001b[32mcol_double()\u001b[39m,\n",
      "  `Snow on Grnd (cm)` = \u001b[32mcol_double()\u001b[39m\n",
      ")\n",
      "See spec(...) for full column specifications.\n"
     ]
    },
    {
     "data": {
      "text/html": [
       "<table>\n",
       "<caption>A tibble: 6 × 27</caption>\n",
       "<thead>\n",
       "\t<tr><th scope=col>Date/Time</th><th scope=col>Year</th><th scope=col>Month</th><th scope=col>Day</th><th scope=col>Data Quality</th><th scope=col>Max Temp (°C)</th><th scope=col>Max Temp Flag</th><th scope=col>Min Temp (°C)</th><th scope=col>Min Temp Flag</th><th scope=col>Mean Temp (°C)</th><th scope=col>⋯</th><th scope=col>Total Snow (cm)</th><th scope=col>Total Snow Flag</th><th scope=col>Total Precip (mm)</th><th scope=col>Total Precip Flag</th><th scope=col>Snow on Grnd (cm)</th><th scope=col>Snow on Grnd Flag</th><th scope=col>Dir of Max Gust (10s deg)</th><th scope=col>Dir of Max Gust Flag</th><th scope=col>Spd of Max Gust (km/h)</th><th scope=col>Spd of Max Gust Flag</th></tr>\n",
       "\t<tr><th scope=col>&lt;date&gt;</th><th scope=col>&lt;dbl&gt;</th><th scope=col>&lt;chr&gt;</th><th scope=col>&lt;chr&gt;</th><th scope=col>&lt;chr&gt;</th><th scope=col>&lt;dbl&gt;</th><th scope=col>&lt;lgl&gt;</th><th scope=col>&lt;dbl&gt;</th><th scope=col>&lt;lgl&gt;</th><th scope=col>&lt;dbl&gt;</th><th scope=col>⋯</th><th scope=col>&lt;dbl&gt;</th><th scope=col>&lt;lgl&gt;</th><th scope=col>&lt;dbl&gt;</th><th scope=col>&lt;lgl&gt;</th><th scope=col>&lt;dbl&gt;</th><th scope=col>&lt;lgl&gt;</th><th scope=col>&lt;lgl&gt;</th><th scope=col>&lt;lgl&gt;</th><th scope=col>&lt;lgl&gt;</th><th scope=col>&lt;lgl&gt;</th></tr>\n",
       "</thead>\n",
       "<tbody>\n",
       "\t<tr><td>2018-01-01</td><td>2018</td><td>01</td><td>01</td><td>†</td><td>6.0</td><td>NA</td><td>-6.0</td><td>NA</td><td> 0.0</td><td>⋯</td><td>0</td><td>  NA</td><td> 0.0</td><td>NA</td><td>187</td><td>NA</td><td>NA</td><td>NA</td><td>NA</td><td>NA</td></tr>\n",
       "\t<tr><td>2018-01-02</td><td>2018</td><td>01</td><td>02</td><td>†</td><td>5.5</td><td>NA</td><td> 0.0</td><td>NA</td><td> 2.8</td><td>⋯</td><td>0</td><td>  NA</td><td> 0.0</td><td>NA</td><td>183</td><td>NA</td><td>NA</td><td>NA</td><td>NA</td><td>NA</td></tr>\n",
       "\t<tr><td>2018-01-03</td><td>2018</td><td>01</td><td>03</td><td>†</td><td>6.0</td><td>NA</td><td> 0.0</td><td>NA</td><td> 3.0</td><td>⋯</td><td>0</td><td>  NA</td><td> 0.0</td><td>NA</td><td>180</td><td>NA</td><td>NA</td><td>NA</td><td>NA</td><td>NA</td></tr>\n",
       "\t<tr><td>2018-01-04</td><td>2018</td><td>01</td><td>04</td><td>†</td><td>5.0</td><td>NA</td><td> 1.5</td><td>NA</td><td> 3.3</td><td>⋯</td><td>0</td><td>  NA</td><td> 2.5</td><td>NA</td><td>179</td><td>NA</td><td>NA</td><td>NA</td><td>NA</td><td>NA</td></tr>\n",
       "\t<tr><td>2018-01-05</td><td>2018</td><td>01</td><td>05</td><td>†</td><td>3.0</td><td>NA</td><td> 0.5</td><td>NA</td><td> 1.8</td><td>⋯</td><td>0</td><td>TRUE</td><td>13.4</td><td>NA</td><td>175</td><td>NA</td><td>NA</td><td>NA</td><td>NA</td><td>NA</td></tr>\n",
       "\t<tr><td>2018-01-06</td><td>2018</td><td>01</td><td>06</td><td>†</td><td>0.0</td><td>NA</td><td>-3.0</td><td>NA</td><td>-1.5</td><td>⋯</td><td>2</td><td>  NA</td><td> 2.0</td><td>NA</td><td>169</td><td>NA</td><td>NA</td><td>NA</td><td>NA</td><td>NA</td></tr>\n",
       "</tbody>\n",
       "</table>\n"
      ],
      "text/latex": [
       "A tibble: 6 × 27\n",
       "\\begin{tabular}{r|lllllllllllllllllllllllllll}\n",
       " Date/Time & Year & Month & Day & Data Quality & Max Temp (°C) & Max Temp Flag & Min Temp (°C) & Min Temp Flag & Mean Temp (°C) & Mean Temp Flag & Heat Deg Days (°C) & Heat Deg Days Flag & Cool Deg Days (°C) & Cool Deg Days Flag & Total Rain (mm) & Total Rain Flag & Total Snow (cm) & Total Snow Flag & Total Precip (mm) & Total Precip Flag & Snow on Grnd (cm) & Snow on Grnd Flag & Dir of Max Gust (10s deg) & Dir of Max Gust Flag & Spd of Max Gust (km/h) & Spd of Max Gust Flag\\\\\n",
       " <date> & <dbl> & <chr> & <chr> & <chr> & <dbl> & <lgl> & <dbl> & <lgl> & <dbl> & <lgl> & <dbl> & <lgl> & <dbl> & <lgl> & <dbl> & <lgl> & <dbl> & <lgl> & <dbl> & <lgl> & <dbl> & <lgl> & <lgl> & <lgl> & <lgl> & <lgl>\\\\\n",
       "\\hline\n",
       "\t 2018-01-01 & 2018 & 01 & 01 & † & 6.0 & NA & -6.0 & NA &  0.0 & NA & 18.0 & NA & 0 & NA &  0.0 & NA & 0 &   NA &  0.0 & NA & 187 & NA & NA & NA & NA & NA\\\\\n",
       "\t 2018-01-02 & 2018 & 01 & 02 & † & 5.5 & NA &  0.0 & NA &  2.8 & NA & 15.2 & NA & 0 & NA &  0.0 & NA & 0 &   NA &  0.0 & NA & 183 & NA & NA & NA & NA & NA\\\\\n",
       "\t 2018-01-03 & 2018 & 01 & 03 & † & 6.0 & NA &  0.0 & NA &  3.0 & NA & 15.0 & NA & 0 & NA &  0.0 & NA & 0 &   NA &  0.0 & NA & 180 & NA & NA & NA & NA & NA\\\\\n",
       "\t 2018-01-04 & 2018 & 01 & 04 & † & 5.0 & NA &  1.5 & NA &  3.3 & NA & 14.7 & NA & 0 & NA &  2.5 & NA & 0 &   NA &  2.5 & NA & 179 & NA & NA & NA & NA & NA\\\\\n",
       "\t 2018-01-05 & 2018 & 01 & 05 & † & 3.0 & NA &  0.5 & NA &  1.8 & NA & 16.2 & NA & 0 & NA & 13.4 & NA & 0 & TRUE & 13.4 & NA & 175 & NA & NA & NA & NA & NA\\\\\n",
       "\t 2018-01-06 & 2018 & 01 & 06 & † & 0.0 & NA & -3.0 & NA & -1.5 & NA & 19.5 & NA & 0 & NA &  0.0 & NA & 2 &   NA &  2.0 & NA & 169 & NA & NA & NA & NA & NA\\\\\n",
       "\\end{tabular}\n"
      ],
      "text/markdown": [
       "\n",
       "A tibble: 6 × 27\n",
       "\n",
       "| Date/Time &lt;date&gt; | Year &lt;dbl&gt; | Month &lt;chr&gt; | Day &lt;chr&gt; | Data Quality &lt;chr&gt; | Max Temp (°C) &lt;dbl&gt; | Max Temp Flag &lt;lgl&gt; | Min Temp (°C) &lt;dbl&gt; | Min Temp Flag &lt;lgl&gt; | Mean Temp (°C) &lt;dbl&gt; | ⋯ ⋯ | Total Snow (cm) &lt;dbl&gt; | Total Snow Flag &lt;lgl&gt; | Total Precip (mm) &lt;dbl&gt; | Total Precip Flag &lt;lgl&gt; | Snow on Grnd (cm) &lt;dbl&gt; | Snow on Grnd Flag &lt;lgl&gt; | Dir of Max Gust (10s deg) &lt;lgl&gt; | Dir of Max Gust Flag &lt;lgl&gt; | Spd of Max Gust (km/h) &lt;lgl&gt; | Spd of Max Gust Flag &lt;lgl&gt; |\n",
       "|---|---|---|---|---|---|---|---|---|---|---|---|---|---|---|---|---|---|---|---|---|\n",
       "| 2018-01-01 | 2018 | 01 | 01 | † | 6.0 | NA | -6.0 | NA |  0.0 | ⋯ | 0 |   NA |  0.0 | NA | 187 | NA | NA | NA | NA | NA |\n",
       "| 2018-01-02 | 2018 | 01 | 02 | † | 5.5 | NA |  0.0 | NA |  2.8 | ⋯ | 0 |   NA |  0.0 | NA | 183 | NA | NA | NA | NA | NA |\n",
       "| 2018-01-03 | 2018 | 01 | 03 | † | 6.0 | NA |  0.0 | NA |  3.0 | ⋯ | 0 |   NA |  0.0 | NA | 180 | NA | NA | NA | NA | NA |\n",
       "| 2018-01-04 | 2018 | 01 | 04 | † | 5.0 | NA |  1.5 | NA |  3.3 | ⋯ | 0 |   NA |  2.5 | NA | 179 | NA | NA | NA | NA | NA |\n",
       "| 2018-01-05 | 2018 | 01 | 05 | † | 3.0 | NA |  0.5 | NA |  1.8 | ⋯ | 0 | TRUE | 13.4 | NA | 175 | NA | NA | NA | NA | NA |\n",
       "| 2018-01-06 | 2018 | 01 | 06 | † | 0.0 | NA | -3.0 | NA | -1.5 | ⋯ | 2 |   NA |  2.0 | NA | 169 | NA | NA | NA | NA | NA |\n",
       "\n"
      ],
      "text/plain": [
       "  Date/Time  Year Month Day Data Quality Max Temp (°C) Max Temp Flag\n",
       "1 2018-01-01 2018 01    01  †            6.0           NA           \n",
       "2 2018-01-02 2018 01    02  †            5.5           NA           \n",
       "3 2018-01-03 2018 01    03  †            6.0           NA           \n",
       "4 2018-01-04 2018 01    04  †            5.0           NA           \n",
       "5 2018-01-05 2018 01    05  †            3.0           NA           \n",
       "6 2018-01-06 2018 01    06  †            0.0           NA           \n",
       "  Min Temp (°C) Min Temp Flag Mean Temp (°C) ⋯ Total Snow (cm) Total Snow Flag\n",
       "1 -6.0          NA             0.0           ⋯ 0                 NA           \n",
       "2  0.0          NA             2.8           ⋯ 0                 NA           \n",
       "3  0.0          NA             3.0           ⋯ 0                 NA           \n",
       "4  1.5          NA             3.3           ⋯ 0                 NA           \n",
       "5  0.5          NA             1.8           ⋯ 0               TRUE           \n",
       "6 -3.0          NA            -1.5           ⋯ 2                 NA           \n",
       "  Total Precip (mm) Total Precip Flag Snow on Grnd (cm) Snow on Grnd Flag\n",
       "1  0.0              NA                187               NA               \n",
       "2  0.0              NA                183               NA               \n",
       "3  0.0              NA                180               NA               \n",
       "4  2.5              NA                179               NA               \n",
       "5 13.4              NA                175               NA               \n",
       "6  2.0              NA                169               NA               \n",
       "  Dir of Max Gust (10s deg) Dir of Max Gust Flag Spd of Max Gust (km/h)\n",
       "1 NA                        NA                   NA                    \n",
       "2 NA                        NA                   NA                    \n",
       "3 NA                        NA                   NA                    \n",
       "4 NA                        NA                   NA                    \n",
       "5 NA                        NA                   NA                    \n",
       "6 NA                        NA                   NA                    \n",
       "  Spd of Max Gust Flag\n",
       "1 NA                  \n",
       "2 NA                  \n",
       "3 NA                  \n",
       "4 NA                  \n",
       "5 NA                  \n",
       "6 NA                  "
      ]
     },
     "metadata": {},
     "output_type": "display_data"
    }
   ],
   "source": [
    "# your code here\n",
    "whistler_2018 <- read_csv('data/eng-daily-01012018-12312018.csv', skip = 25)\n",
    "head(whistler_2018)"
   ]
  },
  {
   "cell_type": "code",
   "execution_count": 20,
   "metadata": {
    "deletable": false,
    "editable": false,
    "nbgrader": {
     "cell_type": "code",
     "checksum": "efb4c7bfb03165d9279733da66021a7d",
     "grade": true,
     "grade_id": "cell-37bb46c77b5a6b65",
     "locked": true,
     "points": 1,
     "schema_version": 3,
     "solution": false
    }
   },
   "outputs": [
    {
     "name": "stdout",
     "output_type": "stream",
     "text": [
      "[1] \"Success!\"\n"
     ]
    }
   ],
   "source": [
    "test_2.2.0()"
   ]
  },
  {
   "cell_type": "markdown",
   "metadata": {
    "deletable": false,
    "editable": false,
    "nbgrader": {
     "cell_type": "markdown",
     "checksum": "8de767a92b195c4d5b6a69d6c1adb62b",
     "grade": false,
     "grade_id": "cell-8a21bf6086ccf39e",
     "locked": true,
     "schema_version": 3,
     "solution": false
    }
   },
   "source": [
    "**Question 2.2.1** \n",
    "<br> {points: 1}\n",
    "\n",
    "Looking at the column names of the `whistler_2018` data frame you can see we have the white space in column names problem again. Use `make.names` to remove these."
   ]
  },
  {
   "cell_type": "code",
   "execution_count": 21,
   "metadata": {
    "deletable": false,
    "nbgrader": {
     "cell_type": "code",
     "checksum": "d0d910d15df1d5b4c9948342f363d246",
     "grade": false,
     "grade_id": "cell-56ec4e8dbbff86e2",
     "locked": false,
     "schema_version": 3,
     "solution": true
    }
   },
   "outputs": [
    {
     "data": {
      "text/html": [
       "<ol class=list-inline>\n",
       "\t<li>'Date.Time'</li>\n",
       "\t<li>'Year'</li>\n",
       "\t<li>'Month'</li>\n",
       "\t<li>'Day'</li>\n",
       "\t<li>'Data.Quality'</li>\n",
       "\t<li>'Max.Temp...C.'</li>\n",
       "\t<li>'Max.Temp.Flag'</li>\n",
       "\t<li>'Min.Temp...C.'</li>\n",
       "\t<li>'Min.Temp.Flag'</li>\n",
       "\t<li>'Mean.Temp...C.'</li>\n",
       "\t<li>'Mean.Temp.Flag'</li>\n",
       "\t<li>'Heat.Deg.Days...C.'</li>\n",
       "\t<li>'Heat.Deg.Days.Flag'</li>\n",
       "\t<li>'Cool.Deg.Days...C.'</li>\n",
       "\t<li>'Cool.Deg.Days.Flag'</li>\n",
       "\t<li>'Total.Rain..mm.'</li>\n",
       "\t<li>'Total.Rain.Flag'</li>\n",
       "\t<li>'Total.Snow..cm.'</li>\n",
       "\t<li>'Total.Snow.Flag'</li>\n",
       "\t<li>'Total.Precip..mm.'</li>\n",
       "\t<li>'Total.Precip.Flag'</li>\n",
       "\t<li>'Snow.on.Grnd..cm.'</li>\n",
       "\t<li>'Snow.on.Grnd.Flag'</li>\n",
       "\t<li>'Dir.of.Max.Gust..10s.deg.'</li>\n",
       "\t<li>'Dir.of.Max.Gust.Flag'</li>\n",
       "\t<li>'Spd.of.Max.Gust..km.h.'</li>\n",
       "\t<li>'Spd.of.Max.Gust.Flag'</li>\n",
       "</ol>\n"
      ],
      "text/latex": [
       "\\begin{enumerate*}\n",
       "\\item 'Date.Time'\n",
       "\\item 'Year'\n",
       "\\item 'Month'\n",
       "\\item 'Day'\n",
       "\\item 'Data.Quality'\n",
       "\\item 'Max.Temp...C.'\n",
       "\\item 'Max.Temp.Flag'\n",
       "\\item 'Min.Temp...C.'\n",
       "\\item 'Min.Temp.Flag'\n",
       "\\item 'Mean.Temp...C.'\n",
       "\\item 'Mean.Temp.Flag'\n",
       "\\item 'Heat.Deg.Days...C.'\n",
       "\\item 'Heat.Deg.Days.Flag'\n",
       "\\item 'Cool.Deg.Days...C.'\n",
       "\\item 'Cool.Deg.Days.Flag'\n",
       "\\item 'Total.Rain..mm.'\n",
       "\\item 'Total.Rain.Flag'\n",
       "\\item 'Total.Snow..cm.'\n",
       "\\item 'Total.Snow.Flag'\n",
       "\\item 'Total.Precip..mm.'\n",
       "\\item 'Total.Precip.Flag'\n",
       "\\item 'Snow.on.Grnd..cm.'\n",
       "\\item 'Snow.on.Grnd.Flag'\n",
       "\\item 'Dir.of.Max.Gust..10s.deg.'\n",
       "\\item 'Dir.of.Max.Gust.Flag'\n",
       "\\item 'Spd.of.Max.Gust..km.h.'\n",
       "\\item 'Spd.of.Max.Gust.Flag'\n",
       "\\end{enumerate*}\n"
      ],
      "text/markdown": [
       "1. 'Date.Time'\n",
       "2. 'Year'\n",
       "3. 'Month'\n",
       "4. 'Day'\n",
       "5. 'Data.Quality'\n",
       "6. 'Max.Temp...C.'\n",
       "7. 'Max.Temp.Flag'\n",
       "8. 'Min.Temp...C.'\n",
       "9. 'Min.Temp.Flag'\n",
       "10. 'Mean.Temp...C.'\n",
       "11. 'Mean.Temp.Flag'\n",
       "12. 'Heat.Deg.Days...C.'\n",
       "13. 'Heat.Deg.Days.Flag'\n",
       "14. 'Cool.Deg.Days...C.'\n",
       "15. 'Cool.Deg.Days.Flag'\n",
       "16. 'Total.Rain..mm.'\n",
       "17. 'Total.Rain.Flag'\n",
       "18. 'Total.Snow..cm.'\n",
       "19. 'Total.Snow.Flag'\n",
       "20. 'Total.Precip..mm.'\n",
       "21. 'Total.Precip.Flag'\n",
       "22. 'Snow.on.Grnd..cm.'\n",
       "23. 'Snow.on.Grnd.Flag'\n",
       "24. 'Dir.of.Max.Gust..10s.deg.'\n",
       "25. 'Dir.of.Max.Gust.Flag'\n",
       "26. 'Spd.of.Max.Gust..km.h.'\n",
       "27. 'Spd.of.Max.Gust.Flag'\n",
       "\n",
       "\n"
      ],
      "text/plain": [
       " [1] \"Date.Time\"                 \"Year\"                     \n",
       " [3] \"Month\"                     \"Day\"                      \n",
       " [5] \"Data.Quality\"              \"Max.Temp...C.\"            \n",
       " [7] \"Max.Temp.Flag\"             \"Min.Temp...C.\"            \n",
       " [9] \"Min.Temp.Flag\"             \"Mean.Temp...C.\"           \n",
       "[11] \"Mean.Temp.Flag\"            \"Heat.Deg.Days...C.\"       \n",
       "[13] \"Heat.Deg.Days.Flag\"        \"Cool.Deg.Days...C.\"       \n",
       "[15] \"Cool.Deg.Days.Flag\"        \"Total.Rain..mm.\"          \n",
       "[17] \"Total.Rain.Flag\"           \"Total.Snow..cm.\"          \n",
       "[19] \"Total.Snow.Flag\"           \"Total.Precip..mm.\"        \n",
       "[21] \"Total.Precip.Flag\"         \"Snow.on.Grnd..cm.\"        \n",
       "[23] \"Snow.on.Grnd.Flag\"         \"Dir.of.Max.Gust..10s.deg.\"\n",
       "[25] \"Dir.of.Max.Gust.Flag\"      \"Spd.of.Max.Gust..km.h.\"   \n",
       "[27] \"Spd.of.Max.Gust.Flag\"     "
      ]
     },
     "metadata": {},
     "output_type": "display_data"
    }
   ],
   "source": [
    "# your code here\n",
    "colnames(whistler_2018) <- make.names(colnames(whistler_2018))\n",
    "colnames(whistler_2018)"
   ]
  },
  {
   "cell_type": "code",
   "execution_count": 22,
   "metadata": {
    "deletable": false,
    "editable": false,
    "nbgrader": {
     "cell_type": "code",
     "checksum": "4860b9d70d6f291ccdc17d86b7961737",
     "grade": true,
     "grade_id": "cell-a8623de117076f50",
     "locked": true,
     "points": 1,
     "schema_version": 3,
     "solution": false
    }
   },
   "outputs": [
    {
     "name": "stdout",
     "output_type": "stream",
     "text": [
      "[1] \"Success!\"\n"
     ]
    }
   ],
   "source": [
    "test_2.2.1()"
   ]
  },
  {
   "cell_type": "markdown",
   "metadata": {
    "deletable": false,
    "editable": false,
    "nbgrader": {
     "cell_type": "markdown",
     "checksum": "132f4ba6bb26455178e3e694205a9c0d",
     "grade": false,
     "grade_id": "cell-ebc628786570051a",
     "locked": true,
     "schema_version": 3,
     "solution": false
    }
   },
   "source": [
    "**Question 2.3** \n",
    "<br> {points: 1}\n",
    "\n",
    "Create a line plot where the date is on the x-axis and the total snow per day in centimetres is on the y-axis by filling in the `...` in the code below. Before you create your plot, use `make.names` to remove the whitespace from all the column names. Do not modify the column names further or in any other way (otherwise the autograding won't work for this question).\n",
    "\n",
    "Ensure you create axis labels that are formatted in proper English. Assign your plot to an object called `whistler_2018_plot`. "
   ]
  },
  {
   "cell_type": "code",
   "execution_count": 23,
   "metadata": {
    "deletable": false,
    "nbgrader": {
     "cell_type": "code",
     "checksum": "696c5a471521a387441c1e5214a54bcd",
     "grade": false,
     "grade_id": "cell-2b5a4c01c5a8404d",
     "locked": false,
     "schema_version": 3,
     "solution": true
    }
   },
   "outputs": [
    {
     "data": {
      "image/png": "[encoded data removed]",
      "text/plain": [
       "plot without title"
      ]
     },
     "metadata": {},
     "output_type": "display_data"
    }
   ],
   "source": [
    "options(repr.plot.width = 8, repr.plot.height = 2.5)\n",
    "whistler_2018_plot <-  ggplot(whistler_2018, aes(x = Date.Time, y = Total.Snow..cm.)) + \n",
    "    geom_line() +\n",
    "    xlab('Date') +\n",
    "    ylab('Total Snow (CM)') +\n",
    "    scale_x_date(date_breaks = \"1 month\") + # labels every month\n",
    "    theme(axis.text.x = element_text(angle = 90, hjust = 1)) # rotates x axis labels to be vertical\n",
    "\n",
    "# your code here\n",
    "# fail() # No Answer - remove if you provide an answer\n",
    "whistler_2018_plot"
   ]
  },
  {
   "cell_type": "code",
   "execution_count": 24,
   "metadata": {
    "deletable": false,
    "editable": false,
    "nbgrader": {
     "cell_type": "code",
     "checksum": "04ce0c9907d682b7df7a9f88b523f708",
     "grade": true,
     "grade_id": "cell-7ba6c116f9f01fbf",
     "locked": true,
     "points": 1,
     "schema_version": 3,
     "solution": false
    }
   },
   "outputs": [
    {
     "name": "stdout",
     "output_type": "stream",
     "text": [
      "[1] \"Success!\"\n"
     ]
    }
   ],
   "source": [
    "test_2.3()"
   ]
  },
  {
   "cell_type": "markdown",
   "metadata": {
    "deletable": false,
    "editable": false,
    "nbgrader": {
     "cell_type": "markdown",
     "checksum": "ef92dafa3381e81b9a353c5d1377eb37",
     "grade": false,
     "grade_id": "cell-5ab30aff1ade6a29",
     "locked": true,
     "schema_version": 3,
     "solution": false
    }
   },
   "source": [
    "**Question 2.4** \n",
    "<br> {points: 2}\n",
    "\n",
    "Looking at the line plot above for 2018, of the months when it snowed, what top 2 months had the most fresh snow? "
   ]
  },
  {
   "cell_type": "markdown",
   "metadata": {
    "deletable": false,
    "nbgrader": {
     "cell_type": "markdown",
     "checksum": "2bfa162235829535933a5e42ed44115f",
     "grade": true,
     "grade_id": "cell-44413b023d2ed1cf",
     "locked": false,
     "points": 2,
     "schema_version": 3,
     "solution": true
    }
   },
   "source": [
    "January, December."
   ]
  },
  {
   "cell_type": "markdown",
   "metadata": {
    "deletable": false,
    "editable": false,
    "nbgrader": {
     "cell_type": "markdown",
     "checksum": "07a0b1c3f0a4bd2c801db599436d93fd",
     "grade": false,
     "grade_id": "cell-f73cf8cfc5b9f8e8",
     "locked": true,
     "schema_version": 3,
     "solution": false
    }
   },
   "source": [
    "**Question 2.5**\n",
    "<br> {points: 3}\n",
    "\n",
    "Repeat the data loading and plot creation using the file `eng-daily-01012017-12312017.csv` to visualize the same data for the year 2017. Name the plot `whistler_2017_plot`."
   ]
  },
  {
   "cell_type": "code",
   "execution_count": 25,
   "metadata": {
    "deletable": false,
    "nbgrader": {
     "cell_type": "code",
     "checksum": "a90aace9803da14edcca199ed154b439",
     "grade": false,
     "grade_id": "cell-1b68857d927e3850",
     "locked": false,
     "schema_version": 3,
     "solution": true,
     "task": false
    }
   },
   "outputs": [
    {
     "name": "stderr",
     "output_type": "stream",
     "text": [
      "Parsed with column specification:\n",
      "cols(\n",
      "  .default = col_double(),\n",
      "  `Date/Time` = \u001b[34mcol_date(format = \"\")\u001b[39m,\n",
      "  Month = \u001b[31mcol_character()\u001b[39m,\n",
      "  Day = \u001b[31mcol_character()\u001b[39m,\n",
      "  `Data Quality` = \u001b[31mcol_character()\u001b[39m,\n",
      "  `Max Temp Flag` = \u001b[31mcol_character()\u001b[39m,\n",
      "  `Min Temp Flag` = \u001b[33mcol_logical()\u001b[39m,\n",
      "  `Mean Temp Flag` = \u001b[31mcol_character()\u001b[39m,\n",
      "  `Heat Deg Days Flag` = \u001b[31mcol_character()\u001b[39m,\n",
      "  `Cool Deg Days Flag` = \u001b[31mcol_character()\u001b[39m,\n",
      "  `Total Rain Flag` = \u001b[33mcol_logical()\u001b[39m,\n",
      "  `Total Snow Flag` = \u001b[33mcol_logical()\u001b[39m,\n",
      "  `Total Precip Flag` = \u001b[33mcol_logical()\u001b[39m,\n",
      "  `Snow on Grnd Flag` = \u001b[33mcol_logical()\u001b[39m,\n",
      "  `Dir of Max Gust (10s deg)` = \u001b[33mcol_logical()\u001b[39m,\n",
      "  `Dir of Max Gust Flag` = \u001b[33mcol_logical()\u001b[39m,\n",
      "  `Spd of Max Gust (km/h)` = \u001b[33mcol_logical()\u001b[39m,\n",
      "  `Spd of Max Gust Flag` = \u001b[33mcol_logical()\u001b[39m\n",
      ")\n",
      "See spec(...) for full column specifications.\n"
     ]
    },
    {
     "data": {
      "image/png": "[encoded data removed]",
      "text/plain": [
       "plot without title"
      ]
     },
     "metadata": {},
     "output_type": "display_data"
    }
   ],
   "source": [
    "whistler_2017_data <- read_csv('data/eng-daily-01012017-12312017.csv', skip = 24)\n",
    "\n",
    "colnames(whistler_2017_data) <- make.names(colnames(whistler_2017_data))\n",
    "\n",
    "options(repr.plot.width = 8, repr.plot.height = 2.5)\n",
    "\n",
    "whistler_2017_plot <- ggplot(whistler_2017_data, aes(x = Date.Time, y = Total.Snow..cm.)) + \n",
    "    geom_line() +\n",
    "    xlab('Date') +\n",
    "    ylab('Total Snow (CM)') +\n",
    "    scale_x_date(date_breaks = \"1 month\") + # labels every month\n",
    "    theme(axis.text.x = element_text(angle = 90, hjust = 1)) # rotates x axis labels to be vertical\n",
    "\n",
    "whistler_2017_plot\n",
    "\n",
    "# your code here\n",
    "# fail() # No Answer - remove if you provide an answer"
   ]
  },
  {
   "cell_type": "code",
   "execution_count": 26,
   "metadata": {
    "deletable": false,
    "editable": false,
    "nbgrader": {
     "cell_type": "code",
     "checksum": "e92734b325c9be5fbce6a5cf89156884",
     "grade": true,
     "grade_id": "cell-d8721ca22c898b0c",
     "locked": true,
     "points": 3,
     "schema_version": 3,
     "solution": false,
     "task": false
    }
   },
   "outputs": [],
   "source": [
    "# The tests were intentionally hidden so that you can practice deciding \n",
    "# when you have the correct answer."
   ]
  },
  {
   "cell_type": "markdown",
   "metadata": {
    "deletable": false,
    "editable": false,
    "nbgrader": {
     "cell_type": "markdown",
     "checksum": "a17289cba252196d4962ce31f556cb25",
     "grade": false,
     "grade_id": "cell-8f8fcf9c0b810526",
     "locked": true,
     "schema_version": 3,
     "solution": false
    }
   },
   "source": [
    "**Question 2.6**\n",
    "<br> {points: 3}\n",
    "\n",
    "Looking at the line plot above for 2017, of the months when it snowed, what months had the most fresh snow? Are these the same as in 2018 (*hint - you might want to add a code cell where you plot the two plots right after each other so you can easily compare them in one screen view*)? Is there any advantage of looking at 2 years worth of data?"
   ]
  },
  {
   "cell_type": "markdown",
   "metadata": {
    "deletable": false,
    "nbgrader": {
     "cell_type": "markdown",
     "checksum": "32633e9d0c06d2ca9e0ee22ad8ae171a",
     "grade": true,
     "grade_id": "cell-59326d3fb00de096",
     "locked": false,
     "points": 3,
     "schema_version": 3,
     "solution": true
    }
   },
   "source": [
    "The two months that received the most snow in order were November and March.\n",
    "\n",
    "These are NOT the same months that received the most snow as in 2018. Evidently, the variability of snowfall over these two years make it difficult to draw conclusions of the best months to ski/snowboard. "
   ]
  },
  {
   "cell_type": "markdown",
   "metadata": {
    "deletable": false,
    "editable": false,
    "nbgrader": {
     "cell_type": "markdown",
     "checksum": "0ddd59c56637e05a57b8896181b00638",
     "grade": false,
     "grade_id": "cell-7298c18efd74b404",
     "locked": true,
     "schema_version": 3,
     "solution": false,
     "task": false
    }
   },
   "source": [
    "## 3. Reading from a Database\n",
    "\n",
    "In `worksheet_02`, you'll recall that we opened a database stored in a `.db` file. This involved a lot more effort than just opening a `.csv`, `.tsv`, or any of the other plaintext / Excel formats. To be honest, it was a bit of a pain to use a database in that setting, since we had to use `dbplyr` to translate tidyverse-like commands (`filter`, `select`, `head`, etc) into SQL commands that the database understands. We didn't run into this problem in the worksheet, but *not all* tidyverse commands can currently be translated with SQLite databases. For example, with an SQLite database, we can compute a mean, but can't easily compute a median.\n",
    "\n",
    "**Why should we bother with databases at all then?**\n",
    "\n",
    "Databases become really useful in a large-scale setting:\n",
    "\n",
    "- they enable storing large datasets across multiple computers with automatic redundancy and backups\n",
    "- they enable multiple users to access them simultaneously and remotely without conflicts and errors \n",
    "- they provide mechanisms for ensuring data integrity and validating input\n",
    "- they provide security to keep data safe\n",
    "\n",
    "For example: there are around [4 billion](https://www.internetlivestats.com/google-search-statistics/) Google searches conducted daily as of 2019. Can you imagine if Google stored all of the data from those queries in a single `.csv` file!? Chaos would ensue. \n",
    "\n",
    "To reap the real benefits of databases, we'll need to move to a more fully-powered one: [PostgreSQL](https://www.postgresql.org/). We'll begin by loading the `DBI` and `dbplyr` packages that R uses to talk to databases, as well as the `RPostgres` package that provides the interface between these packages and PostgreSQL databases (note the similarity to the `RSQLite` package from `worksheet_02`).\n"
   ]
  },
  {
   "cell_type": "code",
   "execution_count": 27,
   "metadata": {
    "deletable": false,
    "editable": false,
    "nbgrader": {
     "cell_type": "code",
     "checksum": "0ac93d8cc1bbdbd805412ab8de1f6b69",
     "grade": false,
     "grade_id": "cell-dcac0592a4863874",
     "locked": true,
     "schema_version": 3,
     "solution": false,
     "task": false
    }
   },
   "outputs": [
    {
     "name": "stderr",
     "output_type": "stream",
     "text": [
      "\n",
      "Attaching package: ‘dbplyr’\n",
      "\n",
      "The following objects are masked from ‘package:dplyr’:\n",
      "\n",
      "    ident, sql\n",
      "\n",
      "\n",
      "Attaching package: ‘lubridate’\n",
      "\n",
      "The following object is masked from ‘package:base’:\n",
      "\n",
      "    date\n",
      "\n"
     ]
    }
   ],
   "source": [
    "#run this to load the libraries we need\n",
    "library(dbplyr)\n",
    "library(DBI)\n",
    "library(RPostgres)\n",
    "library(lubridate) #we'll also need the lubridate library to convert different date/time formats\n"
   ]
  },
  {
   "cell_type": "markdown",
   "metadata": {
    "deletable": false,
    "editable": false,
    "nbgrader": {
     "cell_type": "markdown",
     "checksum": "c19340c59e9be57cc989a6912ac32eb5",
     "grade": false,
     "grade_id": "cell-76ec1abec0ab4266",
     "locked": true,
     "schema_version": 3,
     "solution": false,
     "task": false
    }
   },
   "source": [
    "### Investigating Trends in Crowdfunding\n",
    "\n",
    "[Kickstarter](www.kickstarter.com) is an online crowd-funding site where people can post projects they want to do, but don't have the financial resources needed to complete them by themselves. Others can *pledge* money to the project, and the pledges are fulfilled if the funding reaches a *goal* amount. It's been around for a few years now; in this section, we'll investigate how the amount of funding successful projects get has changed over time.\n",
    "\n",
    "**Question 3.0**\n",
    "<br>{points: 2}\n",
    "\n",
    "Databases are often stored *remotely* (i.e., not on your computer or on this JupyterHub). Your first task is to load the Kickstarter data from a PostgreSQL database stored remotely on the UBC statistics network.\n",
    "\n",
    "\n",
    "URL: `r7k3-mds1.stat.ubc.ca`\n",
    "\n",
    "Username: `dsci100`\n",
    "\n",
    "Password: `dsci100`\n",
    "\n",
    "Database Name: `kickstarter`\n",
    "\n",
    "Table Name: `projects`\n",
    "\n",
    "We've provided the code to do this below. Replace each `...` with one of the 5 above items. \n",
    "\n",
    "*Note 1: Due to the UBC firewall, to get this to work you'll need to be connected to the UBC network or use the UBC VPN.*\n",
    "\n",
    "*Note 2: As this database will be used by the entire class, you will only have read access (no write permissions).*\n",
    "\n",
    "*Assign the resulting database connection object to* `connection` *and the project table data to* `project_data`."
   ]
  },
  {
   "cell_type": "code",
   "execution_count": 28,
   "metadata": {
    "deletable": false,
    "nbgrader": {
     "cell_type": "code",
     "checksum": "cd8624f8c1fec439b12fc5dc19245b6f",
     "grade": false,
     "grade_id": "cell-3e77056f0b0ee8f6",
     "locked": false,
     "schema_version": 3,
     "solution": true,
     "task": false
    }
   },
   "outputs": [],
   "source": [
    "connection <- dbConnect(RPostgres::Postgres(), dbname = 'kickstarter',\n",
    "                host = 'r7k3-mds1.stat.ubc.ca', port = 5432,\n",
    "                user = 'dsci100', password = 'dsci100')\n",
    "project_data <- tbl(connection, 'projects')\n",
    "\n",
    "\n",
    "# your code here\n",
    "# fail() # No Answer - remove if you provide an answer"
   ]
  },
  {
   "cell_type": "code",
   "execution_count": 29,
   "metadata": {
    "deletable": false,
    "editable": false,
    "nbgrader": {
     "cell_type": "code",
     "checksum": "a558f4fa00544c697a95e98bd38b20d7",
     "grade": true,
     "grade_id": "cell-43c8f02a1912363c",
     "locked": true,
     "points": 2,
     "schema_version": 3,
     "solution": false,
     "task": false
    }
   },
   "outputs": [
    {
     "name": "stdout",
     "output_type": "stream",
     "text": [
      "[1] \"Success!\"\n"
     ]
    }
   ],
   "source": [
    "test_3.0()"
   ]
  },
  {
   "cell_type": "markdown",
   "metadata": {
    "deletable": false,
    "editable": false,
    "nbgrader": {
     "cell_type": "markdown",
     "checksum": "8fe72eee4fb5a0aa17aec291e5ddc115",
     "grade": false,
     "grade_id": "cell-c5ed50cf12263f47",
     "locked": true,
     "schema_version": 3,
     "solution": false,
     "task": false
    }
   },
   "source": [
    "We can now use the `colnames` function to see what columns are available in the `project_data` table."
   ]
  },
  {
   "cell_type": "code",
   "execution_count": 30,
   "metadata": {},
   "outputs": [
    {
     "data": {
      "text/html": [
       "<ol class=list-inline>\n",
       "\t<li>'id'</li>\n",
       "\t<li>'state'</li>\n",
       "\t<li>'url_project'</li>\n",
       "\t<li>'url_project_short'</li>\n",
       "\t<li>'name'</li>\n",
       "\t<li>'country'</li>\n",
       "\t<li>'creator_id'</li>\n",
       "\t<li>'location_id'</li>\n",
       "\t<li>'category_id'</li>\n",
       "\t<li>'created_at'</li>\n",
       "\t<li>'deadline'</li>\n",
       "\t<li>'launched_at'</li>\n",
       "\t<li>'goal'</li>\n",
       "\t<li>'pledged'</li>\n",
       "\t<li>'currency'</li>\n",
       "\t<li>'currency_symbol'</li>\n",
       "\t<li>'usd_pledged'</li>\n",
       "\t<li>'static_usd_rate'</li>\n",
       "\t<li>'backers_count'</li>\n",
       "\t<li>'comments_count'</li>\n",
       "\t<li>'updates_count'</li>\n",
       "\t<li>'spotlight'</li>\n",
       "\t<li>'staff_pick'</li>\n",
       "\t<li>'blurb'</li>\n",
       "\t<li>'currency_trailing_code'</li>\n",
       "\t<li>'disable_communication'</li>\n",
       "\t<li>'photo_url'</li>\n",
       "\t<li>'profile_blurb'</li>\n",
       "\t<li>'profile_id'</li>\n",
       "\t<li>'profile_name'</li>\n",
       "\t<li>'profile_project_id'</li>\n",
       "\t<li>'profile_state'</li>\n",
       "\t<li>'slug'</li>\n",
       "\t<li>'url_rewards'</li>\n",
       "\t<li>'url_updates'</li>\n",
       "\t<li>'video_id'</li>\n",
       "\t<li>'video_url_high'</li>\n",
       "\t<li>'video_url_webm'</li>\n",
       "\t<li>'video_height'</li>\n",
       "\t<li>'video_width'</li>\n",
       "\t<li>'video_status'</li>\n",
       "\t<li>'file_name'</li>\n",
       "\t<li>'last_modification'</li>\n",
       "\t<li>'deleted_comments'</li>\n",
       "</ol>\n"
      ],
      "text/latex": [
       "\\begin{enumerate*}\n",
       "\\item 'id'\n",
       "\\item 'state'\n",
       "\\item 'url\\_project'\n",
       "\\item 'url\\_project\\_short'\n",
       "\\item 'name'\n",
       "\\item 'country'\n",
       "\\item 'creator\\_id'\n",
       "\\item 'location\\_id'\n",
       "\\item 'category\\_id'\n",
       "\\item 'created\\_at'\n",
       "\\item 'deadline'\n",
       "\\item 'launched\\_at'\n",
       "\\item 'goal'\n",
       "\\item 'pledged'\n",
       "\\item 'currency'\n",
       "\\item 'currency\\_symbol'\n",
       "\\item 'usd\\_pledged'\n",
       "\\item 'static\\_usd\\_rate'\n",
       "\\item 'backers\\_count'\n",
       "\\item 'comments\\_count'\n",
       "\\item 'updates\\_count'\n",
       "\\item 'spotlight'\n",
       "\\item 'staff\\_pick'\n",
       "\\item 'blurb'\n",
       "\\item 'currency\\_trailing\\_code'\n",
       "\\item 'disable\\_communication'\n",
       "\\item 'photo\\_url'\n",
       "\\item 'profile\\_blurb'\n",
       "\\item 'profile\\_id'\n",
       "\\item 'profile\\_name'\n",
       "\\item 'profile\\_project\\_id'\n",
       "\\item 'profile\\_state'\n",
       "\\item 'slug'\n",
       "\\item 'url\\_rewards'\n",
       "\\item 'url\\_updates'\n",
       "\\item 'video\\_id'\n",
       "\\item 'video\\_url\\_high'\n",
       "\\item 'video\\_url\\_webm'\n",
       "\\item 'video\\_height'\n",
       "\\item 'video\\_width'\n",
       "\\item 'video\\_status'\n",
       "\\item 'file\\_name'\n",
       "\\item 'last\\_modification'\n",
       "\\item 'deleted\\_comments'\n",
       "\\end{enumerate*}\n"
      ],
      "text/markdown": [
       "1. 'id'\n",
       "2. 'state'\n",
       "3. 'url_project'\n",
       "4. 'url_project_short'\n",
       "5. 'name'\n",
       "6. 'country'\n",
       "7. 'creator_id'\n",
       "8. 'location_id'\n",
       "9. 'category_id'\n",
       "10. 'created_at'\n",
       "11. 'deadline'\n",
       "12. 'launched_at'\n",
       "13. 'goal'\n",
       "14. 'pledged'\n",
       "15. 'currency'\n",
       "16. 'currency_symbol'\n",
       "17. 'usd_pledged'\n",
       "18. 'static_usd_rate'\n",
       "19. 'backers_count'\n",
       "20. 'comments_count'\n",
       "21. 'updates_count'\n",
       "22. 'spotlight'\n",
       "23. 'staff_pick'\n",
       "24. 'blurb'\n",
       "25. 'currency_trailing_code'\n",
       "26. 'disable_communication'\n",
       "27. 'photo_url'\n",
       "28. 'profile_blurb'\n",
       "29. 'profile_id'\n",
       "30. 'profile_name'\n",
       "31. 'profile_project_id'\n",
       "32. 'profile_state'\n",
       "33. 'slug'\n",
       "34. 'url_rewards'\n",
       "35. 'url_updates'\n",
       "36. 'video_id'\n",
       "37. 'video_url_high'\n",
       "38. 'video_url_webm'\n",
       "39. 'video_height'\n",
       "40. 'video_width'\n",
       "41. 'video_status'\n",
       "42. 'file_name'\n",
       "43. 'last_modification'\n",
       "44. 'deleted_comments'\n",
       "\n",
       "\n"
      ],
      "text/plain": [
       " [1] \"id\"                     \"state\"                  \"url_project\"           \n",
       " [4] \"url_project_short\"      \"name\"                   \"country\"               \n",
       " [7] \"creator_id\"             \"location_id\"            \"category_id\"           \n",
       "[10] \"created_at\"             \"deadline\"               \"launched_at\"           \n",
       "[13] \"goal\"                   \"pledged\"                \"currency\"              \n",
       "[16] \"currency_symbol\"        \"usd_pledged\"            \"static_usd_rate\"       \n",
       "[19] \"backers_count\"          \"comments_count\"         \"updates_count\"         \n",
       "[22] \"spotlight\"              \"staff_pick\"             \"blurb\"                 \n",
       "[25] \"currency_trailing_code\" \"disable_communication\"  \"photo_url\"             \n",
       "[28] \"profile_blurb\"          \"profile_id\"             \"profile_name\"          \n",
       "[31] \"profile_project_id\"     \"profile_state\"          \"slug\"                  \n",
       "[34] \"url_rewards\"            \"url_updates\"            \"video_id\"              \n",
       "[37] \"video_url_high\"         \"video_url_webm\"         \"video_height\"          \n",
       "[40] \"video_width\"            \"video_status\"           \"file_name\"             \n",
       "[43] \"last_modification\"      \"deleted_comments\"      "
      ]
     },
     "metadata": {},
     "output_type": "display_data"
    }
   ],
   "source": [
    "colnames(project_data)"
   ]
  },
  {
   "cell_type": "markdown",
   "metadata": {
    "deletable": false,
    "editable": false,
    "nbgrader": {
     "cell_type": "markdown",
     "checksum": "6e8142604fadfb5434d2b08dec24009c",
     "grade": false,
     "grade_id": "cell-f87359c9820b0244",
     "locked": true,
     "schema_version": 3,
     "solution": false,
     "task": false
    }
   },
   "source": [
    "**Question 3.1**\n",
    "<br> {points: 1}\n",
    "\n",
    "If we want to plot compare pledged and goal amounts of funding over time for successful projects, which three columns should we `select` from the table?\n",
    "\n",
    "A. `id`, `slug`, `pledged`\n",
    "\n",
    "B. `pledged`, `goal`, `deadline`\n",
    "\n",
    "C. `pledged`, `usd_pledged`, `location_id`\n",
    "\n",
    "D. `currency`, `state`, `country`\n",
    "\n",
    "*Assign your answer to a variable named* `answer3.1`. *For example,* `answer3.1 <- 'F'`."
   ]
  },
  {
   "cell_type": "code",
   "execution_count": 32,
   "metadata": {
    "deletable": false,
    "nbgrader": {
     "cell_type": "code",
     "checksum": "b5aa4809abc6c8a315a125e39f16af7d",
     "grade": false,
     "grade_id": "cell-9eb0609ab7bd4c24",
     "locked": false,
     "schema_version": 3,
     "solution": true,
     "task": false
    }
   },
   "outputs": [],
   "source": [
    "# your code here\n",
    "answer3.1 <- 'B'"
   ]
  },
  {
   "cell_type": "code",
   "execution_count": 33,
   "metadata": {
    "deletable": false,
    "editable": false,
    "nbgrader": {
     "cell_type": "code",
     "checksum": "3f2d00efd44b31677c7435464503fe8f",
     "grade": true,
     "grade_id": "cell-c984d14fba25881a",
     "locked": true,
     "points": 1,
     "schema_version": 3,
     "solution": false,
     "task": false
    }
   },
   "outputs": [
    {
     "name": "stdout",
     "output_type": "stream",
     "text": [
      "[1] \"Success!\"\n"
     ]
    }
   ],
   "source": [
    "test_3.1()"
   ]
  },
  {
   "cell_type": "markdown",
   "metadata": {
    "deletable": false,
    "editable": false,
    "nbgrader": {
     "cell_type": "markdown",
     "checksum": "7c0dcd807634b1a86998aa883eb1a9dc",
     "grade": false,
     "grade_id": "cell-ffe5e8d830e11e01",
     "locked": true,
     "schema_version": 3,
     "solution": false,
     "task": false
    }
   },
   "source": [
    "**Question 3.2**\n",
    "<br> {points: 3}\n",
    "\n",
    "Now we'll visualize the data. In order to do this, we need to take the correct subset of data from the table and use `ggplot` to plot the result. Note that we make the scatter plot slightly transparent (using `alpha = 0.01` in the code below) because there is so much data that it would otherwise be hard to see anything (*overplotting*).\n",
    "\n",
    "In the below cell, you'll see some lines of code (currently commented out with `#` characters). Remove the comments and rearrange these lines of code to plot the ratio of pledged and goal funding as a function of project deadline date for all successful (where pledged funding is greater than goal funding) projects in the dataset.\n",
    "\n",
    "*Note: there is a lot of data to plot here, so give it a moment to display!*\n",
    "\n",
    "*Hint: you'll want to put all the dataframe manipulation functions first, and then the plotting functions afterward. Also note that some lines have a `+` at the end, meaning they're in the middle of the plotting code!*\n"
   ]
  },
  {
   "cell_type": "code",
   "execution_count": 34,
   "metadata": {
    "deletable": false,
    "nbgrader": {
     "cell_type": "code",
     "checksum": "7281cb10f5254502cb428fb6890aac9f",
     "grade": false,
     "grade_id": "cell-9ec0312afc478428",
     "locked": false,
     "schema_version": 3,
     "solution": true,
     "task": false
    }
   },
   "outputs": [
    {
     "data": {
      "image/png": "[encoded data removed]",
      "text/plain": [
       "plot without title"
      ]
     },
     "metadata": {},
     "output_type": "display_data"
    }
   ],
   "source": [
    "prj <- select(project_data, c('deadline', 'pledged', 'goal'))\n",
    "prj <- filter(prj, pledged > goal)\n",
    "\n",
    "funding_over_time_plot <- ggplot(prj, aes(x=as_datetime(deadline), y=pledged/goal))+\n",
    "    theme(panel.grid.major = element_blank(), panel.grid.minor = element_blank())+\n",
    "    scale_y_continuous(trans='log10', breaks=c(1,10,100,1000))+\n",
    "    geom_point(alpha=0.01)+\n",
    "    xlab('Date')+\n",
    "    ylab('Pledged Funding / Goal Funding')\n",
    "\n",
    "funding_over_time_plot\n",
    "\n",
    "\n",
    "# your code here\n",
    "# fail() # No Answer - remove if you provide an answer"
   ]
  },
  {
   "cell_type": "code",
   "execution_count": 35,
   "metadata": {
    "deletable": false,
    "editable": false,
    "nbgrader": {
     "cell_type": "code",
     "checksum": "016ee76b87686c873c87a62ab7a5d317",
     "grade": true,
     "grade_id": "cell-52e8a2b1e3010e05",
     "locked": true,
     "points": 3,
     "schema_version": 3,
     "solution": false,
     "task": false
    }
   },
   "outputs": [
    {
     "name": "stdout",
     "output_type": "stream",
     "text": [
      "[1] \"Success!\"\n"
     ]
    }
   ],
   "source": [
    "test_3.2()"
   ]
  },
  {
   "cell_type": "markdown",
   "metadata": {
    "deletable": false,
    "editable": false,
    "nbgrader": {
     "cell_type": "markdown",
     "checksum": "ace857914f5c067b366d48edfa8aaf04",
     "grade": false,
     "grade_id": "cell-6924d6750738281e",
     "locked": true,
     "schema_version": 3,
     "solution": false,
     "task": false
    }
   },
   "source": [
    "**Question 3.3**\n",
    "<br> {points: 3}\n",
    "\n",
    "Describe the relationship (if any) between the ratio of pledged/goal funding and time, as well as any patterns in the data that you might not have expected in advance.\n"
   ]
  },
  {
   "cell_type": "markdown",
   "metadata": {
    "deletable": false,
    "nbgrader": {
     "cell_type": "markdown",
     "checksum": "f8a415075c26b9ec7d44b647d57d9087",
     "grade": true,
     "grade_id": "cell-7e7c080ca369e735",
     "locked": false,
     "points": 3,
     "schema_version": 3,
     "solution": true,
     "task": false
    }
   },
   "source": [
    "From the ratio of pledged/goal funding over time plot, the number of kickstarters that exceed fundraising goals have increased over time. In 2010, there were few campaigns that exceeded their goal. This number has consistently increased over time (as seen by the increasing area of the dark shaded portion of the graph). In addition, the magnitude in which campaigns exceed their fundraising goals has increased."
   ]
  },
  {
   "cell_type": "markdown",
   "metadata": {
    "deletable": false,
    "editable": false,
    "nbgrader": {
     "cell_type": "markdown",
     "checksum": "defeb7dec006b35555bd303566762cf3",
     "grade": false,
     "grade_id": "cell-b4092fe897ccd0f2",
     "locked": true,
     "schema_version": 3,
     "solution": false,
     "task": false
    }
   },
   "source": [
    "**Question 3.4**\n",
    "<br> {points: 1}\n",
    "\n",
    "Finally, we'll save the project data to a local file in the `data/` folder called `project_data.csv`. Recall that we don't want to try to download and save the *entire dataset* (way too much data!) from the database, but only the `tbl` object named `prj`. So you will need to use the `collect` function followed by the appropriate `write_*` function.\n",
    "\n",
    "*Assign the output of collect to an object called `project_df`*"
   ]
  },
  {
   "cell_type": "code",
   "execution_count": 40,
   "metadata": {
    "deletable": false,
    "nbgrader": {
     "cell_type": "code",
     "checksum": "1625b7b4b77ad629af04b19f8a4f88f3",
     "grade": false,
     "grade_id": "cell-d9df612336bc209a",
     "locked": false,
     "schema_version": 3,
     "solution": true,
     "task": false
    }
   },
   "outputs": [],
   "source": [
    "# your code here\n",
    "project_df <- collect(prj)\n",
    "write_csv(project_df, 'data/project_data.csv')"
   ]
  },
  {
   "cell_type": "code",
   "execution_count": 41,
   "metadata": {},
   "outputs": [
    {
     "name": "stdout",
     "output_type": "stream",
     "text": [
      "[1] \"Success!\"\n"
     ]
    }
   ],
   "source": [
    "test_3.4()"
   ]
  },
  {
   "cell_type": "markdown",
   "metadata": {
    "deletable": false,
    "editable": false,
    "nbgrader": {
     "cell_type": "markdown",
     "checksum": "9cb79764bc5db1ff6596e29fdd99741f",
     "grade": false,
     "grade_id": "cell-c3a172ed85763db9",
     "locked": true,
     "schema_version": 3,
     "solution": false
    }
   },
   "source": [
    "## 4 (Optional). Reading Data from the Internet\n",
    "\n",
    "**Question 4.0**\n",
    "\n",
    "More practice scraping! To keep ourselves out of legal hot water, we will get more practice scraping data using a website that was created for that purpose: http://books.toscrape.com/\n",
    "\n",
    "Your task here is to scrape the prices of the science fiction novels on [this page](http://books.toscrape.com/catalogue/category/books/science-fiction_16/index.html) and determine the maximum, minimum and average price of science fiction novels at this bookstore. Tidy up and nicely present your results by creating a data frame called `sci_fi_stats` that has 2 columns, one called `stats` that contains the words `max`, `min` and `mean` and once called `value` that contains the calculated value for each of these.\n",
    "\n",
    "The functions for maximum, minimum and average in R are listed in the table below:\n",
    "\n",
    "| Calculation to perform | Function in R |\n",
    "| ---------------------- | ------------- |\n",
    "| maximum                | `max`         |\n",
    "| minimum                | `min`         |\n",
    "| average                | `mean`        |\n",
    "\n",
    "Some other helpful hints:\n",
    "- If you end up scraping some characters other than numbers you will have to use `str_replace_all` from the `stringr` library to remove them (similar to what we did with the commas in worksheet_02).\n",
    "- Use `as.numeric` to convert your character type numbers to numeric type numbers before you pass them into the `max`, `min` and `mean` functions.\n",
    "- If you have `NA` values in your objects that you need to pass into the `max`, `min` and `mean` functions, you will need to set the `na.rm` argument in these functions to `TRUE`.\n",
    "- use the function `c` to create the vectors that will go in your data frame, for example, to create a vector with the values 10, 16 and 13 named ages, we would type: `ages <- c(10, 16, 13)`.\n",
    "- use the function `tibble` to create the data frame from your vectors."
   ]
  },
  {
   "cell_type": "code",
   "execution_count": null,
   "metadata": {
    "deletable": false,
    "nbgrader": {
     "cell_type": "code",
     "checksum": "352e7a1c221b99197217287743423b4a",
     "grade": true,
     "grade_id": "cell-cdd2ec3a736e9ec0",
     "locked": false,
     "points": 0,
     "schema_version": 3,
     "solution": true
    }
   },
   "outputs": [],
   "source": [
    "# your code here\n",
    "fail() # No Answer - remove if you provide an answer\n",
    "sci_fi_stats"
   ]
  },
  {
   "cell_type": "markdown",
   "metadata": {
    "deletable": false,
    "editable": false,
    "nbgrader": {
     "cell_type": "markdown",
     "checksum": "92dd1afca57847eabf563d1f268e562a",
     "grade": false,
     "grade_id": "cell-13d529c24ab24f75",
     "locked": true,
     "schema_version": 3,
     "solution": false
    }
   },
   "source": [
    "**Question 4.1**\n",
    "\n",
    "In worksheet_02 you had practice scraping data from the web. Now that you have the skills, should you go scrape that cool/interesting website you have been dreaming of harvesting data from? Maybe, but maybe not... You really should check the website's Terms of Service first and also consider the application you have planned for the data after you scrape it.\n",
    "\n",
    "List 3 websites you might be intersted in scraping data from (for fun, for profit, for research/education). List their URLs as part of your answer. For these 3 websites, search for their Terms of Service page. Tell us if such a page exists, and if it does, provide the link to it as well as tell us whether or not they allow web scraping of their website."
   ]
  },
  {
   "cell_type": "markdown",
   "metadata": {
    "deletable": false,
    "nbgrader": {
     "cell_type": "markdown",
     "checksum": "7f5786efab213c84bc59510ca9c17a72",
     "grade": true,
     "grade_id": "cell-2ac9674598efb69a",
     "locked": false,
     "points": 0,
     "schema_version": 3,
     "solution": true
    }
   },
   "source": [
    "DOUBLE CLICK TO EDIT **THIS CELL** AND REPLACE THIS TEXT WITH YOUR ANSWER."
   ]
  },
  {
   "cell_type": "markdown",
   "metadata": {},
   "source": [
    "### Bonus/optional additional readings on legalities of web scraping:\n",
    "\n",
    "Here are two news stories about web scraping and their legal implications this year:\n",
    "\n",
    "- [D.C. Court: Accessing Public Information is Not a Computer Crime](https://www.eff.org/deeplinks/2018/04/dc-court-accessing-public-information-not-computer-crime)\n",
    "\n",
    "- [Dear Canada: Accessing Publicly Available Information on the Internet Is Not a Crime](https://www.eff.org/deeplinks/2018/04/dear-canada-accessing-publicly-available-information-internet-not-crime)"
   ]
  }
 ],
 "metadata": {
  "kernelspec": {
   "display_name": "R",
   "language": "R",
   "name": "ir"
  },
  "language_info": {
   "codemirror_mode": "r",
   "file_extension": ".r",
   "mimetype": "text/x-r-source",
   "name": "R",
   "pygments_lexer": "r",
   "version": "3.6.1"
  }
 },
 "nbformat": 4,
 "nbformat_minor": 2
}
