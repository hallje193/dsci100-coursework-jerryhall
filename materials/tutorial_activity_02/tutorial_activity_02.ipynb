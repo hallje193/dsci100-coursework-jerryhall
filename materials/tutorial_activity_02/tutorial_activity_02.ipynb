{
 "cells": [
  {
   "cell_type": "markdown",
   "metadata": {
    "deletable": false,
    "editable": false,
    "nbgrader": {
     "cell_type": "markdown",
     "checksum": "4ed9aa8cacfca551a8f5be3f846377d0",
     "grade": false,
     "grade_id": "cell-828c8d5940e2ca04",
     "locked": true,
     "schema_version": 3,
     "solution": false,
     "task": false
    },
    "slideshow": {
     "slide_type": "slide"
    }
   },
   "source": [
    "# DSCI 100: Introduction to Data Science\n",
    "\n",
    "## Tutorial 2 - Getting data into R: Class activity"
   ]
  },
  {
   "cell_type": "markdown",
   "metadata": {
    "deletable": false,
    "editable": false,
    "nbgrader": {
     "cell_type": "markdown",
     "checksum": "a3680078bb6e25166b9597007457377c",
     "grade": false,
     "grade_id": "cell-25395b04a6bbbdc0",
     "locked": true,
     "schema_version": 3,
     "solution": false,
     "task": false
    },
    "slideshow": {
     "slide_type": "fragment"
    }
   },
   "source": [
    "Run this cell to load the required packages, connect to the `kickstarter` database, and create a reference to the `projects` table inside the database. **Read the comments in the next cell carefully.**"
   ]
  },
  {
   "cell_type": "code",
   "execution_count": 2,
   "metadata": {},
   "outputs": [
    {
     "name": "stderr",
     "output_type": "stream",
     "text": [
      "── \u001b[1mAttaching packages\u001b[22m ─────────────────────────────────────── tidyverse 1.2.1 ──\n",
      "\u001b[32m✔\u001b[39m \u001b[34mggplot2\u001b[39m 3.2.0     \u001b[32m✔\u001b[39m \u001b[34mpurrr  \u001b[39m 0.3.2\n",
      "\u001b[32m✔\u001b[39m \u001b[34mtibble \u001b[39m 2.1.3     \u001b[32m✔\u001b[39m \u001b[34mdplyr  \u001b[39m 0.8.3\n",
      "\u001b[32m✔\u001b[39m \u001b[34mtidyr  \u001b[39m 0.8.3     \u001b[32m✔\u001b[39m \u001b[34mstringr\u001b[39m 1.4.0\n",
      "\u001b[32m✔\u001b[39m \u001b[34mreadr  \u001b[39m 1.3.1     \u001b[32m✔\u001b[39m \u001b[34mforcats\u001b[39m 0.4.0\n",
      "── \u001b[1mConflicts\u001b[22m ────────────────────────────────────────── tidyverse_conflicts() ──\n",
      "\u001b[31m✖\u001b[39m \u001b[34mdplyr\u001b[39m::\u001b[32mfilter()\u001b[39m masks \u001b[34mstats\u001b[39m::filter()\n",
      "\u001b[31m✖\u001b[39m \u001b[34mdplyr\u001b[39m::\u001b[32mlag()\u001b[39m    masks \u001b[34mstats\u001b[39m::lag()\n",
      "\n",
      "Attaching package: ‘dbplyr’\n",
      "\n",
      "The following objects are masked from ‘package:dplyr’:\n",
      "\n",
      "    ident, sql\n",
      "\n"
     ]
    }
   ],
   "source": [
    "library(tidyverse)\n",
    "library(dbplyr)\n",
    "library(DBI)\n",
    "source(\"setup.R\")\n",
    "\n",
    "# Here we call a function we created that initiates a \n",
    "# connection to the kickstarter database for you.\n",
    "# This was ONLY done to simplify the activity.\n",
    "connection <- setup()\n",
    "\n",
    "# Now we get a reference the \"projects\" table from the\n",
    "# database using tbl() and give it the name projects.\n",
    "projects <- tbl(connection, \"projects\")"
   ]
  },
  {
   "cell_type": "markdown",
   "metadata": {
    "deletable": false,
    "editable": false,
    "nbgrader": {
     "cell_type": "markdown",
     "checksum": "0f763b1dc018378083897f3523fe41be",
     "grade": false,
     "grade_id": "cell-c5882b60ad32f84f",
     "locked": true,
     "schema_version": 3,
     "solution": false,
     "task": false
    },
    "slideshow": {
     "slide_type": "fragment"
    }
   },
   "source": [
    "Use the `projects` table from the `kickstarter` database to answer the following question: what is the project URL of the project from Great Britain (`GB`) with the greatest total amount pledged.\n",
    "\n",
    "There are many approaches to solving this question. The two code cells below each contain the lines of code for one approach each. **For each cell, uncomment the code and rearrange the lines to answer the question.**"
   ]
  },
  {
   "cell_type": "code",
   "execution_count": 3,
   "metadata": {
    "deletable": false,
    "nbgrader": {
     "cell_type": "code",
     "checksum": "da63a0cca6245fd75fb46f1666d7198a",
     "grade": true,
     "grade_id": "cell-250a87911c67753b",
     "locked": false,
     "points": 0,
     "schema_version": 3,
     "solution": true,
     "task": false
    }
   },
   "outputs": [
    {
     "data": {
      "text/html": [
       "<table>\n",
       "<caption>A tibble: 6 × 3</caption>\n",
       "<thead>\n",
       "\t<tr><th scope=col>url_project</th><th scope=col>country</th><th scope=col>pledged</th></tr>\n",
       "\t<tr><th scope=col>&lt;chr&gt;</th><th scope=col>&lt;chr&gt;</th><th scope=col>&lt;dbl&gt;</th></tr>\n",
       "</thead>\n",
       "<tbody>\n",
       "\t<tr><td>https://www.kickstarter.com/projects/awakenrealms/lords-of-hellas                            </td><td>GB</td><td>1717793</td></tr>\n",
       "\t<tr><td>https://www.kickstarter.com/projects/playtonic/yooka-laylee-a-3d-platformer-rare-vival       </td><td>GB</td><td>2090104</td></tr>\n",
       "\t<tr><td>https://www.kickstarter.com/projects/torquing/zano-autonomous-intelligent-swarming-nano-drone</td><td>GB</td><td>2335120</td></tr>\n",
       "\t<tr><td>https://www.kickstarter.com/projects/awakenrealms/nemesis-board-game                         </td><td>GB</td><td>3080834</td></tr>\n",
       "\t<tr><td>https://www.kickstarter.com/projects/steamforged/dark-soulstm-the-board-game                 </td><td>GB</td><td>3771475</td></tr>\n",
       "\t<tr><td>https://www.kickstarter.com/projects/awakenrealms/tainted-grail-the-fall-of-avalon           </td><td>GB</td><td>4940031</td></tr>\n",
       "</tbody>\n",
       "</table>\n"
      ],
      "text/latex": [
       "A tibble: 6 × 3\n",
       "\\begin{tabular}{r|lll}\n",
       " url\\_project & country & pledged\\\\\n",
       " <chr> & <chr> & <dbl>\\\\\n",
       "\\hline\n",
       "\t https://www.kickstarter.com/projects/awakenrealms/lords-of-hellas                             & GB & 1717793\\\\\n",
       "\t https://www.kickstarter.com/projects/playtonic/yooka-laylee-a-3d-platformer-rare-vival        & GB & 2090104\\\\\n",
       "\t https://www.kickstarter.com/projects/torquing/zano-autonomous-intelligent-swarming-nano-drone & GB & 2335120\\\\\n",
       "\t https://www.kickstarter.com/projects/awakenrealms/nemesis-board-game                          & GB & 3080834\\\\\n",
       "\t https://www.kickstarter.com/projects/steamforged/dark-soulstm-the-board-game                  & GB & 3771475\\\\\n",
       "\t https://www.kickstarter.com/projects/awakenrealms/tainted-grail-the-fall-of-avalon            & GB & 4940031\\\\\n",
       "\\end{tabular}\n"
      ],
      "text/markdown": [
       "\n",
       "A tibble: 6 × 3\n",
       "\n",
       "| url_project &lt;chr&gt; | country &lt;chr&gt; | pledged &lt;dbl&gt; |\n",
       "|---|---|---|\n",
       "| https://www.kickstarter.com/projects/awakenrealms/lords-of-hellas                             | GB | 1717793 |\n",
       "| https://www.kickstarter.com/projects/playtonic/yooka-laylee-a-3d-platformer-rare-vival        | GB | 2090104 |\n",
       "| https://www.kickstarter.com/projects/torquing/zano-autonomous-intelligent-swarming-nano-drone | GB | 2335120 |\n",
       "| https://www.kickstarter.com/projects/awakenrealms/nemesis-board-game                          | GB | 3080834 |\n",
       "| https://www.kickstarter.com/projects/steamforged/dark-soulstm-the-board-game                  | GB | 3771475 |\n",
       "| https://www.kickstarter.com/projects/awakenrealms/tainted-grail-the-fall-of-avalon            | GB | 4940031 |\n",
       "\n"
      ],
      "text/plain": [
       "  url_project                                                                                  \n",
       "1 https://www.kickstarter.com/projects/awakenrealms/lords-of-hellas                            \n",
       "2 https://www.kickstarter.com/projects/playtonic/yooka-laylee-a-3d-platformer-rare-vival       \n",
       "3 https://www.kickstarter.com/projects/torquing/zano-autonomous-intelligent-swarming-nano-drone\n",
       "4 https://www.kickstarter.com/projects/awakenrealms/nemesis-board-game                         \n",
       "5 https://www.kickstarter.com/projects/steamforged/dark-soulstm-the-board-game                 \n",
       "6 https://www.kickstarter.com/projects/awakenrealms/tainted-grail-the-fall-of-avalon           \n",
       "  country pledged\n",
       "1 GB      1717793\n",
       "2 GB      2090104\n",
       "3 GB      2335120\n",
       "4 GB      3080834\n",
       "5 GB      3771475\n",
       "6 GB      4940031"
      ]
     },
     "metadata": {},
     "output_type": "display_data"
    },
    {
     "data": {
      "text/html": [
       "<strong>elapsed:</strong> 2.58199999999999"
      ],
      "text/latex": [
       "\\textbf{elapsed:} 2.58199999999999"
      ],
      "text/markdown": [
       "**elapsed:** 2.58199999999999"
      ],
      "text/plain": [
       "elapsed \n",
       "  2.582 "
      ]
     },
     "metadata": {},
     "output_type": "display_data"
    }
   ],
   "source": [
    "# Start a timer.\n",
    "ptm <- proc.time()\n",
    "\n",
    "projects_selected <- select(projects, url_project, country, pledged)\n",
    "projects_filtered <- filter(projects_selected, country == \"GB\")\n",
    "projects_sorted <- arrange(projects_filtered, pledged)\n",
    "projects_collected <- collect(projects_sorted)\n",
    "tail(projects_collected)\n",
    "\n",
    "# your code here\n",
    "\n",
    "\n",
    "\n",
    "# Stop the timer and print out the time it took for the code to run\n",
    "# in seconds.\n",
    "(proc.time() - ptm)[\"elapsed\"]"
   ]
  },
  {
   "cell_type": "code",
   "execution_count": 4,
   "metadata": {
    "deletable": false,
    "nbgrader": {
     "cell_type": "code",
     "checksum": "3268057eb36f0dbfadb94a80d29ddd18",
     "grade": true,
     "grade_id": "cell-44f6b0cb2f79c0c2",
     "locked": false,
     "points": 0,
     "schema_version": 3,
     "solution": true,
     "task": false
    }
   },
   "outputs": [
    {
     "data": {
      "text/html": [
       "<table>\n",
       "<caption>A tibble: 6 × 3</caption>\n",
       "<thead>\n",
       "\t<tr><th scope=col>url_project</th><th scope=col>country</th><th scope=col>pledged</th></tr>\n",
       "\t<tr><th scope=col>&lt;chr&gt;</th><th scope=col>&lt;chr&gt;</th><th scope=col>&lt;dbl&gt;</th></tr>\n",
       "</thead>\n",
       "<tbody>\n",
       "\t<tr><td>https://www.kickstarter.com/projects/awakenrealms/lords-of-hellas                            </td><td>GB</td><td>1717793</td></tr>\n",
       "\t<tr><td>https://www.kickstarter.com/projects/playtonic/yooka-laylee-a-3d-platformer-rare-vival       </td><td>GB</td><td>2090104</td></tr>\n",
       "\t<tr><td>https://www.kickstarter.com/projects/torquing/zano-autonomous-intelligent-swarming-nano-drone</td><td>GB</td><td>2335120</td></tr>\n",
       "\t<tr><td>https://www.kickstarter.com/projects/awakenrealms/nemesis-board-game                         </td><td>GB</td><td>3080834</td></tr>\n",
       "\t<tr><td>https://www.kickstarter.com/projects/steamforged/dark-soulstm-the-board-game                 </td><td>GB</td><td>3771475</td></tr>\n",
       "\t<tr><td>https://www.kickstarter.com/projects/awakenrealms/tainted-grail-the-fall-of-avalon           </td><td>GB</td><td>4940031</td></tr>\n",
       "</tbody>\n",
       "</table>\n"
      ],
      "text/latex": [
       "A tibble: 6 × 3\n",
       "\\begin{tabular}{r|lll}\n",
       " url\\_project & country & pledged\\\\\n",
       " <chr> & <chr> & <dbl>\\\\\n",
       "\\hline\n",
       "\t https://www.kickstarter.com/projects/awakenrealms/lords-of-hellas                             & GB & 1717793\\\\\n",
       "\t https://www.kickstarter.com/projects/playtonic/yooka-laylee-a-3d-platformer-rare-vival        & GB & 2090104\\\\\n",
       "\t https://www.kickstarter.com/projects/torquing/zano-autonomous-intelligent-swarming-nano-drone & GB & 2335120\\\\\n",
       "\t https://www.kickstarter.com/projects/awakenrealms/nemesis-board-game                          & GB & 3080834\\\\\n",
       "\t https://www.kickstarter.com/projects/steamforged/dark-soulstm-the-board-game                  & GB & 3771475\\\\\n",
       "\t https://www.kickstarter.com/projects/awakenrealms/tainted-grail-the-fall-of-avalon            & GB & 4940031\\\\\n",
       "\\end{tabular}\n"
      ],
      "text/markdown": [
       "\n",
       "A tibble: 6 × 3\n",
       "\n",
       "| url_project &lt;chr&gt; | country &lt;chr&gt; | pledged &lt;dbl&gt; |\n",
       "|---|---|---|\n",
       "| https://www.kickstarter.com/projects/awakenrealms/lords-of-hellas                             | GB | 1717793 |\n",
       "| https://www.kickstarter.com/projects/playtonic/yooka-laylee-a-3d-platformer-rare-vival        | GB | 2090104 |\n",
       "| https://www.kickstarter.com/projects/torquing/zano-autonomous-intelligent-swarming-nano-drone | GB | 2335120 |\n",
       "| https://www.kickstarter.com/projects/awakenrealms/nemesis-board-game                          | GB | 3080834 |\n",
       "| https://www.kickstarter.com/projects/steamforged/dark-soulstm-the-board-game                  | GB | 3771475 |\n",
       "| https://www.kickstarter.com/projects/awakenrealms/tainted-grail-the-fall-of-avalon            | GB | 4940031 |\n",
       "\n"
      ],
      "text/plain": [
       "  url_project                                                                                  \n",
       "1 https://www.kickstarter.com/projects/awakenrealms/lords-of-hellas                            \n",
       "2 https://www.kickstarter.com/projects/playtonic/yooka-laylee-a-3d-platformer-rare-vival       \n",
       "3 https://www.kickstarter.com/projects/torquing/zano-autonomous-intelligent-swarming-nano-drone\n",
       "4 https://www.kickstarter.com/projects/awakenrealms/nemesis-board-game                         \n",
       "5 https://www.kickstarter.com/projects/steamforged/dark-soulstm-the-board-game                 \n",
       "6 https://www.kickstarter.com/projects/awakenrealms/tainted-grail-the-fall-of-avalon           \n",
       "  country pledged\n",
       "1 GB      1717793\n",
       "2 GB      2090104\n",
       "3 GB      2335120\n",
       "4 GB      3080834\n",
       "5 GB      3771475\n",
       "6 GB      4940031"
      ]
     },
     "metadata": {},
     "output_type": "display_data"
    },
    {
     "data": {
      "text/html": [
       "<strong>elapsed:</strong> 38.774"
      ],
      "text/latex": [
       "\\textbf{elapsed:} 38.774"
      ],
      "text/markdown": [
       "**elapsed:** 38.774"
      ],
      "text/plain": [
       "elapsed \n",
       " 38.774 "
      ]
     },
     "metadata": {},
     "output_type": "display_data"
    }
   ],
   "source": [
    "# Start a timer.\n",
    "ptm <- proc.time()\n",
    "\n",
    "\n",
    "projects_df <- collect(projects)\n",
    "projects_df_selected <- select(projects_df, url_project, country, pledged)\n",
    "projects_df_filtered <- filter(projects_df_selected, country == \"GB\")\n",
    "projects_df_sorted <- arrange(projects_df_filtered, pledged)\n",
    "tail(projects_df_sorted)\n",
    "\n",
    "# your code here\n",
    "\n",
    "\n",
    "\n",
    "# Stop the timer and print out the time it took for the code to run\n",
    "# in seconds.\n",
    "(proc.time() - ptm)[\"elapsed\"]"
   ]
  },
  {
   "cell_type": "markdown",
   "metadata": {
    "deletable": false,
    "nbgrader": {
     "cell_type": "markdown",
     "checksum": "751a6055257a7f1a5280bde66eee3869",
     "grade": true,
     "grade_id": "cell-87d6faea61248150",
     "locked": false,
     "points": 0,
     "schema_version": 3,
     "solution": true,
     "task": false
    }
   },
   "source": [
    "##### Paste the URL of the project from Great Britain (GB) with the greatest total amount pledged in this cell.\n",
    "\n",
    "https://www.kickstarter.com/projects/awakenrealms/tainted-grail-the-fall-of-avalon\t"
   ]
  },
  {
   "cell_type": "markdown",
   "metadata": {
    "deletable": false,
    "editable": false,
    "nbgrader": {
     "cell_type": "markdown",
     "checksum": "72a13fc908ad92ebfedd0cb06de6a093",
     "grade": false,
     "grade_id": "cell-433fc700c98a8ef3",
     "locked": true,
     "schema_version": 3,
     "solution": false,
     "task": false
    },
    "slideshow": {
     "slide_type": "slide"
    }
   },
   "source": [
    "Note that `proc.time()` is a function that lets us figure out how long code takes to run. After running each of the above blocks of code, you should see ouput that tells you the time it took for the cell to run underneath the preview of the dataframe.\n",
    "\n",
    "### Question:\n",
    "**Which block of code ran faster? Why?**\n"
   ]
  },
  {
   "cell_type": "markdown",
   "metadata": {
    "deletable": false,
    "nbgrader": {
     "cell_type": "markdown",
     "checksum": "8d3e0e2c80b93c721ea7e120b6a312c4",
     "grade": true,
     "grade_id": "cell-8b374232d65f3bd4",
     "locked": false,
     "points": 0,
     "schema_version": 3,
     "solution": true,
     "task": false
    }
   },
   "source": [
    "\n",
    "The FIRST block of code ran faster, because the operations are being completed in SQL database (the database handles manipulating data faster)."
   ]
  }
 ],
 "metadata": {
  "kernelspec": {
   "display_name": "R",
   "language": "R",
   "name": "ir"
  },
  "language_info": {
   "codemirror_mode": "r",
   "file_extension": ".r",
   "mimetype": "text/x-r-source",
   "name": "R",
   "pygments_lexer": "r",
   "version": "3.6.1"
  }
 },
 "nbformat": 4,
 "nbformat_minor": 2
}
