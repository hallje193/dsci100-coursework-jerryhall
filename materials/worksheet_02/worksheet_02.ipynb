{
 "cells": [
  {
   "cell_type": "markdown",
   "metadata": {
    "deletable": false,
    "editable": false,
    "nbgrader": {
     "cell_type": "markdown",
     "checksum": "91168d816f5a27a6becac04c9258c493",
     "grade": false,
     "grade_id": "cell-9fc931a1b92d396c",
     "locked": true,
     "schema_version": 3,
     "solution": false,
     "task": false
    }
   },
   "source": [
    "# Worksheet 2: Introduction to Reading Data\n",
    "\n",
    "You can read more about course policies on the [course website](https://github.com/UBC-DSCI/dsci-100).\n",
    "\n",
    "### Lecture and Tutorial Learning Goals:\n",
    "\n",
    "After completing this week's lecture and tutorial work, you will be able to:\n",
    "\n",
    "* define the following:\n",
    "    - absolute file path\n",
    "    - relative file path\n",
    "    - url\n",
    "* read data into R using a relative path and a url\n",
    "* compare and contrast the following functions:\n",
    "    - `read_csv` \n",
    "    - `read_tsv`\n",
    "    - `read_csv2`\n",
    "    - `read_delim`\n",
    "    - `read_excel`\n",
    "* match the following `tidyverse` `read_*` function arguments to their descriptions:\n",
    "    - `file` \n",
    "    - `delim`\n",
    "    - `col_names`\n",
    "    - `skip`\n",
    "* choose the appropriate `tidyverse` `read_*` function and function arguments to load a given plain text tabular data set into R\n",
    "* use `readxl` library's `read_excel` function and arguments to load a sheet from an excel file into R\n",
    "* connect to a database using the `DBI` library's `dbConnect` function\n",
    "* list the tables in a database using the `DBI` library's `dbListTables` function\n",
    "* create a reference to a database table that is queriable using the `tbl` from the `dbplyr` library\n",
    "* retrieve data from a database query and bring it into R using the `collect` function from the `dbplyr` library\n",
    "* use `write_csv` to save a data frame to a csv file\n",
    "\n",
    "* *optional*: scrape data from the web\n",
    "  * read/scrape data from an internet URL using the rvest `html_nodes` and `html_text` functions\n",
    "  * compare downloading tabular data from a plain text file (e.g. *.csv) from the web versus scraping data from a .html file\n",
    "\n",
    "\n",
    "This worksheet covers parts of [Chapter 2](https://ubc-dsci.github.io/introduction-to-datascience/reading.html) of the online textbook. You should read this chapter before attempting the worksheet."
   ]
  },
  {
   "cell_type": "code",
   "execution_count": 1,
   "metadata": {},
   "outputs": [
    {
     "name": "stderr",
     "output_type": "stream",
     "text": [
      "── \u001b[1mAttaching packages\u001b[22m ─────────────────────────────────────── tidyverse 1.2.1 ──\n",
      "\u001b[32m✔\u001b[39m \u001b[34mggplot2\u001b[39m 3.2.0     \u001b[32m✔\u001b[39m \u001b[34mpurrr  \u001b[39m 0.3.2\n",
      "\u001b[32m✔\u001b[39m \u001b[34mtibble \u001b[39m 2.1.3     \u001b[32m✔\u001b[39m \u001b[34mdplyr  \u001b[39m 0.8.3\n",
      "\u001b[32m✔\u001b[39m \u001b[34mtidyr  \u001b[39m 0.8.3     \u001b[32m✔\u001b[39m \u001b[34mstringr\u001b[39m 1.4.0\n",
      "\u001b[32m✔\u001b[39m \u001b[34mreadr  \u001b[39m 1.3.1     \u001b[32m✔\u001b[39m \u001b[34mforcats\u001b[39m 0.4.0\n",
      "── \u001b[1mConflicts\u001b[22m ────────────────────────────────────────── tidyverse_conflicts() ──\n",
      "\u001b[31m✖\u001b[39m \u001b[34mdplyr\u001b[39m::\u001b[32mfilter()\u001b[39m masks \u001b[34mstats\u001b[39m::filter()\n",
      "\u001b[31m✖\u001b[39m \u001b[34mdplyr\u001b[39m::\u001b[32mlag()\u001b[39m    masks \u001b[34mstats\u001b[39m::lag()\n",
      "\n",
      "Attaching package: ‘testthat’\n",
      "\n",
      "The following object is masked from ‘package:dplyr’:\n",
      "\n",
      "    matches\n",
      "\n",
      "The following object is masked from ‘package:purrr’:\n",
      "\n",
      "    is_null\n",
      "\n"
     ]
    }
   ],
   "source": [
    "### Run this cell before continuing. \n",
    "library(tidyverse)\n",
    "library(repr)\n",
    "library(readxl)\n",
    "source(\"tests_worksheet_02.R\")"
   ]
  },
  {
   "cell_type": "markdown",
   "metadata": {},
   "source": [
    "## 1. Comparing Absolute Paths, Relative Paths, and URLs"
   ]
  },
  {
   "cell_type": "markdown",
   "metadata": {
    "deletable": false,
    "editable": false,
    "nbgrader": {
     "cell_type": "markdown",
     "checksum": "977afdbf434d16609fe502bb32db0068",
     "grade": false,
     "grade_id": "cell-33341d6ba389a6a5",
     "locked": true,
     "schema_version": 3,
     "solution": false
    }
   },
   "source": [
    "**Question 1.1** Multiple Choice:\n",
    "<br> {points: 1}\n",
    "\n",
    "If you needed to read a file using an absolute path, what would be the first symbol in your argument (...) when using the `read_csv` function?\n",
    "\n",
    "A. `read_csv(\">...\")`\n",
    "\n",
    "B. `read_csv(\";...\")`\n",
    "\n",
    "C. `read_csv(\"...\")`\n",
    "\n",
    "D. `read_csv(\"/...\")`\n",
    "\n",
    "*Assign your answer to an object called `answer1`.*"
   ]
  },
  {
   "cell_type": "code",
   "execution_count": 2,
   "metadata": {
    "deletable": false,
    "nbgrader": {
     "cell_type": "code",
     "checksum": "093ad42186f4ccc2f29e7b8d10bbfb68",
     "grade": false,
     "grade_id": "cell-6bdc2f57a189abcf",
     "locked": false,
     "schema_version": 3,
     "solution": true
    }
   },
   "outputs": [],
   "source": [
    "# Make sure the correct answer is an uppercase letter. \n",
    "# Surround your answer with quotation marks.\n",
    "# Replace the fail() with your answer. \n",
    "\n",
    "# your code here\n",
    "answer1<-\"D\""
   ]
  },
  {
   "cell_type": "code",
   "execution_count": 3,
   "metadata": {
    "deletable": false,
    "editable": false,
    "nbgrader": {
     "cell_type": "code",
     "checksum": "95a8391a2ccb7db143ea5c1bb86d6476",
     "grade": true,
     "grade_id": "cell-62f0d28a4d321e00",
     "locked": true,
     "points": 1,
     "schema_version": 3,
     "solution": false
    }
   },
   "outputs": [
    {
     "name": "stdout",
     "output_type": "stream",
     "text": [
      "[1] \"Success!\"\n"
     ]
    }
   ],
   "source": [
    "test_1.1()"
   ]
  },
  {
   "cell_type": "markdown",
   "metadata": {
    "deletable": false,
    "editable": false,
    "nbgrader": {
     "cell_type": "markdown",
     "checksum": "53f900e90d50b72294f9f59e72c531bc",
     "grade": false,
     "grade_id": "cell-b91542cf20075a6d",
     "locked": true,
     "schema_version": 3,
     "solution": false
    }
   },
   "source": [
    "**Question 1.2** True or False: \n",
    "<br> {points: 1}\n",
    "\n",
    "The file argument in the `read_csv` function that uses an absolute path can *never* look like that of a relative path?\n",
    "\n",
    "*Assign your answer to an object called `answer2`.* "
   ]
  },
  {
   "cell_type": "code",
   "execution_count": 4,
   "metadata": {
    "deletable": false,
    "nbgrader": {
     "cell_type": "code",
     "checksum": "8565d9e71a1a0b014a87dbd916aab1be",
     "grade": false,
     "grade_id": "cell-419826637ad2ec8b",
     "locked": false,
     "schema_version": 3,
     "solution": true
    }
   },
   "outputs": [],
   "source": [
    "# Make sure the correct answer is written in lower-case (true / false)\n",
    "# Surround your answer with quotation marks.\n",
    "# Replace the fail() with your answer. \n",
    "\n",
    "# your code here\n",
    "answer2<-\"true\""
   ]
  },
  {
   "cell_type": "code",
   "execution_count": 5,
   "metadata": {
    "deletable": false,
    "editable": false,
    "nbgrader": {
     "cell_type": "code",
     "checksum": "f118e4132ee94403fc4a25fea9ec1314",
     "grade": true,
     "grade_id": "cell-decda128ce0061b5",
     "locked": true,
     "points": 1,
     "schema_version": 3,
     "solution": false
    }
   },
   "outputs": [
    {
     "name": "stdout",
     "output_type": "stream",
     "text": [
      "[1] \"Success!\"\n"
     ]
    }
   ],
   "source": [
    "test_1.2()"
   ]
  },
  {
   "cell_type": "markdown",
   "metadata": {
    "deletable": false,
    "editable": false,
    "nbgrader": {
     "cell_type": "markdown",
     "checksum": "eb3e86c266782ebc436b703987322348",
     "grade": false,
     "grade_id": "cell-b3a3c0bfe11c30aa",
     "locked": true,
     "schema_version": 3,
     "solution": false
    }
   },
   "source": [
    "**Question 1.3** \n",
    "Match the following arguments with the corresponding path that they represent:\n",
    "<br> {points: 1}\n",
    "\n",
    "*Definitions*\n",
    "\n",
    "A. `/Users/my_user/Desktop/UBC/BIOL363/SciaticNerveLab/sn_trial_1.xlsx`\n",
    "\n",
    "B. `https://www.ubc.ca`\n",
    "\n",
    "C. `file_1.csv`\n",
    "\n",
    "D. `/Users/name/Documents/Course_A/homework/my_first_homework.docx`\n",
    "\n",
    "E. `homework/my_second_homework.docx`\n",
    "\n",
    "F. `https://www.random_website.com`\n",
    "\n",
    "\n",
    "*Functions*\n",
    "\n",
    "1. absolute\n",
    "2. relative\n",
    "3. URL\n",
    "\n",
    "For every argument, create an object using the letter associated with the example and assign it the corresponding number from the list of path types. For example: `B <- 1`"
   ]
  },
  {
   "cell_type": "code",
   "execution_count": 6,
   "metadata": {
    "deletable": false,
    "nbgrader": {
     "cell_type": "code",
     "checksum": "0f2dfbc6dd7f347e76b0e22f8b9176b3",
     "grade": false,
     "grade_id": "cell-09da6197edcf6859",
     "locked": false,
     "schema_version": 3,
     "solution": true
    }
   },
   "outputs": [],
   "source": [
    "# Assign your answer to a letter: A, B, C, D, E, F\n",
    "# Make sure the correct answer is a number from 1-3 \n",
    "# Replace the fail() with your answer. \n",
    "\n",
    "# your code here\n",
    "A<-1\n",
    "B<-3\n",
    "C<-2\n",
    "D<-1\n",
    "E<-2\n",
    "F<-3"
   ]
  },
  {
   "cell_type": "code",
   "execution_count": 7,
   "metadata": {
    "deletable": false,
    "editable": false,
    "nbgrader": {
     "cell_type": "code",
     "checksum": "8f651f67ecd352eeb1b5a3b49e53e2c0",
     "grade": true,
     "grade_id": "cell-bcb67971fe82e848",
     "locked": true,
     "points": 1,
     "schema_version": 3,
     "solution": false
    }
   },
   "outputs": [
    {
     "name": "stdout",
     "output_type": "stream",
     "text": [
      "[1] \"Success!\"\n"
     ]
    }
   ],
   "source": [
    "test_1.3()"
   ]
  },
  {
   "cell_type": "markdown",
   "metadata": {
    "deletable": false,
    "editable": false,
    "nbgrader": {
     "cell_type": "markdown",
     "checksum": "96ba73e1f1d2b442da6b713b65aac78e",
     "grade": false,
     "grade_id": "cell-4589f01853a62fe7",
     "locked": true,
     "schema_version": 3,
     "solution": false
    }
   },
   "source": [
    "**Question 1.4** Multiple Choice:\n",
    "<br> {points: 1}\n",
    "\n",
    "If the absolute path to a data file looks like this: `/Users/my_user/Desktop/UBC/BIOL363/SciaticNerveLab/sn_trial_1.xlsx`\n",
    "\n",
    "What would the relative path look like if the working directory (i.e., where the Jupyter notebook is where you are running your R code from) is now located in the `UBC` folder?\n",
    "\n",
    "A. `sn_trial_1.xlsx`\n",
    "\n",
    "B. `/SciaticNerveLab/sn_trial_1.xlsx`\n",
    "\n",
    "C. `BIOL363/SciaticNerveLab/sn_trial_1.xlsx`\n",
    "\n",
    "D. `UBC/BIOL363/SciaticNerveLab/sn_trial_1.xlsx`\n",
    "\n",
    "E. `/BIOL363/SciaticNerveLab/sn_trial_1.xlsx`\n",
    "\n",
    "*Assign your answer to an object called `answer4`.* "
   ]
  },
  {
   "cell_type": "code",
   "execution_count": 8,
   "metadata": {
    "deletable": false,
    "nbgrader": {
     "cell_type": "code",
     "checksum": "f80ece79b15626050a39383900e67169",
     "grade": false,
     "grade_id": "cell-c7993ed9e8e63184",
     "locked": false,
     "schema_version": 3,
     "solution": true
    }
   },
   "outputs": [],
   "source": [
    "# Make sure the correct answer is an uppercase letter. \n",
    "# Surround your answer with quotation marks.\n",
    "# Replace the fail() with your answer. \n",
    "\n",
    "# your code here\n",
    "answer4<-\"C\""
   ]
  },
  {
   "cell_type": "code",
   "execution_count": 9,
   "metadata": {
    "deletable": false,
    "editable": false,
    "nbgrader": {
     "cell_type": "code",
     "checksum": "98f2e299b7809abf2488626649729d33",
     "grade": true,
     "grade_id": "cell-0a781125473dc3d8",
     "locked": true,
     "points": 1,
     "schema_version": 3,
     "solution": false
    }
   },
   "outputs": [
    {
     "name": "stdout",
     "output_type": "stream",
     "text": [
      "[1] \"Success!\"\n"
     ]
    }
   ],
   "source": [
    "test_1.4()"
   ]
  },
  {
   "cell_type": "markdown",
   "metadata": {
    "deletable": false,
    "editable": false,
    "nbgrader": {
     "cell_type": "markdown",
     "checksum": "baea937ef0c9797160bd385e6bc99332",
     "grade": false,
     "grade_id": "cell-798a7cbf057308b4",
     "locked": true,
     "schema_version": 3,
     "solution": false,
     "task": false
    }
   },
   "source": [
    "**Question 1.5** Match the following paths with the most likely kind of data format they contain. \n",
    "\n",
    "{points: 1}\n",
    "\n",
    "*Paths:*\n",
    "\n",
    "1. `https://www.ubc.ca/datasets/data.db`\n",
    "2. `/home/user/downloads/data.xlsx`\n",
    "3. `data.tsv`\n",
    "4. `examples/data/data.csv`\n",
    "5. `https://en.wikipedia.org/wiki/Normal_distribution`\n",
    "\n",
    "*Dataset Types:*\n",
    "\n",
    "A. Excel Spreadsheet\n",
    "\n",
    "B. Database\n",
    "\n",
    "C. HTML file\n",
    "\n",
    "D. Comma-separated values file\n",
    "\n",
    "E. Tab-separated values file\n",
    "\n",
    "For every dataset type, create an object using the letter associated with the example and assign it the corresponding number from the list of paths. For example: `F <- 5`\n"
   ]
  },
  {
   "cell_type": "code",
   "execution_count": 10,
   "metadata": {
    "deletable": false,
    "nbgrader": {
     "cell_type": "code",
     "checksum": "cb9ac7ce44fe511ea4d8d5503d0135d1",
     "grade": false,
     "grade_id": "cell-050dd93f81d2fc95",
     "locked": false,
     "schema_version": 3,
     "solution": true,
     "task": false
    }
   },
   "outputs": [],
   "source": [
    "# Assign your answer to a letter: A, B, C, D, E\n",
    "# Make sure the correct answer is a number from 1-6 \n",
    "# Replace the fail() with your answer. \n",
    "\n",
    "# your code here\n",
    "A<-2\n",
    "B<-1\n",
    "C<-5\n",
    "D<-4\n",
    "E<-3"
   ]
  },
  {
   "cell_type": "code",
   "execution_count": 11,
   "metadata": {
    "deletable": false,
    "editable": false,
    "nbgrader": {
     "cell_type": "code",
     "checksum": "6aff1dc46def341826fce97f1c22263b",
     "grade": true,
     "grade_id": "cell-f4e891dadfecbbf6",
     "locked": true,
     "points": 1,
     "schema_version": 3,
     "solution": false,
     "task": false
    }
   },
   "outputs": [
    {
     "name": "stdout",
     "output_type": "stream",
     "text": [
      "[1] \"Success!\"\n"
     ]
    }
   ],
   "source": [
    "test_1.5()"
   ]
  },
  {
   "cell_type": "markdown",
   "metadata": {},
   "source": [
    "## 2. Argument Modifications to Read Data\n",
    "Reading files is one of the first steps to wrangling data and consequently `read_csv` is a  crucial function. However, despite how effortlessly it has worked so far, it has its limitations. `read_csv` works with particular files and does not accept differing formats. \n",
    "\n",
    "Not all data sets come as perfectly organized like the ones you worked with last week. Time and effort was put into ensuring that the files were arranged with headers, columns were separated by commas, and the beginning excluded metadata. \n",
    "\n",
    "Now that you understand how to read files located outside (or inside) of your working directory, you can begin to learn the tips and tricks necessary to overcoming the setbacks of `read_csv`. "
   ]
  },
  {
   "cell_type": "code",
   "execution_count": 12,
   "metadata": {},
   "outputs": [],
   "source": [
    "### Run this cell to learn more about the arguments used in read_csv\n",
    "### Reading over the help file will assist with the next question. \n",
    "\n",
    "# ?read_csv"
   ]
  },
  {
   "cell_type": "markdown",
   "metadata": {
    "deletable": false,
    "editable": false,
    "nbgrader": {
     "cell_type": "markdown",
     "checksum": "db9d8829de59835c3f740e941ab3456a",
     "grade": false,
     "grade_id": "cell-d827ca1d36fb14e0",
     "locked": true,
     "schema_version": 3,
     "solution": false
    }
   },
   "source": [
    "**Question 2.1** Match the following definitions with the corresponding arguments used in `read_csv`:\n",
    "<br> {points: 1}\n",
    "\n",
    "*Definitions*\n",
    "\n",
    "G. Character that separates columns in your file. \n",
    "\n",
    "H. Specifies whether or not the first row of data in your file are column labels. Also allows you to create a vector that can be used to label columns. \n",
    "\n",
    "I. This is the file name, path to a file, or URL. \n",
    "\n",
    "J. Specifies the number of lines which must be ignored because they contain metadata. \n",
    "\n",
    "\n",
    "*Functions*\n",
    "\n",
    "1. `file`\n",
    "2. `delim`\n",
    "3. `col_names`\n",
    "4. `skip`\n",
    "\n",
    "For every description, create an object using the letter associated with the definition and assign it the corresponding number from the list of functions. For example: `G <- 1`"
   ]
  },
  {
   "cell_type": "code",
   "execution_count": 13,
   "metadata": {
    "deletable": false,
    "nbgrader": {
     "cell_type": "code",
     "checksum": "aa5e1d0d7cabb305a50ea33a1f530175",
     "grade": false,
     "grade_id": "cell-bbc885297c410cb2",
     "locked": false,
     "schema_version": 3,
     "solution": true
    }
   },
   "outputs": [],
   "source": [
    "# Assign your answer to a letter: G, H, I, J\n",
    "# Make sure the correct answer is a number from 1-4\n",
    "# Replace the fail() with your answer. \n",
    "\n",
    "# your code here\n",
    "G<-2\n",
    "H<-3\n",
    "I<-1\n",
    "J<-4"
   ]
  },
  {
   "cell_type": "code",
   "execution_count": 14,
   "metadata": {
    "deletable": false,
    "editable": false,
    "nbgrader": {
     "cell_type": "code",
     "checksum": "465f30f8342e492ece3171a09d6dd092",
     "grade": true,
     "grade_id": "cell-50ce2f054a8c009a",
     "locked": true,
     "points": 1,
     "schema_version": 3,
     "solution": false
    }
   },
   "outputs": [
    {
     "name": "stdout",
     "output_type": "stream",
     "text": [
      "[1] \"Success!\"\n"
     ]
    }
   ],
   "source": [
    "test_2.1()"
   ]
  },
  {
   "cell_type": "markdown",
   "metadata": {
    "deletable": false,
    "editable": false,
    "nbgrader": {
     "cell_type": "markdown",
     "checksum": "4d6e34ea82f11382f54f182c2690f332",
     "grade": false,
     "grade_id": "cell-5b3f94746c785534",
     "locked": true,
     "schema_version": 3,
     "solution": false
    }
   },
   "source": [
    "**Question 2.2** True or False:\n",
    "<br> {points: 1}\n",
    "\n",
    "`read_csv2` and `read_delim` can both be used for reading files that have columns separated by `;`. \n",
    "\n",
    "*Assign your answer to an object called `answer2.2`. Make sure to write in all lower-case.*"
   ]
  },
  {
   "cell_type": "code",
   "execution_count": 15,
   "metadata": {
    "deletable": false,
    "nbgrader": {
     "cell_type": "code",
     "checksum": "f912cc18140be330a6fbf6b917ad6808",
     "grade": false,
     "grade_id": "cell-a35b96936f6bb761",
     "locked": false,
     "schema_version": 3,
     "solution": true
    }
   },
   "outputs": [],
   "source": [
    "# Make sure the correct answer is written in lower-case (true / false)\n",
    "# Surround your answer with quotation marks.\n",
    "# Replace the fail() with your answer. \n",
    "\n",
    "# your code here\n",
    "answer2.2<-\"true\""
   ]
  },
  {
   "cell_type": "code",
   "execution_count": 16,
   "metadata": {
    "deletable": false,
    "editable": false,
    "nbgrader": {
     "cell_type": "code",
     "checksum": "94e62ce1c32cca27d1684d83c22df692",
     "grade": true,
     "grade_id": "cell-7e29230345864f5d",
     "locked": true,
     "points": 1,
     "schema_version": 3,
     "solution": false
    }
   },
   "outputs": [
    {
     "name": "stdout",
     "output_type": "stream",
     "text": [
      "[1] \"Success!\"\n"
     ]
    }
   ],
   "source": [
    "test_2.2()"
   ]
  },
  {
   "cell_type": "markdown",
   "metadata": {
    "deletable": false,
    "editable": false,
    "nbgrader": {
     "cell_type": "markdown",
     "checksum": "145b45fca85ae1e939b33985291f04a2",
     "grade": false,
     "grade_id": "cell-4750064840f67738",
     "locked": true,
     "schema_version": 3,
     "solution": false
    }
   },
   "source": [
    "**Question 2.3** Multiple Choice: \n",
    "<br> {points: 1}\n",
    "\n",
    "`read_tsv` would be used for files that have columns separated by which of the following:\n",
    "\n",
    "A. letters\n",
    "\n",
    "B. tabs\n",
    "\n",
    "C. numbers\n",
    "\n",
    "D. commas \n",
    "\n",
    "*Assign your answer to an object called `answer2.3`.* "
   ]
  },
  {
   "cell_type": "code",
   "execution_count": 17,
   "metadata": {
    "deletable": false,
    "nbgrader": {
     "cell_type": "code",
     "checksum": "26e0e821d411fcfa18c03f7393af2862",
     "grade": false,
     "grade_id": "cell-518590cd5df1f1b7",
     "locked": false,
     "schema_version": 3,
     "solution": true
    }
   },
   "outputs": [],
   "source": [
    "# Make sure the correct answer is an uppercase letter. \n",
    "# Surround your answer with quotation marks.\n",
    "# Replace the fail() with your answer. \n",
    "\n",
    "# your code here\n",
    "answer2.3<-\"B\""
   ]
  },
  {
   "cell_type": "code",
   "execution_count": 18,
   "metadata": {
    "deletable": false,
    "editable": false,
    "nbgrader": {
     "cell_type": "code",
     "checksum": "1b47fe7daf16aac99151abbdbd7bb2c8",
     "grade": true,
     "grade_id": "cell-8dfe160165696251",
     "locked": true,
     "points": 1,
     "schema_version": 3,
     "solution": false
    }
   },
   "outputs": [
    {
     "name": "stdout",
     "output_type": "stream",
     "text": [
      "[1] \"Success!\"\n"
     ]
    }
   ],
   "source": [
    "test_2.3()"
   ]
  },
  {
   "cell_type": "markdown",
   "metadata": {
    "deletable": false,
    "editable": false,
    "nbgrader": {
     "cell_type": "markdown",
     "checksum": "96b9dda0a845f5dd265347d026d26444",
     "grade": false,
     "grade_id": "cell-ba92ca46de3933fe",
     "locked": true,
     "schema_version": 3,
     "solution": false
    }
   },
   "source": [
    "## 3. Happiness Report (2017)\n",
    "This data was taken from [Kaggle](https://www.kaggle.com/unsdsn/world-happiness) and ranks countries on happiness based on rationalized factors like economic growth, social support, etc. The data was released by the United Nations at an event celebrating International Day of Happiness.  According to the website, the file contains the following information:\n",
    "\n",
    "* Country = Name of the country.\n",
    "* Region = Region the country belongs to.\n",
    "* Happiness Rank = Rank of the country based on the Happiness Score.\n",
    "* Happiness Score = A metric measured by asking the sampled people the question: \"How would you rate your happiness on a scale of 0 to 10 where 10 is the happiest.\"\n",
    "* Standard Error = The standard error of the happiness score.\n",
    "* Economy (GDP per Capita) = The extent to which GDP contributes to the calculation of the Happiness Score.\n",
    "* Family = The extent to which Family contributes to the calculation of the Happiness Score.\n",
    "* Health (Life Expectancy) = The extent to which Life expectancy contributed to the calculation of the Happiness Score.\n",
    "* Freedom = The extent to which Freedom contributed to the calculation of the Happiness Score.\n",
    "* Trust (Government Corruption) = The extent to which Perception of Corruption contributes to Happiness Score.\n",
    "* Generosity = The extent to which Generosity contributed to the calculation of the Happiness Score.\n",
    "* Dystopia Residual = The extent to which Dystopia Residual contributed to the calculation of the Happiness Score.\n",
    "\n",
    "To clean up the file and make it easier to read, we only kept the country name, happiness score, economy (GDP per capita), life expectancy, and freedom. The happiness scores and rankings use data from the Gallup World Poll, which surveys citizens in countries from around the world.\n",
    "\n",
    "Kaggle stores this information but it is compiled by the *Sustainable Development Solutions Network*. They survey these factors nearly every year (since 2012) and allow global comparisons to optimize political decision making. These landmark surveys are highly recognized and allow countries to learn and grow from one another. One day, they will provide a historical insight on the nature of our time.  "
   ]
  },
  {
   "cell_type": "markdown",
   "metadata": {
    "deletable": false,
    "editable": false,
    "nbgrader": {
     "cell_type": "markdown",
     "checksum": "558791096d310037d29c7b22575eb2c0",
     "grade": false,
     "grade_id": "cell-4f9336c659cb50f6",
     "locked": true,
     "schema_version": 3,
     "solution": false
    }
   },
   "source": [
    "**Question 3.1** Fill in the Blank: \n",
    "<br> {points: 1}\n",
    "\n",
    "Trust is the extent to which _______________ contributes to the Happiness Score. \n",
    "\n",
    "A. Corruption \n",
    "\n",
    "B. Government Intervention \n",
    "\n",
    "C. Perception of Corruption  \n",
    "\n",
    "D. Tax Money Designation \n",
    "\n",
    "*Assign your answer to an object called `answer3.1`.* "
   ]
  },
  {
   "cell_type": "code",
   "execution_count": 19,
   "metadata": {
    "deletable": false,
    "nbgrader": {
     "cell_type": "code",
     "checksum": "ece6709043cdf0598ccb72c393e35872",
     "grade": false,
     "grade_id": "cell-b4e3e33488ef32b7",
     "locked": false,
     "schema_version": 3,
     "solution": true
    }
   },
   "outputs": [],
   "source": [
    "# Make sure the correct answer is an uppercase letter. \n",
    "# Surround your answer with quotation marks.\n",
    "# Replace the fail() with your answer. \n",
    "\n",
    "# your code here\n",
    "answer3.1<-\"C\""
   ]
  },
  {
   "cell_type": "code",
   "execution_count": 20,
   "metadata": {
    "deletable": false,
    "editable": false,
    "nbgrader": {
     "cell_type": "code",
     "checksum": "84a45b95a0dc81aec2bc004316316e4d",
     "grade": true,
     "grade_id": "cell-56c422da7266129b",
     "locked": true,
     "points": 1,
     "schema_version": 3,
     "solution": false
    }
   },
   "outputs": [
    {
     "name": "stdout",
     "output_type": "stream",
     "text": [
      "[1] \"Success!\"\n"
     ]
    }
   ],
   "source": [
    "test_3.1()"
   ]
  },
  {
   "cell_type": "markdown",
   "metadata": {
    "deletable": false,
    "editable": false,
    "nbgrader": {
     "cell_type": "markdown",
     "checksum": "8636af58c365426d71cb41c15b96c17e",
     "grade": false,
     "grade_id": "cell-783457361cf6c5df",
     "locked": true,
     "schema_version": 3,
     "solution": false
    }
   },
   "source": [
    "**Question 3.2** Multiple Choice: \n",
    "<br> {points: 1}\n",
    "\n",
    "What is the happiness report?\n",
    "\n",
    "A. Study conducted by the governments of multiple countries. \n",
    "\n",
    "B. Independent survey of citizens from multiple countries.\n",
    "\n",
    "C. Study conducted by the UN. \n",
    "\n",
    "D. Survey given to international students by UBC's psychology department. \n",
    "\n",
    "*Assign your answer to an object called `answer3.2`.* "
   ]
  },
  {
   "cell_type": "code",
   "execution_count": 21,
   "metadata": {
    "deletable": false,
    "nbgrader": {
     "cell_type": "code",
     "checksum": "bbe898e8a1f6c209187b2e11a30903a0",
     "grade": false,
     "grade_id": "cell-f11d6a9fb2cb9712",
     "locked": false,
     "schema_version": 3,
     "solution": true
    }
   },
   "outputs": [],
   "source": [
    "# Make sure the correct answer is an uppercase letter. \n",
    "# Surround your answer with quotation marks.\n",
    "# Replace the fail() with your answer. \n",
    "\n",
    "# your code here\n",
    "answer3.2<-\"B\""
   ]
  },
  {
   "cell_type": "code",
   "execution_count": 22,
   "metadata": {
    "deletable": false,
    "editable": false,
    "nbgrader": {
     "cell_type": "code",
     "checksum": "7e8a6a943873caafc16b59b24d2757e3",
     "grade": true,
     "grade_id": "cell-7566d4f3f306ca1c",
     "locked": true,
     "points": 1,
     "schema_version": 3,
     "solution": false
    }
   },
   "outputs": [
    {
     "name": "stdout",
     "output_type": "stream",
     "text": [
      "[1] \"Success!\"\n"
     ]
    }
   ],
   "source": [
    "test_3.2()"
   ]
  },
  {
   "cell_type": "markdown",
   "metadata": {
    "deletable": false,
    "editable": false,
    "nbgrader": {
     "cell_type": "markdown",
     "checksum": "447e80db8a08423daf63ad31a2d394fd",
     "grade": false,
     "grade_id": "cell-9f8a4bdfe511f79b",
     "locked": true,
     "schema_version": 3,
     "solution": false
    }
   },
   "source": [
    "**Question 3.3** Inspecting plain text data\n",
    "<br> {points: 1}\n",
    "\n",
    "It is often a good idea to try to \"inspect\" your data to see what it looks like before trying to load it into R. This will help you figure out the right function to call and what arguments to use. When your data are stored as plain text, you can do this easily with Jupyter (or any text editor). \n",
    "\n",
    "Open all the files named `happiness_report...` in the `data` folder in your working directory (the `worksheet_02` directory) using Jupyter (again, [this video](https://www.youtube.com/watch?v=6orO4YMAyeQ) shows you how to do this). This will allow you to visualize the files and the organization of your data. Based on your findings, fill in the missing items in the table below. This table will be very useful to refer back to in the coming weeks. \n",
    "\n",
    "*You'll notice that trying to open one of the files gives you an error of the form* `Error! ... is not UTF-8 encoded`. *This means that this data is not stored as human-readable plain text. For this special file, just fill in the* `read_*` *function entry, the other columns will be left blank.*"
   ]
  },
  {
   "cell_type": "markdown",
   "metadata": {
    "deletable": false,
    "editable": false,
    "nbgrader": {
     "cell_type": "markdown",
     "checksum": "9a305e66b35e4dc821b2562a3e2c1808",
     "grade": false,
     "grade_id": "cell-1935595960d193a5",
     "locked": true,
     "schema_version": 3,
     "solution": false,
     "task": false
    }
   },
   "source": [
    "**Fill in the blanks**\n",
    "\n",
    "|File Name                       | delim      | Header | Metadata | skip               | read_*   |\n",
    "|--------------------------------|------------|--------|----------|--------------------|----------|\n",
    "|*_.csv*                         |*; /, / tab*|*yes/no*|*yes/no*  |*NA/number of lines*|*function*|\n",
    "|`happiness_report.csv`          |,           |A     |no        |NA                  |read_csv  |\n",
    "|`happiness_report_semicolon.csv`|;           |yes     |no        |NA                  |B |\n",
    "|`happiness_report.tsv`          |C         |yes     |no        |NA                  |read_tsv  |\n",
    "|`happiness_report_metadata.csv` |,           |yes     |D       |2                   |read_csv  |\n",
    "|`happiness_report_no_header.csv`|,           |E      |no      |NA                  |read_csv  |\n",
    "|`happiness_report.xlsx`         |            |        |          |                    |F|\n",
    "\n",
    "For the missing items (labelled A to F) in the table above, create an object using the letter and assign it the corresponding missing value. For example: `A <- \"yes\"`\n",
    "The possible options for each column are given in the first row of the table. "
   ]
  },
  {
   "cell_type": "code",
   "execution_count": 23,
   "metadata": {
    "deletable": false,
    "nbgrader": {
     "cell_type": "code",
     "checksum": "5956ede77f34d6685ec14282df438616",
     "grade": false,
     "grade_id": "cell-3b30ff40fa20980c",
     "locked": false,
     "schema_version": 3,
     "solution": true,
     "task": false
    }
   },
   "outputs": [],
   "source": [
    "# Assign your answer to a letter: A, B, C, D, E, F, \n",
    "# Make sure the correct answer is written in lower-case (yes, no, tab, read_csv etc.)\n",
    "# Surround your answer with quotation marks.\n",
    "# Replace the fail() with your answer. \n",
    "\n",
    "# your code here\n",
    "A<-\"yes\"\n",
    "B<-\"read_csv2\"\n",
    "C<-\"tab\"\n",
    "D<-\"yes\"\n",
    "E<-\"no\"\n",
    "F<-\"read_excel\""
   ]
  },
  {
   "cell_type": "code",
   "execution_count": 24,
   "metadata": {
    "deletable": false,
    "editable": false,
    "nbgrader": {
     "cell_type": "code",
     "checksum": "332fa02c35128f4c4d8619de6b02dc53",
     "grade": true,
     "grade_id": "cell-7078427e58de2889",
     "locked": true,
     "points": 1,
     "schema_version": 3,
     "solution": false,
     "task": false
    }
   },
   "outputs": [
    {
     "name": "stdout",
     "output_type": "stream",
     "text": [
      "[1] \"Success!\"\n"
     ]
    }
   ],
   "source": [
    "test_3.3()"
   ]
  },
  {
   "cell_type": "markdown",
   "metadata": {
    "deletable": false,
    "editable": false,
    "nbgrader": {
     "cell_type": "markdown",
     "checksum": "39da3676eff8e612fcdabad5b15a3621",
     "grade": false,
     "grade_id": "cell-d034da5aced69138",
     "locked": true,
     "schema_version": 3,
     "solution": false
    }
   },
   "source": [
    "**Question 3.4** \n",
    "<br> {points: 1}\n",
    "\n",
    "Read the file `happiness_report.csv` in the `data` folder using the shortest relative path.\n",
    "\n",
    "*Hint - preview the data using Jupyter (as shown in [this video](https://www.youtube.com/watch?v=6orO4YMAyeQ)) so you know which `read_*` *function and which arguments to use.* \n",
    "\n",
    "*Assign the relative path to an object named* `happiness_report_path`, *and assign the output of the correct* `read_*` *function you call to an object named* `happiness_report`. "
   ]
  },
  {
   "cell_type": "code",
   "execution_count": 25,
   "metadata": {
    "deletable": false,
    "nbgrader": {
     "cell_type": "code",
     "checksum": "daa443114dcecfb1978ca9b322537ece",
     "grade": false,
     "grade_id": "cell-9637860c62acbf70",
     "locked": false,
     "schema_version": 3,
     "solution": true
    }
   },
   "outputs": [
    {
     "name": "stderr",
     "output_type": "stream",
     "text": [
      "Parsed with column specification:\n",
      "cols(\n",
      "  country = \u001b[31mcol_character()\u001b[39m,\n",
      "  happiness_score = \u001b[32mcol_double()\u001b[39m,\n",
      "  GDP_per_capita = \u001b[32mcol_double()\u001b[39m,\n",
      "  life_expectancy = \u001b[32mcol_double()\u001b[39m,\n",
      "  freedom = \u001b[32mcol_double()\u001b[39m\n",
      ")\n"
     ]
    },
    {
     "data": {
      "text/html": [
       "<table>\n",
       "<caption>A tibble: 10 × 5</caption>\n",
       "<thead>\n",
       "\t<tr><th scope=col>country</th><th scope=col>happiness_score</th><th scope=col>GDP_per_capita</th><th scope=col>life_expectancy</th><th scope=col>freedom</th></tr>\n",
       "\t<tr><th scope=col>&lt;chr&gt;</th><th scope=col>&lt;dbl&gt;</th><th scope=col>&lt;dbl&gt;</th><th scope=col>&lt;dbl&gt;</th><th scope=col>&lt;dbl&gt;</th></tr>\n",
       "</thead>\n",
       "<tbody>\n",
       "\t<tr><td>Norway     </td><td>7.537</td><td>1.616463</td><td>0.7966665</td><td>0.6354226</td></tr>\n",
       "\t<tr><td>Denmark    </td><td>7.522</td><td>1.482383</td><td>0.7925655</td><td>0.6260067</td></tr>\n",
       "\t<tr><td>Iceland    </td><td>7.504</td><td>1.480633</td><td>0.8335521</td><td>0.6271626</td></tr>\n",
       "\t<tr><td>Switzerland</td><td>7.494</td><td>1.564980</td><td>0.8581313</td><td>0.6200706</td></tr>\n",
       "\t<tr><td>Finland    </td><td>7.469</td><td>1.443572</td><td>0.8091577</td><td>0.6179509</td></tr>\n",
       "\t<tr><td>Netherlands</td><td>7.377</td><td>1.503945</td><td>0.8106961</td><td>0.5853845</td></tr>\n",
       "\t<tr><td>Canada     </td><td>7.316</td><td>1.479204</td><td>0.8345577</td><td>0.6111009</td></tr>\n",
       "\t<tr><td>New Zealand</td><td>7.314</td><td>1.405706</td><td>0.8167597</td><td>0.6140621</td></tr>\n",
       "\t<tr><td>Sweden     </td><td>7.284</td><td>1.494387</td><td>0.8308752</td><td>0.6129241</td></tr>\n",
       "\t<tr><td>Australia  </td><td>7.284</td><td>1.484415</td><td>0.8438868</td><td>0.6016074</td></tr>\n",
       "</tbody>\n",
       "</table>\n"
      ],
      "text/latex": [
       "A tibble: 10 × 5\n",
       "\\begin{tabular}{r|lllll}\n",
       " country & happiness\\_score & GDP\\_per\\_capita & life\\_expectancy & freedom\\\\\n",
       " <chr> & <dbl> & <dbl> & <dbl> & <dbl>\\\\\n",
       "\\hline\n",
       "\t Norway      & 7.537 & 1.616463 & 0.7966665 & 0.6354226\\\\\n",
       "\t Denmark     & 7.522 & 1.482383 & 0.7925655 & 0.6260067\\\\\n",
       "\t Iceland     & 7.504 & 1.480633 & 0.8335521 & 0.6271626\\\\\n",
       "\t Switzerland & 7.494 & 1.564980 & 0.8581313 & 0.6200706\\\\\n",
       "\t Finland     & 7.469 & 1.443572 & 0.8091577 & 0.6179509\\\\\n",
       "\t Netherlands & 7.377 & 1.503945 & 0.8106961 & 0.5853845\\\\\n",
       "\t Canada      & 7.316 & 1.479204 & 0.8345577 & 0.6111009\\\\\n",
       "\t New Zealand & 7.314 & 1.405706 & 0.8167597 & 0.6140621\\\\\n",
       "\t Sweden      & 7.284 & 1.494387 & 0.8308752 & 0.6129241\\\\\n",
       "\t Australia   & 7.284 & 1.484415 & 0.8438868 & 0.6016074\\\\\n",
       "\\end{tabular}\n"
      ],
      "text/markdown": [
       "\n",
       "A tibble: 10 × 5\n",
       "\n",
       "| country &lt;chr&gt; | happiness_score &lt;dbl&gt; | GDP_per_capita &lt;dbl&gt; | life_expectancy &lt;dbl&gt; | freedom &lt;dbl&gt; |\n",
       "|---|---|---|---|---|\n",
       "| Norway      | 7.537 | 1.616463 | 0.7966665 | 0.6354226 |\n",
       "| Denmark     | 7.522 | 1.482383 | 0.7925655 | 0.6260067 |\n",
       "| Iceland     | 7.504 | 1.480633 | 0.8335521 | 0.6271626 |\n",
       "| Switzerland | 7.494 | 1.564980 | 0.8581313 | 0.6200706 |\n",
       "| Finland     | 7.469 | 1.443572 | 0.8091577 | 0.6179509 |\n",
       "| Netherlands | 7.377 | 1.503945 | 0.8106961 | 0.5853845 |\n",
       "| Canada      | 7.316 | 1.479204 | 0.8345577 | 0.6111009 |\n",
       "| New Zealand | 7.314 | 1.405706 | 0.8167597 | 0.6140621 |\n",
       "| Sweden      | 7.284 | 1.494387 | 0.8308752 | 0.6129241 |\n",
       "| Australia   | 7.284 | 1.484415 | 0.8438868 | 0.6016074 |\n",
       "\n"
      ],
      "text/plain": [
       "   country     happiness_score GDP_per_capita life_expectancy freedom  \n",
       "1  Norway      7.537           1.616463       0.7966665       0.6354226\n",
       "2  Denmark     7.522           1.482383       0.7925655       0.6260067\n",
       "3  Iceland     7.504           1.480633       0.8335521       0.6271626\n",
       "4  Switzerland 7.494           1.564980       0.8581313       0.6200706\n",
       "5  Finland     7.469           1.443572       0.8091577       0.6179509\n",
       "6  Netherlands 7.377           1.503945       0.8106961       0.5853845\n",
       "7  Canada      7.316           1.479204       0.8345577       0.6111009\n",
       "8  New Zealand 7.314           1.405706       0.8167597       0.6140621\n",
       "9  Sweden      7.284           1.494387       0.8308752       0.6129241\n",
       "10 Australia   7.284           1.484415       0.8438868       0.6016074"
      ]
     },
     "metadata": {},
     "output_type": "display_data"
    }
   ],
   "source": [
    "# Load happiness_report.csv using read_csv and name it: happiness_report\n",
    "\n",
    "# your code here\n",
    "happiness_report_path<-\"data/happiness_report.csv\"\n",
    "happiness_report<-read_csv(happiness_report_path)\n",
    "head(happiness_report, n = 10) # the n = 10 argument tells head to print 10 lines instead of the default 6"
   ]
  },
  {
   "cell_type": "code",
   "execution_count": 26,
   "metadata": {
    "deletable": false,
    "editable": false,
    "nbgrader": {
     "cell_type": "code",
     "checksum": "d32bbb42a4f5b79e536712bdbf0d1550",
     "grade": true,
     "grade_id": "cell-3488c6479abcf3d4",
     "locked": true,
     "points": 1,
     "schema_version": 3,
     "solution": false
    }
   },
   "outputs": [
    {
     "name": "stdout",
     "output_type": "stream",
     "text": [
      "[1] \"Success!\"\n"
     ]
    }
   ],
   "source": [
    "test_3.4()"
   ]
  },
  {
   "cell_type": "markdown",
   "metadata": {
    "deletable": false,
    "editable": false,
    "nbgrader": {
     "cell_type": "markdown",
     "checksum": "e00ac781734d9cd9be9fa70e463436e7",
     "grade": false,
     "grade_id": "cell-0e8db9c50093cc95",
     "locked": true,
     "schema_version": 3,
     "solution": false
    }
   },
   "source": [
    "**Question 3.5** Multiple Choice:\n",
    "<br> {points: 1}\n",
    "\n",
    "If Norway is in \"first place\" based on the happiness score, at what position is Canada?\n",
    "\n",
    "A. 3rd\n",
    "\n",
    "B. 15th\n",
    "\n",
    "C. 7th\n",
    "\n",
    "D. 28th\n",
    "\n",
    "*Hint: create a new cell and run `happiness_report`.* \n",
    "\n",
    "*Assign your answer to an object called `answer3.5`.* "
   ]
  },
  {
   "cell_type": "code",
   "execution_count": 27,
   "metadata": {
    "deletable": false,
    "nbgrader": {
     "cell_type": "code",
     "checksum": "8519181bac997e6ddb85206887e6744d",
     "grade": false,
     "grade_id": "cell-9528400a7684ff70",
     "locked": false,
     "schema_version": 3,
     "solution": true
    }
   },
   "outputs": [],
   "source": [
    "# Make sure the correct answer is an uppercase letter. \n",
    "# Surround your answer with quotation marks.\n",
    "# Replace the fail() with your answer. \n",
    "\n",
    "# your code here\n",
    "\n",
    "answer3.5<-\"C\""
   ]
  },
  {
   "cell_type": "code",
   "execution_count": 28,
   "metadata": {
    "deletable": false,
    "editable": false,
    "nbgrader": {
     "cell_type": "code",
     "checksum": "32109ca7d04aac17648a218d34a2b88b",
     "grade": true,
     "grade_id": "cell-3876f08146bbc9ff",
     "locked": true,
     "points": 1,
     "schema_version": 3,
     "solution": false
    }
   },
   "outputs": [
    {
     "name": "stdout",
     "output_type": "stream",
     "text": [
      "[1] \"Success!\"\n"
     ]
    }
   ],
   "source": [
    "test_3.5()"
   ]
  },
  {
   "cell_type": "markdown",
   "metadata": {
    "deletable": false,
    "editable": false,
    "nbgrader": {
     "cell_type": "markdown",
     "checksum": "4fcb152b56f7445c2ce3c3c485c42568",
     "grade": false,
     "grade_id": "cell-ef3eb28b4bd11d8e",
     "locked": true,
     "schema_version": 3,
     "solution": false
    }
   },
   "source": [
    "**Question 3.6.1**\n",
    "<br> {points: 1}\n",
    "\n",
    "For each question in the ranges 3.6.1 to 3.6.5 and 3.7.1 to 3.7.2, fill in the `...` in the cells given. Replace `fail()` with your finished answer. Refer to your table above and don't be afraid to ask for help. Remember you can use `?` help operator to access documentation for a function (e.g. `?read_csv`).\n",
    "\n",
    "Read in the file `happiness_report_semicolon.csv` using `read_delim` and name it `happy_semi_df`"
   ]
  },
  {
   "cell_type": "code",
   "execution_count": 29,
   "metadata": {
    "deletable": false,
    "nbgrader": {
     "cell_type": "code",
     "checksum": "d75cf7c0d02e684c86dc4c89b3177660",
     "grade": false,
     "grade_id": "cell-1a59d2fec3747ff0",
     "locked": false,
     "schema_version": 3,
     "solution": true
    }
   },
   "outputs": [
    {
     "name": "stderr",
     "output_type": "stream",
     "text": [
      "Parsed with column specification:\n",
      "cols(\n",
      "  country = \u001b[31mcol_character()\u001b[39m,\n",
      "  happiness_score = \u001b[32mcol_number()\u001b[39m,\n",
      "  GDP_per_capita = \u001b[31mcol_character()\u001b[39m,\n",
      "  life_expectancy = \u001b[31mcol_character()\u001b[39m,\n",
      "  freedom = \u001b[31mcol_character()\u001b[39m\n",
      ")\n"
     ]
    },
    {
     "data": {
      "text/html": [
       "<table>\n",
       "<caption>A tibble: 6 × 5</caption>\n",
       "<thead>\n",
       "\t<tr><th scope=col>country</th><th scope=col>happiness_score</th><th scope=col>GDP_per_capita</th><th scope=col>life_expectancy</th><th scope=col>freedom</th></tr>\n",
       "\t<tr><th scope=col>&lt;chr&gt;</th><th scope=col>&lt;dbl&gt;</th><th scope=col>&lt;chr&gt;</th><th scope=col>&lt;chr&gt;</th><th scope=col>&lt;chr&gt;</th></tr>\n",
       "</thead>\n",
       "<tbody>\n",
       "\t<tr><td>Norway     </td><td>7.537e+14</td><td>1,61646318435669</td><td>0,796666502952576</td><td>0,635422587394714</td></tr>\n",
       "\t<tr><td>Denmark    </td><td>7.522e+14</td><td>1,48238301277161</td><td>0,792565524578094</td><td>0,626006722450256</td></tr>\n",
       "\t<tr><td>Iceland    </td><td>7.504e+14</td><td>1,480633020401  </td><td>0,833552122116089</td><td>0,627162635326385</td></tr>\n",
       "\t<tr><td>Switzerland</td><td>7.494e+14</td><td>1,56497955322266</td><td>0,858131289482117</td><td>0,620070576667786</td></tr>\n",
       "\t<tr><td>Finland    </td><td>7.469e+13</td><td>1,44357192516327</td><td>0,80915766954422 </td><td>0,617950856685638</td></tr>\n",
       "\t<tr><td>Netherlands</td><td>7.377e+13</td><td>1,50394463539124</td><td>0,810696125030518</td><td>0,585384488105774</td></tr>\n",
       "</tbody>\n",
       "</table>\n"
      ],
      "text/latex": [
       "A tibble: 6 × 5\n",
       "\\begin{tabular}{r|lllll}\n",
       " country & happiness\\_score & GDP\\_per\\_capita & life\\_expectancy & freedom\\\\\n",
       " <chr> & <dbl> & <chr> & <chr> & <chr>\\\\\n",
       "\\hline\n",
       "\t Norway      & 7.537e+14 & 1,61646318435669 & 0,796666502952576 & 0,635422587394714\\\\\n",
       "\t Denmark     & 7.522e+14 & 1,48238301277161 & 0,792565524578094 & 0,626006722450256\\\\\n",
       "\t Iceland     & 7.504e+14 & 1,480633020401   & 0,833552122116089 & 0,627162635326385\\\\\n",
       "\t Switzerland & 7.494e+14 & 1,56497955322266 & 0,858131289482117 & 0,620070576667786\\\\\n",
       "\t Finland     & 7.469e+13 & 1,44357192516327 & 0,80915766954422  & 0,617950856685638\\\\\n",
       "\t Netherlands & 7.377e+13 & 1,50394463539124 & 0,810696125030518 & 0,585384488105774\\\\\n",
       "\\end{tabular}\n"
      ],
      "text/markdown": [
       "\n",
       "A tibble: 6 × 5\n",
       "\n",
       "| country &lt;chr&gt; | happiness_score &lt;dbl&gt; | GDP_per_capita &lt;chr&gt; | life_expectancy &lt;chr&gt; | freedom &lt;chr&gt; |\n",
       "|---|---|---|---|---|\n",
       "| Norway      | 7.537e+14 | 1,61646318435669 | 0,796666502952576 | 0,635422587394714 |\n",
       "| Denmark     | 7.522e+14 | 1,48238301277161 | 0,792565524578094 | 0,626006722450256 |\n",
       "| Iceland     | 7.504e+14 | 1,480633020401   | 0,833552122116089 | 0,627162635326385 |\n",
       "| Switzerland | 7.494e+14 | 1,56497955322266 | 0,858131289482117 | 0,620070576667786 |\n",
       "| Finland     | 7.469e+13 | 1,44357192516327 | 0,80915766954422  | 0,617950856685638 |\n",
       "| Netherlands | 7.377e+13 | 1,50394463539124 | 0,810696125030518 | 0,585384488105774 |\n",
       "\n"
      ],
      "text/plain": [
       "  country     happiness_score GDP_per_capita   life_expectancy  \n",
       "1 Norway      7.537e+14       1,61646318435669 0,796666502952576\n",
       "2 Denmark     7.522e+14       1,48238301277161 0,792565524578094\n",
       "3 Iceland     7.504e+14       1,480633020401   0,833552122116089\n",
       "4 Switzerland 7.494e+14       1,56497955322266 0,858131289482117\n",
       "5 Finland     7.469e+13       1,44357192516327 0,80915766954422 \n",
       "6 Netherlands 7.377e+13       1,50394463539124 0,810696125030518\n",
       "  freedom          \n",
       "1 0,635422587394714\n",
       "2 0,626006722450256\n",
       "3 0,627162635326385\n",
       "4 0,620070576667786\n",
       "5 0,617950856685638\n",
       "6 0,585384488105774"
      ]
     },
     "metadata": {},
     "output_type": "display_data"
    }
   ],
   "source": [
    "happy_semi_df <- read_delim(file = \"data/happiness_report_semicolon.csv\", delim = \";\")\n",
    "\n",
    "# your code here\n",
    "\n",
    "head(happy_semi_df)"
   ]
  },
  {
   "cell_type": "code",
   "execution_count": 30,
   "metadata": {
    "deletable": false,
    "editable": false,
    "nbgrader": {
     "cell_type": "code",
     "checksum": "2acf3cc56ad5d7e2f82b978bd64299ca",
     "grade": true,
     "grade_id": "cell-ae36542297ad995b",
     "locked": true,
     "points": 1,
     "schema_version": 3,
     "solution": false
    }
   },
   "outputs": [
    {
     "name": "stdout",
     "output_type": "stream",
     "text": [
      "[1] \"Success!\"\n"
     ]
    }
   ],
   "source": [
    "test_3.6.1()"
   ]
  },
  {
   "cell_type": "markdown",
   "metadata": {
    "deletable": false,
    "editable": false,
    "nbgrader": {
     "cell_type": "markdown",
     "checksum": "8d4bce7abd53483775e8c931f53c3f4c",
     "grade": false,
     "grade_id": "cell-f396ee421ad33cb4",
     "locked": true,
     "schema_version": 3,
     "solution": false,
     "task": false
    }
   },
   "source": [
    "Take a look at the *data type* in the `GDP_per_capita`, `life_expectancy`, and `freedom` columns. It says `<chr>`; that stands for \"character\" or text data -- not numeric as we would hope! The `happiness_score` column has `<dbl>` (stands for \"double-precision floating point number\", a numeric type), which is correct. We'd like the other columns to have this type as well...what happened?\n",
    "\n",
    "If we look closer, we'll see that the decimal point in this data was a *comma* `,` rather than a period (common in some European countries).\n",
    "\n",
    "Instead of `read_delim`, for this data we'll need another function that can handle commas as decimal points."
   ]
  },
  {
   "cell_type": "markdown",
   "metadata": {
    "deletable": false,
    "editable": false,
    "nbgrader": {
     "cell_type": "markdown",
     "checksum": "e8af83cc7bf185d8f28b5152448951a0",
     "grade": false,
     "grade_id": "cell-2d6d41a3d7f0e440",
     "locked": true,
     "schema_version": 3,
     "solution": false
    }
   },
   "source": [
    "**Question 3.6.2**\n",
    "<br> {points: 1}\n",
    "\n",
    "Read in the file `happiness_report_semicolon.csv` again, but this time use a different `read_*` function than `read_delim` (but that also works). Remember you can use `?` help operator to access documentation for a function (e.g. `?read_csv`). Name it `happy_semi_df2`."
   ]
  },
  {
   "cell_type": "code",
   "execution_count": 31,
   "metadata": {
    "deletable": false,
    "nbgrader": {
     "cell_type": "code",
     "checksum": "1d5fcba41008a93e5c8f4890cce02fd1",
     "grade": false,
     "grade_id": "cell-dfa890bab0fa0ec8",
     "locked": false,
     "schema_version": 3,
     "solution": true
    }
   },
   "outputs": [
    {
     "name": "stderr",
     "output_type": "stream",
     "text": [
      "Using ',' as decimal and '.' as grouping mark. Use read_delim() for more control.\n",
      "Parsed with column specification:\n",
      "cols(\n",
      "  country = \u001b[31mcol_character()\u001b[39m,\n",
      "  happiness_score = \u001b[32mcol_double()\u001b[39m,\n",
      "  GDP_per_capita = \u001b[32mcol_double()\u001b[39m,\n",
      "  life_expectancy = \u001b[32mcol_double()\u001b[39m,\n",
      "  freedom = \u001b[32mcol_double()\u001b[39m\n",
      ")\n"
     ]
    },
    {
     "data": {
      "text/html": [
       "<table>\n",
       "<caption>A tibble: 6 × 5</caption>\n",
       "<thead>\n",
       "\t<tr><th scope=col>country</th><th scope=col>happiness_score</th><th scope=col>GDP_per_capita</th><th scope=col>life_expectancy</th><th scope=col>freedom</th></tr>\n",
       "\t<tr><th scope=col>&lt;chr&gt;</th><th scope=col>&lt;dbl&gt;</th><th scope=col>&lt;dbl&gt;</th><th scope=col>&lt;dbl&gt;</th><th scope=col>&lt;dbl&gt;</th></tr>\n",
       "</thead>\n",
       "<tbody>\n",
       "\t<tr><td>Norway     </td><td>7.537</td><td>1.616463</td><td>0.7966665</td><td>0.6354226</td></tr>\n",
       "\t<tr><td>Denmark    </td><td>7.522</td><td>1.482383</td><td>0.7925655</td><td>0.6260067</td></tr>\n",
       "\t<tr><td>Iceland    </td><td>7.504</td><td>1.480633</td><td>0.8335521</td><td>0.6271626</td></tr>\n",
       "\t<tr><td>Switzerland</td><td>7.494</td><td>1.564980</td><td>0.8581313</td><td>0.6200706</td></tr>\n",
       "\t<tr><td>Finland    </td><td>7.469</td><td>1.443572</td><td>0.8091577</td><td>0.6179509</td></tr>\n",
       "\t<tr><td>Netherlands</td><td>7.377</td><td>1.503945</td><td>0.8106961</td><td>0.5853845</td></tr>\n",
       "</tbody>\n",
       "</table>\n"
      ],
      "text/latex": [
       "A tibble: 6 × 5\n",
       "\\begin{tabular}{r|lllll}\n",
       " country & happiness\\_score & GDP\\_per\\_capita & life\\_expectancy & freedom\\\\\n",
       " <chr> & <dbl> & <dbl> & <dbl> & <dbl>\\\\\n",
       "\\hline\n",
       "\t Norway      & 7.537 & 1.616463 & 0.7966665 & 0.6354226\\\\\n",
       "\t Denmark     & 7.522 & 1.482383 & 0.7925655 & 0.6260067\\\\\n",
       "\t Iceland     & 7.504 & 1.480633 & 0.8335521 & 0.6271626\\\\\n",
       "\t Switzerland & 7.494 & 1.564980 & 0.8581313 & 0.6200706\\\\\n",
       "\t Finland     & 7.469 & 1.443572 & 0.8091577 & 0.6179509\\\\\n",
       "\t Netherlands & 7.377 & 1.503945 & 0.8106961 & 0.5853845\\\\\n",
       "\\end{tabular}\n"
      ],
      "text/markdown": [
       "\n",
       "A tibble: 6 × 5\n",
       "\n",
       "| country &lt;chr&gt; | happiness_score &lt;dbl&gt; | GDP_per_capita &lt;dbl&gt; | life_expectancy &lt;dbl&gt; | freedom &lt;dbl&gt; |\n",
       "|---|---|---|---|---|\n",
       "| Norway      | 7.537 | 1.616463 | 0.7966665 | 0.6354226 |\n",
       "| Denmark     | 7.522 | 1.482383 | 0.7925655 | 0.6260067 |\n",
       "| Iceland     | 7.504 | 1.480633 | 0.8335521 | 0.6271626 |\n",
       "| Switzerland | 7.494 | 1.564980 | 0.8581313 | 0.6200706 |\n",
       "| Finland     | 7.469 | 1.443572 | 0.8091577 | 0.6179509 |\n",
       "| Netherlands | 7.377 | 1.503945 | 0.8106961 | 0.5853845 |\n",
       "\n"
      ],
      "text/plain": [
       "  country     happiness_score GDP_per_capita life_expectancy freedom  \n",
       "1 Norway      7.537           1.616463       0.7966665       0.6354226\n",
       "2 Denmark     7.522           1.482383       0.7925655       0.6260067\n",
       "3 Iceland     7.504           1.480633       0.8335521       0.6271626\n",
       "4 Switzerland 7.494           1.564980       0.8581313       0.6200706\n",
       "5 Finland     7.469           1.443572       0.8091577       0.6179509\n",
       "6 Netherlands 7.377           1.503945       0.8106961       0.5853845"
      ]
     },
     "metadata": {},
     "output_type": "display_data"
    }
   ],
   "source": [
    "happy_semi_df2 <- read_csv2(\"data/happiness_report_semicolon.csv\")\n",
    "\n",
    "# your code here\n",
    "\n",
    "head(happy_semi_df2)"
   ]
  },
  {
   "cell_type": "code",
   "execution_count": 32,
   "metadata": {
    "deletable": false,
    "editable": false,
    "nbgrader": {
     "cell_type": "code",
     "checksum": "6d56ff40177debd8397843f6855a9593",
     "grade": true,
     "grade_id": "cell-e99b9418831c851b",
     "locked": true,
     "points": 1,
     "schema_version": 3,
     "solution": false
    }
   },
   "outputs": [
    {
     "name": "stdout",
     "output_type": "stream",
     "text": [
      "[1] \"Success!\"\n"
     ]
    }
   ],
   "source": [
    "test_3.6.2()"
   ]
  },
  {
   "cell_type": "markdown",
   "metadata": {
    "deletable": false,
    "editable": false,
    "nbgrader": {
     "cell_type": "markdown",
     "checksum": "5d4c7243657fe1d15afd2278a8b075be",
     "grade": false,
     "grade_id": "cell-f6fd13c112fece7a",
     "locked": true,
     "schema_version": 3,
     "solution": false
    }
   },
   "source": [
    "**Question 3.6.3**\n",
    "<br> {points: 1}\n",
    "\n",
    "Read in the file `happiness_report.tsv` using the appropriate `read_*` function and name it `happy_tsv`."
   ]
  },
  {
   "cell_type": "code",
   "execution_count": 33,
   "metadata": {
    "deletable": false,
    "nbgrader": {
     "cell_type": "code",
     "checksum": "c8de3fd680cdb30467b1288ca28cfef1",
     "grade": false,
     "grade_id": "cell-e25b1333a4928479",
     "locked": false,
     "schema_version": 3,
     "solution": true
    }
   },
   "outputs": [
    {
     "name": "stderr",
     "output_type": "stream",
     "text": [
      "Parsed with column specification:\n",
      "cols(\n",
      "  country = \u001b[31mcol_character()\u001b[39m,\n",
      "  happiness_score = \u001b[32mcol_double()\u001b[39m,\n",
      "  GDP_per_capita = \u001b[32mcol_double()\u001b[39m,\n",
      "  life_expectancy = \u001b[32mcol_double()\u001b[39m,\n",
      "  freedom = \u001b[32mcol_double()\u001b[39m\n",
      ")\n"
     ]
    },
    {
     "data": {
      "text/html": [
       "<table>\n",
       "<caption>A tibble: 6 × 5</caption>\n",
       "<thead>\n",
       "\t<tr><th scope=col>country</th><th scope=col>happiness_score</th><th scope=col>GDP_per_capita</th><th scope=col>life_expectancy</th><th scope=col>freedom</th></tr>\n",
       "\t<tr><th scope=col>&lt;chr&gt;</th><th scope=col>&lt;dbl&gt;</th><th scope=col>&lt;dbl&gt;</th><th scope=col>&lt;dbl&gt;</th><th scope=col>&lt;dbl&gt;</th></tr>\n",
       "</thead>\n",
       "<tbody>\n",
       "\t<tr><td>Norway     </td><td>7.537</td><td>1.616463</td><td>0.7966665</td><td>0.6354226</td></tr>\n",
       "\t<tr><td>Denmark    </td><td>7.522</td><td>1.482383</td><td>0.7925655</td><td>0.6260067</td></tr>\n",
       "\t<tr><td>Iceland    </td><td>7.504</td><td>1.480633</td><td>0.8335521</td><td>0.6271626</td></tr>\n",
       "\t<tr><td>Switzerland</td><td>7.494</td><td>1.564980</td><td>0.8581313</td><td>0.6200706</td></tr>\n",
       "\t<tr><td>Finland    </td><td>7.469</td><td>1.443572</td><td>0.8091577</td><td>0.6179509</td></tr>\n",
       "\t<tr><td>Netherlands</td><td>7.377</td><td>1.503945</td><td>0.8106961</td><td>0.5853845</td></tr>\n",
       "</tbody>\n",
       "</table>\n"
      ],
      "text/latex": [
       "A tibble: 6 × 5\n",
       "\\begin{tabular}{r|lllll}\n",
       " country & happiness\\_score & GDP\\_per\\_capita & life\\_expectancy & freedom\\\\\n",
       " <chr> & <dbl> & <dbl> & <dbl> & <dbl>\\\\\n",
       "\\hline\n",
       "\t Norway      & 7.537 & 1.616463 & 0.7966665 & 0.6354226\\\\\n",
       "\t Denmark     & 7.522 & 1.482383 & 0.7925655 & 0.6260067\\\\\n",
       "\t Iceland     & 7.504 & 1.480633 & 0.8335521 & 0.6271626\\\\\n",
       "\t Switzerland & 7.494 & 1.564980 & 0.8581313 & 0.6200706\\\\\n",
       "\t Finland     & 7.469 & 1.443572 & 0.8091577 & 0.6179509\\\\\n",
       "\t Netherlands & 7.377 & 1.503945 & 0.8106961 & 0.5853845\\\\\n",
       "\\end{tabular}\n"
      ],
      "text/markdown": [
       "\n",
       "A tibble: 6 × 5\n",
       "\n",
       "| country &lt;chr&gt; | happiness_score &lt;dbl&gt; | GDP_per_capita &lt;dbl&gt; | life_expectancy &lt;dbl&gt; | freedom &lt;dbl&gt; |\n",
       "|---|---|---|---|---|\n",
       "| Norway      | 7.537 | 1.616463 | 0.7966665 | 0.6354226 |\n",
       "| Denmark     | 7.522 | 1.482383 | 0.7925655 | 0.6260067 |\n",
       "| Iceland     | 7.504 | 1.480633 | 0.8335521 | 0.6271626 |\n",
       "| Switzerland | 7.494 | 1.564980 | 0.8581313 | 0.6200706 |\n",
       "| Finland     | 7.469 | 1.443572 | 0.8091577 | 0.6179509 |\n",
       "| Netherlands | 7.377 | 1.503945 | 0.8106961 | 0.5853845 |\n",
       "\n"
      ],
      "text/plain": [
       "  country     happiness_score GDP_per_capita life_expectancy freedom  \n",
       "1 Norway      7.537           1.616463       0.7966665       0.6354226\n",
       "2 Denmark     7.522           1.482383       0.7925655       0.6260067\n",
       "3 Iceland     7.504           1.480633       0.8335521       0.6271626\n",
       "4 Switzerland 7.494           1.564980       0.8581313       0.6200706\n",
       "5 Finland     7.469           1.443572       0.8091577       0.6179509\n",
       "6 Netherlands 7.377           1.503945       0.8106961       0.5853845"
      ]
     },
     "metadata": {},
     "output_type": "display_data"
    }
   ],
   "source": [
    "happy_tsv <- read_tsv(file = \"data/happiness_report.tsv\")\n",
    "\n",
    "# your code here\n",
    "\n",
    "head(happy_tsv)"
   ]
  },
  {
   "cell_type": "code",
   "execution_count": 34,
   "metadata": {
    "deletable": false,
    "editable": false,
    "nbgrader": {
     "cell_type": "code",
     "checksum": "2cc7e91a81e3dc5408e99920b52cfad0",
     "grade": true,
     "grade_id": "cell-4943aa347e83b909",
     "locked": true,
     "points": 1,
     "schema_version": 3,
     "solution": false
    }
   },
   "outputs": [
    {
     "name": "stdout",
     "output_type": "stream",
     "text": [
      "[1] \"Success!\"\n"
     ]
    }
   ],
   "source": [
    "test_3.6.3()"
   ]
  },
  {
   "cell_type": "markdown",
   "metadata": {
    "deletable": false,
    "editable": false,
    "nbgrader": {
     "cell_type": "markdown",
     "checksum": "fb264f7b4650e7275fe9e368219d019f",
     "grade": false,
     "grade_id": "cell-4bdb6b7ea045900b",
     "locked": true,
     "schema_version": 3,
     "solution": false
    }
   },
   "source": [
    "**Question 3.6.4**\n",
    "<br> {points: 1}\n",
    "\n",
    "Read in the file `happiness_report_metadata.csv` using the appropriate `read_*` function and name it `happy_metadata`."
   ]
  },
  {
   "cell_type": "code",
   "execution_count": 35,
   "metadata": {
    "deletable": false,
    "nbgrader": {
     "cell_type": "code",
     "checksum": "0a2fd9084556e7aae2bf205b38b563d7",
     "grade": false,
     "grade_id": "cell-87cd2b408dab554c",
     "locked": false,
     "schema_version": 3,
     "solution": true
    }
   },
   "outputs": [
    {
     "name": "stderr",
     "output_type": "stream",
     "text": [
      "Parsed with column specification:\n",
      "cols(\n",
      "  country = \u001b[31mcol_character()\u001b[39m,\n",
      "  happiness_score = \u001b[32mcol_double()\u001b[39m,\n",
      "  GDP_per_capita = \u001b[32mcol_double()\u001b[39m,\n",
      "  life_expectancy = \u001b[32mcol_double()\u001b[39m,\n",
      "  freedom = \u001b[32mcol_double()\u001b[39m\n",
      ")\n"
     ]
    },
    {
     "data": {
      "text/html": [
       "<table>\n",
       "<caption>A tibble: 6 × 5</caption>\n",
       "<thead>\n",
       "\t<tr><th scope=col>country</th><th scope=col>happiness_score</th><th scope=col>GDP_per_capita</th><th scope=col>life_expectancy</th><th scope=col>freedom</th></tr>\n",
       "\t<tr><th scope=col>&lt;chr&gt;</th><th scope=col>&lt;dbl&gt;</th><th scope=col>&lt;dbl&gt;</th><th scope=col>&lt;dbl&gt;</th><th scope=col>&lt;dbl&gt;</th></tr>\n",
       "</thead>\n",
       "<tbody>\n",
       "\t<tr><td>Norway     </td><td>7.537</td><td>1.616463</td><td>0.7966665</td><td>0.6354226</td></tr>\n",
       "\t<tr><td>Denmark    </td><td>7.522</td><td>1.482383</td><td>0.7925655</td><td>0.6260067</td></tr>\n",
       "\t<tr><td>Iceland    </td><td>7.504</td><td>1.480633</td><td>0.8335521</td><td>0.6271626</td></tr>\n",
       "\t<tr><td>Switzerland</td><td>7.494</td><td>1.564980</td><td>0.8581313</td><td>0.6200706</td></tr>\n",
       "\t<tr><td>Finland    </td><td>7.469</td><td>1.443572</td><td>0.8091577</td><td>0.6179509</td></tr>\n",
       "\t<tr><td>Netherlands</td><td>7.377</td><td>1.503945</td><td>0.8106961</td><td>0.5853845</td></tr>\n",
       "</tbody>\n",
       "</table>\n"
      ],
      "text/latex": [
       "A tibble: 6 × 5\n",
       "\\begin{tabular}{r|lllll}\n",
       " country & happiness\\_score & GDP\\_per\\_capita & life\\_expectancy & freedom\\\\\n",
       " <chr> & <dbl> & <dbl> & <dbl> & <dbl>\\\\\n",
       "\\hline\n",
       "\t Norway      & 7.537 & 1.616463 & 0.7966665 & 0.6354226\\\\\n",
       "\t Denmark     & 7.522 & 1.482383 & 0.7925655 & 0.6260067\\\\\n",
       "\t Iceland     & 7.504 & 1.480633 & 0.8335521 & 0.6271626\\\\\n",
       "\t Switzerland & 7.494 & 1.564980 & 0.8581313 & 0.6200706\\\\\n",
       "\t Finland     & 7.469 & 1.443572 & 0.8091577 & 0.6179509\\\\\n",
       "\t Netherlands & 7.377 & 1.503945 & 0.8106961 & 0.5853845\\\\\n",
       "\\end{tabular}\n"
      ],
      "text/markdown": [
       "\n",
       "A tibble: 6 × 5\n",
       "\n",
       "| country &lt;chr&gt; | happiness_score &lt;dbl&gt; | GDP_per_capita &lt;dbl&gt; | life_expectancy &lt;dbl&gt; | freedom &lt;dbl&gt; |\n",
       "|---|---|---|---|---|\n",
       "| Norway      | 7.537 | 1.616463 | 0.7966665 | 0.6354226 |\n",
       "| Denmark     | 7.522 | 1.482383 | 0.7925655 | 0.6260067 |\n",
       "| Iceland     | 7.504 | 1.480633 | 0.8335521 | 0.6271626 |\n",
       "| Switzerland | 7.494 | 1.564980 | 0.8581313 | 0.6200706 |\n",
       "| Finland     | 7.469 | 1.443572 | 0.8091577 | 0.6179509 |\n",
       "| Netherlands | 7.377 | 1.503945 | 0.8106961 | 0.5853845 |\n",
       "\n"
      ],
      "text/plain": [
       "  country     happiness_score GDP_per_capita life_expectancy freedom  \n",
       "1 Norway      7.537           1.616463       0.7966665       0.6354226\n",
       "2 Denmark     7.522           1.482383       0.7925655       0.6260067\n",
       "3 Iceland     7.504           1.480633       0.8335521       0.6271626\n",
       "4 Switzerland 7.494           1.564980       0.8581313       0.6200706\n",
       "5 Finland     7.469           1.443572       0.8091577       0.6179509\n",
       "6 Netherlands 7.377           1.503945       0.8106961       0.5853845"
      ]
     },
     "metadata": {},
     "output_type": "display_data"
    }
   ],
   "source": [
    "happy_metadata <- read_csv(\"data/happiness_report_metadata.csv\", skip = 3)\n",
    "\n",
    "# your code here\n",
    "\n",
    "head(happy_metadata)"
   ]
  },
  {
   "cell_type": "code",
   "execution_count": 36,
   "metadata": {
    "deletable": false,
    "editable": false,
    "nbgrader": {
     "cell_type": "code",
     "checksum": "2a8fd1056231973670c48f18b5f03e69",
     "grade": true,
     "grade_id": "cell-e1e499a580fd7227",
     "locked": true,
     "points": 1,
     "schema_version": 3,
     "solution": false
    }
   },
   "outputs": [
    {
     "name": "stdout",
     "output_type": "stream",
     "text": [
      "[1] \"Success!\"\n"
     ]
    }
   ],
   "source": [
    "test_3.6.4()"
   ]
  },
  {
   "cell_type": "markdown",
   "metadata": {
    "deletable": false,
    "editable": false,
    "nbgrader": {
     "cell_type": "markdown",
     "checksum": "b1955b3aa1e61a609afe4b4454762a71",
     "grade": false,
     "grade_id": "cell-444f7f3a1d7a98d7",
     "locked": true,
     "schema_version": 3,
     "solution": false,
     "task": false
    }
   },
   "source": [
    "**Question 3.6.5**\n",
    "<br> {points: 1}\n",
    "\n",
    "Read in the file `happiness_report_no_header.csv` using the appropriate `read_*` function and name it `happy_header`. \n",
    "Note: If the argument `col_names` is a character vector, the values will be used as the names of the columns."
   ]
  },
  {
   "cell_type": "code",
   "execution_count": 37,
   "metadata": {
    "deletable": false,
    "nbgrader": {
     "cell_type": "code",
     "checksum": "01481cf9f11219e074dcbd7f7d9b7118",
     "grade": false,
     "grade_id": "cell-68d0893af7818c87",
     "locked": false,
     "schema_version": 3,
     "solution": true
    }
   },
   "outputs": [
    {
     "name": "stderr",
     "output_type": "stream",
     "text": [
      "Parsed with column specification:\n",
      "cols(\n",
      "  country = \u001b[31mcol_character()\u001b[39m,\n",
      "  happiness_score = \u001b[32mcol_double()\u001b[39m,\n",
      "  GDP_per_capita = \u001b[32mcol_double()\u001b[39m,\n",
      "  life_expectancy = \u001b[32mcol_double()\u001b[39m,\n",
      "  freedom = \u001b[32mcol_double()\u001b[39m\n",
      ")\n"
     ]
    },
    {
     "data": {
      "text/html": [
       "<table>\n",
       "<caption>A tibble: 6 × 5</caption>\n",
       "<thead>\n",
       "\t<tr><th scope=col>country</th><th scope=col>happiness_score</th><th scope=col>GDP_per_capita</th><th scope=col>life_expectancy</th><th scope=col>freedom</th></tr>\n",
       "\t<tr><th scope=col>&lt;chr&gt;</th><th scope=col>&lt;dbl&gt;</th><th scope=col>&lt;dbl&gt;</th><th scope=col>&lt;dbl&gt;</th><th scope=col>&lt;dbl&gt;</th></tr>\n",
       "</thead>\n",
       "<tbody>\n",
       "\t<tr><td>Norway     </td><td>7.537</td><td>1.616463</td><td>0.7966665</td><td>0.6354226</td></tr>\n",
       "\t<tr><td>Denmark    </td><td>7.522</td><td>1.482383</td><td>0.7925655</td><td>0.6260067</td></tr>\n",
       "\t<tr><td>Iceland    </td><td>7.504</td><td>1.480633</td><td>0.8335521</td><td>0.6271626</td></tr>\n",
       "\t<tr><td>Switzerland</td><td>7.494</td><td>1.564980</td><td>0.8581313</td><td>0.6200706</td></tr>\n",
       "\t<tr><td>Finland    </td><td>7.469</td><td>1.443572</td><td>0.8091577</td><td>0.6179509</td></tr>\n",
       "\t<tr><td>Netherlands</td><td>7.377</td><td>1.503945</td><td>0.8106961</td><td>0.5853845</td></tr>\n",
       "</tbody>\n",
       "</table>\n"
      ],
      "text/latex": [
       "A tibble: 6 × 5\n",
       "\\begin{tabular}{r|lllll}\n",
       " country & happiness\\_score & GDP\\_per\\_capita & life\\_expectancy & freedom\\\\\n",
       " <chr> & <dbl> & <dbl> & <dbl> & <dbl>\\\\\n",
       "\\hline\n",
       "\t Norway      & 7.537 & 1.616463 & 0.7966665 & 0.6354226\\\\\n",
       "\t Denmark     & 7.522 & 1.482383 & 0.7925655 & 0.6260067\\\\\n",
       "\t Iceland     & 7.504 & 1.480633 & 0.8335521 & 0.6271626\\\\\n",
       "\t Switzerland & 7.494 & 1.564980 & 0.8581313 & 0.6200706\\\\\n",
       "\t Finland     & 7.469 & 1.443572 & 0.8091577 & 0.6179509\\\\\n",
       "\t Netherlands & 7.377 & 1.503945 & 0.8106961 & 0.5853845\\\\\n",
       "\\end{tabular}\n"
      ],
      "text/markdown": [
       "\n",
       "A tibble: 6 × 5\n",
       "\n",
       "| country &lt;chr&gt; | happiness_score &lt;dbl&gt; | GDP_per_capita &lt;dbl&gt; | life_expectancy &lt;dbl&gt; | freedom &lt;dbl&gt; |\n",
       "|---|---|---|---|---|\n",
       "| Norway      | 7.537 | 1.616463 | 0.7966665 | 0.6354226 |\n",
       "| Denmark     | 7.522 | 1.482383 | 0.7925655 | 0.6260067 |\n",
       "| Iceland     | 7.504 | 1.480633 | 0.8335521 | 0.6271626 |\n",
       "| Switzerland | 7.494 | 1.564980 | 0.8581313 | 0.6200706 |\n",
       "| Finland     | 7.469 | 1.443572 | 0.8091577 | 0.6179509 |\n",
       "| Netherlands | 7.377 | 1.503945 | 0.8106961 | 0.5853845 |\n",
       "\n"
      ],
      "text/plain": [
       "  country     happiness_score GDP_per_capita life_expectancy freedom  \n",
       "1 Norway      7.537           1.616463       0.7966665       0.6354226\n",
       "2 Denmark     7.522           1.482383       0.7925655       0.6260067\n",
       "3 Iceland     7.504           1.480633       0.8335521       0.6271626\n",
       "4 Switzerland 7.494           1.564980       0.8581313       0.6200706\n",
       "5 Finland     7.469           1.443572       0.8091577       0.6179509\n",
       "6 Netherlands 7.377           1.503945       0.8106961       0.5853845"
      ]
     },
     "metadata": {},
     "output_type": "display_data"
    }
   ],
   "source": [
    "happy_header <- read_csv(\"data/happiness_report_no_header.csv\", col_names = c(\"country\", \"happiness_score\", \"GDP_per_capita\", \"life_expectancy\", \"freedom\"))\n",
    "\n",
    "# your code here\n",
    "\n",
    "head(happy_header)"
   ]
  },
  {
   "cell_type": "code",
   "execution_count": 38,
   "metadata": {
    "deletable": false,
    "editable": false,
    "nbgrader": {
     "cell_type": "code",
     "checksum": "fad84075341b2b04690d50f41fa86f55",
     "grade": true,
     "grade_id": "cell-abb25e9b6b619bf1",
     "locked": true,
     "points": 1,
     "schema_version": 3,
     "solution": false
    }
   },
   "outputs": [
    {
     "name": "stdout",
     "output_type": "stream",
     "text": [
      "[1] \"Success!\"\n"
     ]
    }
   ],
   "source": [
    "test_3.6.5()"
   ]
  },
  {
   "cell_type": "markdown",
   "metadata": {
    "deletable": false,
    "editable": false,
    "nbgrader": {
     "cell_type": "markdown",
     "checksum": "fd6eeb4ec9138526b6e72255cb1f40d0",
     "grade": false,
     "grade_id": "cell-47ac997d068d7480",
     "locked": true,
     "schema_version": 3,
     "solution": false,
     "task": false
    }
   },
   "source": [
    "**Question 3.7**\n",
    "<br> {points: 1}\n",
    "\n",
    "Earlier when you tried to open `happiness_report.xlsx` in Jupyter, you received an error of the form `Error! /... is not UTF-8 encoded`. This happens because Excel spreadsheet files are not stored in plain text, and so Jupyter can't open them with its default text viewing program. This makes them a bit harder to inspect before trying to open in `R`.\n",
    "\n",
    "To inspect the data, we will just try to load `happiness_report.xlsx` using the most basic form of the appropriate `read_*` function, passing only the filename as an argument. Assign the output to a variable called `happy_xlsx`.\n",
    "\n",
    "*Note: you can also try to examine `.xlsx` files with Microsoft Excel or Google Sheets before loading into R.*"
   ]
  },
  {
   "cell_type": "code",
   "execution_count": 39,
   "metadata": {
    "deletable": false,
    "nbgrader": {
     "cell_type": "code",
     "checksum": "80787a0e1ea8494869cd0ae6b0ef8f47",
     "grade": false,
     "grade_id": "cell-6c241a49bbfc7b35",
     "locked": false,
     "schema_version": 3,
     "solution": true,
     "task": false
    }
   },
   "outputs": [
    {
     "data": {
      "text/html": [
       "<table>\n",
       "<caption>A tibble: 6 × 5</caption>\n",
       "<thead>\n",
       "\t<tr><th scope=col>country</th><th scope=col>happiness_score</th><th scope=col>GDP_per_capita</th><th scope=col>life_expectancy</th><th scope=col>freedom</th></tr>\n",
       "\t<tr><th scope=col>&lt;chr&gt;</th><th scope=col>&lt;dbl&gt;</th><th scope=col>&lt;dbl&gt;</th><th scope=col>&lt;dbl&gt;</th><th scope=col>&lt;dbl&gt;</th></tr>\n",
       "</thead>\n",
       "<tbody>\n",
       "\t<tr><td>Norway     </td><td>7.537</td><td>1.616463</td><td>0.7966665</td><td>0.6354226</td></tr>\n",
       "\t<tr><td>Denmark    </td><td>7.522</td><td>1.482383</td><td>0.7925655</td><td>0.6260067</td></tr>\n",
       "\t<tr><td>Iceland    </td><td>7.504</td><td>1.480633</td><td>0.8335521</td><td>0.6271626</td></tr>\n",
       "\t<tr><td>Switzerland</td><td>7.494</td><td>1.564980</td><td>0.8581313</td><td>0.6200706</td></tr>\n",
       "\t<tr><td>Finland    </td><td>7.469</td><td>1.443572</td><td>0.8091577</td><td>0.6179509</td></tr>\n",
       "\t<tr><td>Netherlands</td><td>7.377</td><td>1.503945</td><td>0.8106961</td><td>0.5853845</td></tr>\n",
       "</tbody>\n",
       "</table>\n"
      ],
      "text/latex": [
       "A tibble: 6 × 5\n",
       "\\begin{tabular}{r|lllll}\n",
       " country & happiness\\_score & GDP\\_per\\_capita & life\\_expectancy & freedom\\\\\n",
       " <chr> & <dbl> & <dbl> & <dbl> & <dbl>\\\\\n",
       "\\hline\n",
       "\t Norway      & 7.537 & 1.616463 & 0.7966665 & 0.6354226\\\\\n",
       "\t Denmark     & 7.522 & 1.482383 & 0.7925655 & 0.6260067\\\\\n",
       "\t Iceland     & 7.504 & 1.480633 & 0.8335521 & 0.6271626\\\\\n",
       "\t Switzerland & 7.494 & 1.564980 & 0.8581313 & 0.6200706\\\\\n",
       "\t Finland     & 7.469 & 1.443572 & 0.8091577 & 0.6179509\\\\\n",
       "\t Netherlands & 7.377 & 1.503945 & 0.8106961 & 0.5853845\\\\\n",
       "\\end{tabular}\n"
      ],
      "text/markdown": [
       "\n",
       "A tibble: 6 × 5\n",
       "\n",
       "| country &lt;chr&gt; | happiness_score &lt;dbl&gt; | GDP_per_capita &lt;dbl&gt; | life_expectancy &lt;dbl&gt; | freedom &lt;dbl&gt; |\n",
       "|---|---|---|---|---|\n",
       "| Norway      | 7.537 | 1.616463 | 0.7966665 | 0.6354226 |\n",
       "| Denmark     | 7.522 | 1.482383 | 0.7925655 | 0.6260067 |\n",
       "| Iceland     | 7.504 | 1.480633 | 0.8335521 | 0.6271626 |\n",
       "| Switzerland | 7.494 | 1.564980 | 0.8581313 | 0.6200706 |\n",
       "| Finland     | 7.469 | 1.443572 | 0.8091577 | 0.6179509 |\n",
       "| Netherlands | 7.377 | 1.503945 | 0.8106961 | 0.5853845 |\n",
       "\n"
      ],
      "text/plain": [
       "  country     happiness_score GDP_per_capita life_expectancy freedom  \n",
       "1 Norway      7.537           1.616463       0.7966665       0.6354226\n",
       "2 Denmark     7.522           1.482383       0.7925655       0.6260067\n",
       "3 Iceland     7.504           1.480633       0.8335521       0.6271626\n",
       "4 Switzerland 7.494           1.564980       0.8581313       0.6200706\n",
       "5 Finland     7.469           1.443572       0.8091577       0.6179509\n",
       "6 Netherlands 7.377           1.503945       0.8106961       0.5853845"
      ]
     },
     "metadata": {},
     "output_type": "display_data"
    }
   ],
   "source": [
    "happy_xlsx <- read_excel(\"data/happiness_report.xlsx\")\n",
    "\n",
    "# your code here\n",
    "\n",
    "head(happy_xlsx)"
   ]
  },
  {
   "cell_type": "code",
   "execution_count": 40,
   "metadata": {
    "deletable": false,
    "editable": false,
    "nbgrader": {
     "cell_type": "code",
     "checksum": "5517d30e45f08b55a9d4c6a73e1da72d",
     "grade": true,
     "grade_id": "cell-3b0b5ff5faaddf50",
     "locked": true,
     "points": 1,
     "schema_version": 3,
     "solution": false,
     "task": false
    }
   },
   "outputs": [
    {
     "name": "stdout",
     "output_type": "stream",
     "text": [
      "[1] \"Success!\"\n"
     ]
    }
   ],
   "source": [
    "test_3.7()"
   ]
  },
  {
   "cell_type": "markdown",
   "metadata": {
    "deletable": false,
    "editable": false,
    "nbgrader": {
     "cell_type": "markdown",
     "checksum": "959f0931e33bab149e4c253d539ef1e8",
     "grade": false,
     "grade_id": "cell-9ef61e2af378b40d",
     "locked": true,
     "schema_version": 3,
     "solution": false
    }
   },
   "source": [
    "**Question 3.8** \n",
    "<br> {points: 1}\n",
    "\n",
    "Opening the data on a text editor showed some clear differences. Do all the data sets look the same once reading them on your R notebook? \n",
    "\n",
    "`yes`\n",
    "`no`\n",
    " \n",
    "*Assign your answer to an object called `answer3.8`. Make sure to write in all lower-case.* "
   ]
  },
  {
   "cell_type": "code",
   "execution_count": 41,
   "metadata": {
    "deletable": false,
    "nbgrader": {
     "cell_type": "code",
     "checksum": "14bdb94d949dc0be8f08f3094fa80426",
     "grade": false,
     "grade_id": "cell-ca10e96ab5e42077",
     "locked": false,
     "schema_version": 3,
     "solution": true
    }
   },
   "outputs": [],
   "source": [
    "# Make sure the correct answer is written in lower-case (yes / no)\n",
    "# Surround your answer with quotation marks.\n",
    "# Replace the fail() with your answer. \n",
    "\n",
    "# your code here\n",
    "answer3.8<-\"yes\""
   ]
  },
  {
   "cell_type": "code",
   "execution_count": 42,
   "metadata": {
    "deletable": false,
    "editable": false,
    "nbgrader": {
     "cell_type": "code",
     "checksum": "bfb9ca3c4cb44af1a9dca9305ca310ef",
     "grade": true,
     "grade_id": "cell-b10f0e14c91d5ebf",
     "locked": true,
     "points": 1,
     "schema_version": 3,
     "solution": false
    }
   },
   "outputs": [
    {
     "name": "stdout",
     "output_type": "stream",
     "text": [
      "[1] \"Success!\"\n"
     ]
    }
   ],
   "source": [
    "test_3.8()"
   ]
  },
  {
   "cell_type": "markdown",
   "metadata": {
    "deletable": false,
    "editable": false,
    "nbgrader": {
     "cell_type": "markdown",
     "checksum": "c75556517d10943d5d1ab34fd4fafaea",
     "grade": false,
     "grade_id": "cell-e8cd9683896b730d",
     "locked": true,
     "schema_version": 3,
     "solution": false
    }
   },
   "source": [
    "**Question 3.9** \n",
    "<br> {points: 1}\n",
    "\n",
    "Using the `happy_header` data set that you read earlier, plot `life_expectancy` vs. `GDP_per_capita`.\n",
    "\n",
    "*Assign your answer to an object called `header_plot`.* \n",
    "\n",
    "*Note that the statement \"plot A vs. B\" usually means to put A on the vertical axis, and B on the horizontal axis.*\n",
    "\n",
    "*Make sure to use xlab and ylab to label your axes appropriately.*"
   ]
  },
  {
   "cell_type": "code",
   "execution_count": 43,
   "metadata": {
    "deletable": false,
    "nbgrader": {
     "cell_type": "code",
     "checksum": "69a8c4a746d20491ee722aa70066c9e8",
     "grade": false,
     "grade_id": "cell-1341c1e60d1df98d",
     "locked": false,
     "schema_version": 3,
     "solution": true
    }
   },
   "outputs": [
    {
     "data": {
      "image/png": "[encoded data removed]",
      "text/plain": [
       "plot without title"
      ]
     },
     "metadata": {},
     "output_type": "display_data"
    }
   ],
   "source": [
    "options(repr.plot.width=4, repr.plot.height=3)\n",
    "\n",
    "# your code here\n",
    "header_plot<-ggplot(data=happy_header, aes(x=GDP_per_capita, y=life_expectancy)) + \n",
    "    geom_point() + \n",
    "    xlab(\"GDP Per Capita\") + \n",
    "    ylab(\"Life Expectancy\")\n",
    "header_plot"
   ]
  },
  {
   "cell_type": "code",
   "execution_count": 44,
   "metadata": {
    "deletable": false,
    "editable": false,
    "nbgrader": {
     "cell_type": "code",
     "checksum": "1f470bf62b29e4d4a670996bc63e3005",
     "grade": true,
     "grade_id": "cell-06afbc4c37639e7d",
     "locked": true,
     "points": 1,
     "schema_version": 3,
     "solution": false
    }
   },
   "outputs": [
    {
     "name": "stdout",
     "output_type": "stream",
     "text": [
      "[1] \"Success!\"\n"
     ]
    }
   ],
   "source": [
    "test_3.9()"
   ]
  },
  {
   "cell_type": "markdown",
   "metadata": {
    "deletable": false,
    "editable": false,
    "nbgrader": {
     "cell_type": "markdown",
     "checksum": "c4ea66ab8f7ff021fe7c39ed5d91ec62",
     "grade": false,
     "grade_id": "cell-c000b7bf1fb43b1c",
     "locked": true,
     "schema_version": 3,
     "solution": false,
     "task": false
    }
   },
   "source": [
    "## 4. Reading Data from a Database\n",
    "\n",
    "### Investigating the reliability of flights into / out of Boston Logan International Airport\n",
    "\n",
    "Delays and cancellations seem to be an unavoidable risk of air travel. A missed connection, or hours spent waiting at the departure gate, might make you wonder though: how reliable is air travel, *really*?\n",
    "\n",
    "The US Bureau of Transportation Statistics keeps a continually-updated [Airline On-Time Performance Dataset](https://transtats.bts.gov/DatabaseInfo.asp?DB_ID=120&DB_Name=Airline%20On-Time%20Performance%20Data) that has tracked the scheduled and actual departure / arrival time of flights in the United States from 1987 to the present day. In this section we'll do some exploration of this data to try to answer some of the above questions. The actual data we'll be using was from only the year 2015, and was compiled into the [2015 Kaggle Flight Delays Dataset](https://www.kaggle.com/usdot/flight-delays) from the raw Bureau data. But even that  dataset is too large to handle in this course (5.8 million flights in just one year!), so the data have been filtered down to flights that either depart or arrive at Logan International Airport (`BOS`), resulting in around 209,000 flight records. \n",
    "\n",
    "Our data has the following variables (columns):\n",
    "\n",
    "- year\n",
    "- month\n",
    "- day\n",
    "- day of the week (from 1 - 7.999..., with fractional days based on departure time)\n",
    "- origin airport code\n",
    "- destination airport code\n",
    "- flight distance (miles)\n",
    "- scheduled departure time (local)\n",
    "- departure delay (minutes)\n",
    "- scheduled arrival time (local)\n",
    "- arrival delay (minutes)\n",
    "- diverted? (True/False)\n",
    "- cancelled? (True/False)\n",
    "\n",
    "\n"
   ]
  },
  {
   "cell_type": "markdown",
   "metadata": {
    "deletable": false,
    "editable": false,
    "nbgrader": {
     "cell_type": "markdown",
     "checksum": "a0d7784b10356a99571144bcc0c98166",
     "grade": false,
     "grade_id": "cell-68b27df331c7af9f",
     "locked": true,
     "schema_version": 3,
     "solution": false,
     "task": false
    }
   },
   "source": [
    "**Question 4.1** True / False\n",
    "<br> {points: 1}\n",
    "\n",
    "We can use our dataset to figure out which airline company was the least likely to experience a flight delay in 2015.\n",
    "\n",
    "*Assign your answer to an object called `answer4.1`*"
   ]
  },
  {
   "cell_type": "code",
   "execution_count": 45,
   "metadata": {
    "deletable": false,
    "nbgrader": {
     "cell_type": "code",
     "checksum": "f6ce4d00b43cc2f1a7ae192ab0eafc65",
     "grade": false,
     "grade_id": "cell-1eb5f7e0f07ed793",
     "locked": false,
     "schema_version": 3,
     "solution": true,
     "task": false
    }
   },
   "outputs": [],
   "source": [
    "# Make sure the correct answer is written in lower-case (true / false)\n",
    "# Surround your answer with quotation marks.\n",
    "\n",
    "# your code here\n",
    "answer4.1<-\"false\""
   ]
  },
  {
   "cell_type": "code",
   "execution_count": 46,
   "metadata": {
    "deletable": false,
    "editable": false,
    "nbgrader": {
     "cell_type": "code",
     "checksum": "1641668438d28461b579ee13cb38e9f8",
     "grade": true,
     "grade_id": "cell-847ba82ee38201de",
     "locked": true,
     "points": 1,
     "schema_version": 3,
     "solution": false,
     "task": false
    }
   },
   "outputs": [
    {
     "name": "stdout",
     "output_type": "stream",
     "text": [
      "[1] \"Success!\"\n"
     ]
    }
   ],
   "source": [
    "test_4.1()"
   ]
  },
  {
   "cell_type": "markdown",
   "metadata": {
    "deletable": false,
    "editable": false,
    "nbgrader": {
     "cell_type": "markdown",
     "checksum": "b9812d7251d88d412b66b488efc9ebd0",
     "grade": false,
     "grade_id": "cell-7b7a78cb0fab16e5",
     "locked": true,
     "schema_version": 3,
     "solution": false,
     "task": false
    }
   },
   "source": [
    "**Question 4.2** Multiple Choice\n",
    "<br> {points: 1}\n",
    "\n",
    "If we're mostly concerned with getting to our destination on time, which variable in our dataset should we use as the y-axis of a plot?\n",
    "\n",
    "A. flight distance\n",
    "\n",
    "B. departure delay\n",
    "\n",
    "C. origin airport code\n",
    "\n",
    "D. arrival delay\n",
    "\n",
    "*Assign your answer as a single character to an object called `answer4.2`. For example,* `answer4.2 <- 'F'`"
   ]
  },
  {
   "cell_type": "code",
   "execution_count": 47,
   "metadata": {
    "deletable": false,
    "nbgrader": {
     "cell_type": "code",
     "checksum": "488aceb7227c01c6d817330c5163f981",
     "grade": false,
     "grade_id": "cell-72b0739f5d3a6017",
     "locked": false,
     "schema_version": 3,
     "solution": true,
     "task": false
    }
   },
   "outputs": [],
   "source": [
    "# Make sure the correct answer is an uppercase letter. \n",
    "# Surround your answer with quotation marks.\n",
    "# Replace the fail() with your answer. \n",
    "\n",
    "# your code here\n",
    "answer4.2<-\"D\""
   ]
  },
  {
   "cell_type": "code",
   "execution_count": 48,
   "metadata": {
    "deletable": false,
    "editable": false,
    "nbgrader": {
     "cell_type": "code",
     "checksum": "3ee32eadc18e4416b3cad8c08379e796",
     "grade": true,
     "grade_id": "cell-990bcb46001bf6bc",
     "locked": true,
     "points": 1,
     "schema_version": 3,
     "solution": false,
     "task": false
    }
   },
   "outputs": [
    {
     "name": "stdout",
     "output_type": "stream",
     "text": [
      "[1] \"Success!\"\n"
     ]
    }
   ],
   "source": [
    "test_4.2()"
   ]
  },
  {
   "cell_type": "markdown",
   "metadata": {
    "deletable": false,
    "editable": false,
    "nbgrader": {
     "cell_type": "markdown",
     "checksum": "d4433065f83eb07ac1fb426306790f1f",
     "grade": false,
     "grade_id": "cell-7b877620e95a911b",
     "locked": true,
     "schema_version": 3,
     "solution": false,
     "task": false
    }
   },
   "source": [
    "Let's start exploring our data. The file is stored in `data/flights_filtered.db` in your working directory (still the `worksheet_02` folder). If you try to open the file in Jupyter to inspect its contents, you'll again run into the `Error! ... is not UTF-8 encoded` message you got earlier when trying to read an Excel spreadsheet. This is because the file is a *database* (often denoted by the `.db` extension), which are usually not stored in plain text. \n",
    "\n",
    "We'll need more R packages to help us handle this kind of data: \n",
    "\n",
    "- the [database interface (`DBI`) package](https://www.rdocumentation.org/packages/DBI/versions/0.5-1) for opening, connecting to, and interfacing with databases\n",
    "- the [R SQLite (`RSQLite`) package](https://cran.r-project.org/web/packages/RSQLite/vignettes/RSQLite.html) so that DBI can talk to SQLite databases \n",
    "  - there are many kinds of databases; the `flights_filtered.db` database is an SQLite database\n",
    "- the [dbplyr package](https://cran.r-project.org/web/packages/dbplyr/vignettes/dbplyr.html) for manipulating tables in the database using functions in R\n",
    "  - without this, in order to retrieve data from the database, we would have to know a whole separate language, Structured Query Language (SQL)\n",
    "\n",
    "Let's load those now.\n",
    "\n"
   ]
  },
  {
   "cell_type": "code",
   "execution_count": 49,
   "metadata": {},
   "outputs": [
    {
     "name": "stderr",
     "output_type": "stream",
     "text": [
      "\n",
      "Attaching package: ‘dbplyr’\n",
      "\n",
      "The following objects are masked from ‘package:dplyr’:\n",
      "\n",
      "    ident, sql\n",
      "\n"
     ]
    }
   ],
   "source": [
    "# Run this cell \n",
    "\n",
    "library(\"DBI\")\n",
    "library(\"RSQLite\")\n",
    "library(\"dbplyr\")"
   ]
  },
  {
   "cell_type": "markdown",
   "metadata": {
    "deletable": false,
    "editable": false,
    "nbgrader": {
     "cell_type": "markdown",
     "checksum": "dbf740d92c2f022cddb5e26781db3b19",
     "grade": false,
     "grade_id": "cell-aafba0a844ff4070",
     "locked": true,
     "schema_version": 3,
     "solution": false,
     "task": false
    }
   },
   "source": [
    "In order to open a database in R, you need to take the following steps:\n",
    "\n",
    "1. Connect to the database using the `dbConnect` function.\n",
    "2. Check what tables (similar to R dataframes, Excel spreadsheets) are in the database using the `dbListTables` function\n",
    "3. Once you've picked a table, create an R object for it using the `tbl` function\n",
    "\n",
    "*Note: the `tbl` function returns a **reference** to a database table, not the actual data itself. This allows R to talk to the database / get subsets of data without loading the entire thing into R!*\n",
    "\n",
    "The next few questions will walk you through this process.\n"
   ]
  },
  {
   "cell_type": "markdown",
   "metadata": {
    "deletable": false,
    "editable": false,
    "nbgrader": {
     "cell_type": "markdown",
     "checksum": "c6aa3478ac3ef615da4becb4812631d6",
     "grade": false,
     "grade_id": "cell-9b0fb86c56d041a0",
     "locked": true,
     "schema_version": 3,
     "solution": false,
     "task": false
    }
   },
   "source": [
    "**Question 4.3.1** \n",
    "<br> {points: 1}\n",
    "\n",
    "Use the `dbConnect` function to open and connect to the `flights_filtered.db` database in the `data` folder.\n",
    "\n",
    "*Note: we have provided the first argument, `RSQLite::SQLite()`, to `dbConnect` for you below. This just tells the dbConnect function that we will be using an SQLite database.*\n",
    "\n",
    "*Assign the output to a variable named `conn`*."
   ]
  },
  {
   "cell_type": "code",
   "execution_count": 50,
   "metadata": {
    "deletable": false,
    "nbgrader": {
     "cell_type": "code",
     "checksum": "0477e59f18c7ee261f3b62100e5ace59",
     "grade": false,
     "grade_id": "cell-1448c7dbce0b45ab",
     "locked": false,
     "schema_version": 3,
     "solution": true,
     "task": false
    }
   },
   "outputs": [],
   "source": [
    "conn <- dbConnect(RSQLite::SQLite(), 'data/flights_filtered.db')  #replace ... with the database relative path\n",
    "\n",
    "# your code here\n"
   ]
  },
  {
   "cell_type": "code",
   "execution_count": 51,
   "metadata": {
    "deletable": false,
    "editable": false,
    "nbgrader": {
     "cell_type": "code",
     "checksum": "b96bdbdbaca93dffa57cb5d6c515a735",
     "grade": true,
     "grade_id": "cell-450ac4401cbdd5df",
     "locked": true,
     "points": 1,
     "schema_version": 3,
     "solution": false,
     "task": false
    }
   },
   "outputs": [
    {
     "name": "stdout",
     "output_type": "stream",
     "text": [
      "[1] \"Success!\"\n"
     ]
    }
   ],
   "source": [
    "test_4.3.1()"
   ]
  },
  {
   "cell_type": "markdown",
   "metadata": {
    "deletable": false,
    "editable": false,
    "nbgrader": {
     "cell_type": "markdown",
     "checksum": "ac05568de3ade4553cce7fd4d02793b4",
     "grade": false,
     "grade_id": "cell-45d198de7245ad8f",
     "locked": true,
     "schema_version": 3,
     "solution": false,
     "task": false
    }
   },
   "source": [
    "**Question 4.3.2**\n",
    "<br> {points: 1}\n",
    "\n",
    "Use the `dbListTables` function to inspect the database to see what tables it contains.\n",
    "\n",
    "*Make a new variable named `flights_table_name` that stores the name of the table with our data in it*"
   ]
  },
  {
   "cell_type": "code",
   "execution_count": 52,
   "metadata": {},
   "outputs": [
    {
     "data": {
      "text/html": [
       "'bos_flights'"
      ],
      "text/latex": [
       "'bos\\_flights'"
      ],
      "text/markdown": [
       "'bos_flights'"
      ],
      "text/plain": [
       "[1] \"bos_flights\""
      ]
     },
     "metadata": {},
     "output_type": "display_data"
    }
   ],
   "source": [
    "# Use this cell to figure out how to answer the question\n",
    "# Call the dbListTables function in this cell and take a look at the output\n",
    "# If you don't know what argument to give dbListTables, use ?dbListTables to find out!\n",
    "\n",
    "dbListTables(conn) "
   ]
  },
  {
   "cell_type": "code",
   "execution_count": 53,
   "metadata": {
    "deletable": false,
    "nbgrader": {
     "cell_type": "code",
     "checksum": "556d57c38d684fd32eab5183e0cba01a",
     "grade": false,
     "grade_id": "cell-dd28dbea4ff01626",
     "locked": false,
     "schema_version": 3,
     "solution": true,
     "task": false
    }
   },
   "outputs": [],
   "source": [
    "flights_table_name <- dbListTables(conn) \n",
    "\n",
    "# your code here\n",
    "\n"
   ]
  },
  {
   "cell_type": "code",
   "execution_count": 54,
   "metadata": {
    "deletable": false,
    "editable": false,
    "nbgrader": {
     "cell_type": "code",
     "checksum": "7fb8b7c56e01f46a6b58c802aeba8257",
     "grade": true,
     "grade_id": "cell-37f36762e19a02f2",
     "locked": true,
     "points": 1,
     "schema_version": 3,
     "solution": false,
     "task": false
    }
   },
   "outputs": [
    {
     "name": "stdout",
     "output_type": "stream",
     "text": [
      "[1] \"Success!\"\n"
     ]
    }
   ],
   "source": [
    "test_4.3.2()"
   ]
  },
  {
   "cell_type": "markdown",
   "metadata": {
    "deletable": false,
    "editable": false,
    "nbgrader": {
     "cell_type": "markdown",
     "checksum": "39da0ec2f52b8ba069815e3724fabe20",
     "grade": false,
     "grade_id": "cell-6097516dbac498b6",
     "locked": true,
     "schema_version": 3,
     "solution": false,
     "task": false
    }
   },
   "source": [
    "**Question 4.3.3**\n",
    "<br> {points: 1}\n",
    "\n",
    "Use the `tbl` function to create an R reference to the table so that you can manipulate it with `dbplyr` functions.\n",
    "\n",
    "*Make a new variable named `flight_data` based on the output of `tbl`*"
   ]
  },
  {
   "cell_type": "code",
   "execution_count": 55,
   "metadata": {
    "deletable": false,
    "nbgrader": {
     "cell_type": "code",
     "checksum": "7d193bd89995c3fe435c2994ef3ae193",
     "grade": false,
     "grade_id": "cell-ae916513622496e1",
     "locked": false,
     "schema_version": 3,
     "solution": true,
     "task": false
    }
   },
   "outputs": [],
   "source": [
    "flight_data <- tbl(conn, flights_table_name)\n",
    "# ?tbl\n",
    "# your code here\n",
    "# fail() # No Answer - remove if you provide an answer"
   ]
  },
  {
   "cell_type": "code",
   "execution_count": 56,
   "metadata": {
    "deletable": false,
    "editable": false,
    "nbgrader": {
     "cell_type": "code",
     "checksum": "f0c057bad53ed5a7b99a55b6e0e5d584",
     "grade": true,
     "grade_id": "cell-25d8325b46b0321d",
     "locked": true,
     "points": 1,
     "schema_version": 3,
     "solution": false,
     "task": false
    }
   },
   "outputs": [
    {
     "name": "stdout",
     "output_type": "stream",
     "text": [
      "[1] \"Success!\"\n"
     ]
    }
   ],
   "source": [
    "test_4.3.3()"
   ]
  },
  {
   "cell_type": "markdown",
   "metadata": {
    "deletable": false,
    "editable": false,
    "nbgrader": {
     "cell_type": "markdown",
     "checksum": "f7c1e3bec710392badc48416a6ef7cb5",
     "grade": false,
     "grade_id": "cell-f5b6931ac3257fe2",
     "locked": true,
     "schema_version": 3,
     "solution": false,
     "task": false
    }
   },
   "source": [
    "Now that we've connected to the database and created an R table object, we'll take a look at the first few rows and columns of the flight on-time performance data. Even though `flight_data` isn't a regular R dataframe---it's a database table connection, or specifically a `tbl_SQLiteConnection`---the functions from the `dbplyr` package let us treat it like an R dataframe!\n",
    " \n",
    " So let's try using the `head` function and see what happens:"
   ]
  },
  {
   "cell_type": "code",
   "execution_count": 57,
   "metadata": {},
   "outputs": [
    {
     "data": {
      "text/plain": [
       "\u001b[90m# Source:   lazy query [?? x 13]\u001b[39m\n",
       "\u001b[90m# Database: sqlite 3.29.0\n",
       "#   [/home/jupyter/dsci-100/materials/worksheet_02/data/flights_filtered.db]\u001b[39m\n",
       "   YEAR MONTH   DAY DAY_OF_WEEK ORIGIN_AIRPORT DESTINATION_AIR… DISTANCE\n",
       "  \u001b[3m\u001b[90m<int>\u001b[39m\u001b[23m \u001b[3m\u001b[90m<int>\u001b[39m\u001b[23m \u001b[3m\u001b[90m<int>\u001b[39m\u001b[23m       \u001b[3m\u001b[90m<int>\u001b[39m\u001b[23m \u001b[3m\u001b[90m<chr>\u001b[39m\u001b[23m          \u001b[3m\u001b[90m<chr>\u001b[39m\u001b[23m               \u001b[3m\u001b[90m<int>\u001b[39m\u001b[23m\n",
       "\u001b[90m1\u001b[39m  \u001b[4m2\u001b[24m015     1     1           4 SJU            BOS                  \u001b[4m1\u001b[24m674\n",
       "\u001b[90m2\u001b[39m  \u001b[4m2\u001b[24m015     1     1           4 BOS            MYR                   738\n",
       "\u001b[90m3\u001b[39m  \u001b[4m2\u001b[24m015     1     1           4 BOS            MIA                  \u001b[4m1\u001b[24m258\n",
       "\u001b[90m4\u001b[39m  \u001b[4m2\u001b[24m015     1     1           4 BOS            BWI                   369\n",
       "\u001b[90m5\u001b[39m  \u001b[4m2\u001b[24m015     1     1           4 ORD            BOS                   867\n",
       "\u001b[90m6\u001b[39m  \u001b[4m2\u001b[24m015     1     1           4 BOS            DTW                   632\n",
       "\u001b[90m# … with 6 more variables: SCHEDULED_DEPARTURE \u001b[3m\u001b[90m<int>\u001b[90m\u001b[23m, DEPARTURE_DELAY \u001b[3m\u001b[90m<dbl>\u001b[90m\u001b[23m,\n",
       "#   SCHEDULED_ARRIVAL \u001b[3m\u001b[90m<int>\u001b[90m\u001b[23m, ARRIVAL_DELAY \u001b[3m\u001b[90m<dbl>\u001b[90m\u001b[23m, DIVERTED \u001b[3m\u001b[90m<int>\u001b[90m\u001b[23m,\n",
       "#   CANCELLED \u001b[3m\u001b[90m<int>\u001b[90m\u001b[23m\u001b[39m"
      ]
     },
     "metadata": {},
     "output_type": "display_data"
    }
   ],
   "source": [
    "#run this code to print the first few rows of flight_data to see what it looks like\n",
    "head(flight_data)"
   ]
  },
  {
   "cell_type": "markdown",
   "metadata": {
    "deletable": false,
    "editable": false,
    "nbgrader": {
     "cell_type": "markdown",
     "checksum": "6a74273e9983700c82bc4e1a1ce9edfb",
     "grade": false,
     "grade_id": "cell-925839d2057b8935",
     "locked": true,
     "schema_version": 3,
     "solution": false,
     "task": false
    }
   },
   "source": [
    "It works! And---as luck would have it---it also works to use the `select` and `filter` functions you've learned about previously.\n",
    "\n",
    "*Note: not all functions that you're familiar with work on database table `tbl` reference objects. For example, if you try to run `nrow` (to count the rows) or `tail` (to get the last rows of the table), you won't get the result you expect*.\n"
   ]
  },
  {
   "cell_type": "markdown",
   "metadata": {},
   "source": [
    "**Question 4.4**\n",
    "<br> {points: 2}\n",
    "\n",
    "Use the `select` and `filter` functions to extract the **arrival and departure delay** columns for rows where **the origin airport is BOS.**\n",
    "\n",
    "*Store your answer in a variable called* `delay_data`."
   ]
  },
  {
   "cell_type": "code",
   "execution_count": 58,
   "metadata": {
    "deletable": false,
    "nbgrader": {
     "cell_type": "code",
     "checksum": "2c18675ed495f1cdbc1fe711c53b17d6",
     "grade": false,
     "grade_id": "cell-c510f5a9427d66c4",
     "locked": false,
     "schema_version": 3,
     "solution": true,
     "task": false
    }
   },
   "outputs": [],
   "source": [
    "# your code here\n",
    "delay_data <- filter(flight_data, ORIGIN_AIRPORT == \"BOS\")\n",
    "delay_data <- select(delay_data, \"DEPARTURE_DELAY\", \"ARRIVAL_DELAY\")"
   ]
  },
  {
   "cell_type": "code",
   "execution_count": 59,
   "metadata": {
    "deletable": false,
    "editable": false,
    "nbgrader": {
     "cell_type": "code",
     "checksum": "389605081c7d6c0e05d257e2ba90e765",
     "grade": true,
     "grade_id": "cell-1ebff82c6cecfdd2",
     "locked": true,
     "points": 1,
     "schema_version": 3,
     "solution": false,
     "task": false
    }
   },
   "outputs": [
    {
     "name": "stdout",
     "output_type": "stream",
     "text": [
      "[1] \"Success!\"\n"
     ]
    }
   ],
   "source": [
    "test_4.4()"
   ]
  },
  {
   "cell_type": "code",
   "execution_count": 60,
   "metadata": {},
   "outputs": [
    {
     "data": {
      "text/plain": [
       "\u001b[90m# Source:   lazy query [?? x 2]\u001b[39m\n",
       "\u001b[90m# Database: sqlite 3.29.0\n",
       "#   [/home/jupyter/dsci-100/materials/worksheet_02/data/flights_filtered.db]\u001b[39m\n",
       "  DEPARTURE_DELAY ARRIVAL_DELAY\n",
       "            \u001b[3m\u001b[90m<dbl>\u001b[39m\u001b[23m         \u001b[3m\u001b[90m<dbl>\u001b[39m\u001b[23m\n",
       "\u001b[90m1\u001b[39m              -\u001b[31m4\u001b[39m           -\u001b[31m10\u001b[39m\n",
       "\u001b[90m2\u001b[39m              -\u001b[31m5\u001b[39m             2\n",
       "\u001b[90m3\u001b[39m              -\u001b[31m4\u001b[39m           -\u001b[31m21\u001b[39m\n",
       "\u001b[90m4\u001b[39m              -\u001b[31m3\u001b[39m           -\u001b[31m21\u001b[39m\n",
       "\u001b[90m5\u001b[39m               6            -\u001b[31m9\u001b[39m\n",
       "\u001b[90m6\u001b[39m              -\u001b[31m2\u001b[39m           -\u001b[31m13\u001b[39m"
      ]
     },
     "metadata": {},
     "output_type": "display_data"
    }
   ],
   "source": [
    "#Take a look at `delay_data` to make sure it has the two columns we expect.\n",
    "\n",
    "#run this code\n",
    "head(delay_data)"
   ]
  },
  {
   "cell_type": "markdown",
   "metadata": {
    "deletable": false,
    "editable": false,
    "nbgrader": {
     "cell_type": "markdown",
     "checksum": "1ba6bc6e332107a24dd16f2ec22f12d5",
     "grade": false,
     "grade_id": "cell-fe64925771cd864e",
     "locked": true,
     "schema_version": 3,
     "solution": false,
     "task": false
    }
   },
   "source": [
    "You'll notice in the `Source:` line that the dimension of the table is listed as `[?? x 2]`. This is because databases do things in the *laziest* way possible. Since we only asked the database for its `head` (the first few rows), it didn't bother going through all the rows to figure out how many there are. This sort of laziness can help make things run a lot faster when dealing with large datasets.\n",
    "\n",
    "Our next task is to visualize our data to see whether there is a difference in delays for arrivals at and departures from `BOS`. But before we do that, let's figure out just how much data we're working with using the `count` function."
   ]
  },
  {
   "cell_type": "code",
   "execution_count": 61,
   "metadata": {},
   "outputs": [
    {
     "data": {
      "text/plain": [
       "\u001b[90m# Source:   lazy query [?? x 1]\u001b[39m\n",
       "\u001b[90m# Database: sqlite 3.29.0\n",
       "#   [/home/jupyter/dsci-100/materials/worksheet_02/data/flights_filtered.db]\u001b[39m\n",
       "       n\n",
       "   \u001b[3m\u001b[90m<int>\u001b[39m\u001b[23m\n",
       "\u001b[90m1\u001b[39m \u001b[4m1\u001b[24m\u001b[4m0\u001b[24m\u001b[4m4\u001b[24m804"
      ]
     },
     "metadata": {},
     "output_type": "display_data"
    }
   ],
   "source": [
    "#run this code to see how many rows there are\n",
    "count(delay_data)"
   ]
  },
  {
   "cell_type": "markdown",
   "metadata": {
    "deletable": false,
    "editable": false,
    "nbgrader": {
     "cell_type": "markdown",
     "checksum": "b95050ef99880d8a6447011e9cd602b1",
     "grade": false,
     "grade_id": "cell-ae414c879686e90f",
     "locked": true,
     "schema_version": 3,
     "solution": false,
     "task": false
    }
   },
   "source": [
    "Yikes---that's a lot of data! If we tried to do a scatter plot of these, we probably wouldn't be able to see anything useful; all the points would be mushed together. Let's try using a *histogram* instead. A histogram helps us visualize how a particular variable is distributed in a dataset. It does this by separating the data into *bins*, and then plotting vertical bars showing how many data points fell in each bin.\n",
    "\n",
    "For example, we could use a histogram to visualize the distribution of waiting times between eruptions of the Old Faithful geyser in Yellowstone National Park, Wyoming with the `geom_histogram` layer. The `bins` argument specifies the number of bins to use in the histogram.\n"
   ]
  },
  {
   "cell_type": "code",
   "execution_count": 62,
   "metadata": {},
   "outputs": [
    {
     "data": {
      "image/png": "[encoded data removed]",
      "text/plain": [
       "plot without title"
      ]
     },
     "metadata": {},
     "output_type": "display_data"
    }
   ],
   "source": [
    "ggplot(faithful, aes(x = waiting)) + \n",
    "    geom_histogram(bins=40) + \n",
    "    xlab('Waiting Time (mins)') + \n",
    "    ylab('Count')"
   ]
  },
  {
   "cell_type": "markdown",
   "metadata": {
    "deletable": false,
    "editable": false,
    "nbgrader": {
     "cell_type": "markdown",
     "checksum": "5ded1bd40c64e538a9e387c8bdb2bddc",
     "grade": false,
     "grade_id": "cell-a64059c2fa597366",
     "locked": true,
     "schema_version": 3,
     "solution": false,
     "task": false
    }
   },
   "source": [
    "We'll use histograms to visualize the departure delay times and arrival delay times separately."
   ]
  },
  {
   "cell_type": "markdown",
   "metadata": {
    "deletable": false,
    "editable": false,
    "nbgrader": {
     "cell_type": "markdown",
     "checksum": "f3263309ed5c5499abc34c9fcc12905a",
     "grade": false,
     "grade_id": "cell-b0e0f2ed0c5dddfd",
     "locked": true,
     "schema_version": 3,
     "solution": false,
     "task": false
    },
    "scrolled": true
   },
   "source": [
    "**Question 4.5**\n",
    "<br> {points: 1}\n",
    "\n",
    "Plot the **arrival** delay time data as a histogram. You will plot the delay (in hours) separated into 15-minute-wide bins on the x axis. The y axis will show the percentage of flights departing BOS that had that amount of delay during 2015.\n",
    "\n",
    "You'll do this by finishing the code segment provided below. There are 4 places where `???` appear in the provided code below. Replace each instance of `???` with the correct choice from the following 4 choices:\n",
    "\n",
    "- `ARRIVAL_DELAY/60`\n",
    "- `'steelblue'`\n",
    "- `'Delay (hours)'`\n",
    "- `geom_histogram`\n",
    "\n",
    "*Assign the output of ggplot to an object called* `arrival_delay_plot`."
   ]
  },
  {
   "cell_type": "code",
   "execution_count": 63,
   "metadata": {
    "deletable": false,
    "nbgrader": {
     "cell_type": "code",
     "checksum": "50374f8ce931baec54c0c428deff1e76",
     "grade": false,
     "grade_id": "cell-79abf1e26b1b8f0c",
     "locked": false,
     "schema_version": 3,
     "solution": true,
     "task": false
    }
   },
   "outputs": [
    {
     "name": "stderr",
     "output_type": "stream",
     "text": [
      "Warning message:\n",
      "“Removed 203 rows containing non-finite values (stat_bin).”Warning message:\n",
      "“Removed 2 rows containing missing values (geom_bar).”"
     ]
    },
    {
     "data": {
      "image/png": "[encoded data removed]",
      "text/plain": [
       "plot without title"
      ]
     },
     "metadata": {},
     "output_type": "display_data"
    }
   ],
   "source": [
    "\n",
    "#Below is the code to plot the histogram. Replace each ??? with the correct item in the list above.\n",
    "\n",
    "#arrival_delay_plot <- ggplot(delay_data, aes(x = ???))+\n",
    "#    ???(aes(y = 100 * stat(count) / sum(stat(count))), binwidth = .25, fill='lightblue', color=???)+\n",
    "#    scale_x_continuous(limits = c(-2, 5))+\n",
    "#    ylab('% of Flights')+\n",
    "#    xlab(???)\n",
    "#arrival_delay_plot\n",
    "\n",
    "# your code here\n",
    "\n",
    "arrival_delay_plot <- ggplot(delay_data, aes(x = ARRIVAL_DELAY/60)) +\n",
    "    geom_histogram(aes(y = 100 * stat(count) / sum(stat(count))), binwidth = .25, fill = 'lightblue', color ='steelblue')+\n",
    "    scale_x_continuous(limits = c(-2, 5))+\n",
    "    ylab('% of Flights')+\n",
    "    xlab('Delay (hours)')\n",
    "\n",
    "arrival_delay_plot"
   ]
  },
  {
   "cell_type": "code",
   "execution_count": 64,
   "metadata": {
    "deletable": false,
    "editable": false,
    "nbgrader": {
     "cell_type": "code",
     "checksum": "eea0c175e108a37501f4681d3c0e80b8",
     "grade": true,
     "grade_id": "cell-f6883fdfdfd2696a",
     "locked": true,
     "points": 1,
     "schema_version": 3,
     "solution": false,
     "task": false
    }
   },
   "outputs": [
    {
     "name": "stdout",
     "output_type": "stream",
     "text": [
      "[1] \"Success!\"\n"
     ]
    }
   ],
   "source": [
    "test_4.5()"
   ]
  },
  {
   "cell_type": "markdown",
   "metadata": {
    "deletable": false,
    "editable": false,
    "nbgrader": {
     "cell_type": "markdown",
     "checksum": "e8119d865196f0aff66c6d358734a05b",
     "grade": false,
     "grade_id": "cell-a6abb9eda899782f",
     "locked": true,
     "schema_version": 3,
     "solution": false,
     "task": false
    }
   },
   "source": [
    "**Question 4.6**\n",
    "<br> {points: 1}\n",
    "\n",
    "Plot the **departure** delay time data as a histogram with the same format as the previous plot.\n",
    "\n",
    "*Hint: copy and paste your code from the previous block! The only thing that will change is the delay data you input.*\n",
    "\n",
    "*Assign the output of ggplot to an object called* `departure_delay_plot`."
   ]
  },
  {
   "cell_type": "code",
   "execution_count": 65,
   "metadata": {
    "deletable": false,
    "nbgrader": {
     "cell_type": "code",
     "checksum": "fa637859e047d5996e7ff77fc4a546c9",
     "grade": false,
     "grade_id": "cell-ccb6e468d200a27c",
     "locked": false,
     "schema_version": 3,
     "solution": true,
     "task": false
    }
   },
   "outputs": [
    {
     "name": "stderr",
     "output_type": "stream",
     "text": [
      "Warning message:\n",
      "“Removed 201 rows containing non-finite values (stat_bin).”Warning message:\n",
      "“Removed 2 rows containing missing values (geom_bar).”"
     ]
    },
    {
     "data": {
      "image/png": "[encoded data removed]",
      "text/plain": [
       "plot without title"
      ]
     },
     "metadata": {},
     "output_type": "display_data"
    }
   ],
   "source": [
    "# your code here\n",
    "\n",
    "departure_delay_plot <- ggplot(delay_data, aes(x = DEPARTURE_DELAY/60)) +\n",
    "    geom_histogram(aes(y = 100 * stat(count) / sum(stat(count))), binwidth = .25, fill = 'lightblue', color ='steelblue')+\n",
    "    scale_x_continuous(limits = c(-2, 5))+\n",
    "    ylab('% of Flights')+\n",
    "    xlab('Delay (hours)')\n",
    "\n",
    "departure_delay_plot"
   ]
  },
  {
   "cell_type": "code",
   "execution_count": 66,
   "metadata": {
    "deletable": false,
    "editable": false,
    "nbgrader": {
     "cell_type": "code",
     "checksum": "32c24bfad6885c519de826b59ab81d38",
     "grade": true,
     "grade_id": "cell-72a3083183536c26",
     "locked": true,
     "points": 1,
     "schema_version": 3,
     "solution": false,
     "task": false
    }
   },
   "outputs": [
    {
     "name": "stdout",
     "output_type": "stream",
     "text": [
      "[1] \"Success!\"\n"
     ]
    }
   ],
   "source": [
    "test_4.6()"
   ]
  },
  {
   "cell_type": "markdown",
   "metadata": {
    "deletable": false,
    "editable": false,
    "nbgrader": {
     "cell_type": "markdown",
     "checksum": "96d825f0f1490b479a5462da3f4fe6e8",
     "grade": false,
     "grade_id": "cell-1c7eef04ed3ca25e",
     "locked": true,
     "schema_version": 3,
     "solution": false,
     "task": false
    }
   },
   "source": [
    "**Question 4.7**\n",
    "<br> {points: 1}\n",
    "\n",
    "Look at the two plots you generated. Are departures from or arrivals to BOS more likely to be on time (at most 15 minutes ahead/behind schedule)?\n",
    "\n",
    "*Assign your answer (either* `'departures'` or `'arrivals'` *) to a variable called* `answer4.7`. \n"
   ]
  },
  {
   "cell_type": "code",
   "execution_count": 67,
   "metadata": {
    "deletable": false,
    "nbgrader": {
     "cell_type": "code",
     "checksum": "b9f636166125b5bb5b8437518073d7d2",
     "grade": false,
     "grade_id": "cell-2dbbff8a5c76c43d",
     "locked": false,
     "schema_version": 3,
     "solution": true,
     "task": false
    }
   },
   "outputs": [],
   "source": [
    "#answer4.7 <- ...\n",
    "\n",
    "# your code here\n",
    "answer4.7 <- 'departures'"
   ]
  },
  {
   "cell_type": "code",
   "execution_count": 68,
   "metadata": {
    "deletable": false,
    "editable": false,
    "nbgrader": {
     "cell_type": "code",
     "checksum": "c6ac5ab14aeb4d446478261b07346933",
     "grade": true,
     "grade_id": "cell-92730484cc1f18bc",
     "locked": true,
     "points": 1,
     "schema_version": 3,
     "solution": false,
     "task": false
    }
   },
   "outputs": [
    {
     "name": "stdout",
     "output_type": "stream",
     "text": [
      "[1] \"Success!\"\n"
     ]
    }
   ],
   "source": [
    "test_4.7()"
   ]
  },
  {
   "cell_type": "markdown",
   "metadata": {
    "deletable": false,
    "editable": false,
    "nbgrader": {
     "cell_type": "markdown",
     "checksum": "56d28142b75fd2b99d711fb23992438e",
     "grade": false,
     "grade_id": "cell-f19dab8a7027fedf",
     "locked": true,
     "schema_version": 3,
     "solution": false,
     "task": false
    }
   },
   "source": [
    "So far, we've done everything using the `delay_data` database reference object constructed using functions from the `dbplyr` library. Remember: this isn't the data itself! If we want to save the small data subset that we've constructed to our local machines (perhaps to share it on the web or with collaborators), we'll need to take one last step. \n",
    "\n",
    "**Question 4.8.1**\n",
    "<br>{points: 1}\n",
    "\n",
    "We want to download the arrival / departure times data where the origin airport is BOS from the database. We will use the `collect` function to do this, which of the following should you use? \n",
    "\n",
    "A. `collect(delay_data)`\n",
    "\n",
    "B. `collect(flights_table_name)`\n",
    "\n",
    "C. `collect(conn)`\n",
    "\n",
    "D. `collect(flight_data)`\n",
    "\n",
    "Assign your answer as a single character to an object called `answer4.8.1`. For example, `answer4.8.1 <- 'E'`"
   ]
  },
  {
   "cell_type": "code",
   "execution_count": 69,
   "metadata": {
    "deletable": false,
    "nbgrader": {
     "cell_type": "code",
     "checksum": "ff4301d77d278a3393e4f08e4a27f384",
     "grade": false,
     "grade_id": "cell-ef26b547a5c2721d",
     "locked": false,
     "schema_version": 3,
     "solution": true,
     "task": false
    }
   },
   "outputs": [],
   "source": [
    "# Make sure the correct answer is an uppercase letter. \n",
    "# Surround your answer with quotation marks.\n",
    "# Replace the fail() with your answer. \n",
    "\n",
    "# your code here\n",
    "answer4.8.1 <- 'A'"
   ]
  },
  {
   "cell_type": "code",
   "execution_count": 70,
   "metadata": {
    "deletable": false,
    "editable": false,
    "nbgrader": {
     "cell_type": "code",
     "checksum": "603e21d105166942280356f369375fec",
     "grade": true,
     "grade_id": "cell-266f864a8ceefdd6",
     "locked": true,
     "points": 1,
     "schema_version": 3,
     "solution": false,
     "task": false
    }
   },
   "outputs": [
    {
     "name": "stdout",
     "output_type": "stream",
     "text": [
      "[1] \"Success!\"\n"
     ]
    }
   ],
   "source": [
    "test_4.8.1()"
   ]
  },
  {
   "cell_type": "markdown",
   "metadata": {},
   "source": [
    "**Question 4.8.2**\n",
    "<br>{points: 1}\n",
    "\n",
    "**If you input the wrong argument in the `collect()` function below your worksheet will time out. Please double check you have the correct answer to question 4.8.1 above and input the correct argument in the `collect()` function below!** \n",
    "\n",
    "Use the `collect` function to download the arrival / departure times data where the origin airport is BOS from the database and store it in a dataframe object called `delay_dataframe`. Then, use the `write_csv` function to write the dataframe to a file called `delay_data.csv`. Save the file in the `data/` folder.\n",
    "\n",
    "*Note: there are many possible ways to use `write_csv` to customize the output. Just use the defaults here!*"
   ]
  },
  {
   "cell_type": "code",
   "execution_count": 71,
   "metadata": {},
   "outputs": [],
   "source": [
    "#If you don't know how to call collect or write_csv, use this cell to \n",
    "#check the documentation by calling ?collect or ?write_csv\n",
    "write_csv(collect(delay_data), 'data/delay_data.csv')"
   ]
  },
  {
   "cell_type": "code",
   "execution_count": 72,
   "metadata": {
    "deletable": false,
    "nbgrader": {
     "cell_type": "code",
     "checksum": "1c90281b21afdaffd9276d3bf386d4f2",
     "grade": false,
     "grade_id": "cell-d6099a57242aca0b",
     "locked": false,
     "schema_version": 3,
     "solution": true,
     "task": false
    }
   },
   "outputs": [],
   "source": [
    "# If you input the wrong tbl in the collect() function below your worksheet will time out\n",
    "# Please make sure you check your answer to question 4.8.1 and input the correct tbl in the collect() function below \n",
    "#delay_dataframe <- collect(...)\n",
    "#write_csv(..., ...)\n",
    "\n",
    "# your code here\n",
    "delay_dataframe <- collect(delay_data)"
   ]
  },
  {
   "cell_type": "code",
   "execution_count": 73,
   "metadata": {
    "deletable": false,
    "editable": false,
    "nbgrader": {
     "cell_type": "code",
     "checksum": "2226f92f40d1dd5e0d82aefcd2a22976",
     "grade": true,
     "grade_id": "cell-9cd92c82958ba9fe",
     "locked": true,
     "points": 1,
     "schema_version": 3,
     "solution": false,
     "task": false
    }
   },
   "outputs": [
    {
     "name": "stdout",
     "output_type": "stream",
     "text": [
      "[1] \"Success!\"\n"
     ]
    }
   ],
   "source": [
    "test_4.8.2()"
   ]
  },
  {
   "cell_type": "markdown",
   "metadata": {
    "deletable": false,
    "editable": false,
    "nbgrader": {
     "cell_type": "markdown",
     "checksum": "28a050226cb8791cdf4e1a8aa210a557",
     "grade": false,
     "grade_id": "cell-286b4e70afde82f3",
     "locked": true,
     "schema_version": 3,
     "solution": false,
     "task": false
    }
   },
   "source": [
    "## 5 (Optional). Reading Data from the Internet\n",
    "\n",
    "### How has the World Gross Domestic product changed throughout history?\n",
    "\n",
    "\n",
    "As defined on Wikipedia, the \"Gross world product (GWP) is the combined gross national product of all the countries in the world.\" Living in our modern age with our roaring (sometimes up and sometimes down) economies, one might wonder how the world economy has changed over history. To answer this question we will scrape data from the [Wikipedia Gross world product page](https://en.wikipedia.org/wiki/Gross_world_product).\n",
    "\n",
    "Your data set will include the following columns: \n",
    "* `year`\n",
    "* `gwp_value`\n",
    "\n",
    "Specifically we will scrape the 2 columns named \"Year\" and \"Real GWP\" in the table under the header \"Historical and prehistorical estimates\". **The end goal of this exercise is to create a line plot with year on the x-axis and GWP value on the y-axis.**"
   ]
  },
  {
   "cell_type": "markdown",
   "metadata": {
    "deletable": false,
    "editable": false,
    "nbgrader": {
     "cell_type": "markdown",
     "checksum": "1326518a2cbeab24a46192bab5e78503",
     "grade": false,
     "grade_id": "cell-2cfe0d273d96fdf7",
     "locked": true,
     "schema_version": 3,
     "solution": false
    }
   },
   "source": [
    "**Question 5.1.0** Multiple Choice: \n",
    "<br> {points: 1}\n",
    "\n",
    "Under which of the following headers in the table will we scrape from on the [Wikipedia Gross world product page](https://en.wikipedia.org/wiki/Gross_world_product)?\n",
    "\n",
    "A. Gross world product\n",
    "\n",
    "B. Recent growth\n",
    "\n",
    "C. Historical and prehistorical estimates\n",
    "\n",
    "D. See also\n",
    "\n",
    "*Assign your answer to an object called `answer5.1.0`.* "
   ]
  },
  {
   "cell_type": "code",
   "execution_count": 74,
   "metadata": {
    "deletable": false,
    "nbgrader": {
     "cell_type": "code",
     "checksum": "764ed24a485b69c82fce15252d5e4b0c",
     "grade": false,
     "grade_id": "cell-a9b7dd149eeb7782",
     "locked": false,
     "schema_version": 3,
     "solution": true
    }
   },
   "outputs": [],
   "source": [
    "# Make sure the correct answer is an uppercase letter. \n",
    "# Surround your answer with quotation marks.\n",
    "# Replace the fail() with your answer. \n",
    "\n",
    "# your code here\n",
    "answer5.1.0 <- 'C'"
   ]
  },
  {
   "cell_type": "code",
   "execution_count": 75,
   "metadata": {
    "deletable": false,
    "editable": false,
    "nbgrader": {
     "cell_type": "code",
     "checksum": "394bb7ca6d6ae46ed20b3a3ce65cce33",
     "grade": true,
     "grade_id": "cell-631492053b2d5ec4",
     "locked": true,
     "points": 0,
     "schema_version": 3,
     "solution": false
    }
   },
   "outputs": [
    {
     "name": "stdout",
     "output_type": "stream",
     "text": [
      "[1] \"Success!\"\n"
     ]
    }
   ],
   "source": [
    "test_5.1.0()"
   ]
  },
  {
   "cell_type": "markdown",
   "metadata": {
    "deletable": false,
    "editable": false,
    "nbgrader": {
     "cell_type": "markdown",
     "checksum": "922f2e49af68d65e964068a7b4e3474c",
     "grade": false,
     "grade_id": "cell-cc8eaf2a5c4886c3",
     "locked": true,
     "schema_version": 3,
     "solution": false
    }
   },
   "source": [
    "**Question 5.1.1** Multiple Choice: \n",
    "<br> {points: 1}\n",
    "\n",
    "What is going to be the x-axis of the scatter plot we create?\n",
    "\n",
    "A. compound annual growth rate\n",
    "\n",
    "B. the value of the gross world product\n",
    "\n",
    "C. year\n",
    "\n",
    "*Assign your answer to an object called `answer5.1.1`.* "
   ]
  },
  {
   "cell_type": "code",
   "execution_count": 76,
   "metadata": {
    "deletable": false,
    "nbgrader": {
     "cell_type": "code",
     "checksum": "76331db44d04143aacfe45596104458b",
     "grade": false,
     "grade_id": "cell-6a1ec0727ab3608a",
     "locked": false,
     "schema_version": 3,
     "solution": true
    }
   },
   "outputs": [],
   "source": [
    "# Make sure the correct answer is an uppercase letter. \n",
    "# Surround your answer with quotation marks.\n",
    "# Replace the fail() with your answer. \n",
    "\n",
    "# your code here\n",
    "answer5.1.1 <- 'C'"
   ]
  },
  {
   "cell_type": "code",
   "execution_count": 77,
   "metadata": {
    "deletable": false,
    "editable": false,
    "nbgrader": {
     "cell_type": "code",
     "checksum": "265340062c687dd3ab8b15e84110f0da",
     "grade": true,
     "grade_id": "cell-29f38784d22f2c8b",
     "locked": true,
     "points": 0,
     "schema_version": 3,
     "solution": false
    }
   },
   "outputs": [
    {
     "name": "stdout",
     "output_type": "stream",
     "text": [
      "[1] \"Success!\"\n"
     ]
    }
   ],
   "source": [
    "test_5.1.1()"
   ]
  },
  {
   "cell_type": "markdown",
   "metadata": {
    "deletable": false,
    "editable": false,
    "nbgrader": {
     "cell_type": "markdown",
     "checksum": "544d4470d7c988611a3092229e7134ba",
     "grade": false,
     "grade_id": "cell-63c50471d354863a",
     "locked": true,
     "schema_version": 3,
     "solution": false,
     "task": false
    }
   },
   "source": [
    "We need to now load the `rvest` package to begin our web scraping!"
   ]
  },
  {
   "cell_type": "code",
   "execution_count": 78,
   "metadata": {},
   "outputs": [
    {
     "name": "stderr",
     "output_type": "stream",
     "text": [
      "Loading required package: xml2\n",
      "\n",
      "Attaching package: ‘rvest’\n",
      "\n",
      "The following object is masked from ‘package:purrr’:\n",
      "\n",
      "    pluck\n",
      "\n",
      "The following object is masked from ‘package:readr’:\n",
      "\n",
      "    guess_encoding\n",
      "\n"
     ]
    }
   ],
   "source": [
    "# Run this cell \n",
    "library(rvest)"
   ]
  },
  {
   "cell_type": "markdown",
   "metadata": {
    "deletable": false,
    "editable": false,
    "nbgrader": {
     "cell_type": "markdown",
     "checksum": "17746fdadabb950321be1fc6e9730d84",
     "grade": false,
     "grade_id": "cell-5815e9c54d669efe",
     "locked": true,
     "schema_version": 3,
     "solution": false
    }
   },
   "source": [
    "**Question 5.2**\n",
    "<br> {points: 1}\n",
    "\n",
    "Use `read_html` to download information from the URL given in the cell below. \n",
    "\n",
    "*Assign your answer to an object called `gwp`.*"
   ]
  },
  {
   "cell_type": "code",
   "execution_count": 79,
   "metadata": {
    "deletable": false,
    "nbgrader": {
     "cell_type": "code",
     "checksum": "39ca57589a6156cf488a09032d4a1694",
     "grade": false,
     "grade_id": "cell-eb85da73cb3eedb1",
     "locked": false,
     "schema_version": 3,
     "solution": true
    }
   },
   "outputs": [
    {
     "name": "stdout",
     "output_type": "stream",
     "text": [
      "{html_document}\n",
      "<html class=\"client-nojs\" lang=\"en\" dir=\"ltr\">\n",
      "[1] <head>\\n<meta http-equiv=\"Content-Type\" content=\"text/html; charset=UTF-8 ...\n",
      "[2] <body class=\"mediawiki ltr sitedir-ltr mw-hide-empty-elt ns-0 ns-subject  ...\n"
     ]
    }
   ],
   "source": [
    "# Assign your answer to an object called: gwp\n",
    "# Instead of copying the entire URL, you can simply use the object (url) after read_html()\n",
    "\n",
    "url <- 'https://en.wikipedia.org/wiki/Gross_world_product'\n",
    "\n",
    "# your code here\n",
    "gwp <- read_html(url)\n",
    "print(gwp)"
   ]
  },
  {
   "cell_type": "code",
   "execution_count": 80,
   "metadata": {
    "deletable": false,
    "editable": false,
    "nbgrader": {
     "cell_type": "code",
     "checksum": "79e117db5738721bb28f32418e8d6c15",
     "grade": true,
     "grade_id": "cell-0c1e5c213d4da058",
     "locked": true,
     "points": 0,
     "schema_version": 3,
     "solution": false
    }
   },
   "outputs": [
    {
     "name": "stdout",
     "output_type": "stream",
     "text": [
      "[1] \"Success!\"\n"
     ]
    }
   ],
   "source": [
    "test_5.2()"
   ]
  },
  {
   "cell_type": "markdown",
   "metadata": {
    "deletable": false,
    "editable": false,
    "nbgrader": {
     "cell_type": "markdown",
     "checksum": "beb46df7915d62d37e509535cbf96e36",
     "grade": false,
     "grade_id": "cell-f3a7fe22bb441577",
     "locked": true,
     "schema_version": 3,
     "solution": false
    }
   },
   "source": [
    "**Question 5.3**\n",
    "\n",
    "Run the cell below to create the first column of your data set (the year from the table under the \"Historical and prehistorical estimates\" header). The node was obtained using `SelectorGadget`. "
   ]
  },
  {
   "cell_type": "code",
   "execution_count": 81,
   "metadata": {},
   "outputs": [
    {
     "data": {
      "text/html": [
       "<ol class=list-inline>\n",
       "\t<li>'2014 AD\\n'</li>\n",
       "\t<li>'2010 AD\\n'</li>\n",
       "\t<li>'2005 AD\\n'</li>\n",
       "\t<li>'2000 AD\\n'</li>\n",
       "\t<li>'1995 AD\\n'</li>\n",
       "\t<li>'1990 AD\\n'</li>\n",
       "</ol>\n"
      ],
      "text/latex": [
       "\\begin{enumerate*}\n",
       "\\item '2014 AD\\textbackslash{}n'\n",
       "\\item '2010 AD\\textbackslash{}n'\n",
       "\\item '2005 AD\\textbackslash{}n'\n",
       "\\item '2000 AD\\textbackslash{}n'\n",
       "\\item '1995 AD\\textbackslash{}n'\n",
       "\\item '1990 AD\\textbackslash{}n'\n",
       "\\end{enumerate*}\n"
      ],
      "text/markdown": [
       "1. '2014 AD\\n'\n",
       "2. '2010 AD\\n'\n",
       "3. '2005 AD\\n'\n",
       "4. '2000 AD\\n'\n",
       "5. '1995 AD\\n'\n",
       "6. '1990 AD\\n'\n",
       "\n",
       "\n"
      ],
      "text/plain": [
       "[1] \"2014 AD\\n\" \"2010 AD\\n\" \"2005 AD\\n\" \"2000 AD\\n\" \"1995 AD\\n\" \"1990 AD\\n\""
      ]
     },
     "metadata": {},
     "output_type": "display_data"
    }
   ],
   "source": [
    "# Run this cell to create the first column for your data set. \n",
    "year <- html_text(html_nodes(gwp, \".wikitable tbody:nth-child(1) td:nth-child(1)\"))\n",
    "head(year)"
   ]
  },
  {
   "cell_type": "markdown",
   "metadata": {},
   "source": [
    "We can see that although we want numbers for the year, the data we scraped includes the characters `AD` and `\\n` (a newline character). We will have to do some string manipulation and then convert the years from characters to numbers. \n",
    "\n",
    "First we use the `str_replace_all` function to match the string `\" AD\\n\"` and replace it with nothing `\"\"`:"
   ]
  },
  {
   "cell_type": "code",
   "execution_count": 82,
   "metadata": {},
   "outputs": [
    {
     "name": "stdout",
     "output_type": "stream",
     "text": [
      " [1] \"2014\"           \"2010\"           \"2005\"           \"2000\"          \n",
      " [5] \"1995\"           \"1990\"           \"1985\"           \"1980\"          \n",
      " [9] \"1975\"           \"1970\"           \"1965\"           \"1960\"          \n",
      "[13] \"1955\"           \"1950\"           \"1940\"           \"1930\"          \n",
      "[17] \"1925\"           \"1920\"           \"1900\"           \"1875\"          \n",
      "[21] \"1850\"           \"1800\"           \"1750\"           \"1700\"          \n",
      "[25] \"1650\"           \"1600\"           \"1500\"           \"1400\"          \n",
      "[29] \"1350\"           \"1300\"           \"1250\"           \"1200\"          \n",
      "[33] \"1100\"           \"1000\"           \"900\"            \"800\"           \n",
      "[37] \"700\"            \"600\"            \"500\"            \"400\"           \n",
      "[41] \"350\"            \"200\"            \"14\"             \"1\"             \n",
      "[45] \"200 BC\\n\"       \"400 BC\\n\"       \"500 BC\\n\"       \"800 BC\\n\"      \n",
      "[49] \"1000 BC\\n\"      \"1600 BC\\n\"      \"2000 BC\\n\"      \"3000 BC\\n\"     \n",
      "[53] \"4000 BC\\n\"      \"5000 BC\\n\"      \"8000 BC\\n\"      \"10,000 BC\\n\"   \n",
      "[57] \"25,000 BC\\n\"    \"300,000 BC\\n\"   \"1,000,000 BC\\n\"\n"
     ]
    }
   ],
   "source": [
    "# Run this cell.\n",
    "# Use stringr library.\n",
    "library(stringr)\n",
    "# Replace \" AD\\n\" with nothing.\n",
    "year <- str_replace_all(string = year, pattern = \" AD\\n\", replacement = \"\")\n",
    "print(year)"
   ]
  },
  {
   "cell_type": "markdown",
   "metadata": {},
   "source": [
    "When we print year, we can see we were able to remove `\" AD\\n\"`, but we missed that there is also `\" BC\\n\"` on the earliest years! There are also commas (`\",\"`) in the large BC years that we will have to remove. We also need to put a `-` sign in front of the BC numbers so we don't confuse them with the AD numbers after we convert everything to numbers. To do this we will need to use a similar strategy to clean this all up! \n",
    "\n",
    "This week we will provide you the code to do this cleaning, next week you will learn to do these kinds of things yourself. After we do all the string/text manipulation then we use the `as.numeric` function to convert the text to numbers."
   ]
  },
  {
   "cell_type": "code",
   "execution_count": 83,
   "metadata": {},
   "outputs": [
    {
     "name": "stdout",
     "output_type": "stream",
     "text": [
      " [1]     2014     2010     2005     2000     1995     1990     1985     1980\n",
      " [9]     1975     1970     1965     1960     1955     1950     1940     1930\n",
      "[17]     1925     1920     1900     1875     1850     1800     1750     1700\n",
      "[25]     1650     1600     1500     1400     1350     1300     1250     1200\n",
      "[33]     1100     1000      900      800      700      600      500      400\n",
      "[41]      350      200       14        1     -200     -400     -500     -800\n",
      "[49]    -1000    -1600    -2000    -3000    -4000    -5000    -8000   -10000\n",
      "[57]   -25000  -300000 -1000000\n"
     ]
    }
   ],
   "source": [
    "# Run this cell to clean up the year data and convert it to a number.\n",
    "# Use grep to select the lines containing \" BC\\n\" and put a - at the beginning of them.\n",
    "year[grepl(pattern = \" BC\\n\", x = year)] <- str_replace_all(string = year[grepl(pattern = \" BC\\n\", x = year)], pattern = \"^\", replacement = \"-\")\n",
    "\n",
    "# Replace all commas with nothing.\n",
    "year <- str_replace_all(string = year, pattern = \",\", replacement = \"\")\n",
    "# Extract the minus symbol and the numbers.\n",
    "year <- as.numeric(str_extract(string = year, pattern = \"-?[0-9]+\"))\n",
    "print(year)"
   ]
  },
  {
   "cell_type": "markdown",
   "metadata": {
    "deletable": false,
    "editable": false,
    "nbgrader": {
     "cell_type": "markdown",
     "checksum": "3754c31e1c721c05b3e7b62b402dcc13",
     "grade": false,
     "grade_id": "cell-ee11d70af0ae1f21",
     "locked": true,
     "schema_version": 3,
     "solution": false
    }
   },
   "source": [
    "**Question 5.4**\n",
    "<br> {points: 1}\n",
    "\n",
    "Create a new column for the gross world product (GWP) from the table we are scraping. Don't forget to use `SelectorGadget` to obtain the CSS selector needed to scrape the GWP values from the table we are scraping. Assign your answer to an object called `gwp_value`. \n",
    "\n",
    "Fill in the `...` in the cell below. Copy and paste your finished answer into the `fail()`. \n",
    "\n",
    "Refer to **Question 5.3** and don't be afraid to ask for help. "
   ]
  },
  {
   "cell_type": "code",
   "execution_count": 84,
   "metadata": {
    "deletable": false,
    "nbgrader": {
     "cell_type": "code",
     "checksum": "f08ce3282ed04ee51ec8c382549f32cb",
     "grade": false,
     "grade_id": "cell-fc7e31721b1040ff",
     "locked": false,
     "schema_version": 3,
     "solution": true,
     "task": false
    }
   },
   "outputs": [
    {
     "ename": "ERROR",
     "evalue": "Error in head(gwp_value): object 'gwp_value' not found\n",
     "output_type": "error",
     "traceback": [
      "Error in head(gwp_value): object 'gwp_value' not found\nTraceback:\n",
      "1. head(gwp_value)"
     ]
    }
   ],
   "source": [
    "# gwp_value <- ...(html_nodes(gwp, ...))\n",
    "\n",
    "# your code here\n",
    "# fail() # No Answer - remove if you provide an answer\n",
    "head(gwp_value)"
   ]
  },
  {
   "cell_type": "code",
   "execution_count": null,
   "metadata": {
    "deletable": false,
    "editable": false,
    "nbgrader": {
     "cell_type": "code",
     "checksum": "372c936377897f9217de2a887ad18dd9",
     "grade": true,
     "grade_id": "cell-15126d99f838d9b6",
     "locked": true,
     "points": 0,
     "schema_version": 3,
     "solution": false
    }
   },
   "outputs": [],
   "source": [
    "test_5.4()"
   ]
  },
  {
   "cell_type": "markdown",
   "metadata": {},
   "source": [
    "Again, looking at the output of `head(gwp_value)` we see we have some cleaning and type conversions to do. We need to remove the commas, the extraneous trailing information in the first 3 columns, and the `\"\\n\"` character again. We provide the code to do this below:"
   ]
  },
  {
   "cell_type": "code",
   "execution_count": null,
   "metadata": {},
   "outputs": [],
   "source": [
    "# Run this cell to clean up the year data and convert it to a number.\n",
    "# Create a new variable called gwp_value_clean.\n",
    "gwp_value_clean <-  gwp_value\n",
    "\n",
    "# Replace all commas with nothing.\n",
    "gwp_value <- str_replace_all(string = gwp_value, pattern = \",\", replacement = \"\")\n",
    "\n",
    "# Extract the numbers and decimals.\n",
    "gwp_value <- as.numeric(str_extract(string = gwp_value, pattern = \"[0-9.]+\")) \n",
    "print(gwp_value)"
   ]
  },
  {
   "cell_type": "markdown",
   "metadata": {
    "deletable": false,
    "editable": false,
    "nbgrader": {
     "cell_type": "markdown",
     "checksum": "6a3e3e973b8d06364ea3d7e750fe4105",
     "grade": false,
     "grade_id": "cell-e7cd941c74d291b3",
     "locked": true,
     "schema_version": 3,
     "solution": false
    }
   },
   "source": [
    "**Question 5.5**\n",
    "<br> {points: 1}\n",
    "\n",
    "Use the `tidyverse` `tibble` function to create a data frame named `gwp` with `year` and `gwp_value` as columns. The general form for the creating data frames from vectors/lists using the `tibble` function is as follows:\n",
    "\n",
    "```tibble(COLUMN1_NAME, COLUMN2_NAME, COLUMN3_NAME, ...)```"
   ]
  },
  {
   "cell_type": "code",
   "execution_count": null,
   "metadata": {
    "deletable": false,
    "nbgrader": {
     "cell_type": "code",
     "checksum": "0ce5840eb44b74e1bdd45fb98d0cfbee",
     "grade": false,
     "grade_id": "cell-d1371cd4b958c5bc",
     "locked": false,
     "schema_version": 3,
     "solution": true
    }
   },
   "outputs": [],
   "source": [
    "# Create data.frame with columns year and gwp_value named gwp.\n",
    "# Fill in the blanks in the code skeleton provided below.\n",
    "#... <- tibble(..., ...)\n",
    "\n",
    "# your code here\n",
    "fail() # No Answer - remove if you provide an answer\n",
    "head(gwp)"
   ]
  },
  {
   "cell_type": "code",
   "execution_count": null,
   "metadata": {
    "deletable": false,
    "editable": false,
    "nbgrader": {
     "cell_type": "code",
     "checksum": "2a5f2644d25277811405416e1aa1fce5",
     "grade": true,
     "grade_id": "cell-2e58f17d6d715a58",
     "locked": true,
     "points": 0,
     "schema_version": 3,
     "solution": false
    }
   },
   "outputs": [],
   "source": [
    "test_5.5()"
   ]
  },
  {
   "cell_type": "markdown",
   "metadata": {},
   "source": [
    "One last piece of data transformation/wrangling we will do before we get to data visualization is to create another column called `sqrt_year` which scales the year values so that they will be more informative when we plot them (if you look at our year data we have a lot of years in the recent past, and fewer and fewer as we go back in time). Often times you can just transform the scale within `ggplot` (for example see what we do with the `gwp_value` later on), but the year value is tricky for scaling because it contains negative values. So we need to first make everything positive, then take the square root, and then re-transform the values that should be negative to negative again! We provide the code to do this below."
   ]
  },
  {
   "cell_type": "code",
   "execution_count": null,
   "metadata": {},
   "outputs": [],
   "source": [
    "gwp <- mutate(gwp, sqrt_year = sqrt(abs(year)))\n",
    "gwp <- mutate(gwp, sqrt_year = if_else(year < 0, sqrt_year * -1, sqrt_year))\n",
    "head(gwp)"
   ]
  },
  {
   "cell_type": "markdown",
   "metadata": {
    "deletable": false,
    "editable": false,
    "nbgrader": {
     "cell_type": "markdown",
     "checksum": "aca5c828c4ab784e0dfc20f1e860700c",
     "grade": false,
     "grade_id": "cell-ee318d84dfeeaa45",
     "locked": true,
     "schema_version": 3,
     "solution": false
    }
   },
   "source": [
    "**Question 5.6**\n",
    "<br> {points: 1}\n",
    "\n",
    "Create a line plot using the `gwp` data frame where `sqrt_year` is on the x-axis and `gwp_value` is on the y-axis. *We provide the plot code to relabel the x-axis with the human understandable years instead of the tranformed ones we plot.* Name your plot object `gwp_historical`. To make a line plot instead of a scatter plot you should use the `geom_line()` function instead of the `geom_point()` function."
   ]
  },
  {
   "cell_type": "code",
   "execution_count": null,
   "metadata": {
    "deletable": false,
    "nbgrader": {
     "cell_type": "code",
     "checksum": "751e609c9b650e6c64ba0689a7e20b11",
     "grade": false,
     "grade_id": "cell-bbe05ddba3e2c8e7",
     "locked": false,
     "schema_version": 3,
     "solution": true
    }
   },
   "outputs": [],
   "source": [
    "# Assign your answer to an object called: gwp_historical\n",
    "# Fill in the missing parts of the code below to make the plot\n",
    "\n",
    "#... <- ggplot(gwp, aes(x = ..., y = ...)) +\n",
    "    #geom_line() +\n",
    "    #scale_y_continuous(trans='log10') +\n",
    "    #scale_x_continuous(breaks = c(-1000, -750, -500, -250, -77.7, 0, 38.7), \n",
    "    #                   labels = c(\"-1000000\", \"-562500\", \"-250000\", \"-62500\", \"-5000\", \"0\", \"1500\")) +\n",
    "    #ylab(\"...\") +\n",
    "    #xlab(\"Year\")\n",
    "\n",
    "options(repr.plot.width=8, repr.plot.height=3)\n",
    "# your code here\n",
    "fail() # No Answer - remove if you provide an answer\n",
    "gwp_historical"
   ]
  },
  {
   "cell_type": "code",
   "execution_count": null,
   "metadata": {
    "deletable": false,
    "editable": false,
    "nbgrader": {
     "cell_type": "code",
     "checksum": "1be620321fc45c45f4cc240470ed886b",
     "grade": true,
     "grade_id": "cell-bb0696a343e1255c",
     "locked": true,
     "points": 0,
     "schema_version": 3,
     "solution": false
    }
   },
   "outputs": [],
   "source": [
    "test_5.6()"
   ]
  },
  {
   "cell_type": "markdown",
   "metadata": {
    "deletable": false,
    "editable": false,
    "nbgrader": {
     "cell_type": "markdown",
     "checksum": "fac1561bf811513fa8266ee4522a36c7",
     "grade": false,
     "grade_id": "cell-fac12005e571ba5b",
     "locked": true,
     "schema_version": 3,
     "solution": false
    }
   },
   "source": [
    "**Question 5.7** \n",
    "<br> {points: 1}\n",
    "\n",
    "Looking at the line plot, when does the Gross World Domestic Product first start to more rapidly increase (i.e., when does the slope of the line first change)? \n",
    "\n",
    "A. roughly around year -1,000,000\n",
    "\n",
    "B. roughly around year -250,000\n",
    "\n",
    "C. roughly around year -5000\n",
    "\n",
    "D. roughly around year 1500\n",
    "\n",
    "\n",
    "*Assign your answer to an object called `answer5.7`.*"
   ]
  },
  {
   "cell_type": "code",
   "execution_count": null,
   "metadata": {
    "deletable": false,
    "nbgrader": {
     "cell_type": "code",
     "checksum": "fe3617ff651b60c0666311688387ed28",
     "grade": false,
     "grade_id": "cell-dd7f4c508c47aec3",
     "locked": false,
     "schema_version": 3,
     "solution": true
    }
   },
   "outputs": [],
   "source": [
    "# Make sure the correct answer is an uppercase letter. \n",
    "# Surround your answer with quotation marks.\n",
    "# Replace the fail() with your answer. \n",
    "\n",
    "# your code here\n",
    "fail() # No Answer - remove if you provide an answer"
   ]
  },
  {
   "cell_type": "code",
   "execution_count": null,
   "metadata": {
    "deletable": false,
    "editable": false,
    "nbgrader": {
     "cell_type": "code",
     "checksum": "b4961df5619abd23faea277ef4d0e69d",
     "grade": true,
     "grade_id": "cell-8375f0716c6f8541",
     "locked": true,
     "points": 0,
     "schema_version": 3,
     "solution": false
    }
   },
   "outputs": [],
   "source": [
    "test_5.7()"
   ]
  }
 ],
 "metadata": {
  "kernelspec": {
   "display_name": "R",
   "language": "R",
   "name": "ir"
  },
  "language_info": {
   "codemirror_mode": "r",
   "file_extension": ".r",
   "mimetype": "text/x-r-source",
   "name": "R",
   "pygments_lexer": "r",
   "version": "3.6.1"
  }
 },
 "nbformat": 4,
 "nbformat_minor": 2
}
