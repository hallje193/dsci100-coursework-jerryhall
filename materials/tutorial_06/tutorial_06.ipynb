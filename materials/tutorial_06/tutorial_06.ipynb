{
 "cells": [
  {
   "cell_type": "markdown",
   "metadata": {
    "deletable": false,
    "editable": false,
    "nbgrader": {
     "cell_type": "markdown",
     "checksum": "349f52b2f41f8892dd94b90a969b65e8",
     "grade": false,
     "grade_id": "cell-f02ea959d4ec286a",
     "locked": true,
     "schema_version": 3,
     "solution": false,
     "task": false
    }
   },
   "source": [
    "# Tutorial 6: Classification"
   ]
  },
  {
   "cell_type": "code",
   "execution_count": 1,
   "metadata": {
    "deletable": false,
    "editable": false,
    "nbgrader": {
     "cell_type": "code",
     "checksum": "0ffa453c6984373e8a58d8ca41c11f0a",
     "grade": false,
     "grade_id": "cell-77dbb6c4a3f6c87c",
     "locked": true,
     "schema_version": 3,
     "solution": false,
     "task": false
    }
   },
   "outputs": [
    {
     "name": "stderr",
     "output_type": "stream",
     "text": [
      "── \u001b[1mAttaching packages\u001b[22m ─────────────────────────────────────── tidyverse 1.2.1 ──\n",
      "\u001b[32m✔\u001b[39m \u001b[34mggplot2\u001b[39m 3.2.0     \u001b[32m✔\u001b[39m \u001b[34mpurrr  \u001b[39m 0.3.2\n",
      "\u001b[32m✔\u001b[39m \u001b[34mtibble \u001b[39m 2.1.3     \u001b[32m✔\u001b[39m \u001b[34mdplyr  \u001b[39m 0.8.3\n",
      "\u001b[32m✔\u001b[39m \u001b[34mtidyr  \u001b[39m 0.8.3     \u001b[32m✔\u001b[39m \u001b[34mstringr\u001b[39m 1.4.0\n",
      "\u001b[32m✔\u001b[39m \u001b[34mreadr  \u001b[39m 1.3.1     \u001b[32m✔\u001b[39m \u001b[34mforcats\u001b[39m 0.4.0\n",
      "── \u001b[1mConflicts\u001b[22m ────────────────────────────────────────── tidyverse_conflicts() ──\n",
      "\u001b[31m✖\u001b[39m \u001b[34mdplyr\u001b[39m::\u001b[32mfilter()\u001b[39m masks \u001b[34mstats\u001b[39m::filter()\n",
      "\u001b[31m✖\u001b[39m \u001b[34mdplyr\u001b[39m::\u001b[32mlag()\u001b[39m    masks \u001b[34mstats\u001b[39m::lag()\n",
      "Loading required package: lattice\n",
      "\n",
      "Attaching package: ‘caret’\n",
      "\n",
      "The following object is masked from ‘package:purrr’:\n",
      "\n",
      "    lift\n",
      "\n",
      "\n",
      "Attaching package: ‘testthat’\n",
      "\n",
      "The following object is masked from ‘package:dplyr’:\n",
      "\n",
      "    matches\n",
      "\n",
      "The following object is masked from ‘package:purrr’:\n",
      "\n",
      "    is_null\n",
      "\n"
     ]
    }
   ],
   "source": [
    "### Run this cell before continuing. \n",
    "library(tidyverse)\n",
    "library(repr)\n",
    "library(caret)\n",
    "source('tests_tutorial_06.R')\n",
    "source(\"cleanup_tutorial_06.R\")"
   ]
  },
  {
   "cell_type": "markdown",
   "metadata": {
    "deletable": false,
    "editable": false,
    "nbgrader": {
     "cell_type": "markdown",
     "checksum": "3212139a82491043fb5d1b509ea2f763",
     "grade": false,
     "grade_id": "cell-3c39ab86894e4ae1",
     "locked": true,
     "schema_version": 3,
     "solution": false,
     "task": false
    }
   },
   "source": [
    "## 1. Fruit Dataset\n",
    "\n",
    "In the agricultural industry, cleaning, sorting, grading, and packaging food products are all necessary tasks in the post-harvest process. Products are classified based on appearance, size and shape, attributes which helps determine the quality of the food. Sorting can be done by humans, but it is tedious and time consuming. Automatic sorting could help save time and money. Images of the food products are captured and analysed to determine visual characteristics. \n",
    "\n",
    "The [dataset](https://www.kaggle.com/mjamilmoughal/k-nearest-neighbor-classifier-to-predict-fruits/notebook) contains observations of fruit described with four features 1) mass 2) width 3) height and 4) color score. The dataset `fruit_data_scaled.csv` in the `data` folder has been scaled as part of the data preparation."
   ]
  },
  {
   "cell_type": "markdown",
   "metadata": {
    "deletable": false,
    "editable": false,
    "nbgrader": {
     "cell_type": "markdown",
     "checksum": "9ff46205b2d1d28931b2e96a88e7bc38",
     "grade": false,
     "grade_id": "cell-a41483c18dd65f3a",
     "locked": true,
     "schema_version": 3,
     "solution": false
    }
   },
   "source": [
    "**Question 1.0**\n",
    "<br> {points: 1}\n",
    "\n",
    "Read the data in `fruit_data_scaled.csv` into the notebook. Name it `fruit_data`."
   ]
  },
  {
   "cell_type": "code",
   "execution_count": 2,
   "metadata": {
    "deletable": false,
    "nbgrader": {
     "cell_type": "code",
     "checksum": "2cfe5cd81d8d35fc19a14f0a1f5a6787",
     "grade": false,
     "grade_id": "cell-8934b79e92f1b787",
     "locked": false,
     "schema_version": 3,
     "solution": true
    }
   },
   "outputs": [
    {
     "name": "stderr",
     "output_type": "stream",
     "text": [
      "Parsed with column specification:\n",
      "cols(\n",
      "  fruit_label = \u001b[32mcol_double()\u001b[39m,\n",
      "  fruit_name = \u001b[31mcol_character()\u001b[39m,\n",
      "  fruit_subtype = \u001b[31mcol_character()\u001b[39m,\n",
      "  scaled_mass = \u001b[32mcol_double()\u001b[39m,\n",
      "  scaled_width = \u001b[32mcol_double()\u001b[39m,\n",
      "  scaled_height = \u001b[32mcol_double()\u001b[39m,\n",
      "  scaled_color = \u001b[32mcol_double()\u001b[39m\n",
      ")\n"
     ]
    },
    {
     "data": {
      "text/html": [
       "<table>\n",
       "<caption>A tibble: 6 × 7</caption>\n",
       "<thead>\n",
       "\t<tr><th scope=col>fruit_label</th><th scope=col>fruit_name</th><th scope=col>fruit_subtype</th><th scope=col>scaled_mass</th><th scope=col>scaled_width</th><th scope=col>scaled_height</th><th scope=col>scaled_color</th></tr>\n",
       "\t<tr><th scope=col>&lt;dbl&gt;</th><th scope=col>&lt;chr&gt;</th><th scope=col>&lt;chr&gt;</th><th scope=col>&lt;dbl&gt;</th><th scope=col>&lt;dbl&gt;</th><th scope=col>&lt;dbl&gt;</th><th scope=col>&lt;dbl&gt;</th></tr>\n",
       "</thead>\n",
       "<tbody>\n",
       "\t<tr><td>1</td><td>apple   </td><td>granny_smith</td><td> 0.5249358</td><td> 1.5850841</td><td>-0.2889166</td><td>-2.76981970</td></tr>\n",
       "\t<tr><td>1</td><td>apple   </td><td>granny_smith</td><td> 0.3068287</td><td> 1.0954508</td><td>-0.6562889</td><td>-2.24937587</td></tr>\n",
       "\t<tr><td>1</td><td>apple   </td><td>granny_smith</td><td> 0.2341263</td><td> 0.3610008</td><td>-0.3623910</td><td>-2.11926491</td></tr>\n",
       "\t<tr><td>2</td><td>mandarin</td><td>mandarin    </td><td>-1.4016772</td><td>-1.1078991</td><td>-2.1992529</td><td> 0.48295423</td></tr>\n",
       "\t<tr><td>2</td><td>mandarin</td><td>mandarin    </td><td>-1.4380284</td><td>-1.3527158</td><td>-2.2727273</td><td> 0.35284327</td></tr>\n",
       "\t<tr><td>2</td><td>mandarin</td><td>mandarin    </td><td>-1.5107308</td><td>-1.5975324</td><td>-2.4931508</td><td> 0.09262136</td></tr>\n",
       "</tbody>\n",
       "</table>\n"
      ],
      "text/latex": [
       "A tibble: 6 × 7\n",
       "\\begin{tabular}{r|lllllll}\n",
       " fruit\\_label & fruit\\_name & fruit\\_subtype & scaled\\_mass & scaled\\_width & scaled\\_height & scaled\\_color\\\\\n",
       " <dbl> & <chr> & <chr> & <dbl> & <dbl> & <dbl> & <dbl>\\\\\n",
       "\\hline\n",
       "\t 1 & apple    & granny\\_smith &  0.5249358 &  1.5850841 & -0.2889166 & -2.76981970\\\\\n",
       "\t 1 & apple    & granny\\_smith &  0.3068287 &  1.0954508 & -0.6562889 & -2.24937587\\\\\n",
       "\t 1 & apple    & granny\\_smith &  0.2341263 &  0.3610008 & -0.3623910 & -2.11926491\\\\\n",
       "\t 2 & mandarin & mandarin     & -1.4016772 & -1.1078991 & -2.1992529 &  0.48295423\\\\\n",
       "\t 2 & mandarin & mandarin     & -1.4380284 & -1.3527158 & -2.2727273 &  0.35284327\\\\\n",
       "\t 2 & mandarin & mandarin     & -1.5107308 & -1.5975324 & -2.4931508 &  0.09262136\\\\\n",
       "\\end{tabular}\n"
      ],
      "text/markdown": [
       "\n",
       "A tibble: 6 × 7\n",
       "\n",
       "| fruit_label &lt;dbl&gt; | fruit_name &lt;chr&gt; | fruit_subtype &lt;chr&gt; | scaled_mass &lt;dbl&gt; | scaled_width &lt;dbl&gt; | scaled_height &lt;dbl&gt; | scaled_color &lt;dbl&gt; |\n",
       "|---|---|---|---|---|---|---|\n",
       "| 1 | apple    | granny_smith |  0.5249358 |  1.5850841 | -0.2889166 | -2.76981970 |\n",
       "| 1 | apple    | granny_smith |  0.3068287 |  1.0954508 | -0.6562889 | -2.24937587 |\n",
       "| 1 | apple    | granny_smith |  0.2341263 |  0.3610008 | -0.3623910 | -2.11926491 |\n",
       "| 2 | mandarin | mandarin     | -1.4016772 | -1.1078991 | -2.1992529 |  0.48295423 |\n",
       "| 2 | mandarin | mandarin     | -1.4380284 | -1.3527158 | -2.2727273 |  0.35284327 |\n",
       "| 2 | mandarin | mandarin     | -1.5107308 | -1.5975324 | -2.4931508 |  0.09262136 |\n",
       "\n"
      ],
      "text/plain": [
       "  fruit_label fruit_name fruit_subtype scaled_mass scaled_width scaled_height\n",
       "1 1           apple      granny_smith   0.5249358   1.5850841   -0.2889166   \n",
       "2 1           apple      granny_smith   0.3068287   1.0954508   -0.6562889   \n",
       "3 1           apple      granny_smith   0.2341263   0.3610008   -0.3623910   \n",
       "4 2           mandarin   mandarin      -1.4016772  -1.1078991   -2.1992529   \n",
       "5 2           mandarin   mandarin      -1.4380284  -1.3527158   -2.2727273   \n",
       "6 2           mandarin   mandarin      -1.5107308  -1.5975324   -2.4931508   \n",
       "  scaled_color\n",
       "1 -2.76981970 \n",
       "2 -2.24937587 \n",
       "3 -2.11926491 \n",
       "4  0.48295423 \n",
       "5  0.35284327 \n",
       "6  0.09262136 "
      ]
     },
     "metadata": {},
     "output_type": "display_data"
    }
   ],
   "source": [
    "# your code here\n",
    "fruit_data<-read_csv('data/fruit_data_scaled.csv')\n",
    "head(fruit_data)"
   ]
  },
  {
   "cell_type": "code",
   "execution_count": 3,
   "metadata": {
    "deletable": false,
    "editable": false,
    "nbgrader": {
     "cell_type": "code",
     "checksum": "b9e4ef75b6bda066e29de080bb3c545d",
     "grade": true,
     "grade_id": "cell-e0e9c4f000aa95ef",
     "locked": true,
     "points": 1,
     "schema_version": 3,
     "solution": false
    }
   },
   "outputs": [
    {
     "name": "stdout",
     "output_type": "stream",
     "text": [
      "[1] \"Success!\"\n"
     ]
    }
   ],
   "source": [
    "test_1.0()"
   ]
  },
  {
   "cell_type": "markdown",
   "metadata": {
    "deletable": false,
    "editable": false,
    "nbgrader": {
     "cell_type": "markdown",
     "checksum": "2f028a654a65d41b47446553fc46ccd2",
     "grade": false,
     "grade_id": "cell-0f7b03f7a3ac6dcd",
     "locked": true,
     "schema_version": 3,
     "solution": false
    }
   },
   "source": [
    "**Question 1.1**\n",
    "<br> {points: 1}\n",
    "\n",
    "**Which of the columns are categorical?**\n",
    "\n",
    "A. Fruit label, width, fruit subtype\n",
    "\n",
    "B. Fruit name, color score, height\n",
    "\n",
    "C. Fruit label, fruit subtype, fruit name\n",
    "\n",
    "D. Color score, mass, width \n",
    "\n",
    "*Assign your answer (e.g. `\"E\"`) to an object called `answer1.1`*"
   ]
  },
  {
   "cell_type": "code",
   "execution_count": 4,
   "metadata": {
    "deletable": false,
    "nbgrader": {
     "cell_type": "code",
     "checksum": "13b48961ca21a310b8281d43a2844ca6",
     "grade": false,
     "grade_id": "cell-ebcca2f8fb4020ba",
     "locked": false,
     "schema_version": 3,
     "solution": true
    }
   },
   "outputs": [],
   "source": [
    "# Make sure the correct answer is an uppercase letter. \n",
    "# Surround your answer with quotation marks.\n",
    "# Replace the fail() with your answer. \n",
    "\n",
    "# your code here\n",
    "answer1.1<-'C'"
   ]
  },
  {
   "cell_type": "code",
   "execution_count": 5,
   "metadata": {
    "deletable": false,
    "editable": false,
    "nbgrader": {
     "cell_type": "code",
     "checksum": "a06693835b8d46391e4692488c842f17",
     "grade": true,
     "grade_id": "cell-6e85a1cad95b4dd0",
     "locked": true,
     "points": 1,
     "schema_version": 3,
     "solution": false
    }
   },
   "outputs": [
    {
     "name": "stdout",
     "output_type": "stream",
     "text": [
      "[1] \"Success!\"\n"
     ]
    }
   ],
   "source": [
    "test_1.1()"
   ]
  },
  {
   "cell_type": "markdown",
   "metadata": {
    "deletable": false,
    "editable": false,
    "nbgrader": {
     "cell_type": "markdown",
     "checksum": "7b47cf3fb8b0e410cbed280f9dc58eef",
     "grade": false,
     "grade_id": "cell-005a020ce9cbc9f8",
     "locked": true,
     "schema_version": 3,
     "solution": false
    }
   },
   "source": [
    "**Question 1.2**\n",
    "<br> {points: 1}\n",
    "\n",
    "Change the variable `fruit_name` to a factor (using `as.factor`). The variable should still be named `fruit_data`."
   ]
  },
  {
   "cell_type": "code",
   "execution_count": 6,
   "metadata": {
    "deletable": false,
    "nbgrader": {
     "cell_type": "code",
     "checksum": "54dc39576bc07c8a1ec8d35acd4e8f19",
     "grade": false,
     "grade_id": "cell-f898afdf4c5dc773",
     "locked": false,
     "schema_version": 3,
     "solution": true
    }
   },
   "outputs": [
    {
     "data": {
      "text/html": [
       "<table>\n",
       "<caption>A tibble: 6 × 7</caption>\n",
       "<thead>\n",
       "\t<tr><th scope=col>fruit_label</th><th scope=col>fruit_name</th><th scope=col>fruit_subtype</th><th scope=col>scaled_mass</th><th scope=col>scaled_width</th><th scope=col>scaled_height</th><th scope=col>scaled_color</th></tr>\n",
       "\t<tr><th scope=col>&lt;dbl&gt;</th><th scope=col>&lt;fct&gt;</th><th scope=col>&lt;chr&gt;</th><th scope=col>&lt;dbl&gt;</th><th scope=col>&lt;dbl&gt;</th><th scope=col>&lt;dbl&gt;</th><th scope=col>&lt;dbl&gt;</th></tr>\n",
       "</thead>\n",
       "<tbody>\n",
       "\t<tr><td>1</td><td>apple   </td><td>granny_smith</td><td> 0.5249358</td><td> 1.5850841</td><td>-0.2889166</td><td>-2.76981970</td></tr>\n",
       "\t<tr><td>1</td><td>apple   </td><td>granny_smith</td><td> 0.3068287</td><td> 1.0954508</td><td>-0.6562889</td><td>-2.24937587</td></tr>\n",
       "\t<tr><td>1</td><td>apple   </td><td>granny_smith</td><td> 0.2341263</td><td> 0.3610008</td><td>-0.3623910</td><td>-2.11926491</td></tr>\n",
       "\t<tr><td>2</td><td>mandarin</td><td>mandarin    </td><td>-1.4016772</td><td>-1.1078991</td><td>-2.1992529</td><td> 0.48295423</td></tr>\n",
       "\t<tr><td>2</td><td>mandarin</td><td>mandarin    </td><td>-1.4380284</td><td>-1.3527158</td><td>-2.2727273</td><td> 0.35284327</td></tr>\n",
       "\t<tr><td>2</td><td>mandarin</td><td>mandarin    </td><td>-1.5107308</td><td>-1.5975324</td><td>-2.4931508</td><td> 0.09262136</td></tr>\n",
       "</tbody>\n",
       "</table>\n"
      ],
      "text/latex": [
       "A tibble: 6 × 7\n",
       "\\begin{tabular}{r|lllllll}\n",
       " fruit\\_label & fruit\\_name & fruit\\_subtype & scaled\\_mass & scaled\\_width & scaled\\_height & scaled\\_color\\\\\n",
       " <dbl> & <fct> & <chr> & <dbl> & <dbl> & <dbl> & <dbl>\\\\\n",
       "\\hline\n",
       "\t 1 & apple    & granny\\_smith &  0.5249358 &  1.5850841 & -0.2889166 & -2.76981970\\\\\n",
       "\t 1 & apple    & granny\\_smith &  0.3068287 &  1.0954508 & -0.6562889 & -2.24937587\\\\\n",
       "\t 1 & apple    & granny\\_smith &  0.2341263 &  0.3610008 & -0.3623910 & -2.11926491\\\\\n",
       "\t 2 & mandarin & mandarin     & -1.4016772 & -1.1078991 & -2.1992529 &  0.48295423\\\\\n",
       "\t 2 & mandarin & mandarin     & -1.4380284 & -1.3527158 & -2.2727273 &  0.35284327\\\\\n",
       "\t 2 & mandarin & mandarin     & -1.5107308 & -1.5975324 & -2.4931508 &  0.09262136\\\\\n",
       "\\end{tabular}\n"
      ],
      "text/markdown": [
       "\n",
       "A tibble: 6 × 7\n",
       "\n",
       "| fruit_label &lt;dbl&gt; | fruit_name &lt;fct&gt; | fruit_subtype &lt;chr&gt; | scaled_mass &lt;dbl&gt; | scaled_width &lt;dbl&gt; | scaled_height &lt;dbl&gt; | scaled_color &lt;dbl&gt; |\n",
       "|---|---|---|---|---|---|---|\n",
       "| 1 | apple    | granny_smith |  0.5249358 |  1.5850841 | -0.2889166 | -2.76981970 |\n",
       "| 1 | apple    | granny_smith |  0.3068287 |  1.0954508 | -0.6562889 | -2.24937587 |\n",
       "| 1 | apple    | granny_smith |  0.2341263 |  0.3610008 | -0.3623910 | -2.11926491 |\n",
       "| 2 | mandarin | mandarin     | -1.4016772 | -1.1078991 | -2.1992529 |  0.48295423 |\n",
       "| 2 | mandarin | mandarin     | -1.4380284 | -1.3527158 | -2.2727273 |  0.35284327 |\n",
       "| 2 | mandarin | mandarin     | -1.5107308 | -1.5975324 | -2.4931508 |  0.09262136 |\n",
       "\n"
      ],
      "text/plain": [
       "  fruit_label fruit_name fruit_subtype scaled_mass scaled_width scaled_height\n",
       "1 1           apple      granny_smith   0.5249358   1.5850841   -0.2889166   \n",
       "2 1           apple      granny_smith   0.3068287   1.0954508   -0.6562889   \n",
       "3 1           apple      granny_smith   0.2341263   0.3610008   -0.3623910   \n",
       "4 2           mandarin   mandarin      -1.4016772  -1.1078991   -2.1992529   \n",
       "5 2           mandarin   mandarin      -1.4380284  -1.3527158   -2.2727273   \n",
       "6 2           mandarin   mandarin      -1.5107308  -1.5975324   -2.4931508   \n",
       "  scaled_color\n",
       "1 -2.76981970 \n",
       "2 -2.24937587 \n",
       "3 -2.11926491 \n",
       "4  0.48295423 \n",
       "5  0.35284327 \n",
       "6  0.09262136 "
      ]
     },
     "metadata": {},
     "output_type": "display_data"
    }
   ],
   "source": [
    "# your code here\n",
    "fruit_data<-fruit_data %>%\n",
    "    mutate(fruit_name=as.factor(fruit_name))\n",
    "head(fruit_data)"
   ]
  },
  {
   "cell_type": "code",
   "execution_count": 7,
   "metadata": {
    "deletable": false,
    "editable": false,
    "nbgrader": {
     "cell_type": "code",
     "checksum": "378ff8078ed08b718c5cde62c0a01a4a",
     "grade": true,
     "grade_id": "cell-15b28d11191fb42d",
     "locked": true,
     "points": 1,
     "schema_version": 3,
     "solution": false
    }
   },
   "outputs": [
    {
     "name": "stdout",
     "output_type": "stream",
     "text": [
      "[1] \"Success!\"\n"
     ]
    }
   ],
   "source": [
    "test_1.2()"
   ]
  },
  {
   "cell_type": "markdown",
   "metadata": {
    "deletable": false,
    "editable": false,
    "nbgrader": {
     "cell_type": "markdown",
     "checksum": "96fdaa2587bdaf79dfce65fb982072da",
     "grade": false,
     "grade_id": "cell-309b3be84c7e4267",
     "locked": true,
     "schema_version": 3,
     "solution": false
    }
   },
   "source": [
    "**Question 1.3**\n",
    "<br> {points: 1}\n",
    "\n",
    "Make a scatterplot of scaled mass on the horizontal axis and scaled color score on the vertical axis. Color the points by fruit name. \n",
    "\n",
    "*Assign your plot to an object called `fruit_plot`. Make sure to do all the things to make an effective visualization.*"
   ]
  },
  {
   "cell_type": "code",
   "execution_count": 8,
   "metadata": {
    "deletable": false,
    "nbgrader": {
     "cell_type": "code",
     "checksum": "192bd23e4b5054fb35ed61ddbaa39cdb",
     "grade": false,
     "grade_id": "cell-7aea4aced8566c09",
     "locked": false,
     "schema_version": 3,
     "solution": true
    }
   },
   "outputs": [
    {
     "data": {
      "image/png": "[encoded data removed]",
      "text/plain": [
       "plot without title"
      ]
     },
     "metadata": {},
     "output_type": "display_data"
    }
   ],
   "source": [
    "options(repr.plot.width=5,repr.plot.height=3)\n",
    "# your code here\n",
    "fruit_plot<-fruit_data %>%\n",
    "    ggplot(aes(x=scaled_mass,y=scaled_color,color=fruit_name)) +\n",
    "    geom_point() +\n",
    "    labs(x=\"Scaled Mass\",y=\"Scaled Color\",color=\"Fruit Name\")\n",
    "fruit_plot"
   ]
  },
  {
   "cell_type": "code",
   "execution_count": 9,
   "metadata": {
    "deletable": false,
    "editable": false,
    "nbgrader": {
     "cell_type": "code",
     "checksum": "abc468002a1d9d25e2e5fed0f29b9b81",
     "grade": true,
     "grade_id": "cell-330397b4b46fdd07",
     "locked": true,
     "points": 1,
     "schema_version": 3,
     "solution": false
    }
   },
   "outputs": [
    {
     "name": "stdout",
     "output_type": "stream",
     "text": [
      "[1] \"Success!\"\n"
     ]
    }
   ],
   "source": [
    "test_1.3()"
   ]
  },
  {
   "cell_type": "markdown",
   "metadata": {
    "deletable": false,
    "editable": false,
    "nbgrader": {
     "cell_type": "markdown",
     "checksum": "40909d7d5a881e47a5cd3b5678ea070c",
     "grade": false,
     "grade_id": "cell-9686195c7ca47fc8",
     "locked": true,
     "schema_version": 3,
     "solution": false
    }
   },
   "source": [
    "**Question 1.4**\n",
    "<br> {points: 1}\n",
    "\n",
    "Suppose we have a new observation in the fruit dataset with `scaled_mass = 0.5` and `scaled_colour = 0.5`. \n",
    "\n",
    "Label this new data point in black on the scatterplot below. \n",
    "\n",
    "*Assign your new plot to an object called `fruit_plot_new`. Again, make sure to label your axes!*"
   ]
  },
  {
   "cell_type": "code",
   "execution_count": 10,
   "metadata": {
    "deletable": false,
    "nbgrader": {
     "cell_type": "code",
     "checksum": "80d840ed6c42f0590cc386e040e90c71",
     "grade": false,
     "grade_id": "cell-063c8b775e101ffd",
     "locked": false,
     "schema_version": 3,
     "solution": true
    }
   },
   "outputs": [
    {
     "data": {
      "image/png": "[encoded data removed]",
      "text/plain": [
       "plot without title"
      ]
     },
     "metadata": {},
     "output_type": "display_data"
    }
   ],
   "source": [
    "# Add this layer to the fruit_plot object and fill in the missing parts\n",
    "# geom_point(aes(x = ..., y = ...), color = \"black\", size = 2.5)\n",
    "\n",
    "# your code here\n",
    "fruit_plot_new<-fruit_plot +\n",
    "    geom_point(aes(x = 0.5, y = 0.5), color = \"black\", size = 2.5)\n",
    "fruit_plot_new"
   ]
  },
  {
   "cell_type": "code",
   "execution_count": 11,
   "metadata": {
    "deletable": false,
    "editable": false,
    "nbgrader": {
     "cell_type": "code",
     "checksum": "134e60bc43bddd7579a6ebfa60a57123",
     "grade": true,
     "grade_id": "cell-431c871436b3dc0d",
     "locked": true,
     "points": 1,
     "schema_version": 3,
     "solution": false
    }
   },
   "outputs": [
    {
     "name": "stdout",
     "output_type": "stream",
     "text": [
      "[1] \"Success!\"\n"
     ]
    }
   ],
   "source": [
    "test_1.4()"
   ]
  },
  {
   "cell_type": "markdown",
   "metadata": {
    "deletable": false,
    "editable": false,
    "nbgrader": {
     "cell_type": "markdown",
     "checksum": "68ed5ea76d85eda7037fa718815c512a",
     "grade": false,
     "grade_id": "cell-af1aa89c7d87ff08",
     "locked": true,
     "schema_version": 3,
     "solution": false
    }
   },
   "source": [
    "**Question 1.5** \n",
    "<br> {points: 3}\n",
    "\n",
    "Just by looking at the scatterplot, how would you classify this observation using K-nearest neighbours if you use `K = 3`? Explain how you arrived at your answer."
   ]
  },
  {
   "cell_type": "markdown",
   "metadata": {
    "deletable": false,
    "nbgrader": {
     "cell_type": "markdown",
     "checksum": "30b997ee79e7f99de1a6bbbaa7959d81",
     "grade": true,
     "grade_id": "cell-1023101a3e11dea6",
     "locked": false,
     "points": 3,
     "schema_version": 3,
     "solution": true
    }
   },
   "source": [
    "Visually, I would classify the new point inserted above as `orange`, as there are 3 purple points nearby."
   ]
  },
  {
   "cell_type": "markdown",
   "metadata": {
    "deletable": false,
    "editable": false,
    "nbgrader": {
     "cell_type": "markdown",
     "checksum": "0a30d8d898e1f8ac161065795810da06",
     "grade": false,
     "grade_id": "cell-d5bb3e47fd3d48af",
     "locked": true,
     "schema_version": 3,
     "solution": false
    }
   },
   "source": [
    "**Question 1.6**\n",
    "<br> {points: 1}\n",
    "\n",
    "Now, let's use the `caret` package in R to predict `fruit_name` for another new observation. The new observation we are interested in has `scaled_mass = -0.3` and `scaled_color = -0.4`. Use `scaled_mass` and `scaled_color` as the predictors/explanatory variables and choose `K = 5`.\n",
    "\n",
    "To begin, split the `fruit_data` data frame into the predictors (name it `X_train`) and  the class/outcome (name it `Y_train`)."
   ]
  },
  {
   "cell_type": "code",
   "execution_count": 12,
   "metadata": {
    "deletable": false,
    "nbgrader": {
     "cell_type": "code",
     "checksum": "16c954b6c7884826c79775d61d01648b",
     "grade": false,
     "grade_id": "cell-7056baa069d98b4b",
     "locked": false,
     "schema_version": 3,
     "solution": true
    }
   },
   "outputs": [
    {
     "data": {
      "text/html": [
       "<table>\n",
       "<caption>A data.frame: 6 × 2</caption>\n",
       "<thead>\n",
       "\t<tr><th scope=col>scaled_mass</th><th scope=col>scaled_color</th></tr>\n",
       "\t<tr><th scope=col>&lt;dbl&gt;</th><th scope=col>&lt;dbl&gt;</th></tr>\n",
       "</thead>\n",
       "<tbody>\n",
       "\t<tr><td> 0.5249358</td><td>-2.76981970</td></tr>\n",
       "\t<tr><td> 0.3068287</td><td>-2.24937587</td></tr>\n",
       "\t<tr><td> 0.2341263</td><td>-2.11926491</td></tr>\n",
       "\t<tr><td>-1.4016772</td><td> 0.48295423</td></tr>\n",
       "\t<tr><td>-1.4380284</td><td> 0.35284327</td></tr>\n",
       "\t<tr><td>-1.5107308</td><td> 0.09262136</td></tr>\n",
       "</tbody>\n",
       "</table>\n"
      ],
      "text/latex": [
       "A data.frame: 6 × 2\n",
       "\\begin{tabular}{r|ll}\n",
       " scaled\\_mass & scaled\\_color\\\\\n",
       " <dbl> & <dbl>\\\\\n",
       "\\hline\n",
       "\t  0.5249358 & -2.76981970\\\\\n",
       "\t  0.3068287 & -2.24937587\\\\\n",
       "\t  0.2341263 & -2.11926491\\\\\n",
       "\t -1.4016772 &  0.48295423\\\\\n",
       "\t -1.4380284 &  0.35284327\\\\\n",
       "\t -1.5107308 &  0.09262136\\\\\n",
       "\\end{tabular}\n"
      ],
      "text/markdown": [
       "\n",
       "A data.frame: 6 × 2\n",
       "\n",
       "| scaled_mass &lt;dbl&gt; | scaled_color &lt;dbl&gt; |\n",
       "|---|---|\n",
       "|  0.5249358 | -2.76981970 |\n",
       "|  0.3068287 | -2.24937587 |\n",
       "|  0.2341263 | -2.11926491 |\n",
       "| -1.4016772 |  0.48295423 |\n",
       "| -1.4380284 |  0.35284327 |\n",
       "| -1.5107308 |  0.09262136 |\n",
       "\n"
      ],
      "text/plain": [
       "  scaled_mass scaled_color\n",
       "1  0.5249358  -2.76981970 \n",
       "2  0.3068287  -2.24937587 \n",
       "3  0.2341263  -2.11926491 \n",
       "4 -1.4016772   0.48295423 \n",
       "5 -1.4380284   0.35284327 \n",
       "6 -1.5107308   0.09262136 "
      ]
     },
     "metadata": {},
     "output_type": "display_data"
    },
    {
     "data": {
      "text/html": [
       "<dl class=dl-horizontal>\n",
       "\t<dt>fruit_name1</dt>\n",
       "\t\t<dd>apple</dd>\n",
       "\t<dt>fruit_name2</dt>\n",
       "\t\t<dd>apple</dd>\n",
       "\t<dt>fruit_name3</dt>\n",
       "\t\t<dd>apple</dd>\n",
       "\t<dt>fruit_name4</dt>\n",
       "\t\t<dd>mandarin</dd>\n",
       "\t<dt>fruit_name5</dt>\n",
       "\t\t<dd>mandarin</dd>\n",
       "\t<dt>fruit_name6</dt>\n",
       "\t\t<dd>mandarin</dd>\n",
       "</dl>\n",
       "\n",
       "<details>\n",
       "\t<summary style=display:list-item;cursor:pointer>\n",
       "\t\t<strong>Levels</strong>:\n",
       "\t</summary>\n",
       "\t<ol class=list-inline>\n",
       "\t\t<li>'apple'</li>\n",
       "\t\t<li>'lemon'</li>\n",
       "\t\t<li>'mandarin'</li>\n",
       "\t\t<li>'orange'</li>\n",
       "\t</ol>\n",
       "</details>"
      ],
      "text/latex": [
       "\\begin{description*}\n",
       "\\item[fruit\\textbackslash{}\\_name1] apple\n",
       "\\item[fruit\\textbackslash{}\\_name2] apple\n",
       "\\item[fruit\\textbackslash{}\\_name3] apple\n",
       "\\item[fruit\\textbackslash{}\\_name4] mandarin\n",
       "\\item[fruit\\textbackslash{}\\_name5] mandarin\n",
       "\\item[fruit\\textbackslash{}\\_name6] mandarin\n",
       "\\end{description*}\n",
       "\n",
       "\\emph{Levels}: \\begin{enumerate*}\n",
       "\\item 'apple'\n",
       "\\item 'lemon'\n",
       "\\item 'mandarin'\n",
       "\\item 'orange'\n",
       "\\end{enumerate*}\n"
      ],
      "text/markdown": [
       "fruit_name1\n",
       ":   applefruit_name2\n",
       ":   applefruit_name3\n",
       ":   applefruit_name4\n",
       ":   mandarinfruit_name5\n",
       ":   mandarinfruit_name6\n",
       ":   mandarin\n",
       "\n",
       "\n",
       "**Levels**: 1. 'apple'\n",
       "2. 'lemon'\n",
       "3. 'mandarin'\n",
       "4. 'orange'\n",
       "\n",
       "\n"
      ],
      "text/plain": [
       "fruit_name1 fruit_name2 fruit_name3 fruit_name4 fruit_name5 fruit_name6 \n",
       "      apple       apple       apple    mandarin    mandarin    mandarin \n",
       "Levels: apple lemon mandarin orange"
      ]
     },
     "metadata": {},
     "output_type": "display_data"
    }
   ],
   "source": [
    "# your code here\n",
    "X_train<-fruit_data %>%\n",
    "    select(scaled_mass,scaled_color) %>%\n",
    "    data.frame()\n",
    "\n",
    "Y_train<-fruit_data %>%\n",
    "    select(fruit_name) %>%\n",
    "    unlist()\n",
    "head(X_train)\n",
    "head(Y_train)"
   ]
  },
  {
   "cell_type": "code",
   "execution_count": 13,
   "metadata": {
    "deletable": false,
    "editable": false,
    "nbgrader": {
     "cell_type": "code",
     "checksum": "13c4a4ee1b694e391050b7fb5b94d5db",
     "grade": true,
     "grade_id": "cell-5ccfe637ff9751ec",
     "locked": true,
     "points": 1,
     "schema_version": 3,
     "solution": false
    }
   },
   "outputs": [
    {
     "name": "stdout",
     "output_type": "stream",
     "text": [
      "[1] \"Success!\"\n"
     ]
    }
   ],
   "source": [
    "test_1.6()"
   ]
  },
  {
   "cell_type": "markdown",
   "metadata": {
    "deletable": false,
    "editable": false,
    "nbgrader": {
     "cell_type": "markdown",
     "checksum": "c99c77801ffccb2f50f9403610097f53",
     "grade": false,
     "grade_id": "cell-1e601e7c3eef92b9",
     "locked": true,
     "schema_version": 3,
     "solution": false
    }
   },
   "source": [
    "**Question 1.7**\n",
    "<br> {points: 1}\n",
    "\n",
    "Specify `K` and create the K-nearest neighbour model object. Name it `fruit_class`."
   ]
  },
  {
   "cell_type": "code",
   "execution_count": 14,
   "metadata": {
    "deletable": false,
    "nbgrader": {
     "cell_type": "code",
     "checksum": "01e65c118183fce9e73ee1109caab861",
     "grade": false,
     "grade_id": "cell-d6a33c5ad9e20950",
     "locked": false,
     "schema_version": 3,
     "solution": true
    }
   },
   "outputs": [
    {
     "name": "stderr",
     "output_type": "stream",
     "text": [
      "Warning message:\n",
      "“predictions failed for Resample02: k=5 Error in dimnames(x) <- dn : \n",
      "  length of 'dimnames' [2] not equal to array extent\n",
      "”Warning message in nominalTrainWorkflow(x = x, y = y, wts = weights, info = trainInfo, :\n",
      "“There were missing values in resampled performance measures.”"
     ]
    },
    {
     "name": "stdout",
     "output_type": "stream",
     "text": [
      "k-Nearest Neighbors \n",
      "\n",
      "59 samples\n",
      " 2 predictor\n",
      " 4 classes: 'apple', 'lemon', 'mandarin', 'orange' \n",
      "\n",
      "No pre-processing\n",
      "Resampling: Bootstrapped (25 reps) \n",
      "Summary of sample sizes: 59, 59, 59, 59, 59, 59, ... \n",
      "Resampling results:\n",
      "\n",
      "  Accuracy   Kappa    \n",
      "  0.8123467  0.7319732\n",
      "\n",
      "Tuning parameter 'k' was held constant at a value of 5\n"
     ]
    }
   ],
   "source": [
    "# your code here\n",
    "k<-data.frame(k=5)\n",
    "fruit_class<-train(x=X_train,y=Y_train,method='knn',tuneGrid=k)\n",
    "print(fruit_class)"
   ]
  },
  {
   "cell_type": "code",
   "execution_count": 15,
   "metadata": {
    "deletable": false,
    "editable": false,
    "nbgrader": {
     "cell_type": "code",
     "checksum": "c4b86a3a649a3bc52fe3e312777f8f01",
     "grade": true,
     "grade_id": "cell-3abaec3b71e2f3b8",
     "locked": true,
     "points": 1,
     "schema_version": 3,
     "solution": false
    }
   },
   "outputs": [
    {
     "name": "stdout",
     "output_type": "stream",
     "text": [
      "[1] \"Success!\"\n"
     ]
    }
   ],
   "source": [
    "test_1.7()"
   ]
  },
  {
   "cell_type": "markdown",
   "metadata": {
    "deletable": false,
    "editable": false,
    "nbgrader": {
     "cell_type": "markdown",
     "checksum": "3335eb138d68e7260c57587ba15412b6",
     "grade": false,
     "grade_id": "cell-c0cf02e39693f018",
     "locked": true,
     "schema_version": 3,
     "solution": false
    }
   },
   "source": [
    "**Question 1.8**\n",
    "<br> {points: 1}\n",
    "\n",
    "Use the `fruit_class` model and the `predict` function to predict the class for the new fruit observation, where `scaled_mass = -0.3` and `scaled_color = -0.4`. Save your prediction to an object named `fruit_predicted`."
   ]
  },
  {
   "cell_type": "code",
   "execution_count": 16,
   "metadata": {
    "deletable": false,
    "nbgrader": {
     "cell_type": "code",
     "checksum": "713bc2f02905fd0f757621fd319f52e6",
     "grade": false,
     "grade_id": "cell-1a6bd7bd278f3b12",
     "locked": false,
     "schema_version": 3,
     "solution": true
    }
   },
   "outputs": [
    {
     "name": "stdout",
     "output_type": "stream",
     "text": [
      "[1] orange\n",
      "Levels: apple lemon mandarin orange\n"
     ]
    }
   ],
   "source": [
    "#This is the new observation to predict\n",
    "new_fruit <- data.frame(scaled_color = -0.4, scaled_mass = -0.3)\n",
    "\n",
    "# your code here\n",
    "fruit_predicted<-predict(fruit_class,new_fruit)\n",
    "print(fruit_predicted)"
   ]
  },
  {
   "cell_type": "code",
   "execution_count": 17,
   "metadata": {
    "deletable": false,
    "editable": false,
    "nbgrader": {
     "cell_type": "code",
     "checksum": "e89db1598631ee7ae61254997511c81b",
     "grade": true,
     "grade_id": "cell-3a2d3d85dc181b83",
     "locked": true,
     "points": 1,
     "schema_version": 3,
     "solution": false
    }
   },
   "outputs": [
    {
     "name": "stdout",
     "output_type": "stream",
     "text": [
      "[1] \"Success!\"\n"
     ]
    }
   ],
   "source": [
    "test_1.8()"
   ]
  },
  {
   "cell_type": "markdown",
   "metadata": {
    "deletable": false,
    "editable": false,
    "nbgrader": {
     "cell_type": "markdown",
     "checksum": "87a8d8dbe8dde3e6efc588462829358c",
     "grade": false,
     "grade_id": "cell-f967fbfa3edd4e40",
     "locked": true,
     "schema_version": 3,
     "solution": false
    }
   },
   "source": [
    "**Question 1.9**\n",
    "<br> {points: 3}\n",
    "\n",
    "Revisiting `fruit_plot` and considering the prediction given by K-nearest neighbours above, do you think the classification model did a \"good\" job predicting? Could you have done/do better? Given what we know this far in the course, what might we want to do to help with tricky prediction cases such as this?\n",
    "\n",
    "*You can use the code below to visualize the observation whose label we just tried to predict*"
   ]
  },
  {
   "cell_type": "code",
   "execution_count": 18,
   "metadata": {},
   "outputs": [
    {
     "data": {
      "image/png": "[encoded data removed]",
      "text/plain": [
       "plot without title"
      ]
     },
     "metadata": {},
     "output_type": "display_data"
    }
   ],
   "source": [
    "fruit_plot +\n",
    "    geom_point(aes(x = -0.3, y = -0.4), color = \"black\", size = 2.5)"
   ]
  },
  {
   "cell_type": "markdown",
   "metadata": {
    "deletable": false,
    "nbgrader": {
     "cell_type": "markdown",
     "checksum": "56ea6965d3aecb827c91d88d0de0e51b",
     "grade": true,
     "grade_id": "cell-d0586923869ce1fc",
     "locked": false,
     "points": 3,
     "schema_version": 3,
     "solution": true
    }
   },
   "source": [
    "Looking at the prediction given in Question 1.8, it seems like the classification model \"did an okay job\" with predicting. The prediction given was in line with my visual human prediction. However, my prediction was not without uncertainty. The presence of the green data point did influence my decision ever so slightly. This was certainly an easy problem for the human eye to resolve. However, I'm sure there are other, more challenging problems.\n",
    "\n",
    "Given what we know so far, it may be useful to print out the distances of all the nearest neighbours so that we can see how close the other relationships are with the point in question. \n",
    "\n",
    "Another issue is that we are comparing only the distances between two parameters. We should also compare the relationships of the given point with other parameters to better predict the type of fruit. It is very possible that the scaled color and scaled masses of lemons and oranges overlap, and that the model has inaccurately predicted the fruit to be an orange when, in fact, it is a lemon."
   ]
  },
  {
   "cell_type": "markdown",
   "metadata": {
    "deletable": false,
    "editable": false,
    "nbgrader": {
     "cell_type": "markdown",
     "checksum": "631172f589272cc7002984562df13b20",
     "grade": false,
     "grade_id": "cell-cc5156a4318b7185",
     "locked": true,
     "schema_version": 3,
     "solution": false
    }
   },
   "source": [
    "**Question 1.10**\n",
    "<br> {points: 3}\n",
    "\n",
    "Now do K-nearest neighbours classification again with the same data set, same K, and same new observation. However, this time, let's use *all* the columns in the dataset as predictors (except for the categorical `fruit_label`, `fruit_name`, and `fruit_subtype` variables).\n",
    "\n",
    "We have provided the `new_fruit_all` `data.frame` below, which encodes the predictors for our new observation. Your job is to use K-nearest neighbours to predict the class of this point."
   ]
  },
  {
   "cell_type": "code",
   "execution_count": 19,
   "metadata": {
    "deletable": false,
    "nbgrader": {
     "cell_type": "code",
     "checksum": "f1568f766da2a6d570de690a68619f28",
     "grade": true,
     "grade_id": "cell-11dfd75840c12acf",
     "locked": false,
     "points": 3,
     "schema_version": 3,
     "solution": true
    }
   },
   "outputs": [
    {
     "data": {
      "text/html": [
       "lemon\n",
       "<details>\n",
       "\t<summary style=display:list-item;cursor:pointer>\n",
       "\t\t<strong>Levels</strong>:\n",
       "\t</summary>\n",
       "\t<ol class=list-inline>\n",
       "\t\t<li>'apple'</li>\n",
       "\t\t<li>'lemon'</li>\n",
       "\t\t<li>'mandarin'</li>\n",
       "\t\t<li>'orange'</li>\n",
       "\t</ol>\n",
       "</details>"
      ],
      "text/latex": [
       "lemon\n",
       "\\emph{Levels}: \\begin{enumerate*}\n",
       "\\item 'apple'\n",
       "\\item 'lemon'\n",
       "\\item 'mandarin'\n",
       "\\item 'orange'\n",
       "\\end{enumerate*}\n"
      ],
      "text/markdown": [
       "lemon\n",
       "**Levels**: 1. 'apple'\n",
       "2. 'lemon'\n",
       "3. 'mandarin'\n",
       "4. 'orange'\n",
       "\n",
       "\n"
      ],
      "text/plain": [
       "[1] lemon\n",
       "Levels: apple lemon mandarin orange"
      ]
     },
     "metadata": {},
     "output_type": "display_data"
    }
   ],
   "source": [
    "#This is the new observation to predict\n",
    "new_fruit_all <- data.frame(scaled_mass = -0.3, \n",
    "                            scaled_width = -0.5, \n",
    "                            scaled_height = 1.0,\n",
    "                            scaled_color = -0.4)\n",
    "\n",
    "\n",
    "# your code here\n",
    "X_train<-fruit_data %>%\n",
    "    select(-fruit_label,-fruit_name,-fruit_subtype) %>%\n",
    "    data.frame()\n",
    "\n",
    "Y_train<-fruit_data %>%\n",
    "    select(fruit_name) %>%\n",
    "    unlist()\n",
    "\n",
    "fruit_model<- train(x=X_train,y=Y_train,method='knn',tuneGrid=k)\n",
    "predict(fruit_model,new_fruit_all)"
   ]
  },
  {
   "cell_type": "markdown",
   "metadata": {
    "deletable": false,
    "editable": false,
    "nbgrader": {
     "cell_type": "markdown",
     "checksum": "472a3fd4bea7d97c404d2690941fd79c",
     "grade": false,
     "grade_id": "cell-ed80bda97a114689",
     "locked": true,
     "schema_version": 3,
     "solution": false
    }
   },
   "source": [
    "**Question 1.11**\n",
    "<br> {points: 3}\n",
    "\n",
    "Did your second classification on the same data set with the same K change the prediction? If so, why do you think this happened?"
   ]
  },
  {
   "cell_type": "markdown",
   "metadata": {
    "deletable": false,
    "nbgrader": {
     "cell_type": "markdown",
     "checksum": "9403aff8dab093b5925d26f1ccebf9ca",
     "grade": true,
     "grade_id": "cell-3f2fc9db14180847",
     "locked": false,
     "points": 3,
     "schema_version": 3,
     "solution": true
    }
   },
   "source": [
    "The second classification on the same dataset with the same K did change the prediction. As I previously mentioned, it's likely that the scaled color and scaled masses of lemons and oranges overlap, and that the model has inaccurately predicted the fruit to be an orange when, in fact, it is a lemon. \n",
    "\n",
    "The re-classification of the same dataset with all the parameters has changed our prediction."
   ]
  },
  {
   "cell_type": "markdown",
   "metadata": {
    "deletable": false,
    "editable": false,
    "nbgrader": {
     "cell_type": "markdown",
     "checksum": "792e065e4e2a5e26b4d6ddffaa893feb",
     "grade": false,
     "grade_id": "cell-da8d59e0f1753437",
     "locked": true,
     "schema_version": 3,
     "solution": false,
     "task": false
    }
   },
   "source": [
    "## 2. Wheat Seed Dataset\n",
    "\n",
    "X-ray images can be used to analyze and sort seeds. In [this data set](https://archive.ics.uci.edu/ml/datasets/seeds), we have 7 measurements from x-ray images from 3 varieties of wheat seeds (Kama, Rosa and Canadian). "
   ]
  },
  {
   "cell_type": "markdown",
   "metadata": {
    "deletable": false,
    "editable": false,
    "nbgrader": {
     "cell_type": "markdown",
     "checksum": "074e9512448a75c8ec011367d331a3f2",
     "grade": false,
     "grade_id": "cell-8efa44bbbd0be10c",
     "locked": true,
     "schema_version": 3,
     "solution": false
    }
   },
   "source": [
    "**Question 2.0**\n",
    "<br> {points: 3}\n",
    "\n",
    "Let's use `caret` with this data to perform K-nearest neighbours to classify the wheat variety of a new seed we measure with the given observed measurements (from an x-ray image) shown below. Choose `K = 5` to perform the classification.\n",
    "\n",
    "The seven measurements were taken below for each wheat kernel:\n",
    "1. area A, \n",
    "2. perimeter P, \n",
    "3. compactness C = 4*pi*A/P^2, \n",
    "4. length of kernel, \n",
    "5. width of kernel, \n",
    "6. asymmetry coefficient \n",
    "7. length of kernel groove. \n",
    "\n",
    "The data set is available here: https://archive.ics.uci.edu/ml/machine-learning-databases/00236/seeds_dataset.txt. The last column in the data set is the variety label. The mapping for the numbers to varieties is listed below:\n",
    "\n",
    "- 1 == Kama\n",
    "- 2 == Rosa\n",
    "- 3 == Canadian\n",
    "\n",
    "Hints: \n",
    "- `colnames()` can be used to specify the column names of a data frame.\n",
    "- the wheat variety column appears numerical, but you want it to be treated as categorical for this analysis, thus `as.factor()` might be helpful."
   ]
  },
  {
   "cell_type": "code",
   "execution_count": 30,
   "metadata": {
    "deletable": false,
    "nbgrader": {
     "cell_type": "code",
     "checksum": "0364a7836ed0fa88b04fc6348773657c",
     "grade": true,
     "grade_id": "cell-3c4ba3c5bf6b72e0",
     "locked": false,
     "points": 3,
     "schema_version": 3,
     "solution": true
    }
   },
   "outputs": [
    {
     "name": "stderr",
     "output_type": "stream",
     "text": [
      "Parsed with column specification:\n",
      "cols(\n",
      "  X1 = \u001b[32mcol_double()\u001b[39m,\n",
      "  X2 = \u001b[32mcol_double()\u001b[39m,\n",
      "  X3 = \u001b[32mcol_double()\u001b[39m,\n",
      "  X4 = \u001b[32mcol_double()\u001b[39m,\n",
      "  X5 = \u001b[32mcol_double()\u001b[39m,\n",
      "  X6 = \u001b[32mcol_double()\u001b[39m,\n",
      "  X7 = \u001b[32mcol_double()\u001b[39m,\n",
      "  X8 = \u001b[32mcol_double()\u001b[39m\n",
      ")\n"
     ]
    },
    {
     "data": {
      "text/html": [
       "<table>\n",
       "<caption>A tibble: 6 × 8</caption>\n",
       "<thead>\n",
       "\t<tr><th scope=col>area</th><th scope=col>perimeter</th><th scope=col>compactness</th><th scope=col>length</th><th scope=col>width</th><th scope=col>asymmetry_coefficient</th><th scope=col>groove_length</th><th scope=col>variety</th></tr>\n",
       "\t<tr><th scope=col>&lt;dbl&gt;</th><th scope=col>&lt;dbl&gt;</th><th scope=col>&lt;dbl&gt;</th><th scope=col>&lt;dbl&gt;</th><th scope=col>&lt;dbl&gt;</th><th scope=col>&lt;dbl&gt;</th><th scope=col>&lt;dbl&gt;</th><th scope=col>&lt;fct&gt;</th></tr>\n",
       "</thead>\n",
       "<tbody>\n",
       "\t<tr><td>15.26</td><td>14.84</td><td>0.8710</td><td>5.763</td><td>3.312</td><td>2.221</td><td>5.220</td><td>1</td></tr>\n",
       "\t<tr><td>14.88</td><td>14.57</td><td>0.8811</td><td>5.554</td><td>3.333</td><td>1.018</td><td>4.956</td><td>1</td></tr>\n",
       "\t<tr><td>14.29</td><td>14.09</td><td>0.9050</td><td>5.291</td><td>3.337</td><td>2.699</td><td>4.825</td><td>1</td></tr>\n",
       "\t<tr><td>13.84</td><td>13.94</td><td>0.8955</td><td>5.324</td><td>3.379</td><td>2.259</td><td>4.805</td><td>1</td></tr>\n",
       "\t<tr><td>16.14</td><td>14.99</td><td>0.9034</td><td>5.658</td><td>3.562</td><td>1.355</td><td>5.175</td><td>1</td></tr>\n",
       "\t<tr><td>14.38</td><td>14.21</td><td>0.8951</td><td>5.386</td><td>3.312</td><td>2.462</td><td>4.956</td><td>1</td></tr>\n",
       "</tbody>\n",
       "</table>\n"
      ],
      "text/latex": [
       "A tibble: 6 × 8\n",
       "\\begin{tabular}{r|llllllll}\n",
       " area & perimeter & compactness & length & width & asymmetry\\_coefficient & groove\\_length & variety\\\\\n",
       " <dbl> & <dbl> & <dbl> & <dbl> & <dbl> & <dbl> & <dbl> & <fct>\\\\\n",
       "\\hline\n",
       "\t 15.26 & 14.84 & 0.8710 & 5.763 & 3.312 & 2.221 & 5.220 & 1\\\\\n",
       "\t 14.88 & 14.57 & 0.8811 & 5.554 & 3.333 & 1.018 & 4.956 & 1\\\\\n",
       "\t 14.29 & 14.09 & 0.9050 & 5.291 & 3.337 & 2.699 & 4.825 & 1\\\\\n",
       "\t 13.84 & 13.94 & 0.8955 & 5.324 & 3.379 & 2.259 & 4.805 & 1\\\\\n",
       "\t 16.14 & 14.99 & 0.9034 & 5.658 & 3.562 & 1.355 & 5.175 & 1\\\\\n",
       "\t 14.38 & 14.21 & 0.8951 & 5.386 & 3.312 & 2.462 & 4.956 & 1\\\\\n",
       "\\end{tabular}\n"
      ],
      "text/markdown": [
       "\n",
       "A tibble: 6 × 8\n",
       "\n",
       "| area &lt;dbl&gt; | perimeter &lt;dbl&gt; | compactness &lt;dbl&gt; | length &lt;dbl&gt; | width &lt;dbl&gt; | asymmetry_coefficient &lt;dbl&gt; | groove_length &lt;dbl&gt; | variety &lt;fct&gt; |\n",
       "|---|---|---|---|---|---|---|---|\n",
       "| 15.26 | 14.84 | 0.8710 | 5.763 | 3.312 | 2.221 | 5.220 | 1 |\n",
       "| 14.88 | 14.57 | 0.8811 | 5.554 | 3.333 | 1.018 | 4.956 | 1 |\n",
       "| 14.29 | 14.09 | 0.9050 | 5.291 | 3.337 | 2.699 | 4.825 | 1 |\n",
       "| 13.84 | 13.94 | 0.8955 | 5.324 | 3.379 | 2.259 | 4.805 | 1 |\n",
       "| 16.14 | 14.99 | 0.9034 | 5.658 | 3.562 | 1.355 | 5.175 | 1 |\n",
       "| 14.38 | 14.21 | 0.8951 | 5.386 | 3.312 | 2.462 | 4.956 | 1 |\n",
       "\n"
      ],
      "text/plain": [
       "  area  perimeter compactness length width asymmetry_coefficient groove_length\n",
       "1 15.26 14.84     0.8710      5.763  3.312 2.221                 5.220        \n",
       "2 14.88 14.57     0.8811      5.554  3.333 1.018                 4.956        \n",
       "3 14.29 14.09     0.9050      5.291  3.337 2.699                 4.825        \n",
       "4 13.84 13.94     0.8955      5.324  3.379 2.259                 4.805        \n",
       "5 16.14 14.99     0.9034      5.658  3.562 1.355                 5.175        \n",
       "6 14.38 14.21     0.8951      5.386  3.312 2.462                 4.956        \n",
       "  variety\n",
       "1 1      \n",
       "2 1      \n",
       "3 1      \n",
       "4 1      \n",
       "5 1      \n",
       "6 1      "
      ]
     },
     "metadata": {},
     "output_type": "display_data"
    },
    {
     "data": {
      "text/html": [
       "3\n",
       "<details>\n",
       "\t<summary style=display:list-item;cursor:pointer>\n",
       "\t\t<strong>Levels</strong>:\n",
       "\t</summary>\n",
       "\t<ol class=list-inline>\n",
       "\t\t<li>'1'</li>\n",
       "\t\t<li>'2'</li>\n",
       "\t\t<li>'3'</li>\n",
       "\t</ol>\n",
       "</details>"
      ],
      "text/latex": [
       "3\n",
       "\\emph{Levels}: \\begin{enumerate*}\n",
       "\\item '1'\n",
       "\\item '2'\n",
       "\\item '3'\n",
       "\\end{enumerate*}\n"
      ],
      "text/markdown": [
       "3\n",
       "**Levels**: 1. '1'\n",
       "2. '2'\n",
       "3. '3'\n",
       "\n",
       "\n"
      ],
      "text/plain": [
       "[1] 3\n",
       "Levels: 1 2 3"
      ]
     },
     "metadata": {},
     "output_type": "display_data"
    }
   ],
   "source": [
    "#This is the new observation to predict\n",
    "new_seed <- data.frame(area = 12.1,\n",
    "                        perimeter = 14.2,\n",
    "                        compactness = 0.9,\n",
    "                        length = 4.9,\n",
    "                        width = 2.8,\n",
    "                        asymmetry_coefficient = 3.0, \n",
    "                        groove_length = 5.1)\n",
    "\n",
    "# your code here\n",
    "data<-read_table2('https://archive.ics.uci.edu/ml/machine-learning-databases/00236/seeds_dataset.txt',\n",
    "                  col_names = FALSE) %>%\n",
    "    mutate(X8 = as.factor(X8))\n",
    "colnames(data)<-c(\"area\",\"perimeter\",\"compactness\",\"length\",\"width\",\"asymmetry_coefficient\",\"groove_length\",\"variety\")\n",
    "\n",
    "\n",
    "X_tr <- data %>%\n",
    "    select(-variety) %>%\n",
    "    data.frame()\n",
    " \n",
    "Y_tr <- data %>%\n",
    "    select(variety) %>%\n",
    "    unlist()\n",
    "\n",
    "head(data)\n",
    "data_model<- train(x=X_tr,y=Y_tr,method='knn',tuneGrid=data.frame(k=5))\n",
    "seed_result<- predict(data_model, new_seed)\n",
    "seed_result"
   ]
  },
  {
   "cell_type": "markdown",
   "metadata": {
    "deletable": false,
    "editable": false,
    "nbgrader": {
     "cell_type": "markdown",
     "checksum": "e92573c178fe2e3c739bb899c76bd7cd",
     "grade": false,
     "grade_id": "cell-8edaf785b47c00f9",
     "locked": true,
     "schema_version": 3,
     "solution": false
    }
   },
   "source": [
    "**Question 2.1**\n",
    "<br> {points: 3}\n",
    "\n",
    "In 2-3 sentences, in your own words describe your findings from the classification task above."
   ]
  },
  {
   "cell_type": "markdown",
   "metadata": {
    "deletable": false,
    "nbgrader": {
     "cell_type": "markdown",
     "checksum": "84181bc9c7120df0d13859808467f8b6",
     "grade": true,
     "grade_id": "cell-4692284f457d29fb",
     "locked": false,
     "points": 3,
     "schema_version": 3,
     "solution": true
    }
   },
   "source": [
    "In the classification above, the results are the following:\n",
    "\n",
    "**variety label:** 3\n",
    "\n",
    "According to the variety label mapping, a label **3** is **Canadian**. \n",
    "\n",
    "Initially, I had run the classification model without converting variety to a factor (it was left as a double). As a result, the classification of variety returned 2.2. I believe this initial classification was in error. "
   ]
  },
  {
   "cell_type": "code",
   "execution_count": null,
   "metadata": {},
   "outputs": [],
   "source": []
  }
 ],
 "metadata": {
  "kernelspec": {
   "display_name": "R",
   "language": "R",
   "name": "ir"
  },
  "language_info": {
   "codemirror_mode": "r",
   "file_extension": ".r",
   "mimetype": "text/x-r-source",
   "name": "R",
   "pygments_lexer": "r",
   "version": "3.6.1"
  }
 },
 "nbformat": 4,
 "nbformat_minor": 2
}
