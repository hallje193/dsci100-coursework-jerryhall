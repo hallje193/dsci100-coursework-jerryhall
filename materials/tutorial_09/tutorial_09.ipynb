{
 "cells": [
  {
   "cell_type": "markdown",
   "metadata": {
    "deletable": false,
    "editable": false,
    "nbgrader": {
     "cell_type": "markdown",
     "checksum": "6adb672fb3368af6cc17e94fc69fe349",
     "grade": false,
     "grade_id": "cell-63e551f4dad255b8",
     "locked": true,
     "schema_version": 3,
     "solution": false,
     "task": false
    }
   },
   "source": [
    "# Tutorial 9: Regression Continued\n",
    "\n",
    "**Regression learning objectives**: \n",
    "\n",
    "* Recognize situations where a simple regression analysis would be appropriate for making predictions.\n",
    "* Explain the k-nearest neighbour (k-nn) regression algorithm and describe how it differs from k-nn classification.\n",
    "* Interpret the output of a k-nn regression.\n",
    "* In a dataset with two variables, perform k-nearest neighbour regression in R using `caret::train()` to predict the values for a test dataset.\n",
    "* Using R, execute cross-validation in R to choose the number of neighbours.\n",
    "* Using R, evaluate k-nn regression prediction accuracy using  a test data set and an appropriate metric (*e.g.*, root means square prediction error).\n",
    "* In a dataset with > 2 variables, perform k-nn regression in R using `caret`'s `train` with `method = \"knn\"` to predict the values for a test dataset.\n",
    "* In the context of k-nn regression, compare and contrast goodness of fit and prediction properties (namely RMSE vs RMSPE).\n",
    "* Describe advantages and disadvantages of the k-nearest neighbour regression approach.\n",
    "* Perform ordinary least squares regression in R using `caret`'s `train` with `method = \"lm\"` to predict the values for a test dataset.\n",
    "* Compare and contrast predictions obtained from k-nearest neighbour regression to those obtained using simple ordinary least squares regression from the same dataset.\n",
    "* In R, overlay the ordinary least squares regression lines from `geom_smooth` on a single plot. "
   ]
  },
  {
   "cell_type": "code",
   "execution_count": null,
   "metadata": {
    "deletable": false,
    "editable": false,
    "nbgrader": {
     "cell_type": "code",
     "checksum": "d6f6782b95d7fedb6e85a466a70a22f2",
     "grade": false,
     "grade_id": "cell-7b457a3bc36388de",
     "locked": true,
     "schema_version": 3,
     "solution": false,
     "task": false
    }
   },
   "outputs": [],
   "source": [
    "### Run this cell before continuing.\n",
    "library(tidyverse)\n",
    "library(testthat)\n",
    "library(digest)\n",
    "library(repr)\n",
    "library(caret)\n",
    "library(GGally)\n",
    "source(\"tests_tutorial_09.R\")\n",
    "source(\"cleanup_tutorial_09.R\")"
   ]
  },
  {
   "cell_type": "markdown",
   "metadata": {
    "deletable": false,
    "editable": false,
    "nbgrader": {
     "cell_type": "markdown",
     "checksum": "4dcf7fc04c1db294415cac5732c32b8a",
     "grade": false,
     "grade_id": "cell-c422b97008fe2c60",
     "locked": true,
     "schema_version": 3,
     "solution": false,
     "task": false
    }
   },
   "source": [
    "## Predicting credit card balance\n",
    "\n",
    "<img src='https://media.giphy.com/media/LCdPNT81vlv3y/giphy-downsized-large.gif' align=\"left\" width='400'>"
   ]
  },
  {
   "cell_type": "markdown",
   "metadata": {
    "deletable": false,
    "editable": false,
    "nbgrader": {
     "cell_type": "markdown",
     "checksum": "333345e00ec1f82749f73a17935beb96",
     "grade": false,
     "grade_id": "cell-7383d2428d0d989a",
     "locked": true,
     "schema_version": 3,
     "solution": false,
     "task": false
    }
   },
   "source": [
    "Source: https://media.giphy.com/media/LCdPNT81vlv3y/giphy-downsized-large.gif\n",
    "\n",
    "Here in this worksheet we will work with a simulated data set that contains information that we can use to create a model to predict customer credit card balance. A bank might use such information to predict which customers might be the most profitable to lend to (customers who carry a balance, but do not default, for example).\n",
    "\n",
    "Specifically, we wish to build a model to predict credit card balance (`Balance` column) based on income (`Income` column) and credit rating (`Rating` column)."
   ]
  },
  {
   "cell_type": "markdown",
   "metadata": {
    "deletable": false,
    "editable": false,
    "nbgrader": {
     "cell_type": "markdown",
     "checksum": "4947cf873ef5c3f3f82844aebfdbc35a",
     "grade": false,
     "grade_id": "cell-802418710dd13a37",
     "locked": true,
     "schema_version": 3,
     "solution": false,
     "task": false
    }
   },
   "source": [
    "**Question 1.0**\n",
    "<br> {points: 1}\n",
    "\n",
    "Load the data located at [this URL](http://faculty.marshall.usc.edu/gareth-james/ISL/Credit.csv) and assign it to an object called `credit`. "
   ]
  },
  {
   "cell_type": "code",
   "execution_count": null,
   "metadata": {
    "deletable": false,
    "nbgrader": {
     "cell_type": "code",
     "checksum": "d727deb6aa9ecffbf6791e915b4992cc",
     "grade": false,
     "grade_id": "cell-7429888f4a5a274a",
     "locked": false,
     "schema_version": 3,
     "solution": true
    }
   },
   "outputs": [],
   "source": [
    "# your code here\n",
    "fail() # No Answer - remove if you provide an answer\n",
    "head(credit)"
   ]
  },
  {
   "cell_type": "code",
   "execution_count": null,
   "metadata": {
    "deletable": false,
    "editable": false,
    "nbgrader": {
     "cell_type": "code",
     "checksum": "8b6384cb928ab5dbe0b5a56437baa8fe",
     "grade": true,
     "grade_id": "cell-36eda8d5f9545c0e",
     "locked": true,
     "points": 1,
     "schema_version": 3,
     "solution": false
    }
   },
   "outputs": [],
   "source": [
    "test_1.0()"
   ]
  },
  {
   "cell_type": "markdown",
   "metadata": {
    "deletable": false,
    "editable": false,
    "nbgrader": {
     "cell_type": "markdown",
     "checksum": "a6d89ebf25d76a79b23944d5e5e9dba3",
     "grade": false,
     "grade_id": "cell-50099db20db03328",
     "locked": true,
     "schema_version": 3,
     "solution": false,
     "task": false
    }
   },
   "source": [
    "**Question 1.1**\n",
    "<br> {points: 1}\n",
    "\n",
    "Select only the columns of data we are interested in using for our prediction (both the predictors and the response variable). Name the modified data frame `credit`."
   ]
  },
  {
   "cell_type": "code",
   "execution_count": null,
   "metadata": {
    "deletable": false,
    "nbgrader": {
     "cell_type": "code",
     "checksum": "9d43ebd787a5534c1fff5c6af5185ab5",
     "grade": false,
     "grade_id": "cell-f8ecf1ab64d52b66",
     "locked": false,
     "schema_version": 3,
     "solution": true
    }
   },
   "outputs": [],
   "source": [
    "# your code here\n",
    "fail() # No Answer - remove if you provide an answer\n",
    "head(credit)"
   ]
  },
  {
   "cell_type": "code",
   "execution_count": null,
   "metadata": {
    "deletable": false,
    "editable": false,
    "nbgrader": {
     "cell_type": "code",
     "checksum": "44b636523dfd8e9c705dc4e1d899f584",
     "grade": true,
     "grade_id": "cell-9342aee7f4b97ddf",
     "locked": true,
     "points": 1,
     "schema_version": 3,
     "solution": false
    }
   },
   "outputs": [],
   "source": [
    "test_1.1()"
   ]
  },
  {
   "cell_type": "markdown",
   "metadata": {
    "deletable": false,
    "editable": false,
    "nbgrader": {
     "cell_type": "markdown",
     "checksum": "4497d6292edf8201af71a9cb1d283fa0",
     "grade": false,
     "grade_id": "cell-505c4d1e16fc257f",
     "locked": true,
     "schema_version": 3,
     "solution": false,
     "task": false
    }
   },
   "source": [
    "**Question 1.2**\n",
    "<br> {points: 1}\n",
    "\n",
    "Before we perform exploratory data analysis, we should create our training and testing data sets. We will use 60% of the data as training data. Use `set.seed(2000)` and use the `Balance` column as the input to `createDataPartition()`. \n",
    "\n",
    "At the end of this question you should have 4 objects named `X_train`, `Y_train`, `X_test` and `Y_test`."
   ]
  },
  {
   "cell_type": "code",
   "execution_count": null,
   "metadata": {
    "deletable": false,
    "nbgrader": {
     "cell_type": "code",
     "checksum": "7c1dc4f5df9c94a67389c26ad8c7fdea",
     "grade": false,
     "grade_id": "cell-0a1b215548c7e884",
     "locked": false,
     "schema_version": 3,
     "solution": true,
     "task": false
    }
   },
   "outputs": [],
   "source": [
    "set.seed(2000)\n",
    "# your code here\n",
    "fail() # No Answer - remove if you provide an answer"
   ]
  },
  {
   "cell_type": "code",
   "execution_count": null,
   "metadata": {
    "deletable": false,
    "editable": false,
    "nbgrader": {
     "cell_type": "code",
     "checksum": "70acb61e2eb1fa21b2b18f178809b6a5",
     "grade": true,
     "grade_id": "cell-c6bf91ef0c8f21b5",
     "locked": true,
     "points": 0,
     "schema_version": 3,
     "solution": false,
     "task": false
    }
   },
   "outputs": [],
   "source": [
    "test_1.2()"
   ]
  },
  {
   "cell_type": "markdown",
   "metadata": {
    "deletable": false,
    "editable": false,
    "nbgrader": {
     "cell_type": "markdown",
     "checksum": "ae12a1549ede7f09933c17990b18c549",
     "grade": false,
     "grade_id": "cell-8fb9e925bafe7b08",
     "locked": true,
     "schema_version": 3,
     "solution": false,
     "task": false
    }
   },
   "source": [
    "**Question 1.3**\n",
    "<br> {points: 1}\n",
    "\n",
    "Using only the observations in the data set, create a `ggpairs` scatterplot of all the columns we are interested in including in our model. Name the plot object `credit_eda`."
   ]
  },
  {
   "cell_type": "code",
   "execution_count": null,
   "metadata": {
    "deletable": false,
    "nbgrader": {
     "cell_type": "code",
     "checksum": "4f28fc05d652aff5389b55f5d31f123b",
     "grade": false,
     "grade_id": "cell-4a1c52e071e0b23e",
     "locked": false,
     "schema_version": 3,
     "solution": true
    }
   },
   "outputs": [],
   "source": [
    "# your code here\n",
    "fail() # No Answer - remove if you provide an answer\n",
    "credit_eda"
   ]
  },
  {
   "cell_type": "code",
   "execution_count": null,
   "metadata": {
    "deletable": false,
    "editable": false,
    "nbgrader": {
     "cell_type": "code",
     "checksum": "c827fe4e57f5e815d41100847b4a554b",
     "grade": true,
     "grade_id": "cell-883edd273699e4b7",
     "locked": true,
     "points": 1,
     "schema_version": 3,
     "solution": false
    }
   },
   "outputs": [],
   "source": [
    "test_1.3()"
   ]
  },
  {
   "cell_type": "markdown",
   "metadata": {
    "deletable": false,
    "editable": false,
    "nbgrader": {
     "cell_type": "markdown",
     "checksum": "fbbed92bba101a8f39c7e114571519e7",
     "grade": false,
     "grade_id": "cell-8c160d0c2cc2e44b",
     "locked": true,
     "schema_version": 3,
     "solution": false,
     "task": false
    }
   },
   "source": [
    "**Question 1.4**\n",
    "<br> {points: 3}\n",
    "\n",
    "Discuss the relationship you observe in the scatter plots above between the response variable and each predictor."
   ]
  },
  {
   "cell_type": "markdown",
   "metadata": {
    "deletable": false,
    "nbgrader": {
     "cell_type": "markdown",
     "checksum": "3c5a70f4cafa5c0448ec5d00747f66bc",
     "grade": true,
     "grade_id": "cell-a16d213b49e73970",
     "locked": false,
     "points": 3,
     "schema_version": 3,
     "solution": true,
     "task": false
    }
   },
   "source": [
    "DOUBLE CLICK TO EDIT **THIS CELL** AND REPLACE THIS TEXT WITH YOUR ANSWER."
   ]
  },
  {
   "cell_type": "markdown",
   "metadata": {
    "deletable": false,
    "editable": false,
    "nbgrader": {
     "cell_type": "markdown",
     "checksum": "325071b8fcb21c398b2636dfed6883e2",
     "grade": false,
     "grade_id": "cell-ec78a305c07838f3",
     "locked": true,
     "schema_version": 3,
     "solution": false,
     "task": false
    }
   },
   "source": [
    "**Question 1.5**\n",
    "<br> {points: 1}\n",
    "\n",
    "Now use `caret`'s `train` function with `method = \"lm\"` to fit your linear regression model. Name your linear regression model object `lm_model`."
   ]
  },
  {
   "cell_type": "code",
   "execution_count": null,
   "metadata": {
    "deletable": false,
    "nbgrader": {
     "cell_type": "code",
     "checksum": "1530ffd4f16d72b585967be1e5cc154c",
     "grade": false,
     "grade_id": "cell-9736241c0c2966b9",
     "locked": false,
     "schema_version": 3,
     "solution": true
    }
   },
   "outputs": [],
   "source": [
    "# your code here\n",
    "fail() # No Answer - remove if you provide an answer"
   ]
  },
  {
   "cell_type": "code",
   "execution_count": null,
   "metadata": {
    "deletable": false,
    "editable": false,
    "nbgrader": {
     "cell_type": "code",
     "checksum": "ee9f1217e0b2f9d0c22b0e5ac8e0e58c",
     "grade": true,
     "grade_id": "cell-a647adab28a3dfb2",
     "locked": true,
     "points": 1,
     "schema_version": 3,
     "solution": false
    }
   },
   "outputs": [],
   "source": [
    "test_1.5()"
   ]
  },
  {
   "cell_type": "markdown",
   "metadata": {
    "deletable": false,
    "editable": false,
    "nbgrader": {
     "cell_type": "markdown",
     "checksum": "974d6f082ed8d76582af603a60bd4bb4",
     "grade": false,
     "grade_id": "cell-caf742da4236e6a8",
     "locked": true,
     "schema_version": 3,
     "solution": false,
     "task": false
    }
   },
   "source": [
    "**Question 1.6**\n",
    "<br> {points: 1}\n",
    "\n",
    "Let's print out a table of the regression slopes/coefficients. To do this, we want to access some attributes of the model object. We provide scaffolding below. To get the slopes/coefficients as a nice data frame, we then use the `t()` (transpose) function to pivot the data, and then `data.frame()` to convert it to a data frame. Name the resultant data frame `lm_coeffs`."
   ]
  },
  {
   "cell_type": "code",
   "execution_count": null,
   "metadata": {
    "deletable": false,
    "nbgrader": {
     "cell_type": "code",
     "checksum": "4e6206ab9fe5f83f70fcafb56a98989f",
     "grade": false,
     "grade_id": "cell-6131349a47c37876",
     "locked": false,
     "schema_version": 3,
     "solution": true
    }
   },
   "outputs": [],
   "source": [
    "# ... <- ...$finalModel$coefficients %>%\n",
    "#   ... %>%\n",
    "#    data.frame()\n",
    "# colnames(lm_coeffs)[1] <- \"Intercept\"\n",
    "\n",
    "# your code here\n",
    "fail() # No Answer - remove if you provide an answer\n",
    "lm_coeffs"
   ]
  },
  {
   "cell_type": "code",
   "execution_count": null,
   "metadata": {
    "deletable": false,
    "editable": false,
    "nbgrader": {
     "cell_type": "code",
     "checksum": "35ca6cb0153e4dcb4a095e6981d7f0e4",
     "grade": true,
     "grade_id": "cell-4664079ebe7d0892",
     "locked": true,
     "points": 1,
     "schema_version": 3,
     "solution": false
    }
   },
   "outputs": [],
   "source": [
    "test_1.6()"
   ]
  },
  {
   "cell_type": "markdown",
   "metadata": {
    "deletable": false,
    "editable": false,
    "nbgrader": {
     "cell_type": "markdown",
     "checksum": "d51dc515b76daeadb933ad9e160e28e9",
     "grade": false,
     "grade_id": "cell-7719909c65940401",
     "locked": true,
     "schema_version": 3,
     "solution": false,
     "task": false
    }
   },
   "source": [
    "**Question 1.7**\n",
    "<br> {points: 3}\n",
    "\n",
    "Looking at the slopes/coefficients above from each of the predictors, write a mathematical equation for your prediction model.\n",
    "\n",
    "A couple hints:\n",
    "- surrounding your equation with `$` signs in a markdown cell, makes it a LaTeX equation\n",
    "- to add white space in a LaTeX equation, use `\\:`"
   ]
  },
  {
   "cell_type": "markdown",
   "metadata": {
    "deletable": false,
    "nbgrader": {
     "cell_type": "markdown",
     "checksum": "c58b68c13a4e9070b599f2e32ff5a932",
     "grade": true,
     "grade_id": "cell-cee817921c4ec22b",
     "locked": false,
     "points": 3,
     "schema_version": 3,
     "solution": true
    }
   },
   "source": [
    "DOUBLE CLICK TO EDIT **THIS CELL** AND REPLACE THIS TEXT WITH YOUR ANSWER."
   ]
  },
  {
   "cell_type": "markdown",
   "metadata": {
    "deletable": false,
    "editable": false,
    "nbgrader": {
     "cell_type": "markdown",
     "checksum": "2e595901d6c2a1a81d11627b9bd32a55",
     "grade": false,
     "grade_id": "cell-7b9b2114fd06d867",
     "locked": true,
     "schema_version": 3,
     "solution": false,
     "task": false
    }
   },
   "source": [
    "**Question 1.8**\n",
    "<br> {points: 1}\n",
    "\n",
    "Calculate the $RMSE$ to assess goodness of fit on your `lm_model` (remember this is how well it predicts on the training data used to fit the model). Return a single numerical value named `lm_rmse`."
   ]
  },
  {
   "cell_type": "code",
   "execution_count": null,
   "metadata": {
    "deletable": false,
    "nbgrader": {
     "cell_type": "code",
     "checksum": "75cf5cdbef74cd86b7adeeb35e9407e7",
     "grade": false,
     "grade_id": "cell-12064d256dd640e2",
     "locked": false,
     "schema_version": 3,
     "solution": true
    }
   },
   "outputs": [],
   "source": [
    "# your code here\n",
    "fail() # No Answer - remove if you provide an answer\n",
    "lm_rmse"
   ]
  },
  {
   "cell_type": "code",
   "execution_count": null,
   "metadata": {
    "deletable": false,
    "editable": false,
    "nbgrader": {
     "cell_type": "code",
     "checksum": "0141a8dfd315ed19b0fa814745c758b9",
     "grade": true,
     "grade_id": "cell-8de81bb18dedbb48",
     "locked": true,
     "points": 1,
     "schema_version": 3,
     "solution": false
    }
   },
   "outputs": [],
   "source": [
    "test_1.8()"
   ]
  },
  {
   "cell_type": "markdown",
   "metadata": {
    "deletable": false,
    "editable": false,
    "nbgrader": {
     "cell_type": "markdown",
     "checksum": "7c4f24ec39c37c951718172bfd25303e",
     "grade": false,
     "grade_id": "cell-f873952538d4f725",
     "locked": true,
     "schema_version": 3,
     "solution": false,
     "task": false
    }
   },
   "source": [
    "**Question 1.9**\n",
    "<br> {points: 1}\n",
    "\n",
    "Calculate $RMSPE$ using the test data. Return a single numerical value named `lm_rmspe`."
   ]
  },
  {
   "cell_type": "code",
   "execution_count": null,
   "metadata": {
    "deletable": false,
    "nbgrader": {
     "cell_type": "code",
     "checksum": "dfef99f0c3f0ba8d0bafd9f6eefc0723",
     "grade": false,
     "grade_id": "cell-5f42a9ac9068cfdf",
     "locked": false,
     "schema_version": 3,
     "solution": true
    }
   },
   "outputs": [],
   "source": [
    "# your code here\n",
    "fail() # No Answer - remove if you provide an answer\n",
    "lm_rmspe"
   ]
  },
  {
   "cell_type": "code",
   "execution_count": null,
   "metadata": {
    "deletable": false,
    "editable": false,
    "nbgrader": {
     "cell_type": "code",
     "checksum": "8c12c50a3c2f06b3e3f78f547f0fb80a",
     "grade": true,
     "grade_id": "cell-41031aad5e75b436",
     "locked": true,
     "points": 1,
     "schema_version": 3,
     "solution": false
    }
   },
   "outputs": [],
   "source": [
    "test_1.9()"
   ]
  },
  {
   "cell_type": "markdown",
   "metadata": {
    "deletable": false,
    "editable": false,
    "nbgrader": {
     "cell_type": "markdown",
     "checksum": "59c9acde6af5cf34dbe4e3a493bb8fce",
     "grade": false,
     "grade_id": "cell-f26f28bfc681966f",
     "locked": true,
     "schema_version": 3,
     "solution": false,
     "task": false
    }
   },
   "source": [
    "**Question 1.9.1**\n",
    "<br> {points: 3}\n",
    "\n",
    "Redo this analysis using k-nn regression instead of linear regression. Use `set.seed(2000)` at the beginning of this code cell to make it reproducible. Assign a single numeric value for $RMSPE$ for your k-nn model as your answer, and name it `knn_rmspe`. Use the same predictors and train - test data split as you used for linear regression, and use 5-fold cross validation to choose $k$ from the range 1-20. Remember to scale and shift your variables using `preProcess` on your training data, and to apply that same standardization to your test data!"
   ]
  },
  {
   "cell_type": "code",
   "execution_count": null,
   "metadata": {
    "deletable": false,
    "nbgrader": {
     "cell_type": "code",
     "checksum": "f6a0bbee00c4dbdbeb8cdfab985fa74a",
     "grade": true,
     "grade_id": "cell-99f8a777ffd9b3e7",
     "locked": false,
     "points": 3,
     "schema_version": 3,
     "solution": true,
     "task": false
    }
   },
   "outputs": [],
   "source": [
    "set.seed(2000)\n",
    "# your code here\n",
    "fail() # No Answer - remove if you provide an answer\n",
    "knn_rmspe"
   ]
  },
  {
   "cell_type": "markdown",
   "metadata": {
    "deletable": false,
    "editable": false,
    "nbgrader": {
     "cell_type": "markdown",
     "checksum": "50dfc87c660a30b0cbeb74a62920edd3",
     "grade": false,
     "grade_id": "cell-8826c38ee017c109",
     "locked": true,
     "schema_version": 3,
     "solution": false,
     "task": false
    }
   },
   "source": [
    "**Question 1.9.2** \n",
    "<br> {points: 3}\n",
    "\n",
    "Discuss which model gives better predictions and why you think that might be happening."
   ]
  },
  {
   "cell_type": "markdown",
   "metadata": {
    "deletable": false,
    "nbgrader": {
     "cell_type": "markdown",
     "checksum": "56c093194c5f5725f40e57b9830c53c9",
     "grade": true,
     "grade_id": "cell-0cd889e81059bce2",
     "locked": false,
     "points": 3,
     "schema_version": 3,
     "solution": true
    }
   },
   "source": [
    "DOUBLE CLICK TO EDIT **THIS CELL** AND REPLACE THIS TEXT WITH YOUR ANSWER."
   ]
  },
  {
   "cell_type": "markdown",
   "metadata": {
    "deletable": false,
    "editable": false,
    "nbgrader": {
     "cell_type": "markdown",
     "checksum": "019a820d61b7a4674d39bb67306263dc",
     "grade": false,
     "grade_id": "cell-053902c100826449",
     "locked": true,
     "schema_version": 3,
     "solution": false,
     "task": false
    }
   },
   "source": [
    "## 2. Ames Housing Prices\n",
    "\n",
    "<img src=\"https://media.giphy.com/media/xUPGGuzpmG3jfeYWIg/giphy.gif\" width = \"600\"/>\n",
    "\n",
    "Source: https://media.giphy.com/media/xUPGGuzpmG3jfeYWIg/giphy.gif\n",
    "\n",
    "If we take a look at the Business Insider report [What do millenials want in a home?](https://www.businessinsider.com/what-do-millennials-want-in-a-home-2017-2), we can see that millenials like newer houses that have their own defined spaces. Today we are going to be looking at housing data to understand how the sale price of a house is determined. Finding highly detailed housing data with the final sale prices is very hard, however researchers from Truman State Univeristy have studied and made available a dataset containing multiple variables for the city of Ames, Iowa. The data set describes the sale of individual residential property in Ames, Iowa\n",
    "from 2006 to 2010. You can read more about the data set [here](http://jse.amstat.org/v19n3/decock.pdf). Today we will be looking at 5 different variables to predict the sale price of a house. These variables are: \n",
    "\n",
    "- Lot Area: `lot_area`\n",
    "- Year Built: `year_built`\n",
    "- Basement Square Footage: `bsmt_sf`\n",
    "- First Floor Square Footage: `first_sf`\n",
    "- Second Floor Square Footage: `second_sf`\n",
    "\n",
    "We are going to be looking at two approaches, linear regression and KNN regression. First, load the data with the script given below. "
   ]
  },
  {
   "cell_type": "code",
   "execution_count": null,
   "metadata": {
    "deletable": false,
    "editable": false,
    "nbgrader": {
     "cell_type": "code",
     "checksum": "2ceaf17a9a94083dfa95156f52b2704c",
     "grade": false,
     "grade_id": "cell-789ffdb0a2a88b3b",
     "locked": true,
     "schema_version": 3,
     "solution": false,
     "task": false
    }
   },
   "outputs": [],
   "source": [
    "ames_data <- read_csv('data/ames.csv', col_types = cols()) %>%\n",
    "    select(lot_area = Lot.Area, \n",
    "           year_built = Year.Built, \n",
    "           bsmt_sf = Total.Bsmt.SF, \n",
    "           first_sf = `X1st.Flr.SF`, \n",
    "           second_sf = `X2nd.Flr.SF`, \n",
    "           sale_price = SalePrice) %>%\n",
    "    filter(!is.na(bsmt_sf))\n",
    "\n",
    "head(ames_data)"
   ]
  },
  {
   "cell_type": "markdown",
   "metadata": {
    "deletable": false,
    "editable": false,
    "nbgrader": {
     "cell_type": "markdown",
     "checksum": "8f530cdd3fdde78d3005b1460b637736",
     "grade": false,
     "grade_id": "cell-e5207881e329c2a0",
     "locked": true,
     "schema_version": 3,
     "solution": false,
     "task": false
    }
   },
   "source": [
    "**Question 2.1**\n",
    "<br> {points: 3}\n",
    "\n",
    "Split the data into a train dataset and a test dataset, based on a 70%-30% train-test split. Use `set.seed(2019)`. Remember that we want to predict the `sale_price` based on all of the other variables. \n",
    "\n",
    "Assign the objects to `X_train`, `Y_train`, `X_test`, and `Y_test` respectively. \n",
    "\n",
    "*Use 2019 as your seed for the split.*"
   ]
  },
  {
   "cell_type": "code",
   "execution_count": null,
   "metadata": {
    "deletable": false,
    "nbgrader": {
     "cell_type": "code",
     "checksum": "fd42296cc0e8349d1e2a7869c2d0b370",
     "grade": false,
     "grade_id": "cell-4677940cbd08ded9",
     "locked": false,
     "schema_version": 3,
     "solution": true
    }
   },
   "outputs": [],
   "source": [
    "set.seed(2019) # DO NOT CHANGE!\n",
    "# your code here\n",
    "fail() # No Answer - remove if you provide an answer"
   ]
  },
  {
   "cell_type": "code",
   "execution_count": null,
   "metadata": {
    "deletable": false,
    "editable": false,
    "nbgrader": {
     "cell_type": "code",
     "checksum": "6de4c90efcb665c357fec1bbb1193b88",
     "grade": true,
     "grade_id": "cell-416374a3ce562c44",
     "locked": true,
     "points": 3,
     "schema_version": 3,
     "solution": false
    }
   },
   "outputs": [],
   "source": [
    "# We check that you've created objects with the right names below\n",
    "# But all other tests were intentionally hidden so that you can practice deciding \n",
    "# when you have the correct answer.\n",
    "test_that('Did not create objects named X_train, Y_train, X_test, Y_test', {\n",
    "    expect_true(exists(\"X_train\")) \n",
    "    expect_true(exists(\"Y_train\")) \n",
    "    expect_true(exists(\"X_test\")) \n",
    "    expect_true(exists(\"Y_test\")) \n",
    "    })"
   ]
  },
  {
   "cell_type": "markdown",
   "metadata": {
    "deletable": false,
    "editable": false,
    "nbgrader": {
     "cell_type": "markdown",
     "checksum": "552618d5d5278b4e1b4873c2930dafcd",
     "grade": false,
     "grade_id": "cell-1060b3c866d44767",
     "locked": true,
     "schema_version": 3,
     "solution": false,
     "task": false
    }
   },
   "source": [
    "**Question 2.2**\n",
    "<br> {points: 3}\n",
    "\n",
    "Let's start by exploring the training data. Use the `ggpairs()` function from the GGally package to explore the relationships between the different variables. \n",
    "\n",
    "Assign your plot object to a variable named `answer2.2`. "
   ]
  },
  {
   "cell_type": "code",
   "execution_count": null,
   "metadata": {
    "deletable": false,
    "nbgrader": {
     "cell_type": "code",
     "checksum": "3d3d531334c1019587e9fb41be7a47f1",
     "grade": false,
     "grade_id": "cell-93bef9e4a6864e86",
     "locked": false,
     "schema_version": 3,
     "solution": true
    }
   },
   "outputs": [],
   "source": [
    "# your code here\n",
    "fail() # No Answer - remove if you provide an answer"
   ]
  },
  {
   "cell_type": "code",
   "execution_count": null,
   "metadata": {
    "deletable": false,
    "editable": false,
    "nbgrader": {
     "cell_type": "code",
     "checksum": "9d9f172ce12e0691b6119d96c4aff046",
     "grade": true,
     "grade_id": "cell-ee3115b616837197",
     "locked": true,
     "points": 3,
     "schema_version": 3,
     "solution": false
    }
   },
   "outputs": [],
   "source": [
    "# We check that you've created objects with the right names below\n",
    "# But all other tests were intentionally hidden so that you can practice deciding \n",
    "# when you have the correct answer.\n",
    "test_that('Did not create a plot named answer2.2', {\n",
    "    expect_true(exists(\"answer2.2\")) \n",
    "})\n"
   ]
  },
  {
   "cell_type": "markdown",
   "metadata": {
    "deletable": false,
    "editable": false,
    "nbgrader": {
     "cell_type": "markdown",
     "checksum": "929f7a05b942c8d5b5dd8aad8ebe2e3d",
     "grade": false,
     "grade_id": "cell-e69b196736971fb3",
     "locked": true,
     "schema_version": 3,
     "solution": false,
     "task": false
    }
   },
   "source": [
    "**Question 2.3**\n",
    "<br> {points: 3}\n",
    "\n",
    "Now that we have seen the multiple relationships between the variables, which one(s) do you think will be strong predictors for `sale_price`? On what do you base this? If you think none would be good predictors, explain why."
   ]
  },
  {
   "cell_type": "markdown",
   "metadata": {
    "deletable": false,
    "nbgrader": {
     "cell_type": "markdown",
     "checksum": "ee2c0a945b91ed0b8c6f715e7290963f",
     "grade": true,
     "grade_id": "cell-2f05dc8d62d5f989",
     "locked": false,
     "points": 3,
     "schema_version": 3,
     "solution": true
    }
   },
   "source": [
    "DOUBLE CLICK TO EDIT **THIS CELL** AND REPLACE THIS TEXT WITH YOUR ANSWER."
   ]
  },
  {
   "cell_type": "markdown",
   "metadata": {
    "deletable": false,
    "editable": false,
    "nbgrader": {
     "cell_type": "markdown",
     "checksum": "c8d986c5999295dab001dbcd3808f43c",
     "grade": false,
     "grade_id": "cell-f133a2d80fdd9cd3",
     "locked": true,
     "schema_version": 3,
     "solution": false,
     "task": false
    }
   },
   "source": [
    "**Question 2.4 - Linear Regression**\n",
    "<br> {points: 3}\n",
    "\n",
    "Fit a linear regression model with `X_train` and `y_train` using **all** the variables in the data set and save it to an object called `lm_reg`. Extract the coefficients of the model and assign them to an object named lm_coefs. "
   ]
  },
  {
   "cell_type": "code",
   "execution_count": null,
   "metadata": {
    "deletable": false,
    "nbgrader": {
     "cell_type": "code",
     "checksum": "534244f79c544873f5bc26513c167107",
     "grade": false,
     "grade_id": "cell-a81625dc68efe574",
     "locked": false,
     "schema_version": 3,
     "solution": true
    }
   },
   "outputs": [],
   "source": [
    "# your code here\n",
    "fail() # No Answer - remove if you provide an answer"
   ]
  },
  {
   "cell_type": "code",
   "execution_count": null,
   "metadata": {
    "deletable": false,
    "editable": false,
    "nbgrader": {
     "cell_type": "code",
     "checksum": "34fb65f0f34de9d2eeeb5b036fdb9885",
     "grade": true,
     "grade_id": "cell-664d89562f972a45",
     "locked": true,
     "points": 3,
     "schema_version": 3,
     "solution": false
    }
   },
   "outputs": [],
   "source": [
    "# We check that you've created objects with the right names below\n",
    "# But all other tests were intentionally hidden so that you can practice deciding \n",
    "# when you have the correct answer.\n",
    "test_that('Did not create an object named lm_reg', {\n",
    "    expect_true(exists(\"lm_reg\")) \n",
    "    })\n",
    "test_that('Did not create an object named lm_coefs', {\n",
    "    expect_true(exists(\"lm_coefs\")) \n",
    "    })\n"
   ]
  },
  {
   "cell_type": "markdown",
   "metadata": {
    "deletable": false,
    "editable": false,
    "nbgrader": {
     "cell_type": "markdown",
     "checksum": "cae63f898ec10f1e3bc7657e39ecea57",
     "grade": false,
     "grade_id": "cell-f5aa9d2d7559db6b",
     "locked": true,
     "schema_version": 3,
     "solution": false,
     "task": false
    }
   },
   "source": [
    "**Question 2.5**\n",
    "<br> {points: 3}\n",
    "\n",
    "Provide a brief interpretation of the coefficients above and discuss the relationship between `sale_price` and each variable (i.e., does the slope indicate a positive or negative relationship between house sale price and each of the predictors). \n",
    "\n",
    "*You don't have to interpret the intercept.* "
   ]
  },
  {
   "cell_type": "markdown",
   "metadata": {
    "deletable": false,
    "nbgrader": {
     "cell_type": "markdown",
     "checksum": "1a094e48333335d2f521276f8f1a48e1",
     "grade": true,
     "grade_id": "cell-d1da1037565f53f1",
     "locked": false,
     "points": 3,
     "schema_version": 3,
     "solution": true
    }
   },
   "source": [
    "DOUBLE CLICK TO EDIT **THIS CELL** AND REPLACE THIS TEXT WITH YOUR ANSWER."
   ]
  },
  {
   "cell_type": "markdown",
   "metadata": {
    "deletable": false,
    "editable": false,
    "nbgrader": {
     "cell_type": "markdown",
     "checksum": "6dfc82d7dd78db0003474b8f5dcbd2c9",
     "grade": false,
     "grade_id": "cell-ffcca6c97ae145c9",
     "locked": true,
     "schema_version": 3,
     "solution": false,
     "task": false
    }
   },
   "source": [
    "**Question 2.6**\n",
    "<br> {points: 3}\n",
    "\n",
    "Use the coefficients above to write a mathematical equation for your prediction model. You can round the coefficients to two decimal places for this. "
   ]
  },
  {
   "cell_type": "markdown",
   "metadata": {
    "deletable": false,
    "nbgrader": {
     "cell_type": "markdown",
     "checksum": "a5d0cbcca71365aacae82a395ff33e69",
     "grade": true,
     "grade_id": "cell-605b5516e9f41417",
     "locked": false,
     "points": 3,
     "schema_version": 3,
     "solution": true
    }
   },
   "source": [
    "DOUBLE CLICK TO EDIT **THIS CELL** AND REPLACE THIS TEXT WITH YOUR ANSWER."
   ]
  },
  {
   "cell_type": "markdown",
   "metadata": {
    "deletable": false,
    "editable": false,
    "nbgrader": {
     "cell_type": "markdown",
     "checksum": "ae9c9bb418fee7dac061c053a95e7aab",
     "grade": false,
     "grade_id": "cell-33e696f6e5c6f880",
     "locked": true,
     "schema_version": 3,
     "solution": false,
     "task": false
    }
   },
   "source": [
    "**Question 2.7** \n",
    "<br> {points: 3}\n",
    "\n",
    "Could we easily visualize the predictions of the model above as a line or a plane in a single plot? If so, explain how. If not, explain why not."
   ]
  },
  {
   "cell_type": "markdown",
   "metadata": {
    "deletable": false,
    "nbgrader": {
     "cell_type": "markdown",
     "checksum": "8feca545fc74db34c7701b9475f27982",
     "grade": true,
     "grade_id": "cell-ce59b464aa4b7515",
     "locked": false,
     "points": 3,
     "schema_version": 3,
     "solution": true
    }
   },
   "source": [
    "DOUBLE CLICK TO EDIT **THIS CELL** AND REPLACE THIS TEXT WITH YOUR ANSWER."
   ]
  },
  {
   "cell_type": "markdown",
   "metadata": {
    "deletable": false,
    "editable": false,
    "nbgrader": {
     "cell_type": "markdown",
     "checksum": "71fb8fc9c11ec17baee8ee38619991e7",
     "grade": false,
     "grade_id": "cell-10c2a24200d6582f",
     "locked": true,
     "schema_version": 3,
     "solution": false,
     "task": false
    }
   },
   "source": [
    "**Question 2.8**\n",
    "<br> {points: 3}\n",
    "\n",
    "We need to evaluate how well our model is doing. For this calculate the **RMSPE** of the linear regression model and assign it to an object named `lm_rmspe`."
   ]
  },
  {
   "cell_type": "code",
   "execution_count": null,
   "metadata": {
    "deletable": false,
    "nbgrader": {
     "cell_type": "code",
     "checksum": "ea0a21cccfc07bf322fa9c864db6290d",
     "grade": false,
     "grade_id": "cell-d3d15c7887e2325a",
     "locked": false,
     "schema_version": 3,
     "solution": true
    }
   },
   "outputs": [],
   "source": [
    "# your code here\n",
    "fail() # No Answer - remove if you provide an answer\n",
    "lm_rmspe"
   ]
  },
  {
   "cell_type": "code",
   "execution_count": null,
   "metadata": {
    "deletable": false,
    "editable": false,
    "nbgrader": {
     "cell_type": "code",
     "checksum": "fea18c9109bead4a90db42cdb5b601a3",
     "grade": true,
     "grade_id": "cell-83731b933e194459",
     "locked": true,
     "points": 3,
     "schema_version": 3,
     "solution": false
    }
   },
   "outputs": [],
   "source": [
    "# We check that you've created objects with the right names below\n",
    "# But all other tests were intentionally hidden so that you can practice deciding \n",
    "# when you have the correct answer.\n",
    "test_that('Did not create an object named lm_rmspe', {\n",
    "    expect_true(exists(\"lm_rmspe\")) \n",
    "    })"
   ]
  },
  {
   "cell_type": "markdown",
   "metadata": {
    "deletable": false,
    "editable": false,
    "nbgrader": {
     "cell_type": "markdown",
     "checksum": "44548d5365b4c7d239393d3d7abaac81",
     "grade": false,
     "grade_id": "cell-7075ba3a0703c792",
     "locked": true,
     "schema_version": 3,
     "solution": false,
     "task": false
    }
   },
   "source": [
    "**Question 2.9**\n",
    "<br> {points: 3}\n",
    "\n",
    "Above we calculated $RMSPE$ to assess how well our model predicts on new data. Why did we not calculate $RMSE$ to answer that question? (*hint - think of the definitions of $RMSE$ and $RMSPE$*)"
   ]
  },
  {
   "cell_type": "markdown",
   "metadata": {
    "deletable": false,
    "nbgrader": {
     "cell_type": "markdown",
     "checksum": "fed0a891156cee8d870ff82394642734",
     "grade": true,
     "grade_id": "cell-1fa4c778cdffba47",
     "locked": false,
     "points": 3,
     "schema_version": 3,
     "solution": true
    }
   },
   "source": [
    "DOUBLE CLICK TO EDIT **THIS CELL** AND REPLACE THIS TEXT WITH YOUR ANSWER."
   ]
  },
  {
   "cell_type": "markdown",
   "metadata": {
    "deletable": false,
    "editable": false,
    "nbgrader": {
     "cell_type": "markdown",
     "checksum": "bbda4ba16599b633edbe2fc79c6661a1",
     "grade": false,
     "grade_id": "cell-84b35492da1c188e",
     "locked": true,
     "schema_version": 3,
     "solution": false,
     "task": false
    }
   },
   "source": [
    "**Question 2.10**\n",
    "<br> *(optional)*\n",
    "\n",
    "\"Logarithmically transforming variables in a regression model is a very common way to handle situations where a non-linear relationship exists between the independent and dependent variables. Using the logarithm of one or more variables instead of the un-logged form makes the effective relationship non-linear, while still preserving the linear model.\" - [Linear Regression Models with Logarithmic Transformations](https://kenbenoit.net/assets/courses/ME104/logmodels2.pdf)\n",
    "\n",
    "Take the logarithm of the `sale_price` variable and fit your linear model again. Do you have a lower RMSPE? Do you have the same model as in question 1.4?"
   ]
  }
 ],
 "metadata": {
  "kernelspec": {
   "display_name": "R",
   "language": "R",
   "name": "ir"
  },
  "language_info": {
   "codemirror_mode": "r",
   "file_extension": ".r",
   "mimetype": "text/x-r-source",
   "name": "R",
   "pygments_lexer": "r",
   "version": "3.6.1"
  }
 },
 "nbformat": 4,
 "nbformat_minor": 4
}
