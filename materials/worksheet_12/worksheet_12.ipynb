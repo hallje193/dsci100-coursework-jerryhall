{
 "cells": [
  {
   "cell_type": "markdown",
   "metadata": {
    "deletable": false,
    "editable": false,
    "nbgrader": {
     "cell_type": "markdown",
     "checksum": "fd1415a76564376daa71edbcea469be5",
     "grade": false,
     "grade_id": "cell-f863750069537ead",
     "locked": true,
     "schema_version": 3,
     "solution": false,
     "task": false
    }
   },
   "source": [
    "# Last Worksheet!\n",
    "\n",
    "We will cover 2 things today:\n",
    "\n",
    "1. [Estimation when you only have 1 sample (like in IRL!)](#Estimation-with-only-one-sample)\n",
    "2. [Getting R + Jupyter working for you outside of our course](#Getting-R-+-Jupyter-working-for-you-outside-of-our-course)"
   ]
  },
  {
   "cell_type": "markdown",
   "metadata": {
    "deletable": false,
    "editable": false,
    "nbgrader": {
     "cell_type": "markdown",
     "checksum": "96429af1189cbe3fe92bf943be850e78",
     "grade": false,
     "grade_id": "cell-feeb551ce9229310",
     "locked": true,
     "schema_version": 3,
     "solution": false,
     "task": false
    }
   },
   "source": [
    "### Lecture and Tutorial Learning Goals:\n",
    "\n",
    "After completing this week's lecture and tutorial work, you will be able to:\n",
    "- Explain why we don't have a sampling distribution in practice/real life.\n",
    "- Define bootstrapping.\n",
    "- Use R to created bootstrap distribution to approximate a sampling distribution.\n",
    "- Contrast bootstrap and sampling distributions."
   ]
  },
  {
   "cell_type": "code",
   "execution_count": 1,
   "metadata": {
    "deletable": false,
    "editable": false,
    "nbgrader": {
     "cell_type": "code",
     "checksum": "83058bde6108ee9c39a489ab289cee6f",
     "grade": false,
     "grade_id": "cell-55b5050a0a343a4f",
     "locked": true,
     "schema_version": 3,
     "solution": false,
     "task": false
    }
   },
   "outputs": [
    {
     "name": "stderr",
     "output_type": "stream",
     "text": [
      "── \u001b[1mAttaching packages\u001b[22m ─────────────────────────────────────── tidyverse 1.3.0 ──\n",
      "\n",
      "\u001b[32m✔\u001b[39m \u001b[34mggplot2\u001b[39m 3.2.1     \u001b[32m✔\u001b[39m \u001b[34mpurrr  \u001b[39m 0.3.3\n",
      "\u001b[32m✔\u001b[39m \u001b[34mtibble \u001b[39m 2.1.3     \u001b[32m✔\u001b[39m \u001b[34mdplyr  \u001b[39m 0.8.4\n",
      "\u001b[32m✔\u001b[39m \u001b[34mtidyr  \u001b[39m 1.0.2     \u001b[32m✔\u001b[39m \u001b[34mstringr\u001b[39m 1.4.0\n",
      "\u001b[32m✔\u001b[39m \u001b[34mreadr  \u001b[39m 1.3.1     \u001b[32m✔\u001b[39m \u001b[34mforcats\u001b[39m 0.4.0\n",
      "\n",
      "── \u001b[1mConflicts\u001b[22m ────────────────────────────────────────── tidyverse_conflicts() ──\n",
      "\u001b[31m✖\u001b[39m \u001b[34mdplyr\u001b[39m::\u001b[32mfilter()\u001b[39m masks \u001b[34mstats\u001b[39m::filter()\n",
      "\u001b[31m✖\u001b[39m \u001b[34mdplyr\u001b[39m::\u001b[32mlag()\u001b[39m    masks \u001b[34mstats\u001b[39m::lag()\n",
      "\n",
      "\n",
      "Attaching package: ‘gridExtra’\n",
      "\n",
      "\n",
      "The following object is masked from ‘package:dplyr’:\n",
      "\n",
      "    combine\n",
      "\n",
      "\n",
      "\n",
      "Attaching package: ‘testthat’\n",
      "\n",
      "\n",
      "The following object is masked from ‘package:dplyr’:\n",
      "\n",
      "    matches\n",
      "\n",
      "\n",
      "The following object is masked from ‘package:purrr’:\n",
      "\n",
      "    is_null\n",
      "\n",
      "\n",
      "The following object is masked from ‘package:tidyr’:\n",
      "\n",
      "    matches\n",
      "\n",
      "\n"
     ]
    }
   ],
   "source": [
    "### Run this cell before continuing.\n",
    "library(tidyverse)\n",
    "library(repr)\n",
    "library(digest)\n",
    "library(infer)\n",
    "library(gridExtra)\n",
    "source('tests_worksheet_12.R')\n",
    "source(\"cleanup_worksheet_12.R\")"
   ]
  },
  {
   "cell_type": "markdown",
   "metadata": {
    "deletable": false,
    "editable": false,
    "nbgrader": {
     "cell_type": "markdown",
     "checksum": "da6a4b6744a903709e2f432e04d7c5e4",
     "grade": false,
     "grade_id": "cell-b0098728d66708d2",
     "locked": true,
     "schema_version": 3,
     "solution": false,
     "task": false
    }
   },
   "source": [
    "**Question 1.1** True/False:\n",
    "<br> {points: 1}\n",
    "\n",
    "In real life we typically take many samples from the population and create a sampling distribution when we perform estimation. True or False?\n",
    "\n",
    "*Assign your answer to an object called `answer1.1`. Your answer should be a either \"True\" or \"False\", surrounded by quotes.*"
   ]
  },
  {
   "cell_type": "code",
   "execution_count": 2,
   "metadata": {
    "deletable": false,
    "nbgrader": {
     "cell_type": "code",
     "checksum": "febbd354b2f2ca03729f132e8e79ecb7",
     "grade": false,
     "grade_id": "cell-03cc711477e4baf7",
     "locked": false,
     "schema_version": 3,
     "solution": true,
     "task": false
    }
   },
   "outputs": [],
   "source": [
    "# your code here\n",
    "answer1.1 = 'False'"
   ]
  },
  {
   "cell_type": "code",
   "execution_count": 3,
   "metadata": {
    "deletable": false,
    "editable": false,
    "nbgrader": {
     "cell_type": "code",
     "checksum": "29db99141228bbcb8cbac44b35a4566d",
     "grade": true,
     "grade_id": "cell-e8aa24da1ef5f535",
     "locked": true,
     "points": 1,
     "schema_version": 3,
     "solution": false,
     "task": false
    }
   },
   "outputs": [
    {
     "name": "stdout",
     "output_type": "stream",
     "text": [
      "[1] \"Success!\"\n"
     ]
    }
   ],
   "source": [
    "test_1.1()"
   ]
  },
  {
   "cell_type": "markdown",
   "metadata": {
    "deletable": false,
    "editable": false,
    "nbgrader": {
     "cell_type": "markdown",
     "checksum": "d8b3b78a644062149e179ad24bc6cf17",
     "grade": false,
     "grade_id": "cell-05b19510ad97aeb3",
     "locked": true,
     "schema_version": 3,
     "solution": false,
     "task": false
    }
   },
   "source": [
    "**Question 1.2** Ordering\n",
    "<br> {points: 1}\n",
    "\n",
    "Correctly re-order the steps for creating a bootstrap sample from those listed below. \n",
    "\n",
    "1. record the observation's value\n",
    "2. repeat the above the same number of times as there are observations in the original sample \n",
    "3. return the observation to the original sample\n",
    "4. randomly draw an observation from the original sample (which was drawn from the population)\n",
    "\n",
    "Create your answer by reordering values below in the `answer1.2` vector with the correct order for the steps above for creating a bootstrap sample."
   ]
  },
  {
   "cell_type": "code",
   "execution_count": 4,
   "metadata": {
    "deletable": false,
    "nbgrader": {
     "cell_type": "code",
     "checksum": "c6cfff4879725ebc1634aa94798b10b5",
     "grade": false,
     "grade_id": "cell-dbdb7facfc6bda43",
     "locked": false,
     "schema_version": 3,
     "solution": true,
     "task": false
    }
   },
   "outputs": [],
   "source": [
    "answer1.2 <- c(4, 1, 3, 2)\n",
    "# your code here"
   ]
  },
  {
   "cell_type": "code",
   "execution_count": 5,
   "metadata": {
    "deletable": false,
    "editable": false,
    "nbgrader": {
     "cell_type": "code",
     "checksum": "33ab78646661e4ea7b4af234a4044164",
     "grade": true,
     "grade_id": "cell-8a257d7535ce46fe",
     "locked": true,
     "points": 1,
     "schema_version": 3,
     "solution": false,
     "task": false
    }
   },
   "outputs": [
    {
     "name": "stdout",
     "output_type": "stream",
     "text": [
      "[1] \"Success!\"\n"
     ]
    }
   ],
   "source": [
    "test_1.2()"
   ]
  },
  {
   "cell_type": "markdown",
   "metadata": {
    "deletable": false,
    "editable": false,
    "nbgrader": {
     "cell_type": "markdown",
     "checksum": "19f44933331dbe44763847143c1ffa3b",
     "grade": false,
     "grade_id": "cell-a612ade2b8ba83fc",
     "locked": true,
     "schema_version": 3,
     "solution": false,
     "task": false
    }
   },
   "source": [
    "**Question 1.3** Multiple choice\n",
    "<br> {points: 1}\n",
    "\n",
    "From the list below, choose the correct explanation of a bootstrap distribution for a point estimate:\n",
    "\n",
    "A. a list of point estimates calculated from many samples drawn with replacement from the population\n",
    "\n",
    "B. a list of point estimates calculated from many samples drawn without replacement from the population\n",
    "\n",
    "C. a list of point estimates calculated from bootstrap samples drawn with replacement from a single sample (that was drawn from the population)\n",
    "\n",
    "D. a list of point estimates calculated from bootstrap samples drawn without replacement from a single sample (that was drawn from the population)\n",
    "\n",
    "*Assign your answer to an object called `answer1.3`. Your answer should be a single character surrounded by quotes.*"
   ]
  },
  {
   "cell_type": "code",
   "execution_count": 6,
   "metadata": {
    "deletable": false,
    "nbgrader": {
     "cell_type": "code",
     "checksum": "0dacd29a14dcafbb822d33871c4cfd39",
     "grade": false,
     "grade_id": "cell-fe8959defed4a439",
     "locked": false,
     "schema_version": 3,
     "solution": true,
     "task": false
    }
   },
   "outputs": [],
   "source": [
    "# your code here\n",
    "answer1.3 = 'C'"
   ]
  },
  {
   "cell_type": "code",
   "execution_count": 7,
   "metadata": {
    "deletable": false,
    "editable": false,
    "nbgrader": {
     "cell_type": "code",
     "checksum": "9708366699b1ce6e00d18495886928ce",
     "grade": true,
     "grade_id": "cell-59dbb6a427a133c5",
     "locked": true,
     "points": 1,
     "schema_version": 3,
     "solution": false,
     "task": false
    }
   },
   "outputs": [
    {
     "name": "stdout",
     "output_type": "stream",
     "text": [
      "[1] \"Success!\"\n"
     ]
    }
   ],
   "source": [
    "test_1.3()"
   ]
  },
  {
   "cell_type": "markdown",
   "metadata": {},
   "source": [
    "**Question 1.4** Multiple choice\n",
    "<br> {points: 1}\n",
    "\n",
    "From the list below, choose the correct explanation of why, when performing estimation, we want to report a plausible **range** for the true population quantity we are trying to estimate along with the point estimate:\n",
    "\n",
    "A. The point estimate is our best guess at the true population quantity we are trying to estimate\n",
    "\n",
    "B. The point estimate will often not be the exact value of the true population quantity we are trying to estimate\n",
    "\n",
    "C. The value of a point estimate from one sample might very well be different than the value of a point estimate from another sample.\n",
    "\n",
    "D. B & C\n",
    "\n",
    "F. A & C\n",
    "\n",
    "E. None of the above\n",
    "\n",
    "*Assign your answer to an object called `answer1.4`. Your answer should be a single character surrounded by quotes.*"
   ]
  },
  {
   "cell_type": "code",
   "execution_count": 8,
   "metadata": {
    "deletable": false,
    "nbgrader": {
     "cell_type": "code",
     "checksum": "28e5fb0455502bd31008937e083d5807",
     "grade": false,
     "grade_id": "cell-fd7e89338bbb71ca",
     "locked": false,
     "schema_version": 3,
     "solution": true,
     "task": false
    }
   },
   "outputs": [],
   "source": [
    "# your code here\n",
    "answer1.4 = 'D'"
   ]
  },
  {
   "cell_type": "code",
   "execution_count": 9,
   "metadata": {
    "deletable": false,
    "editable": false,
    "nbgrader": {
     "cell_type": "code",
     "checksum": "2225bc6706869eacd7f38d98fb6f1e14",
     "grade": true,
     "grade_id": "cell-9448b3731eccbe8c",
     "locked": true,
     "points": 1,
     "schema_version": 3,
     "solution": false,
     "task": false
    }
   },
   "outputs": [
    {
     "name": "stdout",
     "output_type": "stream",
     "text": [
      "[1] \"Success!\"\n"
     ]
    }
   ],
   "source": [
    "test_1.4()"
   ]
  },
  {
   "cell_type": "markdown",
   "metadata": {
    "deletable": false,
    "editable": false,
    "nbgrader": {
     "cell_type": "markdown",
     "checksum": "0a40a5c35842025d17e27bb17bb691e8",
     "grade": false,
     "grade_id": "cell-76363f7f1f56807e",
     "locked": true,
     "schema_version": 3,
     "solution": false,
     "task": false
    }
   },
   "source": [
    "###  Continuing with our virtual population of Canadian seniors from last worksheet\n",
    "\n",
    "Here we re-create the virtual population (ages of all Canadian seniors) we used in the last worksheet. It was bounded by realistic values ($\\geq$ 65 and $\\leq$ 118):"
   ]
  },
  {
   "cell_type": "code",
   "execution_count": 10,
   "metadata": {
    "deletable": false,
    "editable": false,
    "nbgrader": {
     "cell_type": "code",
     "checksum": "89733933c183febcaf11c8a660221d8c",
     "grade": false,
     "grade_id": "cell-522aafd1e9430ef3",
     "locked": true,
     "schema_version": 3,
     "solution": false,
     "task": false
    }
   },
   "outputs": [
    {
     "data": {
      "text/html": [
       "<table>\n",
       "<caption>A tibble: 6 × 1</caption>\n",
       "<thead>\n",
       "\t<tr><th scope=col>age</th></tr>\n",
       "\t<tr><th scope=col>&lt;dbl&gt;</th></tr>\n",
       "</thead>\n",
       "<tbody>\n",
       "\t<tr><td> 65.09234</td></tr>\n",
       "\t<tr><td> 92.77292</td></tr>\n",
       "\t<tr><td> 90.08786</td></tr>\n",
       "\t<tr><td>100.98820</td></tr>\n",
       "\t<tr><td> 74.68310</td></tr>\n",
       "\t<tr><td> 65.54121</td></tr>\n",
       "</tbody>\n",
       "</table>\n"
      ],
      "text/latex": [
       "A tibble: 6 × 1\n",
       "\\begin{tabular}{l}\n",
       " age\\\\\n",
       " <dbl>\\\\\n",
       "\\hline\n",
       "\t  65.09234\\\\\n",
       "\t  92.77292\\\\\n",
       "\t  90.08786\\\\\n",
       "\t 100.98820\\\\\n",
       "\t  74.68310\\\\\n",
       "\t  65.54121\\\\\n",
       "\\end{tabular}\n"
      ],
      "text/markdown": [
       "\n",
       "A tibble: 6 × 1\n",
       "\n",
       "| age &lt;dbl&gt; |\n",
       "|---|\n",
       "|  65.09234 |\n",
       "|  92.77292 |\n",
       "|  90.08786 |\n",
       "| 100.98820 |\n",
       "|  74.68310 |\n",
       "|  65.54121 |\n",
       "\n"
      ],
      "text/plain": [
       "  age      \n",
       "1  65.09234\n",
       "2  92.77292\n",
       "3  90.08786\n",
       "4 100.98820\n",
       "5  74.68310\n",
       "6  65.54121"
      ]
     },
     "metadata": {},
     "output_type": "display_data"
    }
   ],
   "source": [
    "# run this cell to simulate a finite population\n",
    "set.seed(4321) # DO NOT CHANGE\n",
    "can_seniors <- tibble(age = (rexp(2000000, rate = 0.1)^2) + 65) %>% \n",
    "    filter(age <= 117, age >= 65)\n",
    "head(can_seniors)"
   ]
  },
  {
   "cell_type": "markdown",
   "metadata": {
    "deletable": false,
    "editable": false,
    "nbgrader": {
     "cell_type": "markdown",
     "checksum": "5561245d433c1e817a99ae2a8ba5d19c",
     "grade": false,
     "grade_id": "cell-557951d5cb618c2c",
     "locked": true,
     "schema_version": 3,
     "solution": false,
     "task": false
    }
   },
   "source": [
    "Let's remind ourselves of what this population looks like:"
   ]
  },
  {
   "cell_type": "code",
   "execution_count": 11,
   "metadata": {
    "deletable": false,
    "editable": false,
    "nbgrader": {
     "cell_type": "code",
     "checksum": "d99b3ab81fb7ab654a5c62256e208966",
     "grade": false,
     "grade_id": "cell-ac4865a9c4709bbb",
     "locked": true,
     "schema_version": 3,
     "solution": false,
     "task": false
    }
   },
   "outputs": [
    {
     "data": {
      "image/png": "[encoded data removed]",
      "text/plain": [
       "plot without title"
      ]
     },
     "metadata": {
      "image/png": {
       "height": 180,
       "width": 240
      },
      "text/plain": {
       "height": 180,
       "width": 240
      }
     },
     "output_type": "display_data"
    }
   ],
   "source": [
    "# run this cell \n",
    "options(repr.plot.width = 4, repr.plot.height = 3)\n",
    "pop_dist <- ggplot(can_seniors, aes(age)) + \n",
    "    geom_histogram(binwidth = 1) +\n",
    "    xlab(\"Age (years)\") +\n",
    "    ggtitle(\"Population distribution\") \n",
    "pop_dist"
   ]
  },
  {
   "cell_type": "markdown",
   "metadata": {
    "deletable": false,
    "editable": false,
    "nbgrader": {
     "cell_type": "markdown",
     "checksum": "d0ba95fa7e27261614a6d21e9943e56b",
     "grade": false,
     "grade_id": "cell-f2e798c845edc3ee",
     "locked": true,
     "schema_version": 3,
     "solution": false,
     "task": false
    }
   },
   "source": [
    "### Estimate the mean age of Canadian Seniors\n",
    "\n",
    "Let's say we are interested in estimating the mean age of Canadian Seniors. Given that we have the population (we created it) we could just calculate the mean age from this population data. However in real life, we usually only have one small-ish sample from the population. Also, from our experimentation with sampling distributions, we know that different random samples will give us different point estimates. We also know from these experiments that the point estimates from different random samples will mostly be close to the true population quanitity we are trying to estimate, and how close depends on the sample size.\n",
    "\n",
    "What about in real life though, when we only have one sample? Can we say how close? Or at least give some plausible range of where we would expect the population quanitity we are trying to estimate to fall? Yes! We can do this using a method called bootstrapping! Let's explore how to create a bootstrap distribution from a single sample using R. And then we will discuss how the bootstrap distribution relates to the sampling distribution, and what it can tell us about the true population quantity we are trying to estimate."
   ]
  },
  {
   "cell_type": "markdown",
   "metadata": {
    "deletable": false,
    "editable": false,
    "nbgrader": {
     "cell_type": "markdown",
     "checksum": "5c79b5dab23b2d6c7cf9cf3d3f3ab343",
     "grade": false,
     "grade_id": "cell-9282c2797da1931b",
     "locked": true,
     "schema_version": 3,
     "solution": false,
     "task": false
    }
   },
   "source": [
    "Let's draw a single sample of size 40 from the population and visualize it:"
   ]
  },
  {
   "cell_type": "code",
   "execution_count": 12,
   "metadata": {
    "deletable": false,
    "editable": false,
    "nbgrader": {
     "cell_type": "code",
     "checksum": "46bc56eab3bfbb0ee9e0ecb50c86d8d0",
     "grade": false,
     "grade_id": "cell-01de9069dec4f4e5",
     "locked": true,
     "schema_version": 3,
     "solution": false,
     "task": false
    }
   },
   "outputs": [
    {
     "data": {
      "text/html": [
       "<table>\n",
       "<caption>A tibble: 6 × 1</caption>\n",
       "<thead>\n",
       "\t<tr><th scope=col>age</th></tr>\n",
       "\t<tr><th scope=col>&lt;dbl&gt;</th></tr>\n",
       "</thead>\n",
       "<tbody>\n",
       "\t<tr><td> 65.07064</td></tr>\n",
       "\t<tr><td> 66.53276</td></tr>\n",
       "\t<tr><td> 73.28399</td></tr>\n",
       "\t<tr><td>106.10351</td></tr>\n",
       "\t<tr><td> 65.00235</td></tr>\n",
       "\t<tr><td> 68.03932</td></tr>\n",
       "</tbody>\n",
       "</table>\n"
      ],
      "text/latex": [
       "A tibble: 6 × 1\n",
       "\\begin{tabular}{l}\n",
       " age\\\\\n",
       " <dbl>\\\\\n",
       "\\hline\n",
       "\t  65.07064\\\\\n",
       "\t  66.53276\\\\\n",
       "\t  73.28399\\\\\n",
       "\t 106.10351\\\\\n",
       "\t  65.00235\\\\\n",
       "\t  68.03932\\\\\n",
       "\\end{tabular}\n"
      ],
      "text/markdown": [
       "\n",
       "A tibble: 6 × 1\n",
       "\n",
       "| age &lt;dbl&gt; |\n",
       "|---|\n",
       "|  65.07064 |\n",
       "|  66.53276 |\n",
       "|  73.28399 |\n",
       "| 106.10351 |\n",
       "|  65.00235 |\n",
       "|  68.03932 |\n",
       "\n"
      ],
      "text/plain": [
       "  age      \n",
       "1  65.07064\n",
       "2  66.53276\n",
       "3  73.28399\n",
       "4 106.10351\n",
       "5  65.00235\n",
       "6  68.03932"
      ]
     },
     "metadata": {},
     "output_type": "display_data"
    }
   ],
   "source": [
    "# run this cell \n",
    "set.seed(12345) \n",
    "one_sample <- can_seniors %>% \n",
    "    rep_sample_n(40) %>% \n",
    "    ungroup() %>% # ungroup the data frame \n",
    "    select(age) # drop the replicate column \n",
    "head(one_sample)"
   ]
  },
  {
   "cell_type": "markdown",
   "metadata": {},
   "source": [
    "> ### An aside\n",
    "> To make this work with the `infer` package functions, we need to drop the first column (named `replicate`) as when we are bootstrapping we will be generating this column again. We also need to ungroup this data frame too...\n",
    ">\n",
    "> This is because in real life you would only have one sample (and hence no replicate column and the data would be ungrouped)."
   ]
  },
  {
   "cell_type": "code",
   "execution_count": 13,
   "metadata": {},
   "outputs": [
    {
     "data": {
      "image/png": "[encoded data removed]",
      "text/plain": [
       "plot without title"
      ]
     },
     "metadata": {
      "image/png": {
       "height": 180,
       "width": 240
      },
      "text/plain": {
       "height": 180,
       "width": 240
      }
     },
     "output_type": "display_data"
    }
   ],
   "source": [
    "# run this cell \n",
    "one_sample_dist <- ggplot(one_sample, aes(age)) + \n",
    "    geom_histogram(binwidth = 1) +\n",
    "    xlab(\"Age (years)\") +\n",
    "    ggtitle(\"Distribution of one sample\")\n",
    "one_sample_dist"
   ]
  },
  {
   "cell_type": "markdown",
   "metadata": {
    "deletable": false,
    "editable": false,
    "nbgrader": {
     "cell_type": "markdown",
     "checksum": "3c1038bf12a8855d23fb0eca6812bb96",
     "grade": false,
     "grade_id": "cell-aaf103d19b9fba0d",
     "locked": true,
     "schema_version": 3,
     "solution": false,
     "task": false
    }
   },
   "source": [
    "**Question 1.5** \n",
    "<br> {points: 1}\n",
    "\n",
    "Use `summarise` to calculate the mean age (our point estimate of interest) from the random sample you just took (`one_sample`):\n",
    "\n",
    "Name this data frame `one_sample_estimates` which has a single column named `mean`."
   ]
  },
  {
   "cell_type": "code",
   "execution_count": 14,
   "metadata": {
    "deletable": false,
    "nbgrader": {
     "cell_type": "code",
     "checksum": "5a31064545a044eb58ac989026152ecf",
     "grade": false,
     "grade_id": "cell-443a7d1dcaf35e9a",
     "locked": false,
     "schema_version": 3,
     "solution": true,
     "task": false
    }
   },
   "outputs": [
    {
     "data": {
      "text/html": [
       "<table>\n",
       "<caption>A tibble: 1 × 1</caption>\n",
       "<thead>\n",
       "\t<tr><th scope=col>mean</th></tr>\n",
       "\t<tr><th scope=col>&lt;dbl&gt;</th></tr>\n",
       "</thead>\n",
       "<tbody>\n",
       "\t<tr><td>77.8202</td></tr>\n",
       "</tbody>\n",
       "</table>\n"
      ],
      "text/latex": [
       "A tibble: 1 × 1\n",
       "\\begin{tabular}{l}\n",
       " mean\\\\\n",
       " <dbl>\\\\\n",
       "\\hline\n",
       "\t 77.8202\\\\\n",
       "\\end{tabular}\n"
      ],
      "text/markdown": [
       "\n",
       "A tibble: 1 × 1\n",
       "\n",
       "| mean &lt;dbl&gt; |\n",
       "|---|\n",
       "| 77.8202 |\n",
       "\n"
      ],
      "text/plain": [
       "  mean   \n",
       "1 77.8202"
      ]
     },
     "metadata": {},
     "output_type": "display_data"
    }
   ],
   "source": [
    "# your code here\n",
    "one_sample_estimates = summarize(one_sample, mean=mean(age))\n",
    "one_sample_estimates"
   ]
  },
  {
   "cell_type": "code",
   "execution_count": 15,
   "metadata": {
    "deletable": false,
    "editable": false,
    "nbgrader": {
     "cell_type": "code",
     "checksum": "195ade455a8ba601a49b256622d5fc6a",
     "grade": true,
     "grade_id": "cell-8e9e83895e2967dd",
     "locked": true,
     "points": 1,
     "schema_version": 3,
     "solution": false,
     "task": false
    }
   },
   "outputs": [
    {
     "name": "stdout",
     "output_type": "stream",
     "text": [
      "[1] \"Success!\"\n"
     ]
    }
   ],
   "source": [
    "test_1.5()"
   ]
  },
  {
   "cell_type": "markdown",
   "metadata": {
    "deletable": false,
    "editable": false,
    "nbgrader": {
     "cell_type": "markdown",
     "checksum": "62d216ed76517a570f69c68bf22fe7cc",
     "grade": false,
     "grade_id": "cell-5575d82939196fc9",
     "locked": true,
     "schema_version": 3,
     "solution": false,
     "task": false
    }
   },
   "source": [
    "**Question 1.6** \n",
    "<br> {points: 1}\n",
    "\n",
    "To generate a single bootstrap sample in R, we can use the `rep_sample_n` function as we did when we were creating our sampling distribution, however this time we change the argument for `replace` from its default value of `FALSE` to `TRUE`.\n",
    "\n",
    "Use `rep_sample_n` to take a single bootstrap sample from the sample you drew from the population. Name this bootstrap sample `boot1`.\n",
    "\n",
    "Use 4321 as the seed."
   ]
  },
  {
   "cell_type": "code",
   "execution_count": 16,
   "metadata": {
    "deletable": false,
    "nbgrader": {
     "cell_type": "code",
     "checksum": "10a15b773ec48a8c43ac8921c57e7c9b",
     "grade": false,
     "grade_id": "cell-239c20c4566f1f3c",
     "locked": false,
     "schema_version": 3,
     "solution": true,
     "task": false
    }
   },
   "outputs": [
    {
     "data": {
      "text/html": [
       "<table>\n",
       "<caption>A grouped_df: 6 × 2</caption>\n",
       "<thead>\n",
       "\t<tr><th scope=col>replicate</th><th scope=col>age</th></tr>\n",
       "\t<tr><th scope=col>&lt;int&gt;</th><th scope=col>&lt;dbl&gt;</th></tr>\n",
       "</thead>\n",
       "<tbody>\n",
       "\t<tr><td>1</td><td>81.12797</td></tr>\n",
       "\t<tr><td>1</td><td>94.40375</td></tr>\n",
       "\t<tr><td>1</td><td>65.43618</td></tr>\n",
       "\t<tr><td>1</td><td>71.52872</td></tr>\n",
       "\t<tr><td>1</td><td>73.58150</td></tr>\n",
       "\t<tr><td>1</td><td>70.87062</td></tr>\n",
       "</tbody>\n",
       "</table>\n"
      ],
      "text/latex": [
       "A grouped\\_df: 6 × 2\n",
       "\\begin{tabular}{ll}\n",
       " replicate & age\\\\\n",
       " <int> & <dbl>\\\\\n",
       "\\hline\n",
       "\t 1 & 81.12797\\\\\n",
       "\t 1 & 94.40375\\\\\n",
       "\t 1 & 65.43618\\\\\n",
       "\t 1 & 71.52872\\\\\n",
       "\t 1 & 73.58150\\\\\n",
       "\t 1 & 70.87062\\\\\n",
       "\\end{tabular}\n"
      ],
      "text/markdown": [
       "\n",
       "A grouped_df: 6 × 2\n",
       "\n",
       "| replicate &lt;int&gt; | age &lt;dbl&gt; |\n",
       "|---|---|\n",
       "| 1 | 81.12797 |\n",
       "| 1 | 94.40375 |\n",
       "| 1 | 65.43618 |\n",
       "| 1 | 71.52872 |\n",
       "| 1 | 73.58150 |\n",
       "| 1 | 70.87062 |\n",
       "\n"
      ],
      "text/plain": [
       "  replicate age     \n",
       "1 1         81.12797\n",
       "2 1         94.40375\n",
       "3 1         65.43618\n",
       "4 1         71.52872\n",
       "5 1         73.58150\n",
       "6 1         70.87062"
      ]
     },
     "metadata": {},
     "output_type": "display_data"
    }
   ],
   "source": [
    "set.seed(4321)  # DO NOT CHANGE!\n",
    "# boot1 <- ... %>%\n",
    "#    rep_sample_n(size = ..., replace = ..., reps = ...)\n",
    "# your code here\n",
    "\n",
    "boot1 <- one_sample %>%\n",
    "   rep_sample_n(size = 40, replace = T, reps = 1)\n",
    "\n",
    "\n",
    "head(boot1)"
   ]
  },
  {
   "cell_type": "code",
   "execution_count": 17,
   "metadata": {
    "deletable": false,
    "editable": false,
    "nbgrader": {
     "cell_type": "code",
     "checksum": "55890f2548a34f988236080df9693494",
     "grade": true,
     "grade_id": "cell-af716b8959aee1ac",
     "locked": true,
     "points": 1,
     "schema_version": 3,
     "solution": false,
     "task": false
    }
   },
   "outputs": [
    {
     "name": "stdout",
     "output_type": "stream",
     "text": [
      "[1] \"Success!\"\n"
     ]
    }
   ],
   "source": [
    "test_1.6()"
   ]
  },
  {
   "cell_type": "markdown",
   "metadata": {
    "deletable": false,
    "editable": false,
    "nbgrader": {
     "cell_type": "markdown",
     "checksum": "e6efb676e4866feef3661925f70fda4a",
     "grade": false,
     "grade_id": "cell-7760b102574e0887",
     "locked": true,
     "schema_version": 3,
     "solution": false,
     "task": false
    }
   },
   "source": [
    "**Question 1.7** Multiple choice\n",
    "<br> {points: 1}\n",
    "\n",
    "Why do we change `replace` to `TRUE`?\n",
    "\n",
    "A. Taking a bootstrap sample involves drawing observations from the original population without replacement\n",
    "\n",
    "B. Taking a bootstrap sample involves drawing observations from the original population with replacement\n",
    "\n",
    "C. Taking a bootstrap sample involves drawing observations from the original sample without replacement\n",
    "\n",
    "D. Taking a bootstrap sample involves drawing observations from the original sample with replacement\n",
    "\n",
    "*Assign your answer to an object called `answer1.7`. Your answer should be a single character surrounded by quotes.*"
   ]
  },
  {
   "cell_type": "code",
   "execution_count": 18,
   "metadata": {
    "deletable": false,
    "nbgrader": {
     "cell_type": "code",
     "checksum": "9ce28d85cc67d60e7aecb7ffddd7b3a6",
     "grade": false,
     "grade_id": "cell-ba91c2de68609fe7",
     "locked": false,
     "schema_version": 3,
     "solution": true,
     "task": false
    }
   },
   "outputs": [],
   "source": [
    "# your code here\n",
    "answer1.7 = 'D'"
   ]
  },
  {
   "cell_type": "code",
   "execution_count": 19,
   "metadata": {
    "deletable": false,
    "editable": false,
    "nbgrader": {
     "cell_type": "code",
     "checksum": "c5f3aaac6be510e847b75087dbcc7122",
     "grade": true,
     "grade_id": "cell-1b79e9b905b70215",
     "locked": true,
     "points": 1,
     "schema_version": 3,
     "solution": false,
     "task": false
    }
   },
   "outputs": [
    {
     "name": "stdout",
     "output_type": "stream",
     "text": [
      "[1] \"Success!\"\n"
     ]
    }
   ],
   "source": [
    "test_1.7()"
   ]
  },
  {
   "cell_type": "markdown",
   "metadata": {
    "deletable": false,
    "editable": false,
    "nbgrader": {
     "cell_type": "markdown",
     "checksum": "8a678069ff6554bc4732abd6790aed60",
     "grade": false,
     "grade_id": "cell-93ea2b7d26e0e137",
     "locked": true,
     "schema_version": 3,
     "solution": false,
     "task": false
    }
   },
   "source": [
    "**Question 1.8** \n",
    "<br> {points: 1}\n",
    "\n",
    "Visualize the distribution of the bootstrap sample you just took (`boot1`) that was just created by plotting a histogram using `binwidth = 1` in the `geom_histogram` argument. Name the plot `boot1_dist` and give the plot (using `ggtitle`) and the x axis a descriptive label."
   ]
  },
  {
   "cell_type": "code",
   "execution_count": 31,
   "metadata": {
    "deletable": false,
    "nbgrader": {
     "cell_type": "code",
     "checksum": "c65a4fa8267cf10d08a5777c1ecf6905",
     "grade": false,
     "grade_id": "cell-389271affd1fc5af",
     "locked": false,
     "schema_version": 3,
     "solution": true,
     "task": false
    }
   },
   "outputs": [
    {
     "name": "stderr",
     "output_type": "stream",
     "text": [
      "`stat_bin()` using `bins = 30`. Pick better value with `binwidth`.\n",
      "\n"
     ]
    },
    {
     "data": {
      "image/png": "[encoded data removed]",
      "text/plain": [
       "plot without title"
      ]
     },
     "metadata": {
      "image/png": {
       "height": 180,
       "width": 360
      },
      "text/plain": {
       "height": 180,
       "width": 360
      }
     },
     "output_type": "display_data"
    }
   ],
   "source": [
    "# your code here\n",
    "boot1_dist = boot1 %>%\n",
    "    ggplot(aes(age)) +\n",
    "        geom_histogram() +\n",
    "        labs(x = \"Age\", y = \"Count\", title = \"Bootstrapped Sample\")\n",
    "boot1_dist"
   ]
  },
  {
   "cell_type": "code",
   "execution_count": 32,
   "metadata": {
    "deletable": false,
    "editable": false,
    "nbgrader": {
     "cell_type": "code",
     "checksum": "f1b03417aaa0fae40d39644333323390",
     "grade": true,
     "grade_id": "cell-3b7b4b4c4cc4971e",
     "locked": true,
     "points": 1,
     "schema_version": 3,
     "solution": false,
     "task": false
    }
   },
   "outputs": [
    {
     "name": "stdout",
     "output_type": "stream",
     "text": [
      "[1] \"Success!\"\n"
     ]
    }
   ],
   "source": [
    "test_1.8()"
   ]
  },
  {
   "cell_type": "markdown",
   "metadata": {
    "deletable": false,
    "editable": false,
    "nbgrader": {
     "cell_type": "markdown",
     "checksum": "c691f81e9028349e41fe15d875710e53",
     "grade": false,
     "grade_id": "cell-84ed6755705e4eee",
     "locked": true,
     "schema_version": 3,
     "solution": false,
     "task": false
    }
   },
   "source": [
    "Let's now compare our bootstrap sample to the original random sample that we drew from the population:"
   ]
  },
  {
   "cell_type": "code",
   "execution_count": 29,
   "metadata": {
    "deletable": false,
    "editable": false,
    "nbgrader": {
     "cell_type": "code",
     "checksum": "bc6cc041516a423cbc7b53e0947eefe1",
     "grade": false,
     "grade_id": "cell-afd154dc6f0c3e39",
     "locked": true,
     "schema_version": 3,
     "solution": false,
     "task": false
    }
   },
   "outputs": [
    {
     "name": "stderr",
     "output_type": "stream",
     "text": [
      "`stat_bin()` using `bins = 30`. Pick better value with `binwidth`.\n",
      "\n"
     ]
    },
    {
     "data": {
      "image/png": "[encoded data removed]",
      "text/plain": [
       "plot without title"
      ]
     },
     "metadata": {
      "image/png": {
       "height": 180,
       "width": 360
      },
      "text/plain": {
       "height": 180,
       "width": 360
      }
     },
     "output_type": "display_data"
    }
   ],
   "source": [
    "# run this code cell\n",
    "options(repr.plot.width = 6)\n",
    "grid.arrange(one_sample_dist, boot1_dist, ncol = 2)"
   ]
  },
  {
   "cell_type": "markdown",
   "metadata": {
    "deletable": false,
    "editable": false,
    "nbgrader": {
     "cell_type": "markdown",
     "checksum": "47f3c85bb420a44735999d664286e765",
     "grade": false,
     "grade_id": "cell-fa64eb1f98987c99",
     "locked": true,
     "schema_version": 3,
     "solution": false,
     "task": false
    }
   },
   "source": [
    "Earlier we calculate the mean of our original sample to be about 79.6 years. What is the mean of our bootstrap sample?"
   ]
  },
  {
   "cell_type": "code",
   "execution_count": 33,
   "metadata": {
    "deletable": false,
    "editable": false,
    "nbgrader": {
     "cell_type": "code",
     "checksum": "9b55a1651a73cff78b17061aff744377",
     "grade": false,
     "grade_id": "cell-77b326e307cf1cf6",
     "locked": true,
     "schema_version": 3,
     "solution": false,
     "task": false
    }
   },
   "outputs": [
    {
     "data": {
      "text/html": [
       "<table>\n",
       "<caption>A tibble: 1 × 2</caption>\n",
       "<thead>\n",
       "\t<tr><th scope=col>replicate</th><th scope=col>mean</th></tr>\n",
       "\t<tr><th scope=col>&lt;int&gt;</th><th scope=col>&lt;dbl&gt;</th></tr>\n",
       "</thead>\n",
       "<tbody>\n",
       "\t<tr><td>1</td><td>78.60784</td></tr>\n",
       "</tbody>\n",
       "</table>\n"
      ],
      "text/latex": [
       "A tibble: 1 × 2\n",
       "\\begin{tabular}{ll}\n",
       " replicate & mean\\\\\n",
       " <int> & <dbl>\\\\\n",
       "\\hline\n",
       "\t 1 & 78.60784\\\\\n",
       "\\end{tabular}\n"
      ],
      "text/markdown": [
       "\n",
       "A tibble: 1 × 2\n",
       "\n",
       "| replicate &lt;int&gt; | mean &lt;dbl&gt; |\n",
       "|---|---|\n",
       "| 1 | 78.60784 |\n",
       "\n"
      ],
      "text/plain": [
       "  replicate mean    \n",
       "1 1         78.60784"
      ]
     },
     "metadata": {},
     "output_type": "display_data"
    }
   ],
   "source": [
    "# run this cell\n",
    "summarise(boot1, mean = mean(age))"
   ]
  },
  {
   "cell_type": "markdown",
   "metadata": {
    "deletable": false,
    "editable": false,
    "nbgrader": {
     "cell_type": "markdown",
     "checksum": "ae0fb015f384d08323bba451d8d65c74",
     "grade": false,
     "grade_id": "cell-c33dd58cb3c572af",
     "locked": true,
     "schema_version": 3,
     "solution": false,
     "task": false
    }
   },
   "source": [
    "We see that original sample distrbution and the bootstrap sample distribution are of similar shape, but not identical. They also have different means. The difference of the frequency of the values in the bootstrap sample (and the difference of the value of the mean) comes from sampling from the original sample with replacement. Why sample with replacement? If we didn't we would end up with the original sample again. What we are trying to do with bootstrapping is to mimic drawing another sample from the population, without actually doing that. \n",
    "\n",
    "Why are we doing this? As mentioned earlier, in real life we typically only have one sample and thus we cannot create a sampling distribution that we can use to tell us about how we might expected our point estimate to behave if we took another sample. So what we can do, is use our sample as an estimate of our population, and sample from that with replacement (i.e., bootstrapping) many times to create many bootstrap samples. We can then calculate point estimates for each bootstrap sample and create a bootstrap distribution of our point estimates and use this as a proxy for a sampling distribution. We can finally use this bootstrap distribution of our point estimates to suggest how we might expected our point estimate to behave if we took another sample."
   ]
  },
  {
   "cell_type": "markdown",
   "metadata": {
    "deletable": false,
    "editable": false,
    "nbgrader": {
     "cell_type": "markdown",
     "checksum": "c23f1c79b46e36375d78fb9fc42e5c7d",
     "grade": false,
     "grade_id": "cell-f5b5d685693ffe7f",
     "locked": true,
     "schema_version": 3,
     "solution": false,
     "task": false
    }
   },
   "source": [
    "**Question 1.9** \n",
    "<br> {points: 1}\n",
    "\n",
    "What do 6 different bootstrap samples look like? Use `rep_sample_n` to create a single data frame with 6 bootstrap samples drawn from the original sample we drew from the population, `one_sample`. Name the data frame `boot6`.\n",
    "\n",
    "Set the seed as 1234."
   ]
  },
  {
   "cell_type": "code",
   "execution_count": 34,
   "metadata": {
    "deletable": false,
    "nbgrader": {
     "cell_type": "code",
     "checksum": "b4a19d22d00ea9316b9fd2a1c8447b5c",
     "grade": false,
     "grade_id": "cell-6607b2dec92a2913",
     "locked": false,
     "schema_version": 3,
     "solution": true,
     "task": false
    }
   },
   "outputs": [
    {
     "data": {
      "text/html": [
       "<table>\n",
       "<caption>A grouped_df: 6 × 2</caption>\n",
       "<thead>\n",
       "\t<tr><th scope=col>replicate</th><th scope=col>age</th></tr>\n",
       "\t<tr><th scope=col>&lt;int&gt;</th><th scope=col>&lt;dbl&gt;</th></tr>\n",
       "</thead>\n",
       "<tbody>\n",
       "\t<tr><td>1</td><td> 87.60507</td></tr>\n",
       "\t<tr><td>1</td><td> 75.37056</td></tr>\n",
       "\t<tr><td>1</td><td>109.00773</td></tr>\n",
       "\t<tr><td>1</td><td> 65.11363</td></tr>\n",
       "\t<tr><td>1</td><td> 85.30635</td></tr>\n",
       "\t<tr><td>1</td><td> 65.00235</td></tr>\n",
       "</tbody>\n",
       "</table>\n"
      ],
      "text/latex": [
       "A grouped\\_df: 6 × 2\n",
       "\\begin{tabular}{ll}\n",
       " replicate & age\\\\\n",
       " <int> & <dbl>\\\\\n",
       "\\hline\n",
       "\t 1 &  87.60507\\\\\n",
       "\t 1 &  75.37056\\\\\n",
       "\t 1 & 109.00773\\\\\n",
       "\t 1 &  65.11363\\\\\n",
       "\t 1 &  85.30635\\\\\n",
       "\t 1 &  65.00235\\\\\n",
       "\\end{tabular}\n"
      ],
      "text/markdown": [
       "\n",
       "A grouped_df: 6 × 2\n",
       "\n",
       "| replicate &lt;int&gt; | age &lt;dbl&gt; |\n",
       "|---|---|\n",
       "| 1 |  87.60507 |\n",
       "| 1 |  75.37056 |\n",
       "| 1 | 109.00773 |\n",
       "| 1 |  65.11363 |\n",
       "| 1 |  85.30635 |\n",
       "| 1 |  65.00235 |\n",
       "\n"
      ],
      "text/plain": [
       "  replicate age      \n",
       "1 1          87.60507\n",
       "2 1          75.37056\n",
       "3 1         109.00773\n",
       "4 1          65.11363\n",
       "5 1          85.30635\n",
       "6 1          65.00235"
      ]
     },
     "metadata": {},
     "output_type": "display_data"
    },
    {
     "data": {
      "text/html": [
       "<table>\n",
       "<caption>A grouped_df: 6 × 2</caption>\n",
       "<thead>\n",
       "\t<tr><th scope=col>replicate</th><th scope=col>age</th></tr>\n",
       "\t<tr><th scope=col>&lt;int&gt;</th><th scope=col>&lt;dbl&gt;</th></tr>\n",
       "</thead>\n",
       "<tbody>\n",
       "\t<tr><td>6</td><td> 81.12797</td></tr>\n",
       "\t<tr><td>6</td><td> 67.13013</td></tr>\n",
       "\t<tr><td>6</td><td> 71.52872</td></tr>\n",
       "\t<tr><td>6</td><td>109.00773</td></tr>\n",
       "\t<tr><td>6</td><td> 65.42416</td></tr>\n",
       "\t<tr><td>6</td><td>108.65109</td></tr>\n",
       "</tbody>\n",
       "</table>\n"
      ],
      "text/latex": [
       "A grouped\\_df: 6 × 2\n",
       "\\begin{tabular}{ll}\n",
       " replicate & age\\\\\n",
       " <int> & <dbl>\\\\\n",
       "\\hline\n",
       "\t 6 &  81.12797\\\\\n",
       "\t 6 &  67.13013\\\\\n",
       "\t 6 &  71.52872\\\\\n",
       "\t 6 & 109.00773\\\\\n",
       "\t 6 &  65.42416\\\\\n",
       "\t 6 & 108.65109\\\\\n",
       "\\end{tabular}\n"
      ],
      "text/markdown": [
       "\n",
       "A grouped_df: 6 × 2\n",
       "\n",
       "| replicate &lt;int&gt; | age &lt;dbl&gt; |\n",
       "|---|---|\n",
       "| 6 |  81.12797 |\n",
       "| 6 |  67.13013 |\n",
       "| 6 |  71.52872 |\n",
       "| 6 | 109.00773 |\n",
       "| 6 |  65.42416 |\n",
       "| 6 | 108.65109 |\n",
       "\n"
      ],
      "text/plain": [
       "  replicate age      \n",
       "1 6          81.12797\n",
       "2 6          67.13013\n",
       "3 6          71.52872\n",
       "4 6         109.00773\n",
       "5 6          65.42416\n",
       "6 6         108.65109"
      ]
     },
     "metadata": {},
     "output_type": "display_data"
    }
   ],
   "source": [
    "set.seed(1234)\n",
    "# your code here\n",
    "boot6 = one_sample %>%\n",
    "    rep_sample_n(size=40, replace=T, reps=6)\n",
    "head(boot6)\n",
    "tail(boot6)"
   ]
  },
  {
   "cell_type": "code",
   "execution_count": 35,
   "metadata": {
    "deletable": false,
    "editable": false,
    "nbgrader": {
     "cell_type": "code",
     "checksum": "c9f31d5e5bff9a93f70ed96a169c3dde",
     "grade": true,
     "grade_id": "cell-e57717e45df34f9a",
     "locked": true,
     "points": 1,
     "schema_version": 3,
     "solution": false,
     "task": false
    }
   },
   "outputs": [
    {
     "name": "stdout",
     "output_type": "stream",
     "text": [
      "[1] \"Success!\"\n"
     ]
    }
   ],
   "source": [
    "test_1.9()"
   ]
  },
  {
   "cell_type": "markdown",
   "metadata": {
    "deletable": false,
    "editable": false,
    "nbgrader": {
     "cell_type": "markdown",
     "checksum": "2929a587fb1007150568f0188c8b85a6",
     "grade": false,
     "grade_id": "cell-558b102565ddf4ae",
     "locked": true,
     "schema_version": 3,
     "solution": false,
     "task": false
    }
   },
   "source": [
    "**Question 2.0** \n",
    "<br> {points: 1}\n",
    "\n",
    "Now visualize the six bootstrap sample distributions from `boot6` by faceting the `replicate` column. Name the plot object `boot6_dist` and give the plot (using `ggtitle`) and the x axis a descriptive label."
   ]
  },
  {
   "cell_type": "code",
   "execution_count": 38,
   "metadata": {
    "deletable": false,
    "nbgrader": {
     "cell_type": "code",
     "checksum": "acdd59a8e2411366a4a78729ed8a2186",
     "grade": false,
     "grade_id": "cell-d1d36a4806776c6c",
     "locked": false,
     "schema_version": 3,
     "solution": true,
     "task": false
    }
   },
   "outputs": [
    {
     "data": {
      "image/png": "[encoded data removed]",
      "text/plain": [
       "plot without title"
      ]
     },
     "metadata": {
      "image/png": {
       "height": 180,
       "width": 360
      },
      "text/plain": {
       "height": 180,
       "width": 360
      }
     },
     "output_type": "display_data"
    }
   ],
   "source": [
    "# boot6_dist <- ggplot(...) +\n",
    "#   ...(binwidth = 1) +\n",
    "#  facet_wrap(~ ...)\n",
    "# your code here\n",
    "boot6_dist <- ggplot(boot6, aes(age)) +\n",
    "  geom_histogram(binwidth = 1) +\n",
    " facet_wrap(~ replicate) +\n",
    " labs(x=\"Age\", y=\"Count\", title=\"Bootstrap Samples x6\")\n",
    "boot6_dist"
   ]
  },
  {
   "cell_type": "code",
   "execution_count": 39,
   "metadata": {
    "deletable": false,
    "editable": false,
    "nbgrader": {
     "cell_type": "code",
     "checksum": "bff296c3af5da0c5cc92d1387d033852",
     "grade": true,
     "grade_id": "cell-38e6f9e544c5ce17",
     "locked": true,
     "points": 1,
     "schema_version": 3,
     "solution": false,
     "task": false
    }
   },
   "outputs": [
    {
     "name": "stdout",
     "output_type": "stream",
     "text": [
      "[1] \"Success!\"\n"
     ]
    }
   ],
   "source": [
    "test_2.0()"
   ]
  },
  {
   "cell_type": "markdown",
   "metadata": {
    "deletable": false,
    "editable": false,
    "nbgrader": {
     "cell_type": "markdown",
     "checksum": "24a13024936ec9062e57d8c4006d2505",
     "grade": false,
     "grade_id": "cell-8c48012a69725219",
     "locked": true,
     "schema_version": 3,
     "solution": false,
     "task": false
    }
   },
   "source": [
    "**Question 2.1** \n",
    "<br> {points: 1}\n",
    "\n",
    "Calculate the mean of these 6 bootstrap samples using `group_by` and `summarize`. Name the data frame `boot6_means`."
   ]
  },
  {
   "cell_type": "code",
   "execution_count": 40,
   "metadata": {
    "deletable": false,
    "nbgrader": {
     "cell_type": "code",
     "checksum": "a4598b10d8ff39dbe4e0107dbabdb338",
     "grade": false,
     "grade_id": "cell-b9692d80805c724a",
     "locked": false,
     "schema_version": 3,
     "solution": true,
     "task": false
    }
   },
   "outputs": [
    {
     "data": {
      "text/html": [
       "<table>\n",
       "<caption>A tibble: 6 × 2</caption>\n",
       "<thead>\n",
       "\t<tr><th scope=col>replicate</th><th scope=col>mean</th></tr>\n",
       "\t<tr><th scope=col>&lt;int&gt;</th><th scope=col>&lt;dbl&gt;</th></tr>\n",
       "</thead>\n",
       "<tbody>\n",
       "\t<tr><td>1</td><td>78.14533</td></tr>\n",
       "\t<tr><td>2</td><td>79.82831</td></tr>\n",
       "\t<tr><td>3</td><td>76.74020</td></tr>\n",
       "\t<tr><td>4</td><td>79.93621</td></tr>\n",
       "\t<tr><td>5</td><td>78.30400</td></tr>\n",
       "\t<tr><td>6</td><td>76.17892</td></tr>\n",
       "</tbody>\n",
       "</table>\n"
      ],
      "text/latex": [
       "A tibble: 6 × 2\n",
       "\\begin{tabular}{ll}\n",
       " replicate & mean\\\\\n",
       " <int> & <dbl>\\\\\n",
       "\\hline\n",
       "\t 1 & 78.14533\\\\\n",
       "\t 2 & 79.82831\\\\\n",
       "\t 3 & 76.74020\\\\\n",
       "\t 4 & 79.93621\\\\\n",
       "\t 5 & 78.30400\\\\\n",
       "\t 6 & 76.17892\\\\\n",
       "\\end{tabular}\n"
      ],
      "text/markdown": [
       "\n",
       "A tibble: 6 × 2\n",
       "\n",
       "| replicate &lt;int&gt; | mean &lt;dbl&gt; |\n",
       "|---|---|\n",
       "| 1 | 78.14533 |\n",
       "| 2 | 79.82831 |\n",
       "| 3 | 76.74020 |\n",
       "| 4 | 79.93621 |\n",
       "| 5 | 78.30400 |\n",
       "| 6 | 76.17892 |\n",
       "\n"
      ],
      "text/plain": [
       "  replicate mean    \n",
       "1 1         78.14533\n",
       "2 2         79.82831\n",
       "3 3         76.74020\n",
       "4 4         79.93621\n",
       "5 5         78.30400\n",
       "6 6         76.17892"
      ]
     },
     "metadata": {},
     "output_type": "display_data"
    }
   ],
   "source": [
    "# your code here\n",
    "boot6_means = boot6 %>%\n",
    "    group_by(replicate) %>%\n",
    "    summarize(mean = mean(age))\n",
    "boot6_means"
   ]
  },
  {
   "cell_type": "code",
   "execution_count": 41,
   "metadata": {
    "deletable": false,
    "editable": false,
    "nbgrader": {
     "cell_type": "code",
     "checksum": "4db30bd8c604c043807577d2d4792ca7",
     "grade": true,
     "grade_id": "cell-f2cfe994fece602d",
     "locked": true,
     "points": 1,
     "schema_version": 3,
     "solution": false,
     "task": false
    }
   },
   "outputs": [
    {
     "name": "stdout",
     "output_type": "stream",
     "text": [
      "[1] \"Success!\"\n"
     ]
    }
   ],
   "source": [
    "test_2.1()"
   ]
  },
  {
   "cell_type": "markdown",
   "metadata": {},
   "source": [
    "**Question 2.2** \n",
    "<br> {points: 1}\n",
    "\n",
    "Let's now take 1000 bootstrap samples from the original sample we drew from the population (`one_sample`) using `rep_sample_n`. Name the data frame `boot1000`.\n",
    "\n",
    "Set the seed as 1234."
   ]
  },
  {
   "cell_type": "code",
   "execution_count": 42,
   "metadata": {
    "deletable": false,
    "nbgrader": {
     "cell_type": "code",
     "checksum": "17ebd4223e1d427eb54c73441c18161a",
     "grade": false,
     "grade_id": "cell-cd89ca0c9e456e1b",
     "locked": false,
     "schema_version": 3,
     "solution": true,
     "task": false
    }
   },
   "outputs": [
    {
     "data": {
      "text/html": [
       "<table>\n",
       "<caption>A grouped_df: 6 × 2</caption>\n",
       "<thead>\n",
       "\t<tr><th scope=col>replicate</th><th scope=col>age</th></tr>\n",
       "\t<tr><th scope=col>&lt;int&gt;</th><th scope=col>&lt;dbl&gt;</th></tr>\n",
       "</thead>\n",
       "<tbody>\n",
       "\t<tr><td>1</td><td> 87.60507</td></tr>\n",
       "\t<tr><td>1</td><td> 75.37056</td></tr>\n",
       "\t<tr><td>1</td><td>109.00773</td></tr>\n",
       "\t<tr><td>1</td><td> 65.11363</td></tr>\n",
       "\t<tr><td>1</td><td> 85.30635</td></tr>\n",
       "\t<tr><td>1</td><td> 65.00235</td></tr>\n",
       "</tbody>\n",
       "</table>\n"
      ],
      "text/latex": [
       "A grouped\\_df: 6 × 2\n",
       "\\begin{tabular}{ll}\n",
       " replicate & age\\\\\n",
       " <int> & <dbl>\\\\\n",
       "\\hline\n",
       "\t 1 &  87.60507\\\\\n",
       "\t 1 &  75.37056\\\\\n",
       "\t 1 & 109.00773\\\\\n",
       "\t 1 &  65.11363\\\\\n",
       "\t 1 &  85.30635\\\\\n",
       "\t 1 &  65.00235\\\\\n",
       "\\end{tabular}\n"
      ],
      "text/markdown": [
       "\n",
       "A grouped_df: 6 × 2\n",
       "\n",
       "| replicate &lt;int&gt; | age &lt;dbl&gt; |\n",
       "|---|---|\n",
       "| 1 |  87.60507 |\n",
       "| 1 |  75.37056 |\n",
       "| 1 | 109.00773 |\n",
       "| 1 |  65.11363 |\n",
       "| 1 |  85.30635 |\n",
       "| 1 |  65.00235 |\n",
       "\n"
      ],
      "text/plain": [
       "  replicate age      \n",
       "1 1          87.60507\n",
       "2 1          75.37056\n",
       "3 1         109.00773\n",
       "4 1          65.11363\n",
       "5 1          85.30635\n",
       "6 1          65.00235"
      ]
     },
     "metadata": {},
     "output_type": "display_data"
    },
    {
     "data": {
      "text/html": [
       "<table>\n",
       "<caption>A grouped_df: 6 × 2</caption>\n",
       "<thead>\n",
       "\t<tr><th scope=col>replicate</th><th scope=col>age</th></tr>\n",
       "\t<tr><th scope=col>&lt;int&gt;</th><th scope=col>&lt;dbl&gt;</th></tr>\n",
       "</thead>\n",
       "<tbody>\n",
       "\t<tr><td>1000</td><td> 65.03099</td></tr>\n",
       "\t<tr><td>1000</td><td> 65.42416</td></tr>\n",
       "\t<tr><td>1000</td><td>108.65109</td></tr>\n",
       "\t<tr><td>1000</td><td> 67.32232</td></tr>\n",
       "\t<tr><td>1000</td><td>106.10351</td></tr>\n",
       "\t<tr><td>1000</td><td> 84.94389</td></tr>\n",
       "</tbody>\n",
       "</table>\n"
      ],
      "text/latex": [
       "A grouped\\_df: 6 × 2\n",
       "\\begin{tabular}{ll}\n",
       " replicate & age\\\\\n",
       " <int> & <dbl>\\\\\n",
       "\\hline\n",
       "\t 1000 &  65.03099\\\\\n",
       "\t 1000 &  65.42416\\\\\n",
       "\t 1000 & 108.65109\\\\\n",
       "\t 1000 &  67.32232\\\\\n",
       "\t 1000 & 106.10351\\\\\n",
       "\t 1000 &  84.94389\\\\\n",
       "\\end{tabular}\n"
      ],
      "text/markdown": [
       "\n",
       "A grouped_df: 6 × 2\n",
       "\n",
       "| replicate &lt;int&gt; | age &lt;dbl&gt; |\n",
       "|---|---|\n",
       "| 1000 |  65.03099 |\n",
       "| 1000 |  65.42416 |\n",
       "| 1000 | 108.65109 |\n",
       "| 1000 |  67.32232 |\n",
       "| 1000 | 106.10351 |\n",
       "| 1000 |  84.94389 |\n",
       "\n"
      ],
      "text/plain": [
       "  replicate age      \n",
       "1 1000       65.03099\n",
       "2 1000       65.42416\n",
       "3 1000      108.65109\n",
       "4 1000       67.32232\n",
       "5 1000      106.10351\n",
       "6 1000       84.94389"
      ]
     },
     "metadata": {},
     "output_type": "display_data"
    }
   ],
   "source": [
    "set.seed(1234)\n",
    "# your code here\n",
    "boot1000 = one_sample %>%\n",
    "    rep_sample_n(size = 40, replace = T, reps = 1000)\n",
    "head(boot1000)\n",
    "tail(boot1000)"
   ]
  },
  {
   "cell_type": "code",
   "execution_count": 43,
   "metadata": {
    "deletable": false,
    "editable": false,
    "nbgrader": {
     "cell_type": "code",
     "checksum": "6796142cbc5097af6e106f9d120ae52b",
     "grade": true,
     "grade_id": "cell-343d880b6f801822",
     "locked": true,
     "points": 1,
     "schema_version": 3,
     "solution": false,
     "task": false
    }
   },
   "outputs": [
    {
     "name": "stdout",
     "output_type": "stream",
     "text": [
      "[1] \"Success!\"\n"
     ]
    }
   ],
   "source": [
    "test_2.2()"
   ]
  },
  {
   "cell_type": "markdown",
   "metadata": {
    "deletable": false,
    "editable": false,
    "nbgrader": {
     "cell_type": "markdown",
     "checksum": "99f7285699899345ae6678428a43ce31",
     "grade": false,
     "grade_id": "cell-85473b296ef14d1c",
     "locked": true,
     "schema_version": 3,
     "solution": false,
     "task": false
    }
   },
   "source": [
    "**Question 2.3** \n",
    "<br> {points: 1}\n",
    "\n",
    "Calculate the mean of these 1000 bootstrap samples using `group_by` and `summarize`. Name the data frame `boot1000_means`."
   ]
  },
  {
   "cell_type": "code",
   "execution_count": 44,
   "metadata": {
    "deletable": false,
    "nbgrader": {
     "cell_type": "code",
     "checksum": "e9a6104422fdd4f0909795213eacba41",
     "grade": false,
     "grade_id": "cell-51d5f2afbb677369",
     "locked": false,
     "schema_version": 3,
     "solution": true,
     "task": false
    }
   },
   "outputs": [
    {
     "data": {
      "text/html": [
       "<table>\n",
       "<caption>A tibble: 6 × 2</caption>\n",
       "<thead>\n",
       "\t<tr><th scope=col>replicate</th><th scope=col>mean</th></tr>\n",
       "\t<tr><th scope=col>&lt;int&gt;</th><th scope=col>&lt;dbl&gt;</th></tr>\n",
       "</thead>\n",
       "<tbody>\n",
       "\t<tr><td>1</td><td>78.14533</td></tr>\n",
       "\t<tr><td>2</td><td>79.82831</td></tr>\n",
       "\t<tr><td>3</td><td>76.74020</td></tr>\n",
       "\t<tr><td>4</td><td>79.93621</td></tr>\n",
       "\t<tr><td>5</td><td>78.30400</td></tr>\n",
       "\t<tr><td>6</td><td>76.17892</td></tr>\n",
       "</tbody>\n",
       "</table>\n"
      ],
      "text/latex": [
       "A tibble: 6 × 2\n",
       "\\begin{tabular}{ll}\n",
       " replicate & mean\\\\\n",
       " <int> & <dbl>\\\\\n",
       "\\hline\n",
       "\t 1 & 78.14533\\\\\n",
       "\t 2 & 79.82831\\\\\n",
       "\t 3 & 76.74020\\\\\n",
       "\t 4 & 79.93621\\\\\n",
       "\t 5 & 78.30400\\\\\n",
       "\t 6 & 76.17892\\\\\n",
       "\\end{tabular}\n"
      ],
      "text/markdown": [
       "\n",
       "A tibble: 6 × 2\n",
       "\n",
       "| replicate &lt;int&gt; | mean &lt;dbl&gt; |\n",
       "|---|---|\n",
       "| 1 | 78.14533 |\n",
       "| 2 | 79.82831 |\n",
       "| 3 | 76.74020 |\n",
       "| 4 | 79.93621 |\n",
       "| 5 | 78.30400 |\n",
       "| 6 | 76.17892 |\n",
       "\n"
      ],
      "text/plain": [
       "  replicate mean    \n",
       "1 1         78.14533\n",
       "2 2         79.82831\n",
       "3 3         76.74020\n",
       "4 4         79.93621\n",
       "5 5         78.30400\n",
       "6 6         76.17892"
      ]
     },
     "metadata": {},
     "output_type": "display_data"
    },
    {
     "data": {
      "text/html": [
       "<table>\n",
       "<caption>A tibble: 6 × 2</caption>\n",
       "<thead>\n",
       "\t<tr><th scope=col>replicate</th><th scope=col>mean</th></tr>\n",
       "\t<tr><th scope=col>&lt;int&gt;</th><th scope=col>&lt;dbl&gt;</th></tr>\n",
       "</thead>\n",
       "<tbody>\n",
       "\t<tr><td> 995</td><td>76.76930</td></tr>\n",
       "\t<tr><td> 996</td><td>78.14654</td></tr>\n",
       "\t<tr><td> 997</td><td>77.59243</td></tr>\n",
       "\t<tr><td> 998</td><td>79.97578</td></tr>\n",
       "\t<tr><td> 999</td><td>76.65296</td></tr>\n",
       "\t<tr><td>1000</td><td>77.10738</td></tr>\n",
       "</tbody>\n",
       "</table>\n"
      ],
      "text/latex": [
       "A tibble: 6 × 2\n",
       "\\begin{tabular}{ll}\n",
       " replicate & mean\\\\\n",
       " <int> & <dbl>\\\\\n",
       "\\hline\n",
       "\t  995 & 76.76930\\\\\n",
       "\t  996 & 78.14654\\\\\n",
       "\t  997 & 77.59243\\\\\n",
       "\t  998 & 79.97578\\\\\n",
       "\t  999 & 76.65296\\\\\n",
       "\t 1000 & 77.10738\\\\\n",
       "\\end{tabular}\n"
      ],
      "text/markdown": [
       "\n",
       "A tibble: 6 × 2\n",
       "\n",
       "| replicate &lt;int&gt; | mean &lt;dbl&gt; |\n",
       "|---|---|\n",
       "|  995 | 76.76930 |\n",
       "|  996 | 78.14654 |\n",
       "|  997 | 77.59243 |\n",
       "|  998 | 79.97578 |\n",
       "|  999 | 76.65296 |\n",
       "| 1000 | 77.10738 |\n",
       "\n"
      ],
      "text/plain": [
       "  replicate mean    \n",
       "1  995      76.76930\n",
       "2  996      78.14654\n",
       "3  997      77.59243\n",
       "4  998      79.97578\n",
       "5  999      76.65296\n",
       "6 1000      77.10738"
      ]
     },
     "metadata": {},
     "output_type": "display_data"
    }
   ],
   "source": [
    "# your code here\n",
    "boot1000_means = boot1000 %>%\n",
    "    group_by(replicate) %>%\n",
    "    summarize(mean = mean(age))\n",
    "head(boot1000_means)\n",
    "tail(boot1000_means)"
   ]
  },
  {
   "cell_type": "code",
   "execution_count": 45,
   "metadata": {
    "deletable": false,
    "editable": false,
    "nbgrader": {
     "cell_type": "code",
     "checksum": "abcd2d6ef3d011a47e87b71a5367e5b2",
     "grade": true,
     "grade_id": "cell-bcf16788d57cef52",
     "locked": true,
     "points": 1,
     "schema_version": 3,
     "solution": false,
     "task": false
    }
   },
   "outputs": [
    {
     "name": "stdout",
     "output_type": "stream",
     "text": [
      "[1] \"Success!\"\n"
     ]
    }
   ],
   "source": [
    "test_2.3()"
   ]
  },
  {
   "cell_type": "markdown",
   "metadata": {
    "deletable": false,
    "editable": false,
    "nbgrader": {
     "cell_type": "markdown",
     "checksum": "9460d1c7b4a74d2944c5bf3a197201c8",
     "grade": false,
     "grade_id": "cell-75683253957d46bd",
     "locked": true,
     "schema_version": 3,
     "solution": false,
     "task": false
    }
   },
   "source": [
    "**Question 2.4** \n",
    "<br> {points: 1}\n",
    "\n",
    "Visualize the distribution of the bootstrap sample point estimates (`boot1000_means`) you just calculated by plotting a histogram using `binwidth = 1` in the `geom_histogram` argument. Name the plot `boot_est_dist` and give the plot (using `ggtitle`) and the x axis a descriptive label."
   ]
  },
  {
   "cell_type": "code",
   "execution_count": 47,
   "metadata": {
    "deletable": false,
    "nbgrader": {
     "cell_type": "code",
     "checksum": "d697249e37598ba8a30cabea89a4bfa4",
     "grade": false,
     "grade_id": "cell-21f093a752cc5d8c",
     "locked": false,
     "schema_version": 3,
     "solution": true,
     "task": false
    }
   },
   "outputs": [
    {
     "data": {
      "image/png": "[encoded data removed]",
      "text/plain": [
       "plot without title"
      ]
     },
     "metadata": {
      "image/png": {
       "height": 180,
       "width": 240
      },
      "text/plain": {
       "height": 180,
       "width": 240
      }
     },
     "output_type": "display_data"
    }
   ],
   "source": [
    "options(repr.plot.width = 4, repr.plot.height = 3)\n",
    "# your code here\n",
    "boot_est_dist = boot1000_means %>%\n",
    "    ggplot(aes(mean)) +\n",
    "    geom_histogram(binwidth = 1) +\n",
    "    ggtitle(\"Histogram of Means of 1000 Bootstrapped Samples\")\n",
    "boot_est_dist"
   ]
  },
  {
   "cell_type": "code",
   "execution_count": 48,
   "metadata": {
    "deletable": false,
    "editable": false,
    "nbgrader": {
     "cell_type": "code",
     "checksum": "c6e6d9081b7bfc146d2439b62ecf574c",
     "grade": true,
     "grade_id": "cell-13a4f6d6fbcd8cbb",
     "locked": true,
     "points": 1,
     "schema_version": 3,
     "solution": false,
     "task": false
    }
   },
   "outputs": [
    {
     "name": "stdout",
     "output_type": "stream",
     "text": [
      "[1] \"Success!\"\n"
     ]
    }
   ],
   "source": [
    "test_2.4()"
   ]
  },
  {
   "cell_type": "markdown",
   "metadata": {
    "deletable": false,
    "editable": false,
    "nbgrader": {
     "cell_type": "markdown",
     "checksum": "ab6b0dcf3ba1c60460060f2f68a0dc2e",
     "grade": false,
     "grade_id": "cell-16863c73a0e61db1",
     "locked": true,
     "schema_version": 3,
     "solution": false,
     "task": false
    }
   },
   "source": [
    "How does the bootstrap distribution above compare to the sampling distribution? Let's visualize them side by side:"
   ]
  },
  {
   "cell_type": "code",
   "execution_count": 49,
   "metadata": {
    "deletable": false,
    "editable": false,
    "nbgrader": {
     "cell_type": "code",
     "checksum": "0177a2129218d9d9207baff85331c9a8",
     "grade": false,
     "grade_id": "cell-a86b551fb1260606",
     "locked": true,
     "schema_version": 3,
     "solution": false,
     "task": false
    }
   },
   "outputs": [
    {
     "data": {
      "image/png": "[encoded data removed]",
      "text/plain": [
       "plot without title"
      ]
     },
     "metadata": {
      "image/png": {
       "height": 180,
       "width": 480
      },
      "text/plain": {
       "height": 180,
       "width": 480
      }
     },
     "output_type": "display_data"
    }
   ],
   "source": [
    "# run this cell\n",
    "\n",
    "# create sampling distribution histogram\n",
    "set.seed(4321)\n",
    "samples <- rep_sample_n(can_seniors, size = 40, reps = 1500)\n",
    "sample_estimates <- samples %>% \n",
    "    group_by(replicate) %>% \n",
    "    summarise(mean = mean(age))\n",
    "sampling_dist <-  ggplot(sample_estimates, aes(x = mean)) +\n",
    "    geom_histogram(binwidth = 1) +\n",
    "    xlab(\"Age (years)\") +\n",
    "    ggtitle(\"Sampling distribution of the sample means\") +\n",
    "    annotate(\"text\", x = 85, y = 200, label = paste(\"mean = \", round(mean(sample_estimates$mean), 1)))\n",
    "\n",
    "# annotate distribution mean to the bootstrap dist\n",
    "boot_est_dist <- boot_est_dist + \n",
    "    annotate(\"text\", x = 84, y = 160, label = paste(\"mean = \", round(mean(boot1000_means$mean), 1)))\n",
    "\n",
    "# plot bootstrap distribution beside sampling distribution\n",
    "options(repr.plot.width = 8)\n",
    "grid.arrange(boot_est_dist, sampling_dist, ncol = 2)"
   ]
  },
  {
   "cell_type": "markdown",
   "metadata": {
    "deletable": false,
    "editable": false,
    "nbgrader": {
     "cell_type": "markdown",
     "checksum": "542996ceb9518966cbbe8c722cfaebfb",
     "grade": false,
     "grade_id": "cell-2529f74ae181fd44",
     "locked": true,
     "schema_version": 3,
     "solution": false,
     "task": false
    }
   },
   "source": [
    "Reminder: the true population quantity we are trying to estimate, the population mean, is about 79.3 years. We know this because we created this population and calculated this value. In real life we wouldn't know this value."
   ]
  },
  {
   "cell_type": "markdown",
   "metadata": {
    "deletable": false,
    "editable": false,
    "nbgrader": {
     "cell_type": "markdown",
     "checksum": "24c320ca4713f20690a9eecbeb843a41",
     "grade": false,
     "grade_id": "cell-15147e6c224ccb72",
     "locked": true,
     "schema_version": 3,
     "solution": false,
     "task": false
    }
   },
   "source": [
    "**Question 2.5** True/False\n",
    "<br> {points: 1}\n",
    "\n",
    "The mean of the distribution of the bootstrap sample means is the same value as the mean of the sampling distribution of the sample means. True or False?\n",
    "\n",
    "*Assign your answer to an object called `answer2.5`. Your answer should be a either \"True\" or \"False\", surrounded by quotes.*"
   ]
  },
  {
   "cell_type": "code",
   "execution_count": 50,
   "metadata": {
    "deletable": false,
    "nbgrader": {
     "cell_type": "code",
     "checksum": "e1de14e35ecb59a90145de4119c40c47",
     "grade": false,
     "grade_id": "cell-0e3ed3ca2495a0bc",
     "locked": false,
     "schema_version": 3,
     "solution": true,
     "task": false
    }
   },
   "outputs": [],
   "source": [
    "# your code here\n",
    "answer2.5 = \"False\""
   ]
  },
  {
   "cell_type": "code",
   "execution_count": 51,
   "metadata": {
    "deletable": false,
    "editable": false,
    "nbgrader": {
     "cell_type": "code",
     "checksum": "bcd8ea6ebef1c201cd0eb09552b40e30",
     "grade": true,
     "grade_id": "cell-3ea212ad593b9f57",
     "locked": true,
     "points": 1,
     "schema_version": 3,
     "solution": false,
     "task": false
    }
   },
   "outputs": [
    {
     "name": "stdout",
     "output_type": "stream",
     "text": [
      "[1] \"Success!\"\n"
     ]
    }
   ],
   "source": [
    "test_2.5()"
   ]
  },
  {
   "cell_type": "markdown",
   "metadata": {
    "deletable": false,
    "editable": false,
    "nbgrader": {
     "cell_type": "markdown",
     "checksum": "6ab79a7f1b00cd1a3ca04d440bdaed62",
     "grade": false,
     "grade_id": "cell-8f170c7bb0c58227",
     "locked": true,
     "schema_version": 3,
     "solution": false,
     "task": false
    }
   },
   "source": [
    "**Question 2.6** True/False\n",
    "<br> {points: 1}\n",
    "\n",
    "The mean of the distribution of the bootstrap sample means is not the same value as the mean of the sampling distribution of the sample means because the bootstrap samples were drawn from the sample, whereas the samples that were used to create the sampling distribution were drawn from the population. True or False?\n",
    "\n",
    "*Assign your answer to an object called `answer2.6`. Your answer should be a either \"True\" or \"False\", surrounded by quotes.*"
   ]
  },
  {
   "cell_type": "code",
   "execution_count": 54,
   "metadata": {
    "deletable": false,
    "nbgrader": {
     "cell_type": "code",
     "checksum": "64660e8fdc0245014f693ca58bd0c496",
     "grade": false,
     "grade_id": "cell-230cf28d4590a63d",
     "locked": false,
     "schema_version": 3,
     "solution": true,
     "task": false
    }
   },
   "outputs": [],
   "source": [
    "# your code here\n",
    "answer2.6 = \"True\""
   ]
  },
  {
   "cell_type": "code",
   "execution_count": 55,
   "metadata": {
    "deletable": false,
    "editable": false,
    "nbgrader": {
     "cell_type": "code",
     "checksum": "2a49b70ce59f34cb0b00965a14c1ab35",
     "grade": true,
     "grade_id": "cell-b167494acba2816d",
     "locked": true,
     "points": 1,
     "schema_version": 3,
     "solution": false,
     "task": false
    }
   },
   "outputs": [
    {
     "name": "stdout",
     "output_type": "stream",
     "text": [
      "[1] \"Success!\"\n"
     ]
    }
   ],
   "source": [
    "test_2.6()"
   ]
  },
  {
   "cell_type": "markdown",
   "metadata": {
    "deletable": false,
    "editable": false,
    "nbgrader": {
     "cell_type": "markdown",
     "checksum": "110e2b86aa3e8c8218230f6e623c6ce6",
     "grade": false,
     "grade_id": "cell-c569dabb88890bfc",
     "locked": true,
     "schema_version": 3,
     "solution": false,
     "task": false
    }
   },
   "source": [
    "**Question 2.7** True/False\n",
    "<br> {points: 1}\n",
    "\n",
    "The shape and spread (i.e. width) of the distribution of the bootstrap sample means is a poor approximation of the  shape and spread of the sampling distribution of the sample means. True or False?\n",
    "\n",
    "*Assign your answer to an object called `answer2.7`. Your answer should be a either \"True\" or \"False\", surrounded by quotes.*"
   ]
  },
  {
   "cell_type": "code",
   "execution_count": 56,
   "metadata": {
    "deletable": false,
    "nbgrader": {
     "cell_type": "code",
     "checksum": "b0f8e9cb17ebe6e95b6c30e5deea0c5a",
     "grade": false,
     "grade_id": "cell-f82d46022821b073",
     "locked": false,
     "schema_version": 3,
     "solution": true,
     "task": false
    }
   },
   "outputs": [],
   "source": [
    "# your code here\n",
    "answer2.7 = \"False\""
   ]
  },
  {
   "cell_type": "code",
   "execution_count": 57,
   "metadata": {
    "deletable": false,
    "editable": false,
    "nbgrader": {
     "cell_type": "code",
     "checksum": "7cfc7f258f2e1e6dae0541dea62f6fa8",
     "grade": true,
     "grade_id": "cell-2ab1350547ae451d",
     "locked": true,
     "points": 1,
     "schema_version": 3,
     "solution": false,
     "task": false
    }
   },
   "outputs": [
    {
     "name": "stdout",
     "output_type": "stream",
     "text": [
      "[1] \"Success!\"\n"
     ]
    }
   ],
   "source": [
    "test_2.7()"
   ]
  },
  {
   "cell_type": "markdown",
   "metadata": {
    "deletable": false,
    "editable": false,
    "nbgrader": {
     "cell_type": "markdown",
     "checksum": "d58f2cba6522b3de8df127503889a456",
     "grade": false,
     "grade_id": "cell-8399b964d743f33c",
     "locked": true,
     "schema_version": 3,
     "solution": false,
     "task": false
    }
   },
   "source": [
    "**Question 2.8** True/False\n",
    "<br> {points: 1}\n",
    "\n",
    "In real life, where we only have one sample and cannot create a sampling distribution, the distribution of the bootstrap sample estimates (here means) can suggest how we might expected our point estimate to behave if we took another sample.\n",
    "\n",
    "*Assign your answer to an object called `answer2.8`. Your answer should be a either \"True\" or \"False\", surrounded by quotes.*"
   ]
  },
  {
   "cell_type": "code",
   "execution_count": 58,
   "metadata": {
    "deletable": false,
    "nbgrader": {
     "cell_type": "code",
     "checksum": "ec231afb1a2a657a5a9fb9f00247e918",
     "grade": false,
     "grade_id": "cell-59cfd94899e457a7",
     "locked": false,
     "schema_version": 3,
     "solution": true,
     "task": false
    }
   },
   "outputs": [],
   "source": [
    "# your code here\n",
    "answer2.8 = \"True\""
   ]
  },
  {
   "cell_type": "code",
   "execution_count": 59,
   "metadata": {
    "deletable": false,
    "editable": false,
    "nbgrader": {
     "cell_type": "code",
     "checksum": "5d1013b0eb48689ab2f877f4cca971ee",
     "grade": true,
     "grade_id": "cell-4d2a0325f4fd2406",
     "locked": true,
     "points": 1,
     "schema_version": 3,
     "solution": false,
     "task": false
    }
   },
   "outputs": [
    {
     "name": "stdout",
     "output_type": "stream",
     "text": [
      "[1] \"Success!\"\n"
     ]
    }
   ],
   "source": [
    "test_2.8()"
   ]
  },
  {
   "cell_type": "markdown",
   "metadata": {
    "deletable": false,
    "editable": false,
    "nbgrader": {
     "cell_type": "markdown",
     "checksum": "1bf8e3cfd04f14dcafbd7d2d9e5ea0a1",
     "grade": false,
     "grade_id": "cell-3af745f41b79a813",
     "locked": true,
     "schema_version": 3,
     "solution": false,
     "task": false
    }
   },
   "source": [
    "### Using the bootstrap distribution to calculate a plausible range for point estimates\n",
    "\n",
    "Once we have created a bootstrap distribution, we can use it to suggest a plausible range where we might expect the true population quantity to lie. One formal name for a commonly used plausible range is called a confidence interval. Confidence intervals can be set at different levels, an example of a commonly used level is 95%. When we report a point estimate with a 95% confidence interval as the plausible range, formally we are saying that if we repeated this process of building confidence intervals more times with more samples, we’d expect ~ 95% of them to contain the value of the population quantity.\n",
    "\n",
    "> How do you choose a level for a confidence interval? You have to consider the downstream application of your estimation and what the cost/consequence of an incorrect estimate would be. The higher the cost/consequence, the higher a confidence level you would want to use. You will learn more about this in later Statistics courses.\n",
    "\n",
    "To calculate a 95% confidence interval using bootstrapping, we essentially order the values in our bootstrap distribution and then take the value at the 2.5th percentile as the lower bound of the plausible range, and the 97.5th percentile as the upper bound of the plausible range. "
   ]
  },
  {
   "cell_type": "code",
   "execution_count": 60,
   "metadata": {
    "deletable": false,
    "editable": false,
    "nbgrader": {
     "cell_type": "code",
     "checksum": "b54d45137d80604ca66c99abf4c9a6bf",
     "grade": false,
     "grade_id": "cell-4e8bd702d14d0973",
     "locked": true,
     "schema_version": 3,
     "solution": false,
     "task": false
    }
   },
   "outputs": [
    {
     "data": {
      "text/html": [
       "<style>\n",
       ".dl-inline {width: auto; margin:0; padding: 0}\n",
       ".dl-inline>dt, .dl-inline>dd {float: none; width: auto; display: inline-block}\n",
       ".dl-inline>dt::after {content: \":\\0020\"; padding-right: .5ex}\n",
       ".dl-inline>dt:not(:first-of-type) {padding-left: .5ex}\n",
       "</style><dl class=dl-inline><dt>2.5%</dt><dd>73.7269877205732</dd><dt>97.5%</dt><dd>82.0865005516074</dd></dl>\n"
      ],
      "text/latex": [
       "\\begin{description*}\n",
       "\\item[2.5\\textbackslash{}\\%] 73.7269877205732\n",
       "\\item[97.5\\textbackslash{}\\%] 82.0865005516074\n",
       "\\end{description*}\n"
      ],
      "text/markdown": [
       "2.5%\n",
       ":   73.726987720573297.5%\n",
       ":   82.0865005516074\n",
       "\n"
      ],
      "text/plain": [
       "    2.5%    97.5% \n",
       "73.72699 82.08650 "
      ]
     },
     "metadata": {},
     "output_type": "display_data"
    }
   ],
   "source": [
    "# run this cell\n",
    "boot1000_means %>% \n",
    "    select(mean) %>% \n",
    "    pull() %>% \n",
    "    quantile(c(0.025, 0.975))"
   ]
  },
  {
   "cell_type": "markdown",
   "metadata": {
    "deletable": false,
    "editable": false,
    "nbgrader": {
     "cell_type": "markdown",
     "checksum": "845327498fa40c0e47d4466296a41291",
     "grade": false,
     "grade_id": "cell-671ea52cb570ec80",
     "locked": true,
     "schema_version": 3,
     "solution": false,
     "task": false
    }
   },
   "source": [
    "Thus, to finish our estimation of the population quantity that we are trying to estimate, we would report the point estimate and the lower and upper bounds of our confidence interval. We would say something like this:\n",
    "\n",
    "Our sample mean age for Canadian seniors was measured to be 77.8 years, and we’re 95% “confident” that the true population mean for Canadian seniors is between (73.7, 82.0). \n",
    "\n",
    "Here our 95% confidence interval does contain the true population mean for Canadian seniors, 79.3 years - pretty neat! However, in real life we would never be able to know this because we only have observations from a single sample, not the whole population."
   ]
  },
  {
   "cell_type": "markdown",
   "metadata": {
    "deletable": false,
    "editable": false,
    "nbgrader": {
     "cell_type": "markdown",
     "checksum": "a9503386cccfa049d46266d9655b3101",
     "grade": false,
     "grade_id": "cell-9453844511483837",
     "locked": true,
     "schema_version": 3,
     "solution": false,
     "task": false
    }
   },
   "source": [
    "**Question 2.9** True/False\n",
    "<br> {points: 1}\n",
    "\n",
    "Assuming we knew the true population quantity we are trying to estimate (so we could verify this):\n",
    "\n",
    "For any sample we take, if we use bootstrapping to calculate the 95% confidence intervals, the true population quantity we are trying to estimate would always fall within the lower and upper bounds of the confidence interval. True or False?\n",
    "\n",
    "*Assign your answer to an object called `answer2.9`. Your answer should be a either \"True\" or \"False\", surrounded by quotes.*"
   ]
  },
  {
   "cell_type": "code",
   "execution_count": 61,
   "metadata": {
    "deletable": false,
    "nbgrader": {
     "cell_type": "code",
     "checksum": "3ca6fca52a24b2e2fd616cbbf0e84bed",
     "grade": false,
     "grade_id": "cell-91e462917a53edad",
     "locked": false,
     "schema_version": 3,
     "solution": true,
     "task": false
    }
   },
   "outputs": [],
   "source": [
    "# your code here\n",
    "answer2.9 = \"False\""
   ]
  },
  {
   "cell_type": "code",
   "execution_count": 62,
   "metadata": {
    "deletable": false,
    "editable": false,
    "nbgrader": {
     "cell_type": "code",
     "checksum": "dd44b7097d2ceac232b7491acc8b0902",
     "grade": true,
     "grade_id": "cell-e0a24858ef65cea9",
     "locked": true,
     "points": 1,
     "schema_version": 3,
     "solution": false,
     "task": false
    }
   },
   "outputs": [
    {
     "name": "stdout",
     "output_type": "stream",
     "text": [
      "[1] \"Success!\"\n"
     ]
    }
   ],
   "source": [
    "test_2.9()"
   ]
  },
  {
   "cell_type": "markdown",
   "metadata": {
    "deletable": false,
    "editable": false,
    "nbgrader": {
     "cell_type": "markdown",
     "checksum": "a6827d8ea705fa9a21e469ca9cdfbe52",
     "grade": false,
     "grade_id": "cell-f0a7a8ce1b6677c3",
     "locked": true,
     "schema_version": 3,
     "solution": false,
     "task": false
    }
   },
   "source": [
    "You are done the part we are going to grade!!! The rest of the worksheet will help you get a copy of your homework from this course somewhere where you can access it after you lose access to our server."
   ]
  },
  {
   "cell_type": "markdown",
   "metadata": {
    "deletable": false,
    "editable": false,
    "nbgrader": {
     "cell_type": "markdown",
     "checksum": "3c4c79b0352feb276d8deca2c85e189d",
     "grade": false,
     "grade_id": "cell-b8318bace082261d",
     "locked": true,
     "schema_version": 3,
     "solution": false,
     "task": false
    }
   },
   "source": [
    "## Getting R + Jupyter working for you outside of our course\n",
    "\n",
    "At some point after the exam, you will lose access to the JupyterHub server where you have been doing your course work. If you want to continue to use R + Jupyter (for other courses at UBC, or for your work after UBC) you have two options:\n",
    "\n",
    "1. a server solution\n",
    "2. a local installation solution\n",
    "\n",
    "We will point you to how you can do both, as well as provide [guidance to take a copy of your homework from our Canvas JupyterHub server](#Getting-your-files-off-of-the-Canvas-JupyterHub)."
   ]
  },
  {
   "cell_type": "markdown",
   "metadata": {
    "deletable": false,
    "editable": false,
    "nbgrader": {
     "cell_type": "markdown",
     "checksum": "5ad825830dc0b0a8007fe8885717d691",
     "grade": false,
     "grade_id": "cell-936a7113cb83576f",
     "locked": true,
     "schema_version": 3,
     "solution": false,
     "task": false
    }
   },
   "source": [
    "## Getting your files off of the Canvas JupyterHub\n",
    "\n",
    "1. On the Canvas JupyterHub open a terminal and type: `tar -zcvf dsci-100.tar.gz dsci-100`\n",
    "2. Go to the JupyterHub Control Panel/Home and click the box beside the file `dsci-100.tar.gz`, and then click \"Download\"\n",
    "3. Log onto either the https://ubc.syzygy.ca/ (CWL authentication) or https://cybera.syzygy.ca/ (Google authentication) servers\n",
    "4. Click the white \"Upload\" button (beside the \"New\" button), and select `tar -zxvf dsci-100.tar.gz`. Then click the blue \"Upload\" button to complete the upload.\n",
    "5. open a terminal and type: `tar -zxvf dsci-100.tar.gz` \n",
    "\n",
    "You should have your files now available on either of those servers above. \n",
    "\n",
    "*On Mac or Linux `tar` also works in terminal, and so you can use this strategy to have the files available locally, however you will need Jupyter installed to view them.*"
   ]
  },
  {
   "cell_type": "markdown",
   "metadata": {},
   "source": [
    "### 1. A Server Solution\n",
    "\n",
    "- As a student at UBC, you have access to another JupyterHub that you can access using your UBC CWL: https://ubc.syzygy.ca/\n",
    "- If you have a Google account, you have access to another JupyterHub that does not depend on you being a UBC student (i.e., having a valid CWL): https://cybera.syzygy.ca/"
   ]
  },
  {
   "cell_type": "markdown",
   "metadata": {},
   "source": [
    "### 2. A Local Installation Solution\n",
    "\n",
    "- Depending on your device, you may be able to install Jupyter and R on it. Below we provide instructions for the 3 major operating systems ([Mac](#A.-Install-Jupyter-+-R-on-Mac), [Windows](#B.-Install-Jupyter-+-R-on-Windows) and [Linux]())\n",
    "\n",
    "### A. Install Jupyter + R on Mac\n",
    "\n",
    "#### A.1. Install R\n",
    "\n",
    "Go to https://cran.r-project.org/bin/macosx/ and download the latest version of R for Mac (Should look something like this: R-3.5.1.pkg). Open the file and follow the installer instructions.\n",
    "\n",
    "#### A.2. Install Jupyter\n",
    "Head to https://www.anaconda.com/download/#macos and download the Anaconda version for Mac OS. Follow the instructions on that page to run the installer. *Anaconda is a software bundle installs Jupyter and Python and a few other tools. We recommend using it because it makes installation much simpler than other methods.*\n",
    "\n",
    "#### A.3. Install the IR kernel \n",
    "The IR kernel lets you connect R with Jupyter, to install it follow the instructions below:\n",
    "\n",
    "- Open terminal ([how to video](https://www.youtube.com/watch?v=zw7Nd67_aFw)), and type `R` to open R.\n",
    "\n",
    "- Type the following commands into R:\n",
    "\n",
    "`install.packages('IRkernel',  repos = 'http://cran.us.r-project.org')`\n",
    "\n",
    "`IRkernel::installspec(user = FALSE)`\n",
    "\n",
    "- Next, exit R by typing: `q()` (type `n` when prompted to not save the workspace)\n",
    "\n",
    "#### A.4 Test if it works:\n",
    "\n",
    "- Open terminal and type: `jupyter notebook`\n",
    "\n",
    "The above command should open a web browser, with Jupyter's home inside it. Try creating a new R notebook and running some simple R code (e.g., `print(\"hello!\")`) to test that it works.\n",
    "\n",
    "### B. Install Jupyter + R on Windows\n",
    "\n",
    "#### B.1. Install R\n",
    "\n",
    "Go to <https://cran.r-project.org/bin/windows/base/> and download the latest version of R for Windows (Should look something like this: Download R 3.5.1 for Windows). Open the file and follow the installer instructions.\n",
    "\n",
    "#### B.2. Install Jupyter\n",
    "Head to <https://www.anaconda.com/download/#windows> and download the Anaconda version for Windows with Python 3.6. After the download has finished, run the installer selecting the following options:\n",
    "  - On the **Advanced Installation Options** page, check both boxes (see image below)\n",
    "  - For all other pages, use the default options\n",
    "\n",
    "<img align=\"left\" src=\"https://github.com/UBC-MDS/UBC-MDS.github.io/raw/master/resources_pages/imgs/anaconda_windows.png\" width=\"550\">\n"
   ]
  },
  {
   "cell_type": "markdown",
   "metadata": {},
   "source": [
    "#### B.3. Install the IR kernel \n",
    "The IR kernel lets you connect R with Jupyter, to install it follow the instructions below:\n",
    "\n",
    "- Open R (double click on Desktop Icon or open it using the START menu)\n",
    "\n",
    "- Type the following commands into R:\n",
    "\n",
    "`install.packages('IRkernel',  repos = 'http://cran.us.r-project.org')`\n",
    "\n",
    "`IRkernel::installspec(user = FALSE)`\n",
    "\n",
    "- Next, exit/close R\n",
    "\n",
    "#### B.4 Test if it works:\n",
    "\n",
    "- Open Windows Command Prompt (select the Start button, type cmd, and click Command Prompt from the list) and type: `jupyter notebook`\n",
    "\n",
    "The above command should open a web browser, with Jupyter's home inside it. Try creating a new R notebook and running some simple R code (e.g., `print(\"hello!\")`) to test that it works.\n",
    "\n",
    "### C. Install Jupyter + R on Linux\n",
    "\n",
    "#### C.1. Install R\n",
    "\n",
    "Follow the instructiond here: https://ubc-mds.github.io/resources_pages/install_ds_stack_ubuntu/#r-irkernel-and-rstudio (note - you do not need to install RStudio).\n",
    "\n",
    "\n",
    "#### C.2. Install Jupyter\n",
    "Head to https://www.anaconda.com/download/#linux and download the Anaconda version for Linux with Python 3.6. Follow the instructions on that page to run the installer. *Anaconda is a software bundle installs Jupyter and Python and a few other tools. We recommend using it because it makes installation much simpler than other methods.*\n",
    "\n",
    "#### C.3. Install the IR kernel \n",
    "The IR kernel lets you connect R with Jupyter, to install it follow the instructions below:\n",
    "\n",
    "- Open the terminal, and type `R` to open R.\n",
    "\n",
    "- Type the following commands into R:\n",
    "\n",
    "`install.packages('IRkernel',  repos = 'http://cran.us.r-project.org')`\n",
    "\n",
    "`IRkernel::installspec(user = FALSE)`\n",
    "\n",
    "- Next, exit R by typing: `q()` (type `n` when prompted to not save the workspace)\n",
    "\n",
    "#### C.4 Test if it works:\n",
    "\n",
    "- Open terminal and type: `jupyter notebook`\n",
    "\n",
    "The above command should open a web browser, with Jupyter's home inside it. Try creating a new R notebook and running some simple R code (e.g., `print(\"hello!\")`) to test that it works."
   ]
  }
 ],
 "metadata": {
  "kernelspec": {
   "display_name": "R",
   "language": "R",
   "name": "ir"
  },
  "language_info": {
   "codemirror_mode": "r",
   "file_extension": ".r",
   "mimetype": "text/x-r-source",
   "name": "R",
   "pygments_lexer": "r",
   "version": "3.6.2"
  }
 },
 "nbformat": 4,
 "nbformat_minor": 2
}
