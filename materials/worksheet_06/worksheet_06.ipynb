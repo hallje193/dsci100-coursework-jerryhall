{
 "cells": [
  {
   "cell_type": "markdown",
   "metadata": {
    "deletable": false,
    "editable": false,
    "nbgrader": {
     "cell_type": "markdown",
     "checksum": "4ee0b544442b0f1f2fc9fd9c5e76b8ea",
     "grade": false,
     "grade_id": "cell-56451645af3178ba",
     "locked": true,
     "schema_version": 3,
     "solution": false,
     "task": false
    }
   },
   "source": [
    "# Worksheet 6 - Classification\n",
    "\n",
    "### Lecture and Tutorial Learning Goals:\n",
    "\n",
    "After completing this week's lecture and tutorial work, you will be able to:\n",
    "\n",
    "* Recognize situations where a simple classifier would be appropriate for making predictions.\n",
    "* Explain the k-nearest neighbour classification algorithm.\n",
    "* Interpret the output of a classifier.\n",
    "* Compute, by hand, the distance between points when there are two explanatory variables/predictors.\n",
    "* Describe what a training data set is and how it is used in classification.\n",
    "* In a dataset with two explanatory variables/predictors, perform k-nearest neighbour classification in R using `caret::train(method = \"knn\", ...)` to predict the class of a single new observation.\n",
    "\n",
    "This worksheet covers parts of [Chapter 6](https://ubc-dsci.github.io/introduction-to-datascience/classification.html) of the online textbook. You should read this chapter before attempting the worksheet."
   ]
  },
  {
   "cell_type": "code",
   "execution_count": 1,
   "metadata": {
    "deletable": false,
    "editable": false,
    "nbgrader": {
     "cell_type": "code",
     "checksum": "fcc0c3a0edc30a45213a82e370fddbcb",
     "grade": false,
     "grade_id": "cell-9ca533e5e836f7e3",
     "locked": true,
     "schema_version": 3,
     "solution": false,
     "task": false
    }
   },
   "outputs": [
    {
     "name": "stderr",
     "output_type": "stream",
     "text": [
      "── \u001b[1mAttaching packages\u001b[22m ─────────────────────────────────────── tidyverse 1.2.1 ──\n",
      "\u001b[32m✔\u001b[39m \u001b[34mggplot2\u001b[39m 3.2.0     \u001b[32m✔\u001b[39m \u001b[34mpurrr  \u001b[39m 0.3.2\n",
      "\u001b[32m✔\u001b[39m \u001b[34mtibble \u001b[39m 2.1.3     \u001b[32m✔\u001b[39m \u001b[34mdplyr  \u001b[39m 0.8.3\n",
      "\u001b[32m✔\u001b[39m \u001b[34mtidyr  \u001b[39m 0.8.3     \u001b[32m✔\u001b[39m \u001b[34mstringr\u001b[39m 1.4.0\n",
      "\u001b[32m✔\u001b[39m \u001b[34mreadr  \u001b[39m 1.3.1     \u001b[32m✔\u001b[39m \u001b[34mforcats\u001b[39m 0.4.0\n",
      "── \u001b[1mConflicts\u001b[22m ────────────────────────────────────────── tidyverse_conflicts() ──\n",
      "\u001b[31m✖\u001b[39m \u001b[34mdplyr\u001b[39m::\u001b[32mfilter()\u001b[39m masks \u001b[34mstats\u001b[39m::filter()\n",
      "\u001b[31m✖\u001b[39m \u001b[34mdplyr\u001b[39m::\u001b[32mlag()\u001b[39m    masks \u001b[34mstats\u001b[39m::lag()\n",
      "Loading required package: lattice\n",
      "\n",
      "Attaching package: ‘caret’\n",
      "\n",
      "The following object is masked from ‘package:purrr’:\n",
      "\n",
      "    lift\n",
      "\n",
      "\n",
      "Attaching package: ‘testthat’\n",
      "\n",
      "The following object is masked from ‘package:dplyr’:\n",
      "\n",
      "    matches\n",
      "\n",
      "The following object is masked from ‘package:purrr’:\n",
      "\n",
      "    is_null\n",
      "\n"
     ]
    }
   ],
   "source": [
    " ### Run this cell before continuing. \n",
    "library(tidyverse)\n",
    "library(repr)\n",
    "library(caret)\n",
    "source('tests_worksheet_06.R')\n",
    "source('cleanup_worksheet_06.R')"
   ]
  },
  {
   "cell_type": "markdown",
   "metadata": {
    "deletable": false,
    "editable": false,
    "nbgrader": {
     "cell_type": "markdown",
     "checksum": "7f4c8198a021ff196a9e9e13f790c938",
     "grade": false,
     "grade_id": "cell-1b949a8db8729285",
     "locked": true,
     "schema_version": 3,
     "solution": false
    }
   },
   "source": [
    "**Question 0.1** Multiple Choice: \n",
    "<br> {points: 1}\n",
    "\n",
    "**Which of the following statements is NOT true of a training data set (in the context of classification)?**\n",
    "\n",
    "A. A training data set is a collection of observations for which we know the true classes.\n",
    "\n",
    "B. We can use a training set to explore and build our classifier.\n",
    "\n",
    "C. The training data set is the underlying collection of observations for which we don't know the true classes.\n",
    "\n",
    "*Assign your answer to an object called `answer0.1`.*"
   ]
  },
  {
   "cell_type": "code",
   "execution_count": 2,
   "metadata": {
    "deletable": false,
    "nbgrader": {
     "cell_type": "code",
     "checksum": "a8b4f6e568d6836a0a3ffb9a3cf39dd6",
     "grade": false,
     "grade_id": "cell-f0a0878626777907",
     "locked": false,
     "schema_version": 3,
     "solution": true
    }
   },
   "outputs": [],
   "source": [
    "# Make sure the correct answer is an uppercase letter. \n",
    "# Surround your answer with quotation marks.\n",
    "# Replace the fail() with your answer. \n",
    "\n",
    "# your code here\n",
    "answer0.1 <- \"C\""
   ]
  },
  {
   "cell_type": "code",
   "execution_count": 3,
   "metadata": {
    "deletable": false,
    "editable": false,
    "nbgrader": {
     "cell_type": "code",
     "checksum": "192b3e33e081c9a556c025d711edb216",
     "grade": true,
     "grade_id": "cell-5cb2c8e6177337fd",
     "locked": true,
     "points": 1,
     "schema_version": 3,
     "solution": false
    }
   },
   "outputs": [
    {
     "name": "stdout",
     "output_type": "stream",
     "text": [
      "[1] \"Success!\"\n"
     ]
    }
   ],
   "source": [
    "test_0.1()"
   ]
  },
  {
   "cell_type": "markdown",
   "metadata": {
    "deletable": false,
    "editable": false,
    "nbgrader": {
     "cell_type": "markdown",
     "checksum": "acc2077793bff01df356f2c29b881b4c",
     "grade": false,
     "grade_id": "cell-7996c030ec20bf5c",
     "locked": true,
     "schema_version": 3,
     "solution": false
    }
   },
   "source": [
    "**Question 0.2** Multiple Choice\n",
    "<br> {points: 1}\n",
    "\n",
    "(Adapted from James et al, \"[An introduction to statistical learning](http://www-bcf.usc.edu/~gareth/ISL/)\" (page 53))\n",
    "\n",
    "Consider the scenario below: \n",
    "\n",
    "We collect data on 20 similar products. For each product we have recorded whether it was a success or failure (labelled as such by the Sales team), price charged for the product, marketing budget, competition price, customer data, and ten other variables. \n",
    "\n",
    "**Which of the following is a classification problem?**\n",
    "\n",
    "A. We are interested in comparing the profit margins for products that are a success and products that are a failure. \n",
    "\n",
    "B. We are considering launching a new product and wish to know whether it will be a success or a failure. \n",
    "\n",
    "C. We wish to group customers based on their preferences and use that knowledge to develop targeted marketing programs. \n",
    "\n",
    "*Assign your answer to an object called `answer0.2`.*"
   ]
  },
  {
   "cell_type": "code",
   "execution_count": 4,
   "metadata": {
    "deletable": false,
    "nbgrader": {
     "cell_type": "code",
     "checksum": "86b5f829165dab0fb49ea0966c4d7fc9",
     "grade": false,
     "grade_id": "cell-62c49be2ada51acc",
     "locked": false,
     "schema_version": 3,
     "solution": true
    }
   },
   "outputs": [],
   "source": [
    "# Make sure the correct answer is an uppercase letter. \n",
    "# Surround your answer with quotation marks.\n",
    "# Replace the fail() with your answer. \n",
    "\n",
    "# your code here\n",
    "answer0.2 <- \"B\""
   ]
  },
  {
   "cell_type": "code",
   "execution_count": 5,
   "metadata": {
    "deletable": false,
    "editable": false,
    "nbgrader": {
     "cell_type": "code",
     "checksum": "0617b4054532ee4ba3b0a447f7c3c303",
     "grade": true,
     "grade_id": "cell-61c63c0827e2a73e",
     "locked": true,
     "points": 1,
     "schema_version": 3,
     "solution": false
    }
   },
   "outputs": [
    {
     "name": "stdout",
     "output_type": "stream",
     "text": [
      "[1] \"Success!\"\n"
     ]
    }
   ],
   "source": [
    "test_0.2()"
   ]
  },
  {
   "cell_type": "markdown",
   "metadata": {
    "deletable": false,
    "editable": false,
    "nbgrader": {
     "cell_type": "markdown",
     "checksum": "8c938497f10a8048083185a8f3ac91c2",
     "grade": false,
     "grade_id": "cell-e5066772a12351f8",
     "locked": true,
     "schema_version": 3,
     "solution": false
    }
   },
   "source": [
    "## 1. Breast Cancer Data Set \n",
    "We will work with the breast cancer data from this week's pre-reading. \n",
    "\n",
    "**Question 1.0**\n",
    "<br> {points: 1}\n",
    "\n",
    "Read the `clean-wdbc-data.csv` file (found in the `data` directory) into the notebook and store it as a data frame. Name it `cancer`."
   ]
  },
  {
   "cell_type": "code",
   "execution_count": 8,
   "metadata": {
    "deletable": false,
    "nbgrader": {
     "cell_type": "code",
     "checksum": "b29f8705a9c4b8a6f0e7478a1c236cb3",
     "grade": false,
     "grade_id": "cell-bc7e6d59f6a48ff4",
     "locked": false,
     "schema_version": 3,
     "solution": true
    }
   },
   "outputs": [
    {
     "name": "stderr",
     "output_type": "stream",
     "text": [
      "Parsed with column specification:\n",
      "cols(\n",
      "  ID = \u001b[32mcol_double()\u001b[39m,\n",
      "  Class = \u001b[31mcol_character()\u001b[39m,\n",
      "  Radius = \u001b[32mcol_double()\u001b[39m,\n",
      "  Texture = \u001b[32mcol_double()\u001b[39m,\n",
      "  Perimeter = \u001b[32mcol_double()\u001b[39m,\n",
      "  Area = \u001b[32mcol_double()\u001b[39m,\n",
      "  Smoothness = \u001b[32mcol_double()\u001b[39m,\n",
      "  Compactness = \u001b[32mcol_double()\u001b[39m,\n",
      "  Concavity = \u001b[32mcol_double()\u001b[39m,\n",
      "  Concave_points = \u001b[32mcol_double()\u001b[39m,\n",
      "  Symmetry = \u001b[32mcol_double()\u001b[39m,\n",
      "  Fractal_dimension = \u001b[32mcol_double()\u001b[39m\n",
      ")\n"
     ]
    },
    {
     "data": {
      "text/html": [
       "<table>\n",
       "<caption>A tibble: 6 × 12</caption>\n",
       "<thead>\n",
       "\t<tr><th scope=col>ID</th><th scope=col>Class</th><th scope=col>Radius</th><th scope=col>Texture</th><th scope=col>Perimeter</th><th scope=col>Area</th><th scope=col>Smoothness</th><th scope=col>Compactness</th><th scope=col>Concavity</th><th scope=col>Concave_points</th><th scope=col>Symmetry</th><th scope=col>Fractal_dimension</th></tr>\n",
       "\t<tr><th scope=col>&lt;dbl&gt;</th><th scope=col>&lt;chr&gt;</th><th scope=col>&lt;dbl&gt;</th><th scope=col>&lt;dbl&gt;</th><th scope=col>&lt;dbl&gt;</th><th scope=col>&lt;dbl&gt;</th><th scope=col>&lt;dbl&gt;</th><th scope=col>&lt;dbl&gt;</th><th scope=col>&lt;dbl&gt;</th><th scope=col>&lt;dbl&gt;</th><th scope=col>&lt;dbl&gt;</th><th scope=col>&lt;dbl&gt;</th></tr>\n",
       "</thead>\n",
       "<tbody>\n",
       "\t<tr><td>  842302</td><td>M</td><td> 1.8850310</td><td>-1.35809849</td><td> 2.3015755</td><td> 1.9994782</td><td> 1.3065367</td><td> 2.6143647</td><td> 2.1076718</td><td>2.2940576</td><td> 2.7482041</td><td> 1.9353117</td></tr>\n",
       "\t<tr><td>  842517</td><td>M</td><td> 1.8043398</td><td>-0.36887865</td><td> 1.5337764</td><td> 1.8888270</td><td>-0.3752817</td><td>-0.4300658</td><td>-0.1466200</td><td>1.0861286</td><td>-0.2436753</td><td> 0.2809428</td></tr>\n",
       "\t<tr><td>84300903</td><td>M</td><td> 1.5105411</td><td>-0.02395331</td><td> 1.3462906</td><td> 1.4550043</td><td> 0.5269438</td><td> 1.0819801</td><td> 0.8542223</td><td>1.9532817</td><td> 1.1512420</td><td> 0.2012142</td></tr>\n",
       "\t<tr><td>84348301</td><td>M</td><td>-0.2812170</td><td> 0.13386631</td><td>-0.2497196</td><td>-0.5495377</td><td> 3.3912907</td><td> 3.8899747</td><td> 1.9878392</td><td>2.1738732</td><td> 6.0407261</td><td> 4.9306719</td></tr>\n",
       "\t<tr><td>84358402</td><td>M</td><td> 1.2974336</td><td>-1.46548091</td><td> 1.3373627</td><td> 1.2196511</td><td> 0.2203623</td><td>-0.3131190</td><td> 0.6126397</td><td>0.7286181</td><td>-0.8675896</td><td>-0.3967505</td></tr>\n",
       "\t<tr><td>  843786</td><td>M</td><td>-0.1653528</td><td>-0.31356043</td><td>-0.1149083</td><td>-0.2441054</td><td> 2.0467119</td><td> 1.7201029</td><td> 1.2621327</td><td>0.9050914</td><td> 1.7525273</td><td> 2.2398308</td></tr>\n",
       "</tbody>\n",
       "</table>\n"
      ],
      "text/latex": [
       "A tibble: 6 × 12\n",
       "\\begin{tabular}{r|llllllllllll}\n",
       " ID & Class & Radius & Texture & Perimeter & Area & Smoothness & Compactness & Concavity & Concave\\_points & Symmetry & Fractal\\_dimension\\\\\n",
       " <dbl> & <chr> & <dbl> & <dbl> & <dbl> & <dbl> & <dbl> & <dbl> & <dbl> & <dbl> & <dbl> & <dbl>\\\\\n",
       "\\hline\n",
       "\t   842302 & M &  1.8850310 & -1.35809849 &  2.3015755 &  1.9994782 &  1.3065367 &  2.6143647 &  2.1076718 & 2.2940576 &  2.7482041 &  1.9353117\\\\\n",
       "\t   842517 & M &  1.8043398 & -0.36887865 &  1.5337764 &  1.8888270 & -0.3752817 & -0.4300658 & -0.1466200 & 1.0861286 & -0.2436753 &  0.2809428\\\\\n",
       "\t 84300903 & M &  1.5105411 & -0.02395331 &  1.3462906 &  1.4550043 &  0.5269438 &  1.0819801 &  0.8542223 & 1.9532817 &  1.1512420 &  0.2012142\\\\\n",
       "\t 84348301 & M & -0.2812170 &  0.13386631 & -0.2497196 & -0.5495377 &  3.3912907 &  3.8899747 &  1.9878392 & 2.1738732 &  6.0407261 &  4.9306719\\\\\n",
       "\t 84358402 & M &  1.2974336 & -1.46548091 &  1.3373627 &  1.2196511 &  0.2203623 & -0.3131190 &  0.6126397 & 0.7286181 & -0.8675896 & -0.3967505\\\\\n",
       "\t   843786 & M & -0.1653528 & -0.31356043 & -0.1149083 & -0.2441054 &  2.0467119 &  1.7201029 &  1.2621327 & 0.9050914 &  1.7525273 &  2.2398308\\\\\n",
       "\\end{tabular}\n"
      ],
      "text/markdown": [
       "\n",
       "A tibble: 6 × 12\n",
       "\n",
       "| ID &lt;dbl&gt; | Class &lt;chr&gt; | Radius &lt;dbl&gt; | Texture &lt;dbl&gt; | Perimeter &lt;dbl&gt; | Area &lt;dbl&gt; | Smoothness &lt;dbl&gt; | Compactness &lt;dbl&gt; | Concavity &lt;dbl&gt; | Concave_points &lt;dbl&gt; | Symmetry &lt;dbl&gt; | Fractal_dimension &lt;dbl&gt; |\n",
       "|---|---|---|---|---|---|---|---|---|---|---|---|\n",
       "|   842302 | M |  1.8850310 | -1.35809849 |  2.3015755 |  1.9994782 |  1.3065367 |  2.6143647 |  2.1076718 | 2.2940576 |  2.7482041 |  1.9353117 |\n",
       "|   842517 | M |  1.8043398 | -0.36887865 |  1.5337764 |  1.8888270 | -0.3752817 | -0.4300658 | -0.1466200 | 1.0861286 | -0.2436753 |  0.2809428 |\n",
       "| 84300903 | M |  1.5105411 | -0.02395331 |  1.3462906 |  1.4550043 |  0.5269438 |  1.0819801 |  0.8542223 | 1.9532817 |  1.1512420 |  0.2012142 |\n",
       "| 84348301 | M | -0.2812170 |  0.13386631 | -0.2497196 | -0.5495377 |  3.3912907 |  3.8899747 |  1.9878392 | 2.1738732 |  6.0407261 |  4.9306719 |\n",
       "| 84358402 | M |  1.2974336 | -1.46548091 |  1.3373627 |  1.2196511 |  0.2203623 | -0.3131190 |  0.6126397 | 0.7286181 | -0.8675896 | -0.3967505 |\n",
       "|   843786 | M | -0.1653528 | -0.31356043 | -0.1149083 | -0.2441054 |  2.0467119 |  1.7201029 |  1.2621327 | 0.9050914 |  1.7525273 |  2.2398308 |\n",
       "\n"
      ],
      "text/plain": [
       "  ID       Class Radius     Texture     Perimeter  Area       Smoothness\n",
       "1   842302 M      1.8850310 -1.35809849  2.3015755  1.9994782  1.3065367\n",
       "2   842517 M      1.8043398 -0.36887865  1.5337764  1.8888270 -0.3752817\n",
       "3 84300903 M      1.5105411 -0.02395331  1.3462906  1.4550043  0.5269438\n",
       "4 84348301 M     -0.2812170  0.13386631 -0.2497196 -0.5495377  3.3912907\n",
       "5 84358402 M      1.2974336 -1.46548091  1.3373627  1.2196511  0.2203623\n",
       "6   843786 M     -0.1653528 -0.31356043 -0.1149083 -0.2441054  2.0467119\n",
       "  Compactness Concavity  Concave_points Symmetry   Fractal_dimension\n",
       "1  2.6143647   2.1076718 2.2940576       2.7482041  1.9353117       \n",
       "2 -0.4300658  -0.1466200 1.0861286      -0.2436753  0.2809428       \n",
       "3  1.0819801   0.8542223 1.9532817       1.1512420  0.2012142       \n",
       "4  3.8899747   1.9878392 2.1738732       6.0407261  4.9306719       \n",
       "5 -0.3131190   0.6126397 0.7286181      -0.8675896 -0.3967505       \n",
       "6  1.7201029   1.2621327 0.9050914       1.7525273  2.2398308       "
      ]
     },
     "metadata": {},
     "output_type": "display_data"
    }
   ],
   "source": [
    "# your code here\n",
    "cancer <- read_csv(\"data/clean-wdbc-data.csv\")\n",
    "head(cancer)"
   ]
  },
  {
   "cell_type": "code",
   "execution_count": 9,
   "metadata": {
    "deletable": false,
    "editable": false,
    "nbgrader": {
     "cell_type": "code",
     "checksum": "0e0a708b847fe7c8239122314d587f00",
     "grade": true,
     "grade_id": "cell-b7dada2851cb2d39",
     "locked": true,
     "points": 1,
     "schema_version": 3,
     "solution": false
    }
   },
   "outputs": [
    {
     "name": "stdout",
     "output_type": "stream",
     "text": [
      "[1] \"Success!\"\n"
     ]
    }
   ],
   "source": [
    "test_1.0()"
   ]
  },
  {
   "cell_type": "markdown",
   "metadata": {
    "deletable": false,
    "editable": false,
    "nbgrader": {
     "cell_type": "markdown",
     "checksum": "9503b51cb21ca2797ea0be26607183f4",
     "grade": false,
     "grade_id": "cell-4abc7741b213ce9e",
     "locked": true,
     "schema_version": 3,
     "solution": false
    }
   },
   "source": [
    "**Question 1.1** True or False: \n",
    "<br> {points: 1}\n",
    "\n",
    "After looking at the first six rows of the `cancer` data fame, suppose we asked you to predict the variable \"area\" for a new observation. **Is this a classification problem?**\n",
    "\n",
    "*Assign your answer (either \"true\" or \"false\") to an object called `answer1.1`.*"
   ]
  },
  {
   "cell_type": "code",
   "execution_count": 10,
   "metadata": {
    "deletable": false,
    "nbgrader": {
     "cell_type": "code",
     "checksum": "5899cfdddf5becce9e943df591f94544",
     "grade": false,
     "grade_id": "cell-787de50bba80be9c",
     "locked": false,
     "schema_version": 3,
     "solution": true
    }
   },
   "outputs": [],
   "source": [
    "# Make sure the correct answer is written in lower-case (true / false)\n",
    "# Surround your answer with quotation marks.\n",
    "# Replace the fail() with your answer. \n",
    "\n",
    "# your code here\n",
    "answer1.1 <- \"false\""
   ]
  },
  {
   "cell_type": "code",
   "execution_count": 11,
   "metadata": {
    "deletable": false,
    "editable": false,
    "nbgrader": {
     "cell_type": "code",
     "checksum": "5f93de08ee55203b33bfda0371994d46",
     "grade": true,
     "grade_id": "cell-8c2ac2ec68bc2ef2",
     "locked": true,
     "points": 1,
     "schema_version": 3,
     "solution": false
    }
   },
   "outputs": [
    {
     "name": "stdout",
     "output_type": "stream",
     "text": [
      "[1] \"Success!\"\n"
     ]
    }
   ],
   "source": [
    "test_1.1()"
   ]
  },
  {
   "cell_type": "markdown",
   "metadata": {
    "deletable": false,
    "editable": false,
    "nbgrader": {
     "cell_type": "markdown",
     "checksum": "0f55f330ed06115acc54b4a56c82920b",
     "grade": false,
     "grade_id": "cell-d668650abd9bc1df",
     "locked": true,
     "schema_version": 3,
     "solution": false
    }
   },
   "source": [
    "**Question 1.2** \n",
    "<br> {points: 1}\n",
    "\n",
    "Create a scatterplot of the data with `Symmetry` on the x-axis and `Radius` on the y-axis. Modify your aesthetics by colouring for `Class`. As you create this plot, ensure you follow the guidelines for creating effective visualizations.\n",
    "\n",
    "*Assign your plot to an object called `cancer_plot`.*"
   ]
  },
  {
   "cell_type": "code",
   "execution_count": 21,
   "metadata": {
    "deletable": false,
    "nbgrader": {
     "cell_type": "code",
     "checksum": "04c5213451ab2e34d28919dbd1e238af",
     "grade": false,
     "grade_id": "cell-6dadc99c524407f7",
     "locked": false,
     "schema_version": 3,
     "solution": true
    }
   },
   "outputs": [
    {
     "data": {
      "image/png": "[encoded data removed]",
      "text/plain": [
       "plot without title"
      ]
     },
     "metadata": {},
     "output_type": "display_data"
    }
   ],
   "source": [
    "# your code here\n",
    "options(repr.plot.width=5, repr.plot.height=5)\n",
    "cancer_plot <- ggplot(cancer, aes(x = Symmetry, y = Radius, color = Class)) +\n",
    "    geom_point() +\n",
    "    labs(x = \"Symmetry\", y = \"Radius\")\n",
    "cancer_plot"
   ]
  },
  {
   "cell_type": "code",
   "execution_count": 19,
   "metadata": {
    "deletable": false,
    "editable": false,
    "nbgrader": {
     "cell_type": "code",
     "checksum": "36296a4dfc897264ae4f68db8cfe18ad",
     "grade": true,
     "grade_id": "cell-82ee9aaeac954391",
     "locked": true,
     "points": 1,
     "schema_version": 3,
     "solution": false
    }
   },
   "outputs": [
    {
     "name": "stdout",
     "output_type": "stream",
     "text": [
      "[1] \"Success!\"\n"
     ]
    }
   ],
   "source": [
    "test_1.2()"
   ]
  },
  {
   "cell_type": "markdown",
   "metadata": {
    "deletable": false,
    "editable": false,
    "nbgrader": {
     "cell_type": "markdown",
     "checksum": "dce5c95204b7d460b1e067753a7ea643",
     "grade": false,
     "grade_id": "cell-19b9839a8f31d445",
     "locked": true,
     "schema_version": 3,
     "solution": false
    }
   },
   "source": [
    "**Question 1.3** \n",
    "<br> {points: 1}\n",
    "\n",
    "Just by looking at the scatterplot above, how would you classify an observation with symmetry 1 and radius 1?  \n",
    "- Benign \n",
    "- Malignant\n",
    "\n",
    "*Assign your answer to an object called `answer1.3`.*"
   ]
  },
  {
   "cell_type": "code",
   "execution_count": 22,
   "metadata": {
    "deletable": false,
    "nbgrader": {
     "cell_type": "code",
     "checksum": "7c0429875ed926e6936e786d96baa215",
     "grade": false,
     "grade_id": "cell-4770d75e12811ba2",
     "locked": false,
     "schema_version": 3,
     "solution": true
    }
   },
   "outputs": [],
   "source": [
    "# Make sure the correct answer is written fully (Benign / Malignant)\n",
    "# Surround your answer with quotation marks.\n",
    "# Replace the fail() with your answer. \n",
    "\n",
    "# your code here\n",
    "answer1.3 <- 'Malignant'"
   ]
  },
  {
   "cell_type": "code",
   "execution_count": 23,
   "metadata": {
    "deletable": false,
    "editable": false,
    "nbgrader": {
     "cell_type": "code",
     "checksum": "08431c77ca9020599abccf14b1432e84",
     "grade": true,
     "grade_id": "cell-927ef1b1abe0452a",
     "locked": true,
     "points": 1,
     "schema_version": 3,
     "solution": false
    }
   },
   "outputs": [
    {
     "name": "stdout",
     "output_type": "stream",
     "text": [
      "[1] \"Success!\"\n"
     ]
    }
   ],
   "source": [
    "test_1.3()"
   ]
  },
  {
   "cell_type": "markdown",
   "metadata": {
    "deletable": false,
    "editable": false,
    "nbgrader": {
     "cell_type": "markdown",
     "checksum": "8a15e17fd6fe6355a848228d4dc29920",
     "grade": false,
     "grade_id": "cell-042f2da9a72d7533",
     "locked": true,
     "schema_version": 3,
     "solution": false,
     "task": false
    }
   },
   "source": [
    "We will now compute the distance between the first and second observation in the breast cancer dataset using the explanatory variables/predictors `Symmetry` and `Radius`. Recall we can calculate the distance between two points using the following formula: \n",
    "$$Distance = \\sqrt{(x_a -x_b)^2 + (y_a - y_b)^2}$$"
   ]
  },
  {
   "cell_type": "markdown",
   "metadata": {
    "deletable": false,
    "editable": false,
    "nbgrader": {
     "cell_type": "markdown",
     "checksum": "675e351a67c42de817536c935fa6c909",
     "grade": false,
     "grade_id": "cell-6c27f7d3e70cb8f5",
     "locked": true,
     "schema_version": 3,
     "solution": false
    }
   },
   "source": [
    "**Question 1.4** \n",
    "<br> {points: 1}\n",
    "\n",
    "First, extract the coordinates for the two observations and assign them to objects called: \n",
    "\n",
    "- `xa` (Symmetry value for the first row)\n",
    "- `ya` (Radius value for the first row)\n",
    "- `xb` (Symmetry value for the second row)\n",
    "- `yb` (Radius value for the second row).\n",
    "\n",
    "*Scaffolding for `xa` is given*"
   ]
  },
  {
   "cell_type": "code",
   "execution_count": 33,
   "metadata": {
    "deletable": false,
    "nbgrader": {
     "cell_type": "code",
     "checksum": "06da679375130bdfe0657a99f21589b4",
     "grade": false,
     "grade_id": "cell-9aa7e3751578c8c5",
     "locked": false,
     "schema_version": 3,
     "solution": true
    }
   },
   "outputs": [],
   "source": [
    "xa <- filter(cancer, row_number() == 1)  %>%  \n",
    "   select(Symmetry) %>%\n",
    "   unlist()\n",
    "\n",
    "ya <- filter(cancer, row_number() == 1)  %>%  \n",
    "   select(Radius) %>%\n",
    "   unlist()\n",
    "\n",
    "xb <- filter(cancer, row_number() == 2)  %>%  \n",
    "   select(Symmetry) %>%\n",
    "   unlist()\n",
    "\n",
    "yb <- filter(cancer, row_number() == 2)  %>%  \n",
    "   select(Radius) %>%\n",
    "   unlist()\n",
    "# your code here\n",
    "\n"
   ]
  },
  {
   "cell_type": "code",
   "execution_count": 34,
   "metadata": {
    "deletable": false,
    "editable": false,
    "nbgrader": {
     "cell_type": "code",
     "checksum": "62e30ad2cbc6929f5a329d48a5447651",
     "grade": true,
     "grade_id": "cell-9117ab916552d6a6",
     "locked": true,
     "points": 1,
     "schema_version": 3,
     "solution": false
    }
   },
   "outputs": [
    {
     "name": "stdout",
     "output_type": "stream",
     "text": [
      "[1] \"Success!\"\n"
     ]
    }
   ],
   "source": [
    "test_1.4()"
   ]
  },
  {
   "cell_type": "markdown",
   "metadata": {
    "deletable": false,
    "editable": false,
    "nbgrader": {
     "cell_type": "markdown",
     "checksum": "92535ba183eaaed6622d80a10854de4f",
     "grade": false,
     "grade_id": "cell-d3cdd3053b1b28f3",
     "locked": true,
     "schema_version": 3,
     "solution": false
    }
   },
   "source": [
    "**Question 1.5**\n",
    "<br> {points: 1}\n",
    "\n",
    "Plug the coordinates into the distance equation. \n",
    "\n",
    "*Assign your answer to an object called `answer1.5`.*\n",
    "\n",
    "Fill in the `...` in the cell below. Copy and paste your finished answer into the `fail()`."
   ]
  },
  {
   "cell_type": "code",
   "execution_count": 35,
   "metadata": {
    "deletable": false,
    "nbgrader": {
     "cell_type": "code",
     "checksum": "a289d7bf3d8aa3b79a68caa31005e509",
     "grade": false,
     "grade_id": "cell-df5b6355c3c1fb5e",
     "locked": false,
     "schema_version": 3,
     "solution": true
    }
   },
   "outputs": [
    {
     "data": {
      "text/html": [
       "<strong>Symmetry:</strong> 2.9929672987961"
      ],
      "text/latex": [
       "\\textbf{Symmetry:} 2.9929672987961"
      ],
      "text/markdown": [
       "**Symmetry:** 2.9929672987961"
      ],
      "text/plain": [
       "Symmetry \n",
       "2.992967 "
      ]
     },
     "metadata": {},
     "output_type": "display_data"
    }
   ],
   "source": [
    "answer1.5 <- sqrt((xa - xb)^2 + (ya - yb)^2)\n",
    "\n",
    "# your code here\n",
    "\n",
    "answer1.5"
   ]
  },
  {
   "cell_type": "code",
   "execution_count": null,
   "metadata": {
    "deletable": false,
    "editable": false,
    "nbgrader": {
     "cell_type": "code",
     "checksum": "44cad1e7569a590e8ae17596f3ad9639",
     "grade": true,
     "grade_id": "cell-3d5f251a3d1cd4d4",
     "locked": true,
     "points": 1,
     "schema_version": 3,
     "solution": false
    }
   },
   "outputs": [],
   "source": [
    "test_1.5()"
   ]
  },
  {
   "cell_type": "markdown",
   "metadata": {
    "deletable": false,
    "editable": false,
    "nbgrader": {
     "cell_type": "markdown",
     "checksum": "0be6a8181ad42aa776fae9838fd70950",
     "grade": false,
     "grade_id": "cell-7497aeecdc763d29",
     "locked": true,
     "schema_version": 3,
     "solution": false
    }
   },
   "source": [
    "**Question 1.6**\n",
    "<br> {points: 1}\n",
    "\n",
    "Now we'll do the same thing *with 3 explanatory variables/predictors*: Symmetry, Radius and Concavity. Again, use the first two rows in the data set as the points you are calculating the distance between (point $a$ is row 1, and point $b$ is row 2).\n",
    "\n",
    "\n",
    "Find the coordinates for the third variable (Concavity) and assign them to objects called `za` and `zb`. Use the scaffolding given in **Question 1.4** as a guide."
   ]
  },
  {
   "cell_type": "code",
   "execution_count": 36,
   "metadata": {
    "deletable": false,
    "nbgrader": {
     "cell_type": "code",
     "checksum": "44723fdbe958ca8e67f0d607d86f6d0d",
     "grade": false,
     "grade_id": "cell-2eaff08bf3baaeb4",
     "locked": false,
     "schema_version": 3,
     "solution": true
    }
   },
   "outputs": [],
   "source": [
    "# your code here\n",
    "za <- filter(cancer, row_number() == 1)  %>%  \n",
    "   select(Concavity) %>%\n",
    "   unlist()\n",
    "zb <- filter(cancer, row_number() == 2)  %>%  \n",
    "   select(Concavity) %>%\n",
    "   unlist()"
   ]
  },
  {
   "cell_type": "code",
   "execution_count": 37,
   "metadata": {
    "deletable": false,
    "editable": false,
    "nbgrader": {
     "cell_type": "code",
     "checksum": "816a3d0f48475b7f8e0203d164fd9cc5",
     "grade": true,
     "grade_id": "cell-4944fdeee6a1485f",
     "locked": true,
     "points": 1,
     "schema_version": 3,
     "solution": false
    }
   },
   "outputs": [
    {
     "name": "stdout",
     "output_type": "stream",
     "text": [
      "[1] \"Success!\"\n"
     ]
    }
   ],
   "source": [
    "test_1.6()"
   ]
  },
  {
   "cell_type": "markdown",
   "metadata": {
    "deletable": false,
    "editable": false,
    "nbgrader": {
     "cell_type": "markdown",
     "checksum": "2f1c87339904c25ccae92060170c1379",
     "grade": false,
     "grade_id": "cell-a2b93620a52ffd2b",
     "locked": true,
     "schema_version": 3,
     "solution": false
    }
   },
   "source": [
    "**Question 1.7**\n",
    "<br> {points: 1}\n",
    "\n",
    "Again, calculate the distance between the first and second observation in the breast cancer dataset using 3 explanatory variables/predictors: Symmetry, Radius and Concavity.\n",
    "\n",
    "*Assign your answer to an object called `answer1.7`. Use the scaffolding given to calculate `answer1.5` as a guide.*"
   ]
  },
  {
   "cell_type": "code",
   "execution_count": 40,
   "metadata": {
    "deletable": false,
    "nbgrader": {
     "cell_type": "code",
     "checksum": "8501c8e415fff47f8c1b1fec589e7dd6",
     "grade": false,
     "grade_id": "cell-7cee650ed7204a98",
     "locked": false,
     "schema_version": 3,
     "solution": true
    }
   },
   "outputs": [
    {
     "data": {
      "text/html": [
       "<strong>Symmetry:</strong> 3.74695672005279"
      ],
      "text/latex": [
       "\\textbf{Symmetry:} 3.74695672005279"
      ],
      "text/markdown": [
       "**Symmetry:** 3.74695672005279"
      ],
      "text/plain": [
       "Symmetry \n",
       "3.746957 "
      ]
     },
     "metadata": {},
     "output_type": "display_data"
    }
   ],
   "source": [
    "# your code here\n",
    "answer1.7<-sqrt((xa - xb)^2 + (ya - yb)^2 + (za - zb)^2)\n",
    "answer1.7"
   ]
  },
  {
   "cell_type": "code",
   "execution_count": 41,
   "metadata": {
    "deletable": false,
    "editable": false,
    "nbgrader": {
     "cell_type": "code",
     "checksum": "ef0ef6e397e1ec807cdf619014b55a26",
     "grade": true,
     "grade_id": "cell-e5b8f9dc0531ad16",
     "locked": true,
     "points": 1,
     "schema_version": 3,
     "solution": false
    }
   },
   "outputs": [
    {
     "name": "stdout",
     "output_type": "stream",
     "text": [
      "[1] \"Success!\"\n"
     ]
    }
   ],
   "source": [
    "test_1.7()"
   ]
  },
  {
   "cell_type": "markdown",
   "metadata": {
    "deletable": false,
    "editable": false,
    "nbgrader": {
     "cell_type": "markdown",
     "checksum": "a817d10233c1df28bb03c20da9e0bb86",
     "grade": false,
     "grade_id": "cell-eab0518c6e0ee567",
     "locked": true,
     "schema_version": 3,
     "solution": false
    }
   },
   "source": [
    "**Question 1.8**\n",
    "<br> {points: 1}\n",
    "\n",
    "Let's do this without explicitly making coordinate variables!\n",
    "\n",
    "Create a vector of the coordinates for each point. Name one vector `point_a` and the other vector `point_b`. Within the vector, the order of coordinates should be: `Symmetry`, `Radius`, `Concavity`.\n",
    "\n",
    "Fill in the `...` in the cell below. Copy and paste your finished answer into the `fail()`."
   ]
  },
  {
   "cell_type": "code",
   "execution_count": 42,
   "metadata": {
    "deletable": false,
    "nbgrader": {
     "cell_type": "code",
     "checksum": "e8619960541aacfccb9744a3751b3dc9",
     "grade": false,
     "grade_id": "cell-78df392f18904edd",
     "locked": false,
     "schema_version": 3,
     "solution": true
    }
   },
   "outputs": [
    {
     "data": {
      "text/html": [
       "<dl class=dl-horizontal>\n",
       "\t<dt>Symmetry</dt>\n",
       "\t\t<dd>2.74820411421215</dd>\n",
       "\t<dt>Radius</dt>\n",
       "\t\t<dd>1.88503099661675</dd>\n",
       "\t<dt>Concavity</dt>\n",
       "\t\t<dd>2.10767181755745</dd>\n",
       "</dl>\n"
      ],
      "text/latex": [
       "\\begin{description*}\n",
       "\\item[Symmetry] 2.74820411421215\n",
       "\\item[Radius] 1.88503099661675\n",
       "\\item[Concavity] 2.10767181755745\n",
       "\\end{description*}\n"
      ],
      "text/markdown": [
       "Symmetry\n",
       ":   2.74820411421215Radius\n",
       ":   1.88503099661675Concavity\n",
       ":   2.10767181755745\n",
       "\n"
      ],
      "text/plain": [
       " Symmetry    Radius Concavity \n",
       " 2.748204  1.885031  2.107672 "
      ]
     },
     "metadata": {},
     "output_type": "display_data"
    },
    {
     "data": {
      "text/html": [
       "<dl class=dl-horizontal>\n",
       "\t<dt>Symmetry</dt>\n",
       "\t\t<dd>-0.243675259026272</dd>\n",
       "\t<dt>Radius</dt>\n",
       "\t\t<dd>1.8043398096552</dd>\n",
       "\t<dt>Concavity</dt>\n",
       "\t\t<dd>-0.146619958208497</dd>\n",
       "</dl>\n"
      ],
      "text/latex": [
       "\\begin{description*}\n",
       "\\item[Symmetry] -0.243675259026272\n",
       "\\item[Radius] 1.8043398096552\n",
       "\\item[Concavity] -0.146619958208497\n",
       "\\end{description*}\n"
      ],
      "text/markdown": [
       "Symmetry\n",
       ":   -0.243675259026272Radius\n",
       ":   1.8043398096552Concavity\n",
       ":   -0.146619958208497\n",
       "\n"
      ],
      "text/plain": [
       "  Symmetry     Radius  Concavity \n",
       "-0.2436753  1.8043398 -0.1466200 "
      ]
     },
     "metadata": {},
     "output_type": "display_data"
    }
   ],
   "source": [
    "point_a <- filter(cancer, row_number() == 1) %>%\n",
    "   select(Symmetry, Radius, Concavity) %>%\n",
    "   unlist()\n",
    "point_b <- filter(cancer, row_number() == 2) %>%\n",
    "   select(Symmetry, Radius, Concavity) %>%\n",
    "   unlist()\n",
    "\n",
    "# This is only the scaffolding for one vector (you need to make another one for row number 2)\n",
    "\n",
    "# your code here\n",
    "\n",
    "point_a\n",
    "point_b"
   ]
  },
  {
   "cell_type": "code",
   "execution_count": 43,
   "metadata": {
    "deletable": false,
    "editable": false,
    "nbgrader": {
     "cell_type": "code",
     "checksum": "def525b9f441715e2afb2e7c69963622",
     "grade": true,
     "grade_id": "cell-c20cf45fef3d389b",
     "locked": true,
     "points": 1,
     "schema_version": 3,
     "solution": false
    }
   },
   "outputs": [
    {
     "name": "stdout",
     "output_type": "stream",
     "text": [
      "[1] \"Success!\"\n"
     ]
    }
   ],
   "source": [
    "test_1.8()"
   ]
  },
  {
   "cell_type": "markdown",
   "metadata": {
    "deletable": false,
    "editable": false,
    "nbgrader": {
     "cell_type": "markdown",
     "checksum": "9657013eb8a30bbfb38ae5e37ebc94d9",
     "grade": false,
     "grade_id": "cell-ec907c5f45bf1687",
     "locked": true,
     "schema_version": 3,
     "solution": false
    }
   },
   "source": [
    "**Question 1.9**\n",
    "<br> {points: 1}\n",
    "\n",
    "Calculate the differences between the two vectors, `point_a` and `point_b`. The result should be a vector of length 3 named `difference`."
   ]
  },
  {
   "cell_type": "code",
   "execution_count": 44,
   "metadata": {
    "deletable": false,
    "nbgrader": {
     "cell_type": "code",
     "checksum": "da70b8d3ff57b7edea6d2bb875b23b2d",
     "grade": false,
     "grade_id": "cell-2f04e5c1d7a481a0",
     "locked": false,
     "schema_version": 3,
     "solution": true
    }
   },
   "outputs": [
    {
     "data": {
      "text/html": [
       "<dl class=dl-horizontal>\n",
       "\t<dt>Symmetry</dt>\n",
       "\t\t<dd>2.99187937323842</dd>\n",
       "\t<dt>Radius</dt>\n",
       "\t\t<dd>0.0806911869615501</dd>\n",
       "\t<dt>Concavity</dt>\n",
       "\t\t<dd>2.25429177576595</dd>\n",
       "</dl>\n"
      ],
      "text/latex": [
       "\\begin{description*}\n",
       "\\item[Symmetry] 2.99187937323842\n",
       "\\item[Radius] 0.0806911869615501\n",
       "\\item[Concavity] 2.25429177576595\n",
       "\\end{description*}\n"
      ],
      "text/markdown": [
       "Symmetry\n",
       ":   2.99187937323842Radius\n",
       ":   0.0806911869615501Concavity\n",
       ":   2.25429177576595\n",
       "\n"
      ],
      "text/plain": [
       "  Symmetry     Radius  Concavity \n",
       "2.99187937 0.08069119 2.25429178 "
      ]
     },
     "metadata": {},
     "output_type": "display_data"
    }
   ],
   "source": [
    "# your code here\n",
    "difference <- point_a - point_b\n",
    "difference"
   ]
  },
  {
   "cell_type": "code",
   "execution_count": 45,
   "metadata": {
    "deletable": false,
    "editable": false,
    "nbgrader": {
     "cell_type": "code",
     "checksum": "6b31392c5de7ffa795315a3c505d11f5",
     "grade": true,
     "grade_id": "cell-312573b34d8e38b8",
     "locked": true,
     "points": 1,
     "schema_version": 3,
     "solution": false
    }
   },
   "outputs": [
    {
     "name": "stdout",
     "output_type": "stream",
     "text": [
      "[1] \"Success!\"\n"
     ]
    }
   ],
   "source": [
    "test_1.9()"
   ]
  },
  {
   "cell_type": "markdown",
   "metadata": {
    "deletable": false,
    "editable": false,
    "nbgrader": {
     "cell_type": "markdown",
     "checksum": "f3b79b8610804e5df2c712b5519a546a",
     "grade": false,
     "grade_id": "cell-c5b5b0129c7b8e60",
     "locked": true,
     "schema_version": 3,
     "solution": false
    }
   },
   "source": [
    "**Question 1.10**\n",
    "<br> {points: 1}\n",
    "\n",
    "Square the differences between the two vectors, `point_a` and `point_b`. The result should be a vector of length 3 named `dif_square`. *Hint: `^` is the exponent symbol in R.*"
   ]
  },
  {
   "cell_type": "code",
   "execution_count": 47,
   "metadata": {
    "deletable": false,
    "nbgrader": {
     "cell_type": "code",
     "checksum": "3becacd8964a71611ca273094286b9dc",
     "grade": false,
     "grade_id": "cell-8244086b2edb3999",
     "locked": false,
     "schema_version": 3,
     "solution": true
    }
   },
   "outputs": [
    {
     "data": {
      "text/html": [
       "<dl class=dl-horizontal>\n",
       "\t<dt>Symmetry</dt>\n",
       "\t\t<dd>8.95134218400953</dd>\n",
       "\t<dt>Radius</dt>\n",
       "\t\t<dd>0.00651106765326383</dd>\n",
       "\t<dt>Concavity</dt>\n",
       "\t\t<dd>5.08183141028599</dd>\n",
       "</dl>\n"
      ],
      "text/latex": [
       "\\begin{description*}\n",
       "\\item[Symmetry] 8.95134218400953\n",
       "\\item[Radius] 0.00651106765326383\n",
       "\\item[Concavity] 5.08183141028599\n",
       "\\end{description*}\n"
      ],
      "text/markdown": [
       "Symmetry\n",
       ":   8.95134218400953Radius\n",
       ":   0.00651106765326383Concavity\n",
       ":   5.08183141028599\n",
       "\n"
      ],
      "text/plain": [
       "   Symmetry      Radius   Concavity \n",
       "8.951342184 0.006511068 5.081831410 "
      ]
     },
     "metadata": {},
     "output_type": "display_data"
    }
   ],
   "source": [
    "# your code here\n",
    "dif_square <- difference^2\n",
    "dif_square"
   ]
  },
  {
   "cell_type": "code",
   "execution_count": null,
   "metadata": {
    "deletable": false,
    "editable": false,
    "nbgrader": {
     "cell_type": "code",
     "checksum": "34251e2df3f3a6af353b8f16801c7b2b",
     "grade": true,
     "grade_id": "cell-fb099b82bbaac1f5",
     "locked": true,
     "points": 1,
     "schema_version": 3,
     "solution": false
    }
   },
   "outputs": [],
   "source": [
    "test_1.10()"
   ]
  },
  {
   "cell_type": "markdown",
   "metadata": {
    "deletable": false,
    "editable": false,
    "nbgrader": {
     "cell_type": "markdown",
     "checksum": "70e2c50b731c43c07a1018c31bfc963a",
     "grade": false,
     "grade_id": "cell-2f2f6160dfde75a1",
     "locked": true,
     "schema_version": 3,
     "solution": false
    }
   },
   "source": [
    "**Question 1.10.1**\n",
    "<br> {points: 1}\n",
    "\n",
    "Sum the squared differences between the two vectors, `point_a` and `point_b`. The result should be a double named `dif_sum`. \n",
    "\n",
    "*Hint: the `sum` function in R returns the sum of the elements of a vector*"
   ]
  },
  {
   "cell_type": "code",
   "execution_count": 48,
   "metadata": {
    "deletable": false,
    "nbgrader": {
     "cell_type": "code",
     "checksum": "22bf6afd3fe32449d67c4dd683795166",
     "grade": false,
     "grade_id": "cell-86ab5cef9257a578",
     "locked": false,
     "schema_version": 3,
     "solution": true
    }
   },
   "outputs": [
    {
     "data": {
      "text/html": [
       "14.0396846619488"
      ],
      "text/latex": [
       "14.0396846619488"
      ],
      "text/markdown": [
       "14.0396846619488"
      ],
      "text/plain": [
       "[1] 14.03968"
      ]
     },
     "metadata": {},
     "output_type": "display_data"
    }
   ],
   "source": [
    "# your code here\n",
    "dif_sum <- sum(dif_square)\n",
    "dif_sum "
   ]
  },
  {
   "cell_type": "code",
   "execution_count": 49,
   "metadata": {
    "deletable": false,
    "editable": false,
    "nbgrader": {
     "cell_type": "code",
     "checksum": "4bb59a0cef443effef550dd1e823fd12",
     "grade": true,
     "grade_id": "cell-629beff90c931f51",
     "locked": true,
     "points": 1,
     "schema_version": 3,
     "solution": false
    }
   },
   "outputs": [
    {
     "name": "stdout",
     "output_type": "stream",
     "text": [
      "[1] \"Success!\"\n"
     ]
    }
   ],
   "source": [
    "test_1.10.1()"
   ]
  },
  {
   "cell_type": "markdown",
   "metadata": {
    "deletable": false,
    "editable": false,
    "nbgrader": {
     "cell_type": "markdown",
     "checksum": "a9359da5143fe9b9367ac6cfcbbd7c32",
     "grade": false,
     "grade_id": "cell-7e182c22fa4eec69",
     "locked": true,
     "schema_version": 3,
     "solution": false
    }
   },
   "source": [
    "**Question 1.10.2**\n",
    "<br> {points: 1}\n",
    "\n",
    "Square root the sum of your squared differences. The result should be a double named `root_dif_sum`. "
   ]
  },
  {
   "cell_type": "code",
   "execution_count": 50,
   "metadata": {
    "deletable": false,
    "nbgrader": {
     "cell_type": "code",
     "checksum": "0b3f037f192d914942a825c227e0cc4d",
     "grade": false,
     "grade_id": "cell-660055c1546fc78c",
     "locked": false,
     "schema_version": 3,
     "solution": true
    }
   },
   "outputs": [
    {
     "data": {
      "text/html": [
       "3.74695672005279"
      ],
      "text/latex": [
       "3.74695672005279"
      ],
      "text/markdown": [
       "3.74695672005279"
      ],
      "text/plain": [
       "[1] 3.746957"
      ]
     },
     "metadata": {},
     "output_type": "display_data"
    }
   ],
   "source": [
    "# your code here\n",
    "root_dif_sum <- sqrt(dif_sum)\n",
    "root_dif_sum"
   ]
  },
  {
   "cell_type": "code",
   "execution_count": 51,
   "metadata": {
    "deletable": false,
    "editable": false,
    "nbgrader": {
     "cell_type": "code",
     "checksum": "20d14c7866778ef5ff248cbe7fc8aaae",
     "grade": true,
     "grade_id": "cell-d144868a6cbc8b3f",
     "locked": true,
     "points": 1,
     "schema_version": 3,
     "solution": false
    }
   },
   "outputs": [
    {
     "name": "stdout",
     "output_type": "stream",
     "text": [
      "[1] \"Success!\"\n"
     ]
    }
   ],
   "source": [
    "test_1.10.2()"
   ]
  },
  {
   "cell_type": "markdown",
   "metadata": {
    "deletable": false,
    "editable": false,
    "nbgrader": {
     "cell_type": "markdown",
     "checksum": "caa0aca2b09f4b229455f1954086fb3e",
     "grade": false,
     "grade_id": "cell-fe94f79e97960c76",
     "locked": true,
     "schema_version": 3,
     "solution": false
    }
   },
   "source": [
    "**Question 1.10.3**\n",
    "<br> {points: 1}\n",
    "\n",
    "If we have more than a few points, calculating distances as we did in the previous questions is VERY slow. Let's use the `dist()` function to find the distance between the first and second observation in the breast cancer dataset using Symmetry, Radius and Concavity. \n",
    "\n",
    "Fill in the `...` in the cell below. Copy and paste your finished answer into the `fail()`.\n",
    "\n",
    "*Assign your answer to an object called `dist_cancer_two_rows`.*"
   ]
  },
  {
   "cell_type": "code",
   "execution_count": 66,
   "metadata": {
    "deletable": false,
    "nbgrader": {
     "cell_type": "code",
     "checksum": "4b2247d16fdd262dbfb54d1eac67e530",
     "grade": false,
     "grade_id": "cell-49a6780a9752e7d0",
     "locked": false,
     "schema_version": 3,
     "solution": true
    }
   },
   "outputs": [
    {
     "data": {
      "text/plain": [
       "         1\n",
       "2 3.746957"
      ]
     },
     "metadata": {},
     "output_type": "display_data"
    }
   ],
   "source": [
    "dist_cancer_two_rows <- head(cancer, 2)  %>% \n",
    "   select(Symmetry, Radius, Concavity)  %>% \n",
    "   dist()\n",
    "\n",
    "# your code here\n",
    "dist_cancer_two_rows"
   ]
  },
  {
   "cell_type": "code",
   "execution_count": 53,
   "metadata": {
    "deletable": false,
    "editable": false,
    "nbgrader": {
     "cell_type": "code",
     "checksum": "bb5eeda4d49b06b4fbce346e15fcea2b",
     "grade": true,
     "grade_id": "cell-657a6cc18a3bf8ce",
     "locked": true,
     "points": 1,
     "schema_version": 3,
     "solution": false
    }
   },
   "outputs": [
    {
     "name": "stdout",
     "output_type": "stream",
     "text": [
      "[1] \"Success!\"\n"
     ]
    }
   ],
   "source": [
    "test_1.10.3()"
   ]
  },
  {
   "cell_type": "markdown",
   "metadata": {
    "deletable": false,
    "editable": false,
    "nbgrader": {
     "cell_type": "markdown",
     "checksum": "192c73e8cc3c0e77ed6c8509509efbfa",
     "grade": false,
     "grade_id": "cell-d2b6719023a2ec78",
     "locked": true,
     "schema_version": 3,
     "solution": false
    }
   },
   "source": [
    "**Question 1.10.4** True or False: \n",
    "<br> {points: 1}\n",
    "\n",
    "Compare `answer1.7`, `root_dif_sum`, and `dist_cancer_two_rows`. \n",
    "\n",
    "**Are they all the same value?** \n",
    "\n",
    "*Assign your answer (either \"true\" or \"false\") to an object called `answer1.10.4`*"
   ]
  },
  {
   "cell_type": "code",
   "execution_count": 64,
   "metadata": {
    "deletable": false,
    "nbgrader": {
     "cell_type": "code",
     "checksum": "996a9d4e4d4c1d2f269f5fa95d9dec77",
     "grade": false,
     "grade_id": "cell-083ba5d559495244",
     "locked": false,
     "schema_version": 3,
     "solution": true
    }
   },
   "outputs": [],
   "source": [
    "# Make sure the correct answer is written in lower-case (true / false)\n",
    "# Surround your answer with quotation marks.\n",
    "# Replace the fail() with your answer. \n",
    "\n",
    "# your code here\n",
    "answer1.10.4<-'true'"
   ]
  },
  {
   "cell_type": "code",
   "execution_count": 65,
   "metadata": {
    "deletable": false,
    "editable": false,
    "nbgrader": {
     "cell_type": "code",
     "checksum": "62c1fd36d038e7c9afe6018f189c675a",
     "grade": true,
     "grade_id": "cell-15ea031e7e016f14",
     "locked": true,
     "points": 1,
     "schema_version": 3,
     "solution": false
    }
   },
   "outputs": [
    {
     "name": "stdout",
     "output_type": "stream",
     "text": [
      "[1] \"Success!\"\n"
     ]
    }
   ],
   "source": [
    "test_1.10.4()"
   ]
  },
  {
   "cell_type": "markdown",
   "metadata": {
    "deletable": false,
    "editable": false,
    "nbgrader": {
     "cell_type": "markdown",
     "checksum": "66378404f54dc5dac245db54868e854d",
     "grade": false,
     "grade_id": "cell-098264eb921f8d92",
     "locked": true,
     "schema_version": 3,
     "solution": false
    }
   },
   "source": [
    "## 2. Classification - A Simple Example Done Manually\n",
    "\n",
    "**Question 2.0.0**\n",
    "<br> {points: 1}\n",
    "\n",
    "Let's take a random sample of 5 observations from the breast cancer dataset using the `sample_n` function. To make this random sample reproducible, we will use `set.seed(2)`. This means that the random number generator will start at the same point each time when we run the code and we will always get back the same random samples. \n",
    "\n",
    "We will focus on the predictors Symmetry and Radius only. Thus, we will need to select the columns `Symmetry` and `Radius` and `Class`. Save these 5 rows and 3 columns to a data frame named `small_sample`.\n",
    "\n",
    "Fill in the `...` in the scaffolding provided below."
   ]
  },
  {
   "cell_type": "code",
   "execution_count": 86,
   "metadata": {
    "deletable": false,
    "nbgrader": {
     "cell_type": "code",
     "checksum": "1310d480de63ae3f26cb9da16b499c4d",
     "grade": false,
     "grade_id": "cell-42f7c13ee9d9b055",
     "locked": false,
     "schema_version": 3,
     "solution": true,
     "task": false
    }
   },
   "outputs": [
    {
     "data": {
      "text/html": [
       "<table>\n",
       "<caption>A spec_tbl_df: 5 × 3</caption>\n",
       "<thead>\n",
       "\t<tr><th scope=col>Symmetry</th><th scope=col>Radius</th><th scope=col>Class</th></tr>\n",
       "\t<tr><th scope=col>&lt;dbl&gt;</th><th scope=col>&lt;dbl&gt;</th><th scope=col>&lt;chr&gt;</th></tr>\n",
       "</thead>\n",
       "<tbody>\n",
       "\t<tr><td> 0.28164122</td><td>-0.6660519</td><td>B</td></tr>\n",
       "\t<tr><td>-0.73666457</td><td>-1.2619253</td><td>B</td></tr>\n",
       "\t<tr><td>-0.10951751</td><td> 2.4664213</td><td>M</td></tr>\n",
       "\t<tr><td>-0.08042306</td><td>-0.7777782</td><td>B</td></tr>\n",
       "\t<tr><td> 2.47503955</td><td> 0.6063860</td><td>M</td></tr>\n",
       "</tbody>\n",
       "</table>\n"
      ],
      "text/latex": [
       "A spec_tbl_df: 5 × 3\n",
       "\\begin{tabular}{r|lll}\n",
       " Symmetry & Radius & Class\\\\\n",
       " <dbl> & <dbl> & <chr>\\\\\n",
       "\\hline\n",
       "\t  0.28164122 & -0.6660519 & B\\\\\n",
       "\t -0.73666457 & -1.2619253 & B\\\\\n",
       "\t -0.10951751 &  2.4664213 & M\\\\\n",
       "\t -0.08042306 & -0.7777782 & B\\\\\n",
       "\t  2.47503955 &  0.6063860 & M\\\\\n",
       "\\end{tabular}\n"
      ],
      "text/markdown": [
       "\n",
       "A spec_tbl_df: 5 × 3\n",
       "\n",
       "| Symmetry &lt;dbl&gt; | Radius &lt;dbl&gt; | Class &lt;chr&gt; |\n",
       "|---|---|---|\n",
       "|  0.28164122 | -0.6660519 | B |\n",
       "| -0.73666457 | -1.2619253 | B |\n",
       "| -0.10951751 |  2.4664213 | M |\n",
       "| -0.08042306 | -0.7777782 | B |\n",
       "|  2.47503955 |  0.6063860 | M |\n",
       "\n"
      ],
      "text/plain": [
       "  Symmetry    Radius     Class\n",
       "1  0.28164122 -0.6660519 B    \n",
       "2 -0.73666457 -1.2619253 B    \n",
       "3 -0.10951751  2.4664213 M    \n",
       "4 -0.08042306 -0.7777782 B    \n",
       "5  2.47503955  0.6063860 M    "
      ]
     },
     "metadata": {},
     "output_type": "display_data"
    }
   ],
   "source": [
    "set.seed(2)                           \n",
    "small_sample <- sample_n(cancer, 5) %>%  \n",
    "   select(Symmetry, Radius, Class) \n",
    "\n",
    "# your code here\n",
    "small_sample"
   ]
  },
  {
   "cell_type": "code",
   "execution_count": 87,
   "metadata": {
    "deletable": false,
    "editable": false,
    "nbgrader": {
     "cell_type": "code",
     "checksum": "4cd7adaefc8a7ab8ee2d963d769c9b33",
     "grade": true,
     "grade_id": "cell-48197ca917cfaeb9",
     "locked": true,
     "points": 1,
     "schema_version": 3,
     "solution": false,
     "task": false
    }
   },
   "outputs": [
    {
     "name": "stdout",
     "output_type": "stream",
     "text": [
      "[1] \"Success!\"\n"
     ]
    }
   ],
   "source": [
    "test_2.0.0()"
   ]
  },
  {
   "cell_type": "markdown",
   "metadata": {
    "deletable": false,
    "editable": false,
    "nbgrader": {
     "cell_type": "markdown",
     "checksum": "49968cf6498131a92aaba7def786320f",
     "grade": false,
     "grade_id": "cell-d85472a31a22f709",
     "locked": true,
     "schema_version": 3,
     "solution": false,
     "task": false
    }
   },
   "source": [
    "**Question 2.0.1**\n",
    "<br> {points: 1}\n",
    "Finally, create a scatter plot where `Symmetry` is on the x-axis, and `Radius` is on the y-axis. Color the points by `Class`. Name your plot `small_sample_plot`\n",
    "\n",
    "Fill in the `...` in the scaffolding provided below."
   ]
  },
  {
   "cell_type": "code",
   "execution_count": 88,
   "metadata": {
    "deletable": false,
    "nbgrader": {
     "cell_type": "code",
     "checksum": "f0c4896af71b8442111876943687773a",
     "grade": false,
     "grade_id": "cell-7b3aa8c412086b6a",
     "locked": false,
     "schema_version": 3,
     "solution": true
    }
   },
   "outputs": [
    {
     "data": {
      "image/png": "[encoded data removed]",
      "text/plain": [
       "plot without title"
      ]
     },
     "metadata": {},
     "output_type": "display_data"
    }
   ],
   "source": [
    "options(repr.plot.width=4,repr.plot.height=3)\n",
    "small_sample_plot <- small_sample %>%   \n",
    "   ggplot(aes(x=Symmetry,y=Radius,color=Class)) + \n",
    "       geom_point() +\n",
    "       labs(x=\"Symmetry\",y=\"Radius\",color=\"Class\")\n",
    "\n",
    "# your code here\n",
    "\n",
    "small_sample_plot"
   ]
  },
  {
   "cell_type": "code",
   "execution_count": 89,
   "metadata": {
    "deletable": false,
    "editable": false,
    "nbgrader": {
     "cell_type": "code",
     "checksum": "2130cb22c9cfe13b0c104748c04795c0",
     "grade": true,
     "grade_id": "cell-c224b6ae53340848",
     "locked": true,
     "points": 1,
     "schema_version": 3,
     "solution": false
    }
   },
   "outputs": [
    {
     "name": "stdout",
     "output_type": "stream",
     "text": [
      "[1] \"Success!\"\n"
     ]
    }
   ],
   "source": [
    "test_2.0.1()"
   ]
  },
  {
   "cell_type": "markdown",
   "metadata": {
    "deletable": false,
    "editable": false,
    "nbgrader": {
     "cell_type": "markdown",
     "checksum": "2058cf68ef8575798c72c2b89adb909d",
     "grade": false,
     "grade_id": "cell-ea9b69d1eb8ef76c",
     "locked": true,
     "schema_version": 3,
     "solution": false
    }
   },
   "source": [
    "**Question 2.1** \n",
    "<br> {points: 1}\n",
    "\n",
    "Suppose we are interested in classifying a new observation with `Symmetry = 0` and `Radius = 0.25`, but unknown `Class`. Using the `small_sample` data frame, add another row with `Symmetry = 0`, `Radius = 0.25`, and `Class = \"unknown\"`.\n",
    "\n",
    "Fill in the `...` in the scaffolding provided below.\n",
    "\n",
    "*Assign your answer to an object called `newData`.*"
   ]
  },
  {
   "cell_type": "code",
   "execution_count": 92,
   "metadata": {
    "deletable": false,
    "nbgrader": {
     "cell_type": "code",
     "checksum": "780d77bb2fee4d27736d405f004fb9d9",
     "grade": false,
     "grade_id": "cell-96047e4736208b46",
     "locked": false,
     "schema_version": 3,
     "solution": true
    }
   },
   "outputs": [
    {
     "data": {
      "text/html": [
       "<table>\n",
       "<caption>A spec_tbl_df: 6 × 3</caption>\n",
       "<thead>\n",
       "\t<tr><th scope=col>Symmetry</th><th scope=col>Radius</th><th scope=col>Class</th></tr>\n",
       "\t<tr><th scope=col>&lt;dbl&gt;</th><th scope=col>&lt;dbl&gt;</th><th scope=col>&lt;chr&gt;</th></tr>\n",
       "</thead>\n",
       "<tbody>\n",
       "\t<tr><td> 0.28164122</td><td>-0.6660519</td><td>B      </td></tr>\n",
       "\t<tr><td>-0.73666457</td><td>-1.2619253</td><td>B      </td></tr>\n",
       "\t<tr><td>-0.10951751</td><td> 2.4664213</td><td>M      </td></tr>\n",
       "\t<tr><td>-0.08042306</td><td>-0.7777782</td><td>B      </td></tr>\n",
       "\t<tr><td> 2.47503955</td><td> 0.6063860</td><td>M      </td></tr>\n",
       "\t<tr><td> 0.00000000</td><td> 0.2500000</td><td>unknown</td></tr>\n",
       "</tbody>\n",
       "</table>\n"
      ],
      "text/latex": [
       "A spec_tbl_df: 6 × 3\n",
       "\\begin{tabular}{r|lll}\n",
       " Symmetry & Radius & Class\\\\\n",
       " <dbl> & <dbl> & <chr>\\\\\n",
       "\\hline\n",
       "\t  0.28164122 & -0.6660519 & B      \\\\\n",
       "\t -0.73666457 & -1.2619253 & B      \\\\\n",
       "\t -0.10951751 &  2.4664213 & M      \\\\\n",
       "\t -0.08042306 & -0.7777782 & B      \\\\\n",
       "\t  2.47503955 &  0.6063860 & M      \\\\\n",
       "\t  0.00000000 &  0.2500000 & unknown\\\\\n",
       "\\end{tabular}\n"
      ],
      "text/markdown": [
       "\n",
       "A spec_tbl_df: 6 × 3\n",
       "\n",
       "| Symmetry &lt;dbl&gt; | Radius &lt;dbl&gt; | Class &lt;chr&gt; |\n",
       "|---|---|---|\n",
       "|  0.28164122 | -0.6660519 | B       |\n",
       "| -0.73666457 | -1.2619253 | B       |\n",
       "| -0.10951751 |  2.4664213 | M       |\n",
       "| -0.08042306 | -0.7777782 | B       |\n",
       "|  2.47503955 |  0.6063860 | M       |\n",
       "|  0.00000000 |  0.2500000 | unknown |\n",
       "\n"
      ],
      "text/plain": [
       "  Symmetry    Radius     Class  \n",
       "1  0.28164122 -0.6660519 B      \n",
       "2 -0.73666457 -1.2619253 B      \n",
       "3 -0.10951751  2.4664213 M      \n",
       "4 -0.08042306 -0.7777782 B      \n",
       "5  2.47503955  0.6063860 M      \n",
       "6  0.00000000  0.2500000 unknown"
      ]
     },
     "metadata": {},
     "output_type": "display_data"
    }
   ],
   "source": [
    "newData <- small_sample %>%\n",
    "   add_row(Symmetry = 0, Radius = 0.25, Class = \"unknown\")\n",
    "\n",
    "# your code here\n",
    "\n",
    "newData"
   ]
  },
  {
   "cell_type": "code",
   "execution_count": 93,
   "metadata": {
    "deletable": false,
    "editable": false,
    "nbgrader": {
     "cell_type": "code",
     "checksum": "172c1af3e9de0e0cd02ecd8d797ae581",
     "grade": true,
     "grade_id": "cell-136ec7a4a7af2698",
     "locked": true,
     "points": 1,
     "schema_version": 3,
     "solution": false
    }
   },
   "outputs": [
    {
     "name": "stdout",
     "output_type": "stream",
     "text": [
      "[1] \"Success!\"\n"
     ]
    }
   ],
   "source": [
    "test_2.1()"
   ]
  },
  {
   "cell_type": "markdown",
   "metadata": {
    "deletable": false,
    "editable": false,
    "nbgrader": {
     "cell_type": "markdown",
     "checksum": "0d3fe2ac11c97a99e8aa8891da1d9026",
     "grade": false,
     "grade_id": "cell-0c2e46a6b87bc2f2",
     "locked": true,
     "schema_version": 3,
     "solution": false
    }
   },
   "source": [
    "**Question 2.2**\n",
    "<br> {points: 1}\n",
    "\n",
    "Compute the distance between each pair of the 6 observations in the `newData` dataframe using the `dist()` function based on two variables: `Symmetry` and `Radius`. Fill in the `...` in the scaffolding provided below.\n",
    "\n",
    "\n",
    "*Assign your answer to an object called `dist_matrix`.*"
   ]
  },
  {
   "cell_type": "code",
   "execution_count": 100,
   "metadata": {
    "deletable": false,
    "nbgrader": {
     "cell_type": "code",
     "checksum": "6fabff26180af71ad7d037893d4fbe36",
     "grade": false,
     "grade_id": "cell-e08fcfbf45d4e190",
     "locked": false,
     "schema_version": 3,
     "solution": true
    }
   },
   "outputs": [
    {
     "data": {
      "text/html": [
       "<table>\n",
       "<caption>A matrix: 6 × 6 of type dbl</caption>\n",
       "<thead>\n",
       "\t<tr><th scope=col>1</th><th scope=col>2</th><th scope=col>3</th><th scope=col>4</th><th scope=col>5</th><th scope=col>6</th></tr>\n",
       "</thead>\n",
       "<tbody>\n",
       "\t<tr><td>0.0000000</td><td>1.1798355</td><td>3.156801</td><td>0.3789107</td><td>2.535763</td><td>0.9583699</td></tr>\n",
       "\t<tr><td>1.1798355</td><td>0.0000000</td><td>3.780725</td><td>0.8155068</td><td>3.715593</td><td>1.6818421</td></tr>\n",
       "\t<tr><td>3.1568012</td><td>3.7807251</td><td>0.000000</td><td>3.2443300</td><td>3.184284</td><td>2.2191254</td></tr>\n",
       "\t<tr><td>0.3789107</td><td>0.8155068</td><td>3.244330</td><td>0.0000000</td><td>2.906252</td><td>1.0309199</td></tr>\n",
       "\t<tr><td>2.5357631</td><td>3.7155929</td><td>3.184284</td><td>2.9062518</td><td>0.000000</td><td>2.5005663</td></tr>\n",
       "\t<tr><td>0.9583699</td><td>1.6818421</td><td>2.219125</td><td>1.0309199</td><td>2.500566</td><td>0.0000000</td></tr>\n",
       "</tbody>\n",
       "</table>\n"
      ],
      "text/latex": [
       "A matrix: 6 × 6 of type dbl\n",
       "\\begin{tabular}{r|llllll}\n",
       " 1 & 2 & 3 & 4 & 5 & 6\\\\\n",
       "\\hline\n",
       "\t 0.0000000 & 1.1798355 & 3.156801 & 0.3789107 & 2.535763 & 0.9583699\\\\\n",
       "\t 1.1798355 & 0.0000000 & 3.780725 & 0.8155068 & 3.715593 & 1.6818421\\\\\n",
       "\t 3.1568012 & 3.7807251 & 0.000000 & 3.2443300 & 3.184284 & 2.2191254\\\\\n",
       "\t 0.3789107 & 0.8155068 & 3.244330 & 0.0000000 & 2.906252 & 1.0309199\\\\\n",
       "\t 2.5357631 & 3.7155929 & 3.184284 & 2.9062518 & 0.000000 & 2.5005663\\\\\n",
       "\t 0.9583699 & 1.6818421 & 2.219125 & 1.0309199 & 2.500566 & 0.0000000\\\\\n",
       "\\end{tabular}\n"
      ],
      "text/markdown": [
       "\n",
       "A matrix: 6 × 6 of type dbl\n",
       "\n",
       "| 1 | 2 | 3 | 4 | 5 | 6 |\n",
       "|---|---|---|---|---|---|\n",
       "| 0.0000000 | 1.1798355 | 3.156801 | 0.3789107 | 2.535763 | 0.9583699 |\n",
       "| 1.1798355 | 0.0000000 | 3.780725 | 0.8155068 | 3.715593 | 1.6818421 |\n",
       "| 3.1568012 | 3.7807251 | 0.000000 | 3.2443300 | 3.184284 | 2.2191254 |\n",
       "| 0.3789107 | 0.8155068 | 3.244330 | 0.0000000 | 2.906252 | 1.0309199 |\n",
       "| 2.5357631 | 3.7155929 | 3.184284 | 2.9062518 | 0.000000 | 2.5005663 |\n",
       "| 0.9583699 | 1.6818421 | 2.219125 | 1.0309199 | 2.500566 | 0.0000000 |\n",
       "\n"
      ],
      "text/plain": [
       "  1         2         3        4         5        6        \n",
       "1 0.0000000 1.1798355 3.156801 0.3789107 2.535763 0.9583699\n",
       "2 1.1798355 0.0000000 3.780725 0.8155068 3.715593 1.6818421\n",
       "3 3.1568012 3.7807251 0.000000 3.2443300 3.184284 2.2191254\n",
       "4 0.3789107 0.8155068 3.244330 0.0000000 2.906252 1.0309199\n",
       "5 2.5357631 3.7155929 3.184284 2.9062518 0.000000 2.5005663\n",
       "6 0.9583699 1.6818421 2.219125 1.0309199 2.500566 0.0000000"
      ]
     },
     "metadata": {},
     "output_type": "display_data"
    }
   ],
   "source": [
    "# Select the Symmetry and Radius variables\n",
    "# Calculate distance between all pairs of observations.\n",
    "# Store it as a 6 x 6 matrix called dist_matrix\n",
    "\n",
    "dist_matrix <- newData %>%\n",
    "   select(Symmetry, Radius) %>% \n",
    "   dist()  %>%                   \n",
    "   as.matrix()\n",
    "\n",
    "# your code here\n",
    "\n",
    "dist_matrix"
   ]
  },
  {
   "cell_type": "code",
   "execution_count": 98,
   "metadata": {
    "deletable": false,
    "editable": false,
    "nbgrader": {
     "cell_type": "code",
     "checksum": "3bf9b955bfaaf417e44e1bb7ad8a1fd6",
     "grade": true,
     "grade_id": "cell-a8cd3d77bfcea0b0",
     "locked": true,
     "points": 1,
     "schema_version": 3,
     "solution": false
    }
   },
   "outputs": [
    {
     "name": "stdout",
     "output_type": "stream",
     "text": [
      "[1] \"Success!\"\n"
     ]
    }
   ],
   "source": [
    "test_2.2()"
   ]
  },
  {
   "cell_type": "markdown",
   "metadata": {
    "deletable": false,
    "editable": false,
    "nbgrader": {
     "cell_type": "markdown",
     "checksum": "313ce520a98697e64cc036101ded00d5",
     "grade": false,
     "grade_id": "cell-aba0edb4c4788627",
     "locked": true,
     "schema_version": 3,
     "solution": false
    }
   },
   "source": [
    "**Question 2.3** Multiple Choice:\n",
    "<br> {points: 1}\n",
    "\n",
    "In the table above, the row and column numbers reflect the row number from the data frame the `dist` function was applied to. Thus numbers 1 - 5 were the points/observations from rows 1 - 5 in the `small_sample` data frame. Row 6 was the new observation that we do not know the diagnosis class for.  The values in `dist_matrix` are the distances between the points of the row and column number. For example, the distance between the point 2 and point 4 is 0.8155068. And the distance between point 3 and point 3 (the same point) is 0.\n",
    "\n",
    "**Which observation is the nearest to our new point?**\n",
    "\n",
    "*Assign your answer to an object called `answer2.3`.*"
   ]
  },
  {
   "cell_type": "code",
   "execution_count": 101,
   "metadata": {
    "deletable": false,
    "nbgrader": {
     "cell_type": "code",
     "checksum": "87a0fb0ad31af82b3c75673eaf7a9e4a",
     "grade": false,
     "grade_id": "cell-bdbdb888f697f310",
     "locked": false,
     "schema_version": 3,
     "solution": true
    }
   },
   "outputs": [],
   "source": [
    "# Make sure the correct answer is a number\n",
    "# Surround your answer with quotation marks (e.g. \"8\")\n",
    "# Replace the fail() with your answer. \n",
    "\n",
    "# your code here\n",
    "answer2.3<-\"1\""
   ]
  },
  {
   "cell_type": "code",
   "execution_count": 102,
   "metadata": {
    "deletable": false,
    "editable": false,
    "nbgrader": {
     "cell_type": "code",
     "checksum": "c2bfac11d9d1b5449722831109f9f8b5",
     "grade": true,
     "grade_id": "cell-371a2959d06316e2",
     "locked": true,
     "points": 1,
     "schema_version": 3,
     "solution": false
    }
   },
   "outputs": [
    {
     "name": "stdout",
     "output_type": "stream",
     "text": [
      "[1] \"Success!\"\n"
     ]
    }
   ],
   "source": [
    "test_2.3()"
   ]
  },
  {
   "cell_type": "markdown",
   "metadata": {
    "deletable": false,
    "editable": false,
    "nbgrader": {
     "cell_type": "markdown",
     "checksum": "92d3547cff8a6fece8f8db86747f3dc8",
     "grade": false,
     "grade_id": "cell-d2210381e32e3b13",
     "locked": true,
     "schema_version": 3,
     "solution": false
    }
   },
   "source": [
    "**Question 2.4** Multiple Choice: \n",
    "<br> {points: 1}\n",
    "\n",
    "Use the K-nearest neighbour classification algorithm with K = 1 to classify the new observation using your answers to **Questions 2.2 & 2.3**. Is the new data point predicted to be benign or malignant?\n",
    "\n",
    "*Assign your answer to an object called `answer2.4`.*"
   ]
  },
  {
   "cell_type": "code",
   "execution_count": 103,
   "metadata": {
    "deletable": false,
    "nbgrader": {
     "cell_type": "code",
     "checksum": "36939a8a44d5080a98414ea8a267f1fa",
     "grade": false,
     "grade_id": "cell-22366d4a160c0c16",
     "locked": false,
     "schema_version": 3,
     "solution": true
    }
   },
   "outputs": [],
   "source": [
    "# Make sure the correct answer is written fully (\"Benign\" / \"Malignant\")\n",
    "# Surround your answer with quotation marks.\n",
    "# Replace the fail() with your answer. \n",
    "\n",
    "# your code here\n",
    "answer2.4<-\"Benign\""
   ]
  },
  {
   "cell_type": "code",
   "execution_count": 104,
   "metadata": {
    "deletable": false,
    "editable": false,
    "nbgrader": {
     "cell_type": "code",
     "checksum": "a18827af1417483509d5b48f65f643be",
     "grade": true,
     "grade_id": "cell-bf715d3502c96d7e",
     "locked": true,
     "points": 1,
     "schema_version": 3,
     "solution": false
    }
   },
   "outputs": [
    {
     "name": "stdout",
     "output_type": "stream",
     "text": [
      "[1] \"Success!\"\n"
     ]
    }
   ],
   "source": [
    "test_2.4()"
   ]
  },
  {
   "cell_type": "markdown",
   "metadata": {
    "deletable": false,
    "editable": false,
    "nbgrader": {
     "cell_type": "markdown",
     "checksum": "59062a745c5132d3e2058bbb27991aff",
     "grade": false,
     "grade_id": "cell-066b94daf2bb2b53",
     "locked": true,
     "schema_version": 3,
     "solution": false
    }
   },
   "source": [
    "**Question 2.5** Multiple Choice:\n",
    "<br> {points: 1}\n",
    "\n",
    "Using your answers to **Questions 2.2 & 2.3**, what are the three closest observations to your new point?\n",
    "\n",
    "A. 1, 3, 2\n",
    "\n",
    "B. 1, 4, 2\n",
    "\n",
    "C. 5, 2, 4\n",
    "\n",
    "D. 3, 4, 2\n",
    "\n",
    "*Assign your answer to an object called `answer2.5`.*"
   ]
  },
  {
   "cell_type": "code",
   "execution_count": 106,
   "metadata": {
    "deletable": false,
    "nbgrader": {
     "cell_type": "code",
     "checksum": "04a9c23d553af629030994c7659388d4",
     "grade": false,
     "grade_id": "cell-559773dc29d9781f",
     "locked": false,
     "schema_version": 3,
     "solution": true
    }
   },
   "outputs": [],
   "source": [
    "# Make sure the correct answer is an uppercase letter. \n",
    "# Surround your answer with quotation marks (e.g. \"F\")\n",
    "# Replace the fail() with your answer. \n",
    "\n",
    "# your code here\n",
    "answer2.5<-'B'"
   ]
  },
  {
   "cell_type": "code",
   "execution_count": 107,
   "metadata": {
    "deletable": false,
    "editable": false,
    "nbgrader": {
     "cell_type": "code",
     "checksum": "48325525ddd3bcc61c9e5bf5ad222cb0",
     "grade": true,
     "grade_id": "cell-377f6fc0e8af55a9",
     "locked": true,
     "points": 1,
     "schema_version": 3,
     "solution": false
    }
   },
   "outputs": [
    {
     "name": "stdout",
     "output_type": "stream",
     "text": [
      "[1] \"Success!\"\n"
     ]
    }
   ],
   "source": [
    "test_2.5()"
   ]
  },
  {
   "cell_type": "markdown",
   "metadata": {
    "deletable": false,
    "editable": false,
    "nbgrader": {
     "cell_type": "markdown",
     "checksum": "4749629b724ac4044ab5e3a5117cb2ce",
     "grade": false,
     "grade_id": "cell-bf7fd236053daada",
     "locked": true,
     "schema_version": 3,
     "solution": false
    }
   },
   "source": [
    "**Question 2.6** Multiple Choice: \n",
    "<br> {points: 1}\n",
    "\n",
    "We will now use the K-nearest neighbour classification algorithm with K = 3 to classify the new observation using your answers to **Questions 2.2 & 2.3**. Is the new data point predicted to be benign or malignant?\n",
    "\n",
    "*Assign your answer to an object called `answer2.6`.*"
   ]
  },
  {
   "cell_type": "code",
   "execution_count": 108,
   "metadata": {
    "deletable": false,
    "nbgrader": {
     "cell_type": "code",
     "checksum": "6549283d6766ca4b85ee59d7d3544963",
     "grade": false,
     "grade_id": "cell-258763f514ce8d52",
     "locked": false,
     "schema_version": 3,
     "solution": true
    }
   },
   "outputs": [],
   "source": [
    "# Make sure the correct answer is written fully (\"Benign\" / \"Malignant\")\n",
    "# Surround your answer with quotation marks\n",
    "# Replace the fail() with your answer. \n",
    "\n",
    "# your code here\n",
    "answer2.6<-'Benign'"
   ]
  },
  {
   "cell_type": "code",
   "execution_count": 109,
   "metadata": {
    "deletable": false,
    "editable": false,
    "nbgrader": {
     "cell_type": "code",
     "checksum": "cf58434b2c30497c1ea50bf6bb9ba049",
     "grade": true,
     "grade_id": "cell-2a8fd7a3457fb02a",
     "locked": true,
     "points": 1,
     "schema_version": 3,
     "solution": false
    }
   },
   "outputs": [
    {
     "name": "stdout",
     "output_type": "stream",
     "text": [
      "[1] \"Success!\"\n"
     ]
    }
   ],
   "source": [
    "test_2.6()"
   ]
  },
  {
   "cell_type": "markdown",
   "metadata": {
    "deletable": false,
    "editable": false,
    "nbgrader": {
     "cell_type": "markdown",
     "checksum": "b74f38ae61f1da6ae8ea42fadcc2c4ac",
     "grade": false,
     "grade_id": "cell-070238e3e7380252",
     "locked": true,
     "schema_version": 3,
     "solution": false
    }
   },
   "source": [
    "**Question 2.7**\n",
    "<br> {points: 1}\n",
    "\n",
    "Compare your answers in 2.4 and 2.6. Are they the same?\n",
    "\n",
    "*Assign your answer (either \"yes\" or \"no\") to an object called `answer2.7`.*"
   ]
  },
  {
   "cell_type": "code",
   "execution_count": 110,
   "metadata": {
    "deletable": false,
    "nbgrader": {
     "cell_type": "code",
     "checksum": "902901927beab10a045ab8e27bf401b6",
     "grade": false,
     "grade_id": "cell-5eb56b54aae58afa",
     "locked": false,
     "schema_version": 3,
     "solution": true
    }
   },
   "outputs": [],
   "source": [
    "# Make sure the correct answer is written in lower-case (\"yes\" / \"no\")\n",
    "# Surround your answer with quotation marks.\n",
    "# Replace the fail() with your answer. \n",
    "\n",
    "# your code here\n",
    "answer2.7<-'yes'"
   ]
  },
  {
   "cell_type": "code",
   "execution_count": 111,
   "metadata": {
    "deletable": false,
    "editable": false,
    "nbgrader": {
     "cell_type": "code",
     "checksum": "106bb7aa32e0bf0667f7619e4010aef9",
     "grade": true,
     "grade_id": "cell-067dc96bdc43046c",
     "locked": true,
     "points": 1,
     "schema_version": 3,
     "solution": false
    }
   },
   "outputs": [
    {
     "name": "stdout",
     "output_type": "stream",
     "text": [
      "[1] \"Success!\"\n"
     ]
    }
   ],
   "source": [
    "test_2.7()"
   ]
  },
  {
   "cell_type": "markdown",
   "metadata": {
    "deletable": false,
    "editable": false,
    "nbgrader": {
     "cell_type": "markdown",
     "checksum": "0dcf56c3ef3151228a4d2bd2b685c283",
     "grade": false,
     "grade_id": "cell-c279ff71adbb5d92",
     "locked": true,
     "schema_version": 3,
     "solution": false,
     "task": false
    }
   },
   "source": [
    "## 3. Using `caret` to perform k-nearest neighbours\n",
    "\n",
    "Now that we understand how K-nearest neighbours classification works, let's get familar with the `caret` R package so we can run classification analyses faster and with fewer errors. \n",
    "\n",
    "We'll again focus on `Radius` and `Symmetry` as the two predictors. This time, we would like to predict the class of a new observation with `Symmetry = 1` and `Radius = 0`. This one is a bit tricky to do visually from the plot below, and so is a motivating example for us to compute the prediction using k-nn with the `caret` package. Let's use `K = 7`.\n",
    "\n"
   ]
  },
  {
   "cell_type": "code",
   "execution_count": 115,
   "metadata": {},
   "outputs": [
    {
     "data": {
      "image/png": "[encoded data removed]",
      "text/plain": [
       "plot without title"
      ]
     },
     "metadata": {},
     "output_type": "display_data"
    }
   ],
   "source": [
    "options(repr.plot.width = 3, repr.plot.height = 3)\n",
    "cancer_plot"
   ]
  },
  {
   "cell_type": "markdown",
   "metadata": {
    "deletable": false,
    "editable": false,
    "nbgrader": {
     "cell_type": "markdown",
     "checksum": "625119ab2aeae7de1f04c271a5de4d27",
     "grade": false,
     "grade_id": "cell-3d46b3f5fe527fa1",
     "locked": true,
     "schema_version": 3,
     "solution": false
    }
   },
   "source": [
    "**Question 3.0**\n",
    "<br> {points: 1}\n",
    "\n",
    "Using the `cancer` data, create the two objects needed to train a model using the `caret` package:\n",
    "\n",
    "1. A `data.frame` containing the predictors `Symmetry` and `Radius`, and \n",
    "2. A `vector` containing the `Class`.\n",
    "\n",
    "Name the `data.frame` containing the predictors `X_train` and the `vector` containing the classes/labels `Y_train`.\n",
    "\n",
    "Hints:\n",
    "- use the `data.frame` function which makes `tibble`s into `data.frame`s\n",
    "- use the `unlist` function to make a single column `tibble` into a vector"
   ]
  },
  {
   "cell_type": "code",
   "execution_count": 141,
   "metadata": {
    "deletable": false,
    "nbgrader": {
     "cell_type": "code",
     "checksum": "44e198ee27aaa12f5fa3a15f951b4c19",
     "grade": false,
     "grade_id": "cell-0bb60df4cfe6dba1",
     "locked": false,
     "schema_version": 3,
     "solution": true
    }
   },
   "outputs": [
    {
     "data": {
      "text/html": [
       "<table>\n",
       "<caption>A data.frame: 6 × 2</caption>\n",
       "<thead>\n",
       "\t<tr><th scope=col>Symmetry</th><th scope=col>Radius</th></tr>\n",
       "\t<tr><th scope=col>&lt;dbl&gt;</th><th scope=col>&lt;dbl&gt;</th></tr>\n",
       "</thead>\n",
       "<tbody>\n",
       "\t<tr><td> 2.7482041</td><td> 1.8850310</td></tr>\n",
       "\t<tr><td>-0.2436753</td><td> 1.8043398</td></tr>\n",
       "\t<tr><td> 1.1512420</td><td> 1.5105411</td></tr>\n",
       "\t<tr><td> 6.0407261</td><td>-0.2812170</td></tr>\n",
       "\t<tr><td>-0.8675896</td><td> 1.2974336</td></tr>\n",
       "\t<tr><td> 1.7525273</td><td>-0.1653528</td></tr>\n",
       "</tbody>\n",
       "</table>\n"
      ],
      "text/latex": [
       "A data.frame: 6 × 2\n",
       "\\begin{tabular}{r|ll}\n",
       " Symmetry & Radius\\\\\n",
       " <dbl> & <dbl>\\\\\n",
       "\\hline\n",
       "\t  2.7482041 &  1.8850310\\\\\n",
       "\t -0.2436753 &  1.8043398\\\\\n",
       "\t  1.1512420 &  1.5105411\\\\\n",
       "\t  6.0407261 & -0.2812170\\\\\n",
       "\t -0.8675896 &  1.2974336\\\\\n",
       "\t  1.7525273 & -0.1653528\\\\\n",
       "\\end{tabular}\n"
      ],
      "text/markdown": [
       "\n",
       "A data.frame: 6 × 2\n",
       "\n",
       "| Symmetry &lt;dbl&gt; | Radius &lt;dbl&gt; |\n",
       "|---|---|\n",
       "|  2.7482041 |  1.8850310 |\n",
       "| -0.2436753 |  1.8043398 |\n",
       "|  1.1512420 |  1.5105411 |\n",
       "|  6.0407261 | -0.2812170 |\n",
       "| -0.8675896 |  1.2974336 |\n",
       "|  1.7525273 | -0.1653528 |\n",
       "\n"
      ],
      "text/plain": [
       "  Symmetry   Radius    \n",
       "1  2.7482041  1.8850310\n",
       "2 -0.2436753  1.8043398\n",
       "3  1.1512420  1.5105411\n",
       "4  6.0407261 -0.2812170\n",
       "5 -0.8675896  1.2974336\n",
       "6  1.7525273 -0.1653528"
      ]
     },
     "metadata": {},
     "output_type": "display_data"
    },
    {
     "data": {
      "text/html": [
       "<dl class=dl-horizontal>\n",
       "\t<dt>Class1</dt>\n",
       "\t\t<dd>'M'</dd>\n",
       "\t<dt>Class2</dt>\n",
       "\t\t<dd>'M'</dd>\n",
       "\t<dt>Class3</dt>\n",
       "\t\t<dd>'M'</dd>\n",
       "\t<dt>Class4</dt>\n",
       "\t\t<dd>'M'</dd>\n",
       "\t<dt>Class5</dt>\n",
       "\t\t<dd>'M'</dd>\n",
       "\t<dt>Class6</dt>\n",
       "\t\t<dd>'M'</dd>\n",
       "</dl>\n"
      ],
      "text/latex": [
       "\\begin{description*}\n",
       "\\item[Class1] 'M'\n",
       "\\item[Class2] 'M'\n",
       "\\item[Class3] 'M'\n",
       "\\item[Class4] 'M'\n",
       "\\item[Class5] 'M'\n",
       "\\item[Class6] 'M'\n",
       "\\end{description*}\n"
      ],
      "text/markdown": [
       "Class1\n",
       ":   'M'Class2\n",
       ":   'M'Class3\n",
       ":   'M'Class4\n",
       ":   'M'Class5\n",
       ":   'M'Class6\n",
       ":   'M'\n",
       "\n"
      ],
      "text/plain": [
       "Class1 Class2 Class3 Class4 Class5 Class6 \n",
       "   \"M\"    \"M\"    \"M\"    \"M\"    \"M\"    \"M\" "
      ]
     },
     "metadata": {},
     "output_type": "display_data"
    }
   ],
   "source": [
    "# your code here\n",
    "X_train<- cancer%>%\n",
    "    select(Symmetry,Radius) %>%\n",
    "    data.frame()\n",
    "\n",
    "Y_train<- cancer %>%\n",
    "    select(Class) %>%\n",
    "    unlist()\n",
    "\n",
    "head(X_train)\n",
    "head(Y_train)"
   ]
  },
  {
   "cell_type": "code",
   "execution_count": 130,
   "metadata": {
    "deletable": false,
    "editable": false,
    "nbgrader": {
     "cell_type": "code",
     "checksum": "d517ad0a4eed86f4fc91405369656130",
     "grade": true,
     "grade_id": "cell-431151f431182e5f",
     "locked": true,
     "points": 1,
     "schema_version": 3,
     "solution": false
    }
   },
   "outputs": [
    {
     "name": "stdout",
     "output_type": "stream",
     "text": [
      "[1] \"Success!\"\n"
     ]
    }
   ],
   "source": [
    "test_3.0()"
   ]
  },
  {
   "cell_type": "markdown",
   "metadata": {
    "deletable": false,
    "editable": false,
    "nbgrader": {
     "cell_type": "markdown",
     "checksum": "6390796b1665a0d4396b00b619e0211c",
     "grade": false,
     "grade_id": "cell-0be2bf18a64cc945",
     "locked": true,
     "schema_version": 3,
     "solution": false
    }
   },
   "source": [
    "**Question 3.1** \n",
    "<br> {points: 1}\n",
    "\n",
    "Next, use the `train` function to train the K-nearest neighbours model. Make sure you pass the correct arguments to tell `caret` what columns are the predictors and which is the target/outcome, as well as the value of `K` we are using. Save the output as an object called `model_knn`.\n",
    "\n",
    "*Note: because `caret` is designed to make it easy to try a few different values of `K`, you need to specify `K` as a `data.frame`. We have provided the scaffolding for you to do this below.*"
   ]
  },
  {
   "cell_type": "code",
   "execution_count": 138,
   "metadata": {
    "deletable": false,
    "nbgrader": {
     "cell_type": "code",
     "checksum": "7c85b02ebf9ea9e97e8b68e3cda9a31a",
     "grade": false,
     "grade_id": "cell-6c32562496f83241",
     "locked": false,
     "schema_version": 3,
     "solution": true,
     "task": false
    }
   },
   "outputs": [
    {
     "name": "stdout",
     "output_type": "stream",
     "text": [
      "k-Nearest Neighbors \n",
      "\n",
      "569 samples\n",
      "  2 predictor\n",
      "  2 classes: 'B', 'M' \n",
      "\n",
      "No pre-processing\n",
      "Resampling: Bootstrapped (25 reps) \n",
      "Summary of sample sizes: 569, 569, 569, 569, 569, 569, ... \n",
      "Resampling results:\n",
      "\n",
      "  Accuracy   Kappa    \n",
      "  0.9166821  0.8205204\n",
      "\n",
      "Tuning parameter 'k' was held constant at a value of 7\n"
     ]
    }
   ],
   "source": [
    "k <- data.frame(k = 7)\n",
    "model_knn <- train(x = X_train, y = Y_train, method = 'knn', tuneGrid = k)\n",
    "\n",
    "# your code here\n",
    "\n",
    "print(model_knn)"
   ]
  },
  {
   "cell_type": "code",
   "execution_count": 139,
   "metadata": {
    "deletable": false,
    "editable": false,
    "nbgrader": {
     "cell_type": "code",
     "checksum": "3a6aeabb8aefaf13d1c1e599b7a03be4",
     "grade": true,
     "grade_id": "cell-685a4e4330f23a90",
     "locked": true,
     "points": 1,
     "schema_version": 3,
     "solution": false
    }
   },
   "outputs": [
    {
     "name": "stdout",
     "output_type": "stream",
     "text": [
      "[1] \"Success!\"\n"
     ]
    }
   ],
   "source": [
    "test_3.1()"
   ]
  },
  {
   "cell_type": "markdown",
   "metadata": {
    "deletable": false,
    "editable": false,
    "nbgrader": {
     "cell_type": "markdown",
     "checksum": "61b21f479d2f0d1e414b231c1f4f3d53",
     "grade": false,
     "grade_id": "cell-5ccafffc3a34805b",
     "locked": true,
     "schema_version": 3,
     "solution": false
    }
   },
   "source": [
    "**Question 3.2**\n",
    "<br> {points: 1}\n",
    "\n",
    "Create a `data.frame` with our single new observation (`Symmetry = 1` and `Radius = 0`), naming it `new_obs`. Predict the label of the new observation using the `predict` function. Store the output of `predict` in an object called `predicted_knn_7`."
   ]
  },
  {
   "cell_type": "code",
   "execution_count": 142,
   "metadata": {
    "deletable": false,
    "nbgrader": {
     "cell_type": "code",
     "checksum": "0c324f9c7dbd6efed6eee078d439fc05",
     "grade": false,
     "grade_id": "cell-cdee2d8667038f6a",
     "locked": false,
     "schema_version": 3,
     "solution": true
    }
   },
   "outputs": [
    {
     "name": "stdout",
     "output_type": "stream",
     "text": [
      "[1] M\n",
      "Levels: B M\n"
     ]
    }
   ],
   "source": [
    "new_obs <- data.frame(Symmetry=1, Radius=0)\n",
    "predicted_knn_7 <- predict(object = model_knn, new_obs)\n",
    "\n",
    "# your code here\n",
    "\n",
    "print(predicted_knn_7)"
   ]
  },
  {
   "cell_type": "code",
   "execution_count": 143,
   "metadata": {
    "deletable": false,
    "editable": false,
    "nbgrader": {
     "cell_type": "code",
     "checksum": "34c98e8f1ab790d8e078c5724b7516b6",
     "grade": true,
     "grade_id": "cell-f99ed1dee272d06a",
     "locked": true,
     "points": 1,
     "schema_version": 3,
     "solution": false
    }
   },
   "outputs": [
    {
     "name": "stdout",
     "output_type": "stream",
     "text": [
      "[1] \"Success!\"\n"
     ]
    }
   ],
   "source": [
    "test_3.2()"
   ]
  },
  {
   "cell_type": "markdown",
   "metadata": {
    "deletable": false,
    "editable": false,
    "nbgrader": {
     "cell_type": "markdown",
     "checksum": "6ec42dfcf57e82f7ac6b942bc883513f",
     "grade": false,
     "grade_id": "cell-51e9956deb5ca6fd",
     "locked": true,
     "schema_version": 3,
     "solution": false,
     "task": false
    }
   },
   "source": [
    "Looking back at the plot (shown again below), is this what you would have been able to guess visually? And do you think `K = 7` was the \"best\" value to choose? Think on this, and we will discuss it next week. No answer is required in this worksheet."
   ]
  },
  {
   "cell_type": "code",
   "execution_count": 144,
   "metadata": {
    "deletable": false,
    "editable": false,
    "nbgrader": {
     "cell_type": "code",
     "checksum": "a10c6435c9852520a086666b8c22767c",
     "grade": false,
     "grade_id": "cell-c2bb52f6be81bc67",
     "locked": true,
     "schema_version": 3,
     "solution": false,
     "task": false
    }
   },
   "outputs": [
    {
     "data": {
      "image/png": "[encoded data removed]",
      "text/plain": [
       "plot without title"
      ]
     },
     "metadata": {},
     "output_type": "display_data"
    }
   ],
   "source": [
    "cancer_plot"
   ]
  },
  {
   "cell_type": "markdown",
   "metadata": {
    "deletable": false,
    "editable": false,
    "nbgrader": {
     "cell_type": "markdown",
     "checksum": "86c636ea9f3527ad57671f463a1a36d4",
     "grade": false,
     "grade_id": "cell-df0b5140effdf82e",
     "locked": true,
     "schema_version": 3,
     "solution": false
    }
   },
   "source": [
    "**Question 3.3**\n",
    "<br> {points: 1}\n",
    "\n",
    "Perform K-nearest neighbour classification again, using the `caret` package and `K=7` to classify a new observation where we measure `Symmetry = 1`, `Radius = 0` and `Concavity = 1`. \n",
    "\n",
    "- store the training predictors in an object called `X_train_3`\n",
    "- store the training labels in an object called `Y_train_3`\n",
    "- store the output of `train` in an object called `model_knn_3`\n",
    "- store the new observation in an object called `new_obs_3`\n",
    "- store the output of `predict` in an object called `predicted_3_knn_7`"
   ]
  },
  {
   "cell_type": "code",
   "execution_count": 145,
   "metadata": {
    "deletable": false,
    "nbgrader": {
     "cell_type": "code",
     "checksum": "4ffde330960af58081cb5357eb9c27a0",
     "grade": false,
     "grade_id": "cell-9ebae1c9d403b859",
     "locked": false,
     "schema_version": 3,
     "solution": true
    }
   },
   "outputs": [
    {
     "data": {
      "text/html": [],
      "text/latex": [],
      "text/markdown": [],
      "text/plain": [
       "<0 x 0 matrix>"
      ]
     },
     "metadata": {},
     "output_type": "display_data"
    },
    {
     "name": "stderr",
     "output_type": "stream",
     "text": [
      "Warning message:\n",
      "“Setting row names on a tibble is deprecated.”Warning message:\n",
      "“Setting row names on a tibble is deprecated.”Warning message:\n",
      "“Setting row names on a tibble is deprecated.”Warning message:\n",
      "“Setting row names on a tibble is deprecated.”Warning message:\n",
      "“Setting row names on a tibble is deprecated.”Warning message:\n",
      "“Setting row names on a tibble is deprecated.”Warning message:\n",
      "“Setting row names on a tibble is deprecated.”Warning message:\n",
      "“Setting row names on a tibble is deprecated.”Warning message:\n",
      "“Setting row names on a tibble is deprecated.”Warning message:\n",
      "“Setting row names on a tibble is deprecated.”Warning message:\n",
      "“Setting row names on a tibble is deprecated.”Warning message:\n",
      "“Setting row names on a tibble is deprecated.”Warning message:\n",
      "“Setting row names on a tibble is deprecated.”Warning message:\n",
      "“Setting row names on a tibble is deprecated.”Warning message:\n",
      "“Setting row names on a tibble is deprecated.”Warning message:\n",
      "“Setting row names on a tibble is deprecated.”Warning message:\n",
      "“Setting row names on a tibble is deprecated.”Warning message:\n",
      "“Setting row names on a tibble is deprecated.”Warning message:\n",
      "“Setting row names on a tibble is deprecated.”Warning message:\n",
      "“Setting row names on a tibble is deprecated.”Warning message:\n",
      "“Setting row names on a tibble is deprecated.”Warning message:\n",
      "“Setting row names on a tibble is deprecated.”Warning message:\n",
      "“Setting row names on a tibble is deprecated.”Warning message:\n",
      "“Setting row names on a tibble is deprecated.”Warning message:\n",
      "“Setting row names on a tibble is deprecated.”Warning message:\n",
      "“Setting row names on a tibble is deprecated.”"
     ]
    },
    {
     "name": "stdout",
     "output_type": "stream",
     "text": [
      "[1] M\n",
      "Levels: B M\n"
     ]
    }
   ],
   "source": [
    "# your code here\n",
    "X_train_3<- cancer %>%\n",
    "    select(Symmetry, Radius, Concavity)\n",
    "    data.frame()\n",
    "\n",
    "Y_train_3<- cancer %>%\n",
    "    select(Class) %>%\n",
    "    unlist()\n",
    "\n",
    "model_knn_3<- train(x = X_train_3, y = Y_train_3, method = 'knn', tuneGrid = data.frame(k = 7))\n",
    "\n",
    "new_obs_3<- data.frame(Symmetry = 1, Radius = 0, Concavity = 1)\n",
    "predicted_3_knn_7<- predict(object = model_knn_3, new_obs_3)\n",
    "\n",
    "print(predicted_3_knn_7)"
   ]
  },
  {
   "cell_type": "code",
   "execution_count": 146,
   "metadata": {
    "deletable": false,
    "editable": false,
    "nbgrader": {
     "cell_type": "code",
     "checksum": "744461453f39d5ff0563e256114d2677",
     "grade": true,
     "grade_id": "cell-ae8bad16e80bdfef",
     "locked": true,
     "points": 1,
     "schema_version": 3,
     "solution": false
    }
   },
   "outputs": [
    {
     "name": "stdout",
     "output_type": "stream",
     "text": [
      "[1] \"Success!\"\n"
     ]
    }
   ],
   "source": [
    "test_3.3()"
   ]
  },
  {
   "cell_type": "markdown",
   "metadata": {
    "deletable": false,
    "editable": false,
    "nbgrader": {
     "cell_type": "markdown",
     "checksum": "486380b8d7132d85c5ca929cb91299c1",
     "grade": false,
     "grade_id": "cell-6eec15570187f9e0",
     "locked": true,
     "schema_version": 3,
     "solution": false
    }
   },
   "source": [
    "**Question 3.4**\n",
    "<br> {points: 1}\n",
    "\n",
    "Finally, perform K-nearest neighbour classification again, using the `caret` package and `K = 7` to classify a new observation where we have measurements for all the predictors in our training data set (we give you the values in the code below). \n",
    "\n",
    "- store the training predictors in an object called `X_train_all`\n",
    "- store the training labels in an object called `Y_train_all`\n",
    "- store the output of `train` in an object called `model_knn_all`\n",
    "- store the new observation in an object called `new_obs_all`\n",
    "- store the output of `predict` in an object called `predicted_all_knn_7`\n",
    "\n",
    "*Hint: ID is not a measurement, but a label for each observation. Thus, do not include this in your analysis.*"
   ]
  },
  {
   "cell_type": "code",
   "execution_count": 149,
   "metadata": {
    "deletable": false,
    "nbgrader": {
     "cell_type": "code",
     "checksum": "6322254010f6543bdce229bd168fab6c",
     "grade": false,
     "grade_id": "cell-1a574f5403a0315e",
     "locked": false,
     "schema_version": 3,
     "solution": true
    }
   },
   "outputs": [
    {
     "name": "stderr",
     "output_type": "stream",
     "text": [
      "Warning message:\n",
      "“Setting row names on a tibble is deprecated.”Warning message:\n",
      "“Setting row names on a tibble is deprecated.”Warning message:\n",
      "“Setting row names on a tibble is deprecated.”Warning message:\n",
      "“Setting row names on a tibble is deprecated.”Warning message:\n",
      "“Setting row names on a tibble is deprecated.”Warning message:\n",
      "“Setting row names on a tibble is deprecated.”Warning message:\n",
      "“Setting row names on a tibble is deprecated.”Warning message:\n",
      "“Setting row names on a tibble is deprecated.”Warning message:\n",
      "“Setting row names on a tibble is deprecated.”Warning message:\n",
      "“Setting row names on a tibble is deprecated.”Warning message:\n",
      "“Setting row names on a tibble is deprecated.”Warning message:\n",
      "“Setting row names on a tibble is deprecated.”Warning message:\n",
      "“Setting row names on a tibble is deprecated.”Warning message:\n",
      "“Setting row names on a tibble is deprecated.”Warning message:\n",
      "“Setting row names on a tibble is deprecated.”Warning message:\n",
      "“Setting row names on a tibble is deprecated.”Warning message:\n",
      "“Setting row names on a tibble is deprecated.”Warning message:\n",
      "“Setting row names on a tibble is deprecated.”Warning message:\n",
      "“Setting row names on a tibble is deprecated.”Warning message:\n",
      "“Setting row names on a tibble is deprecated.”Warning message:\n",
      "“Setting row names on a tibble is deprecated.”Warning message:\n",
      "“Setting row names on a tibble is deprecated.”Warning message:\n",
      "“Setting row names on a tibble is deprecated.”Warning message:\n",
      "“Setting row names on a tibble is deprecated.”Warning message:\n",
      "“Setting row names on a tibble is deprecated.”Warning message:\n",
      "“Setting row names on a tibble is deprecated.”"
     ]
    },
    {
     "name": "stdout",
     "output_type": "stream",
     "text": [
      "[1] B\n",
      "Levels: B M\n"
     ]
    }
   ],
   "source": [
    "new_obs_all <- data.frame(Radius = 0, \n",
    "                        Texture = 0, \n",
    "                        Perimeter = 0, \n",
    "                        Area = 0, \n",
    "                        Smoothness = 0.5, \n",
    "                        Compactness = 0,\n",
    "                        Concavity = 1,\n",
    "                        Concave_points = 0,\n",
    "                        Symmetry = 1, \n",
    "                        Fractal_dimension = 0)\n",
    "\n",
    "\n",
    "# your code here\n",
    "X_train_all<- cancer %>%\n",
    "    select(-ID,-Class)\n",
    "\n",
    "Y_train_all<- cancer %>%\n",
    "    select(Class) %>%\n",
    "    unlist()\n",
    "\n",
    "model_knn_all<- train(x = X_train_all, y = Y_train_all, method = 'knn', tuneGrid = data.frame(k = 7))\n",
    "\n",
    "predicted_all_knn_7<- predict(object=model_knn_all, new_obs_all)\n",
    "print(predicted_all_knn_7)"
   ]
  },
  {
   "cell_type": "code",
   "execution_count": 150,
   "metadata": {
    "deletable": false,
    "editable": false,
    "nbgrader": {
     "cell_type": "code",
     "checksum": "db08393ce8d795e760ea0b3ee94c05ae",
     "grade": true,
     "grade_id": "cell-036a77a7a92f0c3d",
     "locked": true,
     "points": 1,
     "schema_version": 3,
     "solution": false
    }
   },
   "outputs": [
    {
     "name": "stdout",
     "output_type": "stream",
     "text": [
      "[1] \"Success!\"\n"
     ]
    }
   ],
   "source": [
    "test_3.4()"
   ]
  },
  {
   "cell_type": "markdown",
   "metadata": {
    "deletable": false,
    "editable": false,
    "nbgrader": {
     "cell_type": "markdown",
     "checksum": "9e58b841ef09ca686d209a1e2317eb80",
     "grade": false,
     "grade_id": "cell-9fe84a61d314cfed",
     "locked": true,
     "schema_version": 3,
     "solution": false,
     "task": false
    }
   },
   "source": [
    "## 4. Reviewing Some Concepts\n",
    "\n",
    "We will conclude with two multiple choice questions to reinforce some key concepts when doing classification with K-nearest neighbours."
   ]
  },
  {
   "cell_type": "markdown",
   "metadata": {
    "deletable": false,
    "editable": false,
    "nbgrader": {
     "cell_type": "markdown",
     "checksum": "02a3c92d5f971baa7ccbaa06b0d8ffbf",
     "grade": false,
     "grade_id": "cell-b904a53540f32475",
     "locked": true,
     "schema_version": 3,
     "solution": false
    }
   },
   "source": [
    "**Question 4.0**\n",
    "<br> {points: 1}\n",
    "\n",
    "In the K-nearest neighbours classification algorithm, we calculate the distance between the new observation (for which we are trying to predict the class/label/outcome) and each of the observations in the training data set so that we can:\n",
    "\n",
    "A. Find the `K` nearest neighbours of the new observation\n",
    "\n",
    "B. Assess how well our model fits the data\n",
    "\n",
    "C. Find outliers\n",
    "\n",
    "D. Assign the new observation to a cluster\n",
    "\n",
    "Assign your answer (e.g. `\"E\"`) to an object called: `answer4.0`"
   ]
  },
  {
   "cell_type": "code",
   "execution_count": 151,
   "metadata": {
    "deletable": false,
    "nbgrader": {
     "cell_type": "code",
     "checksum": "6efe7c321bf3b2f4a91ae9654fb29b1b",
     "grade": false,
     "grade_id": "cell-13d8575850bc1390",
     "locked": false,
     "schema_version": 3,
     "solution": true
    }
   },
   "outputs": [],
   "source": [
    "# Make sure the correct answer is an uppercase letter. \n",
    "# Surround your answer with quotation marks.\n",
    "# Replace the fail() with your answer. \n",
    "\n",
    "# your code here\n",
    "answer4.0<-'A'"
   ]
  },
  {
   "cell_type": "code",
   "execution_count": 152,
   "metadata": {
    "deletable": false,
    "editable": false,
    "nbgrader": {
     "cell_type": "code",
     "checksum": "2477f3ff6893cc93ff16fe4224153dac",
     "grade": true,
     "grade_id": "cell-437eb5f41aed17bc",
     "locked": true,
     "points": 1,
     "schema_version": 3,
     "solution": false
    }
   },
   "outputs": [
    {
     "name": "stdout",
     "output_type": "stream",
     "text": [
      "[1] \"Success!\"\n"
     ]
    }
   ],
   "source": [
    "test_4.0()"
   ]
  },
  {
   "cell_type": "markdown",
   "metadata": {
    "deletable": false,
    "editable": false,
    "nbgrader": {
     "cell_type": "markdown",
     "checksum": "943bd76943f218984d1db6e4745737e0",
     "grade": false,
     "grade_id": "cell-a60b11b11c972d2c",
     "locked": true,
     "schema_version": 3,
     "solution": false,
     "task": false
    }
   },
   "source": [
    "**Question 4.1**\n",
    "<br> {points: 1}\n",
    "\n",
    "In the K-nearest neighbours classification algorithm, we choose the label/class for a new observation by:\n",
    "\n",
    "A. Taking the mean (average value) label/class of the K nearest neighbours \n",
    "\n",
    "B. Taking the median (middle value) label/class of the K nearest neighbours \n",
    "\n",
    "C. Taking the mode (value that appears most often) label/class of the K nearest neighbours \n",
    "\n",
    "Assign your answer (e.g., `\"E\"`) to an object called `answer4.1`"
   ]
  },
  {
   "cell_type": "code",
   "execution_count": 153,
   "metadata": {
    "deletable": false,
    "nbgrader": {
     "cell_type": "code",
     "checksum": "c98ae7212887c89e02a9689e60011e77",
     "grade": false,
     "grade_id": "cell-ed504d5d3d6f58ea",
     "locked": false,
     "schema_version": 3,
     "solution": true
    }
   },
   "outputs": [],
   "source": [
    "# Make sure the correct answer is an uppercase letter. \n",
    "# Surround your answer with quotation marks.\n",
    "# Replace the fail() with your answer. \n",
    "\n",
    "# your code here\n",
    "answer4.1<-'C'"
   ]
  },
  {
   "cell_type": "code",
   "execution_count": 154,
   "metadata": {
    "deletable": false,
    "editable": false,
    "nbgrader": {
     "cell_type": "code",
     "checksum": "6481920f7b7ca0c97e799ce888548b1b",
     "grade": true,
     "grade_id": "cell-303f4a3bd9b343f2",
     "locked": true,
     "points": 1,
     "schema_version": 3,
     "solution": false
    }
   },
   "outputs": [
    {
     "name": "stdout",
     "output_type": "stream",
     "text": [
      "[1] \"Success!\"\n"
     ]
    }
   ],
   "source": [
    "test_4.1()"
   ]
  }
 ],
 "metadata": {
  "kernelspec": {
   "display_name": "R",
   "language": "R",
   "name": "ir"
  },
  "language_info": {
   "codemirror_mode": "r",
   "file_extension": ".r",
   "mimetype": "text/x-r-source",
   "name": "R",
   "pygments_lexer": "r",
   "version": "3.6.1"
  }
 },
 "nbformat": 4,
 "nbformat_minor": 2
}
