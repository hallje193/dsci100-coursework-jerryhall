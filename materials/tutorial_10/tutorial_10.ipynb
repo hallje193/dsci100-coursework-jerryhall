{
 "cells": [
  {
   "cell_type": "markdown",
   "metadata": {
    "deletable": false,
    "editable": false,
    "nbgrader": {
     "cell_type": "markdown",
     "checksum": "008033e81f88985f9e4e4cd2e870619a",
     "grade": false,
     "grade_id": "cell-db663b302824cd7d",
     "locked": true,
     "schema_version": 3,
     "solution": false,
     "task": false
    }
   },
   "source": [
    "# Tutorial 10 - Clustering\n",
    "\n",
    "### Lecture and Tutorial Learning Goals:\n",
    "\n",
    "After completing this week's lecture and tutorial work, you will be able to:\n",
    "\n",
    "* Describe a case where clustering would be an appropriate tool, and what insight it would bring from the data.\n",
    "* Explain the k-means clustering algorithm.\n",
    "* Interpret the output of a k-means cluster analysis.\n",
    "* Perform k-means clustering in R using `k-means`\n",
    "* Visualize the output of k-means clustering in R using a scatter plot facetted across each access \n",
    "* Identify when it is necessary to scale variables before clustering and do this using R\n",
    "* Use the elbow method to choose the number of clusters for k-means\n",
    "* Describe advantages, limitations and assumptions of the kmeans clustering algorithm."
   ]
  },
  {
   "cell_type": "code",
   "execution_count": null,
   "metadata": {
    "deletable": false,
    "editable": false,
    "nbgrader": {
     "cell_type": "code",
     "checksum": "e6351d99c086ef9e29ff9a1411bce258",
     "grade": false,
     "grade_id": "cell-ba8a0ce0b51b8fde",
     "locked": true,
     "schema_version": 3,
     "solution": false,
     "task": false
    }
   },
   "outputs": [],
   "source": [
    "### Run this cell before continuing.\n",
    "library(tidyverse)\n",
    "library(repr)\n",
    "library(GGally)\n",
    "library(broom)\n",
    "source('tests_tutorial_10.R')\n",
    "source(\"cleanup_tutorial_10.R\")"
   ]
  },
  {
   "cell_type": "markdown",
   "metadata": {
    "deletable": false,
    "editable": false,
    "nbgrader": {
     "cell_type": "markdown",
     "checksum": "cea23464617cfa2667080894648573a6",
     "grade": false,
     "grade_id": "cell-335e796389da4d08",
     "locked": true,
     "schema_version": 3,
     "solution": false,
     "task": false
    }
   },
   "source": [
    "# 1. Pokemon\n",
    "\n",
    "We will be working with the Pokemon dataset from Kaggle, which can be found [here.](https://www.kaggle.com/abcsds/pokemon)\n",
    "This dataset compiles the statistics on 721 Pokemon. The information in this dataset includes Pokemon name, type, health points, attack strength, defensive strength, speed points etc. We are interested in seeing if there are any sub-groups/clusters of pokemon based on these statistics. And if so, how many sub-groups/clusters there are.\n",
    "\n",
    "![](https://media.giphy.com/media/3oEduV4SOS9mmmIOkw/giphy.gif)\n",
    "\n",
    "Source: https://media.giphy.com/media/3oEduV4SOS9mmmIOkw/giphy.gif\n"
   ]
  },
  {
   "cell_type": "markdown",
   "metadata": {
    "deletable": false,
    "editable": false,
    "nbgrader": {
     "cell_type": "markdown",
     "checksum": "83e08397761f8ac774ef7b93c5e79fa3",
     "grade": false,
     "grade_id": "cell-3a7fda306bcdb24f",
     "locked": true,
     "schema_version": 3,
     "solution": false,
     "task": false
    }
   },
   "source": [
    "**Question 1.0**\n",
    "<br> {points: 1}\n",
    "\n",
    "Use `read_csv` to load `pokemon.csv` from the `data/` folder.\n",
    "\n",
    "*Assign your answer to an object called `pm_data`.*"
   ]
  },
  {
   "cell_type": "code",
   "execution_count": null,
   "metadata": {
    "deletable": false,
    "nbgrader": {
     "cell_type": "code",
     "checksum": "aae6a83431c5d6089e7ccab3963a7d46",
     "grade": false,
     "grade_id": "cell-93b37b4e6bdc331a",
     "locked": false,
     "schema_version": 3,
     "solution": true
    }
   },
   "outputs": [],
   "source": [
    "# your code here\n",
    "fail() # No Answer - remove if you provide an answer\n",
    "head(pm_data)"
   ]
  },
  {
   "cell_type": "code",
   "execution_count": null,
   "metadata": {
    "deletable": false,
    "editable": false,
    "nbgrader": {
     "cell_type": "code",
     "checksum": "6de25f9b3ba8ba8ec1c545e8f1a21c94",
     "grade": true,
     "grade_id": "cell-56bc2b189beffa61",
     "locked": true,
     "points": 1,
     "schema_version": 3,
     "solution": false
    }
   },
   "outputs": [],
   "source": [
    "test_1.0()"
   ]
  },
  {
   "cell_type": "markdown",
   "metadata": {
    "deletable": false,
    "editable": false,
    "nbgrader": {
     "cell_type": "markdown",
     "checksum": "e923676a035f0cde9aac9b7cceb50e5a",
     "grade": false,
     "grade_id": "cell-8b5b24126c2e31c8",
     "locked": true,
     "schema_version": 3,
     "solution": false,
     "task": false
    }
   },
   "source": [
    "**Question 1.1**\n",
    "<br> {points: 1}\n",
    "\n",
    "Create a matrix of plots using `ggpairs`, choosing columns 5 to 11 (or equivalently, Total to Speed) from `pm_data`. There are several ways to do this, the most familar way would be using the select function to give a range of column names:\n",
    "\n",
    "`data %>% select(start_column_name:end_column_name)`\n",
    "\n",
    "Another is to pass in the column numbers to the ggpairs function as so:\n",
    "\n",
    "`ggpairs(name_of_dataset, columns = c(number:number))`\n",
    "\n",
    "*Assign your answer to an object called `pm_pairs`.*"
   ]
  },
  {
   "cell_type": "code",
   "execution_count": null,
   "metadata": {
    "deletable": false,
    "nbgrader": {
     "cell_type": "code",
     "checksum": "2d2b46d54ff5096925dec0a0af5b345e",
     "grade": false,
     "grade_id": "cell-99f98d1dbb944409",
     "locked": false,
     "schema_version": 3,
     "solution": true
    }
   },
   "outputs": [],
   "source": [
    "# your code here\n",
    "fail() # No Answer - remove if you provide an answer\n",
    "pm_pairs"
   ]
  },
  {
   "cell_type": "code",
   "execution_count": null,
   "metadata": {
    "deletable": false,
    "editable": false,
    "nbgrader": {
     "cell_type": "code",
     "checksum": "4b90579a3c7a28dde9b6e0b85aaf3091",
     "grade": true,
     "grade_id": "cell-4a0f59f0f380baad",
     "locked": true,
     "points": 1,
     "schema_version": 3,
     "solution": false
    }
   },
   "outputs": [],
   "source": [
    "test_1.1()"
   ]
  },
  {
   "cell_type": "markdown",
   "metadata": {
    "deletable": false,
    "editable": false,
    "nbgrader": {
     "cell_type": "markdown",
     "checksum": "10971a005c3cff0531991d4eb3b9df7b",
     "grade": false,
     "grade_id": "cell-06840762f3593761",
     "locked": true,
     "schema_version": 3,
     "solution": false,
     "task": false
    }
   },
   "source": [
    "**Question 1.2** \n",
    "<br> {points: 1}\n",
    "\n",
    "Make a scatterplot to visualize the relationship between `Speed` and `Defense` of the Pokemon. Put the `Speed` variable on the x-axis, and the `Defense` variable on the y-axis.\n",
    "\n",
    "*Assign your plot to an object called `pm_scatter`. Don't forget to do everything needed to make an effective visualization.*"
   ]
  },
  {
   "cell_type": "code",
   "execution_count": null,
   "metadata": {
    "deletable": false,
    "nbgrader": {
     "cell_type": "code",
     "checksum": "e16c52e8ffc096fc295eda1da6a5f648",
     "grade": false,
     "grade_id": "cell-de22d18cc98375ce",
     "locked": false,
     "schema_version": 3,
     "solution": true
    }
   },
   "outputs": [],
   "source": [
    "# your code here\n",
    "fail() # No Answer - remove if you provide an answer\n",
    "pm_scatter"
   ]
  },
  {
   "cell_type": "code",
   "execution_count": null,
   "metadata": {
    "deletable": false,
    "editable": false,
    "nbgrader": {
     "cell_type": "code",
     "checksum": "699abe648b76610ecd9f6e2a88f75fb0",
     "grade": true,
     "grade_id": "cell-b62427bf6857eae0",
     "locked": true,
     "points": 1,
     "schema_version": 3,
     "solution": false
    }
   },
   "outputs": [],
   "source": [
    "test_1.2()"
   ]
  },
  {
   "cell_type": "markdown",
   "metadata": {
    "deletable": false,
    "editable": false,
    "nbgrader": {
     "cell_type": "markdown",
     "checksum": "4096bb110b65546228968d06f7c6fa4c",
     "grade": false,
     "grade_id": "cell-00594a9799b8a20c",
     "locked": true,
     "schema_version": 3,
     "solution": false,
     "task": false
    }
   },
   "source": [
    "**Question 1.3**\n",
    "<br> {points: 1}\n",
    "\n",
    "Select the columns `Speed` and `Defense`, creating a new dataframe with only those columns.\n",
    "\n",
    "*Assign your answer to an object named `km_data`.*"
   ]
  },
  {
   "cell_type": "code",
   "execution_count": null,
   "metadata": {
    "deletable": false,
    "nbgrader": {
     "cell_type": "code",
     "checksum": "5b3dd72fbe663f2574f0478e8d9e65bf",
     "grade": false,
     "grade_id": "cell-8ff6e2b975075cae",
     "locked": false,
     "schema_version": 3,
     "solution": true
    }
   },
   "outputs": [],
   "source": [
    "# your code here\n",
    "fail() # No Answer - remove if you provide an answer\n",
    "head(km_data)"
   ]
  },
  {
   "cell_type": "code",
   "execution_count": null,
   "metadata": {
    "deletable": false,
    "editable": false,
    "nbgrader": {
     "cell_type": "code",
     "checksum": "5b5d18a7190d252ca460c8617055f7d8",
     "grade": true,
     "grade_id": "cell-1b9d09e256e4b281",
     "locked": true,
     "points": 1,
     "schema_version": 3,
     "solution": false
    }
   },
   "outputs": [],
   "source": [
    "test_1.3()"
   ]
  },
  {
   "cell_type": "markdown",
   "metadata": {
    "deletable": false,
    "editable": false,
    "nbgrader": {
     "cell_type": "markdown",
     "checksum": "c177478fe0e351e46a160c2dd283487c",
     "grade": false,
     "grade_id": "cell-e283e593af5c7ab9",
     "locked": true,
     "schema_version": 3,
     "solution": false,
     "task": false
    }
   },
   "source": [
    "**Question 1.4.1**\n",
    "<br> {points: 3}\n",
    "\n",
    "We are going to cluster the Pokemon based on their `Speed` and `Defense`. Will it matter much for our clustering if we scale our variables? Is there any argument against scaling here?"
   ]
  },
  {
   "cell_type": "markdown",
   "metadata": {
    "deletable": false,
    "nbgrader": {
     "cell_type": "markdown",
     "checksum": "055810ce98f45fec3152c89e982e770d",
     "grade": true,
     "grade_id": "cell-2701100f6dcd3e68",
     "locked": false,
     "points": 3,
     "schema_version": 3,
     "solution": true
    }
   },
   "source": [
    "DOUBLE CLICK TO EDIT **THIS CELL** AND REPLACE THIS TEXT WITH YOUR ANSWER."
   ]
  },
  {
   "cell_type": "markdown",
   "metadata": {
    "deletable": false,
    "editable": false,
    "nbgrader": {
     "cell_type": "markdown",
     "checksum": "e42c5d7c5ebe8832a1e4121efadbd832",
     "grade": false,
     "grade_id": "cell-2eeb002c9e35f5a9",
     "locked": true,
     "schema_version": 3,
     "solution": false,
     "task": false
    }
   },
   "source": [
    "**Question 1.4.2**\n",
    "<br> {points: 1}\n",
    "\n",
    "Now, let's use the `kmeans` function to cluster the Pokemon based on their `Speed` and `Defense` variables. For this question, use K = 4.\n",
    "\n",
    "*Assign your answer to an object called `pokemon_clusters`.*\n",
    "\n",
    "**Note:** We set the random seed here because `kmeans` initializes observations to random clusters."
   ]
  },
  {
   "cell_type": "code",
   "execution_count": null,
   "metadata": {
    "deletable": false,
    "nbgrader": {
     "cell_type": "code",
     "checksum": "74e0aa2e3635590f9277f85a5d637763",
     "grade": false,
     "grade_id": "cell-c065f6a8d813ae2e",
     "locked": false,
     "schema_version": 3,
     "solution": true
    }
   },
   "outputs": [],
   "source": [
    "#DON'T CHANGE THE SEED VALUE BELOW!\n",
    "set.seed(2019)\n",
    "\n",
    "# your code here\n",
    "fail() # No Answer - remove if you provide an answer\n",
    "pokemon_clusters"
   ]
  },
  {
   "cell_type": "code",
   "execution_count": null,
   "metadata": {
    "deletable": false,
    "editable": false,
    "nbgrader": {
     "cell_type": "code",
     "checksum": "b20968eb46b2407563b2f085976828b0",
     "grade": true,
     "grade_id": "cell-b899d544a0fec2ea",
     "locked": true,
     "points": 1,
     "schema_version": 3,
     "solution": false
    }
   },
   "outputs": [],
   "source": [
    "test_1.4.2()"
   ]
  },
  {
   "cell_type": "markdown",
   "metadata": {
    "deletable": false,
    "editable": false,
    "nbgrader": {
     "cell_type": "markdown",
     "checksum": "dd516adda79c8ce5ba32e4f93af44771",
     "grade": false,
     "grade_id": "cell-1b5587eac432619f",
     "locked": true,
     "schema_version": 3,
     "solution": false
    }
   },
   "source": [
    "**Question 1.5**\n",
    "<br> {points: 1}\n",
    "\n",
    "Let's visualize the clusters we built in `pokemon_clusters`. For this we can use the `broom` package.\n",
    "\n",
    "> \"The broom package takes the messy output of built-in functions in R, such as lm, nls, or t.test, and turns them into tidy data frames.\" - [Broom Package](https://cran.r-project.org/web/packages/broom/vignettes/broom.html)\n",
    "\n",
    "Your tasks:\n",
    "\n",
    "1. Use the `augment` function create a data frame with the cluster assignments for each data point from Kmeans (should have the columns `Speed` and `Defense` and `.cluster`). \n",
    "2. Create a scatter plot of `Speed` (x-axis) vs `Defense` (y-axis) with the points coloured by their cluster assignment. N\n",
    "\n",
    "Name this plot `answer1.5`."
   ]
  },
  {
   "cell_type": "code",
   "execution_count": null,
   "metadata": {
    "deletable": false,
    "nbgrader": {
     "cell_type": "code",
     "checksum": "be0e85377f1fdfda3856d3a1f63c3536",
     "grade": false,
     "grade_id": "cell-bed28462923104b0",
     "locked": false,
     "schema_version": 3,
     "solution": true
    }
   },
   "outputs": [],
   "source": [
    "# your code here\n",
    "fail() # No Answer - remove if you provide an answer\n",
    "answer1.5"
   ]
  },
  {
   "cell_type": "code",
   "execution_count": null,
   "metadata": {
    "deletable": false,
    "editable": false,
    "nbgrader": {
     "cell_type": "code",
     "checksum": "cd6ac26c2cfd722bc99754765e9cd022",
     "grade": true,
     "grade_id": "cell-2d872f629c06cf4d",
     "locked": true,
     "points": 1,
     "schema_version": 3,
     "solution": false
    }
   },
   "outputs": [],
   "source": [
    "test_1.5()"
   ]
  },
  {
   "cell_type": "markdown",
   "metadata": {
    "deletable": false,
    "editable": false,
    "nbgrader": {
     "cell_type": "markdown",
     "checksum": "71b5370376620fb49e32a4e213bb020a",
     "grade": false,
     "grade_id": "cell-537761aa7301039a",
     "locked": true,
     "schema_version": 3,
     "solution": false
    }
   },
   "source": [
    "**Question 1.6**\n",
    "<br> {points: 3}\n",
    "\n",
    "Below you can see multiple initializations of k-means with different seeds for K = 4. Can you explain what is happening and how we can mitigate this in the `kmeans` function?\n",
    "\n",
    "![](imgs/multiple_initializations.png)"
   ]
  },
  {
   "cell_type": "markdown",
   "metadata": {
    "deletable": false,
    "nbgrader": {
     "cell_type": "markdown",
     "checksum": "e91844a76495c28dd6e98a258a2286a9",
     "grade": true,
     "grade_id": "cell-ea8ad340f502d839",
     "locked": false,
     "points": 3,
     "schema_version": 3,
     "solution": true
    }
   },
   "source": [
    "DOUBLE CLICK TO EDIT **THIS CELL** AND REPLACE THIS TEXT WITH YOUR ANSWER."
   ]
  },
  {
   "cell_type": "markdown",
   "metadata": {
    "deletable": false,
    "editable": false,
    "nbgrader": {
     "cell_type": "markdown",
     "checksum": "4f6ce55362e93bcd27b185f6549aad32",
     "grade": false,
     "grade_id": "cell-7ad1ae102f2183fb",
     "locked": true,
     "schema_version": 3,
     "solution": false
    }
   },
   "source": [
    "**Question 1.7**\n",
    "<br> {points: 1}\n",
    "\n",
    "We know that choosing a K is an important step of the process. We can do this by examining how the total within-cluster sum of squares changes as we change K on a plot (which we call an elbow plot).\n",
    "\n",
    "For this exercise, from K = 1 to K = 10, calculate the total within-cluster sum of squares. Set `nstart` to be 10. \n",
    "\n",
    "*Assign your answer to a data frame object named `elbow_stats` that has the columns `k`, `totss`, `tot.withinss`, `betweenss`, and `iter`.*"
   ]
  },
  {
   "cell_type": "markdown",
   "metadata": {
    "deletable": false,
    "editable": false,
    "nbgrader": {
     "cell_type": "markdown",
     "checksum": "73c9193499601b3e8d5e8f58e85c7234",
     "grade": false,
     "grade_id": "cell-152c74d109a589d5",
     "locked": true,
     "schema_version": 3,
     "solution": false,
     "task": false
    }
   },
   "source": [
    "Remember, to acess the  total within-cluster sum of squares, you can use the `glance` function also from the `broom` package:"
   ]
  },
  {
   "cell_type": "code",
   "execution_count": null,
   "metadata": {},
   "outputs": [],
   "source": [
    "glance(pokemon_clusters)"
   ]
  },
  {
   "cell_type": "code",
   "execution_count": null,
   "metadata": {
    "deletable": false,
    "nbgrader": {
     "cell_type": "code",
     "checksum": "1a1967fef68e09b5546b94cc0ddd0d96",
     "grade": false,
     "grade_id": "cell-60b7743cfe0290e1",
     "locked": false,
     "schema_version": 3,
     "solution": true
    }
   },
   "outputs": [],
   "source": [
    "# your code here\n",
    "fail() # No Answer - remove if you provide an answer\n",
    "head(elbow_stats)"
   ]
  },
  {
   "cell_type": "code",
   "execution_count": null,
   "metadata": {
    "deletable": false,
    "editable": false,
    "nbgrader": {
     "cell_type": "code",
     "checksum": "db87cb856cfd1d9646a1d095f02d57fd",
     "grade": true,
     "grade_id": "cell-4431d9afb3d2822e",
     "locked": true,
     "points": 1,
     "schema_version": 3,
     "solution": false
    }
   },
   "outputs": [],
   "source": [
    "test_1.7()"
   ]
  },
  {
   "cell_type": "markdown",
   "metadata": {
    "deletable": false,
    "editable": false,
    "nbgrader": {
     "cell_type": "markdown",
     "checksum": "75492053df802c098572ecdb8fddf52c",
     "grade": false,
     "grade_id": "cell-18ab6b21c8994c5c",
     "locked": true,
     "schema_version": 3,
     "solution": false,
     "task": false
    }
   },
   "source": [
    "**Question 1.8**\n",
    "<br> {points: 3}\n",
    "\n",
    "Create the elbow plot. Put the within-cluster sum of squares on the y-axis, and the number of clusters on the x-axis.\n",
    "\n",
    "*Assign your plot to an object called `elbow_plot`*"
   ]
  },
  {
   "cell_type": "code",
   "execution_count": null,
   "metadata": {
    "deletable": false,
    "nbgrader": {
     "cell_type": "code",
     "checksum": "651a36914bfa463727aaf029d12a0195",
     "grade": true,
     "grade_id": "cell-d5d5b23dd3820676",
     "locked": false,
     "points": 3,
     "schema_version": 3,
     "solution": true
    }
   },
   "outputs": [],
   "source": [
    "# your code here\n",
    "fail() # No Answer - remove if you provide an answer\n",
    "elbow_plot"
   ]
  },
  {
   "cell_type": "markdown",
   "metadata": {
    "deletable": false,
    "editable": false,
    "nbgrader": {
     "cell_type": "markdown",
     "checksum": "883afccb8b3c26e463b1a6a5630cce6f",
     "grade": false,
     "grade_id": "cell-787eb51286f85008",
     "locked": true,
     "schema_version": 3,
     "solution": false,
     "task": false
    }
   },
   "source": [
    "**Question 1.9** \n",
    "<br> {points: 3}\n",
    "\n",
    "Based on the elbow plot above, what value of k do you choose? Explain why."
   ]
  },
  {
   "cell_type": "markdown",
   "metadata": {
    "deletable": false,
    "nbgrader": {
     "cell_type": "markdown",
     "checksum": "997eccf249fd9c7db835552a3b275c0f",
     "grade": true,
     "grade_id": "cell-2ffa77d4b8e4de07",
     "locked": false,
     "points": 3,
     "schema_version": 3,
     "solution": true
    }
   },
   "source": [
    "DOUBLE CLICK TO EDIT **THIS CELL** AND REPLACE THIS TEXT WITH YOUR ANSWER."
   ]
  },
  {
   "cell_type": "markdown",
   "metadata": {
    "deletable": false,
    "editable": false,
    "nbgrader": {
     "cell_type": "markdown",
     "checksum": "16ef5f2f810fde69bae704d651a48705",
     "grade": false,
     "grade_id": "cell-fc98d19805a765de",
     "locked": true,
     "schema_version": 3,
     "solution": false,
     "task": false
    }
   },
   "source": [
    "**Question 1.10**\n",
    "<br> {points: 3}\n",
    "\n",
    "Using the value that you chose for k, perform the k-means algorithm and create a plot to visualize the clusters. Again, set `nstart` to be 10, and set the seed to be 2019."
   ]
  },
  {
   "cell_type": "code",
   "execution_count": null,
   "metadata": {
    "deletable": false,
    "nbgrader": {
     "cell_type": "code",
     "checksum": "1b423868d57c4f7c61b57caf95eb01f3",
     "grade": true,
     "grade_id": "cell-9a4289aea99f026e",
     "locked": false,
     "points": 3,
     "schema_version": 3,
     "solution": true
    }
   },
   "outputs": [],
   "source": [
    "# your code here\n",
    "fail() # No Answer - remove if you provide an answer\n"
   ]
  },
  {
   "cell_type": "markdown",
   "metadata": {
    "deletable": false,
    "editable": false,
    "nbgrader": {
     "cell_type": "markdown",
     "checksum": "13471414325bbd89d882a8576be5356f",
     "grade": false,
     "grade_id": "cell-7d044a1dc3af9252",
     "locked": true,
     "schema_version": 3,
     "solution": false,
     "task": false
    }
   },
   "source": [
    "**Question 1.11**\n",
    "<br> {points: 3}\n",
    "\n",
    "Using `Speed` and `Defense`, we find 3 clusters of pokemon. However, we have more information in our dataset that might be useful for clustering. Let's incorporate all of the numeric values to our kmeans model. Again use `nstart = 10`.\n",
    "\n",
    "Your tasks:\n",
    "\n",
    "1. Select the numeric values only. For example, do not include the `#` or `Generation` columns (they are not pokemon statistics). \n",
    "2. Use the elbow plot method to determine the number of clusters.\n",
    "3. Train a k-means model with the number of clusters determined in (2).\n",
    "4. Print the cluster means for the trained model."
   ]
  },
  {
   "cell_type": "code",
   "execution_count": null,
   "metadata": {
    "deletable": false,
    "nbgrader": {
     "cell_type": "code",
     "checksum": "f1208ecf41b2f8f4397d70e89750d856",
     "grade": true,
     "grade_id": "cell-2e4a3de98096ebd2",
     "locked": false,
     "points": 3,
     "schema_version": 3,
     "solution": true
    }
   },
   "outputs": [],
   "source": [
    "#DON'T CHANGE THIS SEED VALUE\n",
    "set.seed(2019)\n",
    "\n",
    "# your code here\n",
    "fail() # No Answer - remove if you provide an answer"
   ]
  },
  {
   "cell_type": "markdown",
   "metadata": {
    "deletable": false,
    "editable": false,
    "nbgrader": {
     "cell_type": "markdown",
     "checksum": "dde071eeab371ab52cae7cc46a1f5b98",
     "grade": false,
     "grade_id": "cell-1c2a9fd0cbe15c51",
     "locked": true,
     "schema_version": 3,
     "solution": false
    }
   },
   "source": [
    "**Question 1.12**\n",
    "<br> {points: 3}\n",
    "\n",
    "Visualizing these clusters is not a simple task given the high-dimensionality of the model. But does the cluster means output help? Justify your reasoning."
   ]
  },
  {
   "cell_type": "markdown",
   "metadata": {
    "deletable": false,
    "nbgrader": {
     "cell_type": "markdown",
     "checksum": "11bcf274fc3ea33c4128ba24d970e36c",
     "grade": true,
     "grade_id": "cell-8bd7a10f78cd96d6",
     "locked": false,
     "points": 3,
     "schema_version": 3,
     "solution": true
    }
   },
   "source": [
    "DOUBLE CLICK TO EDIT **THIS CELL** AND REPLACE THIS TEXT WITH YOUR ANSWER."
   ]
  },
  {
   "cell_type": "markdown",
   "metadata": {
    "deletable": false,
    "editable": false,
    "nbgrader": {
     "cell_type": "markdown",
     "checksum": "05597237f22908be2593063edb8c2735",
     "grade": false,
     "grade_id": "cell-3e931fc6c7cf17df",
     "locked": true,
     "schema_version": 3,
     "solution": false
    }
   },
   "source": [
    "# 2. Tourism Reviews\n",
    "\n",
    "![](https://media.giphy.com/media/xUNd9IsOQ4BSZPfnLG/giphy.gif)\n",
    "Source: https://media.giphy.com/media/xUNd9IsOQ4BSZPfnLG/giphy.gif\n",
    "\n",
    "The Ministry of Land, Infrastructure, Transport and Tourism of Japan is interested in knowing the type of tourists that visit East Asia. They know the [majority of their visitors come from this region](https://statistics.jnto.go.jp/en/graph/) and would like to stay competitive in the region to keep growing the tourism industry. For this, they have hired us to perform segmentation of the tourists. A [dataset from TripAdvisor](https://archive.ics.uci.edu/ml/datasets/Travel+Reviews) has been scraped and it's provided to you.\n",
    "\n",
    "This dataset contains the following variables:\n",
    "\n",
    "- User ID : Unique user id \n",
    "- Category 1 : Average user feedback on art galleries \n",
    "- Category 2 : Average user feedback on dance clubs \n",
    "- Category 3 : Average user feedback on juice bars \n",
    "- Category 4 : Average user feedback on restaurants \n",
    "- Category 5 : Average user feedback on museums \n",
    "- Category 6 : Average user feedback on resorts \n",
    "- Category 7 : Average user feedback on parks/picnic spots \n",
    "- Category 8 : Average user feedback on beaches \n",
    "- Category 9 : Average user feedback on theaters \n",
    "- Category 10 : Average user feedback on religious institutions"
   ]
  },
  {
   "cell_type": "markdown",
   "metadata": {
    "deletable": false,
    "editable": false,
    "nbgrader": {
     "cell_type": "markdown",
     "checksum": "5109152000787e7b075d42d9fcd26e41",
     "grade": false,
     "grade_id": "cell-992349cc3394d79f",
     "locked": true,
     "schema_version": 3,
     "solution": false,
     "task": false
    }
   },
   "source": [
    "**Question 2.0**\n",
    "<br> {points: 3}\n",
    "\n",
    "Load the data set from https://archive.ics.uci.edu/ml/machine-learning-databases/00484/tripadvisor_review.csv and clean it so that only the Category # columns are in the data frame (i.e., remove the User ID column). "
   ]
  },
  {
   "cell_type": "code",
   "execution_count": null,
   "metadata": {
    "deletable": false,
    "nbgrader": {
     "cell_type": "code",
     "checksum": "563447656929240ce04e5530f5d1a9d5",
     "grade": true,
     "grade_id": "cell-f405eb5c11942445",
     "locked": false,
     "points": 3,
     "schema_version": 3,
     "solution": true
    }
   },
   "outputs": [],
   "source": [
    "# your code here\n",
    "fail() # No Answer - remove if you provide an answer"
   ]
  },
  {
   "cell_type": "markdown",
   "metadata": {
    "deletable": false,
    "editable": false,
    "nbgrader": {
     "cell_type": "markdown",
     "checksum": "b78a44bfc5b61ecb3aa9badb73508d6c",
     "grade": false,
     "grade_id": "cell-4b9f74303428862b",
     "locked": true,
     "schema_version": 3,
     "solution": false
    }
   },
   "source": [
    "**Question 2.1**\n",
    "<br> {points: 3}\n",
    "\n",
    "Perform k-means and vary K from 1 to 10 to identify the optimal number of clusters. Create an elbow plot to help you choose K. At all steps use `nstart = 100` and do not forget to set a seed. "
   ]
  },
  {
   "cell_type": "code",
   "execution_count": null,
   "metadata": {
    "deletable": false,
    "nbgrader": {
     "cell_type": "code",
     "checksum": "33a13faaf7c25ec089287c4e2261f26c",
     "grade": true,
     "grade_id": "cell-62833cac0177ae24",
     "locked": false,
     "points": 3,
     "schema_version": 3,
     "solution": true
    }
   },
   "outputs": [],
   "source": [
    "#DON'T CHANGE THIS SEED VALUE\n",
    "set.seed(2019)\n",
    "\n",
    "# your code here\n",
    "fail() # No Answer - remove if you provide an answer"
   ]
  },
  {
   "cell_type": "markdown",
   "metadata": {
    "deletable": false,
    "editable": false,
    "nbgrader": {
     "cell_type": "markdown",
     "checksum": "a9c136b49d9198a977bf09280628c148",
     "grade": false,
     "grade_id": "cell-c6b0005cf3b6f5d5",
     "locked": true,
     "schema_version": 3,
     "solution": false,
     "task": false
    }
   },
   "source": [
    "**Question 2.2**\n",
    "<br> {points: 3}\n",
    "\n",
    "From the elbow plot above, which K should you choose? Explain why you chose that K."
   ]
  },
  {
   "cell_type": "markdown",
   "metadata": {
    "deletable": false,
    "nbgrader": {
     "cell_type": "markdown",
     "checksum": "1f66073645111f45c2672b1e2e06a524",
     "grade": true,
     "grade_id": "cell-2b5c7955cd9d8bd3",
     "locked": false,
     "points": 3,
     "schema_version": 3,
     "solution": true
    }
   },
   "source": [
    "DOUBLE CLICK TO EDIT **THIS CELL** AND REPLACE THIS TEXT WITH YOUR ANSWER."
   ]
  },
  {
   "cell_type": "markdown",
   "metadata": {
    "deletable": false,
    "editable": false,
    "nbgrader": {
     "cell_type": "markdown",
     "checksum": "f39ac9ed6fd02d3d9b321af2ed60c7f2",
     "grade": false,
     "grade_id": "cell-10b5cae4c72389b8",
     "locked": true,
     "schema_version": 3,
     "solution": false
    }
   },
   "source": [
    "**Question 2.3**\n",
    "<br> {points: 3}\n",
    "\n",
    "Run kmeans (don't forget `nstart`) again, with the optimal K, and then use the `augment` function to get the cluster assignments for each point. Name the data frame `cluster_assignments`."
   ]
  },
  {
   "cell_type": "code",
   "execution_count": null,
   "metadata": {
    "deletable": false,
    "nbgrader": {
     "cell_type": "code",
     "checksum": "ec6fedead5dd30df11fdc070f936341a",
     "grade": true,
     "grade_id": "cell-1ac55da2934ef5f6",
     "locked": false,
     "points": 3,
     "schema_version": 3,
     "solution": true
    }
   },
   "outputs": [],
   "source": [
    "#DONT CHANGE THIS SEED VALUE\n",
    "set.seed(2019)\n",
    "\n",
    "# your code here\n",
    "fail() # No Answer - remove if you provide an answer\n",
    "head(cluster_assignments)"
   ]
  },
  {
   "cell_type": "markdown",
   "metadata": {
    "deletable": false,
    "editable": false,
    "nbgrader": {
     "cell_type": "markdown",
     "checksum": "1c35eff391240f9a71b2ca7e0cad360e",
     "grade": false,
     "grade_id": "cell-151f7ff6a6ca3b1e",
     "locked": true,
     "schema_version": 3,
     "solution": false,
     "task": false
    }
   },
   "source": [
    "For the following 2 questions use the following plot as reference."
   ]
  },
  {
   "cell_type": "code",
   "execution_count": null,
   "metadata": {
    "deletable": false,
    "editable": false,
    "nbgrader": {
     "cell_type": "code",
     "checksum": "271f6a50d4f0627af8c7524c2171aa71",
     "grade": false,
     "grade_id": "cell-cf5d233797355afc",
     "locked": true,
     "schema_version": 3,
     "solution": false,
     "task": false
    }
   },
   "outputs": [],
   "source": [
    "options(repr.plot.height = 6, repr.plot.width = 8)\n",
    "cluster_assignments %>%\n",
    "    gather(key = 'category', value = 'value', -.cluster) %>%\n",
    "    ggplot(aes(value, fill = .cluster)) +\n",
    "        geom_density(alpha = 0.4, colour = 'white') +\n",
    "        facet_wrap(~ category, scales = 'free') +\n",
    "        theme_minimal()"
   ]
  },
  {
   "cell_type": "markdown",
   "metadata": {
    "deletable": false,
    "editable": false,
    "nbgrader": {
     "cell_type": "markdown",
     "checksum": "25cbe717e7189027879cb2a60897ff74",
     "grade": false,
     "grade_id": "cell-8b8b18b8d8879898",
     "locked": true,
     "schema_version": 3,
     "solution": false,
     "task": false
    }
   },
   "source": [
    "**Question 2.4**\n",
    "<br> {points: 3}\n",
    "\n",
    "From the plots above, which categories might we hypothesize are driving the clustering? (i.e., are useful to distinguish between the type of tourists?) And explain why you think so for each category? We list the table of the categories below. \n",
    "\n",
    "- Category 1 : Average user feedback on art galleries \n",
    "- Category 2 : Average user feedback on dance clubs \n",
    "- Category 3 : Average user feedback on juice bars \n",
    "- Category 4 : Average user feedback on restaurants \n",
    "- Category 5 : Average user feedback on museums \n",
    "- Category 6 : Average user feedback on resorts \n",
    "- Category 7 : Average user feedback on parks/picnic spots \n",
    "- Category 8 : Average user feedback on beaches \n",
    "- Category 9 : Average user feedback on theaters \n",
    "- Category 10 : Average user feedback on religious institutions"
   ]
  },
  {
   "cell_type": "markdown",
   "metadata": {
    "deletable": false,
    "nbgrader": {
     "cell_type": "markdown",
     "checksum": "549dd55e68c8b4d51af7a8d93c870d3f",
     "grade": true,
     "grade_id": "cell-84cc3e17b9ba9acb",
     "locked": false,
     "points": 3,
     "schema_version": 3,
     "solution": true
    }
   },
   "source": [
    "DOUBLE CLICK TO EDIT **THIS CELL** AND REPLACE THIS TEXT WITH YOUR ANSWER."
   ]
  },
  {
   "cell_type": "markdown",
   "metadata": {
    "deletable": false,
    "editable": false,
    "nbgrader": {
     "cell_type": "markdown",
     "checksum": "4e88debcde2933648d98bfd7df3fc153",
     "grade": false,
     "grade_id": "cell-ec41e7e431266a81",
     "locked": true,
     "schema_version": 3,
     "solution": false
    }
   },
   "source": [
    "**Question 2.5**\n",
    "<br> {points: 3}\n",
    "\n",
    "Discuss one disadvantage of not being able to visualize the clusters when dealing with multidimensional data. "
   ]
  },
  {
   "cell_type": "markdown",
   "metadata": {
    "deletable": false,
    "nbgrader": {
     "cell_type": "markdown",
     "checksum": "6aa07296068fc814a0dbccd9fdecf790",
     "grade": true,
     "grade_id": "cell-18cf13d05bed9065",
     "locked": false,
     "points": 3,
     "schema_version": 3,
     "solution": true
    }
   },
   "source": [
    "DOUBLE CLICK TO EDIT **THIS CELL** AND REPLACE THIS TEXT WITH YOUR ANSWER."
   ]
  }
 ],
 "metadata": {
  "kernelspec": {
   "display_name": "R",
   "language": "R",
   "name": "ir"
  },
  "language_info": {
   "codemirror_mode": "r",
   "file_extension": ".r",
   "mimetype": "text/x-r-source",
   "name": "R",
   "pygments_lexer": "r",
   "version": "3.6.1"
  }
 },
 "nbformat": 4,
 "nbformat_minor": 2
}
